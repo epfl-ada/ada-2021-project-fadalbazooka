{
 "cells": [
  {
   "cell_type": "markdown",
   "id": "c2255ed1-2237-44f4-98de-e4c03635e328",
   "metadata": {},
   "source": [
    "#### Stance detection with Machine learning\n",
    "\n",
    "## Introduction\n",
    "We wanted to detect stance of each quote we had in relation with same-sex marriage. We searched what already existed in the litterature and we found a challenge that took place in 2017 named FakeNewsChallenge where one of the challenges was to find stance detection of a body in relation with a headline.\n",
    "\n",
    "The algorithm we took was from a UCL team which based their work on the paper *[A simple but tough-to-beat baseline for the Fake News Challenge stance detection task](http://arxiv.org/abs/1707.03264)* from Benjamin Riedel, Isabelle Augenstein, GeorgiosP.Spithourakis and Sebastian Riedel. \n",
    "The algorithm takes as input a csv file with headlines and a csv file with bodies and outputs the stance of each quote with 4 different possibilities : agree, disagree, discuss and unrelated \n",
    "\n",
    "We had to adapt this model in order to have the best possible results. Indeed, we started by using it with the same headline for all the quotes which gave us mostly unrelated stances. We decided to take multiple headlines and to run the model with the same body for each headline. We then combined the results each run with each headline in order to get better results. \n",
    "\n",
    "However, we decided to not use the values we found because there was not enough diversity in our results. \n",
    "\n",
    "This file runs the model named pred.py for each headline and we choose manually each headline before launching the model. \n"
   ]
  },
  {
   "cell_type": "code",
   "execution_count": 6,
   "id": "0c7953ca",
   "metadata": {},
   "outputs": [],
   "source": [
    "import numpy as np\n",
    "import pandas as pd\n",
    "import pred as pred"
   ]
  },
  {
   "cell_type": "markdown",
   "id": "7d8b41ea",
   "metadata": {},
   "source": [
    "Creating the constant valies"
   ]
  },
  {
   "cell_type": "code",
   "execution_count": 15,
   "id": "41219a1b",
   "metadata": {},
   "outputs": [],
   "source": [
    "SIZE_SSM = 32788\n",
    "headlines_fn = \"headlines_final.csv\"\n",
    "temp_headlines_fn = \"headlines.csv\"\n",
    "predictions_fn = \"final_predictions.csv\"\n",
    "quotes_fn = \"data_ssm\"\n",
    "df_headlines = pd.read_csv(headlines_fn)\n",
    "quotes = \"data_ssm.csv\""
   ]
  },
  {
   "cell_type": "markdown",
   "id": "92da1761-6984-407e-bb9c-345a7c1191cd",
   "metadata": {},
   "source": [
    "The next cell gets the different files and creates the dataframes that will be used for the output and the machine learning model. "
   ]
  },
  {
   "cell_type": "code",
   "execution_count": 16,
   "id": "a1c1c2aa",
   "metadata": {},
   "outputs": [],
   "source": [
    "df_model_output = pd.read_csv(\"model_output.csv\")\n",
    "df_output = pd.DataFrame(index=range(32788), columns=['stance'])\n",
    "h_dataframe = pd.DataFrame(index=range(32788))\n",
    "h_dataframe['Headline'] = df_headlines['headline'][9]\n",
    "h_dataframe.index.names = [\"Body ID\"]\n",
    "h_dataframe.to_csv(temp_headlines_fn)"
   ]
  },
  {
   "cell_type": "markdown",
   "id": "97043a73-715f-4202-8344-2f562ac19e51",
   "metadata": {},
   "source": [
    "We run the main ml model with the inputs and save the results in a csv file that will be used below for the analysis of the outputs. This run will output a dataframe with a column with the stance of the body related to one headline. "
   ]
  },
  {
   "cell_type": "code",
   "execution_count": 17,
   "id": "b9fac7c8-ecbb-418b-a169-6efed86abc1b",
   "metadata": {},
   "outputs": [
    {
     "name": "stdout",
     "output_type": "stream",
     "text": [
      "headlines.csv data_ssm.csv final_predictions.csv\n"
     ]
    },
    {
     "ename": "AttributeError",
     "evalue": "module 'tensorflow' has no attribute 'placeholder'",
     "output_type": "error",
     "traceback": [
      "\u001b[0;31m---------------------------------------------------------------------------\u001b[0m",
      "\u001b[0;31mAttributeError\u001b[0m                            Traceback (most recent call last)",
      "\u001b[0;32m<ipython-input-17-468166f19932>\u001b[0m in \u001b[0;36m<module>\u001b[0;34m\u001b[0m\n\u001b[0;32m----> 1\u001b[0;31m \u001b[0mpred\u001b[0m\u001b[0;34m.\u001b[0m\u001b[0mmain\u001b[0m\u001b[0;34m(\u001b[0m\u001b[0mtemp_headlines_fn\u001b[0m\u001b[0;34m,\u001b[0m \u001b[0mquotes\u001b[0m\u001b[0;34m,\u001b[0m \u001b[0mpredictions_fn\u001b[0m\u001b[0;34m)\u001b[0m\u001b[0;34m\u001b[0m\u001b[0;34m\u001b[0m\u001b[0m\n\u001b[0m\u001b[1;32m      2\u001b[0m \u001b[0mdf_pred\u001b[0m \u001b[0;34m=\u001b[0m \u001b[0mpd\u001b[0m\u001b[0;34m.\u001b[0m\u001b[0mread_csv\u001b[0m\u001b[0;34m(\u001b[0m\u001b[0mpredictions_fn\u001b[0m\u001b[0;34m)\u001b[0m\u001b[0;34m\u001b[0m\u001b[0;34m\u001b[0m\u001b[0m\n\u001b[1;32m      3\u001b[0m \u001b[0mdf_pred\u001b[0m\u001b[0;34m.\u001b[0m\u001b[0mhead\u001b[0m\u001b[0;34m(\u001b[0m\u001b[0;36m10\u001b[0m\u001b[0;34m)\u001b[0m\u001b[0;34m\u001b[0m\u001b[0;34m\u001b[0m\u001b[0m\n",
      "\u001b[0;32m~/Documents/Master/ADA/ada-2021-project-fadalbazooka/4_stance_analysis/pred.py\u001b[0m in \u001b[0;36mmain\u001b[0;34m(fn_head, fn_bodies, fn_pred)\u001b[0m\n\u001b[1;32m     60\u001b[0m \u001b[0;34m\u001b[0m\u001b[0m\n\u001b[1;32m     61\u001b[0m     \u001b[0;31m# Create placeholders\u001b[0m\u001b[0;34m\u001b[0m\u001b[0;34m\u001b[0m\u001b[0;34m\u001b[0m\u001b[0m\n\u001b[0;32m---> 62\u001b[0;31m     \u001b[0mfeatures_pl\u001b[0m \u001b[0;34m=\u001b[0m \u001b[0mtf\u001b[0m\u001b[0;34m.\u001b[0m\u001b[0mplaceholder\u001b[0m\u001b[0;34m(\u001b[0m\u001b[0mtf\u001b[0m\u001b[0;34m.\u001b[0m\u001b[0mfloat32\u001b[0m\u001b[0;34m,\u001b[0m \u001b[0;34m[\u001b[0m\u001b[0;32mNone\u001b[0m\u001b[0;34m,\u001b[0m \u001b[0mfeature_size\u001b[0m\u001b[0;34m]\u001b[0m\u001b[0;34m,\u001b[0m \u001b[0;34m'features'\u001b[0m\u001b[0;34m)\u001b[0m\u001b[0;34m\u001b[0m\u001b[0;34m\u001b[0m\u001b[0m\n\u001b[0m\u001b[1;32m     63\u001b[0m     \u001b[0mstances_pl\u001b[0m \u001b[0;34m=\u001b[0m \u001b[0mtf\u001b[0m\u001b[0;34m.\u001b[0m\u001b[0mplaceholder\u001b[0m\u001b[0;34m(\u001b[0m\u001b[0mtf\u001b[0m\u001b[0;34m.\u001b[0m\u001b[0mint64\u001b[0m\u001b[0;34m,\u001b[0m \u001b[0;34m[\u001b[0m\u001b[0;32mNone\u001b[0m\u001b[0;34m]\u001b[0m\u001b[0;34m,\u001b[0m \u001b[0;34m'stances'\u001b[0m\u001b[0;34m)\u001b[0m\u001b[0;34m\u001b[0m\u001b[0;34m\u001b[0m\u001b[0m\n\u001b[1;32m     64\u001b[0m     \u001b[0mkeep_prob_pl\u001b[0m \u001b[0;34m=\u001b[0m \u001b[0mtf\u001b[0m\u001b[0;34m.\u001b[0m\u001b[0mplaceholder\u001b[0m\u001b[0;34m(\u001b[0m\u001b[0mtf\u001b[0m\u001b[0;34m.\u001b[0m\u001b[0mfloat32\u001b[0m\u001b[0;34m)\u001b[0m\u001b[0;34m\u001b[0m\u001b[0;34m\u001b[0m\u001b[0m\n",
      "\u001b[0;31mAttributeError\u001b[0m: module 'tensorflow' has no attribute 'placeholder'"
     ]
    }
   ],
   "source": [
    "pred.main(temp_headlines_fn, quotes, predictions_fn)\n",
    "df_pred = pd.read_csv(predictions_fn)\n",
    "df_pred.head(10)"
   ]
  },
  {
   "cell_type": "markdown",
   "id": "8a343460-7b4a-4aa7-a184-5e31a1b3209c",
   "metadata": {},
   "source": [
    "After getting the stance of each body related to the same headline, we update the model output dataframe with the 4 results by body and we increase the value in the case corresponding to the result. "
   ]
  },
  {
   "cell_type": "code",
   "execution_count": null,
   "id": "99bb9e13-901b-4268-8637-1601af3be498",
   "metadata": {},
   "outputs": [],
   "source": [
    "for num, predi in df_pred.iterrows():\n",
    "    if predi['Stance'] == \"agree\":\n",
    "        df_model_output['agree'][num] += 1\n",
    "    elif predi['Stance'] == \"disagree\":\n",
    "        df_model_output['disagree'][num] += 1\n",
    "    elif predi['Stance'] == \"discuss\":\n",
    "        df_model_output['discuss'][num] += 1 \n",
    "    elif predi['Stance'] == \"unrelated\":\n",
    "        df_model_output['unrelated'][num] += 1 \n",
    "print(\"ended the first for\")  \n",
    "df_model_output.to_csv(r'model_output.csv')"
   ]
  },
  {
   "cell_type": "markdown",
   "id": "fa93509a-0cb2-4a1c-810b-4051cd109be1",
   "metadata": {},
   "source": [
    "Finally, we create the last model which will output the value of the dataset by keeping, for each row, the result with the highest value between 'agree', 'disagree', 'discuss' and if for all of these possibilities, the value is 0, then keep unrelated otherwise. The default value in our output will be unrelated."
   ]
  },
  {
   "cell_type": "code",
   "execution_count": null,
   "id": "baef8816",
   "metadata": {},
   "outputs": [],
   "source": [
    "df_model_output = pd.read_csv(\"model_output.csv\")\n",
    "df_output = pd.DataFrame(index=range(32788), columns=['stance'])\n",
    "for num, row in df_model_output.iterrows():\n",
    "    if(row.agree != 0 or row.disagree != 0 or row.discuss !=0):\n",
    "        if(row['agree'] > row['disagree'] and row['agree'] > row['discuss']):\n",
    "            df_output['stance'][num] = 'agree'\n",
    "        elif(row['disagree'] > row['agree'] and row['disagree'] > row['discuss']):\n",
    "            df_output['stance'][num] = 'disagree'\n",
    "        else:\n",
    "            df_output['stance'][num] = 'discuss'\n",
    "    else:\n",
    "        df_output['stance'][num] = 'unrelated'\n",
    "df_output.to_csv(r'headlines_final/final_predictions.csv')"
   ]
  }
 ],
 "metadata": {
  "kernelspec": {
   "display_name": "Python 3",
   "language": "python",
   "name": "python3"
  },
  "language_info": {
   "codemirror_mode": {
    "name": "ipython",
    "version": 3
   },
   "file_extension": ".py",
   "mimetype": "text/x-python",
   "name": "python",
   "nbconvert_exporter": "python",
   "pygments_lexer": "ipython3",
   "version": "3.8.8"
  }
 },
 "nbformat": 4,
 "nbformat_minor": 5
}
