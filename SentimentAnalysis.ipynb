{
 "cells": [
  {
   "cell_type": "code",
   "execution_count": 1,
   "id": "ae9be48d-19e7-42d1-8945-9321c2a21a2c",
   "metadata": {},
   "outputs": [],
   "source": [
    "import pandas as pd\n",
    "import seaborn as sns \n",
    "from matplotlib import pyplot as plt \n",
    "import pandas as pd\n",
    "import numpy as np\n",
    "import os"
   ]
  },
  {
   "cell_type": "code",
   "execution_count": 2,
   "id": "b14b53a1-9da4-4432-98a1-6914cdff0f4e",
   "metadata": {},
   "outputs": [],
   "source": [
    "cleaned_df = pd.read_json(\"filtered.json.zip\", compression = 'zip')"
   ]
  },
  {
   "cell_type": "markdown",
   "id": "6368cf61-03e2-43d2-b14e-baf5b554e4e0",
   "metadata": {},
   "source": [
    "## Sentiment analysis using VADER"
   ]
  },
  {
   "cell_type": "code",
   "execution_count": 3,
   "id": "23ff66f7-3952-4fbc-82f5-c0dabed94d8f",
   "metadata": {},
   "outputs": [],
   "source": [
    "from nltk.sentiment import SentimentIntensityAnalyzer"
   ]
  },
  {
   "cell_type": "code",
   "execution_count": 4,
   "id": "9bf9d215-cca5-4c3c-a015-4b8be0c72a16",
   "metadata": {},
   "outputs": [],
   "source": [
    "def get_sentiment_intensity(tweet_text):\n",
    "    '''\n",
    "    This method returns the sentiment intensity\n",
    "    within a certain Tweet's text (from -1.0 to 1.0).\n",
    "    '''\n",
    "    sentiment_analyser = SentimentIntensityAnalyzer()\n",
    "    polarity_scores = sentiment_analyser.polarity_scores(tweet_text)\n",
    "    return polarity_scores['compound']"
   ]
  },
  {
   "cell_type": "code",
   "execution_count": 8,
   "id": "344c69d7-2804-4e6b-8899-7550289ba422",
   "metadata": {},
   "outputs": [],
   "source": [
    "cleaned_df['Sentiment'] = cleaned_df['Quote'].apply(lambda x: get_sentiment_intensity(x))"
   ]
  },
  {
   "cell_type": "code",
   "execution_count": 12,
   "id": "3673cb7c-b42c-4f13-9067-899a158cbade",
   "metadata": {},
   "outputs": [
    {
     "data": {
      "text/html": [
       "<div>\n",
       "<style scoped>\n",
       "    .dataframe tbody tr th:only-of-type {\n",
       "        vertical-align: middle;\n",
       "    }\n",
       "\n",
       "    .dataframe tbody tr th {\n",
       "        vertical-align: top;\n",
       "    }\n",
       "\n",
       "    .dataframe thead th {\n",
       "        text-align: right;\n",
       "    }\n",
       "</style>\n",
       "<table border=\"1\" class=\"dataframe\">\n",
       "  <thead>\n",
       "    <tr style=\"text-align: right;\">\n",
       "      <th></th>\n",
       "      <th>date_of_birth</th>\n",
       "      <th>nationality</th>\n",
       "      <th>gender</th>\n",
       "      <th>occupation</th>\n",
       "      <th>Speaker</th>\n",
       "      <th>Quote</th>\n",
       "      <th>numOccurrences</th>\n",
       "      <th>quote_year</th>\n",
       "      <th>quote_month</th>\n",
       "      <th>Sentiment</th>\n",
       "    </tr>\n",
       "  </thead>\n",
       "  <tbody>\n",
       "    <tr>\n",
       "      <th>7704</th>\n",
       "      <td>1956</td>\n",
       "      <td>[United States of America]</td>\n",
       "      <td>[female]</td>\n",
       "      <td>[politician]</td>\n",
       "      <td>annise parker</td>\n",
       "      <td>you would have to travel 520 miles north or 90...</td>\n",
       "      <td>2</td>\n",
       "      <td>2019</td>\n",
       "      <td>1</td>\n",
       "      <td>0.0772</td>\n",
       "    </tr>\n",
       "    <tr>\n",
       "      <th>4647</th>\n",
       "      <td>1982</td>\n",
       "      <td>[United States of America]</td>\n",
       "      <td>[male]</td>\n",
       "      <td>[politician, military officer, statesperson]</td>\n",
       "      <td>pete buttigieg</td>\n",
       "      <td>I have an idea on how we can stop sexism on th...</td>\n",
       "      <td>1</td>\n",
       "      <td>2020</td>\n",
       "      <td>2</td>\n",
       "      <td>-0.2960</td>\n",
       "    </tr>\n",
       "    <tr>\n",
       "      <th>112716</th>\n",
       "      <td>1983</td>\n",
       "      <td>[United States of America]</td>\n",
       "      <td>[male]</td>\n",
       "      <td>[ice hockey player]</td>\n",
       "      <td>ryan carter</td>\n",
       "      <td>What Folau fails to understand is the differen...</td>\n",
       "      <td>1</td>\n",
       "      <td>2019</td>\n",
       "      <td>6</td>\n",
       "      <td>-0.4215</td>\n",
       "    </tr>\n",
       "    <tr>\n",
       "      <th>96148</th>\n",
       "      <td>1976</td>\n",
       "      <td>[United Kingdom]</td>\n",
       "      <td>[female]</td>\n",
       "      <td>[sports journalist]</td>\n",
       "      <td>carrie davis</td>\n",
       "      <td>New York City's forward-thinking and progressi...</td>\n",
       "      <td>1</td>\n",
       "      <td>2017</td>\n",
       "      <td>3</td>\n",
       "      <td>0.7717</td>\n",
       "    </tr>\n",
       "    <tr>\n",
       "      <th>14563</th>\n",
       "      <td>1886</td>\n",
       "      <td>[United States of America]</td>\n",
       "      <td>[male]</td>\n",
       "      <td>[baseball player]</td>\n",
       "      <td>ty cobb</td>\n",
       "      <td>This is not just a fight over words on a piece...</td>\n",
       "      <td>1</td>\n",
       "      <td>2017</td>\n",
       "      <td>11</td>\n",
       "      <td>0.2924</td>\n",
       "    </tr>\n",
       "    <tr>\n",
       "      <th>7</th>\n",
       "      <td>1971</td>\n",
       "      <td>[United States of America]</td>\n",
       "      <td>[female]</td>\n",
       "      <td>[LGBTIQ+ rights activist]</td>\n",
       "      <td>sarah kate ellis</td>\n",
       "      <td>These ads have the potential to accelerate muc...</td>\n",
       "      <td>1</td>\n",
       "      <td>2015</td>\n",
       "      <td>12</td>\n",
       "      <td>0.4588</td>\n",
       "    </tr>\n",
       "    <tr>\n",
       "      <th>44438</th>\n",
       "      <td>1986</td>\n",
       "      <td>[United States of America]</td>\n",
       "      <td>[male]</td>\n",
       "      <td>[politician]</td>\n",
       "      <td>jeremy moss</td>\n",
       "      <td>says he is gay as well as a practicing Jew,</td>\n",
       "      <td>3</td>\n",
       "      <td>2019</td>\n",
       "      <td>6</td>\n",
       "      <td>0.2732</td>\n",
       "    </tr>\n",
       "    <tr>\n",
       "      <th>78301</th>\n",
       "      <td>1945</td>\n",
       "      <td>[British India, Dominion of India, India]</td>\n",
       "      <td>[female]</td>\n",
       "      <td>[film director, screenwriter, film actor]</td>\n",
       "      <td>aparna sen</td>\n",
       "      <td>Self-centered, do nothing for society, no comm...</td>\n",
       "      <td>73</td>\n",
       "      <td>2017</td>\n",
       "      <td>6</td>\n",
       "      <td>0.7619</td>\n",
       "    </tr>\n",
       "    <tr>\n",
       "      <th>86745</th>\n",
       "      <td>1980</td>\n",
       "      <td>[United States of America]</td>\n",
       "      <td>[male]</td>\n",
       "      <td>[film actor, stage actor, television actor, vo...</td>\n",
       "      <td>jake gyllenhaal</td>\n",
       "      <td>I did grow up in a family where both my sister...</td>\n",
       "      <td>1</td>\n",
       "      <td>2017</td>\n",
       "      <td>5</td>\n",
       "      <td>-0.5267</td>\n",
       "    </tr>\n",
       "    <tr>\n",
       "      <th>114095</th>\n",
       "      <td>1955</td>\n",
       "      <td>[United States of America]</td>\n",
       "      <td>[male]</td>\n",
       "      <td>[mathematician]</td>\n",
       "      <td>william goldman</td>\n",
       "      <td>If homosexuals have an enemy it is age. And Ga...</td>\n",
       "      <td>1</td>\n",
       "      <td>2019</td>\n",
       "      <td>10</td>\n",
       "      <td>-0.9485</td>\n",
       "    </tr>\n",
       "  </tbody>\n",
       "</table>\n",
       "</div>"
      ],
      "text/plain": [
       "       date_of_birth                                nationality    gender  \\\n",
       "7704            1956                 [United States of America]  [female]   \n",
       "4647            1982                 [United States of America]    [male]   \n",
       "112716          1983                 [United States of America]    [male]   \n",
       "96148           1976                           [United Kingdom]  [female]   \n",
       "14563           1886                 [United States of America]    [male]   \n",
       "7               1971                 [United States of America]  [female]   \n",
       "44438           1986                 [United States of America]    [male]   \n",
       "78301           1945  [British India, Dominion of India, India]  [female]   \n",
       "86745           1980                 [United States of America]    [male]   \n",
       "114095          1955                 [United States of America]    [male]   \n",
       "\n",
       "                                               occupation           Speaker  \\\n",
       "7704                                         [politician]     annise parker   \n",
       "4647         [politician, military officer, statesperson]    pete buttigieg   \n",
       "112716                                [ice hockey player]       ryan carter   \n",
       "96148                                 [sports journalist]      carrie davis   \n",
       "14563                                   [baseball player]           ty cobb   \n",
       "7                               [LGBTIQ+ rights activist]  sarah kate ellis   \n",
       "44438                                        [politician]       jeremy moss   \n",
       "78301           [film director, screenwriter, film actor]        aparna sen   \n",
       "86745   [film actor, stage actor, television actor, vo...   jake gyllenhaal   \n",
       "114095                                    [mathematician]   william goldman   \n",
       "\n",
       "                                                    Quote  numOccurrences  \\\n",
       "7704    you would have to travel 520 miles north or 90...               2   \n",
       "4647    I have an idea on how we can stop sexism on th...               1   \n",
       "112716  What Folau fails to understand is the differen...               1   \n",
       "96148   New York City's forward-thinking and progressi...               1   \n",
       "14563   This is not just a fight over words on a piece...               1   \n",
       "7       These ads have the potential to accelerate muc...               1   \n",
       "44438         says he is gay as well as a practicing Jew,               3   \n",
       "78301   Self-centered, do nothing for society, no comm...              73   \n",
       "86745   I did grow up in a family where both my sister...               1   \n",
       "114095  If homosexuals have an enemy it is age. And Ga...               1   \n",
       "\n",
       "        quote_year  quote_month  Sentiment  \n",
       "7704          2019            1     0.0772  \n",
       "4647          2020            2    -0.2960  \n",
       "112716        2019            6    -0.4215  \n",
       "96148         2017            3     0.7717  \n",
       "14563         2017           11     0.2924  \n",
       "7             2015           12     0.4588  \n",
       "44438         2019            6     0.2732  \n",
       "78301         2017            6     0.7619  \n",
       "86745         2017            5    -0.5267  \n",
       "114095        2019           10    -0.9485  "
      ]
     },
     "execution_count": 12,
     "metadata": {},
     "output_type": "execute_result"
    }
   ],
   "source": [
    "cleaned_df.sample(10)"
   ]
  },
  {
   "cell_type": "code",
   "execution_count": 11,
   "id": "ed76305e-78a1-4d95-95fb-b3b533647994",
   "metadata": {},
   "outputs": [],
   "source": [
    "cleaned_df.to_pickle(\"added_sentiment.pkl\")"
   ]
  },
  {
   "cell_type": "code",
   "execution_count": 20,
   "id": "7638167e-d493-450f-b65b-866eaad56953",
   "metadata": {},
   "outputs": [
    {
     "data": {
      "text/plain": [
       "\"but his record as governor [ of Massachusetts ] was very, very weak. In fact, he led the country on three of the left's most cherished issues -- cap and trade, gay marriage, and socialized medicine. Some of this legislation served as a model for national versions of those same policies. He really is the leader of the RINOs in America today. With the Senate barely under Republican control, Romney is now in a position to break off a few key senators and cause Trump trouble as Trump pursues an America First agenda.\""
      ]
     },
     "execution_count": 20,
     "metadata": {},
     "output_type": "execute_result"
    }
   ],
   "source": [
    "cleaned_df.iloc[114095][\"Quote\"]"
   ]
  },
  {
   "cell_type": "markdown",
   "id": "10498a0d-729d-4d66-8497-739c8e5a137f",
   "metadata": {},
   "source": [
    "## Plots of sentiments"
   ]
  },
  {
   "cell_type": "code",
   "execution_count": 2,
   "id": "1fc3fa24-6a14-4725-ad04-67b1cbc39fd2",
   "metadata": {},
   "outputs": [],
   "source": [
    "unpickled_df = pd.read_pickle(\"added_sentiment.pkl\")"
   ]
  },
  {
   "cell_type": "code",
   "execution_count": 6,
   "id": "7d2d086c-fa68-4782-9f30-be83469636a3",
   "metadata": {},
   "outputs": [
    {
     "data": {
      "image/png": "[encoded data removed]",
      "text/plain": [
       "<Figure size 576x432 with 1 Axes>"
      ]
     },
     "metadata": {
      "needs_background": "light"
     },
     "output_type": "display_data"
    }
   ],
   "source": [
    "fig, ax = plt.subplots(figsize=(8, 6))\n",
    "\n",
    "# Plot histogram of the polarity values\n",
    "unpickled_df[\"Sentiment\"].hist(bins=30,\n",
    "             ax=ax,\n",
    "             color=\"purple\")\n",
    "\n",
    "plt.title(\"Sentiments from Tweets on Gender norms\")\n",
    "plt.show()"
   ]
  },
  {
   "cell_type": "code",
   "execution_count": null,
   "id": "67c77770-297b-419a-b928-019d8e792bc8",
   "metadata": {},
   "outputs": [],
   "source": []
  }
 ],
 "metadata": {
  "kernelspec": {
   "display_name": "Python 3",
   "language": "python",
   "name": "python3"
  },
  "language_info": {
   "codemirror_mode": {
    "name": "ipython",
    "version": 3
   },
   "file_extension": ".py",
   "mimetype": "text/x-python",
   "name": "python",
   "nbconvert_exporter": "python",
   "pygments_lexer": "ipython3",
   "version": "3.8.8"
  }
 },
 "nbformat": 4,
 "nbformat_minor": 5
}
