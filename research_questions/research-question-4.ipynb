{
 "cells": [
  {
   "cell_type": "markdown",
   "id": "666d9a68-62fe-471f-a10c-221eb0393230",
   "metadata": {},
   "source": [
    "# Research question 4"
   ]
  },
  {
   "cell_type": "markdown",
   "id": "0ac01465-7b0a-4761-b4ed-3459932acb90",
   "metadata": {},
   "source": [
    "Do our sentiment analysis of gender equality opinion per country matches with related indexes (European Institute for Gender Equality https://eige.europa.eu/gender-equality-index/2021 or United Nations Development Program - Human Development Report - Gender Inequality Index http://hdr.undp.org/en/content/gender-inequality-index-gii for example) for year 2019 (latest report) ?\n"
   ]
  },
  {
   "cell_type": "markdown",
   "id": "b5abfca9-66c1-4bbd-8250-bb78e813a4d5",
   "metadata": {},
   "source": [
    "## Data loading "
   ]
  },
  {
   "cell_type": "markdown",
   "id": "ba3c346d-2a22-4dfa-b1e2-d86f197c9d0b",
   "metadata": {},
   "source": [
    "### Merging dataframes to have sentiment analysis on 'feminism' dataset"
   ]
  },
  {
   "cell_type": "code",
   "execution_count": 136,
   "id": "1b9e26fc-7e4c-4180-9f97-81fa464d6571",
   "metadata": {},
   "outputs": [],
   "source": [
    "import pandas as pd\n",
    "import numpy as np"
   ]
  },
  {
   "cell_type": "code",
   "execution_count": 137,
   "id": "16032804-225b-4da1-8006-c32430006bec",
   "metadata": {},
   "outputs": [],
   "source": [
    "df_filtered = pd.read_pickle('CleanDF.pkl')\n",
    "df_feminism = pd.read_json('feminism_part.json')\n",
    "df_feminism.nationality = [elem[0] for elem in df_feminism.nationality]\n",
    "df_feminism.gender = [elem[0] for elem in df_feminism.gender]"
   ]
  },
  {
   "cell_type": "code",
   "execution_count": 138,
   "id": "461d2a2e-341d-4368-9514-ef57ea80d1a7",
   "metadata": {},
   "outputs": [
    {
     "data": {
      "text/html": [
       "<div>\n",
       "<style scoped>\n",
       "    .dataframe tbody tr th:only-of-type {\n",
       "        vertical-align: middle;\n",
       "    }\n",
       "\n",
       "    .dataframe tbody tr th {\n",
       "        vertical-align: top;\n",
       "    }\n",
       "\n",
       "    .dataframe thead th {\n",
       "        text-align: right;\n",
       "    }\n",
       "</style>\n",
       "<table border=\"1\" class=\"dataframe\">\n",
       "  <thead>\n",
       "    <tr style=\"text-align: right;\">\n",
       "      <th></th>\n",
       "      <th>date_of_birth</th>\n",
       "      <th>nationality</th>\n",
       "      <th>gender</th>\n",
       "      <th>occupation</th>\n",
       "      <th>Speaker</th>\n",
       "      <th>Quote</th>\n",
       "      <th>numOccurrences</th>\n",
       "      <th>quote_year</th>\n",
       "      <th>quote_month</th>\n",
       "      <th>Sentiment</th>\n",
       "      <th>Sentiment Label</th>\n",
       "    </tr>\n",
       "    <tr>\n",
       "      <th>Date</th>\n",
       "      <th></th>\n",
       "      <th></th>\n",
       "      <th></th>\n",
       "      <th></th>\n",
       "      <th></th>\n",
       "      <th></th>\n",
       "      <th></th>\n",
       "      <th></th>\n",
       "      <th></th>\n",
       "      <th></th>\n",
       "      <th></th>\n",
       "    </tr>\n",
       "  </thead>\n",
       "  <tbody>\n",
       "    <tr>\n",
       "      <th>2015-11-01</th>\n",
       "      <td>1971</td>\n",
       "      <td>United States of America</td>\n",
       "      <td>female</td>\n",
       "      <td>[LGBTIQ+ rights activist]</td>\n",
       "      <td>sarah kate ellis</td>\n",
       "      <td>This loss is a wake-up call that despite remar...</td>\n",
       "      <td>2</td>\n",
       "      <td>2015</td>\n",
       "      <td>11</td>\n",
       "      <td>-0.8760</td>\n",
       "      <td>Negative</td>\n",
       "    </tr>\n",
       "    <tr>\n",
       "      <th>2015-06-01</th>\n",
       "      <td>1971</td>\n",
       "      <td>United States of America</td>\n",
       "      <td>female</td>\n",
       "      <td>[LGBTIQ+ rights activist]</td>\n",
       "      <td>sarah kate ellis</td>\n",
       "      <td>She didn't see it, she hadn't heard of it, she...</td>\n",
       "      <td>1</td>\n",
       "      <td>2015</td>\n",
       "      <td>6</td>\n",
       "      <td>0.0387</td>\n",
       "      <td>Positive</td>\n",
       "    </tr>\n",
       "    <tr>\n",
       "      <th>2015-04-01</th>\n",
       "      <td>1971</td>\n",
       "      <td>United States of America</td>\n",
       "      <td>female</td>\n",
       "      <td>[LGBTIQ+ rights activist]</td>\n",
       "      <td>sarah kate ellis</td>\n",
       "      <td>As a journalist and anchor who reaches million...</td>\n",
       "      <td>1</td>\n",
       "      <td>2015</td>\n",
       "      <td>4</td>\n",
       "      <td>0.4939</td>\n",
       "      <td>Positive</td>\n",
       "    </tr>\n",
       "    <tr>\n",
       "      <th>2015-02-01</th>\n",
       "      <td>1971</td>\n",
       "      <td>United States of America</td>\n",
       "      <td>female</td>\n",
       "      <td>[LGBTIQ+ rights activist]</td>\n",
       "      <td>sarah kate ellis</td>\n",
       "      <td>By empowering people to talk about their gende...</td>\n",
       "      <td>6</td>\n",
       "      <td>2015</td>\n",
       "      <td>2</td>\n",
       "      <td>0.7003</td>\n",
       "      <td>Positive</td>\n",
       "    </tr>\n",
       "    <tr>\n",
       "      <th>2015-01-01</th>\n",
       "      <td>1971</td>\n",
       "      <td>United States of America</td>\n",
       "      <td>female</td>\n",
       "      <td>[LGBTIQ+ rights activist]</td>\n",
       "      <td>sarah kate ellis</td>\n",
       "      <td>By investing in this dangerous programming, TL...</td>\n",
       "      <td>133</td>\n",
       "      <td>2015</td>\n",
       "      <td>1</td>\n",
       "      <td>-0.5610</td>\n",
       "      <td>Negative</td>\n",
       "    </tr>\n",
       "  </tbody>\n",
       "</table>\n",
       "</div>"
      ],
      "text/plain": [
       "           date_of_birth               nationality  gender  \\\n",
       "Date                                                         \n",
       "2015-11-01          1971  United States of America  female   \n",
       "2015-06-01          1971  United States of America  female   \n",
       "2015-04-01          1971  United States of America  female   \n",
       "2015-02-01          1971  United States of America  female   \n",
       "2015-01-01          1971  United States of America  female   \n",
       "\n",
       "                           occupation           Speaker  \\\n",
       "Date                                                      \n",
       "2015-11-01  [LGBTIQ+ rights activist]  sarah kate ellis   \n",
       "2015-06-01  [LGBTIQ+ rights activist]  sarah kate ellis   \n",
       "2015-04-01  [LGBTIQ+ rights activist]  sarah kate ellis   \n",
       "2015-02-01  [LGBTIQ+ rights activist]  sarah kate ellis   \n",
       "2015-01-01  [LGBTIQ+ rights activist]  sarah kate ellis   \n",
       "\n",
       "                                                        Quote  numOccurrences  \\\n",
       "Date                                                                            \n",
       "2015-11-01  This loss is a wake-up call that despite remar...               2   \n",
       "2015-06-01  She didn't see it, she hadn't heard of it, she...               1   \n",
       "2015-04-01  As a journalist and anchor who reaches million...               1   \n",
       "2015-02-01  By empowering people to talk about their gende...               6   \n",
       "2015-01-01  By investing in this dangerous programming, TL...             133   \n",
       "\n",
       "            quote_year  quote_month  Sentiment Sentiment Label  \n",
       "Date                                                            \n",
       "2015-11-01        2015           11    -0.8760        Negative  \n",
       "2015-06-01        2015            6     0.0387        Positive  \n",
       "2015-04-01        2015            4     0.4939        Positive  \n",
       "2015-02-01        2015            2     0.7003        Positive  \n",
       "2015-01-01        2015            1    -0.5610        Negative  "
      ]
     },
     "execution_count": 138,
     "metadata": {},
     "output_type": "execute_result"
    }
   ],
   "source": [
    "df_filtered.head(5)"
   ]
  },
  {
   "cell_type": "code",
   "execution_count": 142,
   "id": "e720f0e5-797e-4f17-8b66-f49cea352256",
   "metadata": {},
   "outputs": [
    {
     "data": {
      "text/plain": [
       "(114746, 11)"
      ]
     },
     "execution_count": 142,
     "metadata": {},
     "output_type": "execute_result"
    }
   ],
   "source": [
    "df_filtered.shape"
   ]
  },
  {
   "cell_type": "code",
   "execution_count": 143,
   "id": "63d6d7d3-8b0f-4763-b014-eeda9fb6abeb",
   "metadata": {},
   "outputs": [
    {
     "data": {
      "text/html": [
       "<div>\n",
       "<style scoped>\n",
       "    .dataframe tbody tr th:only-of-type {\n",
       "        vertical-align: middle;\n",
       "    }\n",
       "\n",
       "    .dataframe tbody tr th {\n",
       "        vertical-align: top;\n",
       "    }\n",
       "\n",
       "    .dataframe thead th {\n",
       "        text-align: right;\n",
       "    }\n",
       "</style>\n",
       "<table border=\"1\" class=\"dataframe\">\n",
       "  <thead>\n",
       "    <tr style=\"text-align: right;\">\n",
       "      <th></th>\n",
       "      <th>index</th>\n",
       "      <th>date_of_birth</th>\n",
       "      <th>nationality</th>\n",
       "      <th>gender</th>\n",
       "      <th>occupation</th>\n",
       "      <th>Speaker</th>\n",
       "      <th>Quote</th>\n",
       "      <th>numOccurrences</th>\n",
       "      <th>quote_year</th>\n",
       "      <th>quote_month</th>\n",
       "    </tr>\n",
       "  </thead>\n",
       "  <tbody>\n",
       "    <tr>\n",
       "      <th>0</th>\n",
       "      <td>1137</td>\n",
       "      <td>1973</td>\n",
       "      <td>United States of America</td>\n",
       "      <td>male</td>\n",
       "      <td>[film producer]</td>\n",
       "      <td>chad griffin</td>\n",
       "      <td>This kind of violence is often motivated by an...</td>\n",
       "      <td>3</td>\n",
       "      <td>2015</td>\n",
       "      <td>11</td>\n",
       "    </tr>\n",
       "    <tr>\n",
       "      <th>1</th>\n",
       "      <td>1233</td>\n",
       "      <td>1973</td>\n",
       "      <td>United States of America</td>\n",
       "      <td>male</td>\n",
       "      <td>[film producer]</td>\n",
       "      <td>chad griffin</td>\n",
       "      <td>Transgender women of color are facing an epide...</td>\n",
       "      <td>2</td>\n",
       "      <td>2015</td>\n",
       "      <td>11</td>\n",
       "    </tr>\n",
       "    <tr>\n",
       "      <th>2</th>\n",
       "      <td>1264</td>\n",
       "      <td>1973</td>\n",
       "      <td>United States of America</td>\n",
       "      <td>male</td>\n",
       "      <td>[film producer]</td>\n",
       "      <td>chad griffin</td>\n",
       "      <td>At a time when transgender people are finally ...</td>\n",
       "      <td>1</td>\n",
       "      <td>2015</td>\n",
       "      <td>11</td>\n",
       "    </tr>\n",
       "    <tr>\n",
       "      <th>3</th>\n",
       "      <td>1363</td>\n",
       "      <td>1973</td>\n",
       "      <td>United States of America</td>\n",
       "      <td>male</td>\n",
       "      <td>[film producer]</td>\n",
       "      <td>chad griffin</td>\n",
       "      <td>Each of these women died simply for being them...</td>\n",
       "      <td>2</td>\n",
       "      <td>2016</td>\n",
       "      <td>2</td>\n",
       "    </tr>\n",
       "    <tr>\n",
       "      <th>4</th>\n",
       "      <td>1566</td>\n",
       "      <td>1973</td>\n",
       "      <td>United States of America</td>\n",
       "      <td>male</td>\n",
       "      <td>[film producer]</td>\n",
       "      <td>chad griffin</td>\n",
       "      <td>It is crucial that we know these stories in or...</td>\n",
       "      <td>2</td>\n",
       "      <td>2017</td>\n",
       "      <td>11</td>\n",
       "    </tr>\n",
       "  </tbody>\n",
       "</table>\n",
       "</div>"
      ],
      "text/plain": [
       "   index date_of_birth               nationality gender       occupation  \\\n",
       "0   1137          1973  United States of America   male  [film producer]   \n",
       "1   1233          1973  United States of America   male  [film producer]   \n",
       "2   1264          1973  United States of America   male  [film producer]   \n",
       "3   1363          1973  United States of America   male  [film producer]   \n",
       "4   1566          1973  United States of America   male  [film producer]   \n",
       "\n",
       "        Speaker                                              Quote  \\\n",
       "0  chad griffin  This kind of violence is often motivated by an...   \n",
       "1  chad griffin  Transgender women of color are facing an epide...   \n",
       "2  chad griffin  At a time when transgender people are finally ...   \n",
       "3  chad griffin  Each of these women died simply for being them...   \n",
       "4  chad griffin  It is crucial that we know these stories in or...   \n",
       "\n",
       "   numOccurrences  quote_year  quote_month  \n",
       "0               3        2015           11  \n",
       "1               2        2015           11  \n",
       "2               1        2015           11  \n",
       "3               2        2016            2  \n",
       "4               2        2017           11  "
      ]
     },
     "execution_count": 143,
     "metadata": {},
     "output_type": "execute_result"
    }
   ],
   "source": [
    "df_feminism.head(5)"
   ]
  },
  {
   "cell_type": "code",
   "execution_count": 144,
   "id": "08adff88-19d2-41a7-9585-940ad486e1d1",
   "metadata": {},
   "outputs": [
    {
     "data": {
      "text/plain": [
       "(13556, 10)"
      ]
     },
     "execution_count": 144,
     "metadata": {},
     "output_type": "execute_result"
    }
   ],
   "source": [
    "df_feminism.shape"
   ]
  },
  {
   "cell_type": "code",
   "execution_count": 145,
   "id": "074b11ca-5ea3-4bfd-b615-241bfa6d2d53",
   "metadata": {},
   "outputs": [],
   "source": [
    "df_feminism = df_feminism[df_feminism[\"quote_year\"] == 2019]"
   ]
  },
  {
   "cell_type": "code",
   "execution_count": 146,
   "id": "08786d34-937d-42ec-9ac3-1e240370769a",
   "metadata": {},
   "outputs": [],
   "source": [
    "df_feminism = df_feminism.drop(['index', 'date_of_birth', 'gender', 'occupation', 'numOccurrences', 'quote_year', 'quote_month'], axis=1)\n"
   ]
  },
  {
   "cell_type": "code",
   "execution_count": 147,
   "id": "e8424835-45aa-4533-bd06-0af95a1e6a64",
   "metadata": {},
   "outputs": [],
   "source": [
    "df_filtered = df_filtered.drop(['date_of_birth', 'gender', 'occupation', 'numOccurrences', 'quote_year', 'quote_month', 'Sentiment Label'], axis=1)"
   ]
  },
  {
   "cell_type": "code",
   "execution_count": 148,
   "id": "9126e47c-7d70-4d59-b56e-b54c5e2d7c45",
   "metadata": {},
   "outputs": [],
   "source": [
    "new_df = df_filtered.merge(df_feminism, on=[\"Quote\"], how=\"right\")\n",
    "new_df = new_df.drop([\"nationality_x\", \"Speaker_x\", \"Quote\"], axis =1)"
   ]
  },
  {
   "cell_type": "code",
   "execution_count": 149,
   "id": "9855db56-9a8b-4907-b88e-ce40d6f660dc",
   "metadata": {},
   "outputs": [
    {
     "data": {
      "text/plain": [
       "(2473, 3)"
      ]
     },
     "execution_count": 149,
     "metadata": {},
     "output_type": "execute_result"
    }
   ],
   "source": [
    "new_df.shape"
   ]
  },
  {
   "cell_type": "code",
   "execution_count": 150,
   "id": "16550417-ee7c-4893-8130-77b2f9b2408f",
   "metadata": {},
   "outputs": [
    {
     "data": {
      "text/html": [
       "<div>\n",
       "<style scoped>\n",
       "    .dataframe tbody tr th:only-of-type {\n",
       "        vertical-align: middle;\n",
       "    }\n",
       "\n",
       "    .dataframe tbody tr th {\n",
       "        vertical-align: top;\n",
       "    }\n",
       "\n",
       "    .dataframe thead th {\n",
       "        text-align: right;\n",
       "    }\n",
       "</style>\n",
       "<table border=\"1\" class=\"dataframe\">\n",
       "  <thead>\n",
       "    <tr style=\"text-align: right;\">\n",
       "      <th></th>\n",
       "      <th>Sentiment</th>\n",
       "      <th>nationality_y</th>\n",
       "      <th>Speaker_y</th>\n",
       "    </tr>\n",
       "  </thead>\n",
       "  <tbody>\n",
       "    <tr>\n",
       "      <th>0</th>\n",
       "      <td>-0.5994</td>\n",
       "      <td>United States of America</td>\n",
       "      <td>chad griffin</td>\n",
       "    </tr>\n",
       "    <tr>\n",
       "      <th>1</th>\n",
       "      <td>-0.6684</td>\n",
       "      <td>United States of America</td>\n",
       "      <td>hillary clinton</td>\n",
       "    </tr>\n",
       "    <tr>\n",
       "      <th>2</th>\n",
       "      <td>-0.9485</td>\n",
       "      <td>United States of America</td>\n",
       "      <td>hillary clinton</td>\n",
       "    </tr>\n",
       "    <tr>\n",
       "      <th>3</th>\n",
       "      <td>-0.2960</td>\n",
       "      <td>United States of America</td>\n",
       "      <td>hillary clinton</td>\n",
       "    </tr>\n",
       "    <tr>\n",
       "      <th>4</th>\n",
       "      <td>-0.0754</td>\n",
       "      <td>United States of America</td>\n",
       "      <td>hillary clinton</td>\n",
       "    </tr>\n",
       "  </tbody>\n",
       "</table>\n",
       "</div>"
      ],
      "text/plain": [
       "   Sentiment             nationality_y        Speaker_y\n",
       "0    -0.5994  United States of America     chad griffin\n",
       "1    -0.6684  United States of America  hillary clinton\n",
       "2    -0.9485  United States of America  hillary clinton\n",
       "3    -0.2960  United States of America  hillary clinton\n",
       "4    -0.0754  United States of America  hillary clinton"
      ]
     },
     "execution_count": 150,
     "metadata": {},
     "output_type": "execute_result"
    }
   ],
   "source": [
    "new_df.head(5)"
   ]
  },
  {
   "cell_type": "markdown",
   "id": "b202b887-33c6-40ba-a03f-6f379e41d58b",
   "metadata": {},
   "source": [
    "`new_df`is the dataframe with all quotes related to feminism, with nationality and relative sentiment scores. Let's compute mean score by country, rank them and compare to the indexes."
   ]
  },
  {
   "cell_type": "markdown",
   "id": "4f23f535-eb25-4e2a-85fe-909c574488f3",
   "metadata": {},
   "source": [
    "### Aggregating sentiment by country and rank"
   ]
  },
  {
   "cell_type": "code",
   "execution_count": 151,
   "id": "2948c443-eeea-41e5-80ad-1c0b70a955c0",
   "metadata": {},
   "outputs": [
    {
     "data": {
      "text/plain": [
       "(2139, 3)"
      ]
     },
     "execution_count": 151,
     "metadata": {},
     "output_type": "execute_result"
    }
   ],
   "source": [
    "list_countries = ['United States of America', 'United Kingdom', 'Australia','Canada','India']\n",
    "new_df = new_df[new_df.nationality_y.isin(list_countries)]\n",
    "new_df.shape"
   ]
  },
  {
   "cell_type": "code",
   "execution_count": 152,
   "id": "81e6b68e-e59f-4b25-83e5-a7ad36711ee6",
   "metadata": {},
   "outputs": [
    {
     "data": {
      "text/plain": [
       "United States of America    1398\n",
       "United Kingdom               378\n",
       "India                        154\n",
       "Canada                       110\n",
       "Australia                     99\n",
       "Name: nationality_y, dtype: int64"
      ]
     },
     "execution_count": 152,
     "metadata": {},
     "output_type": "execute_result"
    }
   ],
   "source": [
    "new_df.nationality_y.value_counts()"
   ]
  },
  {
   "cell_type": "markdown",
   "id": "2ee21592-bcbd-46af-b0b3-6470b6336b8a",
   "metadata": {},
   "source": [
    "We will consider those 6 countries for analysis as they represent the most part of the dataset. Other nationalities are meanless in their number of quotes."
   ]
  },
  {
   "cell_type": "code",
   "execution_count": 153,
   "id": "f6a9112f-c6a9-4b1d-a94e-95788b0820aa",
   "metadata": {},
   "outputs": [
    {
     "data": {
      "text/plain": [
       "nationality_y\n",
       "Canada                     -0.124876\n",
       "Australia                  -0.066536\n",
       "United States of America   -0.064667\n",
       "United Kingdom             -0.054222\n",
       "India                       0.118381\n",
       "Name: Sentiment, dtype: float64"
      ]
     },
     "execution_count": 153,
     "metadata": {},
     "output_type": "execute_result"
    }
   ],
   "source": [
    "new_df.groupby(\"nationality_y\")['Sentiment'].agg('mean').sort_values()"
   ]
  },
  {
   "cell_type": "markdown",
   "id": "bf8cf7d1-46ae-4d92-a1cf-bb36250f4d10",
   "metadata": {},
   "source": [
    "The ranking we obtain on the sentiments is the following :\n",
    "India > UK > USA > Australia > Canada "
   ]
  },
  {
   "cell_type": "markdown",
   "id": "b8ba0eeb-bf81-44e0-b8a4-125b85fc3154",
   "metadata": {},
   "source": [
    "On the https://eige.europa.eu/gender-equality-index/2021 website, we can see the following ranks : \n",
    "\n",
    "- Canada : 19\n",
    "- Australia : 25 \n",
    "- UK : 31 \n",
    "- USA : 46 \n",
    "- India : 123\n"
   ]
  },
  {
   "cell_type": "markdown",
   "id": "4b7bc3c8-793b-4ece-a2ad-1ed1ada51d96",
   "metadata": {},
   "source": [
    "We can see that the score does not match with the sentiment of the speaker, for the year 2019. We chose not to integrate it then in our datastory."
   ]
  },
  {
   "cell_type": "code",
   "execution_count": null,
   "id": "691c9efb-0816-4855-862a-a2d213087893",
   "metadata": {},
   "outputs": [],
   "source": []
  }
 ],
 "metadata": {
  "kernelspec": {
   "display_name": "Python 3",
   "language": "python",
   "name": "python3"
  },
  "language_info": {
   "codemirror_mode": {
    "name": "ipython",
    "version": 3
   },
   "file_extension": ".py",
   "mimetype": "text/x-python",
   "name": "python",
   "nbconvert_exporter": "python",
   "pygments_lexer": "ipython3",
   "version": "3.8.8"
  }
 },
 "nbformat": 4,
 "nbformat_minor": 5
}
