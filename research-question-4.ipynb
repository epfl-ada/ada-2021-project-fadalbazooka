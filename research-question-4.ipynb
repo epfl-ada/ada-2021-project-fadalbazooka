{
 "cells": [
  {
   "cell_type": "code",
   "execution_count": 1,
   "id": "1b9e26fc-7e4c-4180-9f97-81fa464d6571",
   "metadata": {},
   "outputs": [],
   "source": [
    "import pandas as pd\n",
    "import numpy as np"
   ]
  },
  {
   "cell_type": "code",
   "execution_count": 2,
   "id": "16032804-225b-4da1-8006-c32430006bec",
   "metadata": {},
   "outputs": [],
   "source": [
    "df_filtered = pd.read_pickle('CleanDF.pkl')\n",
    "df_feminism = pd.read_json('feminism_part.json')\n",
    "df_feminism.nationality = [elem[0] for elem in df_feminism.nationality]\n",
    "df_feminism.gender = [elem[0] for elem in df_feminism.gender]"
   ]
  },
  {
   "cell_type": "code",
   "execution_count": 3,
   "id": "461d2a2e-341d-4368-9514-ef57ea80d1a7",
   "metadata": {},
   "outputs": [
    {
     "data": {
      "text/plain": "           date_of_birth               nationality  gender  \\\nDate                                                         \n2015-11-01          1971  United States of America  female   \n2015-06-01          1971  United States of America  female   \n2015-04-01          1971  United States of America  female   \n2015-02-01          1971  United States of America  female   \n2015-01-01          1971  United States of America  female   \n\n                           occupation           Speaker  \\\nDate                                                      \n2015-11-01  [LGBTIQ+ rights activist]  sarah kate ellis   \n2015-06-01  [LGBTIQ+ rights activist]  sarah kate ellis   \n2015-04-01  [LGBTIQ+ rights activist]  sarah kate ellis   \n2015-02-01  [LGBTIQ+ rights activist]  sarah kate ellis   \n2015-01-01  [LGBTIQ+ rights activist]  sarah kate ellis   \n\n                                                        Quote  numOccurrences  \\\nDate                                                                            \n2015-11-01  This loss is a wake-up call that despite remar...               2   \n2015-06-01  She didn't see it, she hadn't heard of it, she...               1   \n2015-04-01  As a journalist and anchor who reaches million...               1   \n2015-02-01  By empowering people to talk about their gende...               6   \n2015-01-01  By investing in this dangerous programming, TL...             133   \n\n            quote_year  quote_month  Sentiment Sentiment Label  \nDate                                                            \n2015-11-01        2015           11    -0.8760        Negative  \n2015-06-01        2015            6     0.0387        Positive  \n2015-04-01        2015            4     0.4939        Positive  \n2015-02-01        2015            2     0.7003        Positive  \n2015-01-01        2015            1    -0.5610        Negative  ",
      "text/html": "<div>\n<style scoped>\n    .dataframe tbody tr th:only-of-type {\n        vertical-align: middle;\n    }\n\n    .dataframe tbody tr th {\n        vertical-align: top;\n    }\n\n    .dataframe thead th {\n        text-align: right;\n    }\n</style>\n<table border=\"1\" class=\"dataframe\">\n  <thead>\n    <tr style=\"text-align: right;\">\n      <th></th>\n      <th>date_of_birth</th>\n      <th>nationality</th>\n      <th>gender</th>\n      <th>occupation</th>\n      <th>Speaker</th>\n      <th>Quote</th>\n      <th>numOccurrences</th>\n      <th>quote_year</th>\n      <th>quote_month</th>\n      <th>Sentiment</th>\n      <th>Sentiment Label</th>\n    </tr>\n    <tr>\n      <th>Date</th>\n      <th></th>\n      <th></th>\n      <th></th>\n      <th></th>\n      <th></th>\n      <th></th>\n      <th></th>\n      <th></th>\n      <th></th>\n      <th></th>\n      <th></th>\n    </tr>\n  </thead>\n  <tbody>\n    <tr>\n      <th>2015-11-01</th>\n      <td>1971</td>\n      <td>United States of America</td>\n      <td>female</td>\n      <td>[LGBTIQ+ rights activist]</td>\n      <td>sarah kate ellis</td>\n      <td>This loss is a wake-up call that despite remar...</td>\n      <td>2</td>\n      <td>2015</td>\n      <td>11</td>\n      <td>-0.8760</td>\n      <td>Negative</td>\n    </tr>\n    <tr>\n      <th>2015-06-01</th>\n      <td>1971</td>\n      <td>United States of America</td>\n      <td>female</td>\n      <td>[LGBTIQ+ rights activist]</td>\n      <td>sarah kate ellis</td>\n      <td>She didn't see it, she hadn't heard of it, she...</td>\n      <td>1</td>\n      <td>2015</td>\n      <td>6</td>\n      <td>0.0387</td>\n      <td>Positive</td>\n    </tr>\n    <tr>\n      <th>2015-04-01</th>\n      <td>1971</td>\n      <td>United States of America</td>\n      <td>female</td>\n      <td>[LGBTIQ+ rights activist]</td>\n      <td>sarah kate ellis</td>\n      <td>As a journalist and anchor who reaches million...</td>\n      <td>1</td>\n      <td>2015</td>\n      <td>4</td>\n      <td>0.4939</td>\n      <td>Positive</td>\n    </tr>\n    <tr>\n      <th>2015-02-01</th>\n      <td>1971</td>\n      <td>United States of America</td>\n      <td>female</td>\n      <td>[LGBTIQ+ rights activist]</td>\n      <td>sarah kate ellis</td>\n      <td>By empowering people to talk about their gende...</td>\n      <td>6</td>\n      <td>2015</td>\n      <td>2</td>\n      <td>0.7003</td>\n      <td>Positive</td>\n    </tr>\n    <tr>\n      <th>2015-01-01</th>\n      <td>1971</td>\n      <td>United States of America</td>\n      <td>female</td>\n      <td>[LGBTIQ+ rights activist]</td>\n      <td>sarah kate ellis</td>\n      <td>By investing in this dangerous programming, TL...</td>\n      <td>133</td>\n      <td>2015</td>\n      <td>1</td>\n      <td>-0.5610</td>\n      <td>Negative</td>\n    </tr>\n  </tbody>\n</table>\n</div>"
     },
     "execution_count": 3,
     "metadata": {},
     "output_type": "execute_result"
    }
   ],
   "source": [
    "df_filtered.head(5)"
   ]
  },
  {
   "cell_type": "code",
   "execution_count": 4,
   "id": "e720f0e5-797e-4f17-8b66-f49cea352256",
   "metadata": {},
   "outputs": [
    {
     "data": {
      "text/plain": "(114746, 11)"
     },
     "execution_count": 4,
     "metadata": {},
     "output_type": "execute_result"
    }
   ],
   "source": [
    "df_filtered.shape"
   ]
  },
  {
   "cell_type": "code",
   "execution_count": 5,
   "id": "63d6d7d3-8b0f-4763-b014-eeda9fb6abeb",
   "metadata": {},
   "outputs": [
    {
     "data": {
      "text/plain": "   index date_of_birth               nationality gender       occupation  \\\n0   1137          1973  United States of America   male  [film producer]   \n1   1233          1973  United States of America   male  [film producer]   \n2   1264          1973  United States of America   male  [film producer]   \n3   1363          1973  United States of America   male  [film producer]   \n4   1566          1973  United States of America   male  [film producer]   \n\n        Speaker                                              Quote  \\\n0  chad griffin  This kind of violence is often motivated by an...   \n1  chad griffin  Transgender women of color are facing an epide...   \n2  chad griffin  At a time when transgender people are finally ...   \n3  chad griffin  Each of these women died simply for being them...   \n4  chad griffin  It is crucial that we know these stories in or...   \n\n   numOccurrences  quote_year  quote_month  \n0               3        2015           11  \n1               2        2015           11  \n2               1        2015           11  \n3               2        2016            2  \n4               2        2017           11  ",
      "text/html": "<div>\n<style scoped>\n    .dataframe tbody tr th:only-of-type {\n        vertical-align: middle;\n    }\n\n    .dataframe tbody tr th {\n        vertical-align: top;\n    }\n\n    .dataframe thead th {\n        text-align: right;\n    }\n</style>\n<table border=\"1\" class=\"dataframe\">\n  <thead>\n    <tr style=\"text-align: right;\">\n      <th></th>\n      <th>index</th>\n      <th>date_of_birth</th>\n      <th>nationality</th>\n      <th>gender</th>\n      <th>occupation</th>\n      <th>Speaker</th>\n      <th>Quote</th>\n      <th>numOccurrences</th>\n      <th>quote_year</th>\n      <th>quote_month</th>\n    </tr>\n  </thead>\n  <tbody>\n    <tr>\n      <th>0</th>\n      <td>1137</td>\n      <td>1973</td>\n      <td>United States of America</td>\n      <td>male</td>\n      <td>[film producer]</td>\n      <td>chad griffin</td>\n      <td>This kind of violence is often motivated by an...</td>\n      <td>3</td>\n      <td>2015</td>\n      <td>11</td>\n    </tr>\n    <tr>\n      <th>1</th>\n      <td>1233</td>\n      <td>1973</td>\n      <td>United States of America</td>\n      <td>male</td>\n      <td>[film producer]</td>\n      <td>chad griffin</td>\n      <td>Transgender women of color are facing an epide...</td>\n      <td>2</td>\n      <td>2015</td>\n      <td>11</td>\n    </tr>\n    <tr>\n      <th>2</th>\n      <td>1264</td>\n      <td>1973</td>\n      <td>United States of America</td>\n      <td>male</td>\n      <td>[film producer]</td>\n      <td>chad griffin</td>\n      <td>At a time when transgender people are finally ...</td>\n      <td>1</td>\n      <td>2015</td>\n      <td>11</td>\n    </tr>\n    <tr>\n      <th>3</th>\n      <td>1363</td>\n      <td>1973</td>\n      <td>United States of America</td>\n      <td>male</td>\n      <td>[film producer]</td>\n      <td>chad griffin</td>\n      <td>Each of these women died simply for being them...</td>\n      <td>2</td>\n      <td>2016</td>\n      <td>2</td>\n    </tr>\n    <tr>\n      <th>4</th>\n      <td>1566</td>\n      <td>1973</td>\n      <td>United States of America</td>\n      <td>male</td>\n      <td>[film producer]</td>\n      <td>chad griffin</td>\n      <td>It is crucial that we know these stories in or...</td>\n      <td>2</td>\n      <td>2017</td>\n      <td>11</td>\n    </tr>\n  </tbody>\n</table>\n</div>"
     },
     "execution_count": 5,
     "metadata": {},
     "output_type": "execute_result"
    }
   ],
   "source": [
    "df_feminism.head(5)"
   ]
  },
  {
   "cell_type": "code",
   "execution_count": 6,
   "id": "08adff88-19d2-41a7-9585-940ad486e1d1",
   "metadata": {},
   "outputs": [
    {
     "data": {
      "text/plain": "(13556, 10)"
     },
     "execution_count": 6,
     "metadata": {},
     "output_type": "execute_result"
    }
   ],
   "source": [
    "df_feminism.shape"
   ]
  },
  {
   "cell_type": "code",
   "execution_count": 7,
   "id": "08786d34-937d-42ec-9ac3-1e240370769a",
   "metadata": {},
   "outputs": [
    {
     "data": {
      "text/plain": "                    nationality           Speaker  \\\n0      United States of America      chad griffin   \n1      United States of America      chad griffin   \n2      United States of America      chad griffin   \n3      United States of America      chad griffin   \n4      United States of America      chad griffin   \n...                         ...               ...   \n13551  United States of America       howard zinn   \n13552  United States of America    diane guerrero   \n13553  United States of America  deborah ann woll   \n13554  United States of America     callie khouri   \n13555  United States of America     callie khouri   \n\n                                                   Quote  \n0      This kind of violence is often motivated by an...  \n1      Transgender women of color are facing an epide...  \n2      At a time when transgender people are finally ...  \n3      Each of these women died simply for being them...  \n4      It is crucial that we know these stories in or...  \n...                                                  ...  \n13551  racism, oppression, sexism, income inequality,...  \n13552  The show itself has only enhanced my personal ...  \n13553  Here's the thing: I think sometimes when we ha...  \n13554  As a female moviegoer, I just got fed up with ...  \n13555  To me, feminism is such a simple description: ...  \n\n[13556 rows x 3 columns]",
      "text/html": "<div>\n<style scoped>\n    .dataframe tbody tr th:only-of-type {\n        vertical-align: middle;\n    }\n\n    .dataframe tbody tr th {\n        vertical-align: top;\n    }\n\n    .dataframe thead th {\n        text-align: right;\n    }\n</style>\n<table border=\"1\" class=\"dataframe\">\n  <thead>\n    <tr style=\"text-align: right;\">\n      <th></th>\n      <th>nationality</th>\n      <th>Speaker</th>\n      <th>Quote</th>\n    </tr>\n  </thead>\n  <tbody>\n    <tr>\n      <th>0</th>\n      <td>United States of America</td>\n      <td>chad griffin</td>\n      <td>This kind of violence is often motivated by an...</td>\n    </tr>\n    <tr>\n      <th>1</th>\n      <td>United States of America</td>\n      <td>chad griffin</td>\n      <td>Transgender women of color are facing an epide...</td>\n    </tr>\n    <tr>\n      <th>2</th>\n      <td>United States of America</td>\n      <td>chad griffin</td>\n      <td>At a time when transgender people are finally ...</td>\n    </tr>\n    <tr>\n      <th>3</th>\n      <td>United States of America</td>\n      <td>chad griffin</td>\n      <td>Each of these women died simply for being them...</td>\n    </tr>\n    <tr>\n      <th>4</th>\n      <td>United States of America</td>\n      <td>chad griffin</td>\n      <td>It is crucial that we know these stories in or...</td>\n    </tr>\n    <tr>\n      <th>...</th>\n      <td>...</td>\n      <td>...</td>\n      <td>...</td>\n    </tr>\n    <tr>\n      <th>13551</th>\n      <td>United States of America</td>\n      <td>howard zinn</td>\n      <td>racism, oppression, sexism, income inequality,...</td>\n    </tr>\n    <tr>\n      <th>13552</th>\n      <td>United States of America</td>\n      <td>diane guerrero</td>\n      <td>The show itself has only enhanced my personal ...</td>\n    </tr>\n    <tr>\n      <th>13553</th>\n      <td>United States of America</td>\n      <td>deborah ann woll</td>\n      <td>Here's the thing: I think sometimes when we ha...</td>\n    </tr>\n    <tr>\n      <th>13554</th>\n      <td>United States of America</td>\n      <td>callie khouri</td>\n      <td>As a female moviegoer, I just got fed up with ...</td>\n    </tr>\n    <tr>\n      <th>13555</th>\n      <td>United States of America</td>\n      <td>callie khouri</td>\n      <td>To me, feminism is such a simple description: ...</td>\n    </tr>\n  </tbody>\n</table>\n<p>13556 rows × 3 columns</p>\n</div>"
     },
     "execution_count": 7,
     "metadata": {},
     "output_type": "execute_result"
    }
   ],
   "source": [
    "df_feminism = df_feminism.drop(['index', 'date_of_birth', 'gender', 'occupation', 'numOccurrences', 'quote_year', 'quote_month'], axis=1)\n",
    "df_feminism               "
   ]
  },
  {
   "cell_type": "code",
   "execution_count": 8,
   "id": "e8424835-45aa-4533-bd06-0af95a1e6a64",
   "metadata": {},
   "outputs": [],
   "source": [
    "df_filtered = df_filtered.drop(['date_of_birth', 'gender', 'occupation', 'numOccurrences', 'quote_year', 'quote_month'], axis=1)"
   ]
  },
  {
   "cell_type": "code",
   "execution_count": 9,
   "id": "c5c55a2f-0d16-4370-be27-36c6c1107729",
   "metadata": {},
   "outputs": [
    {
     "data": {
      "text/plain": "             Date               nationality           Speaker  \\\n0      2015-11-01  United States of America  sarah kate ellis   \n1      2015-06-01  United States of America  sarah kate ellis   \n2      2015-04-01  United States of America  sarah kate ellis   \n3      2015-02-01  United States of America  sarah kate ellis   \n4      2015-01-01  United States of America  sarah kate ellis   \n...           ...                       ...               ...   \n114741 2017-05-01                    Canada      david secter   \n114742 2019-08-01  United States of America    tom mcclintock   \n114743 2019-05-01  United States of America    tom mcclintock   \n114744 2015-07-01  United States of America     stephen trask   \n114745 2020-04-01  United States of America     stephen trask   \n\n                                                    Quote  Sentiment  \\\n0       This loss is a wake-up call that despite remar...    -0.8760   \n1       She didn't see it, she hadn't heard of it, she...     0.0387   \n2       As a journalist and anchor who reaches million...     0.4939   \n3       By empowering people to talk about their gende...     0.7003   \n4       By investing in this dangerous programming, TL...    -0.5610   \n...                                                   ...        ...   \n114741  Although I am not much of a jock, I consider t...     0.3818   \n114742  the medical dangers of this obsession with new...    -0.6808   \n114743       Equality Act to Ban Anti-LGBT Discrimination    -0.5574   \n114744  The whole point of many of the songs and much ...     0.5423   \n114745  The episode is about teenagers breaking away. ...     0.2263   \n\n       Sentiment Label  \n0             Negative  \n1             Positive  \n2             Positive  \n3             Positive  \n4             Negative  \n...                ...  \n114741        Positive  \n114742        Negative  \n114743        Negative  \n114744        Positive  \n114745        Positive  \n\n[114746 rows x 6 columns]",
      "text/html": "<div>\n<style scoped>\n    .dataframe tbody tr th:only-of-type {\n        vertical-align: middle;\n    }\n\n    .dataframe tbody tr th {\n        vertical-align: top;\n    }\n\n    .dataframe thead th {\n        text-align: right;\n    }\n</style>\n<table border=\"1\" class=\"dataframe\">\n  <thead>\n    <tr style=\"text-align: right;\">\n      <th></th>\n      <th>Date</th>\n      <th>nationality</th>\n      <th>Speaker</th>\n      <th>Quote</th>\n      <th>Sentiment</th>\n      <th>Sentiment Label</th>\n    </tr>\n  </thead>\n  <tbody>\n    <tr>\n      <th>0</th>\n      <td>2015-11-01</td>\n      <td>United States of America</td>\n      <td>sarah kate ellis</td>\n      <td>This loss is a wake-up call that despite remar...</td>\n      <td>-0.8760</td>\n      <td>Negative</td>\n    </tr>\n    <tr>\n      <th>1</th>\n      <td>2015-06-01</td>\n      <td>United States of America</td>\n      <td>sarah kate ellis</td>\n      <td>She didn't see it, she hadn't heard of it, she...</td>\n      <td>0.0387</td>\n      <td>Positive</td>\n    </tr>\n    <tr>\n      <th>2</th>\n      <td>2015-04-01</td>\n      <td>United States of America</td>\n      <td>sarah kate ellis</td>\n      <td>As a journalist and anchor who reaches million...</td>\n      <td>0.4939</td>\n      <td>Positive</td>\n    </tr>\n    <tr>\n      <th>3</th>\n      <td>2015-02-01</td>\n      <td>United States of America</td>\n      <td>sarah kate ellis</td>\n      <td>By empowering people to talk about their gende...</td>\n      <td>0.7003</td>\n      <td>Positive</td>\n    </tr>\n    <tr>\n      <th>4</th>\n      <td>2015-01-01</td>\n      <td>United States of America</td>\n      <td>sarah kate ellis</td>\n      <td>By investing in this dangerous programming, TL...</td>\n      <td>-0.5610</td>\n      <td>Negative</td>\n    </tr>\n    <tr>\n      <th>...</th>\n      <td>...</td>\n      <td>...</td>\n      <td>...</td>\n      <td>...</td>\n      <td>...</td>\n      <td>...</td>\n    </tr>\n    <tr>\n      <th>114741</th>\n      <td>2017-05-01</td>\n      <td>Canada</td>\n      <td>david secter</td>\n      <td>Although I am not much of a jock, I consider t...</td>\n      <td>0.3818</td>\n      <td>Positive</td>\n    </tr>\n    <tr>\n      <th>114742</th>\n      <td>2019-08-01</td>\n      <td>United States of America</td>\n      <td>tom mcclintock</td>\n      <td>the medical dangers of this obsession with new...</td>\n      <td>-0.6808</td>\n      <td>Negative</td>\n    </tr>\n    <tr>\n      <th>114743</th>\n      <td>2019-05-01</td>\n      <td>United States of America</td>\n      <td>tom mcclintock</td>\n      <td>Equality Act to Ban Anti-LGBT Discrimination</td>\n      <td>-0.5574</td>\n      <td>Negative</td>\n    </tr>\n    <tr>\n      <th>114744</th>\n      <td>2015-07-01</td>\n      <td>United States of America</td>\n      <td>stephen trask</td>\n      <td>The whole point of many of the songs and much ...</td>\n      <td>0.5423</td>\n      <td>Positive</td>\n    </tr>\n    <tr>\n      <th>114745</th>\n      <td>2020-04-01</td>\n      <td>United States of America</td>\n      <td>stephen trask</td>\n      <td>The episode is about teenagers breaking away. ...</td>\n      <td>0.2263</td>\n      <td>Positive</td>\n    </tr>\n  </tbody>\n</table>\n<p>114746 rows × 6 columns</p>\n</div>"
     },
     "execution_count": 9,
     "metadata": {},
     "output_type": "execute_result"
    }
   ],
   "source": [
    "df_filtered.reset_index()"
   ]
  },
  {
   "cell_type": "code",
   "execution_count": 10,
   "id": "870e8328-ca41-44af-aa0d-638fc190d295",
   "metadata": {},
   "outputs": [],
   "source": [
    "df_filtered = df_filtered.drop(['Sentiment Label'], axis=1)"
   ]
  },
  {
   "cell_type": "code",
   "execution_count": 18,
   "id": "9126e47c-7d70-4d59-b56e-b54c5e2d7c45",
   "metadata": {},
   "outputs": [],
   "source": [
    "new_df = df_filtered.merge(df_feminism, on=[\"Quote\"], how=\"right\")"
   ]
  },
  {
   "cell_type": "code",
   "execution_count": 19,
   "id": "9855db56-9a8b-4907-b88e-ce40d6f660dc",
   "metadata": {},
   "outputs": [
    {
     "data": {
      "text/plain": "(13556, 6)"
     },
     "execution_count": 19,
     "metadata": {},
     "output_type": "execute_result"
    }
   ],
   "source": [
    "new_df.shape"
   ]
  },
  {
   "cell_type": "code",
   "execution_count": 21,
   "id": "16550417-ee7c-4893-8130-77b2f9b2408f",
   "metadata": {},
   "outputs": [
    {
     "data": {
      "text/plain": "                  nationality_x         Speaker_x  \\\n13551  United States of America       howard zinn   \n13552  United States of America    diane guerrero   \n13553  United States of America  deborah ann woll   \n13554  United States of America     callie khouri   \n13555  United States of America     callie khouri   \n\n                                                   Quote  Sentiment  \\\n13551  racism, oppression, sexism, income inequality,...    -0.9136   \n13552  The show itself has only enhanced my personal ...     0.6369   \n13553  Here's the thing: I think sometimes when we ha...     0.9519   \n13554  As a female moviegoer, I just got fed up with ...     0.2023   \n13555  To me, feminism is such a simple description: ...     0.0000   \n\n                  nationality_y         Speaker_y  \n13551  United States of America       howard zinn  \n13552  United States of America    diane guerrero  \n13553  United States of America  deborah ann woll  \n13554  United States of America     callie khouri  \n13555  United States of America     callie khouri  ",
      "text/html": "<div>\n<style scoped>\n    .dataframe tbody tr th:only-of-type {\n        vertical-align: middle;\n    }\n\n    .dataframe tbody tr th {\n        vertical-align: top;\n    }\n\n    .dataframe thead th {\n        text-align: right;\n    }\n</style>\n<table border=\"1\" class=\"dataframe\">\n  <thead>\n    <tr style=\"text-align: right;\">\n      <th></th>\n      <th>nationality_x</th>\n      <th>Speaker_x</th>\n      <th>Quote</th>\n      <th>Sentiment</th>\n      <th>nationality_y</th>\n      <th>Speaker_y</th>\n    </tr>\n  </thead>\n  <tbody>\n    <tr>\n      <th>13551</th>\n      <td>United States of America</td>\n      <td>howard zinn</td>\n      <td>racism, oppression, sexism, income inequality,...</td>\n      <td>-0.9136</td>\n      <td>United States of America</td>\n      <td>howard zinn</td>\n    </tr>\n    <tr>\n      <th>13552</th>\n      <td>United States of America</td>\n      <td>diane guerrero</td>\n      <td>The show itself has only enhanced my personal ...</td>\n      <td>0.6369</td>\n      <td>United States of America</td>\n      <td>diane guerrero</td>\n    </tr>\n    <tr>\n      <th>13553</th>\n      <td>United States of America</td>\n      <td>deborah ann woll</td>\n      <td>Here's the thing: I think sometimes when we ha...</td>\n      <td>0.9519</td>\n      <td>United States of America</td>\n      <td>deborah ann woll</td>\n    </tr>\n    <tr>\n      <th>13554</th>\n      <td>United States of America</td>\n      <td>callie khouri</td>\n      <td>As a female moviegoer, I just got fed up with ...</td>\n      <td>0.2023</td>\n      <td>United States of America</td>\n      <td>callie khouri</td>\n    </tr>\n    <tr>\n      <th>13555</th>\n      <td>United States of America</td>\n      <td>callie khouri</td>\n      <td>To me, feminism is such a simple description: ...</td>\n      <td>0.0000</td>\n      <td>United States of America</td>\n      <td>callie khouri</td>\n    </tr>\n  </tbody>\n</table>\n</div>"
     },
     "execution_count": 21,
     "metadata": {},
     "output_type": "execute_result"
    }
   ],
   "source": [
    "new_df.tail()"
   ]
  },
  {
   "cell_type": "code",
   "execution_count": null,
   "id": "802d3a5f-f8c9-45e4-be59-798ee3d85785",
   "metadata": {},
   "outputs": [],
   "source": []
  }
 ],
 "metadata": {
  "kernelspec": {
   "display_name": "Python 3",
   "language": "python",
   "name": "python3"
  },
  "language_info": {
   "codemirror_mode": {
    "name": "ipython",
    "version": 3
   },
   "file_extension": ".py",
   "mimetype": "text/x-python",
   "name": "python",
   "nbconvert_exporter": "python",
   "pygments_lexer": "ipython3",
   "version": "3.8.8"
  }
 },
 "nbformat": 4,
 "nbformat_minor": 5
}