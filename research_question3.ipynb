{
 "cells": [
  {
   "cell_type": "markdown",
   "metadata": {
    "collapsed": true,
    "pycharm": {
     "name": "#%% md\n"
    }
   },
   "source": [
    "1. Start with original dataset\n",
    "2. Keep only data points where author date of birth is known\n",
    "3. For each quote, compute author age at this time (quote date - author date of birth)\n",
    "4. Compute means per decade (of age)\n",
    "5. Regress opinion score on binary decade indicator variable\n",
    "NB : we can repeat the process for age ranges of length 5 / 20 / 40… years\n",
    "6. Test for coefficients and compare the coefficients’ signs\n",
    "Conclude\n"
   ]
  },
  {
   "cell_type": "code",
   "execution_count": 49,
   "outputs": [],
   "source": [
    "import pandas as pd\n"
   ],
   "metadata": {
    "collapsed": false,
    "pycharm": {
     "name": "#%%\n"
    }
   }
  },
  {
   "cell_type": "code",
   "execution_count": 53,
   "outputs": [
    {
     "data": {
      "text/plain": "  date_of_birth                 nationality    gender  \\\n0          1971  [United States of America]  [female]   \n1          1971  [United States of America]  [female]   \n2          1971  [United States of America]  [female]   \n3          1971  [United States of America]  [female]   \n4          1971  [United States of America]  [female]   \n\n                  occupation           Speaker  \\\n0  [LGBTIQ+ rights activist]  sarah kate ellis   \n1  [LGBTIQ+ rights activist]  sarah kate ellis   \n2  [LGBTIQ+ rights activist]  sarah kate ellis   \n3  [LGBTIQ+ rights activist]  sarah kate ellis   \n4  [LGBTIQ+ rights activist]  sarah kate ellis   \n\n                                               Quote  numOccurrences  \\\n0  This loss is a wake-up call that despite remar...               2   \n1  She didn't see it, she hadn't heard of it, she...               1   \n2  As a journalist and anchor who reaches million...               1   \n3  By empowering people to talk about their gende...               6   \n4  By investing in this dangerous programming, TL...             133   \n\n   quote_year  quote_month  Sentiment  age  \n0        2015           11    -0.8760   44  \n1        2015            6     0.0387   44  \n2        2015            4     0.4939   44  \n3        2015            2     0.7003   44  \n4        2015            1    -0.5610   44  ",
      "text/html": "<div>\n<style scoped>\n    .dataframe tbody tr th:only-of-type {\n        vertical-align: middle;\n    }\n\n    .dataframe tbody tr th {\n        vertical-align: top;\n    }\n\n    .dataframe thead th {\n        text-align: right;\n    }\n</style>\n<table border=\"1\" class=\"dataframe\">\n  <thead>\n    <tr style=\"text-align: right;\">\n      <th></th>\n      <th>date_of_birth</th>\n      <th>nationality</th>\n      <th>gender</th>\n      <th>occupation</th>\n      <th>Speaker</th>\n      <th>Quote</th>\n      <th>numOccurrences</th>\n      <th>quote_year</th>\n      <th>quote_month</th>\n      <th>Sentiment</th>\n      <th>age</th>\n    </tr>\n  </thead>\n  <tbody>\n    <tr>\n      <th>0</th>\n      <td>1971</td>\n      <td>[United States of America]</td>\n      <td>[female]</td>\n      <td>[LGBTIQ+ rights activist]</td>\n      <td>sarah kate ellis</td>\n      <td>This loss is a wake-up call that despite remar...</td>\n      <td>2</td>\n      <td>2015</td>\n      <td>11</td>\n      <td>-0.8760</td>\n      <td>44</td>\n    </tr>\n    <tr>\n      <th>1</th>\n      <td>1971</td>\n      <td>[United States of America]</td>\n      <td>[female]</td>\n      <td>[LGBTIQ+ rights activist]</td>\n      <td>sarah kate ellis</td>\n      <td>She didn't see it, she hadn't heard of it, she...</td>\n      <td>1</td>\n      <td>2015</td>\n      <td>6</td>\n      <td>0.0387</td>\n      <td>44</td>\n    </tr>\n    <tr>\n      <th>2</th>\n      <td>1971</td>\n      <td>[United States of America]</td>\n      <td>[female]</td>\n      <td>[LGBTIQ+ rights activist]</td>\n      <td>sarah kate ellis</td>\n      <td>As a journalist and anchor who reaches million...</td>\n      <td>1</td>\n      <td>2015</td>\n      <td>4</td>\n      <td>0.4939</td>\n      <td>44</td>\n    </tr>\n    <tr>\n      <th>3</th>\n      <td>1971</td>\n      <td>[United States of America]</td>\n      <td>[female]</td>\n      <td>[LGBTIQ+ rights activist]</td>\n      <td>sarah kate ellis</td>\n      <td>By empowering people to talk about their gende...</td>\n      <td>6</td>\n      <td>2015</td>\n      <td>2</td>\n      <td>0.7003</td>\n      <td>44</td>\n    </tr>\n    <tr>\n      <th>4</th>\n      <td>1971</td>\n      <td>[United States of America]</td>\n      <td>[female]</td>\n      <td>[LGBTIQ+ rights activist]</td>\n      <td>sarah kate ellis</td>\n      <td>By investing in this dangerous programming, TL...</td>\n      <td>133</td>\n      <td>2015</td>\n      <td>1</td>\n      <td>-0.5610</td>\n      <td>44</td>\n    </tr>\n  </tbody>\n</table>\n</div>"
     },
     "execution_count": 53,
     "metadata": {},
     "output_type": "execute_result"
    }
   ],
   "source": [
    "data = pd.read_pickle(\"./added_sentiment.pkl\")\n",
    "data.drop(data[data.date_of_birth == ''].index, inplace=True)  # filter damaged data (1 raw)\n",
    "data[\"age\"] = data.quote_year.astype(int) - data.date_of_birth.astype(int)  # get age\n",
    "data.head()"
   ],
   "metadata": {
    "collapsed": false,
    "pycharm": {
     "name": "#%%\n"
    }
   }
  },
  {
   "cell_type": "code",
   "execution_count": 54,
   "outputs": [
    {
     "data": {
      "text/plain": "  date_of_birth               nationality  gender               occupation  \\\n0          1971  United States of America  female  LGBTIQ+ rights activist   \n1          1971  United States of America  female  LGBTIQ+ rights activist   \n2          1971  United States of America  female  LGBTIQ+ rights activist   \n3          1971  United States of America  female  LGBTIQ+ rights activist   \n4          1971  United States of America  female  LGBTIQ+ rights activist   \n\n            Speaker                                              Quote  \\\n0  sarah kate ellis  This loss is a wake-up call that despite remar...   \n1  sarah kate ellis  She didn't see it, she hadn't heard of it, she...   \n2  sarah kate ellis  As a journalist and anchor who reaches million...   \n3  sarah kate ellis  By empowering people to talk about their gende...   \n4  sarah kate ellis  By investing in this dangerous programming, TL...   \n\n   numOccurrences  quote_year  quote_month  Sentiment  age  \n0               2        2015           11    -0.8760   44  \n1               1        2015            6     0.0387   44  \n2               1        2015            4     0.4939   44  \n3               6        2015            2     0.7003   44  \n4             133        2015            1    -0.5610   44  ",
      "text/html": "<div>\n<style scoped>\n    .dataframe tbody tr th:only-of-type {\n        vertical-align: middle;\n    }\n\n    .dataframe tbody tr th {\n        vertical-align: top;\n    }\n\n    .dataframe thead th {\n        text-align: right;\n    }\n</style>\n<table border=\"1\" class=\"dataframe\">\n  <thead>\n    <tr style=\"text-align: right;\">\n      <th></th>\n      <th>date_of_birth</th>\n      <th>nationality</th>\n      <th>gender</th>\n      <th>occupation</th>\n      <th>Speaker</th>\n      <th>Quote</th>\n      <th>numOccurrences</th>\n      <th>quote_year</th>\n      <th>quote_month</th>\n      <th>Sentiment</th>\n      <th>age</th>\n    </tr>\n  </thead>\n  <tbody>\n    <tr>\n      <th>0</th>\n      <td>1971</td>\n      <td>United States of America</td>\n      <td>female</td>\n      <td>LGBTIQ+ rights activist</td>\n      <td>sarah kate ellis</td>\n      <td>This loss is a wake-up call that despite remar...</td>\n      <td>2</td>\n      <td>2015</td>\n      <td>11</td>\n      <td>-0.8760</td>\n      <td>44</td>\n    </tr>\n    <tr>\n      <th>1</th>\n      <td>1971</td>\n      <td>United States of America</td>\n      <td>female</td>\n      <td>LGBTIQ+ rights activist</td>\n      <td>sarah kate ellis</td>\n      <td>She didn't see it, she hadn't heard of it, she...</td>\n      <td>1</td>\n      <td>2015</td>\n      <td>6</td>\n      <td>0.0387</td>\n      <td>44</td>\n    </tr>\n    <tr>\n      <th>2</th>\n      <td>1971</td>\n      <td>United States of America</td>\n      <td>female</td>\n      <td>LGBTIQ+ rights activist</td>\n      <td>sarah kate ellis</td>\n      <td>As a journalist and anchor who reaches million...</td>\n      <td>1</td>\n      <td>2015</td>\n      <td>4</td>\n      <td>0.4939</td>\n      <td>44</td>\n    </tr>\n    <tr>\n      <th>3</th>\n      <td>1971</td>\n      <td>United States of America</td>\n      <td>female</td>\n      <td>LGBTIQ+ rights activist</td>\n      <td>sarah kate ellis</td>\n      <td>By empowering people to talk about their gende...</td>\n      <td>6</td>\n      <td>2015</td>\n      <td>2</td>\n      <td>0.7003</td>\n      <td>44</td>\n    </tr>\n    <tr>\n      <th>4</th>\n      <td>1971</td>\n      <td>United States of America</td>\n      <td>female</td>\n      <td>LGBTIQ+ rights activist</td>\n      <td>sarah kate ellis</td>\n      <td>By investing in this dangerous programming, TL...</td>\n      <td>133</td>\n      <td>2015</td>\n      <td>1</td>\n      <td>-0.5610</td>\n      <td>44</td>\n    </tr>\n  </tbody>\n</table>\n</div>"
     },
     "execution_count": 54,
     "metadata": {},
     "output_type": "execute_result"
    }
   ],
   "source": [
    "for col in [\"nationality\", \"gender\", \"occupation\"]:\n",
    "    first = pd.Series([elem[0] if elem[0] is not None else \"F\" for elem in data[col]])  # keep 1st element\n",
    "    data[col] = first.values\n",
    "    data = data[data[col] != \"F\"]  # filter NaN (~10 raws)\n",
    "data.head()"
   ],
   "metadata": {
    "collapsed": false,
    "pycharm": {
     "name": "#%%\n"
    }
   }
  },
  {
   "cell_type": "code",
   "execution_count": 55,
   "outputs": [
    {
     "data": {
      "text/plain": "{'United States of America': 0,\n 'United Kingdom': 1,\n 'Australia': 2,\n 'Canada': 3,\n 'India': 4,\n 'Philippines': 5,\n 'Ireland': 6,\n 'New Zealand': 7,\n 'Germany': 8,\n 'South Africa': 9,\n 'Israel': 10,\n 'France': 11,\n 'Italy': 12,\n 'Brazil': 13,\n 'United Kingdom of Great Britain and Ireland': 14,\n 'Soviet Union': 15,\n 'Pakistan': 16,\n 'Nigeria': 17,\n 'Sweden': 18,\n 'England': 19,\n 'Kingdom of the Netherlands': 20,\n 'Mexico': 21,\n 'Malaysia': 22,\n 'Uganda': 23,\n 'Poland': 24,\n \"People's Republic of China\": 25,\n 'Japan': 26,\n 'Scotland': 27,\n 'Iran': 28,\n 'Puerto Rico': 29,\n 'Switzerland': 30,\n 'Indonesia': 31,\n 'Argentina': 32,\n 'Russia': 33,\n 'Jamaica': 34,\n 'Belgium': 35,\n 'Kenya': 36,\n 'Chile': 37,\n 'Denmark': 38,\n 'Spain': 39,\n 'Singapore': 40,\n 'Great Britain': 41,\n 'Taiwan': 42,\n 'Austria': 43,\n 'Ukraine': 44,\n 'The Bahamas': 45,\n 'South Korea': 46,\n 'Lebanon': 47,\n 'Canadians': 48,\n 'Trinidad and Tobago': 49,\n 'Kingdom of England': 50,\n 'Norway': 51,\n 'Egypt': 52,\n 'Wales': 53,\n 'Zimbabwe': 54,\n 'Hong Kong': 55,\n 'Venezuela': 56,\n 'Cuba': 57,\n 'East Germany': 58,\n 'Ghana': 59,\n 'Australians': 60,\n 'Russian Empire': 61,\n 'Costa Rica': 62,\n 'Colombia': 63,\n 'Luxembourg': 64,\n 'Belize': 65,\n 'Finland': 66,\n 'British India': 67,\n 'Sri Lanka': 68,\n 'Nepal': 69,\n 'Guinea': 70,\n 'Malta': 71,\n 'Slovenia': 72,\n 'Dominican Republic': 73,\n 'Bangladesh': 74,\n 'Northern Ireland': 75,\n 'Lithuania': 76,\n 'Hungary': 77,\n 'Kazakhstan': 78,\n 'Saudi Arabia': 79,\n 'Federated States of Micronesia': 80,\n 'Saint Vincent and the Grenadines': 81,\n 'Tanzania': 82,\n 'El Salvador': 83,\n 'English people': 84,\n 'The Gambia': 85,\n 'British Hong Kong': 86,\n 'Thailand': 87,\n 'Iraq': 88,\n 'Armenia': 89,\n 'Turkey': 90,\n 'Cambodia': 91,\n 'Portugal': 92,\n 'Czechoslovakia': 93,\n 'Iceland': 94,\n 'Greece': 95,\n 'Morocco': 96,\n 'Kingdom of Ireland': 97,\n 'Barbados': 98,\n 'Afghanistan': 99,\n 'State of Palestine': 100,\n 'Antigua and Barbuda': 101,\n 'Tonga': 102,\n 'Tunisia': 103,\n 'Irish Free State': 104,\n 'Zambia': 105,\n 'Cameroon': 106,\n 'Romania': 107,\n 'Mali': 108,\n 'Myanmar': 109,\n 'Peru': 110,\n 'Haiti': 111,\n 'Bolivia': 112,\n 'Jordan': 113,\n 'Czech Republic': 114,\n 'Fiji': 115,\n 'Serbia': 116,\n 'Saint Lucia': 117,\n 'Bulgaria': 118,\n 'Honduras': 119,\n 'Democratic Republic of the Congo': 120,\n 'Kingdom of Sardinia': 121,\n 'Panama': 122,\n 'Rwanda': 123,\n 'Kyrgyzstan': 124,\n 'Imperial State of Iran': 125,\n 'Uruguay': 126,\n 'Ethiopia': 127,\n 'Croatia': 128,\n 'Guyana': 129,\n 'Guatemala': 130,\n 'Somalia': 131,\n 'Latvia': 132,\n 'Syria': 133,\n 'Kingdom of Egypt': 134,\n 'China': 135,\n 'Socialist Federal Republic of Yugoslavia': 136,\n 'Paraguay': 137,\n 'Algeria': 138,\n 'Eswatini': 139,\n 'Solomon Islands': 140,\n 'Czechoslovak Republic': 141,\n 'Nicaragua': 142,\n 'Bermuda': 143,\n 'Cayman Islands': 144,\n 'Korea': 145,\n 'Maldives': 146,\n 'Dominica': 147,\n 'Senegal': 148,\n 'Qatar': 149,\n 'Botswana': 150,\n 'Union of South Africa': 151,\n 'Indians': 152,\n 'United Arab Emirates': 153,\n 'Grenada': 154,\n 'Bhutan': 155,\n 'Aruba': 156,\n 'British America': 157,\n 'Kingdom of Afghanistan': 158,\n 'Vietnam': 159,\n 'Joseon': 160,\n 'Republic of China (1912–1949)': 161,\n 'Colony of New Zealand': 162,\n 'Federation of Rhodesia and Nyasaland': 163,\n 'Ecuador': 164,\n \"People's Republic of Bulgaria\": 165,\n 'Cook Islands Maori people': 166,\n 'Brunei': 167,\n 'Bosnia and Herzegovina': 168,\n 'Liang dynasty': 169,\n 'Irish Republic': 170,\n 'Kosovo': 171,\n 'Ming dynasty': 172,\n 'Kingdom of France': 173,\n 'Kingdom of Italy': 174,\n 'Guam': 175,\n 'Ukrainian Soviet Socialist Republic': 176,\n 'Flor': 177,\n 'Belarus': 178}"
     },
     "execution_count": 55,
     "metadata": {},
     "output_type": "execute_result"
    }
   ],
   "source": [
    "# encode category data by indexes\n",
    "nationality_dict = {elem: idx for idx, elem in enumerate(data.nationality.value_counts().index)}\n",
    "gender_dict = {elem: idx for idx, elem in enumerate(data.gender.value_counts().index)}\n",
    "occupation_dict = {elem: idx for idx, elem in enumerate(data.occupation.value_counts().index)}\n",
    "data.replace({\"nationality\": nationality_dict, \"gender\": gender_dict, \"occupation\": occupation_dict}, inplace=True)\n",
    "data.head()"
   ],
   "metadata": {
    "collapsed": false,
    "pycharm": {
     "name": "#%%\n"
    }
   }
  },
  {
   "cell_type": "code",
   "execution_count": null,
   "outputs": [],
   "source": [
    "# try sklearn ridge regression\n",
    "y = data.Sentiment.to_numpy()\n",
    "x = data.drop([\"Sentiment\", \"Quote\", \"Speaker\"], axis=1).to_numpy()\n",
    "x[:, 0] = list(map(int, x[:, 0]))\n",
    "# x = x[:, [0, -1]]  # take specific features\n",
    "print(x.shape)"
   ],
   "metadata": {
    "collapsed": false,
    "pycharm": {
     "name": "#%%\n"
    }
   }
  },
  {
   "cell_type": "code",
   "execution_count": null,
   "outputs": [],
   "source": [
    "from sklearn.linear_model import Ridge\n",
    "reg = Ridge(8).fit(x, y)\n",
    "print(\"Score:\", reg.score(x, y))\n",
    "print(\"Coefficients:\", reg.coef_)\n",
    "print(\"Intercept:\", reg.intercept_)"
   ],
   "metadata": {
    "collapsed": false,
    "pycharm": {
     "name": "#%%\n"
    }
   }
  },
  {
   "cell_type": "code",
   "execution_count": 57,
   "outputs": [
    {
     "name": "stdout",
     "output_type": "stream",
     "text": [
      "                            OLS Regression Results                            \n",
      "==============================================================================\n",
      "Dep. Variable:              Sentiment   R-squared:                       0.001\n",
      "Model:                            OLS   Adj. R-squared:                  0.001\n",
      "Method:                 Least Squares   F-statistic:                     13.38\n",
      "Date:                Thu, 16 Dec 2021   Prob (F-statistic):           2.25e-17\n",
      "Time:                        09:57:42   Log-Likelihood:                -90768.\n",
      "No. Observations:              114684   AIC:                         1.816e+05\n",
      "Df Residuals:                  114676   BIC:                         1.816e+05\n",
      "Df Model:                           7                                         \n",
      "Covariance Type:            nonrobust                                         \n",
      "==================================================================================\n",
      "                     coef    std err          t      P>|t|      [0.025      0.975]\n",
      "----------------------------------------------------------------------------------\n",
      "Intercept          5.0719      2.179      2.328      0.020       0.801       9.343\n",
      "date_of_birth     -0.0007      0.000     -2.009      0.044      -0.001   -1.78e-05\n",
      "nationality       -0.0002      0.000     -1.903      0.057      -0.000    7.21e-06\n",
      "gender             0.0073      0.002      3.789      0.000       0.004       0.011\n",
      "occupation     -2.335e-05   2.35e-05     -0.992      0.321   -6.95e-05    2.28e-05\n",
      "numOccurrences    -0.0006      0.000     -4.892      0.000      -0.001      -0.000\n",
      "quote_year        -0.0017      0.001     -2.383      0.017      -0.003      -0.000\n",
      "quote_month       -0.0013      0.000     -2.751      0.006      -0.002      -0.000\n",
      "age               -0.0010      0.000     -2.743      0.006      -0.002      -0.000\n",
      "==============================================================================\n",
      "Omnibus:                    21204.232   Durbin-Watson:                   1.781\n",
      "Prob(Omnibus):                  0.000   Jarque-Bera (JB):             5310.235\n",
      "Skew:                          -0.229   Prob(JB):                         0.00\n",
      "Kurtosis:                       2.050   Cond. No.                     7.72e+15\n",
      "==============================================================================\n",
      "\n",
      "Notes:\n",
      "[1] Standard Errors assume that the covariance matrix of the errors is correctly specified.\n",
      "[2] The smallest eigenvalue is 1.53e-20. This might indicate that there are\n",
      "strong multicollinearity problems or that the design matrix is singular.\n"
     ]
    }
   ],
   "source": [
    "# try statsmodels \n",
    "import statsmodels.formula.api as smf\n",
    "data.date_of_birth = data.date_of_birth.apply(lambda k: int(k))\n",
    "mod = smf.ols(formula='Sentiment ~ date_of_birth + nationality + gender + occupation + numOccurrences + quote_year + quote_month\t+ age',\n",
    "              data = data)\n",
    "\n",
    "res = mod.fit()\n",
    "print(res.summary())"
   ],
   "metadata": {
    "collapsed": false,
    "pycharm": {
     "name": "#%%\n"
    }
   }
  },
  {
   "cell_type": "code",
   "execution_count": null,
   "outputs": [],
   "source": [],
   "metadata": {
    "collapsed": false,
    "pycharm": {
     "name": "#%%\n"
    }
   }
  }
 ],
 "metadata": {
  "kernelspec": {
   "display_name": "Python 3",
   "language": "python",
   "name": "python3"
  },
  "language_info": {
   "codemirror_mode": {
    "name": "ipython",
    "version": 2
   },
   "file_extension": ".py",
   "mimetype": "text/x-python",
   "name": "python",
   "nbconvert_exporter": "python",
   "pygments_lexer": "ipython2",
   "version": "2.7.6"
  }
 },
 "nbformat": 4,
 "nbformat_minor": 0
}