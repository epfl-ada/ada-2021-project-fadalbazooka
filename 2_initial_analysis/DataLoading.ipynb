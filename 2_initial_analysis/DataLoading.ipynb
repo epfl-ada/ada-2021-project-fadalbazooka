{
 "cells": [
  {
   "cell_type": "markdown",
   "metadata": {
    "id": "OIKq3mI2ly2y"
   },
   "source": [
    "# Data loading and pre-processing notebook \n",
    "As explained in the abstract, the aim of the project is to analyse data concerning topics such as same-sex relationships and feminism. \n",
    "The aim of this notebook is to obtain a clean dataset that contain only quotes to be analysed regarding our topic of interest. \n",
    "To do that, we'll perform below the following steps : \n",
    "- Data extraction : The Quotebank dataset contains data by year. Each file is too big to process. We divided each year in parts/chunks in order to process it. Then, we filtered each chunks to extract quotes containing keywords we have previously defined. \n",
    "- Wikidata handling : From the extracted quotes, we labelled the authors with their corresponding nationality, gender, occupation, date of birth.\n",
    "- Final merging : The last step was to get the final cleaned dataset with quotes of interest, and all labels from wikidata.\n"
   ]
  },
  {
   "cell_type": "code",
   "execution_count": null,
   "metadata": {
    "colab": {
     "base_uri": "https://localhost:8080/"
    },
    "executionInfo": {
     "elapsed": 41385,
     "status": "ok",
     "timestamp": 1636725331222,
     "user": {
      "displayName": "Arina Lozhkina",
      "photoUrl": "https://lh3.googleusercontent.com/a-/AOh14Gg_2xxXGWabdmrJ9yNsrqv397h5VQBZMzPb7uJ5yQ=s64",
      "userId": "17959527219194509635"
     },
     "user_tz": -60
    },
    "id": "pncru5j7h2pv",
    "outputId": "678bbd8a-738f-4472-8e4e-0400b1aad0cd"
   },
   "outputs": [
    {
     "name": "stdout",
     "output_type": "stream",
     "text": [
      "Mounted at /content/drive\n"
     ]
    }
   ],
   "source": [
    "# get files from Google Drive \n",
    "from google.colab import drive  \n",
    "drive.mount(\"/content/drive\")"
   ]
  },
  {
   "cell_type": "code",
   "execution_count": null,
   "metadata": {
    "id": "KTzeK7n6Y-LA"
   },
   "outputs": [],
   "source": [
    "# import libraries \n",
    "import bz2\n",
    "import json\n",
    "import pandas as pd\n",
    "import numpy as np \n",
    "import os\n",
    "from matplotlib import pyplot as plt\n",
    "import re\n",
    "import nltk\n",
    "from tqdm import tqdm \n",
    "from nltk.stem import WordNetLemmatizer\n",
    "import spacy \n",
    "from collections import Counter"
   ]
  },
  {
   "cell_type": "code",
   "execution_count": null,
   "metadata": {
    "id": "ygGexkiC8Uqz"
   },
   "outputs": [],
   "source": [
    "YEARS = np.arange(2015, 2021)  # define dataset parameters\n",
    "PROJECT_PATH = \"/content/drive/Shareddrives/ADA/\" "
   ]
  },
  {
   "cell_type": "markdown",
   "metadata": {
    "id": "XdwQ7sYHTHCk"
   },
   "source": [
    "## 1) Data extraction \n",
    "The dataset is large, so we had to divide it into parts in order to avoid problems with RAM . We get data by years and extracted from it fields which are interesting for us: ID, Quote, Speaker, numOccurrences. Each chunk has size 1e6 and is loaded to a new json file."
   ]
  },
  {
   "cell_type": "code",
   "execution_count": null,
   "metadata": {
    "id": "d9ZoTKZ2Y-LF"
   },
   "outputs": [],
   "source": [
    "# creates path string to parsed file \n",
    "get_file_name = lambda year, part: os.path.join(PROJECT_PATH, f\"Data/Parsed data/IdQuotes{year}_{part}.json\")"
   ]
  },
  {
   "cell_type": "code",
   "execution_count": null,
   "metadata": {
    "id": "sDkucWMpiLaQ"
   },
   "outputs": [],
   "source": [
    "for year in tqdm(YEARS): \n",
    "  path_file = os.path.join(PROJECT_PATH, f\"Quotebank/quotes-{year}.json.bz2\")\n",
    "  decompressed_file = bz2.BZ2File(path_file, \"r\")  \n",
    "  quote_idx_dataset = {\"ID\": [], \"Quote\": [], \"Speaker\": [], \"numOccurrences\": []}\n",
    "  count_parts = 0  # count of parts by which we divide a dataset \n",
    "    \n",
    "  for idx, line in enumerate(decompressed_file):\n",
    "      cur_quote = json.loads(line)\n",
    "\n",
    "      # complete dictionary \n",
    "      quote_idx_dataset[\"ID\"].append(cur_quote[\"quoteID\"])\n",
    "      quote_idx_dataset[\"Quote\"].append(cur_quote[\"quotation\"])\n",
    "      quote_idx_dataset[\"Speaker\"].append(cur_quote[\"speaker\"])\n",
    "      quote_idx_dataset[\"numOccurrences\"].append(cur_quote[\"numOccurrences\"])\n",
    "      \n",
    "      # divide by parts of 1e6 quotes and save them to json   \n",
    "      if idx > (count_parts + 1) * 1e6:  \n",
    "        pd.DataFrame(quote_idx_dataset).to_json(get_file_name(year, count_parts))\n",
    "        count_parts += 1  \n",
    "        quote_idx_dataset = {\"ID\": [], \"Quote\": [], \"Speaker\": [], \"numOccurrences\": []}\n",
    "  \n",
    "  print(year, \"is done!\")\n",
    "  pd.DataFrame(quote_idx_dataset).to_json(get_file_name(year, count_parts))"
   ]
  },
  {
   "cell_type": "markdown",
   "metadata": {
    "id": "n-8l2n0CFTDd"
   },
   "source": [
    "To limit dataset size we took only quotes that contain keywords concerning our topics. "
   ]
  },
  {
   "cell_type": "markdown",
   "metadata": {},
   "source": [
    "### Key word list"
   ]
  },
  {
   "cell_type": "code",
   "execution_count": null,
   "metadata": {
    "id": "xTVP-g7TY-LI"
   },
   "outputs": [],
   "source": [
    "KEY_WORDS = \"women's rights|sex equality|women's role|role of women|women's liberation|\\\n",
    "    gender|feminism|feminists|marriage equality|gay|same-sex|same-sex marriage|\\\n",
    "    gay marriage|homosexual marriage|same-gender marriage|lesbian|lesbians|gays|\\\n",
    "    lesbian|sexism|bisexual|transgender|transsexual|queer|questioning sexual identity|\\\n",
    "    questioning gender identity|intersex|asexual|pansexual|LGBT|LGBTQ|LGBTQI|LGBTQIA|\\\n",
    "    LGBTQIAA|LGBTQI2A|LGBTQIAAP|LGBTQI2AP|LGBTTQIAAP|LGBTTQI2AP|LGBT+|LGBTQ+|LGBTQI+|\\\n",
    "    LGBTQIA+|LGBTQIAA+|LGBTQI2A+|LGBTQIAAP+|LGBTQI2AP+|LGBTTQIAAP+|LGBTTQI2AP+| polysexual|\\\n",
    "    demisexual|gayprideasexual|asexuals|asexuality|bisexual|bisexuals|bisexuality|cisgender|\\\n",
    "    cisgenders|cisgenderism|demisexual|demisexuals|demisexuality|gay|gays|gaypride|gender \\\n",
    "    fluidity|heteronormative|heteronormatives|heteronormativity|hetero sexual|hetero sexuals|\\\n",
    "    heterosexual|heterosexuals|heterosexuality|homo sexual|homo sexuals|homosexual|homo sexuals|\\\n",
    "    homosexuality|inter sex|intersex|intersexual|intersexuals|intersexuality|lesbian|lesbians|\\\n",
    "    lgbt|lgbt+|lgbtq|lgbtq+|lgbtqi|lgbtqi+|lgbtqi2a|lgbtqi2a+|lgbtqi2ap|lgbtqi2ap+|lgbtqia|\\\n",
    "    lgbtqia+|lgbtqiaa|lgbtqiaa+|lgbtqiaap|lgbtqiaap+|lgbttqi2ap|lgbttqi2ap+|lgbttqiaap|\\\n",
    "    lgbttqiaap+|pan sexual|pan sexuals|pansexual|pansexuals|pansexuality|poly sexual|poly\\\n",
    "    sexuals|polysexual|polysexuals|polysexuality|queer|queers|questioning gender identity|\\\n",
    "    questioning sexual identity|trans gender|trans genders|transgender|transgenders|\\\n",
    "    transgenderism|trans misoginy|transmisoginy|trans phobia|transphobia|transphobic|\\\n",
    "    trans sexual|trans sexuals|transsexual|transsexuals|transsexuality|gender roles|\\\n",
    "    misandry|misogyny|patriarchy|sexism|woman empowerement|toxic masculinity\""
   ]
  },
  {
   "cell_type": "code",
   "execution_count": null,
   "metadata": {
    "id": "_OQB0EUHNW7J"
   },
   "outputs": [],
   "source": [
    "def part_with_keywords(year, quote_part):\n",
    "    \"\"\"\n",
    "    Return parts of dataset which contains keywords. \n",
    "    params: year - year of the dataset; \n",
    "    params: quote_part - number of part of full dataset.\n",
    "    \"\"\"\n",
    "    cur_data = pd.read_json(get_file_name(year, quote_part))\n",
    "    contains_key_words = cur_data[\"Quote\"].str.contains(KEY_WORDS) # find index containing keywords\n",
    "    return cur_data.iloc[np.where(contains_key_words)].reset_index()"
   ]
  },
  {
   "cell_type": "code",
   "execution_count": null,
   "metadata": {
    "id": "1uk61RZWSQy5"
   },
   "outputs": [],
   "source": [
    "# number of parts into which data is divided \n",
    "PARTS = {2015: 21, 2016: 14, 2017: 27, 2018: 28, 2019: 22, 2020: 6}"
   ]
  },
  {
   "cell_type": "markdown",
   "metadata": {
    "id": "2Rqyp9vEY-LL"
   },
   "source": [
    "We save the file to Google Drive every step of the way in case the runtime is restarted."
   ]
  },
  {
   "cell_type": "code",
   "execution_count": null,
   "metadata": {
    "id": "USXttcMPR7DG"
   },
   "outputs": [],
   "source": [
    "for year in YEARS: \n",
    "  # collect data for the year \n",
    "  all_data = [part_with_keywords(year, quote_part) for quote_part in range(PARTS[year])]  \n",
    "  full = pd.concat(all_data)\n",
    "  full.reset_index(inplace=True)\n",
    "  full.to_json(os.path.join(PROJECT_PATH, f\"Data/key_words{year}.json\"))"
   ]
  },
  {
   "cell_type": "markdown",
   "metadata": {
    "id": "AacBNDBt7do6"
   },
   "source": [
    "The Google Colab session was stopped here, so we load results from Google Drive. "
   ]
  },
  {
   "cell_type": "markdown",
   "metadata": {},
   "source": [
    "### full_keywords = dataframe containing the quotes of interest for all years"
   ]
  },
  {
   "cell_type": "code",
   "execution_count": null,
   "metadata": {
    "id": "m7CbbZtwc4eS"
   },
   "outputs": [],
   "source": [
    "# concatenate data for all years \n",
    "full_keywords = pd.concat([pd.read_json(os.path.join(PROJECT_PATH, f\"Data/key_words{year}.json\")) \\\n",
    "                           for year in YEARS], ignore_index=True)"
   ]
  },
  {
   "cell_type": "code",
   "execution_count": null,
   "metadata": {
    "colab": {
     "base_uri": "https://localhost:8080/",
     "height": 221
    },
    "id": "q7tDeMHrde8q",
    "outputId": "ff02e8dc-8bae-4a57-ab4a-97996bf3843a"
   },
   "outputs": [
    {
     "name": "stdout",
     "output_type": "stream",
     "text": [
      "Shape of a dataset with quotes related to our topics is (352789, 6)\n"
     ]
    },
    {
     "data": {
      "text/html": [
       "<div>\n",
       "<style scoped>\n",
       "    .dataframe tbody tr th:only-of-type {\n",
       "        vertical-align: middle;\n",
       "    }\n",
       "\n",
       "    .dataframe tbody tr th {\n",
       "        vertical-align: top;\n",
       "    }\n",
       "\n",
       "    .dataframe thead th {\n",
       "        text-align: right;\n",
       "    }\n",
       "</style>\n",
       "<table border=\"1\" class=\"dataframe\">\n",
       "  <thead>\n",
       "    <tr style=\"text-align: right;\">\n",
       "      <th></th>\n",
       "      <th>level_0</th>\n",
       "      <th>index</th>\n",
       "      <th>ID</th>\n",
       "      <th>Quote</th>\n",
       "      <th>Speaker</th>\n",
       "      <th>numOccurrences</th>\n",
       "    </tr>\n",
       "  </thead>\n",
       "  <tbody>\n",
       "    <tr>\n",
       "      <th>0</th>\n",
       "      <td>3</td>\n",
       "      <td>330</td>\n",
       "      <td>2015-02-09-001217</td>\n",
       "      <td>a proud transgender woman and for me to be vio...</td>\n",
       "      <td>None</td>\n",
       "      <td>1</td>\n",
       "    </tr>\n",
       "    <tr>\n",
       "      <th>1</th>\n",
       "      <td>4</td>\n",
       "      <td>419</td>\n",
       "      <td>2015-06-17-018173</td>\n",
       "      <td>I did feel I was gently being prodded into the...</td>\n",
       "      <td>Colin Mathura-Jeffree</td>\n",
       "      <td>2</td>\n",
       "    </tr>\n",
       "    <tr>\n",
       "      <th>2</th>\n",
       "      <td>22</td>\n",
       "      <td>1532</td>\n",
       "      <td>2015-04-17-007557</td>\n",
       "      <td>Because my brother and sister are both gay and...</td>\n",
       "      <td>roseanne barr</td>\n",
       "      <td>1</td>\n",
       "    </tr>\n",
       "    <tr>\n",
       "      <th>3</th>\n",
       "      <td>23</td>\n",
       "      <td>1877</td>\n",
       "      <td>2015-03-09-028376</td>\n",
       "      <td>I think Sam died with a smile on his face, kno...</td>\n",
       "      <td>Ingrid Newkirk</td>\n",
       "      <td>4</td>\n",
       "    </tr>\n",
       "    <tr>\n",
       "      <th>4</th>\n",
       "      <td>24</td>\n",
       "      <td>1952</td>\n",
       "      <td>2015-03-10-009758</td>\n",
       "      <td>But my question with that [ is ] when you look...</td>\n",
       "      <td>Tra Thomas</td>\n",
       "      <td>2</td>\n",
       "    </tr>\n",
       "  </tbody>\n",
       "</table>\n",
       "</div>"
      ],
      "text/plain": [
       "   level_0  index  ...                Speaker numOccurrences\n",
       "0        3    330  ...                   None              1\n",
       "1        4    419  ...  Colin Mathura-Jeffree              2\n",
       "2       22   1532  ...          roseanne barr              1\n",
       "3       23   1877  ...         Ingrid Newkirk              4\n",
       "4       24   1952  ...             Tra Thomas              2\n",
       "\n",
       "[5 rows x 6 columns]"
      ]
     },
     "execution_count": 34,
     "metadata": {},
     "output_type": "execute_result"
    }
   ],
   "source": [
    "# check data and its shape\n",
    "print(\"Shape of a dataset with quotes related to our topics is\", full_keywords.shape)\n",
    "full_keywords.head()  # data filtered by keywords"
   ]
  },
  {
   "cell_type": "code",
   "execution_count": null,
   "metadata": {
    "id": "5pEcU_nqpx8V"
   },
   "outputs": [],
   "source": [
    "full_keywords.to_json(os.path.join(PROJECT_PATH, \"keywords_full.json\"))"
   ]
  },
  {
   "cell_type": "markdown",
   "metadata": {},
   "source": [
    "## 2) Wikidata handling"
   ]
  },
  {
   "cell_type": "markdown",
   "metadata": {
    "id": "y82hACPLY-LP"
   },
   "source": [
    "We added speakers' features: nationality, gender (others can be added the same way) to the dataset from WikiData."
   ]
  },
  {
   "cell_type": "code",
   "execution_count": null,
   "metadata": {
    "colab": {
     "base_uri": "https://localhost:8080/"
    },
    "id": "Jd8_xW1DeyyI",
    "outputId": "c0820e45-09c2-449d-f10e-2d9545b234f9"
   },
   "outputs": [
    {
     "name": "stdout",
     "output_type": "stream",
     "text": [
      "/content/drive/.shortcut-targets-by-id/1VAFHacZFh0oxSxilgNByb1nlNsqznUf0/Project datasets/speaker_attributes.parquet\n"
     ]
    }
   ],
   "source": [
    "# go to folder which contains parquet files\n",
    "%cd /content/drive/Shareddrives/ADA/Project\\ datasets/speaker_attributes.parquet/"
   ]
  },
  {
   "cell_type": "markdown",
   "metadata": {
    "id": "ZIoX1jFZY-LR"
   },
   "source": [
    "WikiData is divided into 16 parts, so we iterate all of them and try to find speakers of quotes "
   ]
  },
  {
   "cell_type": "code",
   "execution_count": null,
   "metadata": {
    "colab": {
     "base_uri": "https://localhost:8080/"
    },
    "id": "u6pqtxVbm7wQ",
    "outputId": "6b9ba699-1752-49c1-9f1a-a657849185b8"
   },
   "outputs": [
    {
     "name": "stderr",
     "output_type": "stream",
     "text": [
      "100%|██████████| 16/16 [00:39<00:00,  2.44s/it]\n"
     ]
    }
   ],
   "source": [
    "all_wiki_data = []  # concatenate all wiki data  \n",
    "for wiki_part in tqdm(range(16)): \n",
    "  wiki_data = pd.read_parquet(f\"part-000{wiki_part:02d}-0d587965-3d8f-41ce-9771-5b8c9024dce9-c000.snappy.parquet\") \n",
    "  # preprocess wikidata \n",
    "  wiki_data.rename(columns={\"label\": \"Speaker\"}, inplace=True)\n",
    "    \n",
    "  # we decrease size of wikidata in order to accelerate search of speakers     \n",
    "  wiki_data.drop([\"aliases\", \"lastrevid\", \"ethnic_group\", \"US_congress_bio_ID\", \"party\", \"id\", \\\n",
    "                  \"candidacy\", \"type\"], axis=1, inplace=True)\n",
    "  wiki_data.drop_duplicates([\"Speaker\"], inplace=True)  \n",
    "  # we remarked that in Quotebank some names are written CAPS LOCK\n",
    "  # so we have to normalize case \n",
    "  wiki_data.Speaker = wiki_data.Speaker.str.lower()\n",
    "  all_wiki_data.append(wiki_data)"
   ]
  },
  {
   "cell_type": "code",
   "execution_count": null,
   "metadata": {
    "colab": {
     "base_uri": "https://localhost:8080/",
     "height": 204
    },
    "id": "hSoIWu0dnOuA",
    "outputId": "8ba9e1df-c382-451e-e2e0-293b57c00509"
   },
   "outputs": [
    {
     "data": {
      "text/html": [
       "<div>\n",
       "<style scoped>\n",
       "    .dataframe tbody tr th:only-of-type {\n",
       "        vertical-align: middle;\n",
       "    }\n",
       "\n",
       "    .dataframe tbody tr th {\n",
       "        vertical-align: top;\n",
       "    }\n",
       "\n",
       "    .dataframe thead th {\n",
       "        text-align: right;\n",
       "    }\n",
       "</style>\n",
       "<table border=\"1\" class=\"dataframe\">\n",
       "  <thead>\n",
       "    <tr style=\"text-align: right;\">\n",
       "      <th></th>\n",
       "      <th>date_of_birth</th>\n",
       "      <th>nationality</th>\n",
       "      <th>gender</th>\n",
       "      <th>occupation</th>\n",
       "      <th>academic_degree</th>\n",
       "      <th>Speaker</th>\n",
       "      <th>religion</th>\n",
       "    </tr>\n",
       "  </thead>\n",
       "  <tbody>\n",
       "    <tr>\n",
       "      <th>0</th>\n",
       "      <td>[+1732-02-22T00:00:00Z]</td>\n",
       "      <td>[Q161885, Q30]</td>\n",
       "      <td>[Q6581097]</td>\n",
       "      <td>[Q82955, Q189290, Q131512, Q1734662, Q294126, ...</td>\n",
       "      <td>None</td>\n",
       "      <td>george washington</td>\n",
       "      <td>[Q682443]</td>\n",
       "    </tr>\n",
       "    <tr>\n",
       "      <th>1</th>\n",
       "      <td>[+1952-03-11T00:00:00Z]</td>\n",
       "      <td>[Q145]</td>\n",
       "      <td>[Q6581097]</td>\n",
       "      <td>[Q214917, Q28389, Q6625963, Q4853732, Q1884422...</td>\n",
       "      <td>None</td>\n",
       "      <td>douglas adams</td>\n",
       "      <td>None</td>\n",
       "    </tr>\n",
       "    <tr>\n",
       "      <th>2</th>\n",
       "      <td>[+1868-08-23T00:00:00Z]</td>\n",
       "      <td>[Q31]</td>\n",
       "      <td>[Q6581097]</td>\n",
       "      <td>[Q36180, Q40348, Q182436, Q1265807, Q205375, Q...</td>\n",
       "      <td>None</td>\n",
       "      <td>paul otlet</td>\n",
       "      <td>None</td>\n",
       "    </tr>\n",
       "    <tr>\n",
       "      <th>3</th>\n",
       "      <td>[+1946-07-06T00:00:00Z]</td>\n",
       "      <td>[Q30]</td>\n",
       "      <td>[Q6581097]</td>\n",
       "      <td>[Q82955, Q15982858, Q18814623, Q1028181, Q1408...</td>\n",
       "      <td>None</td>\n",
       "      <td>george w. bush</td>\n",
       "      <td>[Q329646, Q682443, Q33203]</td>\n",
       "    </tr>\n",
       "    <tr>\n",
       "      <th>4</th>\n",
       "      <td>[+1599-06-06T00:00:00Z]</td>\n",
       "      <td>[Q29]</td>\n",
       "      <td>[Q6581097]</td>\n",
       "      <td>[Q1028181]</td>\n",
       "      <td>None</td>\n",
       "      <td>diego velázquez</td>\n",
       "      <td>None</td>\n",
       "    </tr>\n",
       "  </tbody>\n",
       "</table>\n",
       "</div>"
      ],
      "text/plain": [
       "             date_of_birth  ...                    religion\n",
       "0  [+1732-02-22T00:00:00Z]  ...                   [Q682443]\n",
       "1  [+1952-03-11T00:00:00Z]  ...                        None\n",
       "2  [+1868-08-23T00:00:00Z]  ...                        None\n",
       "3  [+1946-07-06T00:00:00Z]  ...  [Q329646, Q682443, Q33203]\n",
       "4  [+1599-06-06T00:00:00Z]  ...                        None\n",
       "\n",
       "[5 rows x 7 columns]"
      ]
     },
     "execution_count": 47,
     "metadata": {},
     "output_type": "execute_result"
    }
   ],
   "source": [
    "wiki_data = pd.concat(all_wiki_data)\n",
    "full_keywords.Speaker = full_keywords.Speaker.str.lower()\n",
    "wiki_data.head()"
   ]
  },
  {
   "cell_type": "code",
   "execution_count": null,
   "metadata": {
    "colab": {
     "base_uri": "https://localhost:8080/"
    },
    "id": "pz8KMS6Hnbvo",
    "outputId": "aa93d5c5-b009-4905-c0ac-d7d508a1a320"
   },
   "outputs": [
    {
     "data": {
      "text/plain": [
       "(7281692, 7)"
      ]
     },
     "execution_count": 57,
     "metadata": {},
     "output_type": "execute_result"
    }
   ],
   "source": [
    " # WikiData contains a lot of persons with the same names, so we will leave the most popular \n",
    "wiki_data.drop_duplicates(\"Speaker\", inplace=True) \n",
    "wiki_data.shape"
   ]
  },
  {
   "cell_type": "code",
   "execution_count": null,
   "metadata": {
    "id": "krgAiJ95nnfE"
   },
   "outputs": [],
   "source": [
    "full_wiki = pd.merge(wiki_data, full_keywords, on=['Speaker'])"
   ]
  },
  {
   "cell_type": "code",
   "execution_count": null,
   "metadata": {
    "colab": {
     "base_uri": "https://localhost:8080/"
    },
    "id": "R1TCjp7zkLHV",
    "outputId": "cd8efd12-d005-4e58-e865-d98a9d2d89d3"
   },
   "outputs": [
    {
     "data": {
      "text/plain": [
       "0                          none\n",
       "1         colin mathura-jeffree\n",
       "2                 roseanne barr\n",
       "3                ingrid newkirk\n",
       "4                    tra thomas\n",
       "                  ...          \n",
       "352736            mario falcone\n",
       "352738              john church\n",
       "352752           mary patterson\n",
       "352774              hank wilson\n",
       "352786            nicholas phan\n",
       "Name: Speaker, Length: 43661, dtype: object"
      ]
     },
     "execution_count": 62,
     "metadata": {},
     "output_type": "execute_result"
    }
   ],
   "source": [
    "# not founded in wikidata speakers (depends on keywords)\n",
    "no_wikidata = pd.concat([full_keywords.Speaker,full_wiki.Speaker]).drop_duplicates()\n",
    "no_wikidata"
   ]
  },
  {
   "cell_type": "code",
   "execution_count": null,
   "metadata": {
    "id": "gplmTaOjEXwn"
   },
   "outputs": [],
   "source": [
    "no_wikidata = full_keywords.iloc[no_wikidata.index]\n",
    "no_wikidata.to_json(os.path.join(PROJECT_PATH, \"Data/no_wikidata.json\"))"
   ]
  },
  {
   "cell_type": "code",
   "execution_count": null,
   "metadata": {
    "colab": {
     "base_uri": "https://localhost:8080/",
     "height": 408
    },
    "id": "4eqkbECWY-LT",
    "outputId": "f5803165-cd78-4fe3-9a23-23a057fa887b"
   },
   "outputs": [
    {
     "name": "stdout",
     "output_type": "stream",
     "text": [
      "shape without none speakers (209000, 11)\n"
     ]
    },
    {
     "data": {
      "text/html": [
       "<div>\n",
       "<style scoped>\n",
       "    .dataframe tbody tr th:only-of-type {\n",
       "        vertical-align: middle;\n",
       "    }\n",
       "\n",
       "    .dataframe tbody tr th {\n",
       "        vertical-align: top;\n",
       "    }\n",
       "\n",
       "    .dataframe thead th {\n",
       "        text-align: right;\n",
       "    }\n",
       "</style>\n",
       "<table border=\"1\" class=\"dataframe\">\n",
       "  <thead>\n",
       "    <tr style=\"text-align: right;\">\n",
       "      <th></th>\n",
       "      <th>date_of_birth</th>\n",
       "      <th>nationality</th>\n",
       "      <th>gender</th>\n",
       "      <th>occupation</th>\n",
       "      <th>academic_degree</th>\n",
       "      <th>Speaker</th>\n",
       "      <th>religion</th>\n",
       "      <th>index</th>\n",
       "      <th>ID</th>\n",
       "      <th>Quote</th>\n",
       "      <th>numOccurrences</th>\n",
       "    </tr>\n",
       "  </thead>\n",
       "  <tbody>\n",
       "    <tr>\n",
       "      <th>0</th>\n",
       "      <td>[+1952-03-11T00:00:00Z]</td>\n",
       "      <td>[Q145]</td>\n",
       "      <td>[Q6581097]</td>\n",
       "      <td>[Q214917, Q28389, Q6625963, Q4853732, Q1884422...</td>\n",
       "      <td>None</td>\n",
       "      <td>douglas adams</td>\n",
       "      <td>None</td>\n",
       "      <td>272571</td>\n",
       "      <td>2015-05-21-068797</td>\n",
       "      <td>To claim that homosexual behavior is wrong wou...</td>\n",
       "      <td>1</td>\n",
       "    </tr>\n",
       "    <tr>\n",
       "      <th>1</th>\n",
       "      <td>[+1952-03-11T00:00:00Z]</td>\n",
       "      <td>[Q145]</td>\n",
       "      <td>[Q6581097]</td>\n",
       "      <td>[Q214917, Q28389, Q6625963, Q4853732, Q1884422...</td>\n",
       "      <td>None</td>\n",
       "      <td>douglas adams</td>\n",
       "      <td>None</td>\n",
       "      <td>125117</td>\n",
       "      <td>2017-11-12-089989</td>\n",
       "      <td>You can't get away with saying, `If you try to...</td>\n",
       "      <td>1</td>\n",
       "    </tr>\n",
       "    <tr>\n",
       "      <th>2</th>\n",
       "      <td>[+1946-07-06T00:00:00Z]</td>\n",
       "      <td>[Q30]</td>\n",
       "      <td>[Q6581097]</td>\n",
       "      <td>[Q82955, Q15982858, Q18814623, Q1028181, Q1408...</td>\n",
       "      <td>None</td>\n",
       "      <td>george w. bush</td>\n",
       "      <td>[Q329646, Q682443, Q33203]</td>\n",
       "      <td>119789</td>\n",
       "      <td>2015-03-20-081663</td>\n",
       "      <td>There should be protections, and so, as it rel...</td>\n",
       "      <td>2</td>\n",
       "    </tr>\n",
       "    <tr>\n",
       "      <th>3</th>\n",
       "      <td>[+1946-07-06T00:00:00Z]</td>\n",
       "      <td>[Q30]</td>\n",
       "      <td>[Q6581097]</td>\n",
       "      <td>[Q82955, Q15982858, Q18814623, Q1028181, Q1408...</td>\n",
       "      <td>None</td>\n",
       "      <td>george w. bush</td>\n",
       "      <td>[Q329646, Q682443, Q33203]</td>\n",
       "      <td>669032</td>\n",
       "      <td>2015-06-21-004378</td>\n",
       "      <td>But there is one area where I have done much t...</td>\n",
       "      <td>1</td>\n",
       "    </tr>\n",
       "    <tr>\n",
       "      <th>4</th>\n",
       "      <td>[+1946-07-06T00:00:00Z]</td>\n",
       "      <td>[Q30]</td>\n",
       "      <td>[Q6581097]</td>\n",
       "      <td>[Q82955, Q15982858, Q18814623, Q1028181, Q1408...</td>\n",
       "      <td>None</td>\n",
       "      <td>george w. bush</td>\n",
       "      <td>[Q329646, Q682443, Q33203]</td>\n",
       "      <td>69752</td>\n",
       "      <td>2016-05-08-005838</td>\n",
       "      <td>Bush is set to accept the award at an event wh...</td>\n",
       "      <td>1</td>\n",
       "    </tr>\n",
       "  </tbody>\n",
       "</table>\n",
       "</div>"
      ],
      "text/plain": [
       "             date_of_birth  ... numOccurrences\n",
       "0  [+1952-03-11T00:00:00Z]  ...              1\n",
       "1  [+1952-03-11T00:00:00Z]  ...              1\n",
       "2  [+1946-07-06T00:00:00Z]  ...              2\n",
       "3  [+1946-07-06T00:00:00Z]  ...              1\n",
       "4  [+1946-07-06T00:00:00Z]  ...              1\n",
       "\n",
       "[5 rows x 11 columns]"
      ]
     },
     "execution_count": 64,
     "metadata": {},
     "output_type": "execute_result"
    }
   ],
   "source": [
    "print(\"shape without none speakers\", full_wiki.shape)\n",
    "full_wiki.head()  # data filtered by keywords with unlabelled wikidata fields "
   ]
  },
  {
   "cell_type": "code",
   "execution_count": null,
   "metadata": {
    "id": "CNzlMhkeluA3"
   },
   "outputs": [],
   "source": [
    "full_wiki.reset_index(inplace=True)\n",
    "full_wiki.to_json(os.path.join(PROJECT_PATH, \"Data/wiki_non_labelled.json\"))"
   ]
  },
  {
   "cell_type": "markdown",
   "metadata": {
    "id": "rEXUuAz5Y-LV"
   },
   "source": [
    "Initial WikiData contains IDs that have to be mapped with labels.   "
   ]
  },
  {
   "cell_type": "code",
   "execution_count": null,
   "metadata": {
    "id": "tq2XUgpOKwaB"
   },
   "outputs": [],
   "source": [
    "full_wiki = pd.read_json(os.path.join(PROJECT_PATH, \"Data/wiki_non_labelled.json\"))"
   ]
  },
  {
   "cell_type": "code",
   "execution_count": null,
   "metadata": {
    "id": "wBHS9YNufqaX"
   },
   "outputs": [],
   "source": [
    "labels_qid_path = \"../wikidata_labels_descriptions_quotebank.csv.bz2\"\n",
    "labels_qid = pd.read_csv(labels_qid_path)\n",
    "# we decrease size of wikidata labels in order to accelerate search of ids \n",
    "labels_qid.drop([\"Description\"], axis=1, inplace=True)"
   ]
  },
  {
   "cell_type": "markdown",
   "metadata": {
    "id": "wLIVGp4iY-LV"
   },
   "source": [
    "To speed up the comparison of identifiers and tags, we find all the unique values of tags and select a mini dataframe of our ids and wikidata labels"
   ]
  },
  {
   "cell_type": "code",
   "execution_count": null,
   "metadata": {
    "id": "Z4rPAGu6ox_V"
   },
   "outputs": [],
   "source": [
    "# all unique ids\n",
    "nationalities = np.unique(np.hstack(full_wiki[\"nationality\"].dropna().to_numpy())) \n",
    "genders = np.unique(np.hstack(full_wiki[\"gender\"].dropna()))\n",
    "occupations =  np.unique(np.hstack(full_wiki[\"occupation\"].dropna().to_numpy()))\n",
    "all_id = np.concatenate([genders, nationalities, occupations])  # unique id \n",
    "labels_qid = labels_qid[labels_qid['QID'].isin(all_id)]  # mini dataframe"
   ]
  },
  {
   "cell_type": "markdown",
   "metadata": {},
   "source": [
    "### Attribute to each speaker its gender, nationality and occcupation "
   ]
  },
  {
   "cell_type": "code",
   "execution_count": null,
   "metadata": {
    "id": "Dg-mFD07i6SN"
   },
   "outputs": [],
   "source": [
    "for column in [\"gender\", \"nationality\", \"occupation\"]:  # wikidata features which we want to label \n",
    "    # Some speakers have many nationalities, so we have to iterate lists of different lengths\n",
    "    full_wiki[column] = full_wiki[column].dropna().apply(lambda k: \n",
    "                                [labels_qid[labels_qid.QID == elem][\"Label\"] for elem in k])"
   ]
  },
  {
   "cell_type": "markdown",
   "metadata": {
    "id": "MVw9ojkGY-LY"
   },
   "source": [
    "Finally, we got the dataset aggregating quotes and information about speakers. "
   ]
  },
  {
   "cell_type": "code",
   "execution_count": null,
   "metadata": {
    "colab": {
     "base_uri": "https://localhost:8080/",
     "height": 408
    },
    "id": "fr0WP4tnY-LZ",
    "outputId": "c856ce6a-2e94-4397-e95e-e31267663474"
   },
   "outputs": [
    {
     "name": "stdout",
     "output_type": "stream",
     "text": [
      "Shape of a labelled dataset with quotes related to our topics is (209000, 12)\n"
     ]
    },
    {
     "data": {
      "text/html": [
       "<div>\n",
       "<style scoped>\n",
       "    .dataframe tbody tr th:only-of-type {\n",
       "        vertical-align: middle;\n",
       "    }\n",
       "\n",
       "    .dataframe tbody tr th {\n",
       "        vertical-align: top;\n",
       "    }\n",
       "\n",
       "    .dataframe thead th {\n",
       "        text-align: right;\n",
       "    }\n",
       "</style>\n",
       "<table border=\"1\" class=\"dataframe\">\n",
       "  <thead>\n",
       "    <tr style=\"text-align: right;\">\n",
       "      <th></th>\n",
       "      <th>level_0</th>\n",
       "      <th>date_of_birth</th>\n",
       "      <th>nationality</th>\n",
       "      <th>gender</th>\n",
       "      <th>occupation</th>\n",
       "      <th>academic_degree</th>\n",
       "      <th>Speaker</th>\n",
       "      <th>religion</th>\n",
       "      <th>index</th>\n",
       "      <th>ID</th>\n",
       "      <th>Quote</th>\n",
       "      <th>numOccurrences</th>\n",
       "    </tr>\n",
       "  </thead>\n",
       "  <tbody>\n",
       "    <tr>\n",
       "      <th>0</th>\n",
       "      <td>0</td>\n",
       "      <td>[+1952-03-11T00:00:00Z]</td>\n",
       "      <td>[[United Kingdom]]</td>\n",
       "      <td>[[male]]</td>\n",
       "      <td>[[playwright], [screenwriter], [novelist], [ch...</td>\n",
       "      <td>None</td>\n",
       "      <td>douglas adams</td>\n",
       "      <td>None</td>\n",
       "      <td>272571</td>\n",
       "      <td>2015-05-21-068797</td>\n",
       "      <td>To claim that homosexual behavior is wrong wou...</td>\n",
       "      <td>1</td>\n",
       "    </tr>\n",
       "    <tr>\n",
       "      <th>1</th>\n",
       "      <td>1</td>\n",
       "      <td>[+1952-03-11T00:00:00Z]</td>\n",
       "      <td>[[United Kingdom]]</td>\n",
       "      <td>[[male]]</td>\n",
       "      <td>[[playwright], [screenwriter], [novelist], [ch...</td>\n",
       "      <td>None</td>\n",
       "      <td>douglas adams</td>\n",
       "      <td>None</td>\n",
       "      <td>125117</td>\n",
       "      <td>2017-11-12-089989</td>\n",
       "      <td>You can't get away with saying, `If you try to...</td>\n",
       "      <td>1</td>\n",
       "    </tr>\n",
       "    <tr>\n",
       "      <th>2</th>\n",
       "      <td>2</td>\n",
       "      <td>[+1946-07-06T00:00:00Z]</td>\n",
       "      <td>[[United States of America]]</td>\n",
       "      <td>[[male]]</td>\n",
       "      <td>[[politician], [motivational speaker], [autobi...</td>\n",
       "      <td>None</td>\n",
       "      <td>george w. bush</td>\n",
       "      <td>[Q329646, Q682443, Q33203]</td>\n",
       "      <td>119789</td>\n",
       "      <td>2015-03-20-081663</td>\n",
       "      <td>There should be protections, and so, as it rel...</td>\n",
       "      <td>2</td>\n",
       "    </tr>\n",
       "    <tr>\n",
       "      <th>3</th>\n",
       "      <td>3</td>\n",
       "      <td>[+1946-07-06T00:00:00Z]</td>\n",
       "      <td>[[United States of America]]</td>\n",
       "      <td>[[male]]</td>\n",
       "      <td>[[politician], [motivational speaker], [autobi...</td>\n",
       "      <td>None</td>\n",
       "      <td>george w. bush</td>\n",
       "      <td>[Q329646, Q682443, Q33203]</td>\n",
       "      <td>669032</td>\n",
       "      <td>2015-06-21-004378</td>\n",
       "      <td>But there is one area where I have done much t...</td>\n",
       "      <td>1</td>\n",
       "    </tr>\n",
       "    <tr>\n",
       "      <th>4</th>\n",
       "      <td>4</td>\n",
       "      <td>[+1946-07-06T00:00:00Z]</td>\n",
       "      <td>[[United States of America]]</td>\n",
       "      <td>[[male]]</td>\n",
       "      <td>[[politician], [motivational speaker], [autobi...</td>\n",
       "      <td>None</td>\n",
       "      <td>george w. bush</td>\n",
       "      <td>[Q329646, Q682443, Q33203]</td>\n",
       "      <td>69752</td>\n",
       "      <td>2016-05-08-005838</td>\n",
       "      <td>Bush is set to accept the award at an event wh...</td>\n",
       "      <td>1</td>\n",
       "    </tr>\n",
       "  </tbody>\n",
       "</table>\n",
       "</div>"
      ],
      "text/plain": [
       "   level_0  ... numOccurrences\n",
       "0        0  ...              1\n",
       "1        1  ...              1\n",
       "2        2  ...              2\n",
       "3        3  ...              1\n",
       "4        4  ...              1\n",
       "\n",
       "[5 rows x 12 columns]"
      ]
     },
     "execution_count": 10,
     "metadata": {},
     "output_type": "execute_result"
    }
   ],
   "source": [
    "print(\"Shape of a labelled dataset with quotes related to our topics is\", full_wiki.shape)\n",
    "full_wiki.head()  # data filtered by keywords with some labelled wikidata fields "
   ]
  },
  {
   "cell_type": "code",
   "execution_count": null,
   "metadata": {
    "id": "fojc5mZ5vDyk"
   },
   "outputs": [],
   "source": [
    "full_wiki.to_json(os.path.join(PROJECT_PATH, \"Data/wiki_labelled.json\"))"
   ]
  },
  {
   "cell_type": "markdown",
   "metadata": {},
   "source": [
    "### Getting the final clean dataset : result_data.json"
   ]
  },
  {
   "cell_type": "code",
   "execution_count": null,
   "metadata": {
    "id": "lJZs6dH7b89O"
   },
   "outputs": [],
   "source": [
    "# from mapping values {QID: label} to array of labels \n",
    "for col in [\"occupation\", \"nationality\", \"gender\"]:\n",
    "  full_wiki[col] = [np.hstack([list(k.values()) for k in elem]) if elem is not None else None for elem in full_wiki[col].values] "
   ]
  },
  {
   "cell_type": "code",
   "execution_count": null,
   "metadata": {
    "id": "1pDcjoekfZ8y"
   },
   "outputs": [],
   "source": [
    "# drop extra columns \n",
    "full_wiki.drop([\"level_0\", \"academic_degree\", \"religion\", \"index\"], axis=1, inplace=True)"
   ]
  },
  {
   "cell_type": "code",
   "execution_count": null,
   "metadata": {
    "id": "5SAWXmfrfmDu"
   },
   "outputs": [],
   "source": [
    "# from date of birth to year of birth \n",
    "full_wiki.date_of_birth = [elem[0].split(\"-\")[0][1:] if elem is not None else None for elem in full_wiki.date_of_birth]"
   ]
  },
  {
   "cell_type": "code",
   "execution_count": null,
   "metadata": {
    "id": "XquA_Gp7gapi"
   },
   "outputs": [],
   "source": [
    "# from id to year of citation \n",
    "full_wiki[\"quote_year\"] = [elem.split(\"-\")[0] for elem in full_wiki.ID]"
   ]
  },
  {
   "cell_type": "code",
   "execution_count": null,
   "metadata": {
    "id": "RQsN9n2egxsB"
   },
   "outputs": [],
   "source": [
    "# from id to month of citation \n",
    "full_wiki[\"quote_month\"] = [elem.split(\"-\")[1] for elem in full_wiki.ID]"
   ]
  },
  {
   "cell_type": "code",
   "execution_count": null,
   "metadata": {
    "id": "X6gkk0zWg0oi"
   },
   "outputs": [],
   "source": [
    "# ID is not necessary anymore \n",
    "full_wiki.drop([\"ID\"], axis=1, inplace=True)"
   ]
  },
  {
   "cell_type": "code",
   "execution_count": null,
   "metadata": {
    "colab": {
     "base_uri": "https://localhost:8080/",
     "height": 493
    },
    "executionInfo": {
     "elapsed": 9,
     "status": "ok",
     "timestamp": 1636726727704,
     "user": {
      "displayName": "Arina Lozhkina",
      "photoUrl": "https://lh3.googleusercontent.com/a-/AOh14Gg_2xxXGWabdmrJ9yNsrqv397h5VQBZMzPb7uJ5yQ=s64",
      "userId": "17959527219194509635"
     },
     "user_tz": -60
    },
    "id": "sE_h4XTfdMQ3",
    "outputId": "e0f47727-51fb-4730-9a17-c7fa5247dede"
   },
   "outputs": [
    {
     "data": {
      "text/html": [
       "<div>\n",
       "<style scoped>\n",
       "    .dataframe tbody tr th:only-of-type {\n",
       "        vertical-align: middle;\n",
       "    }\n",
       "\n",
       "    .dataframe tbody tr th {\n",
       "        vertical-align: top;\n",
       "    }\n",
       "\n",
       "    .dataframe thead th {\n",
       "        text-align: right;\n",
       "    }\n",
       "</style>\n",
       "<table border=\"1\" class=\"dataframe\">\n",
       "  <thead>\n",
       "    <tr style=\"text-align: right;\">\n",
       "      <th></th>\n",
       "      <th>date_of_birth</th>\n",
       "      <th>nationality</th>\n",
       "      <th>gender</th>\n",
       "      <th>occupation</th>\n",
       "      <th>Speaker</th>\n",
       "      <th>Quote</th>\n",
       "      <th>numOccurrences</th>\n",
       "      <th>quote_year</th>\n",
       "      <th>quote_month</th>\n",
       "    </tr>\n",
       "  </thead>\n",
       "  <tbody>\n",
       "    <tr>\n",
       "      <th>0</th>\n",
       "      <td>1952</td>\n",
       "      <td>[United Kingdom]</td>\n",
       "      <td>[male]</td>\n",
       "      <td>[playwright, screenwriter, novelist, children'...</td>\n",
       "      <td>douglas adams</td>\n",
       "      <td>To claim that homosexual behavior is wrong wou...</td>\n",
       "      <td>1</td>\n",
       "      <td>2015</td>\n",
       "      <td>05</td>\n",
       "    </tr>\n",
       "    <tr>\n",
       "      <th>1</th>\n",
       "      <td>1952</td>\n",
       "      <td>[United Kingdom]</td>\n",
       "      <td>[male]</td>\n",
       "      <td>[playwright, screenwriter, novelist, children'...</td>\n",
       "      <td>douglas adams</td>\n",
       "      <td>You can't get away with saying, `If you try to...</td>\n",
       "      <td>1</td>\n",
       "      <td>2017</td>\n",
       "      <td>11</td>\n",
       "    </tr>\n",
       "    <tr>\n",
       "      <th>2</th>\n",
       "      <td>1946</td>\n",
       "      <td>[United States of America]</td>\n",
       "      <td>[male]</td>\n",
       "      <td>[politician, motivational speaker, autobiograp...</td>\n",
       "      <td>george w. bush</td>\n",
       "      <td>There should be protections, and so, as it rel...</td>\n",
       "      <td>2</td>\n",
       "      <td>2015</td>\n",
       "      <td>03</td>\n",
       "    </tr>\n",
       "    <tr>\n",
       "      <th>3</th>\n",
       "      <td>1946</td>\n",
       "      <td>[United States of America]</td>\n",
       "      <td>[male]</td>\n",
       "      <td>[politician, motivational speaker, autobiograp...</td>\n",
       "      <td>george w. bush</td>\n",
       "      <td>But there is one area where I have done much t...</td>\n",
       "      <td>1</td>\n",
       "      <td>2015</td>\n",
       "      <td>06</td>\n",
       "    </tr>\n",
       "    <tr>\n",
       "      <th>4</th>\n",
       "      <td>1946</td>\n",
       "      <td>[United States of America]</td>\n",
       "      <td>[male]</td>\n",
       "      <td>[politician, motivational speaker, autobiograp...</td>\n",
       "      <td>george w. bush</td>\n",
       "      <td>Bush is set to accept the award at an event wh...</td>\n",
       "      <td>1</td>\n",
       "      <td>2016</td>\n",
       "      <td>05</td>\n",
       "    </tr>\n",
       "  </tbody>\n",
       "</table>\n",
       "</div>"
      ],
      "text/plain": [
       "  date_of_birth                 nationality  ... quote_year quote_month\n",
       "0          1952            [United Kingdom]  ...       2015          05\n",
       "1          1952            [United Kingdom]  ...       2017          11\n",
       "2          1946  [United States of America]  ...       2015          03\n",
       "3          1946  [United States of America]  ...       2015          06\n",
       "4          1946  [United States of America]  ...       2016          05\n",
       "\n",
       "[5 rows x 9 columns]"
      ]
     },
     "execution_count": 77,
     "metadata": {},
     "output_type": "execute_result"
    }
   ],
   "source": [
    "full_wiki.head()  # check data "
   ]
  },
  {
   "cell_type": "code",
   "execution_count": null,
   "metadata": {
    "id": "bUAeu147hAVC"
   },
   "outputs": [],
   "source": [
    "full_wiki.to_json(os.path.join(PROJECT_PATH, \"Data/result_data.json\"))"
   ]
  },
  {
   "cell_type": "markdown",
   "metadata": {
    "id": "J-hya0MyY-Lb"
   },
   "source": [
    "This dataset contains 9 features and 209000 samples."
   ]
  },
  {
   "cell_type": "markdown",
   "metadata": {
    "id": "r0AfexiTmUxz"
   },
   "source": [
    "## Data problems "
   ]
  },
  {
   "cell_type": "markdown",
   "metadata": {},
   "source": [
    "The  speakers' names don't share the same format between quotes : there are still some \"à\" / \"é\" characters, some names are written as \"A.\", some include titles like \"duke\", and some are inverted or written with commas."
   ]
  },
  {
   "cell_type": "markdown",
   "metadata": {
    "id": "49P1MbQVmd3w"
   },
   "source": [
    "1) We remarked similar but not identical quotes because f punctuation etc. "
   ]
  },
  {
   "cell_type": "code",
   "execution_count": null,
   "metadata": {
    "colab": {
     "base_uri": "https://localhost:8080/",
     "height": 71
    },
    "executionInfo": {
     "elapsed": 634,
     "status": "ok",
     "timestamp": 1636727997332,
     "user": {
      "displayName": "Arina Lozhkina",
      "photoUrl": "https://lh3.googleusercontent.com/a-/AOh14Gg_2xxXGWabdmrJ9yNsrqv397h5VQBZMzPb7uJ5yQ=s64",
      "userId": "17959527219194509635"
     },
     "user_tz": -60
    },
    "id": "M7vdZemMlM7A",
    "outputId": "cb94e280-6f5f-4ddd-f32d-11d44741253b"
   },
   "outputs": [
    {
     "data": {
      "application/vnd.google.colaboratory.intrinsic+json": {
       "type": "string"
      },
      "text/plain": [
       "\"Sometimes, I think we're hurt. We hurt our boys by calling something toxic masculinity. I do. And I don't find putting those two words together [ works ] because women can be pretty f *** ng toxic. It's toxic people. We have our good angles, and we have our bad ones,\""
      ]
     },
     "execution_count": 98,
     "metadata": {},
     "output_type": "execute_result"
    }
   ],
   "source": [
    "full_wiki.Quote.iloc[55]"
   ]
  },
  {
   "cell_type": "code",
   "execution_count": null,
   "metadata": {
    "colab": {
     "base_uri": "https://localhost:8080/",
     "height": 54
    },
    "executionInfo": {
     "elapsed": 345,
     "status": "ok",
     "timestamp": 1636728010008,
     "user": {
      "displayName": "Arina Lozhkina",
      "photoUrl": "https://lh3.googleusercontent.com/a-/AOh14Gg_2xxXGWabdmrJ9yNsrqv397h5VQBZMzPb7uJ5yQ=s64",
      "userId": "17959527219194509635"
     },
     "user_tz": -60
    },
    "id": "iY07ZMn3l1Qr",
    "outputId": "8ab6fb62-04f9-4e5c-cb38-bd91f0b29589"
   },
   "outputs": [
    {
     "data": {
      "application/vnd.google.colaboratory.intrinsic+json": {
       "type": "string"
      },
      "text/plain": [
       "\"Sometimes, I think we're hurt. We hurt our boys by calling something toxic masculinity. I do. And I don't find [ that ] putting those two words together... because women can be pretty fucking toxic,\""
      ]
     },
     "execution_count": 99,
     "metadata": {},
     "output_type": "execute_result"
    }
   ],
   "source": [
    "full_wiki.Quote.iloc[56]"
   ]
  },
  {
   "cell_type": "markdown",
   "metadata": {
    "id": "OLWGY8comoKh"
   },
   "source": [
    "2) Writing of speakers names in quotes dataset is not normalized (we tried to normalize case, but there are also à, é etc. Also, some names are written as A. or B. etc. There are descriptions like \"duke\". Some names are inversed and written with commas.  "
   ]
  },
  {
   "cell_type": "code",
   "execution_count": null,
   "metadata": {
    "id": "V6S1eUPBnkv-"
   },
   "outputs": [],
   "source": [
    "no_wiki = pd.read_json(os.join.path(PROJECT_PATH, \"Data/no_wikidata.json\")).dropna()[\"Speaker\"]"
   ]
  },
  {
   "cell_type": "code",
   "execution_count": null,
   "metadata": {
    "colab": {
     "base_uri": "https://localhost:8080/"
    },
    "executionInfo": {
     "elapsed": 312,
     "status": "ok",
     "timestamp": 1636728906492,
     "user": {
      "displayName": "Arina Lozhkina",
      "photoUrl": "https://lh3.googleusercontent.com/a-/AOh14Gg_2xxXGWabdmrJ9yNsrqv397h5VQBZMzPb7uJ5yQ=s64",
      "userId": "17959527219194509635"
     },
     "user_tz": -60
    },
    "id": "tOnsZ5swodaR",
    "outputId": "be62b8e8-f63f-418c-f560-88d408428d23"
   },
   "outputs": [
    {
     "data": {
      "text/plain": [
       "4668                      james pickens , jr. .\n",
       "7355           catherine , duchess of cambridge\n",
       "8199                        george bush , sr. .\n",
       "9007                          alan ladd , jr. .\n",
       "10265                          armstrong , jack\n",
       "                          ...                  \n",
       "321273                      frank white , jr. .\n",
       "330201                     lou chibbaro , jr. .\n",
       "346138    prince daniel , duke of västergötland\n",
       "349951            prince harry , duke of sussex\n",
       "350429              sophie , countess of wessex\n",
       "Name: Speaker, Length: 62, dtype: object"
      ]
     },
     "execution_count": 112,
     "metadata": {},
     "output_type": "execute_result"
    }
   ],
   "source": [
    "no_wiki.iloc[np.where(no_wiki.str.contains(\",.\"))]"
   ]
  },
  {
   "cell_type": "markdown",
   "metadata": {
    "id": "IaBxbkMgnVD9"
   },
   "source": [
    "3) There are not english quotes. Some of them are translated in different ways in different quotes that duplicates data. "
   ]
  },
  {
   "cell_type": "code",
   "execution_count": null,
   "metadata": {
    "colab": {
     "base_uri": "https://localhost:8080/",
     "height": 37
    },
    "executionInfo": {
     "elapsed": 654,
     "status": "ok",
     "timestamp": 1636728428653,
     "user": {
      "displayName": "Arina Lozhkina",
      "photoUrl": "https://lh3.googleusercontent.com/a-/AOh14Gg_2xxXGWabdmrJ9yNsrqv397h5VQBZMzPb7uJ5yQ=s64",
      "userId": "17959527219194509635"
     },
     "user_tz": -60
    },
    "id": "4z4aheBbmmzc",
    "outputId": "64587bff-e082-4eaf-de00-7e6aaac23518"
   },
   "outputs": [
    {
     "data": {
      "application/vnd.google.colaboratory.intrinsic+json": {
       "type": "string"
      },
      "text/plain": [
       "'Beimano ki barbaadi ka waqt shuru ho gaya hai aur imandaro ki takleefein kum hongi,'"
      ]
     },
     "execution_count": 100,
     "metadata": {},
     "output_type": "execute_result"
    }
   ],
   "source": [
    "full_wiki.Quote.iloc[95]"
   ]
  },
  {
   "cell_type": "code",
   "execution_count": null,
   "metadata": {
    "id": "ZStjZiWZY-Lw"
   },
   "outputs": [],
   "source": []
  }
 ],
 "metadata": {
  "colab": {
   "collapsed_sections": [],
   "name": "DataLoading.ipynb",
   "provenance": []
  },
  "kernelspec": {
   "display_name": "Python 3",
   "language": "python",
   "name": "python3"
  },
  "language_info": {
   "codemirror_mode": {
    "name": "ipython",
    "version": 3
   },
   "file_extension": ".py",
   "mimetype": "text/x-python",
   "name": "python",
   "nbconvert_exporter": "python",
   "pygments_lexer": "ipython3",
   "version": "3.8.8"
  }
 },
 "nbformat": 4,
 "nbformat_minor": 4
}
