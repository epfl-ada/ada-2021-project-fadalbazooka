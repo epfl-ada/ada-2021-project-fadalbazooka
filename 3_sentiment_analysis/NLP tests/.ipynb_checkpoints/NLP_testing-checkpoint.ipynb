{
 "cells": [
  {
   "cell_type": "markdown",
   "id": "d8284c5d-9d26-476e-ba88-9ed5a8b14637",
   "metadata": {},
   "source": [
    "# NLP (Natural Language Processing) library testing\n",
    "\n",
    "### Step 1 : Importing and initial test\n",
    "\n",
    "We found many NLP recommendations for spacy and NLTK packages, which both offer pre-trained sentiment analysis.\n",
    "\n",
    "Here, we will test both to compare them on a few quotes we, sor far, extracted.\n",
    "\n",
    "An easy NLP test to start :"
   ]
  },
  {
   "cell_type": "code",
   "execution_count": 90,
   "id": "9fdb8aad",
   "metadata": {},
   "outputs": [
    {
     "name": "stdout",
     "output_type": "stream",
     "text": [
      "Spacy: -1.0\n",
      "NLTK : -0.6249\n"
     ]
    }
   ],
   "source": [
    "import spacy\n",
    "import nltk\n",
    "\n",
    "from spacytextblob.spacytextblob import SpacyTextBlob\n",
    "nlp = spacy.load('en_core_web_sm')\n",
    "nlp.add_pipe(\"spacytextblob\")\n",
    "text = \"I had the worst day ever\"  \n",
    "print('Spacy:', round(nlp(text)._.polarity,4))\n",
    "\n",
    "from nltk.sentiment import SentimentIntensityAnalyzer\n",
    "sia = SentimentIntensityAnalyzer()\n",
    "print('NLTK :', sia.polarity_scores(text)[\"compound\"])"
   ]
  },
  {
   "cell_type": "markdown",
   "id": "6ce17f7e-086b-481b-911d-9f9c0152e93a",
   "metadata": {},
   "source": [
    "### Step 2 : Trying interesting quotes :"
   ]
  },
  {
   "cell_type": "markdown",
   "id": "d64d88cc-78c0-4d69-8545-d36308ae027e",
   "metadata": {},
   "source": [
    "1) \"There were protections in executive orders that beneficiaries of grantees and contractors were not to be discriminated against on the basis of sexual orientation and gender identity.\"\n",
    "\n",
    "Our analysis : neutral-positive\n",
    "\n",
    "Justification : No real opinion on the topic, this is just a \"legal\" statement.\n",
    "The analysis could be > 0 as it says there is no discrimination (so no bad thing)."
   ]
  },
  {
   "cell_type": "code",
   "execution_count": 91,
   "id": "57f4f6ec",
   "metadata": {},
   "outputs": [
    {
     "name": "stdout",
     "output_type": "stream",
     "text": [
      "Spacy: 0.5\n",
      "NLTK : 0.4215\n"
     ]
    }
   ],
   "source": [
    "text = \"there were protections in executive orders that beneficiaries of grantees and contractors were not to be discriminated against on the basis of sexual orientation and gender identity.\" \n",
    "print('Spacy:', round(nlp(text)._.polarity,4))\n",
    "print('NLTK :', sia.polarity_scores(text)[\"compound\"])"
   ]
  },
  {
   "cell_type": "markdown",
   "id": "12eccdb4-abf7-41b2-9d89-3cf4998edeff",
   "metadata": {},
   "source": [
    "2) \"To claim that homosexual behavior is wrong would be to hold others to a moral standard to which one's own heterosexual behavior does not conform. Whether bi -, homo -, hetero -, all forms of hyphenated sexuality want the same thing: sex without moral or generative limits, relationships without cultural or familial constraints. We are in flight from sexuality and we are using sex as the vehicle for that flight.\"\n",
    "\n",
    "Our : no real opinion\n",
    "\n",
    "Justification : The author's thoughts are actually not easily deductible for us..."
   ]
  },
  {
   "cell_type": "code",
   "execution_count": 92,
   "id": "fee48632-12c7-4fc9-b1bf-b34c72ee212a",
   "metadata": {},
   "outputs": [
    {
     "name": "stdout",
     "output_type": "stream",
     "text": [
      "Spacy: 0.0286\n",
      "NLTK : -0.4215\n"
     ]
    }
   ],
   "source": [
    "text = \"To claim that homosexual behavior is wrong would be to hold others to a moral standard to which one's own heterosexual behavior does not conform. Whether bi -, homo -, hetero -, all forms of hyphenated sexuality want the same thing: sex without moral or generative limits, relationships without cultural or familial constraints. We are in flight from sexuality and we are using sex as the vehicle for that flight.\" \n",
    "print('Spacy:', round(nlp(text)._.polarity,4))\n",
    "print('NLTK :', sia.polarity_scores(text)[\"compound\"])"
   ]
  },
  {
   "cell_type": "markdown",
   "id": "f2531c5b-2540-4ba6-9f86-babf6b8b4671",
   "metadata": {},
   "source": [
    "3) \"Wasn't sure if homosexuality was a choice.\"\n",
    "\n",
    "Our analysis : no real opinion\n",
    "\n",
    "Justification : Hard to say, could be \"not a choice\" as the author doesn't figure homosexuality as something possible for him/her, or the opposite"
   ]
  },
  {
   "cell_type": "code",
   "execution_count": 93,
   "id": "ae2c3a96-237f-42a9-8083-32eca3ccce61",
   "metadata": {},
   "outputs": [
    {
     "name": "stdout",
     "output_type": "stream",
     "text": [
      "Spacy: 0.5\n",
      "NLTK : -0.2411\n"
     ]
    }
   ],
   "source": [
    "text = \"wasn't sure if homosexuality was a choice.\" \n",
    "print('Spacy:', round(nlp(text)._.polarity,4)) \n",
    "print('NLTK :', sia.polarity_scores(text)[\"compound\"])"
   ]
  },
  {
   "cell_type": "markdown",
   "id": "4b76bb37-4cf2-4ada-9c7c-2a754fee42e8",
   "metadata": {},
   "source": [
    "4) \"The misogyny and the racism, those two key facts are something you can't really ignore\"\n",
    "\n",
    "Our analysis : neutral - hard to say\n",
    "\n",
    "Justification : The sentence objectively only says misoginy and racism are topics of interest.\n",
    "The part of subjectivity is large : it all depends on which sentence came after !"
   ]
  },
  {
   "cell_type": "code",
   "execution_count": 94,
   "id": "10ee2b7b-e6d8-4582-a34c-842576a9a8e6",
   "metadata": {},
   "outputs": [
    {
     "name": "stdout",
     "output_type": "stream",
     "text": [
      "Spacy: 0.1\n",
      "NLTK : -0.4163\n"
     ]
    }
   ],
   "source": [
    "text = \"The misogyny and the racism, those two key facts are something you can't really ignore\" \n",
    "print('Spacy:', round(nlp(text)._.polarity,4))\n",
    "print('NLTK :', sia.polarity_scores(text)[\"compound\"])"
   ]
  },
  {
   "cell_type": "markdown",
   "id": "de53cc2e-bb11-419f-a60c-413390d6fb15",
   "metadata": {},
   "source": [
    "5) \"I just can't remember when LGBT people were not in my life. You know, gosh. My piano teachers when I was 11 and 12 were two gay men in a little town in New Jersey who had a collection of Mexican art and pinatas and silver lantern covers, and their house was wonderful, not like anybody else's house in Berkeley Heights, New Jersey\"\n",
    "\n",
    "Our analysis : positive\n",
    "\n",
    "Justification : The opinion is overall good : good relations with LGBT people."
   ]
  },
  {
   "cell_type": "code",
   "execution_count": 95,
   "id": "9a80295c-387a-4186-8c18-4df01ed641f0",
   "metadata": {
    "tags": []
   },
   "outputs": [
    {
     "name": "stdout",
     "output_type": "stream",
     "text": [
      "Spacy: 0.2503\n",
      "NLTK : 0.3798\n"
     ]
    }
   ],
   "source": [
    "text = \"I just can't remember when LGBT people were not in my life. You know, gosh. My piano teachers when I was 11 and 12 were two gay men in a little town in New Jersey who had a collection of Mexican art and pinatas and silver lantern covers, and their house was wonderful, not like anybody else's house in Berkeley Heights, New Jersey,\" \n",
    "print('Spacy:', round(nlp(text)._.polarity,4))\n",
    "print('NLTK :', sia.polarity_scores(text)[\"compound\"])"
   ]
  },
  {
   "cell_type": "markdown",
   "id": "2235d485-def6-4e9c-92fa-5f1e7b2b442f",
   "metadata": {},
   "source": [
    "6) \"I am grateful to this incredible organization for what you've done, in such a smart, systematic, and strategic way, to secure and safeguard the fundamental rights of LGBTQ Americans. Much of the credit for the advances in acceptance, advocacy, and law comes in a straight line from your efforts\"\n",
    "\n",
    "Our analysis : positive\n",
    "\n",
    "Justification : Very grateful for progress regarding LGBTQ cause"
   ]
  },
  {
   "cell_type": "code",
   "execution_count": 96,
   "id": "99b1f8d5-a325-4f16-889e-e3cb2364a087",
   "metadata": {},
   "outputs": [
    {
     "name": "stdout",
     "output_type": "stream",
     "text": [
      "Spacy: 0.319\n",
      "NLTK : 0.9451\n"
     ]
    }
   ],
   "source": [
    "text = \"I am grateful to this incredible organization for what you've done, in such a smart, systematic, and strategic way, to secure and safeguard the fundamental rights of LGBTQ Americans. Much of the credit for the advances in acceptance, advocacy, and law comes in a straight line from your efforts\" \n",
    "print('Spacy:', round(nlp(text)._.polarity,4)) \n",
    "print('NLTK :', sia.polarity_scores(text)[\"compound\"])"
   ]
  },
  {
   "cell_type": "markdown",
   "id": "0ba1ea6d-44f3-45d1-9c29-514058929fb3",
   "metadata": {},
   "source": [
    "### Step 3 : Some final raw comparisons - pushing libraries towards their limits"
   ]
  },
  {
   "cell_type": "code",
   "execution_count": 97,
   "id": "05281553-1bf4-4351-96be-0a3deab6f565",
   "metadata": {},
   "outputs": [
    {
     "name": "stdout",
     "output_type": "stream",
     "text": [
      "good\n",
      "Spacy: 0.7\n",
      "NLTK : 0.4404\n",
      "\n",
      "bad\n",
      "Spacy: -0.7\n",
      "NLTK : -0.5423\n",
      "\n",
      "adore\n",
      "Spacy: 0.0\n",
      "NLTK : 0.5574\n",
      "\n",
      "hate\n",
      "Spacy: -0.8\n",
      "NLTK : -0.5719\n",
      "\n",
      "gay\n",
      "Spacy: 0.4167\n",
      "NLTK : 0.0\n",
      "\n",
      "gay marriage\n",
      "Spacy: 0.4167\n",
      "NLTK : 0.0\n",
      "\n",
      "LGBT\n",
      "Spacy: 0.0\n",
      "NLTK : 0.0\n",
      "\n",
      "feminism\n",
      "Spacy: 0.0\n",
      "NLTK : 0.0\n"
     ]
    }
   ],
   "source": [
    "text = \"good\" \n",
    "print(text)\n",
    "print('Spacy:', round(nlp(text)._.polarity,4)) \n",
    "print('NLTK :', sia.polarity_scores(text)[\"compound\"])\n",
    "print()\n",
    "text = \"bad\" \n",
    "print(text)\n",
    "print('Spacy:', round(nlp(text)._.polarity,4)) \n",
    "print('NLTK :', sia.polarity_scores(text)[\"compound\"])\n",
    "print()\n",
    "text = \"adore\" \n",
    "print(text)\n",
    "print('Spacy:', round(nlp(text)._.polarity,4)) \n",
    "print('NLTK :', sia.polarity_scores(text)[\"compound\"])\n",
    "print()\n",
    "text = \"hate\" \n",
    "print(text)\n",
    "print('Spacy:', round(nlp(text)._.polarity,4)) \n",
    "print('NLTK :', sia.polarity_scores(text)[\"compound\"])\n",
    "print()\n",
    "text = \"gay\" \n",
    "print(text)\n",
    "print('Spacy:', round(nlp(text)._.polarity,4)) \n",
    "print('NLTK :', sia.polarity_scores(text)[\"compound\"])\n",
    "print()\n",
    "text = \"gay marriage\" \n",
    "print(text)\n",
    "print('Spacy:', round(nlp(text)._.polarity,4)) \n",
    "print('NLTK :', sia.polarity_scores(text)[\"compound\"])\n",
    "print()\n",
    "text = \"LGBT\" \n",
    "print(text)\n",
    "print('Spacy:', round(nlp(text)._.polarity,4)) \n",
    "print('NLTK :', sia.polarity_scores(text)[\"compound\"])\n",
    "print()\n",
    "text = \"feminism\" \n",
    "print(text)\n",
    "print('Spacy:', round(nlp(text)._.polarity,4)) \n",
    "print('NLTK :', sia.polarity_scores(text)[\"compound\"])"
   ]
  },
  {
   "cell_type": "markdown",
   "id": "597fc3d2-f874-483f-a00b-5343757b1e6a",
   "metadata": {},
   "source": [
    "### Step 4 : Making conclusions\n",
    "\n",
    "For all the examples we considered as \"easy\", that is, **1)** and the start of **Step 3**, we are a bit more satisfied with Spacy's results that are, with some logic, more interpretable and logic.\n",
    "\n",
    "Results from **2)**, **3)** and **4)** are hardly interpretable as these quotes are more subjective to us, and the one from **1)** and **5)** nearly matches for both libraries.\n",
    "\n",
    "\n",
    "However, the 1-word examples are quite far from quotes we expect to read in Quotebank, as they are properly not real sentences.\n",
    "In this purpose, the result from test **6)** also shows us NLTK's result is closer to our expectations.\n",
    "\n",
    "We are also happy to see both Spacy and NLTK give a 0-score for LGBT and feminism keywords, but disappointed with the \"gay\" result from Spacy, which shows it probably interpreted this word as being related to an emotion, which is a threat in our specific context.\n",
    "\n",
    "We will use **NLTK** for the rest of our project."
   ]
  }
 ],
 "metadata": {
  "kernelspec": {
   "display_name": "Python 3",
   "language": "python",
   "name": "python3"
  },
  "language_info": {
   "codemirror_mode": {
    "name": "ipython",
    "version": 3
   },
   "file_extension": ".py",
   "mimetype": "text/x-python",
   "name": "python",
   "nbconvert_exporter": "python",
   "pygments_lexer": "ipython3",
   "version": "3.8.8"
  }
 },
 "nbformat": 4,
 "nbformat_minor": 5
}
