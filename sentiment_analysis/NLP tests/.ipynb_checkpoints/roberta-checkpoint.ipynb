{
 "cells": [
  {
   "cell_type": "code",
   "execution_count": 5,
   "id": "fd857434-747a-4cdd-b243-ee2c3ee54a2f",
   "metadata": {},
   "outputs": [],
   "source": [
    "from transformers import AutoModelForSequenceClassification\n",
    "from transformers import TFAutoModelForSequenceClassification\n",
    "from transformers import AutoTokenizer\n",
    "import numpy as np\n",
    "from scipy.special import softmax\n",
    "import csv\n",
    "import urllib.request\n",
    "\n",
    "\n",
    "# Tasks:\n",
    "# emoji, emotion, hate, irony, offensive, sentiment\n",
    "# stance/abortion, stance/atheism, stance/climate, stance/feminist, stance/hillary\n",
    "\n",
    "task='sentiment'\n",
    "MODEL = f\"cardiffnlp/twitter-roberta-base-{task}\"\n",
    "\n",
    "tokenizer = AutoTokenizer.from_pretrained(MODEL)\n",
    "model = AutoModelForSequenceClassification.from_pretrained(MODEL)\n",
    "    \n",
    "tokenizer.save_pretrained(MODEL)\n",
    "model.save_pretrained(MODEL) \n"
   ]
  },
  {
   "cell_type": "code",
   "execution_count": 6,
   "id": "8622c17f-49ed-42ff-9dde-597c5e14c23a",
   "metadata": {},
   "outputs": [],
   "source": [
    "labels=[]\n",
    "mapping_link = f\"https://raw.githubusercontent.com/cardiffnlp/tweeteval/main/datasets/{task}/mapping.txt\"\n",
    "with urllib.request.urlopen(mapping_link) as f:\n",
    "    html = f.read().decode('utf-8').split(\"\\n\")\n",
    "    csvreader = csv.reader(html, delimiter='\\t')\n",
    "labels = [row[1] for row in csvreader if len(row) > 1]\n"
   ]
  },
  {
   "cell_type": "code",
   "execution_count": 7,
   "id": "e9b4f19c-2a5f-4789-94d3-ed2d2e3e6830",
   "metadata": {},
   "outputs": [],
   "source": [
    "model = AutoModelForSequenceClassification.from_pretrained(MODEL)\n",
    "model.save_pretrained(MODEL)"
   ]
  },
  {
   "cell_type": "code",
   "execution_count": 51,
   "id": "ec9c39e2-7ae6-4b85-be94-d05fd66f23bd",
   "metadata": {},
   "outputs": [],
   "source": [
    "text1 = \"I had the worst day ever\""
   ]
  },
  {
   "cell_type": "code",
   "execution_count": 52,
   "id": "4d68de25-0612-4d49-b219-a99531f1fe1c",
   "metadata": {},
   "outputs": [],
   "source": [
    "encoded_input = tokenizer(text1, return_tensors='pt')\n",
    "output = model(**encoded_input)\n",
    "scores = output[0][0].detach().numpy()\n",
    "scores = softmax(scores)"
   ]
  },
  {
   "cell_type": "code",
   "execution_count": 53,
   "id": "5c9aa888-0800-48c1-a8d4-1ec5b6a80515",
   "metadata": {},
   "outputs": [
    {
     "name": "stdout",
     "output_type": "stream",
     "text": [
      "1) negative 0.9784\n",
      "2) neutral 0.018\n",
      "3) positive 0.0036\n"
     ]
    }
   ],
   "source": [
    "ranking = np.argsort(scores)\n",
    "ranking = ranking[::-1]\n",
    "for i in range(scores.shape[0]):\n",
    "    l = labels[ranking[i]]\n",
    "    s = scores[ranking[i]]\n",
    "    print(f\"{i+1}) {l} {np.round(float(s), 4)}\")\n"
   ]
  },
  {
   "cell_type": "code",
   "execution_count": 61,
   "id": "a1b63c61-73d8-4f17-9e22-0a02637ca77d",
   "metadata": {},
   "outputs": [],
   "source": [
    "text2 = \"there were protections in executive orders that beneficiaries of grantees and contractors were not to be discriminated against on the basis of sexual orientation and gender identity.\" \n"
   ]
  },
  {
   "cell_type": "code",
   "execution_count": 62,
   "id": "9c85e5bb-e553-4ca7-b7d2-5640b0a36e46",
   "metadata": {},
   "outputs": [],
   "source": [
    "encoded_input = tokenizer(text2, return_tensors='pt')\n",
    "output = model(**encoded_input)\n",
    "scores = output[0][0].detach().numpy()\n",
    "scores = softmax(scores)"
   ]
  },
  {
   "cell_type": "code",
   "execution_count": 63,
   "id": "8a861159-d455-493f-a3b4-067757c03ac5",
   "metadata": {},
   "outputs": [
    {
     "name": "stdout",
     "output_type": "stream",
     "text": [
      "1) neutral 0.7826\n",
      "2) negative 0.1444\n",
      "3) positive 0.073\n"
     ]
    }
   ],
   "source": [
    "ranking = np.argsort(scores)\n",
    "ranking = ranking[::-1]\n",
    "for i in range(scores.shape[0]):\n",
    "    l = labels[ranking[i]]\n",
    "    s = scores[ranking[i]]\n",
    "    print(f\"{i+1}) {l} {np.round(float(s), 4)}\")"
   ]
  },
  {
   "cell_type": "code",
   "execution_count": null,
   "id": "ef5b6cf2-afa8-4ba5-83f0-e431bc186dc1",
   "metadata": {},
   "outputs": [],
   "source": []
  },
  {
   "cell_type": "code",
   "execution_count": 75,
   "id": "69d121fd-9053-439e-b964-8e319caa1a8b",
   "metadata": {},
   "outputs": [],
   "source": [
    "text3 = \"I just can't remember when LGBT people were not in my life. You know, gosh. My piano teachers when I was 11 and 12 were two gay men in a little town in New Jersey who had a collection of Mexican art and pinatas and silver lantern covers, and their house was wonderful, not like anybody else's house in Berkeley Heights, New Jersey\""
   ]
  },
  {
   "cell_type": "code",
   "execution_count": 76,
   "id": "d36628e0-c454-4b73-8140-051a30d1e58f",
   "metadata": {},
   "outputs": [],
   "source": [
    "encoded_input = tokenizer(text3, return_tensors='pt')\n",
    "output = model(**encoded_input)\n",
    "scores = output[0][0].detach().numpy()\n",
    "scores = softmax(scores)"
   ]
  },
  {
   "cell_type": "code",
   "execution_count": 82,
   "id": "fe890864-732a-44e3-aee6-efb83576b325",
   "metadata": {},
   "outputs": [
    {
     "name": "stdout",
     "output_type": "stream",
     "text": [
      "1) positive 0.6735\n",
      "2) neutral 0.253\n",
      "3) negative 0.0735\n"
     ]
    }
   ],
   "source": [
    "ranking = np.argsort(scores)\n",
    "ranking = ranking[::-1]\n",
    "for i in range(scores.shape[0]):\n",
    "    l = labels[ranking[i]]\n",
    "    s = scores[ranking[i]]\n",
    "    print(f\"{i+1}) {l} {np.round(float(s), 4)}\")"
   ]
  },
  {
   "cell_type": "code",
   "execution_count": null,
   "id": "8b23c00b-d515-4a5c-be5e-00ce5cc73d43",
   "metadata": {},
   "outputs": [],
   "source": []
  }
 ],
 "metadata": {
  "kernelspec": {
   "display_name": "Python 3",
   "language": "python",
   "name": "python3"
  },
  "language_info": {
   "codemirror_mode": {
    "name": "ipython",
    "version": 3
   },
   "file_extension": ".py",
   "mimetype": "text/x-python",
   "name": "python",
   "nbconvert_exporter": "python",
   "pygments_lexer": "ipython3",
   "version": "3.8.8"
  }
 },
 "nbformat": 4,
 "nbformat_minor": 5
}
