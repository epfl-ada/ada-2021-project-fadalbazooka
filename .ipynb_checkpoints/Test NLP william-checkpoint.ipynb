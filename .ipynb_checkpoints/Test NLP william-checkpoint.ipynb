{
 "cells": [
  {
   "cell_type": "markdown",
   "id": "d8284c5d-9d26-476e-ba88-9ed5a8b14637",
   "metadata": {},
   "source": [
    "# NLP (Natural Language Processing) library testing\n",
    "\n",
    "### Step 1 : Importing and initial test\n",
    "\n",
    "An easy NLP test to start :"
   ]
  },
  {
   "cell_type": "code",
   "execution_count": 35,
   "id": "9fdb8aad",
   "metadata": {},
   "outputs": [
    {
     "name": "stdout",
     "output_type": "stream",
     "text": [
      "Polarity: -1.0\n",
      "Subjectivity: 1.0\n",
      "Assessments: [(['really', 'horrible'], -1.0, 1.0, None), (['worst', '!'], -1.0, 1.0, None)]\n"
     ]
    }
   ],
   "source": [
    "import spacy\n",
    "from spacytextblob.spacytextblob import SpacyTextBlob\n",
    "nlp = spacy.load('en_core_web_sm')\n",
    "nlp.add_pipe(\"spacytextblob\")\n",
    "text = \"I had a really horrible day. It was the worst day ever!\" \n",
    "doc = nlp(text) \n",
    "print('Polarity:', doc._.polarity) \n",
    "print('Subjectivity:', doc._.subjectivity) \n",
    "print('Assessments:', doc._.assessments) "
   ]
  },
  {
   "cell_type": "markdown",
   "id": "6ce17f7e-086b-481b-911d-9f9c0152e93a",
   "metadata": {},
   "source": [
    "### Step 2 : Trying interesting quotes :**"
   ]
  },
  {
   "cell_type": "markdown",
   "id": "d64d88cc-78c0-4d69-8545-d36308ae027e",
   "metadata": {},
   "source": [
    "1) \"There were protections in executive orders that beneficiaries of grantees and contractors were not to be discriminated against on the basis of sexual orientation and gender identity.\"\n",
    "\n",
    "My (William) analysis : neutral-positive\n",
    "\n",
    "Justification : No real opinion on the topic, this is just a \"legal\" statement.\n",
    "The analysis could be > 0 as it says there is no discrimination (so no bad thing)."
   ]
  },
  {
   "cell_type": "code",
   "execution_count": 36,
   "id": "57f4f6ec",
   "metadata": {},
   "outputs": [
    {
     "name": "stdout",
     "output_type": "stream",
     "text": [
      "Polarity: 0.5\n",
      "Subjectivity: 0.8333333333333334\n",
      "Assessments: [(['sexual'], 0.5, 0.8333333333333334, None)]\n"
     ]
    }
   ],
   "source": [
    "text = \"there were protections in executive orders that beneficiaries of grantees and contractors were not to be discriminated against on the basis of sexual orientation and gender identity.\" \n",
    "doc = nlp(text) \n",
    "print('Polarity:', doc._.polarity) \n",
    "print('Subjectivity:', doc._.subjectivity) \n",
    "print('Assessments:', doc._.assessments)"
   ]
  },
  {
   "cell_type": "markdown",
   "id": "12eccdb4-abf7-41b2-9d89-3cf4998edeff",
   "metadata": {},
   "source": [
    "2) \"To claim that homosexual behavior is wrong would be to hold others to a moral standard to which one's own heterosexual behavior does not conform. Whether bi -, homo -, hetero -, all forms of hyphenated sexuality want the same thing: sex without moral or generative limits, relationships without cultural or familial constraints. We are in flight from sexuality and we are using sex as the vehicle for that flight.\"\n",
    "\n",
    "My analysis : neutral-positive\n",
    "\n",
    "Justification : I would summarize as \"Saying homosexuality is wrong is just immoral\", so the opinion on this cause is good.\n",
    "However, the algorithm may assess homosexuality is just a \"neutral thing\", so the overall could be neutral, as the author also doesn't state \"homosexuality is good !\" either"
   ]
  },
  {
   "cell_type": "code",
   "execution_count": 37,
   "id": "fee48632-12c7-4fc9-b1bf-b34c72ee212a",
   "metadata": {},
   "outputs": [
    {
     "name": "stdout",
     "output_type": "stream",
     "text": [
      "Polarity: 0.02857142857142857\n",
      "Subjectivity: 0.375\n",
      "Assessments: [(['wrong'], -0.5, 0.9, None), (['moral'], 0.0, 0.25, None), (['standard'], 0.0, 0.0, None), (['own'], 0.6, 1.0, None), (['same'], 0.0, 0.125, None), (['moral'], 0.0, 0.25, None), (['cultural'], 0.1, 0.1, None)]\n"
     ]
    }
   ],
   "source": [
    "text = \"To claim that homosexual behavior is wrong would be to hold others to a moral standard to which one's own heterosexual behavior does not conform. Whether bi -, homo -, hetero -, all forms of hyphenated sexuality want the same thing: sex without moral or generative limits, relationships without cultural or familial constraints. We are in flight from sexuality and we are using sex as the vehicle for that flight.\" \n",
    "doc = nlp(text) \n",
    "print('Polarity:', doc._.polarity) \n",
    "print('Subjectivity:', doc._.subjectivity) \n",
    "print('Assessments:', doc._.assessments)"
   ]
  },
  {
   "cell_type": "markdown",
   "id": "f2531c5b-2540-4ba6-9f86-babf6b8b4671",
   "metadata": {},
   "source": [
    "3) \"Wasn't sure if homosexuality was a choice.\"\n",
    "\n",
    "My analysis : no real opinion\n",
    "\n",
    "Justification : Hard to say, could be \"not a choice\" as the author doesn't figure homosexuality as something possible for him/her, or the opposite"
   ]
  },
  {
   "cell_type": "code",
   "execution_count": 38,
   "id": "ae2c3a96-237f-42a9-8083-32eca3ccce61",
   "metadata": {},
   "outputs": [
    {
     "name": "stdout",
     "output_type": "stream",
     "text": [
      "Polarity: 0.5\n",
      "Subjectivity: 0.8888888888888888\n",
      "Assessments: [(['sure'], 0.5, 0.8888888888888888, None)]\n"
     ]
    }
   ],
   "source": [
    "text = \"wasn't sure if homosexuality was a choice.\" \n",
    "doc = nlp(text) \n",
    "print('Polarity:', doc._.polarity) \n",
    "print('Subjectivity:', doc._.subjectivity) \n",
    "print('Assessments:', doc._.assessments)"
   ]
  },
  {
   "cell_type": "markdown",
   "id": "4b76bb37-4cf2-4ada-9c7c-2a754fee42e8",
   "metadata": {},
   "source": [
    "4) \"The misogyny and the racism, those two key facts are something you can't really ignore\"\n",
    "\n",
    "My analysis : neutral - hard to say\n",
    "\n",
    "Justification : The sentence objectively only says misoginy and racism are topics of interest.\n",
    "The part of subjectivity is large : it all depends on which sentece wame after !"
   ]
  },
  {
   "cell_type": "code",
   "execution_count": 39,
   "id": "10ee2b7b-e6d8-4582-a34c-842576a9a8e6",
   "metadata": {},
   "outputs": [
    {
     "name": "stdout",
     "output_type": "stream",
     "text": [
      "Polarity: 0.1\n",
      "Subjectivity: 0.6\n",
      "Assessments: [(['key'], 0.0, 1.0, None), (['really'], 0.2, 0.2, None)]\n"
     ]
    }
   ],
   "source": [
    "text = \"The misogyny and the racism, those two key facts are something you can't really ignore\" \n",
    "doc = nlp(text) \n",
    "print('Polarity:', doc._.polarity) \n",
    "print('Subjectivity:', doc._.subjectivity) \n",
    "print('Assessments:', doc._.assessments)"
   ]
  },
  {
   "cell_type": "markdown",
   "id": "de53cc2e-bb11-419f-a60c-413390d6fb15",
   "metadata": {},
   "source": [
    "5) \"I just can't remember when LGBT people were not in my life. You know, gosh. My piano teachers when I was 11 and 12 were two gay men in a little town in New Jersey who had a collection of Mexican art and pinatas and silver lantern covers, and their house was wonderful, not like anybody else's house in Berkeley Heights, New Jersey\"\n",
    "\n",
    "My analysis : positive\n",
    "\n",
    "Justification : The opinion is overall good : good relations with LGBT people."
   ]
  },
  {
   "cell_type": "code",
   "execution_count": 40,
   "id": "9a80295c-387a-4186-8c18-4df01ed641f0",
   "metadata": {
    "tags": []
   },
   "outputs": [
    {
     "name": "stdout",
     "output_type": "stream",
     "text": [
      "Polarity: 0.2503156565656566\n",
      "Subjectivity: 0.49873737373737376\n",
      "Assessments: [(['gay'], 0.4166666666666667, 0.5833333333333334, None), (['little'], -0.1875, 0.5, None), (['new'], 0.13636363636363635, 0.45454545454545453, None), (['mexican'], 0.0, 0.0, None), (['wonderful'], 1.0, 1.0, None), (['new'], 0.13636363636363635, 0.45454545454545453, None)]\n"
     ]
    }
   ],
   "source": [
    "text = \"I just can't remember when LGBT people were not in my life. You know, gosh. My piano teachers when I was 11 and 12 were two gay men in a little town in New Jersey who had a collection of Mexican art and pinatas and silver lantern covers, and their house was wonderful, not like anybody else's house in Berkeley Heights, New Jersey,\" \n",
    "doc = nlp(text) \n",
    "print('Polarity:', doc._.polarity) \n",
    "print('Subjectivity:', doc._.subjectivity) \n",
    "print('Assessments:', doc._.assessments)"
   ]
  },
  {
   "cell_type": "markdown",
   "id": "2235d485-def6-4e9c-92fa-5f1e7b2b442f",
   "metadata": {},
   "source": [
    "6) \"I am grateful to this incredible organization for what you've done, in such a smart, systematic, and strategic way, to secure and safeguard the fundamental rights of LGBTQ Americans. Much of the credit for the advances in acceptance, advocacy, and law comes in a straight line from your efforts\"\n",
    "\n",
    "My analysis : positive\n",
    "\n",
    "Justification : Very grateful for progress regarding LGBTQ cause"
   ]
  },
  {
   "cell_type": "code",
   "execution_count": 41,
   "id": "99b1f8d5-a325-4f16-889e-e3cb2364a087",
   "metadata": {},
   "outputs": [
    {
     "name": "stdout",
     "output_type": "stream",
     "text": [
      "Polarity: 0.319047619047619\n",
      "Subjectivity: 0.5404761904761904\n",
      "Assessments: [(['incredible'], 0.9, 0.9, None), (['such'], 0.0, 0.5, None), (['smart'], 0.21428571428571427, 0.6428571428571429, None), (['secure'], 0.4, 0.6, None), (['much'], 0.2, 0.2, None), (['straight'], 0.2, 0.4, None)]\n"
     ]
    }
   ],
   "source": [
    "text = \"I am grateful to this incredible organization for what you've done, in such a smart, systematic, and strategic way, to secure and safeguard the fundamental rights of LGBTQ Americans. Much of the credit for the advances in acceptance, advocacy, and law comes in a straight line from your efforts\" \n",
    "doc = nlp(text) \n",
    "print('Polarity:', doc._.polarity) \n",
    "print('Subjectivity:', doc._.subjectivity) \n",
    "print('Assessments:', doc._.assessments)"
   ]
  }
 ],
 "metadata": {
  "kernelspec": {
   "display_name": "Python 3",
   "language": "python",
   "name": "python3"
  },
  "language_info": {
   "codemirror_mode": {
    "name": "ipython",
    "version": 3
   },
   "file_extension": ".py",
   "mimetype": "text/x-python",
   "name": "python",
   "nbconvert_exporter": "python",
   "pygments_lexer": "ipython3",
   "version": "3.8.8"
  }
 },
 "nbformat": 4,
 "nbformat_minor": 5
}
