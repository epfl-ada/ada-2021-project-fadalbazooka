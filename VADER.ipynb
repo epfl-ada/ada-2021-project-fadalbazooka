{
 "cells": [
  {
   "cell_type": "code",
   "execution_count": 5,
   "id": "ae9be48d-19e7-42d1-8945-9321c2a21a2c",
   "metadata": {},
   "outputs": [],
   "source": [
    "import pandas as pd\n",
    "import seaborn as sns \n",
    "from matplotlib import pyplot as plt \n",
    "import pandas as pd\n",
    "import numpy as np\n",
    "import os"
   ]
  },
  {
   "cell_type": "code",
   "execution_count": 20,
   "id": "b14b53a1-9da4-4432-98a1-6914cdff0f4e",
   "metadata": {},
   "outputs": [],
   "source": [
    "cleaned_df = pd.read_json(\"filtered.json.zip\", compression = 'zip')"
   ]
  },
  {
   "cell_type": "markdown",
   "id": "06ce9804-1cf5-497a-950c-818a3b891b7f",
   "metadata": {},
   "source": [
    "## Initial analysis on cleaned dataset"
   ]
  },
  {
   "cell_type": "code",
   "execution_count": 21,
   "id": "c43526f8-627f-48c9-8743-1da596c1fbce",
   "metadata": {},
   "outputs": [],
   "source": [
    "YEARS = np.arange(2015, 2021)\n",
    "\n",
    "key_words_lgbt = \"marriage equality|gay|same-sex|same-sex marriage|\\\n",
    "    gay marriage|homosexual marriage|same-gender marriage|lesbian|lesbians|gays|\\\n",
    "    lesbian|bisexual|transgender|transsexual|queer|questioning sexual identity|\\\n",
    "    questioning gender identity|intersex|asexual|pansexual|LGBT|LGBTQ|LGBTQI|LGBTQIA|\\\n",
    "    LGBTQIAA|LGBTQI2A|LGBTQIAAP|LGBTQI2AP|LGBTTQIAAP|LGBTTQI2AP|LGBT+|LGBTQ+|LGBTQI+|\\\n",
    "    LGBTQIA+|LGBTQIAA+|LGBTQI2A+|LGBTQIAAP+|LGBTQI2AP+|LGBTTQIAAP+|LGBTTQI2AP+| polysexual|\\\n",
    "    demisexual|gayprideasexual|asexuals|asexuality|bisexual|bisexuals|bisexuality|cisgender|\\\n",
    "    cisgenders|cisgenderism|demisexual|demisexuals|demisexuality|gay|gays|gaypride|gender \\\n",
    "    fluidity|heteronormative|heteronormatives|heteronormativity|hetero sexual|hetero sexuals|\\\n",
    "    heterosexual|heterosexuals|heterosexuality|homo sexual|homo sexuals|homosexual|homo sexuals|\\\n",
    "    homosexuality|inter sex|intersex|intersexual|intersexuals|intersexuality|lesbian|lesbians|\\\n",
    "    lgbt|lgbt+|lgbtq|lgbtq+|lgbtqi|lgbtqi+|lgbtqi2a|lgbtqi2a+|lgbtqi2ap|lgbtqi2ap+|lgbtqia|\\\n",
    "    lgbtqia+|lgbtqiaa|lgbtqiaa+|lgbtqiaap|lgbtqiaap+|lgbttqi2ap|lgbttqi2ap+|lgbttqiaap|\\\n",
    "    lgbttqiaap+|pan sexual|pan sexuals|pansexual|pansexuals|pansexuality|poly sexual|poly\\\n",
    "    sexuals|polysexual|polysexuals|polysexuality|queer|queers|questioning gender identity|\\\n",
    "    questioning sexual identity|trans gender|trans genders|transgender|transgenders|\\\n",
    "    transgenderism|trans misoginy|transmisoginy|trans phobia|transphobia|transphobic|\\\n",
    "    trans sexual|trans sexuals|transsexual|transsexuals|transsexuality\"\n",
    "key_words_fem = \"gender roles|misandry|misogyny|patriarchy|sexism|woman empowerement|toxic masculinity|\\\n",
    "    women's rights|sex equality|women's role|role of women|women's liberation|feminism|feminists\""
   ]
  },
  {
   "cell_type": "code",
   "execution_count": 23,
   "id": "7d60ae45-a9a2-467b-8a68-0484d0082c52",
   "metadata": {},
   "outputs": [],
   "source": [
    "contains_key_words = cleaned_df[\"Quote\"].str.contains(key_words_fem) # find index containing keywords\n",
    "data_fem = cleaned_df.iloc[np.where(contains_key_words)].reset_index()\n",
    "contains_key_words = cleaned_df[\"Quote\"].str.contains(key_words_lgbt) # find index containing keywords\n",
    "data_lgbt = cleaned_df.iloc[np.where(contains_key_words)].reset_index()"
   ]
  },
  {
   "cell_type": "code",
   "execution_count": 24,
   "id": "897148ad-9d2c-49f7-ac91-ebe5e56cf34f",
   "metadata": {},
   "outputs": [
    {
     "data": {
      "text/plain": [
       "<matplotlib.legend.Legend at 0x1472154c0>"
      ]
     },
     "execution_count": 24,
     "metadata": {},
     "output_type": "execute_result"
    },
    {
     "data": {
      "image/png": "[encoded data removed]",
      "text/plain": [
       "<Figure size 576x432 with 1 Axes>"
      ]
     },
     "metadata": {
      "needs_background": "light"
     },
     "output_type": "display_data"
    }
   ],
   "source": [
    "year_quotes = {year: (cleaned_df.quote_year == year).sum() for year in YEARS} \n",
    "year_quotes_fem = {year: (data_fem.quote_year == year).sum() for year in YEARS} \n",
    "year_quotes_lgbt = {year: (data_lgbt.quote_year == year).sum() for year in YEARS} \n",
    "plt.figure(figsize=(8, 6))\n",
    "plt.suptitle(\"Quotes distribution by years\")\n",
    "plt.xlabel(\"Years\")\n",
    "plt.ylabel(\"Counts\")\n",
    "plt.xticks(rotation=65)\n",
    "plt.bar(year_quotes.keys(), year_quotes.values(), label=\"all\")\n",
    "plt.bar(year_quotes_lgbt.keys(), year_quotes_lgbt.values(), label=\"LGBT\")\n",
    "plt.bar(year_quotes_fem.keys(), year_quotes_fem.values(), label=\"Feminism\")\n",
    "plt.legend(loc=\"best\")"
   ]
  },
  {
   "cell_type": "code",
   "execution_count": null,
   "id": "3b96c1b1-0e8b-455a-8128-597591dd7ac0",
   "metadata": {},
   "outputs": [],
   "source": []
  },
  {
   "cell_type": "markdown",
   "id": "6368cf61-03e2-43d2-b14e-baf5b554e4e0",
   "metadata": {},
   "source": [
    "## Sentiment analysis using VADER"
   ]
  },
  {
   "cell_type": "code",
   "execution_count": 25,
   "id": "23ff66f7-3952-4fbc-82f5-c0dabed94d8f",
   "metadata": {},
   "outputs": [],
   "source": [
    "from nltk.sentiment.vader import SentimentIntensityAnalyzer"
   ]
  },
  {
   "cell_type": "code",
   "execution_count": 26,
   "id": "9bf9d215-cca5-4c3c-a015-4b8be0c72a16",
   "metadata": {},
   "outputs": [],
   "source": [
    "def get_sentiment_intensity(tweet_text):\n",
    "    '''\n",
    "    This method returns the sentiment intensity\n",
    "    within a certain Tweet's text (from -1.0 to 1.0).\n",
    "    '''\n",
    "    sentiment_analyser = SentimentIntensityAnalyzer()\n",
    "    polarity_scores = sentiment_analyser.polarity_scores(tweet_text)\n",
    "    return polarity_scores['compound']"
   ]
  },
  {
   "cell_type": "code",
   "execution_count": 34,
   "id": "06ca915d-5d14-4f6e-a2bf-e12efb6210d2",
   "metadata": {},
   "outputs": [],
   "source": [
    "cleaned_df_100 = cleaned_df[:100]"
   ]
  },
  {
   "cell_type": "code",
   "execution_count": 35,
   "id": "344c69d7-2804-4e6b-8899-7550289ba422",
   "metadata": {},
   "outputs": [
    {
     "name": "stderr",
     "output_type": "stream",
     "text": [
      "<ipython-input-35-72c3fec0a8eb>:1: SettingWithCopyWarning: \n",
      "A value is trying to be set on a copy of a slice from a DataFrame.\n",
      "Try using .loc[row_indexer,col_indexer] = value instead\n",
      "\n",
      "See the caveats in the documentation: https://pandas.pydata.org/pandas-docs/stable/user_guide/indexing.html#returning-a-view-versus-a-copy\n",
      "  cleaned_df_100['Sentiment'] = cleaned_df_100['Quote'].apply(lambda x: get_sentiment_intensity(x))\n"
     ]
    }
   ],
   "source": [
    "cleaned_df_100['Sentiment'] = cleaned_df_100['Quote'].apply(lambda x: get_sentiment_intensity(x))"
   ]
  },
  {
   "cell_type": "code",
   "execution_count": 48,
   "id": "3673cb7c-b42c-4f13-9067-899a158cbade",
   "metadata": {},
   "outputs": [
    {
     "data": {
      "text/html": [
       "<div>\n",
       "<style scoped>\n",
       "    .dataframe tbody tr th:only-of-type {\n",
       "        vertical-align: middle;\n",
       "    }\n",
       "\n",
       "    .dataframe tbody tr th {\n",
       "        vertical-align: top;\n",
       "    }\n",
       "\n",
       "    .dataframe thead th {\n",
       "        text-align: right;\n",
       "    }\n",
       "</style>\n",
       "<table border=\"1\" class=\"dataframe\">\n",
       "  <thead>\n",
       "    <tr style=\"text-align: right;\">\n",
       "      <th></th>\n",
       "      <th>date_of_birth</th>\n",
       "      <th>nationality</th>\n",
       "      <th>gender</th>\n",
       "      <th>occupation</th>\n",
       "      <th>Speaker</th>\n",
       "      <th>Quote</th>\n",
       "      <th>numOccurrences</th>\n",
       "      <th>quote_year</th>\n",
       "      <th>quote_month</th>\n",
       "      <th>Sentiment</th>\n",
       "    </tr>\n",
       "  </thead>\n",
       "  <tbody>\n",
       "    <tr>\n",
       "      <th>0</th>\n",
       "      <td>1971</td>\n",
       "      <td>[United States of America]</td>\n",
       "      <td>[female]</td>\n",
       "      <td>[LGBTIQ+ rights activist]</td>\n",
       "      <td>sarah kate ellis</td>\n",
       "      <td>This loss is a wake-up call that despite remar...</td>\n",
       "      <td>2</td>\n",
       "      <td>2015</td>\n",
       "      <td>11</td>\n",
       "      <td>-0.8760</td>\n",
       "    </tr>\n",
       "    <tr>\n",
       "      <th>1</th>\n",
       "      <td>1971</td>\n",
       "      <td>[United States of America]</td>\n",
       "      <td>[female]</td>\n",
       "      <td>[LGBTIQ+ rights activist]</td>\n",
       "      <td>sarah kate ellis</td>\n",
       "      <td>She didn't see it, she hadn't heard of it, she...</td>\n",
       "      <td>1</td>\n",
       "      <td>2015</td>\n",
       "      <td>6</td>\n",
       "      <td>0.0387</td>\n",
       "    </tr>\n",
       "    <tr>\n",
       "      <th>2</th>\n",
       "      <td>1971</td>\n",
       "      <td>[United States of America]</td>\n",
       "      <td>[female]</td>\n",
       "      <td>[LGBTIQ+ rights activist]</td>\n",
       "      <td>sarah kate ellis</td>\n",
       "      <td>As a journalist and anchor who reaches million...</td>\n",
       "      <td>1</td>\n",
       "      <td>2015</td>\n",
       "      <td>4</td>\n",
       "      <td>0.4939</td>\n",
       "    </tr>\n",
       "    <tr>\n",
       "      <th>3</th>\n",
       "      <td>1971</td>\n",
       "      <td>[United States of America]</td>\n",
       "      <td>[female]</td>\n",
       "      <td>[LGBTIQ+ rights activist]</td>\n",
       "      <td>sarah kate ellis</td>\n",
       "      <td>By empowering people to talk about their gende...</td>\n",
       "      <td>6</td>\n",
       "      <td>2015</td>\n",
       "      <td>2</td>\n",
       "      <td>0.7003</td>\n",
       "    </tr>\n",
       "    <tr>\n",
       "      <th>4</th>\n",
       "      <td>1971</td>\n",
       "      <td>[United States of America]</td>\n",
       "      <td>[female]</td>\n",
       "      <td>[LGBTIQ+ rights activist]</td>\n",
       "      <td>sarah kate ellis</td>\n",
       "      <td>By investing in this dangerous programming, TL...</td>\n",
       "      <td>133</td>\n",
       "      <td>2015</td>\n",
       "      <td>1</td>\n",
       "      <td>-0.5610</td>\n",
       "    </tr>\n",
       "    <tr>\n",
       "      <th>5</th>\n",
       "      <td>1971</td>\n",
       "      <td>[United States of America]</td>\n",
       "      <td>[female]</td>\n",
       "      <td>[LGBTIQ+ rights activist]</td>\n",
       "      <td>sarah kate ellis</td>\n",
       "      <td>attitudes within the Catholic Church towards t...</td>\n",
       "      <td>1</td>\n",
       "      <td>2015</td>\n",
       "      <td>9</td>\n",
       "      <td>0.0000</td>\n",
       "    </tr>\n",
       "    <tr>\n",
       "      <th>6</th>\n",
       "      <td>1971</td>\n",
       "      <td>[United States of America]</td>\n",
       "      <td>[female]</td>\n",
       "      <td>[LGBTIQ+ rights activist]</td>\n",
       "      <td>sarah kate ellis</td>\n",
       "      <td>showing that many Americans think that we've a...</td>\n",
       "      <td>1</td>\n",
       "      <td>2015</td>\n",
       "      <td>12</td>\n",
       "      <td>0.4588</td>\n",
       "    </tr>\n",
       "    <tr>\n",
       "      <th>7</th>\n",
       "      <td>1971</td>\n",
       "      <td>[United States of America]</td>\n",
       "      <td>[female]</td>\n",
       "      <td>[LGBTIQ+ rights activist]</td>\n",
       "      <td>sarah kate ellis</td>\n",
       "      <td>These ads have the potential to accelerate muc...</td>\n",
       "      <td>1</td>\n",
       "      <td>2015</td>\n",
       "      <td>12</td>\n",
       "      <td>0.4588</td>\n",
       "    </tr>\n",
       "    <tr>\n",
       "      <th>8</th>\n",
       "      <td>1971</td>\n",
       "      <td>[United States of America]</td>\n",
       "      <td>[female]</td>\n",
       "      <td>[LGBTIQ+ rights activist]</td>\n",
       "      <td>sarah kate ellis</td>\n",
       "      <td>By sharing this story, Bruce Jenner has shined...</td>\n",
       "      <td>118</td>\n",
       "      <td>2015</td>\n",
       "      <td>4</td>\n",
       "      <td>0.7579</td>\n",
       "    </tr>\n",
       "    <tr>\n",
       "      <th>9</th>\n",
       "      <td>1971</td>\n",
       "      <td>[United States of America]</td>\n",
       "      <td>[female]</td>\n",
       "      <td>[LGBTIQ+ rights activist]</td>\n",
       "      <td>sarah kate ellis</td>\n",
       "      <td>We need to push media companies and creators t...</td>\n",
       "      <td>5</td>\n",
       "      <td>2015</td>\n",
       "      <td>9</td>\n",
       "      <td>0.0000</td>\n",
       "    </tr>\n",
       "  </tbody>\n",
       "</table>\n",
       "</div>"
      ],
      "text/plain": [
       "  date_of_birth                 nationality    gender  \\\n",
       "0          1971  [United States of America]  [female]   \n",
       "1          1971  [United States of America]  [female]   \n",
       "2          1971  [United States of America]  [female]   \n",
       "3          1971  [United States of America]  [female]   \n",
       "4          1971  [United States of America]  [female]   \n",
       "5          1971  [United States of America]  [female]   \n",
       "6          1971  [United States of America]  [female]   \n",
       "7          1971  [United States of America]  [female]   \n",
       "8          1971  [United States of America]  [female]   \n",
       "9          1971  [United States of America]  [female]   \n",
       "\n",
       "                  occupation           Speaker  \\\n",
       "0  [LGBTIQ+ rights activist]  sarah kate ellis   \n",
       "1  [LGBTIQ+ rights activist]  sarah kate ellis   \n",
       "2  [LGBTIQ+ rights activist]  sarah kate ellis   \n",
       "3  [LGBTIQ+ rights activist]  sarah kate ellis   \n",
       "4  [LGBTIQ+ rights activist]  sarah kate ellis   \n",
       "5  [LGBTIQ+ rights activist]  sarah kate ellis   \n",
       "6  [LGBTIQ+ rights activist]  sarah kate ellis   \n",
       "7  [LGBTIQ+ rights activist]  sarah kate ellis   \n",
       "8  [LGBTIQ+ rights activist]  sarah kate ellis   \n",
       "9  [LGBTIQ+ rights activist]  sarah kate ellis   \n",
       "\n",
       "                                               Quote  numOccurrences  \\\n",
       "0  This loss is a wake-up call that despite remar...               2   \n",
       "1  She didn't see it, she hadn't heard of it, she...               1   \n",
       "2  As a journalist and anchor who reaches million...               1   \n",
       "3  By empowering people to talk about their gende...               6   \n",
       "4  By investing in this dangerous programming, TL...             133   \n",
       "5  attitudes within the Catholic Church towards t...               1   \n",
       "6  showing that many Americans think that we've a...               1   \n",
       "7  These ads have the potential to accelerate muc...               1   \n",
       "8  By sharing this story, Bruce Jenner has shined...             118   \n",
       "9  We need to push media companies and creators t...               5   \n",
       "\n",
       "   quote_year  quote_month  Sentiment  \n",
       "0        2015           11    -0.8760  \n",
       "1        2015            6     0.0387  \n",
       "2        2015            4     0.4939  \n",
       "3        2015            2     0.7003  \n",
       "4        2015            1    -0.5610  \n",
       "5        2015            9     0.0000  \n",
       "6        2015           12     0.4588  \n",
       "7        2015           12     0.4588  \n",
       "8        2015            4     0.7579  \n",
       "9        2015            9     0.0000  "
      ]
     },
     "execution_count": 48,
     "metadata": {},
     "output_type": "execute_result"
    }
   ],
   "source": [
    "cleaned_df_100.head(10)"
   ]
  },
  {
   "cell_type": "code",
   "execution_count": 49,
   "id": "854b73d5-6162-409c-94e7-4e4a434f5aa1",
   "metadata": {},
   "outputs": [
    {
     "name": "stdout",
     "output_type": "stream",
     "text": [
      "0 This loss is a wake-up call that despite remarkable progress for LGBT equality, we must never become complacent in the face of injustice,\n",
      "1 She didn't see it, she hadn't heard of it, she knew that what she felt inside wasn't lining up with her body, but she wasn't aware of what transgender even met. So, I think even building visibility about what transgender is increases hopefully the people who are living in pain right now, who are potentially suicide candidates, under who they are, accept who they are and see that they can live in this world happily.\n",
      "2 As a journalist and anchor who reaches millions of viewers, he bring stories to national attention, leading the conversation and accelerating acceptance of the LGBT community.\n",
      "3 By empowering people to talk about their gender in their own words, Facebook continues to be a leader in its commitment to respecting and protecting LGBT users.\n",
      "4 By investing in this dangerous programming, TLC is putting countless young LGBT people in harm's way.\n",
      "5 attitudes within the Catholic Church towards the LGBT community.\n",
      "6 showing that many Americans think that we've already crossed the finish line for LGBT equality and acceptance.\n",
      "7 These ads have the potential to accelerate much needed acceptance of the LGBT community.\n",
      "8 By sharing this story, Bruce Jenner has shined a light on what it means to be transgender and live authentically in the face of unimaginable public scrutiny. Though Jenner's journey is one that is deeply personal, it is also one that will impact and inspire countless people around the world.\n",
      "9 We need to push media companies and creators to represent the full diversity of humanity of the LGBT community,\n"
     ]
    }
   ],
   "source": [
    "for idx, i in enumerate(cleaned_df_100[\"Quote\"].iloc[:10]):\n",
    "   print(idx, i)"
   ]
  },
  {
   "cell_type": "code",
   "execution_count": null,
   "id": "7d3238b3-61e4-4eb1-b7fc-99c700032d96",
   "metadata": {},
   "outputs": [],
   "source": []
  }
 ],
 "metadata": {
  "kernelspec": {
   "display_name": "Python 3",
   "language": "python",
   "name": "python3"
  },
  "language_info": {
   "codemirror_mode": {
    "name": "ipython",
    "version": 3
   },
   "file_extension": ".py",
   "mimetype": "text/x-python",
   "name": "python",
   "nbconvert_exporter": "python",
   "pygments_lexer": "ipython3",
   "version": "3.8.8"
  }
 },
 "nbformat": 4,
 "nbformat_minor": 5
}
