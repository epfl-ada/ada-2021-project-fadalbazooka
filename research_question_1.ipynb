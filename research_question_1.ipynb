{
 "cells": [
  {
   "cell_type": "code",
   "execution_count": 75,
   "id": "00850399-7f3c-4de5-afe3-efc1678a03b3",
   "metadata": {},
   "outputs": [],
   "source": [
    "import seaborn as sns \n",
    "from matplotlib import pyplot as plt \n",
    "import pandas as pd\n",
    "import numpy as np\n",
    "import nltk \n",
    "from scipy import stats\n",
    "from collections import Counter"
   ]
  },
  {
   "cell_type": "code",
   "execution_count": 76,
   "id": "caaac8b5-cbb1-4f67-afdc-1ef43239c649",
   "metadata": {},
   "outputs": [
    {
     "name": "stderr",
     "output_type": "stream",
     "text": [
      "<ipython-input-76-e56e3118e361>:7: SettingWithCopyWarning: \n",
      "A value is trying to be set on a copy of a slice from a DataFrame.\n",
      "Try using .loc[row_indexer,col_indexer] = value instead\n",
      "\n",
      "See the caveats in the documentation: https://pandas.pydata.org/pandas-docs/stable/user_guide/indexing.html#returning-a-view-versus-a-copy\n",
      "  df_time['quote_day'] = np.ones(len(df_time), dtype = int)\n"
     ]
    },
    {
     "data": {
      "text/html": [
       "<div>\n",
       "<style scoped>\n",
       "    .dataframe tbody tr th:only-of-type {\n",
       "        vertical-align: middle;\n",
       "    }\n",
       "\n",
       "    .dataframe tbody tr th {\n",
       "        vertical-align: top;\n",
       "    }\n",
       "\n",
       "    .dataframe thead th {\n",
       "        text-align: right;\n",
       "    }\n",
       "</style>\n",
       "<table border=\"1\" class=\"dataframe\">\n",
       "  <thead>\n",
       "    <tr style=\"text-align: right;\">\n",
       "      <th></th>\n",
       "      <th>date_of_birth</th>\n",
       "      <th>nationality</th>\n",
       "      <th>gender</th>\n",
       "      <th>Speaker</th>\n",
       "      <th>Quote</th>\n",
       "      <th>Sentiment</th>\n",
       "      <th>quote_date</th>\n",
       "    </tr>\n",
       "  </thead>\n",
       "  <tbody>\n",
       "    <tr>\n",
       "      <th>0</th>\n",
       "      <td>1971</td>\n",
       "      <td>United States of America</td>\n",
       "      <td>female</td>\n",
       "      <td>sarah kate ellis</td>\n",
       "      <td>This loss is a wake-up call that despite remar...</td>\n",
       "      <td>-0.8760</td>\n",
       "      <td>2015-11-01</td>\n",
       "    </tr>\n",
       "    <tr>\n",
       "      <th>1</th>\n",
       "      <td>1971</td>\n",
       "      <td>United States of America</td>\n",
       "      <td>female</td>\n",
       "      <td>sarah kate ellis</td>\n",
       "      <td>She didn't see it, she hadn't heard of it, she...</td>\n",
       "      <td>0.0387</td>\n",
       "      <td>2015-06-01</td>\n",
       "    </tr>\n",
       "    <tr>\n",
       "      <th>2</th>\n",
       "      <td>1971</td>\n",
       "      <td>United States of America</td>\n",
       "      <td>female</td>\n",
       "      <td>sarah kate ellis</td>\n",
       "      <td>As a journalist and anchor who reaches million...</td>\n",
       "      <td>0.4939</td>\n",
       "      <td>2015-04-01</td>\n",
       "    </tr>\n",
       "    <tr>\n",
       "      <th>3</th>\n",
       "      <td>1971</td>\n",
       "      <td>United States of America</td>\n",
       "      <td>female</td>\n",
       "      <td>sarah kate ellis</td>\n",
       "      <td>By empowering people to talk about their gende...</td>\n",
       "      <td>0.7003</td>\n",
       "      <td>2015-02-01</td>\n",
       "    </tr>\n",
       "    <tr>\n",
       "      <th>4</th>\n",
       "      <td>1971</td>\n",
       "      <td>United States of America</td>\n",
       "      <td>female</td>\n",
       "      <td>sarah kate ellis</td>\n",
       "      <td>By investing in this dangerous programming, TL...</td>\n",
       "      <td>-0.5610</td>\n",
       "      <td>2015-01-01</td>\n",
       "    </tr>\n",
       "    <tr>\n",
       "      <th>5</th>\n",
       "      <td>1971</td>\n",
       "      <td>United States of America</td>\n",
       "      <td>female</td>\n",
       "      <td>sarah kate ellis</td>\n",
       "      <td>attitudes within the Catholic Church towards t...</td>\n",
       "      <td>0.0000</td>\n",
       "      <td>2015-09-01</td>\n",
       "    </tr>\n",
       "    <tr>\n",
       "      <th>6</th>\n",
       "      <td>1971</td>\n",
       "      <td>United States of America</td>\n",
       "      <td>female</td>\n",
       "      <td>sarah kate ellis</td>\n",
       "      <td>showing that many Americans think that we've a...</td>\n",
       "      <td>0.4588</td>\n",
       "      <td>2015-12-01</td>\n",
       "    </tr>\n",
       "    <tr>\n",
       "      <th>7</th>\n",
       "      <td>1971</td>\n",
       "      <td>United States of America</td>\n",
       "      <td>female</td>\n",
       "      <td>sarah kate ellis</td>\n",
       "      <td>These ads have the potential to accelerate muc...</td>\n",
       "      <td>0.4588</td>\n",
       "      <td>2015-12-01</td>\n",
       "    </tr>\n",
       "    <tr>\n",
       "      <th>8</th>\n",
       "      <td>1971</td>\n",
       "      <td>United States of America</td>\n",
       "      <td>female</td>\n",
       "      <td>sarah kate ellis</td>\n",
       "      <td>By sharing this story, Bruce Jenner has shined...</td>\n",
       "      <td>0.7579</td>\n",
       "      <td>2015-04-01</td>\n",
       "    </tr>\n",
       "    <tr>\n",
       "      <th>9</th>\n",
       "      <td>1971</td>\n",
       "      <td>United States of America</td>\n",
       "      <td>female</td>\n",
       "      <td>sarah kate ellis</td>\n",
       "      <td>We need to push media companies and creators t...</td>\n",
       "      <td>0.0000</td>\n",
       "      <td>2015-09-01</td>\n",
       "    </tr>\n",
       "  </tbody>\n",
       "</table>\n",
       "</div>"
      ],
      "text/plain": [
       "  date_of_birth               nationality  gender           Speaker  \\\n",
       "0          1971  United States of America  female  sarah kate ellis   \n",
       "1          1971  United States of America  female  sarah kate ellis   \n",
       "2          1971  United States of America  female  sarah kate ellis   \n",
       "3          1971  United States of America  female  sarah kate ellis   \n",
       "4          1971  United States of America  female  sarah kate ellis   \n",
       "5          1971  United States of America  female  sarah kate ellis   \n",
       "6          1971  United States of America  female  sarah kate ellis   \n",
       "7          1971  United States of America  female  sarah kate ellis   \n",
       "8          1971  United States of America  female  sarah kate ellis   \n",
       "9          1971  United States of America  female  sarah kate ellis   \n",
       "\n",
       "                                               Quote  Sentiment quote_date  \n",
       "0  This loss is a wake-up call that despite remar...    -0.8760 2015-11-01  \n",
       "1  She didn't see it, she hadn't heard of it, she...     0.0387 2015-06-01  \n",
       "2  As a journalist and anchor who reaches million...     0.4939 2015-04-01  \n",
       "3  By empowering people to talk about their gende...     0.7003 2015-02-01  \n",
       "4  By investing in this dangerous programming, TL...    -0.5610 2015-01-01  \n",
       "5  attitudes within the Catholic Church towards t...     0.0000 2015-09-01  \n",
       "6  showing that many Americans think that we've a...     0.4588 2015-12-01  \n",
       "7  These ads have the potential to accelerate muc...     0.4588 2015-12-01  \n",
       "8  By sharing this story, Bruce Jenner has shined...     0.7579 2015-04-01  \n",
       "9  We need to push media companies and creators t...     0.0000 2015-09-01  "
      ]
     },
     "execution_count": 76,
     "metadata": {},
     "output_type": "execute_result"
    }
   ],
   "source": [
    "# import expanded filtered quote file (after sentiment & stance analysis)\n",
    "# quotes_expanded = pd.read_json(\"filtered.json\") #we would replace the file here by the pickle containing sentiment + stance\n",
    "quotes_expanded = pd.read_pickle(\"added_sentiment.pkl\")\n",
    "quotes_expanded = quotes_expanded.reset_index(drop=True)\n",
    "\n",
    "df_time = quotes_expanded[['quote_year','quote_month']]\n",
    "df_time['quote_day'] = np.ones(len(df_time), dtype = int)\n",
    "df_time.columns = ['year', 'month', 'day']\n",
    "df_time = pd.to_datetime(df_time)\n",
    "quotes_expanded[\"quote_date\"] = df_time\n",
    "quotes_expanded = quotes_expanded.drop(['numOccurrences','quote_year', 'quote_month','occupation'], axis=1)\n",
    "\n",
    "quotes_expanded.gender = [elem[0] for elem in quotes_expanded.gender]\n",
    "quotes_expanded.nationality = [elem[0] for elem in quotes_expanded.nationality]\n",
    "\n",
    "quotes_expanded.head(10)"
   ]
  },
  {
   "cell_type": "markdown",
   "id": "681b39d9-6645-4983-b9d5-2ef2ae349c38",
   "metadata": {},
   "source": [
    "## 1) How legalization of same-sex marriage influenced the opinion of the authors of the quotes?\n",
    "\n",
    "Answer roadmap : \n",
    "- 1 : Start with countries list\n",
    "- 2 : Make up a table indicating the gay marriage legalization year\n",
    "- 3 : Keep only a dataset where countries satisfies both [legalization year between 2015 and 2020] + [there are quotes both before and after the legalization]\n",
    "- 4 : Compare pairs of means : country mean score before legalization VS after\n",
    "- 5 : Test the null for each pair\n",
    "- 6 : Conclude\n",
    "\n",
    "### Step 1"
   ]
  },
  {
   "cell_type": "code",
   "execution_count": 77,
   "id": "47fa2f9c-5493-4c0e-b89c-4564a0d3af21",
   "metadata": {},
   "outputs": [],
   "source": [
    "nationalities = np.hstack(quotes_expanded.nationality.dropna().to_numpy())\n",
    "nationalities_dict = dict(Counter(nationalities))\n",
    "nationalities_dict = {'Country': list(nationalities_dict.keys()), 'Counts': list(nationalities_dict.values())}\n",
    "nationalities_df = pd.DataFrame.from_dict(nationalities_dict)\n",
    "nationalities_df = nationalities_df.sort_values(by='Counts', ascending=False)"
   ]
  },
  {
   "cell_type": "code",
   "execution_count": 78,
   "id": "f1827ad1-0a3e-470a-8056-821a05bbe788",
   "metadata": {},
   "outputs": [
    {
     "data": {
      "text/html": [
       "<div>\n",
       "<style scoped>\n",
       "    .dataframe tbody tr th:only-of-type {\n",
       "        vertical-align: middle;\n",
       "    }\n",
       "\n",
       "    .dataframe tbody tr th {\n",
       "        vertical-align: top;\n",
       "    }\n",
       "\n",
       "    .dataframe thead th {\n",
       "        text-align: right;\n",
       "    }\n",
       "</style>\n",
       "<table border=\"1\" class=\"dataframe\">\n",
       "  <thead>\n",
       "    <tr style=\"text-align: right;\">\n",
       "      <th></th>\n",
       "      <th>Country</th>\n",
       "      <th>Counts</th>\n",
       "    </tr>\n",
       "  </thead>\n",
       "  <tbody>\n",
       "    <tr>\n",
       "      <th>0</th>\n",
       "      <td>United States of America</td>\n",
       "      <td>70307</td>\n",
       "    </tr>\n",
       "    <tr>\n",
       "      <th>2</th>\n",
       "      <td>United Kingdom</td>\n",
       "      <td>14561</td>\n",
       "    </tr>\n",
       "    <tr>\n",
       "      <th>1</th>\n",
       "      <td>Australia</td>\n",
       "      <td>7230</td>\n",
       "    </tr>\n",
       "    <tr>\n",
       "      <th>3</th>\n",
       "      <td>Canada</td>\n",
       "      <td>4475</td>\n",
       "    </tr>\n",
       "    <tr>\n",
       "      <th>6</th>\n",
       "      <td>India</td>\n",
       "      <td>2585</td>\n",
       "    </tr>\n",
       "    <tr>\n",
       "      <th>8</th>\n",
       "      <td>Philippines</td>\n",
       "      <td>2020</td>\n",
       "    </tr>\n",
       "    <tr>\n",
       "      <th>4</th>\n",
       "      <td>Ireland</td>\n",
       "      <td>1672</td>\n",
       "    </tr>\n",
       "    <tr>\n",
       "      <th>29</th>\n",
       "      <td>New Zealand</td>\n",
       "      <td>894</td>\n",
       "    </tr>\n",
       "    <tr>\n",
       "      <th>24</th>\n",
       "      <td>Germany</td>\n",
       "      <td>689</td>\n",
       "    </tr>\n",
       "    <tr>\n",
       "      <th>11</th>\n",
       "      <td>South Africa</td>\n",
       "      <td>685</td>\n",
       "    </tr>\n",
       "  </tbody>\n",
       "</table>\n",
       "</div>"
      ],
      "text/plain": [
       "                     Country  Counts\n",
       "0   United States of America   70307\n",
       "2             United Kingdom   14561\n",
       "1                  Australia    7230\n",
       "3                     Canada    4475\n",
       "6                      India    2585\n",
       "8                Philippines    2020\n",
       "4                    Ireland    1672\n",
       "29               New Zealand     894\n",
       "24                   Germany     689\n",
       "11              South Africa     685"
      ]
     },
     "execution_count": 78,
     "metadata": {},
     "output_type": "execute_result"
    }
   ],
   "source": [
    "nationalities_df.head(10)"
   ]
  },
  {
   "cell_type": "code",
   "execution_count": 79,
   "id": "6ab76b0c-89d1-4ce3-900a-d3466847ef19",
   "metadata": {},
   "outputs": [
    {
     "data": {
      "text/html": [
       "<div>\n",
       "<style scoped>\n",
       "    .dataframe tbody tr th:only-of-type {\n",
       "        vertical-align: middle;\n",
       "    }\n",
       "\n",
       "    .dataframe tbody tr th {\n",
       "        vertical-align: top;\n",
       "    }\n",
       "\n",
       "    .dataframe thead th {\n",
       "        text-align: right;\n",
       "    }\n",
       "</style>\n",
       "<table border=\"1\" class=\"dataframe\">\n",
       "  <thead>\n",
       "    <tr style=\"text-align: right;\">\n",
       "      <th></th>\n",
       "      <th>Country</th>\n",
       "      <th>Counts</th>\n",
       "    </tr>\n",
       "  </thead>\n",
       "  <tbody>\n",
       "    <tr>\n",
       "      <th>158</th>\n",
       "      <td>British America</td>\n",
       "      <td>2</td>\n",
       "    </tr>\n",
       "    <tr>\n",
       "      <th>157</th>\n",
       "      <td>Kingdom of Afghanistan</td>\n",
       "      <td>2</td>\n",
       "    </tr>\n",
       "    <tr>\n",
       "      <th>154</th>\n",
       "      <td>Bhutan</td>\n",
       "      <td>2</td>\n",
       "    </tr>\n",
       "    <tr>\n",
       "      <th>153</th>\n",
       "      <td>Ecuador</td>\n",
       "      <td>2</td>\n",
       "    </tr>\n",
       "    <tr>\n",
       "      <th>180</th>\n",
       "      <td>Kingdom of France</td>\n",
       "      <td>2</td>\n",
       "    </tr>\n",
       "    <tr>\n",
       "      <th>164</th>\n",
       "      <td>Ukrainian Soviet Socialist Republic</td>\n",
       "      <td>1</td>\n",
       "    </tr>\n",
       "    <tr>\n",
       "      <th>162</th>\n",
       "      <td>Flor</td>\n",
       "      <td>1</td>\n",
       "    </tr>\n",
       "    <tr>\n",
       "      <th>173</th>\n",
       "      <td>Guam</td>\n",
       "      <td>1</td>\n",
       "    </tr>\n",
       "    <tr>\n",
       "      <th>174</th>\n",
       "      <td>Kingdom of Italy</td>\n",
       "      <td>1</td>\n",
       "    </tr>\n",
       "    <tr>\n",
       "      <th>144</th>\n",
       "      <td>Belarus</td>\n",
       "      <td>1</td>\n",
       "    </tr>\n",
       "  </tbody>\n",
       "</table>\n",
       "</div>"
      ],
      "text/plain": [
       "                                 Country  Counts\n",
       "158                      British America       2\n",
       "157               Kingdom of Afghanistan       2\n",
       "154                               Bhutan       2\n",
       "153                              Ecuador       2\n",
       "180                    Kingdom of France       2\n",
       "164  Ukrainian Soviet Socialist Republic       1\n",
       "162                                 Flor       1\n",
       "173                                 Guam       1\n",
       "174                     Kingdom of Italy       1\n",
       "144                              Belarus       1"
      ]
     },
     "execution_count": 79,
     "metadata": {},
     "output_type": "execute_result"
    }
   ],
   "source": [
    "nationalities_df.tail(10)"
   ]
  },
  {
   "cell_type": "code",
   "execution_count": 80,
   "id": "7daae852-3924-436c-87e1-eae041f6b626",
   "metadata": {},
   "outputs": [
    {
     "data": {
      "text/plain": [
       "633.9005524861878"
      ]
     },
     "execution_count": 80,
     "metadata": {},
     "output_type": "execute_result"
    }
   ],
   "source": [
    "nationalities_df.Counts.mean()"
   ]
  },
  {
   "cell_type": "code",
   "execution_count": 81,
   "id": "fd62419c-cefe-4184-97ab-6d3f50384f6b",
   "metadata": {},
   "outputs": [],
   "source": [
    "nationalities_short = nationalities_df[nationalities_df['Counts'] > 1000]\n",
    "nationalities_short = nationalities_short.reset_index(drop=True)"
   ]
  },
  {
   "cell_type": "code",
   "execution_count": 82,
   "id": "19266e65-0398-4ff1-a594-c5218c678e93",
   "metadata": {},
   "outputs": [
    {
     "data": {
      "text/html": [
       "<div>\n",
       "<style scoped>\n",
       "    .dataframe tbody tr th:only-of-type {\n",
       "        vertical-align: middle;\n",
       "    }\n",
       "\n",
       "    .dataframe tbody tr th {\n",
       "        vertical-align: top;\n",
       "    }\n",
       "\n",
       "    .dataframe thead th {\n",
       "        text-align: right;\n",
       "    }\n",
       "</style>\n",
       "<table border=\"1\" class=\"dataframe\">\n",
       "  <thead>\n",
       "    <tr style=\"text-align: right;\">\n",
       "      <th></th>\n",
       "      <th>Country</th>\n",
       "      <th>Counts</th>\n",
       "    </tr>\n",
       "  </thead>\n",
       "  <tbody>\n",
       "    <tr>\n",
       "      <th>0</th>\n",
       "      <td>United States of America</td>\n",
       "      <td>70307</td>\n",
       "    </tr>\n",
       "    <tr>\n",
       "      <th>1</th>\n",
       "      <td>United Kingdom</td>\n",
       "      <td>14561</td>\n",
       "    </tr>\n",
       "    <tr>\n",
       "      <th>2</th>\n",
       "      <td>Australia</td>\n",
       "      <td>7230</td>\n",
       "    </tr>\n",
       "    <tr>\n",
       "      <th>3</th>\n",
       "      <td>Canada</td>\n",
       "      <td>4475</td>\n",
       "    </tr>\n",
       "    <tr>\n",
       "      <th>4</th>\n",
       "      <td>India</td>\n",
       "      <td>2585</td>\n",
       "    </tr>\n",
       "    <tr>\n",
       "      <th>5</th>\n",
       "      <td>Philippines</td>\n",
       "      <td>2020</td>\n",
       "    </tr>\n",
       "    <tr>\n",
       "      <th>6</th>\n",
       "      <td>Ireland</td>\n",
       "      <td>1672</td>\n",
       "    </tr>\n",
       "  </tbody>\n",
       "</table>\n",
       "</div>"
      ],
      "text/plain": [
       "                    Country  Counts\n",
       "0  United States of America   70307\n",
       "1            United Kingdom   14561\n",
       "2                 Australia    7230\n",
       "3                    Canada    4475\n",
       "4                     India    2585\n",
       "5               Philippines    2020\n",
       "6                   Ireland    1672"
      ]
     },
     "execution_count": 82,
     "metadata": {},
     "output_type": "execute_result"
    }
   ],
   "source": [
    "nationalities_short.head(10)"
   ]
  },
  {
   "cell_type": "code",
   "execution_count": 83,
   "id": "72df08b4-eaa4-4b4b-8cb9-483f1261b631",
   "metadata": {},
   "outputs": [
    {
     "data": {
      "text/html": [
       "<div>\n",
       "<style scoped>\n",
       "    .dataframe tbody tr th:only-of-type {\n",
       "        vertical-align: middle;\n",
       "    }\n",
       "\n",
       "    .dataframe tbody tr th {\n",
       "        vertical-align: top;\n",
       "    }\n",
       "\n",
       "    .dataframe thead th {\n",
       "        text-align: right;\n",
       "    }\n",
       "</style>\n",
       "<table border=\"1\" class=\"dataframe\">\n",
       "  <thead>\n",
       "    <tr style=\"text-align: right;\">\n",
       "      <th></th>\n",
       "      <th>Country</th>\n",
       "      <th>Counts</th>\n",
       "    </tr>\n",
       "  </thead>\n",
       "  <tbody>\n",
       "    <tr>\n",
       "      <th>0</th>\n",
       "      <td>United States of America</td>\n",
       "      <td>70307</td>\n",
       "    </tr>\n",
       "    <tr>\n",
       "      <th>1</th>\n",
       "      <td>United Kingdom</td>\n",
       "      <td>14561</td>\n",
       "    </tr>\n",
       "    <tr>\n",
       "      <th>2</th>\n",
       "      <td>Australia</td>\n",
       "      <td>7230</td>\n",
       "    </tr>\n",
       "    <tr>\n",
       "      <th>3</th>\n",
       "      <td>Canada</td>\n",
       "      <td>4475</td>\n",
       "    </tr>\n",
       "    <tr>\n",
       "      <th>4</th>\n",
       "      <td>India</td>\n",
       "      <td>2585</td>\n",
       "    </tr>\n",
       "    <tr>\n",
       "      <th>5</th>\n",
       "      <td>Ireland</td>\n",
       "      <td>1672</td>\n",
       "    </tr>\n",
       "  </tbody>\n",
       "</table>\n",
       "</div>"
      ],
      "text/plain": [
       "                    Country  Counts\n",
       "0  United States of America   70307\n",
       "1            United Kingdom   14561\n",
       "2                 Australia    7230\n",
       "3                    Canada    4475\n",
       "4                     India    2585\n",
       "5                   Ireland    1672"
      ]
     },
     "execution_count": 83,
     "metadata": {},
     "output_type": "execute_result"
    }
   ],
   "source": [
    "nationalities_short = nationalities_short.drop(index=5)\n",
    "nationalities_short = nationalities_short.reset_index(drop=True)\n",
    "nationalities_short.head(10)"
   ]
  },
  {
   "cell_type": "markdown",
   "id": "96a46243-0f73-4f5a-8e8c-95cb44e81c5a",
   "metadata": {},
   "source": [
    "*Philippines* were dropped because of the numerous changes detailed below, which will let us analyze them in a separate task.\n",
    "\n",
    "Same-sex marriage is still not legal in *Philippines*, and, as stated in the initial analysis, this topic has know a bigh number of ups and downs :\n",
    "- Anti-same sex marriage bills have been introduced to the Senate and Congress in 2006,\n",
    "- A Presidential Palace spokesperson commented on same-sex marriage in 2014 saying \"We must respect the rights of individuals to enter into such partnerships as part of their human rights\",\n",
    "- During his presidential campaign in February 2016, Rodrigo Duterte announced that should he win the election he would consider legalizing same-sex marriage, \n",
    "- On March 2017, however, Duterte said that he personally opposes same-sex marriage,\n",
    "- On December 2017, Duterte changed his position on the issue, expressing his support again, guaranteeing that, during his term, the rights of LGBT people in the Philippines would be protected,\n",
    "- On June 2018, the Philippine Supreme Court heard oral arguments, seeking to legalize same-sex marriage,\n",
    "- On September 2019, the court dismissed the case for lack of standing.\n",
    "\n",
    "For this purpose, 6 periods could be analyzed for *Philippines*, instead of 2 :\n",
    "- January 2015 - January 2016,\n",
    "- February 2016 - February 2017,\n",
    "- March 2017 - November 2017,\n",
    "- December 2017 - May 2018,\n",
    "- June 2018 - August 2019,\n",
    "- September 2019 - December 2020."
   ]
  },
  {
   "cell_type": "markdown",
   "id": "fe54d889-b046-4671-b8b6-0288c0fafc95",
   "metadata": {},
   "source": [
    "### Step 2"
   ]
  },
  {
   "cell_type": "code",
   "execution_count": 84,
   "id": "5bccd6ea-f5f8-49a4-ac99-bb74cd9ca702",
   "metadata": {},
   "outputs": [
    {
     "data": {
      "text/html": [
       "<div>\n",
       "<style scoped>\n",
       "    .dataframe tbody tr th:only-of-type {\n",
       "        vertical-align: middle;\n",
       "    }\n",
       "\n",
       "    .dataframe tbody tr th {\n",
       "        vertical-align: top;\n",
       "    }\n",
       "\n",
       "    .dataframe thead th {\n",
       "        text-align: right;\n",
       "    }\n",
       "</style>\n",
       "<table border=\"1\" class=\"dataframe\">\n",
       "  <thead>\n",
       "    <tr style=\"text-align: right;\">\n",
       "      <th></th>\n",
       "      <th>Country</th>\n",
       "      <th>Counts</th>\n",
       "      <th>Legalization_date</th>\n",
       "    </tr>\n",
       "  </thead>\n",
       "  <tbody>\n",
       "    <tr>\n",
       "      <th>0</th>\n",
       "      <td>United States of America</td>\n",
       "      <td>70307</td>\n",
       "      <td>2015-06-01</td>\n",
       "    </tr>\n",
       "    <tr>\n",
       "      <th>1</th>\n",
       "      <td>United Kingdom</td>\n",
       "      <td>14561</td>\n",
       "      <td>2014-03-01</td>\n",
       "    </tr>\n",
       "    <tr>\n",
       "      <th>2</th>\n",
       "      <td>Australia</td>\n",
       "      <td>7230</td>\n",
       "      <td>2017-12-01</td>\n",
       "    </tr>\n",
       "    <tr>\n",
       "      <th>3</th>\n",
       "      <td>Canada</td>\n",
       "      <td>4475</td>\n",
       "      <td>2005-07-01</td>\n",
       "    </tr>\n",
       "    <tr>\n",
       "      <th>4</th>\n",
       "      <td>India</td>\n",
       "      <td>2585</td>\n",
       "      <td>2017-08-01</td>\n",
       "    </tr>\n",
       "    <tr>\n",
       "      <th>5</th>\n",
       "      <td>Ireland</td>\n",
       "      <td>1672</td>\n",
       "      <td>2015-05-01</td>\n",
       "    </tr>\n",
       "  </tbody>\n",
       "</table>\n",
       "</div>"
      ],
      "text/plain": [
       "                    Country  Counts Legalization_date\n",
       "0  United States of America   70307        2015-06-01\n",
       "1            United Kingdom   14561        2014-03-01\n",
       "2                 Australia    7230        2017-12-01\n",
       "3                    Canada    4475        2005-07-01\n",
       "4                     India    2585        2017-08-01\n",
       "5                   Ireland    1672        2015-05-01"
      ]
     },
     "execution_count": 84,
     "metadata": {},
     "output_type": "execute_result"
    }
   ],
   "source": [
    "dates = pd.DataFrame({'year':[2015,2014,2017,2005,2017,2015],'month':[6,3,12,7,8,5],'day': [1,1,1,1,1,1]})\n",
    "nationalities_short['Legalization_date'] = pd.to_datetime(dates)\n",
    "nationalities_short.head(10)"
   ]
  },
  {
   "cell_type": "markdown",
   "id": "c5346e9a-0cdb-4e3d-bfce-577bfef0af1b",
   "metadata": {},
   "source": [
    "Note *India* has not legalized gay marriage, however, such sexual orientations can be expressed from the annotated date (August 2017), and consensual sex activies are legal from September 2018."
   ]
  },
  {
   "cell_type": "markdown",
   "id": "7598fe09-f298-4e1a-9647-3739113c00e0",
   "metadata": {},
   "source": [
    "### Step 3"
   ]
  },
  {
   "cell_type": "code",
   "execution_count": 85,
   "id": "539dde17-c6a7-4066-b039-6c77af817cca",
   "metadata": {},
   "outputs": [],
   "source": [
    "quotes_USA = quotes_expanded[quotes_expanded['nationality'] == 'United States of America']\n",
    "quotes_UK = quotes_expanded[quotes_expanded['nationality'] == 'United Kingdom']\n",
    "quotes_AUS = quotes_expanded[quotes_expanded['nationality'] == 'Australia']\n",
    "quotes_CAN = quotes_expanded[quotes_expanded['nationality'] == 'Canada']\n",
    "quotes_IND = quotes_expanded[quotes_expanded['nationality'] == 'India']\n",
    "quotes_IRE = quotes_expanded[quotes_expanded['nationality'] == 'Ireland']"
   ]
  },
  {
   "cell_type": "markdown",
   "id": "39f37935-33d6-4f9f-8017-5db733b68d33",
   "metadata": {},
   "source": [
    "#### United States of America \n",
    "\n",
    "Starting with USA, even if the final legalization took place in June 2015, most States did already legalize it previously.\n",
    "Thus, we do not expect to see a big influence here."
   ]
  },
  {
   "cell_type": "code",
   "execution_count": 86,
   "id": "996310f7-6081-4f39-acc0-7a8705d87d1f",
   "metadata": {},
   "outputs": [
    {
     "data": {
      "text/html": [
       "<div>\n",
       "<style scoped>\n",
       "    .dataframe tbody tr th:only-of-type {\n",
       "        vertical-align: middle;\n",
       "    }\n",
       "\n",
       "    .dataframe tbody tr th {\n",
       "        vertical-align: top;\n",
       "    }\n",
       "\n",
       "    .dataframe thead th {\n",
       "        text-align: right;\n",
       "    }\n",
       "</style>\n",
       "<table border=\"1\" class=\"dataframe\">\n",
       "  <thead>\n",
       "    <tr style=\"text-align: right;\">\n",
       "      <th></th>\n",
       "      <th>date_of_birth</th>\n",
       "      <th>nationality</th>\n",
       "      <th>gender</th>\n",
       "      <th>Speaker</th>\n",
       "      <th>Quote</th>\n",
       "      <th>Sentiment</th>\n",
       "    </tr>\n",
       "    <tr>\n",
       "      <th>quote_date</th>\n",
       "      <th></th>\n",
       "      <th></th>\n",
       "      <th></th>\n",
       "      <th></th>\n",
       "      <th></th>\n",
       "      <th></th>\n",
       "    </tr>\n",
       "  </thead>\n",
       "  <tbody>\n",
       "    <tr>\n",
       "      <th>2015-11-01</th>\n",
       "      <td>1971</td>\n",
       "      <td>United States of America</td>\n",
       "      <td>female</td>\n",
       "      <td>sarah kate ellis</td>\n",
       "      <td>This loss is a wake-up call that despite remar...</td>\n",
       "      <td>-0.8760</td>\n",
       "    </tr>\n",
       "    <tr>\n",
       "      <th>2015-06-01</th>\n",
       "      <td>1971</td>\n",
       "      <td>United States of America</td>\n",
       "      <td>female</td>\n",
       "      <td>sarah kate ellis</td>\n",
       "      <td>She didn't see it, she hadn't heard of it, she...</td>\n",
       "      <td>0.0387</td>\n",
       "    </tr>\n",
       "    <tr>\n",
       "      <th>2015-04-01</th>\n",
       "      <td>1971</td>\n",
       "      <td>United States of America</td>\n",
       "      <td>female</td>\n",
       "      <td>sarah kate ellis</td>\n",
       "      <td>As a journalist and anchor who reaches million...</td>\n",
       "      <td>0.4939</td>\n",
       "    </tr>\n",
       "    <tr>\n",
       "      <th>2015-02-01</th>\n",
       "      <td>1971</td>\n",
       "      <td>United States of America</td>\n",
       "      <td>female</td>\n",
       "      <td>sarah kate ellis</td>\n",
       "      <td>By empowering people to talk about their gende...</td>\n",
       "      <td>0.7003</td>\n",
       "    </tr>\n",
       "    <tr>\n",
       "      <th>2015-01-01</th>\n",
       "      <td>1971</td>\n",
       "      <td>United States of America</td>\n",
       "      <td>female</td>\n",
       "      <td>sarah kate ellis</td>\n",
       "      <td>By investing in this dangerous programming, TL...</td>\n",
       "      <td>-0.5610</td>\n",
       "    </tr>\n",
       "  </tbody>\n",
       "</table>\n",
       "</div>"
      ],
      "text/plain": [
       "           date_of_birth               nationality  gender           Speaker  \\\n",
       "quote_date                                                                     \n",
       "2015-11-01          1971  United States of America  female  sarah kate ellis   \n",
       "2015-06-01          1971  United States of America  female  sarah kate ellis   \n",
       "2015-04-01          1971  United States of America  female  sarah kate ellis   \n",
       "2015-02-01          1971  United States of America  female  sarah kate ellis   \n",
       "2015-01-01          1971  United States of America  female  sarah kate ellis   \n",
       "\n",
       "                                                        Quote  Sentiment  \n",
       "quote_date                                                                \n",
       "2015-11-01  This loss is a wake-up call that despite remar...    -0.8760  \n",
       "2015-06-01  She didn't see it, she hadn't heard of it, she...     0.0387  \n",
       "2015-04-01  As a journalist and anchor who reaches million...     0.4939  \n",
       "2015-02-01  By empowering people to talk about their gende...     0.7003  \n",
       "2015-01-01  By investing in this dangerous programming, TL...    -0.5610  "
      ]
     },
     "execution_count": 86,
     "metadata": {},
     "output_type": "execute_result"
    }
   ],
   "source": [
    "quotes_USA = quotes_USA.set_index(['quote_date'])\n",
    "quotes_USA.head(5)"
   ]
  },
  {
   "cell_type": "code",
   "execution_count": 87,
   "id": "7da2a02c-3d42-49a6-ab7d-3a8f8f71f234",
   "metadata": {},
   "outputs": [
    {
     "data": {
      "text/html": [
       "<div>\n",
       "<style scoped>\n",
       "    .dataframe tbody tr th:only-of-type {\n",
       "        vertical-align: middle;\n",
       "    }\n",
       "\n",
       "    .dataframe tbody tr th {\n",
       "        vertical-align: top;\n",
       "    }\n",
       "\n",
       "    .dataframe thead th {\n",
       "        text-align: right;\n",
       "    }\n",
       "</style>\n",
       "<table border=\"1\" class=\"dataframe\">\n",
       "  <thead>\n",
       "    <tr style=\"text-align: right;\">\n",
       "      <th></th>\n",
       "      <th>date_of_birth</th>\n",
       "      <th>nationality</th>\n",
       "      <th>gender</th>\n",
       "      <th>Speaker</th>\n",
       "      <th>Quote</th>\n",
       "      <th>Sentiment</th>\n",
       "    </tr>\n",
       "    <tr>\n",
       "      <th>quote_date</th>\n",
       "      <th></th>\n",
       "      <th></th>\n",
       "      <th></th>\n",
       "      <th></th>\n",
       "      <th></th>\n",
       "      <th></th>\n",
       "    </tr>\n",
       "  </thead>\n",
       "  <tbody>\n",
       "    <tr>\n",
       "      <th>2015-04-01</th>\n",
       "      <td>1971</td>\n",
       "      <td>United States of America</td>\n",
       "      <td>female</td>\n",
       "      <td>sarah kate ellis</td>\n",
       "      <td>As a journalist and anchor who reaches million...</td>\n",
       "      <td>0.4939</td>\n",
       "    </tr>\n",
       "    <tr>\n",
       "      <th>2015-02-01</th>\n",
       "      <td>1971</td>\n",
       "      <td>United States of America</td>\n",
       "      <td>female</td>\n",
       "      <td>sarah kate ellis</td>\n",
       "      <td>By empowering people to talk about their gende...</td>\n",
       "      <td>0.7003</td>\n",
       "    </tr>\n",
       "    <tr>\n",
       "      <th>2015-01-01</th>\n",
       "      <td>1971</td>\n",
       "      <td>United States of America</td>\n",
       "      <td>female</td>\n",
       "      <td>sarah kate ellis</td>\n",
       "      <td>By investing in this dangerous programming, TL...</td>\n",
       "      <td>-0.5610</td>\n",
       "    </tr>\n",
       "    <tr>\n",
       "      <th>2015-04-01</th>\n",
       "      <td>1971</td>\n",
       "      <td>United States of America</td>\n",
       "      <td>female</td>\n",
       "      <td>sarah kate ellis</td>\n",
       "      <td>By sharing this story, Bruce Jenner has shined...</td>\n",
       "      <td>0.7579</td>\n",
       "    </tr>\n",
       "    <tr>\n",
       "      <th>2015-02-01</th>\n",
       "      <td>1971</td>\n",
       "      <td>United States of America</td>\n",
       "      <td>female</td>\n",
       "      <td>sarah kate ellis</td>\n",
       "      <td>Accelerating acceptance will require the help ...</td>\n",
       "      <td>0.9598</td>\n",
       "    </tr>\n",
       "  </tbody>\n",
       "</table>\n",
       "</div>"
      ],
      "text/plain": [
       "           date_of_birth               nationality  gender           Speaker  \\\n",
       "quote_date                                                                     \n",
       "2015-04-01          1971  United States of America  female  sarah kate ellis   \n",
       "2015-02-01          1971  United States of America  female  sarah kate ellis   \n",
       "2015-01-01          1971  United States of America  female  sarah kate ellis   \n",
       "2015-04-01          1971  United States of America  female  sarah kate ellis   \n",
       "2015-02-01          1971  United States of America  female  sarah kate ellis   \n",
       "\n",
       "                                                        Quote  Sentiment  \n",
       "quote_date                                                                \n",
       "2015-04-01  As a journalist and anchor who reaches million...     0.4939  \n",
       "2015-02-01  By empowering people to talk about their gende...     0.7003  \n",
       "2015-01-01  By investing in this dangerous programming, TL...    -0.5610  \n",
       "2015-04-01  By sharing this story, Bruce Jenner has shined...     0.7579  \n",
       "2015-02-01  Accelerating acceptance will require the help ...     0.9598  "
      ]
     },
     "execution_count": 87,
     "metadata": {},
     "output_type": "execute_result"
    }
   ],
   "source": [
    "quotes_USA_before = quotes_USA.loc['2015-1-1' : '2015-5-31']\n",
    "quotes_USA_before.head(5)"
   ]
  },
  {
   "cell_type": "code",
   "execution_count": 88,
   "id": "cba50fe7-5751-4590-b812-06c1bd38615f",
   "metadata": {},
   "outputs": [
    {
     "data": {
      "text/html": [
       "<div>\n",
       "<style scoped>\n",
       "    .dataframe tbody tr th:only-of-type {\n",
       "        vertical-align: middle;\n",
       "    }\n",
       "\n",
       "    .dataframe tbody tr th {\n",
       "        vertical-align: top;\n",
       "    }\n",
       "\n",
       "    .dataframe thead th {\n",
       "        text-align: right;\n",
       "    }\n",
       "</style>\n",
       "<table border=\"1\" class=\"dataframe\">\n",
       "  <thead>\n",
       "    <tr style=\"text-align: right;\">\n",
       "      <th></th>\n",
       "      <th>date_of_birth</th>\n",
       "      <th>nationality</th>\n",
       "      <th>gender</th>\n",
       "      <th>Speaker</th>\n",
       "      <th>Quote</th>\n",
       "      <th>Sentiment</th>\n",
       "    </tr>\n",
       "    <tr>\n",
       "      <th>quote_date</th>\n",
       "      <th></th>\n",
       "      <th></th>\n",
       "      <th></th>\n",
       "      <th></th>\n",
       "      <th></th>\n",
       "      <th></th>\n",
       "    </tr>\n",
       "  </thead>\n",
       "  <tbody>\n",
       "    <tr>\n",
       "      <th>2015-11-01</th>\n",
       "      <td>1971</td>\n",
       "      <td>United States of America</td>\n",
       "      <td>female</td>\n",
       "      <td>sarah kate ellis</td>\n",
       "      <td>This loss is a wake-up call that despite remar...</td>\n",
       "      <td>-0.8760</td>\n",
       "    </tr>\n",
       "    <tr>\n",
       "      <th>2015-06-01</th>\n",
       "      <td>1971</td>\n",
       "      <td>United States of America</td>\n",
       "      <td>female</td>\n",
       "      <td>sarah kate ellis</td>\n",
       "      <td>She didn't see it, she hadn't heard of it, she...</td>\n",
       "      <td>0.0387</td>\n",
       "    </tr>\n",
       "    <tr>\n",
       "      <th>2015-09-01</th>\n",
       "      <td>1971</td>\n",
       "      <td>United States of America</td>\n",
       "      <td>female</td>\n",
       "      <td>sarah kate ellis</td>\n",
       "      <td>attitudes within the Catholic Church towards t...</td>\n",
       "      <td>0.0000</td>\n",
       "    </tr>\n",
       "    <tr>\n",
       "      <th>2015-12-01</th>\n",
       "      <td>1971</td>\n",
       "      <td>United States of America</td>\n",
       "      <td>female</td>\n",
       "      <td>sarah kate ellis</td>\n",
       "      <td>showing that many Americans think that we've a...</td>\n",
       "      <td>0.4588</td>\n",
       "    </tr>\n",
       "    <tr>\n",
       "      <th>2015-12-01</th>\n",
       "      <td>1971</td>\n",
       "      <td>United States of America</td>\n",
       "      <td>female</td>\n",
       "      <td>sarah kate ellis</td>\n",
       "      <td>These ads have the potential to accelerate muc...</td>\n",
       "      <td>0.4588</td>\n",
       "    </tr>\n",
       "  </tbody>\n",
       "</table>\n",
       "</div>"
      ],
      "text/plain": [
       "           date_of_birth               nationality  gender           Speaker  \\\n",
       "quote_date                                                                     \n",
       "2015-11-01          1971  United States of America  female  sarah kate ellis   \n",
       "2015-06-01          1971  United States of America  female  sarah kate ellis   \n",
       "2015-09-01          1971  United States of America  female  sarah kate ellis   \n",
       "2015-12-01          1971  United States of America  female  sarah kate ellis   \n",
       "2015-12-01          1971  United States of America  female  sarah kate ellis   \n",
       "\n",
       "                                                        Quote  Sentiment  \n",
       "quote_date                                                                \n",
       "2015-11-01  This loss is a wake-up call that despite remar...    -0.8760  \n",
       "2015-06-01  She didn't see it, she hadn't heard of it, she...     0.0387  \n",
       "2015-09-01  attitudes within the Catholic Church towards t...     0.0000  \n",
       "2015-12-01  showing that many Americans think that we've a...     0.4588  \n",
       "2015-12-01  These ads have the potential to accelerate muc...     0.4588  "
      ]
     },
     "execution_count": 88,
     "metadata": {},
     "output_type": "execute_result"
    }
   ],
   "source": [
    "quotes_USA_after = quotes_USA.loc['2015-6-1' : '2020-12-31']\n",
    "quotes_USA_after.head(5)"
   ]
  },
  {
   "cell_type": "code",
   "execution_count": 89,
   "id": "a153422e-245e-479a-9870-c951bf6ef8bb",
   "metadata": {},
   "outputs": [
    {
     "data": {
      "text/plain": [
       "Ttest_indResult(statistic=3.813917720284752, pvalue=0.00013689781023157725)"
      ]
     },
     "execution_count": 89,
     "metadata": {},
     "output_type": "execute_result"
    }
   ],
   "source": [
    "stats.ttest_ind(quotes_USA_before['Sentiment'], quotes_USA_after['Sentiment'])"
   ]
  },
  {
   "cell_type": "code",
   "execution_count": 90,
   "id": "69bef289-039b-4619-8856-bc95a4447935",
   "metadata": {},
   "outputs": [
    {
     "name": "stdout",
     "output_type": "stream",
     "text": [
      "Average USA sentiment before legalization : 0.1484\n",
      "Average USA sentiment after legalization : 0.1204\n"
     ]
    }
   ],
   "source": [
    "print(\"Average USA sentiment before legalization :\", round(quotes_USA_before['Sentiment'].mean(),4))\n",
    "print(\"Average USA sentiment after legalization :\", round(quotes_USA_after['Sentiment'].mean(),4))"
   ]
  },
  {
   "cell_type": "code",
   "execution_count": 91,
   "id": "af1121b4-0ab8-45e0-a9ca-67569c7518bf",
   "metadata": {},
   "outputs": [
    {
     "data": {
      "text/plain": [
       "<AxesSubplot:xlabel='quote_date'>"
      ]
     },
     "execution_count": 91,
     "metadata": {},
     "output_type": "execute_result"
    },
    {
     "data": {
      "image/png": "[encoded data removed]",
      "text/plain": [
       "<Figure size 432x288 with 1 Axes>"
      ]
     },
     "metadata": {
      "needs_background": "light"
     },
     "output_type": "display_data"
    }
   ],
   "source": [
    "quotes_USA.groupby('quote_date').mean()[\"Sentiment\"].plot()"
   ]
  },
  {
   "cell_type": "markdown",
   "id": "0ad8b755-bce5-4e02-b49d-090724e9d599",
   "metadata": {},
   "source": [
    "Conclusions :\n",
    "\n",
    "..."
   ]
  },
  {
   "cell_type": "markdown",
   "id": "b571d06f-611a-42e6-b1c2-5982eeec7ef0",
   "metadata": {},
   "source": [
    "### Australia\n",
    "\n",
    "..."
   ]
  },
  {
   "cell_type": "code",
   "execution_count": 92,
   "id": "cae46aa4-0b88-4a75-8a67-e8166f2ac15f",
   "metadata": {},
   "outputs": [
    {
     "name": "stdout",
     "output_type": "stream",
     "text": [
      "Ttest_indResult(statistic=3.4937570326145533, pvalue=0.00047912651617818046)\n",
      "Average Australia sentiment before legalization : 0.1635\n",
      "Average Australia sentiment after legalization : 0.1196\n"
     ]
    },
    {
     "data": {
      "text/plain": [
       "<AxesSubplot:xlabel='quote_date'>"
      ]
     },
     "execution_count": 92,
     "metadata": {},
     "output_type": "execute_result"
    },
    {
     "data": {
      "image/png": "[encoded data removed]",
      "text/plain": [
       "<Figure size 432x288 with 1 Axes>"
      ]
     },
     "metadata": {
      "needs_background": "light"
     },
     "output_type": "display_data"
    }
   ],
   "source": [
    "quotes_AUS = quotes_AUS.set_index(['quote_date'])\n",
    "quotes_AUS_before = quotes_AUS.loc['2015-1-1' : '2017-11-30']\n",
    "quotes_AUS_after = quotes_AUS.loc['2017-12-1' : '2020-12-31']\n",
    "print(stats.ttest_ind(quotes_AUS_before['Sentiment'], quotes_AUS_after['Sentiment']))\n",
    "print(\"Average Australia sentiment before legalization :\", round(quotes_AUS_before['Sentiment'].mean(),4))\n",
    "print(\"Average Australia sentiment after legalization :\", round(quotes_AUS_after['Sentiment'].mean(),4))\n",
    "quotes_AUS.groupby('quote_date').mean()[\"Sentiment\"].plot()"
   ]
  },
  {
   "cell_type": "markdown",
   "id": "4567446b-d843-4689-87bc-cd5d16b75879",
   "metadata": {},
   "source": [
    "### India\n",
    "\n",
    "..."
   ]
  },
  {
   "cell_type": "code",
   "execution_count": 93,
   "id": "e834bd0d-3712-4f76-84dc-1ab3e6ea2890",
   "metadata": {},
   "outputs": [
    {
     "name": "stdout",
     "output_type": "stream",
     "text": [
      "Ttest_indResult(statistic=-0.19923652056403748, pvalue=0.842093414326496)\n",
      "Average India sentiment before legalization : 0.2021\n",
      "Average India sentiment after legalization : 0.2068\n"
     ]
    },
    {
     "data": {
      "text/plain": [
       "<AxesSubplot:xlabel='quote_date'>"
      ]
     },
     "execution_count": 93,
     "metadata": {},
     "output_type": "execute_result"
    },
    {
     "data": {
      "image/png": "[encoded data removed]",
      "text/plain": [
       "<Figure size 432x288 with 1 Axes>"
      ]
     },
     "metadata": {
      "needs_background": "light"
     },
     "output_type": "display_data"
    }
   ],
   "source": [
    "quotes_IND = quotes_IND.set_index(['quote_date'])\n",
    "quotes_IND_before = quotes_IND.loc['2015-1-1' : '2017-07-31']\n",
    "quotes_IND_after = quotes_IND.loc['2017-08-1' : '2020-12-31']\n",
    "print(stats.ttest_ind(quotes_IND_before['Sentiment'], quotes_IND_after['Sentiment']))\n",
    "print(\"Average India sentiment before legalization :\", round(quotes_IND_before['Sentiment'].mean(),4))\n",
    "print(\"Average India sentiment after legalization :\", round(quotes_IND_after['Sentiment'].mean(),4))\n",
    "quotes_IND.groupby('quote_date').mean()[\"Sentiment\"].plot()"
   ]
  },
  {
   "cell_type": "code",
   "execution_count": null,
   "id": "dcfbd123-3dcb-4626-bb5d-031effc088ec",
   "metadata": {},
   "outputs": [],
   "source": []
  }
 ],
 "metadata": {
  "kernelspec": {
   "display_name": "Python 3",
   "language": "python",
   "name": "python3"
  },
  "language_info": {
   "codemirror_mode": {
    "name": "ipython",
    "version": 3
   },
   "file_extension": ".py",
   "mimetype": "text/x-python",
   "name": "python",
   "nbconvert_exporter": "python",
   "pygments_lexer": "ipython3",
   "version": "3.8.8"
  }
 },
 "nbformat": 4,
 "nbformat_minor": 5
}
