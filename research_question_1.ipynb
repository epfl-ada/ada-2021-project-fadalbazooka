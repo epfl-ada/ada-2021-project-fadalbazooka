{
 "cells": [
  {
   "cell_type": "code",
   "execution_count": 253,
   "id": "00850399-7f3c-4de5-afe3-efc1678a03b3",
   "metadata": {},
   "outputs": [],
   "source": [
    "import seaborn as sns \n",
    "from matplotlib import pyplot as plt \n",
    "import pandas as pd\n",
    "import numpy as np\n",
    "import nltk \n",
    "from scipy import stats\n",
    "from collections import Counter"
   ]
  },
  {
   "cell_type": "code",
   "execution_count": 254,
   "id": "caaac8b5-cbb1-4f67-afdc-1ef43239c649",
   "metadata": {},
   "outputs": [
    {
     "name": "stderr",
     "output_type": "stream",
     "text": [
      "<ipython-input-254-e56e3118e361>:7: SettingWithCopyWarning: \n",
      "A value is trying to be set on a copy of a slice from a DataFrame.\n",
      "Try using .loc[row_indexer,col_indexer] = value instead\n",
      "\n",
      "See the caveats in the documentation: https://pandas.pydata.org/pandas-docs/stable/user_guide/indexing.html#returning-a-view-versus-a-copy\n",
      "  df_time['quote_day'] = np.ones(len(df_time), dtype = int)\n"
     ]
    },
    {
     "data": {
      "text/html": [
       "<div>\n",
       "<style scoped>\n",
       "    .dataframe tbody tr th:only-of-type {\n",
       "        vertical-align: middle;\n",
       "    }\n",
       "\n",
       "    .dataframe tbody tr th {\n",
       "        vertical-align: top;\n",
       "    }\n",
       "\n",
       "    .dataframe thead th {\n",
       "        text-align: right;\n",
       "    }\n",
       "</style>\n",
       "<table border=\"1\" class=\"dataframe\">\n",
       "  <thead>\n",
       "    <tr style=\"text-align: right;\">\n",
       "      <th></th>\n",
       "      <th>date_of_birth</th>\n",
       "      <th>nationality</th>\n",
       "      <th>gender</th>\n",
       "      <th>Speaker</th>\n",
       "      <th>Quote</th>\n",
       "      <th>Sentiment</th>\n",
       "      <th>quote_date</th>\n",
       "    </tr>\n",
       "  </thead>\n",
       "  <tbody>\n",
       "    <tr>\n",
       "      <th>0</th>\n",
       "      <td>1971</td>\n",
       "      <td>United States of America</td>\n",
       "      <td>female</td>\n",
       "      <td>sarah kate ellis</td>\n",
       "      <td>This loss is a wake-up call that despite remar...</td>\n",
       "      <td>-0.8760</td>\n",
       "      <td>2015-11-01</td>\n",
       "    </tr>\n",
       "    <tr>\n",
       "      <th>1</th>\n",
       "      <td>1971</td>\n",
       "      <td>United States of America</td>\n",
       "      <td>female</td>\n",
       "      <td>sarah kate ellis</td>\n",
       "      <td>She didn't see it, she hadn't heard of it, she...</td>\n",
       "      <td>0.0387</td>\n",
       "      <td>2015-06-01</td>\n",
       "    </tr>\n",
       "    <tr>\n",
       "      <th>2</th>\n",
       "      <td>1971</td>\n",
       "      <td>United States of America</td>\n",
       "      <td>female</td>\n",
       "      <td>sarah kate ellis</td>\n",
       "      <td>As a journalist and anchor who reaches million...</td>\n",
       "      <td>0.4939</td>\n",
       "      <td>2015-04-01</td>\n",
       "    </tr>\n",
       "    <tr>\n",
       "      <th>3</th>\n",
       "      <td>1971</td>\n",
       "      <td>United States of America</td>\n",
       "      <td>female</td>\n",
       "      <td>sarah kate ellis</td>\n",
       "      <td>By empowering people to talk about their gende...</td>\n",
       "      <td>0.7003</td>\n",
       "      <td>2015-02-01</td>\n",
       "    </tr>\n",
       "    <tr>\n",
       "      <th>4</th>\n",
       "      <td>1971</td>\n",
       "      <td>United States of America</td>\n",
       "      <td>female</td>\n",
       "      <td>sarah kate ellis</td>\n",
       "      <td>By investing in this dangerous programming, TL...</td>\n",
       "      <td>-0.5610</td>\n",
       "      <td>2015-01-01</td>\n",
       "    </tr>\n",
       "    <tr>\n",
       "      <th>5</th>\n",
       "      <td>1971</td>\n",
       "      <td>United States of America</td>\n",
       "      <td>female</td>\n",
       "      <td>sarah kate ellis</td>\n",
       "      <td>attitudes within the Catholic Church towards t...</td>\n",
       "      <td>0.0000</td>\n",
       "      <td>2015-09-01</td>\n",
       "    </tr>\n",
       "    <tr>\n",
       "      <th>6</th>\n",
       "      <td>1971</td>\n",
       "      <td>United States of America</td>\n",
       "      <td>female</td>\n",
       "      <td>sarah kate ellis</td>\n",
       "      <td>showing that many Americans think that we've a...</td>\n",
       "      <td>0.4588</td>\n",
       "      <td>2015-12-01</td>\n",
       "    </tr>\n",
       "    <tr>\n",
       "      <th>7</th>\n",
       "      <td>1971</td>\n",
       "      <td>United States of America</td>\n",
       "      <td>female</td>\n",
       "      <td>sarah kate ellis</td>\n",
       "      <td>These ads have the potential to accelerate muc...</td>\n",
       "      <td>0.4588</td>\n",
       "      <td>2015-12-01</td>\n",
       "    </tr>\n",
       "    <tr>\n",
       "      <th>8</th>\n",
       "      <td>1971</td>\n",
       "      <td>United States of America</td>\n",
       "      <td>female</td>\n",
       "      <td>sarah kate ellis</td>\n",
       "      <td>By sharing this story, Bruce Jenner has shined...</td>\n",
       "      <td>0.7579</td>\n",
       "      <td>2015-04-01</td>\n",
       "    </tr>\n",
       "    <tr>\n",
       "      <th>9</th>\n",
       "      <td>1971</td>\n",
       "      <td>United States of America</td>\n",
       "      <td>female</td>\n",
       "      <td>sarah kate ellis</td>\n",
       "      <td>We need to push media companies and creators t...</td>\n",
       "      <td>0.0000</td>\n",
       "      <td>2015-09-01</td>\n",
       "    </tr>\n",
       "  </tbody>\n",
       "</table>\n",
       "</div>"
      ],
      "text/plain": [
       "  date_of_birth               nationality  gender           Speaker  \\\n",
       "0          1971  United States of America  female  sarah kate ellis   \n",
       "1          1971  United States of America  female  sarah kate ellis   \n",
       "2          1971  United States of America  female  sarah kate ellis   \n",
       "3          1971  United States of America  female  sarah kate ellis   \n",
       "4          1971  United States of America  female  sarah kate ellis   \n",
       "5          1971  United States of America  female  sarah kate ellis   \n",
       "6          1971  United States of America  female  sarah kate ellis   \n",
       "7          1971  United States of America  female  sarah kate ellis   \n",
       "8          1971  United States of America  female  sarah kate ellis   \n",
       "9          1971  United States of America  female  sarah kate ellis   \n",
       "\n",
       "                                               Quote  Sentiment quote_date  \n",
       "0  This loss is a wake-up call that despite remar...    -0.8760 2015-11-01  \n",
       "1  She didn't see it, she hadn't heard of it, she...     0.0387 2015-06-01  \n",
       "2  As a journalist and anchor who reaches million...     0.4939 2015-04-01  \n",
       "3  By empowering people to talk about their gende...     0.7003 2015-02-01  \n",
       "4  By investing in this dangerous programming, TL...    -0.5610 2015-01-01  \n",
       "5  attitudes within the Catholic Church towards t...     0.0000 2015-09-01  \n",
       "6  showing that many Americans think that we've a...     0.4588 2015-12-01  \n",
       "7  These ads have the potential to accelerate muc...     0.4588 2015-12-01  \n",
       "8  By sharing this story, Bruce Jenner has shined...     0.7579 2015-04-01  \n",
       "9  We need to push media companies and creators t...     0.0000 2015-09-01  "
      ]
     },
     "execution_count": 254,
     "metadata": {},
     "output_type": "execute_result"
    }
   ],
   "source": [
    "# import expanded filtered quote file (after sentiment & stance analysis)\n",
    "# quotes_expanded = pd.read_json(\"filtered.json\") #we would replace the file here by the pickle containing sentiment + stance\n",
    "quotes_expanded = pd.read_pickle(\"added_sentiment.pkl\")\n",
    "quotes_expanded = quotes_expanded.reset_index(drop=True)\n",
    "\n",
    "df_time = quotes_expanded[['quote_year','quote_month']]\n",
    "df_time['quote_day'] = np.ones(len(df_time), dtype = int)\n",
    "df_time.columns = ['year', 'month', 'day']\n",
    "df_time = pd.to_datetime(df_time)\n",
    "quotes_expanded[\"quote_date\"] = df_time\n",
    "quotes_expanded = quotes_expanded.drop(['numOccurrences','quote_year', 'quote_month','occupation'], axis=1)\n",
    "\n",
    "quotes_expanded.gender = [elem[0] for elem in quotes_expanded.gender]\n",
    "quotes_expanded.nationality = [elem[0] for elem in quotes_expanded.nationality]\n",
    "\n",
    "quotes_expanded.head(10)"
   ]
  },
  {
   "cell_type": "markdown",
   "id": "681b39d9-6645-4983-b9d5-2ef2ae349c38",
   "metadata": {},
   "source": [
    "## 1) How legalization of same-sex marriage influenced the opinion of the authors of the quotes?\n",
    "\n",
    "## Warning : \n",
    "### In the first part, we will perform the analysis on the whole dataset we picked for gender norms, rather than exclusively the same-sex marriage part (in a second time)\n",
    "\n",
    "Answer roadmap : \n",
    "- 1 : Start with countries list\n",
    "- 2 : Make up a table indicating the gay marriage legalization year\n",
    "- 3 : Keep only a dataset where countries satisfies both [legalization year between 2015 and 2020] + [there are quotes both before and after the legalization]\n",
    "- 4 : Compare pairs of means : country mean score before legalization VS after\n",
    "- 5 : Test the null for each pair\n",
    "- 6 : Conclude\n",
    "\n",
    "## Part 1 : Answering our research question 1 with the full dataset\n",
    "\n",
    "### Step 1"
   ]
  },
  {
   "cell_type": "code",
   "execution_count": 255,
   "id": "47fa2f9c-5493-4c0e-b89c-4564a0d3af21",
   "metadata": {},
   "outputs": [],
   "source": [
    "nationalities = np.hstack(quotes_expanded.nationality.dropna().to_numpy())\n",
    "nationalities_dict = dict(Counter(nationalities))\n",
    "nationalities_dict = {'Country': list(nationalities_dict.keys()), 'Counts': list(nationalities_dict.values())}\n",
    "nationalities_df = pd.DataFrame.from_dict(nationalities_dict)\n",
    "nationalities_df = nationalities_df.sort_values(by='Counts', ascending=False)"
   ]
  },
  {
   "cell_type": "code",
   "execution_count": 256,
   "id": "f1827ad1-0a3e-470a-8056-821a05bbe788",
   "metadata": {},
   "outputs": [
    {
     "data": {
      "text/html": [
       "<div>\n",
       "<style scoped>\n",
       "    .dataframe tbody tr th:only-of-type {\n",
       "        vertical-align: middle;\n",
       "    }\n",
       "\n",
       "    .dataframe tbody tr th {\n",
       "        vertical-align: top;\n",
       "    }\n",
       "\n",
       "    .dataframe thead th {\n",
       "        text-align: right;\n",
       "    }\n",
       "</style>\n",
       "<table border=\"1\" class=\"dataframe\">\n",
       "  <thead>\n",
       "    <tr style=\"text-align: right;\">\n",
       "      <th></th>\n",
       "      <th>Country</th>\n",
       "      <th>Counts</th>\n",
       "    </tr>\n",
       "  </thead>\n",
       "  <tbody>\n",
       "    <tr>\n",
       "      <th>0</th>\n",
       "      <td>United States of America</td>\n",
       "      <td>70307</td>\n",
       "    </tr>\n",
       "    <tr>\n",
       "      <th>2</th>\n",
       "      <td>United Kingdom</td>\n",
       "      <td>14561</td>\n",
       "    </tr>\n",
       "    <tr>\n",
       "      <th>1</th>\n",
       "      <td>Australia</td>\n",
       "      <td>7230</td>\n",
       "    </tr>\n",
       "    <tr>\n",
       "      <th>3</th>\n",
       "      <td>Canada</td>\n",
       "      <td>4475</td>\n",
       "    </tr>\n",
       "    <tr>\n",
       "      <th>6</th>\n",
       "      <td>India</td>\n",
       "      <td>2585</td>\n",
       "    </tr>\n",
       "    <tr>\n",
       "      <th>8</th>\n",
       "      <td>Philippines</td>\n",
       "      <td>2020</td>\n",
       "    </tr>\n",
       "    <tr>\n",
       "      <th>4</th>\n",
       "      <td>Ireland</td>\n",
       "      <td>1672</td>\n",
       "    </tr>\n",
       "    <tr>\n",
       "      <th>29</th>\n",
       "      <td>New Zealand</td>\n",
       "      <td>894</td>\n",
       "    </tr>\n",
       "    <tr>\n",
       "      <th>24</th>\n",
       "      <td>Germany</td>\n",
       "      <td>689</td>\n",
       "    </tr>\n",
       "    <tr>\n",
       "      <th>11</th>\n",
       "      <td>South Africa</td>\n",
       "      <td>685</td>\n",
       "    </tr>\n",
       "  </tbody>\n",
       "</table>\n",
       "</div>"
      ],
      "text/plain": [
       "                     Country  Counts\n",
       "0   United States of America   70307\n",
       "2             United Kingdom   14561\n",
       "1                  Australia    7230\n",
       "3                     Canada    4475\n",
       "6                      India    2585\n",
       "8                Philippines    2020\n",
       "4                    Ireland    1672\n",
       "29               New Zealand     894\n",
       "24                   Germany     689\n",
       "11              South Africa     685"
      ]
     },
     "execution_count": 256,
     "metadata": {},
     "output_type": "execute_result"
    }
   ],
   "source": [
    "nationalities_df.head(10)"
   ]
  },
  {
   "cell_type": "code",
   "execution_count": 257,
   "id": "6ab76b0c-89d1-4ce3-900a-d3466847ef19",
   "metadata": {},
   "outputs": [
    {
     "data": {
      "text/html": [
       "<div>\n",
       "<style scoped>\n",
       "    .dataframe tbody tr th:only-of-type {\n",
       "        vertical-align: middle;\n",
       "    }\n",
       "\n",
       "    .dataframe tbody tr th {\n",
       "        vertical-align: top;\n",
       "    }\n",
       "\n",
       "    .dataframe thead th {\n",
       "        text-align: right;\n",
       "    }\n",
       "</style>\n",
       "<table border=\"1\" class=\"dataframe\">\n",
       "  <thead>\n",
       "    <tr style=\"text-align: right;\">\n",
       "      <th></th>\n",
       "      <th>Country</th>\n",
       "      <th>Counts</th>\n",
       "    </tr>\n",
       "  </thead>\n",
       "  <tbody>\n",
       "    <tr>\n",
       "      <th>158</th>\n",
       "      <td>British America</td>\n",
       "      <td>2</td>\n",
       "    </tr>\n",
       "    <tr>\n",
       "      <th>157</th>\n",
       "      <td>Kingdom of Afghanistan</td>\n",
       "      <td>2</td>\n",
       "    </tr>\n",
       "    <tr>\n",
       "      <th>154</th>\n",
       "      <td>Bhutan</td>\n",
       "      <td>2</td>\n",
       "    </tr>\n",
       "    <tr>\n",
       "      <th>153</th>\n",
       "      <td>Ecuador</td>\n",
       "      <td>2</td>\n",
       "    </tr>\n",
       "    <tr>\n",
       "      <th>180</th>\n",
       "      <td>Kingdom of France</td>\n",
       "      <td>2</td>\n",
       "    </tr>\n",
       "    <tr>\n",
       "      <th>164</th>\n",
       "      <td>Ukrainian Soviet Socialist Republic</td>\n",
       "      <td>1</td>\n",
       "    </tr>\n",
       "    <tr>\n",
       "      <th>162</th>\n",
       "      <td>Flor</td>\n",
       "      <td>1</td>\n",
       "    </tr>\n",
       "    <tr>\n",
       "      <th>173</th>\n",
       "      <td>Guam</td>\n",
       "      <td>1</td>\n",
       "    </tr>\n",
       "    <tr>\n",
       "      <th>174</th>\n",
       "      <td>Kingdom of Italy</td>\n",
       "      <td>1</td>\n",
       "    </tr>\n",
       "    <tr>\n",
       "      <th>144</th>\n",
       "      <td>Belarus</td>\n",
       "      <td>1</td>\n",
       "    </tr>\n",
       "  </tbody>\n",
       "</table>\n",
       "</div>"
      ],
      "text/plain": [
       "                                 Country  Counts\n",
       "158                      British America       2\n",
       "157               Kingdom of Afghanistan       2\n",
       "154                               Bhutan       2\n",
       "153                              Ecuador       2\n",
       "180                    Kingdom of France       2\n",
       "164  Ukrainian Soviet Socialist Republic       1\n",
       "162                                 Flor       1\n",
       "173                                 Guam       1\n",
       "174                     Kingdom of Italy       1\n",
       "144                              Belarus       1"
      ]
     },
     "execution_count": 257,
     "metadata": {},
     "output_type": "execute_result"
    }
   ],
   "source": [
    "nationalities_df.tail(10)"
   ]
  },
  {
   "cell_type": "code",
   "execution_count": 258,
   "id": "7daae852-3924-436c-87e1-eae041f6b626",
   "metadata": {},
   "outputs": [
    {
     "data": {
      "text/plain": [
       "633.9005524861878"
      ]
     },
     "execution_count": 258,
     "metadata": {},
     "output_type": "execute_result"
    }
   ],
   "source": [
    "nationalities_df.Counts.mean()"
   ]
  },
  {
   "cell_type": "code",
   "execution_count": 259,
   "id": "fd62419c-cefe-4184-97ab-6d3f50384f6b",
   "metadata": {},
   "outputs": [],
   "source": [
    "nationalities_short = nationalities_df[nationalities_df['Counts'] > 1000]\n",
    "nationalities_short = nationalities_short.reset_index(drop=True)"
   ]
  },
  {
   "cell_type": "code",
   "execution_count": 260,
   "id": "19266e65-0398-4ff1-a594-c5218c678e93",
   "metadata": {},
   "outputs": [
    {
     "data": {
      "text/html": [
       "<div>\n",
       "<style scoped>\n",
       "    .dataframe tbody tr th:only-of-type {\n",
       "        vertical-align: middle;\n",
       "    }\n",
       "\n",
       "    .dataframe tbody tr th {\n",
       "        vertical-align: top;\n",
       "    }\n",
       "\n",
       "    .dataframe thead th {\n",
       "        text-align: right;\n",
       "    }\n",
       "</style>\n",
       "<table border=\"1\" class=\"dataframe\">\n",
       "  <thead>\n",
       "    <tr style=\"text-align: right;\">\n",
       "      <th></th>\n",
       "      <th>Country</th>\n",
       "      <th>Counts</th>\n",
       "    </tr>\n",
       "  </thead>\n",
       "  <tbody>\n",
       "    <tr>\n",
       "      <th>0</th>\n",
       "      <td>United States of America</td>\n",
       "      <td>70307</td>\n",
       "    </tr>\n",
       "    <tr>\n",
       "      <th>1</th>\n",
       "      <td>United Kingdom</td>\n",
       "      <td>14561</td>\n",
       "    </tr>\n",
       "    <tr>\n",
       "      <th>2</th>\n",
       "      <td>Australia</td>\n",
       "      <td>7230</td>\n",
       "    </tr>\n",
       "    <tr>\n",
       "      <th>3</th>\n",
       "      <td>Canada</td>\n",
       "      <td>4475</td>\n",
       "    </tr>\n",
       "    <tr>\n",
       "      <th>4</th>\n",
       "      <td>India</td>\n",
       "      <td>2585</td>\n",
       "    </tr>\n",
       "    <tr>\n",
       "      <th>5</th>\n",
       "      <td>Philippines</td>\n",
       "      <td>2020</td>\n",
       "    </tr>\n",
       "    <tr>\n",
       "      <th>6</th>\n",
       "      <td>Ireland</td>\n",
       "      <td>1672</td>\n",
       "    </tr>\n",
       "  </tbody>\n",
       "</table>\n",
       "</div>"
      ],
      "text/plain": [
       "                    Country  Counts\n",
       "0  United States of America   70307\n",
       "1            United Kingdom   14561\n",
       "2                 Australia    7230\n",
       "3                    Canada    4475\n",
       "4                     India    2585\n",
       "5               Philippines    2020\n",
       "6                   Ireland    1672"
      ]
     },
     "execution_count": 260,
     "metadata": {},
     "output_type": "execute_result"
    }
   ],
   "source": [
    "nationalities_short.head(10)"
   ]
  },
  {
   "cell_type": "code",
   "execution_count": 261,
   "id": "72df08b4-eaa4-4b4b-8cb9-483f1261b631",
   "metadata": {},
   "outputs": [
    {
     "data": {
      "text/html": [
       "<div>\n",
       "<style scoped>\n",
       "    .dataframe tbody tr th:only-of-type {\n",
       "        vertical-align: middle;\n",
       "    }\n",
       "\n",
       "    .dataframe tbody tr th {\n",
       "        vertical-align: top;\n",
       "    }\n",
       "\n",
       "    .dataframe thead th {\n",
       "        text-align: right;\n",
       "    }\n",
       "</style>\n",
       "<table border=\"1\" class=\"dataframe\">\n",
       "  <thead>\n",
       "    <tr style=\"text-align: right;\">\n",
       "      <th></th>\n",
       "      <th>Country</th>\n",
       "      <th>Counts</th>\n",
       "    </tr>\n",
       "  </thead>\n",
       "  <tbody>\n",
       "    <tr>\n",
       "      <th>0</th>\n",
       "      <td>United States of America</td>\n",
       "      <td>70307</td>\n",
       "    </tr>\n",
       "    <tr>\n",
       "      <th>1</th>\n",
       "      <td>United Kingdom</td>\n",
       "      <td>14561</td>\n",
       "    </tr>\n",
       "    <tr>\n",
       "      <th>2</th>\n",
       "      <td>Australia</td>\n",
       "      <td>7230</td>\n",
       "    </tr>\n",
       "    <tr>\n",
       "      <th>3</th>\n",
       "      <td>Canada</td>\n",
       "      <td>4475</td>\n",
       "    </tr>\n",
       "    <tr>\n",
       "      <th>4</th>\n",
       "      <td>India</td>\n",
       "      <td>2585</td>\n",
       "    </tr>\n",
       "    <tr>\n",
       "      <th>5</th>\n",
       "      <td>Ireland</td>\n",
       "      <td>1672</td>\n",
       "    </tr>\n",
       "  </tbody>\n",
       "</table>\n",
       "</div>"
      ],
      "text/plain": [
       "                    Country  Counts\n",
       "0  United States of America   70307\n",
       "1            United Kingdom   14561\n",
       "2                 Australia    7230\n",
       "3                    Canada    4475\n",
       "4                     India    2585\n",
       "5                   Ireland    1672"
      ]
     },
     "execution_count": 261,
     "metadata": {},
     "output_type": "execute_result"
    }
   ],
   "source": [
    "nationalities_short = nationalities_short.drop(index=5)\n",
    "nationalities_short = nationalities_short.reset_index(drop=True)\n",
    "nationalities_short.head(10)"
   ]
  },
  {
   "cell_type": "markdown",
   "id": "96a46243-0f73-4f5a-8e8c-95cb44e81c5a",
   "metadata": {},
   "source": [
    "*Philippines* were dropped because of the numerous changes detailed below, which will let us analyze them in a separate task.\n",
    "\n",
    "Same-sex marriage is still not legal in *Philippines*, and, as stated in the initial analysis, this topic has know a bigh number of ups and downs :\n",
    "- Anti-same sex marriage bills have been introduced to the Senate and Congress in 2006,\n",
    "- A Presidential Palace spokesperson commented on same-sex marriage in 2014 saying \"We must respect the rights of individuals to enter into such partnerships as part of their human rights\",\n",
    "- During his presidential campaign in February 2016, Rodrigo Duterte announced that should he win the election he would consider legalizing same-sex marriage, \n",
    "- On March 2017, however, Duterte said that he personally opposes same-sex marriage,\n",
    "- On December 2017, Duterte changed his position on the issue, expressing his support again, guaranteeing that, during his term, the rights of LGBT people in the Philippines would be protected,\n",
    "- On June 2018, the Philippine Supreme Court heard oral arguments, seeking to legalize same-sex marriage,\n",
    "- On September 2019, the court dismissed the case for lack of standing.\n",
    "\n",
    "For this purpose, 6 periods could be analyzed for *Philippines*, instead of 2 :\n",
    "- January 2015 - January 2016,\n",
    "- February 2016 - February 2017,\n",
    "- March 2017 - November 2017,\n",
    "- December 2017 - May 2018,\n",
    "- June 2018 - August 2019,\n",
    "- September 2019 - December 2020."
   ]
  },
  {
   "cell_type": "markdown",
   "id": "fe54d889-b046-4671-b8b6-0288c0fafc95",
   "metadata": {},
   "source": [
    "### Step 2"
   ]
  },
  {
   "cell_type": "code",
   "execution_count": 262,
   "id": "5bccd6ea-f5f8-49a4-ac99-bb74cd9ca702",
   "metadata": {},
   "outputs": [
    {
     "data": {
      "text/html": [
       "<div>\n",
       "<style scoped>\n",
       "    .dataframe tbody tr th:only-of-type {\n",
       "        vertical-align: middle;\n",
       "    }\n",
       "\n",
       "    .dataframe tbody tr th {\n",
       "        vertical-align: top;\n",
       "    }\n",
       "\n",
       "    .dataframe thead th {\n",
       "        text-align: right;\n",
       "    }\n",
       "</style>\n",
       "<table border=\"1\" class=\"dataframe\">\n",
       "  <thead>\n",
       "    <tr style=\"text-align: right;\">\n",
       "      <th></th>\n",
       "      <th>Country</th>\n",
       "      <th>Counts</th>\n",
       "      <th>Legalization_date</th>\n",
       "    </tr>\n",
       "  </thead>\n",
       "  <tbody>\n",
       "    <tr>\n",
       "      <th>0</th>\n",
       "      <td>United States of America</td>\n",
       "      <td>70307</td>\n",
       "      <td>2015-06-01</td>\n",
       "    </tr>\n",
       "    <tr>\n",
       "      <th>1</th>\n",
       "      <td>United Kingdom</td>\n",
       "      <td>14561</td>\n",
       "      <td>2014-03-01</td>\n",
       "    </tr>\n",
       "    <tr>\n",
       "      <th>2</th>\n",
       "      <td>Australia</td>\n",
       "      <td>7230</td>\n",
       "      <td>2017-12-01</td>\n",
       "    </tr>\n",
       "    <tr>\n",
       "      <th>3</th>\n",
       "      <td>Canada</td>\n",
       "      <td>4475</td>\n",
       "      <td>2005-07-01</td>\n",
       "    </tr>\n",
       "    <tr>\n",
       "      <th>4</th>\n",
       "      <td>India</td>\n",
       "      <td>2585</td>\n",
       "      <td>2017-08-01</td>\n",
       "    </tr>\n",
       "    <tr>\n",
       "      <th>5</th>\n",
       "      <td>Ireland</td>\n",
       "      <td>1672</td>\n",
       "      <td>2015-05-01</td>\n",
       "    </tr>\n",
       "  </tbody>\n",
       "</table>\n",
       "</div>"
      ],
      "text/plain": [
       "                    Country  Counts Legalization_date\n",
       "0  United States of America   70307        2015-06-01\n",
       "1            United Kingdom   14561        2014-03-01\n",
       "2                 Australia    7230        2017-12-01\n",
       "3                    Canada    4475        2005-07-01\n",
       "4                     India    2585        2017-08-01\n",
       "5                   Ireland    1672        2015-05-01"
      ]
     },
     "execution_count": 262,
     "metadata": {},
     "output_type": "execute_result"
    }
   ],
   "source": [
    "dates = pd.DataFrame({'year':[2015,2014,2017,2005,2017,2015],'month':[6,3,12,7,8,5],'day': [1,1,1,1,1,1]})\n",
    "nationalities_short['Legalization_date'] = pd.to_datetime(dates)\n",
    "nationalities_short.head(10)"
   ]
  },
  {
   "cell_type": "markdown",
   "id": "c5346e9a-0cdb-4e3d-bfce-577bfef0af1b",
   "metadata": {},
   "source": [
    "Note *India* has not legalized gay marriage, however, such sexual orientations can be expressed from the annotated date (August 2017), and consensual sex activies are legal from September 2018."
   ]
  },
  {
   "cell_type": "markdown",
   "id": "7598fe09-f298-4e1a-9647-3739113c00e0",
   "metadata": {},
   "source": [
    "### Steps 3-4-6"
   ]
  },
  {
   "cell_type": "code",
   "execution_count": 263,
   "id": "539dde17-c6a7-4066-b039-6c77af817cca",
   "metadata": {},
   "outputs": [],
   "source": [
    "quotes_USA = quotes_expanded[quotes_expanded['nationality'] == 'United States of America']\n",
    "quotes_UK = quotes_expanded[quotes_expanded['nationality'] == 'United Kingdom']\n",
    "quotes_AUS = quotes_expanded[quotes_expanded['nationality'] == 'Australia']\n",
    "quotes_IND = quotes_expanded[quotes_expanded['nationality'] == 'India']\n",
    "quotes_IRE = quotes_expanded[quotes_expanded['nationality'] == 'Ireland']\n",
    "\n",
    "nationalities_short = nationalities_short.drop(index=[1,3])\n",
    "nationalities_short = nationalities_short.reset_index(drop=True)"
   ]
  },
  {
   "cell_type": "markdown",
   "id": "4cb56f1d-2130-4f64-96c2-96337051da85",
   "metadata": {},
   "source": [
    "Given the Quotebank available data starting in January 2015 and ending in December 2020, we won't be able to test the desired hypothesis for United Kingdom and Canada."
   ]
  },
  {
   "cell_type": "markdown",
   "id": "39f37935-33d6-4f9f-8017-5db733b68d33",
   "metadata": {},
   "source": [
    "#### United States of America \n",
    "\n",
    "Starting with USA, even if the final legalization took place in June 2015, most States did already legalize it previously.\n",
    "Thus, we do not expect to see a big influence here."
   ]
  },
  {
   "cell_type": "code",
   "execution_count": 264,
   "id": "996310f7-6081-4f39-acc0-7a8705d87d1f",
   "metadata": {},
   "outputs": [
    {
     "name": "stdout",
     "output_type": "stream",
     "text": [
      "Ttest_indResult(statistic=3.813917720284752, pvalue=0.00013689781023157725)\n",
      "Average USA sentiment before legalization : 0.1484 , SD = 0.5073 , N = 5769\n",
      "Average USA sentiment after legalization : 0.1204 , SD = 0.5367 , N = 64538\n",
      "Overall average USA sentiment : 0.1227 , SD = 0.5344 , N = 70307\n"
     ]
    },
    {
     "data": {
      "text/plain": [
       "[<matplotlib.lines.Line2D at 0x7fc90126d1c0>]"
      ]
     },
     "execution_count": 264,
     "metadata": {},
     "output_type": "execute_result"
    },
    {
     "data": {
      "image/png": "[encoded data removed]",
      "text/plain": [
       "<Figure size 432x288 with 1 Axes>"
      ]
     },
     "metadata": {
      "needs_background": "light"
     },
     "output_type": "display_data"
    }
   ],
   "source": [
    "quotes_USA = quotes_USA.set_index(['quote_date'])\n",
    "quotes_USA_before = quotes_USA.loc['2015-1-1' : '2015-5-31']\n",
    "quotes_USA_after = quotes_USA.loc['2015-6-1' : '2020-12-31']\n",
    "print(stats.ttest_ind(quotes_USA_before['Sentiment'], quotes_USA_after['Sentiment']))\n",
    "print(\"Average USA sentiment before legalization :\", round(quotes_USA_before['Sentiment'].mean(),4), \", SD =\", round(quotes_USA_before['Sentiment'].std(),4) , \", N =\",quotes_USA_before['Sentiment'].size)\n",
    "print(\"Average USA sentiment after legalization :\", round(quotes_USA_after['Sentiment'].mean(),4), \", SD =\", round(quotes_USA_after['Sentiment'].std(),4) , \", N =\",quotes_USA_after['Sentiment'].size)\n",
    "print(\"Overall average USA sentiment :\", round(quotes_USA['Sentiment'].mean(),4), \", SD =\", round(quotes_USA['Sentiment'].std(),4) , \", N =\",quotes_USA['Sentiment'].size)\n",
    "plt.plot(quotes_USA.groupby('quote_date').mean()[\"Sentiment\"])\n",
    "plt.plot(pd.date_range(start=\"2015-1-1\",end=\"2015-5-31\"),quotes_USA_before['Sentiment'].mean() * np.ones(1+(pd.to_datetime(\"2015-5-31\")-pd.to_datetime(\"2015-1-1\")).days),'r')\n",
    "plt.plot(pd.date_range(start=\"2015-6-1\",end=\"2020-12-31\"),quotes_USA_after['Sentiment'].mean() *np.ones(1+(pd.to_datetime(\"2020-12-31\")-pd.to_datetime(\"2015-6-1\")).days),'r')"
   ]
  },
  {
   "cell_type": "markdown",
   "id": "b571d06f-611a-42e6-b1c2-5982eeec7ef0",
   "metadata": {},
   "source": [
    "### Australia"
   ]
  },
  {
   "cell_type": "code",
   "execution_count": 265,
   "id": "cae46aa4-0b88-4a75-8a67-e8166f2ac15f",
   "metadata": {},
   "outputs": [
    {
     "name": "stdout",
     "output_type": "stream",
     "text": [
      "Ttest_indResult(statistic=3.4937570326145533, pvalue=0.00047912651617818046)\n",
      "Average Australia sentiment before legalization : 0.1635 , SD = 0.5148 , N = 4376\n",
      "Average Australia sentiment after legalization : 0.1196 , SD = 0.5331 , N = 2854\n",
      "Overall average Australia sentiment : 0.1462 , SD = 0.5225 , N = 7230\n"
     ]
    },
    {
     "data": {
      "text/plain": [
       "[<matplotlib.lines.Line2D at 0x7fc8e5fb5fa0>]"
      ]
     },
     "execution_count": 265,
     "metadata": {},
     "output_type": "execute_result"
    },
    {
     "data": {
      "image/png": "[encoded data removed]",
      "text/plain": [
       "<Figure size 432x288 with 1 Axes>"
      ]
     },
     "metadata": {
      "needs_background": "light"
     },
     "output_type": "display_data"
    }
   ],
   "source": [
    "quotes_AUS = quotes_AUS.set_index(['quote_date'])\n",
    "quotes_AUS_before = quotes_AUS.loc['2015-1-1' : '2017-11-30']\n",
    "quotes_AUS_after = quotes_AUS.loc['2017-12-1' : '2020-12-31']\n",
    "print(stats.ttest_ind(quotes_AUS_before['Sentiment'], quotes_AUS_after['Sentiment']))\n",
    "print(\"Average Australia sentiment before legalization :\", round(quotes_AUS_before['Sentiment'].mean(),4), \", SD =\", round(quotes_AUS_before['Sentiment'].std(),4) , \", N =\",quotes_AUS_before['Sentiment'].size)\n",
    "print(\"Average Australia sentiment after legalization :\", round(quotes_AUS_after['Sentiment'].mean(),4), \", SD =\", round(quotes_AUS_after['Sentiment'].std(),4) , \", N =\",quotes_AUS_after['Sentiment'].size)\n",
    "print(\"Overall average Australia sentiment :\", round(quotes_AUS['Sentiment'].mean(),4), \", SD =\", round(quotes_AUS['Sentiment'].std(),4) , \", N =\",quotes_AUS['Sentiment'].size)\n",
    "plt.plot(quotes_AUS.groupby('quote_date').mean()[\"Sentiment\"])\n",
    "plt.plot(pd.date_range(start=\"2015-1-1\",end=\"2017-11-30\"),quotes_AUS_before['Sentiment'].mean() * np.ones(1+(pd.to_datetime(\"2017-11-30\")-pd.to_datetime(\"2015-1-1\")).days),'r')\n",
    "plt.plot(pd.date_range(start=\"2017-12-1\",end=\"2020-12-31\"),quotes_AUS_after['Sentiment'].mean() *np.ones(1+(pd.to_datetime(\"2020-12-31\")-pd.to_datetime(\"2017-12-1\")).days),'r')"
   ]
  },
  {
   "cell_type": "markdown",
   "id": "4567446b-d843-4689-87bc-cd5d16b75879",
   "metadata": {},
   "source": [
    "### India"
   ]
  },
  {
   "cell_type": "code",
   "execution_count": 266,
   "id": "e834bd0d-3712-4f76-84dc-1ab3e6ea2890",
   "metadata": {},
   "outputs": [
    {
     "name": "stdout",
     "output_type": "stream",
     "text": [
      "Ttest_indResult(statistic=-0.19923652056403748, pvalue=0.842093414326496)\n",
      "Average India sentiment before legalization : 0.2021 , SD = 0.542 , N = 821\n",
      "Average India sentiment after legalization : 0.2068 , SD = 0.5624 , N = 1764\n",
      "Overall average India sentiment : 0.2053 , SD = 0.5559 , N = 2585\n"
     ]
    },
    {
     "data": {
      "text/plain": [
       "[<matplotlib.lines.Line2D at 0x7fc8e3e91310>]"
      ]
     },
     "execution_count": 266,
     "metadata": {},
     "output_type": "execute_result"
    },
    {
     "data": {
      "image/png": "[encoded data removed]",
      "text/plain": [
       "<Figure size 432x288 with 1 Axes>"
      ]
     },
     "metadata": {
      "needs_background": "light"
     },
     "output_type": "display_data"
    }
   ],
   "source": [
    "quotes_IND = quotes_IND.set_index(['quote_date'])\n",
    "quotes_IND_before = quotes_IND.loc['2015-1-1' : '2017-7-31']\n",
    "quotes_IND_after = quotes_IND.loc['2017-8-1' : '2020-12-31']\n",
    "print(stats.ttest_ind(quotes_IND_before['Sentiment'], quotes_IND_after['Sentiment']))\n",
    "print(\"Average India sentiment before legalization :\", round(quotes_IND_before['Sentiment'].mean(),4), \", SD =\", round(quotes_IND_before['Sentiment'].std(),4) , \", N =\",quotes_IND_before['Sentiment'].size)\n",
    "print(\"Average India sentiment after legalization :\", round(quotes_IND_after['Sentiment'].mean(),4), \", SD =\", round(quotes_IND_after['Sentiment'].std(),4) , \", N =\",quotes_IND_after['Sentiment'].size)\n",
    "print(\"Overall average India sentiment :\", round(quotes_IND['Sentiment'].mean(),4), \", SD =\", round(quotes_IND['Sentiment'].std(),4) , \", N =\",quotes_IND['Sentiment'].size)\n",
    "plt.plot(quotes_IND.groupby('quote_date').mean()[\"Sentiment\"])\n",
    "plt.plot(pd.date_range(start=\"2015-1-1\",end=\"2017-7-31\"),quotes_IND_before['Sentiment'].mean() * np.ones(1+(pd.to_datetime(\"2017-7-31\")-pd.to_datetime(\"2015-1-1\")).days),'r')\n",
    "plt.plot(pd.date_range(start=\"2017-8-1\",end=\"2020-12-31\"),quotes_IND_after['Sentiment'].mean() *np.ones(1+(pd.to_datetime(\"2020-12-31\")-pd.to_datetime(\"2017-8-1\")).days),'r')"
   ]
  },
  {
   "cell_type": "markdown",
   "id": "01e848ad-cf18-406e-b3f0-83589e8db027",
   "metadata": {},
   "source": [
    "### Ireland"
   ]
  },
  {
   "cell_type": "code",
   "execution_count": 267,
   "id": "150d794f-37e0-413c-91a5-68cbb39b4591",
   "metadata": {},
   "outputs": [
    {
     "name": "stdout",
     "output_type": "stream",
     "text": [
      "Ttest_indResult(statistic=-3.5382529085239653, pvalue=0.00041380364233487975)\n",
      "Average Ireland sentiment before legalization : 0.0365 , SD = 0.5161 , N = 169\n",
      "Average Ireland sentiment after legalization : 0.1852 , SD = 0.5182 , N = 1503\n",
      "Overall average India sentiment : 0.2053 , SD = 0.5559 , N = 2585\n"
     ]
    },
    {
     "data": {
      "text/plain": [
       "[<matplotlib.lines.Line2D at 0x7fc8e635f4c0>]"
      ]
     },
     "execution_count": 267,
     "metadata": {},
     "output_type": "execute_result"
    },
    {
     "data": {
      "image/png": "[encoded data removed]",
      "text/plain": [
       "<Figure size 432x288 with 1 Axes>"
      ]
     },
     "metadata": {
      "needs_background": "light"
     },
     "output_type": "display_data"
    }
   ],
   "source": [
    "quotes_IRE = quotes_IRE.set_index(['quote_date'])\n",
    "quotes_IRE_before = quotes_IRE.loc['2015-1-1' : '2015-4-30']\n",
    "quotes_IRE_after = quotes_IRE.loc['2015-5-1' : '2020-12-31']\n",
    "print(stats.ttest_ind(quotes_IRE_before['Sentiment'], quotes_IRE_after['Sentiment']))\n",
    "print(\"Average Ireland sentiment before legalization :\", round(quotes_IRE_before['Sentiment'].mean(),4), \", SD =\", round(quotes_IRE_before['Sentiment'].std(),4) , \", N =\",quotes_IRE_before['Sentiment'].size)\n",
    "print(\"Average Ireland sentiment after legalization :\", round(quotes_IRE_after['Sentiment'].mean(),4), \", SD =\", round(quotes_IRE_after['Sentiment'].std(),4) , \", N =\",quotes_IRE_after['Sentiment'].size)\n",
    "print(\"Overall average India sentiment :\", round(quotes_IND['Sentiment'].mean(),4), \", SD =\", round(quotes_IND['Sentiment'].std(),4) , \", N =\",quotes_IND['Sentiment'].size)\n",
    "plt.plot(quotes_IRE.groupby('quote_date').mean()[\"Sentiment\"])\n",
    "plt.plot(pd.date_range(start=\"2015-1-1\",end=\"2015-4-30\"),quotes_IRE_before['Sentiment'].mean() * np.ones(1+(pd.to_datetime(\"2015-4-30\")-pd.to_datetime(\"2015-1-1\")).days),'r')\n",
    "plt.plot(pd.date_range(start=\"2015-5-1\",end=\"2020-12-31\"),quotes_IRE_after['Sentiment'].mean() *np.ones(1+(pd.to_datetime(\"2020-12-31\")-pd.to_datetime(\"2015-5-1\")).days),'r')"
   ]
  },
  {
   "cell_type": "markdown",
   "id": "1b41c132-0c45-436b-9a0f-d94efbdf640e",
   "metadata": {},
   "source": [
    "### Philippines (extension)\n",
    "\n",
    "Recalling the periods detailed above :\n",
    "- January 2015 - January 2016,\n",
    "- February 2016 - February 2017,\n",
    "- March 2017 - November 2017,\n",
    "- December 2017 - May 2018,\n",
    "- June 2018 - August 2019,\n",
    "- September 2019 - December 2020."
   ]
  },
  {
   "cell_type": "code",
   "execution_count": 268,
   "id": "db9aaeb2-4522-4e7a-8908-1e74ee9eb7e7",
   "metadata": {},
   "outputs": [
    {
     "name": "stdout",
     "output_type": "stream",
     "text": [
      "Average Philippines sentiment in period 1 : 0.2952 , SD = 0.4827 , N = 330\n",
      "Average Philippines sentiment in period 2 : 0.1823 , SD = 0.5092 , N = 265\n",
      "Average Philippines sentiment in period 3 : 0.204 , SD = 0.4903 , N = 403\n",
      "Average Philippines sentiment in period 4 : 0.2443 , SD = 0.4958 , N = 270\n",
      "Average Philippines sentiment in period 5 : 0.218 , SD = 0.4962 , N = 569\n",
      "Average Philippines sentiment in period 6 : 0.233 , SD = 0.4938 , N = 183\n",
      "Overall average Philippines sentiment : 0.228 , SD = 0.4949 , N = 2020\n"
     ]
    },
    {
     "data": {
      "text/plain": [
       "[<matplotlib.lines.Line2D at 0x7fc8e3644220>]"
      ]
     },
     "execution_count": 268,
     "metadata": {},
     "output_type": "execute_result"
    },
    {
     "data": {
      "image/png": "[encoded data removed]",
      "text/plain": [
       "<Figure size 432x288 with 1 Axes>"
      ]
     },
     "metadata": {
      "needs_background": "light"
     },
     "output_type": "display_data"
    }
   ],
   "source": [
    "quotes_PHI = quotes_expanded[quotes_expanded['nationality'] == 'Philippines']\n",
    "quotes_PHI = quotes_PHI.set_index(['quote_date'])\n",
    "quotes_PHI_1 = quotes_PHI.loc['2015-1-1' : '2016-1-31']\n",
    "quotes_PHI_2 = quotes_PHI.loc['2016-2-1' : '2017-2-28']\n",
    "quotes_PHI_3 = quotes_PHI.loc['2017-3-1' : '2017-11-30']\n",
    "quotes_PHI_4 = quotes_PHI.loc['2017-12-1' : '2018-5-31']\n",
    "quotes_PHI_5 = quotes_PHI.loc['2018-6-1' : '2019-8-31']\n",
    "quotes_PHI_6 = quotes_PHI.loc['2019-9-1' : '2020-12-31']\n",
    "print(\"Average Philippines sentiment in period 1 :\", round(quotes_PHI_1['Sentiment'].mean(),4), \", SD =\", round(quotes_PHI_1['Sentiment'].std(),4) , \", N =\",quotes_PHI_1['Sentiment'].size)\n",
    "print(\"Average Philippines sentiment in period 2 :\", round(quotes_PHI_2['Sentiment'].mean(),4), \", SD =\", round(quotes_PHI_2['Sentiment'].std(),4) , \", N =\",quotes_PHI_2['Sentiment'].size)\n",
    "print(\"Average Philippines sentiment in period 3 :\", round(quotes_PHI_3['Sentiment'].mean(),4), \", SD =\", round(quotes_PHI_3['Sentiment'].std(),4) , \", N =\",quotes_PHI_3['Sentiment'].size)\n",
    "print(\"Average Philippines sentiment in period 4 :\", round(quotes_PHI_4['Sentiment'].mean(),4), \", SD =\", round(quotes_PHI_4['Sentiment'].std(),4) , \", N =\",quotes_PHI_4['Sentiment'].size)\n",
    "print(\"Average Philippines sentiment in period 5 :\", round(quotes_PHI_5['Sentiment'].mean(),4), \", SD =\", round(quotes_PHI_5['Sentiment'].std(),4) , \", N =\",quotes_PHI_5['Sentiment'].size)\n",
    "print(\"Average Philippines sentiment in period 6 :\", round(quotes_PHI_6['Sentiment'].mean(),4), \", SD =\", round(quotes_PHI_6['Sentiment'].std(),4) , \", N =\",quotes_PHI_6['Sentiment'].size)\n",
    "print(\"Overall average Philippines sentiment :\", round(quotes_PHI['Sentiment'].mean(),4), \", SD =\", round(quotes_PHI['Sentiment'].std(),4) , \", N =\",quotes_PHI['Sentiment'].size)\n",
    "plt.plot(quotes_PHI.groupby('quote_date').mean()[\"Sentiment\"])\n",
    "plt.plot(pd.date_range(start=\"2015-1-1\",end=\"2016-1-31\"),quotes_PHI_1['Sentiment'].mean() * np.ones(1+(pd.to_datetime(\"2016-1-31\")-pd.to_datetime(\"2015-1-1\")).days),'r')\n",
    "plt.plot(pd.date_range(start=\"2016-2-1\",end=\"2017-2-28\"),quotes_PHI_2['Sentiment'].mean() *np.ones(1+(pd.to_datetime(\"2017-2-28\")-pd.to_datetime(\"2016-2-1\")).days),'r')\n",
    "plt.plot(pd.date_range(start=\"2017-3-1\",end=\"2017-11-30\"),quotes_PHI_3['Sentiment'].mean() * np.ones(1+(pd.to_datetime(\"2017-11-30\")-pd.to_datetime(\"2017-3-1\")).days),'r')\n",
    "plt.plot(pd.date_range(start=\"2017-12-1\",end=\"2018-5-31\"),quotes_PHI_4['Sentiment'].mean() *np.ones(1+(pd.to_datetime(\"2018-5-31\")-pd.to_datetime(\"2017-12-1\")).days),'r')\n",
    "plt.plot(pd.date_range(start=\"2018-6-1\",end=\"2019-8-31\"),quotes_PHI_5['Sentiment'].mean() * np.ones(1+(pd.to_datetime(\"2019-8-31\")-pd.to_datetime(\"2018-6-1\")).days),'r')\n",
    "plt.plot(pd.date_range(start=\"2019-9-1\",end=\"2020-12-31\"),quotes_PHI_6['Sentiment'].mean() *np.ones(1+(pd.to_datetime(\"2020-12-31\")-pd.to_datetime(\"2019-9-1\")).days),'r')"
   ]
  },
  {
   "cell_type": "markdown",
   "id": "f661ae48-2e1d-42db-89ed-70f76bf84054",
   "metadata": {},
   "source": [
    "## Step 7 :"
   ]
  },
  {
   "cell_type": "code",
   "execution_count": 269,
   "id": "80570309-ebcd-48bc-bb23-c5b6c64240ec",
   "metadata": {},
   "outputs": [
    {
     "data": {
      "text/html": [
       "<div>\n",
       "<style scoped>\n",
       "    .dataframe tbody tr th:only-of-type {\n",
       "        vertical-align: middle;\n",
       "    }\n",
       "\n",
       "    .dataframe tbody tr th {\n",
       "        vertical-align: top;\n",
       "    }\n",
       "\n",
       "    .dataframe thead th {\n",
       "        text-align: right;\n",
       "    }\n",
       "</style>\n",
       "<table border=\"1\" class=\"dataframe\">\n",
       "  <thead>\n",
       "    <tr style=\"text-align: right;\">\n",
       "      <th></th>\n",
       "      <th>Country</th>\n",
       "      <th>Counts</th>\n",
       "      <th>Legalization_date</th>\n",
       "      <th>Sentiment_mean</th>\n",
       "      <th>Sentiment_before</th>\n",
       "      <th>Sentiment_after</th>\n",
       "      <th>Sentiment_difference</th>\n",
       "      <th>Independence_p_value</th>\n",
       "    </tr>\n",
       "  </thead>\n",
       "  <tbody>\n",
       "    <tr>\n",
       "      <th>0</th>\n",
       "      <td>United States of America</td>\n",
       "      <td>70307</td>\n",
       "      <td>2015-06-01</td>\n",
       "      <td>0.1227</td>\n",
       "      <td>0.1484</td>\n",
       "      <td>0.1204</td>\n",
       "      <td>-0.0280</td>\n",
       "      <td>0.000137</td>\n",
       "    </tr>\n",
       "    <tr>\n",
       "      <th>1</th>\n",
       "      <td>Australia</td>\n",
       "      <td>7230</td>\n",
       "      <td>2017-12-01</td>\n",
       "      <td>0.1462</td>\n",
       "      <td>0.1635</td>\n",
       "      <td>0.1196</td>\n",
       "      <td>-0.0439</td>\n",
       "      <td>0.000479</td>\n",
       "    </tr>\n",
       "    <tr>\n",
       "      <th>2</th>\n",
       "      <td>India</td>\n",
       "      <td>2585</td>\n",
       "      <td>2017-08-01</td>\n",
       "      <td>0.2053</td>\n",
       "      <td>0.2021</td>\n",
       "      <td>0.2068</td>\n",
       "      <td>0.0047</td>\n",
       "      <td>0.842093</td>\n",
       "    </tr>\n",
       "    <tr>\n",
       "      <th>3</th>\n",
       "      <td>Ireland</td>\n",
       "      <td>1672</td>\n",
       "      <td>2015-05-01</td>\n",
       "      <td>0.1702</td>\n",
       "      <td>0.0365</td>\n",
       "      <td>0.1852</td>\n",
       "      <td>0.1487</td>\n",
       "      <td>0.000414</td>\n",
       "    </tr>\n",
       "  </tbody>\n",
       "</table>\n",
       "</div>"
      ],
      "text/plain": [
       "                    Country  Counts Legalization_date  Sentiment_mean  \\\n",
       "0  United States of America   70307        2015-06-01          0.1227   \n",
       "1                 Australia    7230        2017-12-01          0.1462   \n",
       "2                     India    2585        2017-08-01          0.2053   \n",
       "3                   Ireland    1672        2015-05-01          0.1702   \n",
       "\n",
       "   Sentiment_before  Sentiment_after  Sentiment_difference  \\\n",
       "0            0.1484           0.1204               -0.0280   \n",
       "1            0.1635           0.1196               -0.0439   \n",
       "2            0.2021           0.2068                0.0047   \n",
       "3            0.0365           0.1852                0.1487   \n",
       "\n",
       "   Independence_p_value  \n",
       "0              0.000137  \n",
       "1              0.000479  \n",
       "2              0.842093  \n",
       "3              0.000414  "
      ]
     },
     "execution_count": 269,
     "metadata": {},
     "output_type": "execute_result"
    }
   ],
   "source": [
    "nationalities_short['Sentiment_mean'] =[round(quotes_USA['Sentiment'].mean(),4),round(quotes_AUS['Sentiment'].mean(),4),round(quotes_IND['Sentiment'].mean(),4),round(quotes_IRE['Sentiment'].mean(),4)]\n",
    "nationalities_short['Sentiment_before'] = [round(quotes_USA_before['Sentiment'].mean(),4),round(quotes_AUS_before['Sentiment'].mean(),4),round(quotes_IND_before['Sentiment'].mean(),4),round(quotes_IRE_before['Sentiment'].mean(),4)]\n",
    "nationalities_short['Sentiment_after'] = [round(quotes_USA_after['Sentiment'].mean(),4),round(quotes_AUS_after['Sentiment'].mean(),4),round(quotes_IND_after['Sentiment'].mean(),4),round(quotes_IRE_after['Sentiment'].mean(),4)]\n",
    "nationalities_short['Sentiment_difference'] = nationalities_short['Sentiment_after'] - nationalities_short['Sentiment_before']\n",
    "nationalities_short['Independence_p_value'] = [stats.ttest_ind(quotes_USA_before['Sentiment'], quotes_USA_after['Sentiment'])[1],stats.ttest_ind(quotes_AUS_before['Sentiment'], quotes_AUS_after['Sentiment'])[1],stats.ttest_ind(quotes_IND_before['Sentiment'], quotes_IND_after['Sentiment'])[1],stats.ttest_ind(quotes_IRE_before['Sentiment'], quotes_IRE_after['Sentiment'])[1]]\n",
    "nationalities_short.head(4)"
   ]
  },
  {
   "cell_type": "markdown",
   "id": "72e413ea-e524-4415-b810-feddec9e2d50",
   "metadata": {},
   "source": [
    "## Step 2 : Answering our research question 1 with the same-sex marriage related quotes"
   ]
  },
  {
   "cell_type": "code",
   "execution_count": 270,
   "id": "d8198a35-9c20-43fa-986a-ed3769d3d683",
   "metadata": {},
   "outputs": [
    {
     "name": "stderr",
     "output_type": "stream",
     "text": [
      "<ipython-input-270-3ba0986b2581>:5: SettingWithCopyWarning: \n",
      "A value is trying to be set on a copy of a slice from a DataFrame.\n",
      "Try using .loc[row_indexer,col_indexer] = value instead\n",
      "\n",
      "See the caveats in the documentation: https://pandas.pydata.org/pandas-docs/stable/user_guide/indexing.html#returning-a-view-versus-a-copy\n",
      "  df_time['quote_day'] = np.ones(len(df_time), dtype = int)\n"
     ]
    },
    {
     "data": {
      "text/html": [
       "<div>\n",
       "<style scoped>\n",
       "    .dataframe tbody tr th:only-of-type {\n",
       "        vertical-align: middle;\n",
       "    }\n",
       "\n",
       "    .dataframe tbody tr th {\n",
       "        vertical-align: top;\n",
       "    }\n",
       "\n",
       "    .dataframe thead th {\n",
       "        text-align: right;\n",
       "    }\n",
       "</style>\n",
       "<table border=\"1\" class=\"dataframe\">\n",
       "  <thead>\n",
       "    <tr style=\"text-align: right;\">\n",
       "      <th></th>\n",
       "      <th>date_of_birth</th>\n",
       "      <th>nationality</th>\n",
       "      <th>gender</th>\n",
       "      <th>Speaker</th>\n",
       "      <th>Quote</th>\n",
       "      <th>Sentiment</th>\n",
       "      <th>Sentiment Label</th>\n",
       "      <th>quote_date</th>\n",
       "    </tr>\n",
       "  </thead>\n",
       "  <tbody>\n",
       "    <tr>\n",
       "      <th>0</th>\n",
       "      <td>1971</td>\n",
       "      <td>United States of America</td>\n",
       "      <td>female</td>\n",
       "      <td>sarah kate ellis</td>\n",
       "      <td>With this decision, loving and committed same-...</td>\n",
       "      <td>0.9354</td>\n",
       "      <td>Positive</td>\n",
       "      <td>2015-06-01</td>\n",
       "    </tr>\n",
       "    <tr>\n",
       "      <th>1</th>\n",
       "      <td>1971</td>\n",
       "      <td>United States of America</td>\n",
       "      <td>female</td>\n",
       "      <td>sarah kate ellis</td>\n",
       "      <td>It's marriage equality, and it's a benchmark. ...</td>\n",
       "      <td>-0.1515</td>\n",
       "      <td>Negative</td>\n",
       "      <td>2015-06-01</td>\n",
       "    </tr>\n",
       "    <tr>\n",
       "      <th>2</th>\n",
       "      <td>1971</td>\n",
       "      <td>United States of America</td>\n",
       "      <td>female</td>\n",
       "      <td>sarah kate ellis</td>\n",
       "      <td>I think where we start to get into a slippery ...</td>\n",
       "      <td>0.9575</td>\n",
       "      <td>Positive</td>\n",
       "      <td>2015-06-01</td>\n",
       "    </tr>\n",
       "    <tr>\n",
       "      <th>3</th>\n",
       "      <td>1971</td>\n",
       "      <td>United States of America</td>\n",
       "      <td>female</td>\n",
       "      <td>sarah kate ellis</td>\n",
       "      <td>But marriage equality is a benchmark, it is no...</td>\n",
       "      <td>0.0000</td>\n",
       "      <td>Neutral</td>\n",
       "      <td>2015-12-01</td>\n",
       "    </tr>\n",
       "    <tr>\n",
       "      <th>4</th>\n",
       "      <td>1971</td>\n",
       "      <td>United States of America</td>\n",
       "      <td>female</td>\n",
       "      <td>sarah kate ellis</td>\n",
       "      <td>2015 was a monumental year for the LGBT commun...</td>\n",
       "      <td>0.8402</td>\n",
       "      <td>Positive</td>\n",
       "      <td>2016-02-01</td>\n",
       "    </tr>\n",
       "    <tr>\n",
       "      <th>5</th>\n",
       "      <td>1971</td>\n",
       "      <td>United States of America</td>\n",
       "      <td>female</td>\n",
       "      <td>sarah kate ellis</td>\n",
       "      <td>warning shot to all LGBTQ Americans that the w...</td>\n",
       "      <td>-0.7430</td>\n",
       "      <td>Negative</td>\n",
       "      <td>2017-06-01</td>\n",
       "    </tr>\n",
       "    <tr>\n",
       "      <th>6</th>\n",
       "      <td>1971</td>\n",
       "      <td>United States of America</td>\n",
       "      <td>female</td>\n",
       "      <td>sarah kate ellis</td>\n",
       "      <td>You can look it up. I've given to American Uni...</td>\n",
       "      <td>0.0000</td>\n",
       "      <td>Neutral</td>\n",
       "      <td>2017-07-01</td>\n",
       "    </tr>\n",
       "    <tr>\n",
       "      <th>7</th>\n",
       "      <td>1971</td>\n",
       "      <td>United States of America</td>\n",
       "      <td>female</td>\n",
       "      <td>sarah kate ellis</td>\n",
       "      <td>The Texas Supreme Court's decision this mornin...</td>\n",
       "      <td>-0.3818</td>\n",
       "      <td>Negative</td>\n",
       "      <td>2017-06-01</td>\n",
       "    </tr>\n",
       "    <tr>\n",
       "      <th>8</th>\n",
       "      <td>1971</td>\n",
       "      <td>United States of America</td>\n",
       "      <td>female</td>\n",
       "      <td>sarah kate ellis</td>\n",
       "      <td>In a shameful haste to undermine marriage equa...</td>\n",
       "      <td>-0.6597</td>\n",
       "      <td>Negative</td>\n",
       "      <td>2017-04-01</td>\n",
       "    </tr>\n",
       "    <tr>\n",
       "      <th>9</th>\n",
       "      <td>1971</td>\n",
       "      <td>United States of America</td>\n",
       "      <td>female</td>\n",
       "      <td>sarah kate ellis</td>\n",
       "      <td>Republicans in the Senate just destroyed a ste...</td>\n",
       "      <td>0.5984</td>\n",
       "      <td>Positive</td>\n",
       "      <td>2017-04-01</td>\n",
       "    </tr>\n",
       "  </tbody>\n",
       "</table>\n",
       "</div>"
      ],
      "text/plain": [
       "  date_of_birth               nationality  gender           Speaker  \\\n",
       "0          1971  United States of America  female  sarah kate ellis   \n",
       "1          1971  United States of America  female  sarah kate ellis   \n",
       "2          1971  United States of America  female  sarah kate ellis   \n",
       "3          1971  United States of America  female  sarah kate ellis   \n",
       "4          1971  United States of America  female  sarah kate ellis   \n",
       "5          1971  United States of America  female  sarah kate ellis   \n",
       "6          1971  United States of America  female  sarah kate ellis   \n",
       "7          1971  United States of America  female  sarah kate ellis   \n",
       "8          1971  United States of America  female  sarah kate ellis   \n",
       "9          1971  United States of America  female  sarah kate ellis   \n",
       "\n",
       "                                               Quote  Sentiment  \\\n",
       "0  With this decision, loving and committed same-...     0.9354   \n",
       "1  It's marriage equality, and it's a benchmark. ...    -0.1515   \n",
       "2  I think where we start to get into a slippery ...     0.9575   \n",
       "3  But marriage equality is a benchmark, it is no...     0.0000   \n",
       "4  2015 was a monumental year for the LGBT commun...     0.8402   \n",
       "5  warning shot to all LGBTQ Americans that the w...    -0.7430   \n",
       "6  You can look it up. I've given to American Uni...     0.0000   \n",
       "7  The Texas Supreme Court's decision this mornin...    -0.3818   \n",
       "8  In a shameful haste to undermine marriage equa...    -0.6597   \n",
       "9  Republicans in the Senate just destroyed a ste...     0.5984   \n",
       "\n",
       "  Sentiment Label quote_date  \n",
       "0        Positive 2015-06-01  \n",
       "1        Negative 2015-06-01  \n",
       "2        Positive 2015-06-01  \n",
       "3         Neutral 2015-12-01  \n",
       "4        Positive 2016-02-01  \n",
       "5        Negative 2017-06-01  \n",
       "6         Neutral 2017-07-01  \n",
       "7        Negative 2017-06-01  \n",
       "8        Negative 2017-04-01  \n",
       "9        Positive 2017-04-01  "
      ]
     },
     "execution_count": 270,
     "metadata": {},
     "output_type": "execute_result"
    }
   ],
   "source": [
    "quotes_marriage = pd.read_pickle(\"same-sex-marriage-focus.pkl\")\n",
    "quotes_marriage = quotes_marriage.reset_index(drop=True)\n",
    "\n",
    "df_time = quotes_marriage[['quote_year','quote_month']]\n",
    "df_time['quote_day'] = np.ones(len(df_time), dtype = int)\n",
    "df_time.columns = ['year', 'month', 'day']\n",
    "df_time = pd.to_datetime(df_time)\n",
    "quotes_marriage[\"quote_date\"] = df_time\n",
    "quotes_marriage = quotes_marriage.drop(['quote_year', 'quote_month','occupation'], axis=1)\n",
    "\n",
    "quotes_marriage.head(10)"
   ]
  },
  {
   "cell_type": "code",
   "execution_count": 271,
   "id": "a3b9cfa7-4c75-4901-9ee4-75b4fe836173",
   "metadata": {
    "tags": []
   },
   "outputs": [
    {
     "data": {
      "text/html": [
       "<div>\n",
       "<style scoped>\n",
       "    .dataframe tbody tr th:only-of-type {\n",
       "        vertical-align: middle;\n",
       "    }\n",
       "\n",
       "    .dataframe tbody tr th {\n",
       "        vertical-align: top;\n",
       "    }\n",
       "\n",
       "    .dataframe thead th {\n",
       "        text-align: right;\n",
       "    }\n",
       "</style>\n",
       "<table border=\"1\" class=\"dataframe\">\n",
       "  <thead>\n",
       "    <tr style=\"text-align: right;\">\n",
       "      <th></th>\n",
       "      <th>Country</th>\n",
       "      <th>Counts</th>\n",
       "    </tr>\n",
       "  </thead>\n",
       "  <tbody>\n",
       "    <tr>\n",
       "      <th>0</th>\n",
       "      <td>United States of America</td>\n",
       "      <td>4173</td>\n",
       "    </tr>\n",
       "    <tr>\n",
       "      <th>1</th>\n",
       "      <td>Australia</td>\n",
       "      <td>1869</td>\n",
       "    </tr>\n",
       "    <tr>\n",
       "      <th>2</th>\n",
       "      <td>United Kingdom</td>\n",
       "      <td>797</td>\n",
       "    </tr>\n",
       "    <tr>\n",
       "      <th>4</th>\n",
       "      <td>Ireland</td>\n",
       "      <td>277</td>\n",
       "    </tr>\n",
       "    <tr>\n",
       "      <th>3</th>\n",
       "      <td>Canada</td>\n",
       "      <td>259</td>\n",
       "    </tr>\n",
       "    <tr>\n",
       "      <th>23</th>\n",
       "      <td>New Zealand</td>\n",
       "      <td>45</td>\n",
       "    </tr>\n",
       "    <tr>\n",
       "      <th>37</th>\n",
       "      <td>Taiwan</td>\n",
       "      <td>43</td>\n",
       "    </tr>\n",
       "    <tr>\n",
       "      <th>17</th>\n",
       "      <td>France</td>\n",
       "      <td>28</td>\n",
       "    </tr>\n",
       "    <tr>\n",
       "      <th>40</th>\n",
       "      <td>Japan</td>\n",
       "      <td>28</td>\n",
       "    </tr>\n",
       "    <tr>\n",
       "      <th>16</th>\n",
       "      <td>Germany</td>\n",
       "      <td>27</td>\n",
       "    </tr>\n",
       "  </tbody>\n",
       "</table>\n",
       "</div>"
      ],
      "text/plain": [
       "                     Country  Counts\n",
       "0   United States of America    4173\n",
       "1                  Australia    1869\n",
       "2             United Kingdom     797\n",
       "4                    Ireland     277\n",
       "3                     Canada     259\n",
       "23               New Zealand      45\n",
       "37                    Taiwan      43\n",
       "17                    France      28\n",
       "40                     Japan      28\n",
       "16                   Germany      27"
      ]
     },
     "execution_count": 271,
     "metadata": {},
     "output_type": "execute_result"
    }
   ],
   "source": [
    "nationalities = np.hstack(quotes_marriage.nationality.dropna().to_numpy())\n",
    "nationalities_dict = dict(Counter(nationalities))\n",
    "nationalities_dict = {'Country': list(nationalities_dict.keys()), 'Counts': list(nationalities_dict.values())}\n",
    "nationalities_marriage = pd.DataFrame.from_dict(nationalities_dict)\n",
    "nationalities_marriage = nationalities_marriage.sort_values(by='Counts', ascending=False)\n",
    "nationalities_marriage.head(10)"
   ]
  },
  {
   "cell_type": "code",
   "execution_count": 272,
   "id": "44277731-506a-49ab-bd5e-5602c929762d",
   "metadata": {},
   "outputs": [
    {
     "data": {
      "text/html": [
       "<div>\n",
       "<style scoped>\n",
       "    .dataframe tbody tr th:only-of-type {\n",
       "        vertical-align: middle;\n",
       "    }\n",
       "\n",
       "    .dataframe tbody tr th {\n",
       "        vertical-align: top;\n",
       "    }\n",
       "\n",
       "    .dataframe thead th {\n",
       "        text-align: right;\n",
       "    }\n",
       "</style>\n",
       "<table border=\"1\" class=\"dataframe\">\n",
       "  <thead>\n",
       "    <tr style=\"text-align: right;\">\n",
       "      <th></th>\n",
       "      <th>Country</th>\n",
       "      <th>Counts</th>\n",
       "    </tr>\n",
       "  </thead>\n",
       "  <tbody>\n",
       "    <tr>\n",
       "      <th>0</th>\n",
       "      <td>United States of America</td>\n",
       "      <td>4173</td>\n",
       "    </tr>\n",
       "    <tr>\n",
       "      <th>1</th>\n",
       "      <td>Australia</td>\n",
       "      <td>1869</td>\n",
       "    </tr>\n",
       "    <tr>\n",
       "      <th>2</th>\n",
       "      <td>United Kingdom</td>\n",
       "      <td>797</td>\n",
       "    </tr>\n",
       "    <tr>\n",
       "      <th>3</th>\n",
       "      <td>Ireland</td>\n",
       "      <td>277</td>\n",
       "    </tr>\n",
       "    <tr>\n",
       "      <th>4</th>\n",
       "      <td>Canada</td>\n",
       "      <td>259</td>\n",
       "    </tr>\n",
       "  </tbody>\n",
       "</table>\n",
       "</div>"
      ],
      "text/plain": [
       "                    Country  Counts\n",
       "0  United States of America    4173\n",
       "1                 Australia    1869\n",
       "2            United Kingdom     797\n",
       "3                   Ireland     277\n",
       "4                    Canada     259"
      ]
     },
     "execution_count": 272,
     "metadata": {},
     "output_type": "execute_result"
    }
   ],
   "source": [
    "nationalities_short = nationalities_marriage[nationalities_marriage['Counts'] > 200]\n",
    "nationalities_short = nationalities_short.reset_index(drop=True)\n",
    "nationalities_short.head(10)"
   ]
  },
  {
   "cell_type": "markdown",
   "id": "271952d0-8d9d-41a4-8e5f-d80d6c6763fa",
   "metadata": {},
   "source": [
    "We note Philippines' quotes finally did not contain much data related to same-sex marriage"
   ]
  },
  {
   "cell_type": "code",
   "execution_count": 273,
   "id": "58d98502-0978-4582-9b0b-227ff8d5cc2c",
   "metadata": {},
   "outputs": [
    {
     "data": {
      "text/html": [
       "<div>\n",
       "<style scoped>\n",
       "    .dataframe tbody tr th:only-of-type {\n",
       "        vertical-align: middle;\n",
       "    }\n",
       "\n",
       "    .dataframe tbody tr th {\n",
       "        vertical-align: top;\n",
       "    }\n",
       "\n",
       "    .dataframe thead th {\n",
       "        text-align: right;\n",
       "    }\n",
       "</style>\n",
       "<table border=\"1\" class=\"dataframe\">\n",
       "  <thead>\n",
       "    <tr style=\"text-align: right;\">\n",
       "      <th></th>\n",
       "      <th>Country</th>\n",
       "      <th>Counts</th>\n",
       "    </tr>\n",
       "  </thead>\n",
       "  <tbody>\n",
       "    <tr>\n",
       "      <th>0</th>\n",
       "      <td>United States of America</td>\n",
       "      <td>4173</td>\n",
       "    </tr>\n",
       "    <tr>\n",
       "      <th>1</th>\n",
       "      <td>Australia</td>\n",
       "      <td>1869</td>\n",
       "    </tr>\n",
       "    <tr>\n",
       "      <th>2</th>\n",
       "      <td>Ireland</td>\n",
       "      <td>277</td>\n",
       "    </tr>\n",
       "  </tbody>\n",
       "</table>\n",
       "</div>"
      ],
      "text/plain": [
       "                    Country  Counts\n",
       "0  United States of America    4173\n",
       "1                 Australia    1869\n",
       "2                   Ireland     277"
      ]
     },
     "execution_count": 273,
     "metadata": {},
     "output_type": "execute_result"
    }
   ],
   "source": [
    "nationalities_short = nationalities_short.drop(index=[2,4])\n",
    "nationalities_short = nationalities_short.reset_index(drop=True)\n",
    "nationalities_short.head(10)"
   ]
  },
  {
   "cell_type": "code",
   "execution_count": 274,
   "id": "a55ad0f8-8673-4703-947d-42235f318925",
   "metadata": {},
   "outputs": [
    {
     "data": {
      "text/html": [
       "<div>\n",
       "<style scoped>\n",
       "    .dataframe tbody tr th:only-of-type {\n",
       "        vertical-align: middle;\n",
       "    }\n",
       "\n",
       "    .dataframe tbody tr th {\n",
       "        vertical-align: top;\n",
       "    }\n",
       "\n",
       "    .dataframe thead th {\n",
       "        text-align: right;\n",
       "    }\n",
       "</style>\n",
       "<table border=\"1\" class=\"dataframe\">\n",
       "  <thead>\n",
       "    <tr style=\"text-align: right;\">\n",
       "      <th></th>\n",
       "      <th>Country</th>\n",
       "      <th>Counts</th>\n",
       "      <th>Legalization_date</th>\n",
       "    </tr>\n",
       "  </thead>\n",
       "  <tbody>\n",
       "    <tr>\n",
       "      <th>0</th>\n",
       "      <td>United States of America</td>\n",
       "      <td>4173</td>\n",
       "      <td>2015-06-01</td>\n",
       "    </tr>\n",
       "    <tr>\n",
       "      <th>1</th>\n",
       "      <td>Australia</td>\n",
       "      <td>1869</td>\n",
       "      <td>2017-12-01</td>\n",
       "    </tr>\n",
       "    <tr>\n",
       "      <th>2</th>\n",
       "      <td>Ireland</td>\n",
       "      <td>277</td>\n",
       "      <td>2015-05-01</td>\n",
       "    </tr>\n",
       "  </tbody>\n",
       "</table>\n",
       "</div>"
      ],
      "text/plain": [
       "                    Country  Counts Legalization_date\n",
       "0  United States of America    4173        2015-06-01\n",
       "1                 Australia    1869        2017-12-01\n",
       "2                   Ireland     277        2015-05-01"
      ]
     },
     "execution_count": 274,
     "metadata": {},
     "output_type": "execute_result"
    }
   ],
   "source": [
    "dates = pd.DataFrame({'year':[2015,2017,2015],'month':[6,12,5],'day': [1,1,1]})\n",
    "nationalities_short['Legalization_date'] = pd.to_datetime(dates)\n",
    "nationalities_short.head(10)"
   ]
  },
  {
   "cell_type": "code",
   "execution_count": 275,
   "id": "c6280fae-845f-4547-a226-49b2f8d34675",
   "metadata": {},
   "outputs": [],
   "source": [
    "quotes_USA = quotes_marriage[quotes_marriage['nationality'] == 'United States of America']\n",
    "quotes_AUS = quotes_marriage[quotes_marriage['nationality'] == 'Australia']\n",
    "quotes_IRE = quotes_marriage[quotes_marriage['nationality'] == 'Ireland']"
   ]
  },
  {
   "cell_type": "markdown",
   "id": "24e4d016-aec2-473b-979c-8ab774000f05",
   "metadata": {},
   "source": [
    "### United States of America"
   ]
  },
  {
   "cell_type": "code",
   "execution_count": 276,
   "id": "52fc45b3-3ce0-4a9f-b3f6-00267b6bae60",
   "metadata": {},
   "outputs": [
    {
     "name": "stdout",
     "output_type": "stream",
     "text": [
      "Ttest_indResult(statistic=-0.49940896032535587, pvalue=0.6175176487181071)\n",
      "Average USA sentiment before legalization : 0.1847 , SD = 0.4998 , N = 804\n",
      "Average USA sentiment after legalization : 0.1947 , SD = 0.5147 , N = 3369\n",
      "Overall average USA sentiment : 0.1928 , SD = 0.5119 , N = 4173\n"
     ]
    },
    {
     "data": {
      "text/plain": [
       "[<matplotlib.lines.Line2D at 0x7fc8e6d54e50>]"
      ]
     },
     "execution_count": 276,
     "metadata": {},
     "output_type": "execute_result"
    },
    {
     "data": {
      "image/png": "[encoded data removed]",
      "text/plain": [
       "<Figure size 432x288 with 1 Axes>"
      ]
     },
     "metadata": {
      "needs_background": "light"
     },
     "output_type": "display_data"
    }
   ],
   "source": [
    "quotes_USA = quotes_USA.set_index(['quote_date'])\n",
    "quotes_USA_before = quotes_USA.loc['2015-1-1' : '2015-5-31']\n",
    "quotes_USA_after = quotes_USA.loc['2015-6-1' : '2020-12-31']\n",
    "print(stats.ttest_ind(quotes_USA_before['Sentiment'], quotes_USA_after['Sentiment']))\n",
    "print(\"Average USA sentiment before legalization :\", round(quotes_USA_before['Sentiment'].mean(),4), \", SD =\", round(quotes_USA_before['Sentiment'].std(),4) , \", N =\",quotes_USA_before['Sentiment'].size)\n",
    "print(\"Average USA sentiment after legalization :\", round(quotes_USA_after['Sentiment'].mean(),4), \", SD =\", round(quotes_USA_after['Sentiment'].std(),4) , \", N =\",quotes_USA_after['Sentiment'].size)\n",
    "print(\"Overall average USA sentiment :\", round(quotes_USA['Sentiment'].mean(),4), \", SD =\", round(quotes_USA['Sentiment'].std(),4) , \", N =\",quotes_USA['Sentiment'].size)\n",
    "plt.plot(quotes_USA.groupby('quote_date').mean()[\"Sentiment\"])\n",
    "plt.plot(pd.date_range(start=\"2015-1-1\",end=\"2015-5-31\"),quotes_USA_before['Sentiment'].mean() * np.ones(1+(pd.to_datetime(\"2015-5-31\")-pd.to_datetime(\"2015-1-1\")).days),'r')\n",
    "plt.plot(pd.date_range(start=\"2015-6-1\",end=\"2020-12-31\"),quotes_USA_after['Sentiment'].mean() *np.ones(1+(pd.to_datetime(\"2020-12-31\")-pd.to_datetime(\"2015-6-1\")).days),'r')"
   ]
  },
  {
   "cell_type": "markdown",
   "id": "38c9b466-69d7-4ae4-affe-a9e059addd9e",
   "metadata": {},
   "source": [
    "### Australia"
   ]
  },
  {
   "cell_type": "code",
   "execution_count": 277,
   "id": "f1dbd85e-ea58-4586-83fd-7db59abd5091",
   "metadata": {},
   "outputs": [
    {
     "name": "stdout",
     "output_type": "stream",
     "text": [
      "Ttest_indResult(statistic=1.743277429704311, pvalue=0.08144978000881772)\n",
      "Average Australia sentiment before legalization : 0.2457 , SD = 0.468 , N = 1575\n",
      "Average Australia sentiment after legalization : 0.1937 , SD = 0.4781 , N = 294\n",
      "Overall average Australia sentiment : 0.2375 , SD = 0.4698 , N = 1869\n"
     ]
    },
    {
     "data": {
      "text/plain": [
       "[<matplotlib.lines.Line2D at 0x7fc8e581cfd0>]"
      ]
     },
     "execution_count": 277,
     "metadata": {},
     "output_type": "execute_result"
    },
    {
     "data": {
      "image/png": "[encoded data removed]",
      "text/plain": [
       "<Figure size 432x288 with 1 Axes>"
      ]
     },
     "metadata": {
      "needs_background": "light"
     },
     "output_type": "display_data"
    }
   ],
   "source": [
    "quotes_AUS = quotes_AUS.set_index(['quote_date'])\n",
    "quotes_AUS_before = quotes_AUS.loc['2015-1-1' : '2017-11-30']\n",
    "quotes_AUS_after = quotes_AUS.loc['2017-12-1' : '2020-12-31']\n",
    "print(stats.ttest_ind(quotes_AUS_before['Sentiment'], quotes_AUS_after['Sentiment']))\n",
    "print(\"Average Australia sentiment before legalization :\", round(quotes_AUS_before['Sentiment'].mean(),4), \", SD =\", round(quotes_AUS_before['Sentiment'].std(),4) , \", N =\",quotes_AUS_before['Sentiment'].size)\n",
    "print(\"Average Australia sentiment after legalization :\", round(quotes_AUS_after['Sentiment'].mean(),4), \", SD =\", round(quotes_AUS_after['Sentiment'].std(),4) , \", N =\",quotes_AUS_after['Sentiment'].size)\n",
    "print(\"Overall average Australia sentiment :\", round(quotes_AUS['Sentiment'].mean(),4), \", SD =\", round(quotes_AUS['Sentiment'].std(),4) , \", N =\",quotes_AUS['Sentiment'].size)\n",
    "plt.plot(quotes_AUS.groupby('quote_date').mean()[\"Sentiment\"])\n",
    "plt.plot(pd.date_range(start=\"2015-1-1\",end=\"2017-11-30\"),quotes_AUS_before['Sentiment'].mean() * np.ones(1+(pd.to_datetime(\"2017-11-30\")-pd.to_datetime(\"2015-1-1\")).days),'r')\n",
    "plt.plot(pd.date_range(start=\"2017-12-1\",end=\"2020-12-31\"),quotes_AUS_after['Sentiment'].mean() *np.ones(1+(pd.to_datetime(\"2020-12-31\")-pd.to_datetime(\"2017-12-1\")).days),'r')"
   ]
  },
  {
   "cell_type": "markdown",
   "id": "fd2b751f-ec22-4276-a198-13b7c08055a3",
   "metadata": {},
   "source": [
    "### Ireland"
   ]
  },
  {
   "cell_type": "code",
   "execution_count": 278,
   "id": "b33e4512-1756-4b6b-a65a-2aa34c5a8a83",
   "metadata": {},
   "outputs": [
    {
     "name": "stdout",
     "output_type": "stream",
     "text": [
      "Ttest_indResult(statistic=-4.079370709612099, pvalue=5.9202864655653154e-05)\n",
      "Average Ireland sentiment before legalization : -0.0619 , SD = 0.4737 , N = 31\n",
      "Average Ireland sentiment after legalization : 0.3008 , SD = 0.4657 , N = 246\n",
      "Overall average India sentiment : 0.2053 , SD = 0.5559 , N = 2585\n"
     ]
    },
    {
     "data": {
      "text/plain": [
       "[<matplotlib.lines.Line2D at 0x7fc8e9b5f250>]"
      ]
     },
     "execution_count": 278,
     "metadata": {},
     "output_type": "execute_result"
    },
    {
     "data": {
      "image/png": "[encoded data removed]",
      "text/plain": [
       "<Figure size 432x288 with 1 Axes>"
      ]
     },
     "metadata": {
      "needs_background": "light"
     },
     "output_type": "display_data"
    }
   ],
   "source": [
    "quotes_IRE = quotes_IRE.set_index(['quote_date'])\n",
    "quotes_IRE_before = quotes_IRE.loc['2015-1-1' : '2015-4-30']\n",
    "quotes_IRE_after = quotes_IRE.loc['2015-5-1' : '2020-12-31']\n",
    "print(stats.ttest_ind(quotes_IRE_before['Sentiment'], quotes_IRE_after['Sentiment']))\n",
    "print(\"Average Ireland sentiment before legalization :\", round(quotes_IRE_before['Sentiment'].mean(),4), \", SD =\", round(quotes_IRE_before['Sentiment'].std(),4) , \", N =\",quotes_IRE_before['Sentiment'].size)\n",
    "print(\"Average Ireland sentiment after legalization :\", round(quotes_IRE_after['Sentiment'].mean(),4), \", SD =\", round(quotes_IRE_after['Sentiment'].std(),4) , \", N =\",quotes_IRE_after['Sentiment'].size)\n",
    "print(\"Overall average India sentiment :\", round(quotes_IND['Sentiment'].mean(),4), \", SD =\", round(quotes_IND['Sentiment'].std(),4) , \", N =\",quotes_IND['Sentiment'].size)\n",
    "plt.plot(quotes_IRE.groupby('quote_date').mean()[\"Sentiment\"])\n",
    "plt.plot(pd.date_range(start=\"2015-1-1\",end=\"2015-4-30\"),quotes_IRE_before['Sentiment'].mean() * np.ones(1+(pd.to_datetime(\"2015-4-30\")-pd.to_datetime(\"2015-1-1\")).days),'r')\n",
    "plt.plot(pd.date_range(start=\"2015-5-1\",end=\"2020-12-31\"),quotes_IRE_after['Sentiment'].mean() *np.ones(1+(pd.to_datetime(\"2020-12-31\")-pd.to_datetime(\"2015-5-1\")).days),'r')"
   ]
  },
  {
   "cell_type": "markdown",
   "id": "f7ebde76-ece5-4347-b540-6754054cb5f2",
   "metadata": {},
   "source": [
    "### Conclusion"
   ]
  },
  {
   "cell_type": "code",
   "execution_count": 279,
   "id": "efb26346-726b-4a41-ab87-32758d2ddeb5",
   "metadata": {},
   "outputs": [
    {
     "data": {
      "text/html": [
       "<div>\n",
       "<style scoped>\n",
       "    .dataframe tbody tr th:only-of-type {\n",
       "        vertical-align: middle;\n",
       "    }\n",
       "\n",
       "    .dataframe tbody tr th {\n",
       "        vertical-align: top;\n",
       "    }\n",
       "\n",
       "    .dataframe thead th {\n",
       "        text-align: right;\n",
       "    }\n",
       "</style>\n",
       "<table border=\"1\" class=\"dataframe\">\n",
       "  <thead>\n",
       "    <tr style=\"text-align: right;\">\n",
       "      <th></th>\n",
       "      <th>Country</th>\n",
       "      <th>Counts</th>\n",
       "      <th>Legalization_date</th>\n",
       "      <th>Sentiment_mean</th>\n",
       "      <th>Sentiment_before</th>\n",
       "      <th>Sentiment_after</th>\n",
       "      <th>Sentiment_difference</th>\n",
       "      <th>Independence_p_value</th>\n",
       "    </tr>\n",
       "  </thead>\n",
       "  <tbody>\n",
       "    <tr>\n",
       "      <th>0</th>\n",
       "      <td>United States of America</td>\n",
       "      <td>4173</td>\n",
       "      <td>2015-06-01</td>\n",
       "      <td>0.1928</td>\n",
       "      <td>0.1847</td>\n",
       "      <td>0.1947</td>\n",
       "      <td>0.0100</td>\n",
       "      <td>0.617518</td>\n",
       "    </tr>\n",
       "    <tr>\n",
       "      <th>1</th>\n",
       "      <td>Australia</td>\n",
       "      <td>1869</td>\n",
       "      <td>2017-12-01</td>\n",
       "      <td>0.2375</td>\n",
       "      <td>0.2457</td>\n",
       "      <td>0.1937</td>\n",
       "      <td>-0.0520</td>\n",
       "      <td>0.081450</td>\n",
       "    </tr>\n",
       "    <tr>\n",
       "      <th>2</th>\n",
       "      <td>Ireland</td>\n",
       "      <td>277</td>\n",
       "      <td>2015-05-01</td>\n",
       "      <td>0.2603</td>\n",
       "      <td>-0.0619</td>\n",
       "      <td>0.3008</td>\n",
       "      <td>0.3627</td>\n",
       "      <td>0.000059</td>\n",
       "    </tr>\n",
       "  </tbody>\n",
       "</table>\n",
       "</div>"
      ],
      "text/plain": [
       "                    Country  Counts Legalization_date  Sentiment_mean  \\\n",
       "0  United States of America    4173        2015-06-01          0.1928   \n",
       "1                 Australia    1869        2017-12-01          0.2375   \n",
       "2                   Ireland     277        2015-05-01          0.2603   \n",
       "\n",
       "   Sentiment_before  Sentiment_after  Sentiment_difference  \\\n",
       "0            0.1847           0.1947                0.0100   \n",
       "1            0.2457           0.1937               -0.0520   \n",
       "2           -0.0619           0.3008                0.3627   \n",
       "\n",
       "   Independence_p_value  \n",
       "0              0.617518  \n",
       "1              0.081450  \n",
       "2              0.000059  "
      ]
     },
     "execution_count": 279,
     "metadata": {},
     "output_type": "execute_result"
    }
   ],
   "source": [
    "nationalities_short['Sentiment_mean'] =[round(quotes_USA['Sentiment'].mean(),4),round(quotes_AUS['Sentiment'].mean(),4),round(quotes_IRE['Sentiment'].mean(),4)]\n",
    "nationalities_short['Sentiment_before'] = [round(quotes_USA_before['Sentiment'].mean(),4),round(quotes_AUS_before['Sentiment'].mean(),4),round(quotes_IRE_before['Sentiment'].mean(),4)]\n",
    "nationalities_short['Sentiment_after'] = [round(quotes_USA_after['Sentiment'].mean(),4),round(quotes_AUS_after['Sentiment'].mean(),4),round(quotes_IRE_after['Sentiment'].mean(),4)]\n",
    "nationalities_short['Sentiment_difference'] = nationalities_short['Sentiment_after'] - nationalities_short['Sentiment_before']\n",
    "nationalities_short['Independence_p_value'] = [stats.ttest_ind(quotes_USA_before['Sentiment'], quotes_USA_after['Sentiment'])[1],stats.ttest_ind(quotes_AUS_before['Sentiment'], quotes_AUS_after['Sentiment'])[1],stats.ttest_ind(quotes_IRE_before['Sentiment'], quotes_IRE_after['Sentiment'])[1]]\n",
    "nationalities_short.head(4)"
   ]
  },
  {
   "cell_type": "code",
   "execution_count": null,
   "id": "9bd6f2e2-a35b-4f98-b862-93d2f4bc8797",
   "metadata": {},
   "outputs": [],
   "source": []
  }
 ],
 "metadata": {
  "kernelspec": {
   "display_name": "Python 3",
   "language": "python",
   "name": "python3"
  },
  "language_info": {
   "codemirror_mode": {
    "name": "ipython",
    "version": 3
   },
   "file_extension": ".py",
   "mimetype": "text/x-python",
   "name": "python",
   "nbconvert_exporter": "python",
   "pygments_lexer": "ipython3",
   "version": "3.8.8"
  }
 },
 "nbformat": 4,
 "nbformat_minor": 5
}
