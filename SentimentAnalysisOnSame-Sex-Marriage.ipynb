{
 "cells": [
  {
   "cell_type": "code",
   "execution_count": 64,
   "id": "e15fcad1-2fa5-4914-9bd9-5987b86c27cb",
   "metadata": {},
   "outputs": [],
   "source": [
    "import pandas as pd\n",
    "\n",
    "same_sex_marriage = pd.read_json(\"same_sex_marriage_part.json.zip\",compression= 'zip')"
   ]
  },
  {
   "cell_type": "code",
   "execution_count": 65,
   "id": "a9c6b78f-7358-4ffc-b245-d56d481ae035",
   "metadata": {},
   "outputs": [],
   "source": [
    "import numpy as np\n",
    "from matplotlib import pyplot as plt "
   ]
  },
  {
   "cell_type": "code",
   "execution_count": 66,
   "id": "482c263b-b490-4839-a599-ea53563c3cea",
   "metadata": {},
   "outputs": [
    {
     "data": {
      "text/plain": [
       "(98476, 10)"
      ]
     },
     "execution_count": 66,
     "metadata": {},
     "output_type": "execute_result"
    }
   ],
   "source": [
    "same_sex_marriage.shape"
   ]
  },
  {
   "cell_type": "code",
   "execution_count": 67,
   "id": "0d8d98ff-57a7-4778-9108-798dc2599264",
   "metadata": {},
   "outputs": [],
   "source": [
    "KEY_WORDS = \"gay marriage|gay marriages|gay-marriages|same-sex marriage|\\\n",
    "    marriage for all|marriage equality|\\\n",
    "    homosexual marriage|same-gender marriage|marriage of homosexuals|same-sex marriages|lesbian marriage|\\\n",
    "    legalization of same-sex marriage|marriage equality for same-sex couples|same-sex unions\""
   ]
  },
  {
   "cell_type": "code",
   "execution_count": 68,
   "id": "85169950-266f-4e2d-b028-a9cca21ce7b7",
   "metadata": {},
   "outputs": [],
   "source": [
    "contains_key_words = same_sex_marriage[\"Quote\"].str.contains(KEY_WORDS) # find index containing keywords\n",
    "same_sex_marriage2 = same_sex_marriage.iloc[np.where(contains_key_words)].reset_index()"
   ]
  },
  {
   "cell_type": "code",
   "execution_count": 69,
   "id": "1c532916-cf5e-4882-a3bf-7c4924b408d6",
   "metadata": {},
   "outputs": [
    {
     "data": {
      "text/html": [
       "<div>\n",
       "<style scoped>\n",
       "    .dataframe tbody tr th:only-of-type {\n",
       "        vertical-align: middle;\n",
       "    }\n",
       "\n",
       "    .dataframe tbody tr th {\n",
       "        vertical-align: top;\n",
       "    }\n",
       "\n",
       "    .dataframe thead th {\n",
       "        text-align: right;\n",
       "    }\n",
       "</style>\n",
       "<table border=\"1\" class=\"dataframe\">\n",
       "  <thead>\n",
       "    <tr style=\"text-align: right;\">\n",
       "      <th></th>\n",
       "      <th>level_0</th>\n",
       "      <th>index</th>\n",
       "      <th>date_of_birth</th>\n",
       "      <th>nationality</th>\n",
       "      <th>gender</th>\n",
       "      <th>occupation</th>\n",
       "      <th>Speaker</th>\n",
       "      <th>Quote</th>\n",
       "      <th>numOccurrences</th>\n",
       "      <th>quote_year</th>\n",
       "      <th>quote_month</th>\n",
       "    </tr>\n",
       "  </thead>\n",
       "  <tbody>\n",
       "    <tr>\n",
       "      <th>0</th>\n",
       "      <td>88</td>\n",
       "      <td>88</td>\n",
       "      <td>1971</td>\n",
       "      <td>[United States of America]</td>\n",
       "      <td>[female]</td>\n",
       "      <td>[LGBTIQ+ rights activist]</td>\n",
       "      <td>sarah kate ellis</td>\n",
       "      <td>With this decision, loving and committed same-...</td>\n",
       "      <td>1</td>\n",
       "      <td>2015</td>\n",
       "      <td>6</td>\n",
       "    </tr>\n",
       "    <tr>\n",
       "      <th>1</th>\n",
       "      <td>95</td>\n",
       "      <td>95</td>\n",
       "      <td>1971</td>\n",
       "      <td>[United States of America]</td>\n",
       "      <td>[female]</td>\n",
       "      <td>[LGBTIQ+ rights activist]</td>\n",
       "      <td>sarah kate ellis</td>\n",
       "      <td>It's marriage equality, and it's a benchmark. ...</td>\n",
       "      <td>1</td>\n",
       "      <td>2015</td>\n",
       "      <td>6</td>\n",
       "    </tr>\n",
       "    <tr>\n",
       "      <th>2</th>\n",
       "      <td>101</td>\n",
       "      <td>101</td>\n",
       "      <td>1971</td>\n",
       "      <td>[United States of America]</td>\n",
       "      <td>[female]</td>\n",
       "      <td>[LGBTIQ+ rights activist]</td>\n",
       "      <td>sarah kate ellis</td>\n",
       "      <td>I think where we start to get into a slippery ...</td>\n",
       "      <td>1</td>\n",
       "      <td>2015</td>\n",
       "      <td>6</td>\n",
       "    </tr>\n",
       "    <tr>\n",
       "      <th>3</th>\n",
       "      <td>110</td>\n",
       "      <td>110</td>\n",
       "      <td>1971</td>\n",
       "      <td>[United States of America]</td>\n",
       "      <td>[female]</td>\n",
       "      <td>[LGBTIQ+ rights activist]</td>\n",
       "      <td>sarah kate ellis</td>\n",
       "      <td>But marriage equality is a benchmark, it is no...</td>\n",
       "      <td>1</td>\n",
       "      <td>2015</td>\n",
       "      <td>12</td>\n",
       "    </tr>\n",
       "    <tr>\n",
       "      <th>4</th>\n",
       "      <td>144</td>\n",
       "      <td>144</td>\n",
       "      <td>1971</td>\n",
       "      <td>[United States of America]</td>\n",
       "      <td>[female]</td>\n",
       "      <td>[LGBTIQ+ rights activist]</td>\n",
       "      <td>sarah kate ellis</td>\n",
       "      <td>2015 was a monumental year for the LGBT commun...</td>\n",
       "      <td>1</td>\n",
       "      <td>2016</td>\n",
       "      <td>2</td>\n",
       "    </tr>\n",
       "  </tbody>\n",
       "</table>\n",
       "</div>"
      ],
      "text/plain": [
       "   level_0  index date_of_birth                 nationality    gender  \\\n",
       "0       88     88          1971  [United States of America]  [female]   \n",
       "1       95     95          1971  [United States of America]  [female]   \n",
       "2      101    101          1971  [United States of America]  [female]   \n",
       "3      110    110          1971  [United States of America]  [female]   \n",
       "4      144    144          1971  [United States of America]  [female]   \n",
       "\n",
       "                  occupation           Speaker  \\\n",
       "0  [LGBTIQ+ rights activist]  sarah kate ellis   \n",
       "1  [LGBTIQ+ rights activist]  sarah kate ellis   \n",
       "2  [LGBTIQ+ rights activist]  sarah kate ellis   \n",
       "3  [LGBTIQ+ rights activist]  sarah kate ellis   \n",
       "4  [LGBTIQ+ rights activist]  sarah kate ellis   \n",
       "\n",
       "                                               Quote  numOccurrences  \\\n",
       "0  With this decision, loving and committed same-...               1   \n",
       "1  It's marriage equality, and it's a benchmark. ...               1   \n",
       "2  I think where we start to get into a slippery ...               1   \n",
       "3  But marriage equality is a benchmark, it is no...               1   \n",
       "4  2015 was a monumental year for the LGBT commun...               1   \n",
       "\n",
       "   quote_year  quote_month  \n",
       "0        2015            6  \n",
       "1        2015            6  \n",
       "2        2015            6  \n",
       "3        2015           12  \n",
       "4        2016            2  "
      ]
     },
     "execution_count": 69,
     "metadata": {},
     "output_type": "execute_result"
    }
   ],
   "source": [
    "same_sex_marriage2.head(5)"
   ]
  },
  {
   "cell_type": "code",
   "execution_count": 70,
   "id": "a5bd2aaf-929c-47a2-97c7-b0bf669377ad",
   "metadata": {},
   "outputs": [],
   "source": [
    "from nltk.sentiment import SentimentIntensityAnalyzer\n",
    "\n",
    "def get_sentiment_intensity(tweet_text):\n",
    "    '''\n",
    "    This method returns the sentiment intensity\n",
    "    within a certain Tweet's text (from -1.0 to 1.0).\n",
    "    '''\n",
    "    sentiment_analyser = SentimentIntensityAnalyzer()\n",
    "    polarity_scores = sentiment_analyser.polarity_scores(tweet_text)\n",
    "    return polarity_scores['compound']\n",
    "\n",
    "same_sex_marriage2['Sentiment'] = same_sex_marriage2['Quote'].apply(lambda x: get_sentiment_intensity(x))\n"
   ]
  },
  {
   "cell_type": "code",
   "execution_count": 71,
   "id": "9807ef30-9bae-4919-b4de-0216b86c2280",
   "metadata": {},
   "outputs": [],
   "source": [
    "def get_sentiment_label(num):\n",
    "    '''\n",
    "    This method returns the sentiment label\n",
    "    given its sentiment intensity.\n",
    "    '''\n",
    "    if num>0 : return \"Positive\"\n",
    "    elif num < 0: return \"Negative\"\n",
    "    else : return \"Neutral\"\n",
    "    "
   ]
  },
  {
   "cell_type": "code",
   "execution_count": 72,
   "id": "d3cb850c-38b9-47ea-a77e-fe31dbb43638",
   "metadata": {},
   "outputs": [],
   "source": [
    "same_sex_marriage2['Sentiment Label'] = same_sex_marriage2['Sentiment'].apply(lambda x: get_sentiment_label(x))"
   ]
  },
  {
   "cell_type": "code",
   "execution_count": 73,
   "id": "f05fcb9a-8151-4fe9-80c2-beb7023c1739",
   "metadata": {},
   "outputs": [],
   "source": [
    "same_sex_marriage2.drop(columns = ['level_0','index', 'numOccurrences'], inplace = True)"
   ]
  },
  {
   "cell_type": "code",
   "execution_count": 74,
   "id": "1e216d1e-466c-4a1d-a37c-ac3dac329964",
   "metadata": {},
   "outputs": [
    {
     "name": "stderr",
     "output_type": "stream",
     "text": [
      "<ipython-input-74-671f315a0a7a>:2: SettingWithCopyWarning: \n",
      "A value is trying to be set on a copy of a slice from a DataFrame.\n",
      "Try using .loc[row_indexer,col_indexer] = value instead\n",
      "\n",
      "See the caveats in the documentation: https://pandas.pydata.org/pandas-docs/stable/user_guide/indexing.html#returning-a-view-versus-a-copy\n",
      "  df_time['quote_day'] = np.ones(len(df_time), dtype = int)\n"
     ]
    },
    {
     "data": {
      "text/html": [
       "<div>\n",
       "<style scoped>\n",
       "    .dataframe tbody tr th:only-of-type {\n",
       "        vertical-align: middle;\n",
       "    }\n",
       "\n",
       "    .dataframe tbody tr th {\n",
       "        vertical-align: top;\n",
       "    }\n",
       "\n",
       "    .dataframe thead th {\n",
       "        text-align: right;\n",
       "    }\n",
       "</style>\n",
       "<table border=\"1\" class=\"dataframe\">\n",
       "  <thead>\n",
       "    <tr style=\"text-align: right;\">\n",
       "      <th></th>\n",
       "      <th>date_of_birth</th>\n",
       "      <th>nationality</th>\n",
       "      <th>gender</th>\n",
       "      <th>occupation</th>\n",
       "      <th>Speaker</th>\n",
       "      <th>Quote</th>\n",
       "      <th>quote_year</th>\n",
       "      <th>quote_month</th>\n",
       "      <th>Sentiment</th>\n",
       "      <th>Sentiment Label</th>\n",
       "    </tr>\n",
       "    <tr>\n",
       "      <th>Date</th>\n",
       "      <th></th>\n",
       "      <th></th>\n",
       "      <th></th>\n",
       "      <th></th>\n",
       "      <th></th>\n",
       "      <th></th>\n",
       "      <th></th>\n",
       "      <th></th>\n",
       "      <th></th>\n",
       "      <th></th>\n",
       "    </tr>\n",
       "  </thead>\n",
       "  <tbody>\n",
       "    <tr>\n",
       "      <th>2015-06-01</th>\n",
       "      <td>1971</td>\n",
       "      <td>United States of America</td>\n",
       "      <td>female</td>\n",
       "      <td>[LGBTIQ+ rights activist]</td>\n",
       "      <td>sarah kate ellis</td>\n",
       "      <td>With this decision, loving and committed same-...</td>\n",
       "      <td>2015</td>\n",
       "      <td>6</td>\n",
       "      <td>0.9354</td>\n",
       "      <td>Positive</td>\n",
       "    </tr>\n",
       "    <tr>\n",
       "      <th>2015-06-01</th>\n",
       "      <td>1971</td>\n",
       "      <td>United States of America</td>\n",
       "      <td>female</td>\n",
       "      <td>[LGBTIQ+ rights activist]</td>\n",
       "      <td>sarah kate ellis</td>\n",
       "      <td>It's marriage equality, and it's a benchmark. ...</td>\n",
       "      <td>2015</td>\n",
       "      <td>6</td>\n",
       "      <td>-0.1515</td>\n",
       "      <td>Negative</td>\n",
       "    </tr>\n",
       "    <tr>\n",
       "      <th>2015-06-01</th>\n",
       "      <td>1971</td>\n",
       "      <td>United States of America</td>\n",
       "      <td>female</td>\n",
       "      <td>[LGBTIQ+ rights activist]</td>\n",
       "      <td>sarah kate ellis</td>\n",
       "      <td>I think where we start to get into a slippery ...</td>\n",
       "      <td>2015</td>\n",
       "      <td>6</td>\n",
       "      <td>0.9575</td>\n",
       "      <td>Positive</td>\n",
       "    </tr>\n",
       "    <tr>\n",
       "      <th>2015-12-01</th>\n",
       "      <td>1971</td>\n",
       "      <td>United States of America</td>\n",
       "      <td>female</td>\n",
       "      <td>[LGBTIQ+ rights activist]</td>\n",
       "      <td>sarah kate ellis</td>\n",
       "      <td>But marriage equality is a benchmark, it is no...</td>\n",
       "      <td>2015</td>\n",
       "      <td>12</td>\n",
       "      <td>0.0000</td>\n",
       "      <td>Neutral</td>\n",
       "    </tr>\n",
       "    <tr>\n",
       "      <th>2016-02-01</th>\n",
       "      <td>1971</td>\n",
       "      <td>United States of America</td>\n",
       "      <td>female</td>\n",
       "      <td>[LGBTIQ+ rights activist]</td>\n",
       "      <td>sarah kate ellis</td>\n",
       "      <td>2015 was a monumental year for the LGBT commun...</td>\n",
       "      <td>2016</td>\n",
       "      <td>2</td>\n",
       "      <td>0.8402</td>\n",
       "      <td>Positive</td>\n",
       "    </tr>\n",
       "  </tbody>\n",
       "</table>\n",
       "</div>"
      ],
      "text/plain": [
       "           date_of_birth               nationality  gender  \\\n",
       "Date                                                         \n",
       "2015-06-01          1971  United States of America  female   \n",
       "2015-06-01          1971  United States of America  female   \n",
       "2015-06-01          1971  United States of America  female   \n",
       "2015-12-01          1971  United States of America  female   \n",
       "2016-02-01          1971  United States of America  female   \n",
       "\n",
       "                           occupation           Speaker  \\\n",
       "Date                                                      \n",
       "2015-06-01  [LGBTIQ+ rights activist]  sarah kate ellis   \n",
       "2015-06-01  [LGBTIQ+ rights activist]  sarah kate ellis   \n",
       "2015-06-01  [LGBTIQ+ rights activist]  sarah kate ellis   \n",
       "2015-12-01  [LGBTIQ+ rights activist]  sarah kate ellis   \n",
       "2016-02-01  [LGBTIQ+ rights activist]  sarah kate ellis   \n",
       "\n",
       "                                                        Quote  quote_year  \\\n",
       "Date                                                                        \n",
       "2015-06-01  With this decision, loving and committed same-...        2015   \n",
       "2015-06-01  It's marriage equality, and it's a benchmark. ...        2015   \n",
       "2015-06-01  I think where we start to get into a slippery ...        2015   \n",
       "2015-12-01  But marriage equality is a benchmark, it is no...        2015   \n",
       "2016-02-01  2015 was a monumental year for the LGBT commun...        2016   \n",
       "\n",
       "            quote_month  Sentiment Sentiment Label  \n",
       "Date                                                \n",
       "2015-06-01            6     0.9354        Positive  \n",
       "2015-06-01            6    -0.1515        Negative  \n",
       "2015-06-01            6     0.9575        Positive  \n",
       "2015-12-01           12     0.0000         Neutral  \n",
       "2016-02-01            2     0.8402        Positive  "
      ]
     },
     "execution_count": 74,
     "metadata": {},
     "output_type": "execute_result"
    }
   ],
   "source": [
    "df_time = same_sex_marriage2[['quote_year','quote_month']]\n",
    "df_time['quote_day'] = np.ones(len(df_time), dtype = int)\n",
    "df_time.columns = ['year', 'month', 'day']\n",
    "df_time = pd.to_datetime(df_time)\n",
    "same_sex_marriage2[\"Date\"] = df_time\n",
    "same_sex_marriage2.set_index('Date', inplace=True)\n",
    "same_sex_marriage2.gender = [elem[0] for elem in same_sex_marriage2.gender]\n",
    "same_sex_marriage2.nationality = [elem[0] for elem in same_sex_marriage2.nationality]\n",
    "same_sex_marriage2.head(5)\n"
   ]
  },
  {
   "cell_type": "code",
   "execution_count": 75,
   "id": "aff616cf-9e64-4e11-a2c7-de63decd1e60",
   "metadata": {},
   "outputs": [],
   "source": [
    "same_sex_marriage2.to_pickle(\"same-sex-marriage-focus.pkl\")"
   ]
  },
  {
   "cell_type": "code",
   "execution_count": 38,
   "id": "6119a4a5-add8-444b-9351-87c57c15633c",
   "metadata": {},
   "outputs": [
    {
     "data": {
      "image/png": "[encoded data removed]",
      "text/plain": [
       "<Figure size 576x432 with 1 Axes>"
      ]
     },
     "metadata": {
      "needs_background": "light"
     },
     "output_type": "display_data"
    }
   ],
   "source": [
    "fig, ax = plt.subplots(figsize=(8, 6))\n",
    "\n",
    "# Plot histogram of the polarity values\n",
    "same_sex_marriage2[\"Sentiment\"].hist(bins=30,\n",
    "             ax=ax,\n",
    "             color=\"purple\")\n",
    "\n",
    "plt.title(\"Sentiments from Quotes on Gender norms\")\n",
    "plt.show()"
   ]
  },
  {
   "cell_type": "code",
   "execution_count": 39,
   "id": "273a10f3-af6a-4e23-a4f3-a0d9ad5f0223",
   "metadata": {},
   "outputs": [
    {
     "data": {
      "image/png": "[encoded data removed]",
      "text/plain": [
       "<Figure size 576x432 with 1 Axes>"
      ]
     },
     "metadata": {
      "needs_background": "light"
     },
     "output_type": "display_data"
    }
   ],
   "source": [
    "fig, ax = plt.subplots(figsize=(8, 6))\n",
    "\n",
    "# Plot histogram of the polarity values\n",
    "same_sex_marriage2[\"Sentiment Label\"].value_counts().plot(kind ='bar',\n",
    "             ax=ax,\n",
    "             color=\"blue\", )\n",
    "\n",
    "plt.title(\"Sentiment Labels from Quotes on Gender norms\")\n",
    "plt.show()"
   ]
  },
  {
   "cell_type": "markdown",
   "id": "f0f9e1f7-3659-4a5a-a22f-1929f128c80c",
   "metadata": {},
   "source": [
    "### Time Series Analysis"
   ]
  },
  {
   "cell_type": "code",
   "execution_count": 40,
   "id": "69c10247-6e0c-4eb2-b358-740f36c68619",
   "metadata": {},
   "outputs": [],
   "source": [
    "df_time = same_sex_marriage2[['quote_year','quote_month']]"
   ]
  },
  {
   "cell_type": "code",
   "execution_count": 41,
   "id": "e95231e1-ba40-4a08-a9e4-3439a70ab81f",
   "metadata": {},
   "outputs": [
    {
     "name": "stderr",
     "output_type": "stream",
     "text": [
      "<ipython-input-41-5c6cb609914e>:1: SettingWithCopyWarning: \n",
      "A value is trying to be set on a copy of a slice from a DataFrame.\n",
      "Try using .loc[row_indexer,col_indexer] = value instead\n",
      "\n",
      "See the caveats in the documentation: https://pandas.pydata.org/pandas-docs/stable/user_guide/indexing.html#returning-a-view-versus-a-copy\n",
      "  df_time['quote_day'] = np.ones(len(df_time), dtype = int)\n"
     ]
    }
   ],
   "source": [
    "df_time['quote_day'] = np.ones(len(df_time), dtype = int)\n",
    "df_time.columns = ['year', 'month', 'day']"
   ]
  },
  {
   "cell_type": "code",
   "execution_count": 42,
   "id": "42e9a911-e201-4d09-b383-ca5133cae149",
   "metadata": {},
   "outputs": [],
   "source": [
    "df_time = pd.to_datetime(df_time)\n",
    "same_sex_marriage2[\"Date\"] = df_time\n",
    "new_df_time = same_sex_marriage2.set_index('Date')"
   ]
  },
  {
   "cell_type": "code",
   "execution_count": 43,
   "id": "1106a40f-306c-43c2-bb6b-c507ae8cc33f",
   "metadata": {},
   "outputs": [
    {
     "data": {
      "text/html": [
       "<div>\n",
       "<style scoped>\n",
       "    .dataframe tbody tr th:only-of-type {\n",
       "        vertical-align: middle;\n",
       "    }\n",
       "\n",
       "    .dataframe tbody tr th {\n",
       "        vertical-align: top;\n",
       "    }\n",
       "\n",
       "    .dataframe thead th {\n",
       "        text-align: right;\n",
       "    }\n",
       "</style>\n",
       "<table border=\"1\" class=\"dataframe\">\n",
       "  <thead>\n",
       "    <tr style=\"text-align: right;\">\n",
       "      <th></th>\n",
       "      <th>level_0</th>\n",
       "      <th>index</th>\n",
       "      <th>numOccurrences</th>\n",
       "      <th>quote_year</th>\n",
       "      <th>quote_month</th>\n",
       "      <th>Sentiment</th>\n",
       "    </tr>\n",
       "    <tr>\n",
       "      <th>Date</th>\n",
       "      <th></th>\n",
       "      <th></th>\n",
       "      <th></th>\n",
       "      <th></th>\n",
       "      <th></th>\n",
       "      <th></th>\n",
       "    </tr>\n",
       "  </thead>\n",
       "  <tbody>\n",
       "    <tr>\n",
       "      <th>2015-01-01</th>\n",
       "      <td>48040.195980</td>\n",
       "      <td>56515.798995</td>\n",
       "      <td>3.844221</td>\n",
       "      <td>2015.0</td>\n",
       "      <td>1.0</td>\n",
       "      <td>0.164016</td>\n",
       "    </tr>\n",
       "    <tr>\n",
       "      <th>2015-02-01</th>\n",
       "      <td>47323.308081</td>\n",
       "      <td>55915.919192</td>\n",
       "      <td>3.227273</td>\n",
       "      <td>2015.0</td>\n",
       "      <td>2.0</td>\n",
       "      <td>0.109166</td>\n",
       "    </tr>\n",
       "    <tr>\n",
       "      <th>2015-03-01</th>\n",
       "      <td>50240.823810</td>\n",
       "      <td>59394.261905</td>\n",
       "      <td>2.004762</td>\n",
       "      <td>2015.0</td>\n",
       "      <td>3.0</td>\n",
       "      <td>0.297898</td>\n",
       "    </tr>\n",
       "    <tr>\n",
       "      <th>2015-04-01</th>\n",
       "      <td>44359.350427</td>\n",
       "      <td>52149.222222</td>\n",
       "      <td>3.735043</td>\n",
       "      <td>2015.0</td>\n",
       "      <td>4.0</td>\n",
       "      <td>0.191426</td>\n",
       "    </tr>\n",
       "    <tr>\n",
       "      <th>2015-05-01</th>\n",
       "      <td>39746.562249</td>\n",
       "      <td>46751.188755</td>\n",
       "      <td>2.337349</td>\n",
       "      <td>2015.0</td>\n",
       "      <td>5.0</td>\n",
       "      <td>0.246323</td>\n",
       "    </tr>\n",
       "    <tr>\n",
       "      <th>...</th>\n",
       "      <td>...</td>\n",
       "      <td>...</td>\n",
       "      <td>...</td>\n",
       "      <td>...</td>\n",
       "      <td>...</td>\n",
       "      <td>...</td>\n",
       "    </tr>\n",
       "    <tr>\n",
       "      <th>2019-12-01</th>\n",
       "      <td>67137.064516</td>\n",
       "      <td>80038.516129</td>\n",
       "      <td>6.322581</td>\n",
       "      <td>2019.0</td>\n",
       "      <td>12.0</td>\n",
       "      <td>0.164610</td>\n",
       "    </tr>\n",
       "    <tr>\n",
       "      <th>2020-01-01</th>\n",
       "      <td>41782.285714</td>\n",
       "      <td>49028.122449</td>\n",
       "      <td>4.510204</td>\n",
       "      <td>2020.0</td>\n",
       "      <td>1.0</td>\n",
       "      <td>0.172755</td>\n",
       "    </tr>\n",
       "    <tr>\n",
       "      <th>2020-02-01</th>\n",
       "      <td>38726.395833</td>\n",
       "      <td>45395.541667</td>\n",
       "      <td>2.083333</td>\n",
       "      <td>2020.0</td>\n",
       "      <td>2.0</td>\n",
       "      <td>0.156217</td>\n",
       "    </tr>\n",
       "    <tr>\n",
       "      <th>2020-03-01</th>\n",
       "      <td>51010.730769</td>\n",
       "      <td>60578.653846</td>\n",
       "      <td>1.730769</td>\n",
       "      <td>2020.0</td>\n",
       "      <td>3.0</td>\n",
       "      <td>0.198858</td>\n",
       "    </tr>\n",
       "    <tr>\n",
       "      <th>2020-04-01</th>\n",
       "      <td>50077.750000</td>\n",
       "      <td>59365.375000</td>\n",
       "      <td>3.000000</td>\n",
       "      <td>2020.0</td>\n",
       "      <td>4.0</td>\n",
       "      <td>0.460275</td>\n",
       "    </tr>\n",
       "  </tbody>\n",
       "</table>\n",
       "<p>64 rows × 6 columns</p>\n",
       "</div>"
      ],
      "text/plain": [
       "                 level_0         index  numOccurrences  quote_year  \\\n",
       "Date                                                                 \n",
       "2015-01-01  48040.195980  56515.798995        3.844221      2015.0   \n",
       "2015-02-01  47323.308081  55915.919192        3.227273      2015.0   \n",
       "2015-03-01  50240.823810  59394.261905        2.004762      2015.0   \n",
       "2015-04-01  44359.350427  52149.222222        3.735043      2015.0   \n",
       "2015-05-01  39746.562249  46751.188755        2.337349      2015.0   \n",
       "...                  ...           ...             ...         ...   \n",
       "2019-12-01  67137.064516  80038.516129        6.322581      2019.0   \n",
       "2020-01-01  41782.285714  49028.122449        4.510204      2020.0   \n",
       "2020-02-01  38726.395833  45395.541667        2.083333      2020.0   \n",
       "2020-03-01  51010.730769  60578.653846        1.730769      2020.0   \n",
       "2020-04-01  50077.750000  59365.375000        3.000000      2020.0   \n",
       "\n",
       "            quote_month  Sentiment  \n",
       "Date                                \n",
       "2015-01-01          1.0   0.164016  \n",
       "2015-02-01          2.0   0.109166  \n",
       "2015-03-01          3.0   0.297898  \n",
       "2015-04-01          4.0   0.191426  \n",
       "2015-05-01          5.0   0.246323  \n",
       "...                 ...        ...  \n",
       "2019-12-01         12.0   0.164610  \n",
       "2020-01-01          1.0   0.172755  \n",
       "2020-02-01          2.0   0.156217  \n",
       "2020-03-01          3.0   0.198858  \n",
       "2020-04-01          4.0   0.460275  \n",
       "\n",
       "[64 rows x 6 columns]"
      ]
     },
     "execution_count": 43,
     "metadata": {},
     "output_type": "execute_result"
    }
   ],
   "source": [
    "new_df_time.groupby('Date').mean()"
   ]
  },
  {
   "cell_type": "code",
   "execution_count": 44,
   "id": "79c5b311-4f0c-407b-a998-3ac2795f1402",
   "metadata": {},
   "outputs": [
    {
     "data": {
      "text/plain": [
       "<AxesSubplot:xlabel='Date'>"
      ]
     },
     "execution_count": 44,
     "metadata": {},
     "output_type": "execute_result"
    },
    {
     "data": {
      "image/png": "[encoded data removed]",
      "text/plain": [
       "<Figure size 432x288 with 1 Axes>"
      ]
     },
     "metadata": {
      "needs_background": "light"
     },
     "output_type": "display_data"
    }
   ],
   "source": [
    "new_df_time.groupby('Date').mean()[\"Sentiment\"].plot()"
   ]
  },
  {
   "cell_type": "markdown",
   "id": "cc640821-fee8-4a75-85f0-004a108bfdfc",
   "metadata": {},
   "source": [
    "# Sentiment analysis on feminism"
   ]
  },
  {
   "cell_type": "code",
   "execution_count": null,
   "id": "aea54a93-8591-4009-91f4-736575ea038e",
   "metadata": {},
   "outputs": [],
   "source": [
    "filtered_json = pd.read_json(\"\")"
   ]
  }
 ],
 "metadata": {
  "kernelspec": {
   "display_name": "Python 3",
   "language": "python",
   "name": "python3"
  },
  "language_info": {
   "codemirror_mode": {
    "name": "ipython",
    "version": 3
   },
   "file_extension": ".py",
   "mimetype": "text/x-python",
   "name": "python",
   "nbconvert_exporter": "python",
   "pygments_lexer": "ipython3",
   "version": "3.8.8"
  }
 },
 "nbformat": 4,
 "nbformat_minor": 5
}
