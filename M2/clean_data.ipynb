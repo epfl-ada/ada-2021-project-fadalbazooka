{
 "cells": [
  {
   "cell_type": "code",
   "execution_count": 113,
   "metadata": {
    "collapsed": true,
    "jupyter": {
     "outputs_hidden": true
    }
   },
   "outputs": [],
   "source": [
    "# import libraries\n",
    "import numpy as np\n",
    "import pandas as pd\n",
    "import re\n",
    "from tqdm import tqdm"
   ]
  },
  {
   "cell_type": "code",
   "execution_count": 125,
   "metadata": {
    "collapsed": false,
    "jupyter": {
     "outputs_hidden": false
    },
    "pycharm": {
     "name": "#%%\n"
    }
   },
   "outputs": [],
   "source": [
    "data = pd.read_json(\"./result_data.json\") # load data"
   ]
  },
  {
   "cell_type": "markdown",
   "metadata": {
    "pycharm": {
     "name": "#%% md\n"
    }
   },
   "source": [
    "# Remove non-english quotes\n",
    "We manually checked quotes of the speakers with a lot of (more than 100) quotes  and found non-english speakers."
   ]
  },
  {
   "cell_type": "code",
   "execution_count": 119,
   "metadata": {
    "collapsed": false,
    "jupyter": {
     "outputs_hidden": false
    },
    "pycharm": {
     "name": "#%%\n"
    }
   },
   "outputs": [],
   "source": [
    "non_english = ['rodrigo duterte', 'grace poe', 'leni robredo', 'harry roque',\n",
    "       'salvador panelo', 'oscar albayalde', 'narendra modi',\n",
    "       'pantaleon alvarez', 'antonio trillanes iv', 'manny pacquiao',\n",
    "       'leila de lima', 'rahul gandhi', 'risa hontiveros', 'eduardo año',\n",
    "       'benigno aquino iii', 'salman khan', 'panfilo lacson', 'jejomar binay',\n",
    "       'alan peter cayetano', 'mar roxas', 'amit shah', 'martin andanar', 'yeng guiao',\n",
    "     'vice ganda', 'bam aquino', 'francisco duque',\n",
    "     'delfin lorenzana','franklin drilon', 'sherwin gatchalian',\n",
    "     'leo austria', 'nancy binay','ralph recto','sara duterte-carpio','arwind santos',\n",
    "     'francis pangilinan','marc pingris','francis escudero','francis tolentino',\n",
    "     'la tenorio','aldin ayo','silvestre bello iii','alyssa valdez',\n",
    "     'gerald anderson', 'pia wurtzbach','sarah geronimo','maine mendoza',\n",
    "     'sharon cuneta ','marian rivera','maria lourdes sereno','joel villanueva',\n",
    "     'vitaliano aguirre ii','calvin abueva','dingdong dantes', 'kathryn bernardo', 'hidilyn diaz',\n",
    "     'maja salvador','vico sotto', 'willie marcial', 'antonio tinio',\n",
    "     'cynthia villar', 'lito atienza', 'mark villar', 'bea alonzo', 'jeff napa',\n",
    "     'kim chiu ', 'alden richards', 'angelica panganiban', 'gwendolyn garcia', 'boy abunda ',\n",
    "     'louie alas ', 'coco martin', 'mark barroca', 'mitt romney', 'scottie thompson',\n",
    "     'james yap', 'diarmuid martin', 'daniel padilla', 'bo perasol', 'abigail valte',\n",
    "     'bongbong marcos', 'carlos isagani zarate', 'tito sotto', 'jerwin ancajas', 'oscar moreno',\n",
    "     'juan miguel zubiri', 'judy taguiwalo', 'florin hilbay', 'joseph estrada',\n",
    "     'regine velasquez', 'renato reyes', 'lea salonga', 'leonor briones', 'benjamin diokno',\n",
    "     'beau belga', 'julia montes', 'lolit solis', 'edwin lacierda', 'julia barretto',\n",
    "     'pido jarencio', 'francis zamora', 'mac belo', 'kai sotto', 'alex gonzaga', 'dennis trillo', 'getulio napeñas',\n",
    "     'maymay entrata', 'jinggoy estrada', 'barry gutierrez', 'tony gonzaga', 'bernadeth pons',\n",
    "     'john lloyd cruz', 'carlos conde', 'aby maraño', 'ramon s. ang', 'joey salceda',\n",
    "     'juan ponce enrile','heart evangelista', 'jake cuenca', 'antoinette jadaone', 'myla pablo']"
   ]
  },
  {
   "cell_type": "markdown",
   "metadata": {
    "pycharm": {
     "name": "#%% md\n"
    }
   },
   "source": [
    "Some non-english quotes include \"gay\" with different suffixes. We found these suffixes and filtered them."
   ]
  },
  {
   "cell_type": "code",
   "execution_count": 126,
   "metadata": {
    "collapsed": false,
    "jupyter": {
     "outputs_hidden": false
    },
    "pycharm": {
     "name": "#%%\n"
    }
   },
   "outputs": [
    {
     "name": "stdout",
     "output_type": "stream",
     "text": [
      "Before removing words: 209000\n",
      "After removing words: 202176\n"
     ]
    }
   ],
   "source": [
    "# Remove non-english words\n",
    "print(\"Before removing words:\", len(data))\n",
    "dropped_idx = []\n",
    "for idx, quote in enumerate(data.Quote):\n",
    "    for elem in [\"gayi\", \"gaye\", \"gaya\", \"gayu\"]:\n",
    "        if elem in quote:\n",
    "            dropped_idx.append(idx)\n",
    "data.drop(dropped_idx, axis=0, inplace=True)\n",
    "print(\"After removing words:\", len(data))"
   ]
  },
  {
   "cell_type": "code",
   "execution_count": 127,
   "metadata": {
    "collapsed": false,
    "jupyter": {
     "outputs_hidden": false
    },
    "pycharm": {
     "name": "#%%\n"
    }
   },
   "outputs": [
    {
     "name": "stdout",
     "output_type": "stream",
     "text": [
      "After removing non-english speakers 191642\n"
     ]
    }
   ],
   "source": [
    "# Remove non-english speakers\n",
    "data = data[~data.Speaker.isin(non_english)]\n",
    "print(\"After removing non-english speakers\", len(data))"
   ]
  },
  {
   "cell_type": "markdown",
   "metadata": {
    "pycharm": {
     "name": "#%% md\n"
    }
   },
   "source": [
    "# Remove similar quotes\n",
    "The dataset contains similar quotes as shown in Milestone 2. We found quotes with similar prefixes and kept the longest ones from them."
   ]
  },
  {
   "cell_type": "code",
   "execution_count": 128,
   "metadata": {
    "collapsed": false,
    "jupyter": {
     "outputs_hidden": false
    },
    "pycharm": {
     "name": "#%%\n"
    }
   },
   "outputs": [
    {
     "name": "stderr",
     "output_type": "stream",
     "text": [
      "100%|██████████| 19826/19826 [15:18<00:00, 21.58it/s] \n"
     ]
    }
   ],
   "source": [
    "speakers_count = data.Speaker.value_counts()\n",
    "speakers = speakers_count[speakers_count > 1].keys()  # speakers with more than 1 quote (=> there can be repeated)\n",
    "clean_df = []  # accumulate dataframes without similar quotes for different speakers\n",
    "for current_speaker in tqdm(speakers):\n",
    "    quotes = sorted(data.Quote[data.Speaker == current_speaker], key=lambda x: (x, len(x)))  # sort alphabetically and by length\n",
    "    # normalize quotes by case, symbols and space quantity; keep the longest\n",
    "    starts = pd.Series([re.sub(\"\\s\\s+\" , \" \", re.sub(r'[^\\w]', \" \" , text[:30].lower())) for text in quotes]).duplicated(keep=\"last\")\n",
    "    new_quotes = pd.Series(quotes, name=\"Quote\").drop(np.where(starts.values)[0])  # filtering\n",
    "    clean_df.append(data[data.Speaker == current_speaker].merge(new_quotes, on=\"Quote\").dropna())  # get all columns for unique quotes\n",
    "full_clean = pd.concat(clean_df)  # accumulate to 1 dataframe"
   ]
  },
  {
   "cell_type": "code",
   "execution_count": 129,
   "metadata": {
    "collapsed": false,
    "jupyter": {
     "outputs_hidden": false
    },
    "pycharm": {
     "name": "#%%\n"
    }
   },
   "outputs": [
    {
     "data": {
      "text/html": [
       "<div>\n",
       "<style scoped>\n",
       "    .dataframe tbody tr th:only-of-type {\n",
       "        vertical-align: middle;\n",
       "    }\n",
       "\n",
       "    .dataframe tbody tr th {\n",
       "        vertical-align: top;\n",
       "    }\n",
       "\n",
       "    .dataframe thead th {\n",
       "        text-align: right;\n",
       "    }\n",
       "</style>\n",
       "<table border=\"1\" class=\"dataframe\">\n",
       "  <thead>\n",
       "    <tr style=\"text-align: right;\">\n",
       "      <th></th>\n",
       "      <th>date_of_birth</th>\n",
       "      <th>nationality</th>\n",
       "      <th>gender</th>\n",
       "      <th>occupation</th>\n",
       "      <th>Speaker</th>\n",
       "      <th>Quote</th>\n",
       "      <th>numOccurrences</th>\n",
       "      <th>quote_year</th>\n",
       "      <th>quote_month</th>\n",
       "    </tr>\n",
       "  </thead>\n",
       "  <tbody>\n",
       "    <tr>\n",
       "      <th>0</th>\n",
       "      <td>1971</td>\n",
       "      <td>[United States of America]</td>\n",
       "      <td>[female]</td>\n",
       "      <td>[LGBTIQ+ rights activist]</td>\n",
       "      <td>sarah kate ellis</td>\n",
       "      <td>This loss is a wake-up call that despite remar...</td>\n",
       "      <td>2</td>\n",
       "      <td>2015</td>\n",
       "      <td>11</td>\n",
       "    </tr>\n",
       "    <tr>\n",
       "      <th>1</th>\n",
       "      <td>1971</td>\n",
       "      <td>[United States of America]</td>\n",
       "      <td>[female]</td>\n",
       "      <td>[LGBTIQ+ rights activist]</td>\n",
       "      <td>sarah kate ellis</td>\n",
       "      <td>She didn't see it, she hadn't heard of it, she...</td>\n",
       "      <td>1</td>\n",
       "      <td>2015</td>\n",
       "      <td>6</td>\n",
       "    </tr>\n",
       "    <tr>\n",
       "      <th>2</th>\n",
       "      <td>1971</td>\n",
       "      <td>[United States of America]</td>\n",
       "      <td>[female]</td>\n",
       "      <td>[LGBTIQ+ rights activist]</td>\n",
       "      <td>sarah kate ellis</td>\n",
       "      <td>As a journalist and anchor who reaches million...</td>\n",
       "      <td>1</td>\n",
       "      <td>2015</td>\n",
       "      <td>4</td>\n",
       "    </tr>\n",
       "    <tr>\n",
       "      <th>3</th>\n",
       "      <td>1971</td>\n",
       "      <td>[United States of America]</td>\n",
       "      <td>[female]</td>\n",
       "      <td>[LGBTIQ+ rights activist]</td>\n",
       "      <td>sarah kate ellis</td>\n",
       "      <td>By empowering people to talk about their gende...</td>\n",
       "      <td>6</td>\n",
       "      <td>2015</td>\n",
       "      <td>2</td>\n",
       "    </tr>\n",
       "    <tr>\n",
       "      <th>4</th>\n",
       "      <td>1971</td>\n",
       "      <td>[United States of America]</td>\n",
       "      <td>[female]</td>\n",
       "      <td>[LGBTIQ+ rights activist]</td>\n",
       "      <td>sarah kate ellis</td>\n",
       "      <td>By investing in this dangerous programming, TL...</td>\n",
       "      <td>133</td>\n",
       "      <td>2015</td>\n",
       "      <td>1</td>\n",
       "    </tr>\n",
       "  </tbody>\n",
       "</table>\n",
       "</div>"
      ],
      "text/plain": [
       "  date_of_birth                 nationality    gender  \\\n",
       "0          1971  [United States of America]  [female]   \n",
       "1          1971  [United States of America]  [female]   \n",
       "2          1971  [United States of America]  [female]   \n",
       "3          1971  [United States of America]  [female]   \n",
       "4          1971  [United States of America]  [female]   \n",
       "\n",
       "                  occupation           Speaker  \\\n",
       "0  [LGBTIQ+ rights activist]  sarah kate ellis   \n",
       "1  [LGBTIQ+ rights activist]  sarah kate ellis   \n",
       "2  [LGBTIQ+ rights activist]  sarah kate ellis   \n",
       "3  [LGBTIQ+ rights activist]  sarah kate ellis   \n",
       "4  [LGBTIQ+ rights activist]  sarah kate ellis   \n",
       "\n",
       "                                               Quote  numOccurrences  \\\n",
       "0  This loss is a wake-up call that despite remar...               2   \n",
       "1  She didn't see it, she hadn't heard of it, she...               1   \n",
       "2  As a journalist and anchor who reaches million...               1   \n",
       "3  By empowering people to talk about their gende...               6   \n",
       "4  By investing in this dangerous programming, TL...             133   \n",
       "\n",
       "   quote_year  quote_month  \n",
       "0        2015           11  \n",
       "1        2015            6  \n",
       "2        2015            4  \n",
       "3        2015            2  \n",
       "4        2015            1  "
      ]
     },
     "execution_count": 129,
     "metadata": {},
     "output_type": "execute_result"
    }
   ],
   "source": [
    "full_clean.head()  # check resulting data"
   ]
  },
  {
   "cell_type": "markdown",
   "metadata": {
    "pycharm": {
     "name": "#%% md\n"
    }
   },
   "source": [
    "# Filter non-english quotes\n",
    "When we had decreased size of a dataset, we used langdetect to find only english quotes automatically."
   ]
  },
  {
   "cell_type": "code",
   "execution_count": 132,
   "metadata": {
    "collapsed": false,
    "jupyter": {
     "outputs_hidden": false
    },
    "pycharm": {
     "name": "#%%\n"
    }
   },
   "outputs": [],
   "source": [
    "import langdetect\n",
    "\n",
    "def is_tweet_english(tweet_text):\n",
    "    \"\"\"\n",
    "    This method returns whether or not\n",
    "    a Tweet's text is in English.\n",
    "    \"\"\"\n",
    "    try:\n",
    "        return langdetect.detect(tweet_text) == 'en'\n",
    "    except:\n",
    "        return False"
   ]
  },
  {
   "cell_type": "code",
   "execution_count": 133,
   "metadata": {
    "collapsed": false,
    "jupyter": {
     "outputs_hidden": false
    },
    "pycharm": {
     "name": "#%%\n"
    }
   },
   "outputs": [
    {
     "name": "stdout",
     "output_type": "stream",
     "text": [
      "Size of clean dataset: (114746, 9)\n"
     ]
    }
   ],
   "source": [
    "full_clean.reset_index(drop=True, inplace=True)  # reset indexes\n",
    "filtered_df = full_clean[full_clean['Quote'].apply(lambda x: is_tweet_english(x))]  # apply langdetect\n",
    "print(\"Size of clean dataset:\", filtered_df.shape)  # check shape \n",
    "filtered_df.to_json(\"filtered.json\")  # save dataframe"
   ]
  },
  {
   "cell_type": "code",
   "execution_count": null,
   "metadata": {
    "collapsed": false,
    "jupyter": {
     "outputs_hidden": false
    },
    "pycharm": {
     "name": "#%%\n"
    }
   },
   "outputs": [],
   "source": []
  }
 ],
 "metadata": {
  "kernelspec": {
   "display_name": "Python 3",
   "language": "python",
   "name": "python3"
  },
  "language_info": {
   "codemirror_mode": {
    "name": "ipython",
    "version": 3
   },
   "file_extension": ".py",
   "mimetype": "text/x-python",
   "name": "python",
   "nbconvert_exporter": "python",
   "pygments_lexer": "ipython3",
   "version": "3.8.8"
  }
 },
 "nbformat": 4,
 "nbformat_minor": 4
}
