{
 "cells": [
  {
   "cell_type": "code",
   "execution_count": 82,
   "metadata": {
    "collapsed": true,
    "pycharm": {
     "name": "#%%\n"
    }
   },
   "outputs": [],
   "source": [
    "import pandas as pd\n",
    "data = pd.read_pickle(\"./added_sentiment.pkl\")\n",
    "for col in [\"nationality\", \"gender\", \"occupation\"]:\n",
    "    first = pd.Series([elem[0] if elem[0] is not None else \"F\" for elem in data[col]])  # keep 1st element\n",
    "    data[col] = first.values\n",
    "    data = data[data[col] != \"F\"]  # filter NaN (~10 raws)\n",
    "data.head()"
   ]
  },
  {
   "cell_type": "markdown",
   "source": [
    "# MODEL REGRESSION"
   ],
   "metadata": {
    "collapsed": false,
    "pycharm": {
     "name": "#%% md\n"
    }
   },
   "execution_count": 50
  },
  {
   "cell_type": "code",
   "execution_count": 59,
   "outputs": [],
   "source": [
    "from torch import nn as nn\n",
    "import torch\n",
    "import numpy as np\n",
    "\n",
    "class LinearRegressionModel(torch.nn.Module):\n",
    "\n",
    "    def __init__(self):\n",
    "        super(LinearRegressionModel, self).__init__()\n",
    "        self.linear = torch.nn.Linear(1, 1)  # One in and one out\n",
    "\n",
    "    def forward(self, x):\n",
    "        y_pred = self.linear(x)\n",
    "        return y_pred\n",
    "\n",
    "model = LinearRegressionModel()\n",
    "X_train = data.quote_year[:15000].to_numpy()\n",
    "y_train = data.Sentiment[:15000].to_numpy()\n",
    "X_train = torch.from_numpy(X_train.astype(np.float32)).view(-1,1).unsqueeze(2).unsqueeze(3)\n",
    "y_train = torch.from_numpy(y_train.astype(np.float32)).view(-1,1)\n",
    "learning_rate = 0.0005\n",
    "l = nn.MSELoss()\n",
    "optimizer = torch.optim.Adam(model.parameters(), lr =learning_rate)\n",
    "num_epochs = 40\n",
    "for epoch in range(num_epochs):\n",
    "    #forward feed\n",
    "    y_pred = model(X_train.requires_grad_())\n",
    "\n",
    "    #calculate the loss\n",
    "    loss= l(y_pred, y_train)\n",
    "\n",
    "    #backward propagation: calculate gradients\n",
    "    loss.backward()\n",
    "\n",
    "    #update the weights\n",
    "    optimizer.step()\n",
    "\n",
    "    #clear out the gradients from the last step loss.backward()\n",
    "    optimizer.zero_grad()\n",
    "\n",
    "    print('epoch {}, loss {}'.format(epoch, loss.item()))"
   ],
   "metadata": {
    "collapsed": false,
    "pycharm": {
     "name": "#%%\n"
    }
   }
  },
  {
   "cell_type": "code",
   "execution_count": 89,
   "outputs": [],
   "source": [
    "params = []\n",
    "for i in model.parameters():\n",
    "    params.append(i.item())\n"
   ],
   "metadata": {
    "collapsed": false,
    "pycharm": {
     "name": "#%%\n"
    }
   }
  },
  {
   "cell_type": "markdown",
   "source": [
    "# Interactive plots"
   ],
   "metadata": {
    "collapsed": false,
    "pycharm": {
     "name": "#%% md\n"
    }
   }
  },
  {
   "cell_type": "code",
   "execution_count": null,
   "outputs": [],
   "source": [
    "# load data\n",
    "import pandas as pd\n",
    "data = pd.read_pickle(\"./added_sentiment.pkl\")\n",
    "for col in [\"nationality\", \"gender\", \"occupation\"]:\n",
    "    first = pd.Series([elem[0] if elem[0] is not None else \"F\" for elem in data[col]])  # keep 1st element\n",
    "    data[col] = first.values\n",
    "    data = data[data[col] != \"F\"]  # filter NaN (~10 raws)\n",
    "data.head()"
   ],
   "metadata": {
    "collapsed": false,
    "pycharm": {
     "name": "#%%\n"
    }
   }
  },
  {
   "cell_type": "code",
   "execution_count": 47,
   "outputs": [
    {
     "data": {
      "text/plain": "nationality\nAfghanistan        0.077200\nAkkadian empire   -0.544550\nArgentina          0.403820\nArmenia           -0.972300\nAustralia          0.104444\nName: Sentiment, dtype: float64"
     },
     "execution_count": 47,
     "metadata": {},
     "output_type": "execute_result"
    }
   ],
   "source": [
    "countries = data.groupby([\"nationality\"]).mean()\n",
    "countries_years = [data[data[\"quote_year\"] == year].groupby([\"nationality\"]).mean()[\"Sentiment\"] for year in range(2015, 2021)]\n",
    "all_years = pd.concat(countries_years, axis=1).dropna()"
   ],
   "metadata": {
    "collapsed": false,
    "pycharm": {
     "name": "#%%\n"
    }
   }
  },
  {
   "cell_type": "code",
   "execution_count": 49,
   "outputs": [],
   "source": [
    "import geopandas\n",
    "import bokeh\n",
    "import geopandas as gpd\n",
    "world = geopandas.read_file(geopandas.datasets.get_path('naturalearth_lowres'))\n",
    "world = world[world.name.isin(all_years.index)]\n",
    "for i in range(2015, 2021):\n",
    "    data_cur = countries_years[i - 2015]\n",
    "    world[f'sentiment_{i}'] = data_cur[data_cur.index.isin(world.name.values)].values\n",
    "\n",
    "world[\"mean\"] = world.iloc[:,  6:].mean(axis=1)\n",
    "world_gpd = gpd.GeoDataFrame(world)"
   ],
   "metadata": {
    "collapsed": false,
    "pycharm": {
     "name": "#%%\n"
    }
   }
  },
  {
   "cell_type": "code",
   "execution_count": 163,
   "outputs": [
    {
     "data": {
      "text/plain": "      pop_est      continent                      name iso_a3  gdp_md_est  \\\n3    35623680  North America                    Canada    CAN   1674000.0   \n4   326625791  North America  United States of America    USA  18560000.0   \n8   260580739           Asia                 Indonesia    IDN   3028000.0   \n9    44293293  South America                 Argentina    ARG    879400.0   \n10   17789267  South America                     Chile    CHL    436100.0   \n\n                                             geometry  sentiment_2015  \\\n3   MULTIPOLYGON (((-122.84000 49.00000, -122.9742...       -0.052133   \n4   MULTIPOLYGON (((-122.84000 49.00000, -120.0000...        0.196858   \n8   MULTIPOLYGON (((141.00021 -2.60015, 141.01706 ...        0.319318   \n9   MULTIPOLYGON (((-68.63401 -52.63637, -68.25000...        0.325583   \n10  MULTIPOLYGON (((-68.63401 -52.63637, -68.63335...        0.004757   \n\n    sentiment_2016  sentiment_2017  sentiment_2018  sentiment_2019  \\\n3        -0.078586       -0.149888        0.109549        0.153865   \n4         0.154295        0.146679        0.128500        0.095186   \n8         0.060875        0.050657        0.229069        0.249250   \n9         0.150000        0.040283        0.307546        0.253975   \n10        0.149151        0.080823        0.039280        0.013578   \n\n    sentiment_2020      mean  \n3         0.403820  0.064438  \n4         0.104444  0.137660  \n8        -0.093680  0.135915  \n9         0.557400  0.272465  \n10       -0.375425 -0.014639  ",
      "text/html": "<div>\n<style scoped>\n    .dataframe tbody tr th:only-of-type {\n        vertical-align: middle;\n    }\n\n    .dataframe tbody tr th {\n        vertical-align: top;\n    }\n\n    .dataframe thead th {\n        text-align: right;\n    }\n</style>\n<table border=\"1\" class=\"dataframe\">\n  <thead>\n    <tr style=\"text-align: right;\">\n      <th></th>\n      <th>pop_est</th>\n      <th>continent</th>\n      <th>name</th>\n      <th>iso_a3</th>\n      <th>gdp_md_est</th>\n      <th>geometry</th>\n      <th>sentiment_2015</th>\n      <th>sentiment_2016</th>\n      <th>sentiment_2017</th>\n      <th>sentiment_2018</th>\n      <th>sentiment_2019</th>\n      <th>sentiment_2020</th>\n      <th>mean</th>\n    </tr>\n  </thead>\n  <tbody>\n    <tr>\n      <th>3</th>\n      <td>35623680</td>\n      <td>North America</td>\n      <td>Canada</td>\n      <td>CAN</td>\n      <td>1674000.0</td>\n      <td>MULTIPOLYGON (((-122.84000 49.00000, -122.9742...</td>\n      <td>-0.052133</td>\n      <td>-0.078586</td>\n      <td>-0.149888</td>\n      <td>0.109549</td>\n      <td>0.153865</td>\n      <td>0.403820</td>\n      <td>0.064438</td>\n    </tr>\n    <tr>\n      <th>4</th>\n      <td>326625791</td>\n      <td>North America</td>\n      <td>United States of America</td>\n      <td>USA</td>\n      <td>18560000.0</td>\n      <td>MULTIPOLYGON (((-122.84000 49.00000, -120.0000...</td>\n      <td>0.196858</td>\n      <td>0.154295</td>\n      <td>0.146679</td>\n      <td>0.128500</td>\n      <td>0.095186</td>\n      <td>0.104444</td>\n      <td>0.137660</td>\n    </tr>\n    <tr>\n      <th>8</th>\n      <td>260580739</td>\n      <td>Asia</td>\n      <td>Indonesia</td>\n      <td>IDN</td>\n      <td>3028000.0</td>\n      <td>MULTIPOLYGON (((141.00021 -2.60015, 141.01706 ...</td>\n      <td>0.319318</td>\n      <td>0.060875</td>\n      <td>0.050657</td>\n      <td>0.229069</td>\n      <td>0.249250</td>\n      <td>-0.093680</td>\n      <td>0.135915</td>\n    </tr>\n    <tr>\n      <th>9</th>\n      <td>44293293</td>\n      <td>South America</td>\n      <td>Argentina</td>\n      <td>ARG</td>\n      <td>879400.0</td>\n      <td>MULTIPOLYGON (((-68.63401 -52.63637, -68.25000...</td>\n      <td>0.325583</td>\n      <td>0.150000</td>\n      <td>0.040283</td>\n      <td>0.307546</td>\n      <td>0.253975</td>\n      <td>0.557400</td>\n      <td>0.272465</td>\n    </tr>\n    <tr>\n      <th>10</th>\n      <td>17789267</td>\n      <td>South America</td>\n      <td>Chile</td>\n      <td>CHL</td>\n      <td>436100.0</td>\n      <td>MULTIPOLYGON (((-68.63401 -52.63637, -68.63335...</td>\n      <td>0.004757</td>\n      <td>0.149151</td>\n      <td>0.080823</td>\n      <td>0.039280</td>\n      <td>0.013578</td>\n      <td>-0.375425</td>\n      <td>-0.014639</td>\n    </tr>\n  </tbody>\n</table>\n</div>"
     },
     "execution_count": 163,
     "metadata": {},
     "output_type": "execute_result"
    }
   ],
   "source": [
    "world_gpd.head()"
   ],
   "metadata": {
    "collapsed": false,
    "pycharm": {
     "name": "#%%\n"
    }
   }
  },
  {
   "cell_type": "code",
   "execution_count": 171,
   "outputs": [
    {
     "data": {
      "text/html": "\n    <div class=\"bk-root\">\n        <a href=\"https://bokeh.org\" target=\"_blank\" class=\"bk-logo bk-logo-small bk-logo-notebook\"></a>\n        <span id=\"58724\">Loading BokehJS ...</span>\n    </div>"
     },
     "metadata": {},
     "output_type": "display_data"
    },
    {
     "data": {
      "application/javascript": "\n(function(root) {\n  function now() {\n    return new Date();\n  }\n\n  const force = true;\n\n  if (typeof root._bokeh_onload_callbacks === \"undefined\" || force === true) {\n    root._bokeh_onload_callbacks = [];\n    root._bokeh_is_loading = undefined;\n  }\n\n  const JS_MIME_TYPE = 'application/javascript';\n  const HTML_MIME_TYPE = 'text/html';\n  const EXEC_MIME_TYPE = 'application/vnd.bokehjs_exec.v0+json';\n  const CLASS_NAME = 'output_bokeh rendered_html';\n\n  /**\n   * Render data to the DOM node\n   */\n  function render(props, node) {\n    const script = document.createElement(\"script\");\n    node.appendChild(script);\n  }\n\n  /**\n   * Handle when an output is cleared or removed\n   */\n  function handleClearOutput(event, handle) {\n    const cell = handle.cell;\n\n    const id = cell.output_area._bokeh_element_id;\n    const server_id = cell.output_area._bokeh_server_id;\n    // Clean up Bokeh references\n    if (id != null && id in Bokeh.index) {\n      Bokeh.index[id].model.document.clear();\n      delete Bokeh.index[id];\n    }\n\n    if (server_id !== undefined) {\n      // Clean up Bokeh references\n      const cmd_clean = \"from bokeh.io.state import curstate; print(curstate().uuid_to_server['\" + server_id + \"'].get_sessions()[0].document.roots[0]._id)\";\n      cell.notebook.kernel.execute(cmd_clean, {\n        iopub: {\n          output: function(msg) {\n            const id = msg.content.text.trim();\n            if (id in Bokeh.index) {\n              Bokeh.index[id].model.document.clear();\n              delete Bokeh.index[id];\n            }\n          }\n        }\n      });\n      // Destroy server and session\n      const cmd_destroy = \"import bokeh.io.notebook as ion; ion.destroy_server('\" + server_id + \"')\";\n      cell.notebook.kernel.execute(cmd_destroy);\n    }\n  }\n\n  /**\n   * Handle when a new output is added\n   */\n  function handleAddOutput(event, handle) {\n    const output_area = handle.output_area;\n    const output = handle.output;\n\n    // limit handleAddOutput to display_data with EXEC_MIME_TYPE content only\n    if ((output.output_type != \"display_data\") || (!Object.prototype.hasOwnProperty.call(output.data, EXEC_MIME_TYPE))) {\n      return\n    }\n\n    const toinsert = output_area.element.find(\".\" + CLASS_NAME.split(' ')[0]);\n\n    if (output.metadata[EXEC_MIME_TYPE][\"id\"] !== undefined) {\n      toinsert[toinsert.length - 1].firstChild.textContent = output.data[JS_MIME_TYPE];\n      // store reference to embed id on output_area\n      output_area._bokeh_element_id = output.metadata[EXEC_MIME_TYPE][\"id\"];\n    }\n    if (output.metadata[EXEC_MIME_TYPE][\"server_id\"] !== undefined) {\n      const bk_div = document.createElement(\"div\");\n      bk_div.innerHTML = output.data[HTML_MIME_TYPE];\n      const script_attrs = bk_div.children[0].attributes;\n      for (let i = 0; i < script_attrs.length; i++) {\n        toinsert[toinsert.length - 1].firstChild.setAttribute(script_attrs[i].name, script_attrs[i].value);\n        toinsert[toinsert.length - 1].firstChild.textContent = bk_div.children[0].textContent\n      }\n      // store reference to server id on output_area\n      output_area._bokeh_server_id = output.metadata[EXEC_MIME_TYPE][\"server_id\"];\n    }\n  }\n\n  function register_renderer(events, OutputArea) {\n\n    function append_mime(data, metadata, element) {\n      // create a DOM node to render to\n      const toinsert = this.create_output_subarea(\n        metadata,\n        CLASS_NAME,\n        EXEC_MIME_TYPE\n      );\n      this.keyboard_manager.register_events(toinsert);\n      // Render to node\n      const props = {data: data, metadata: metadata[EXEC_MIME_TYPE]};\n      render(props, toinsert[toinsert.length - 1]);\n      element.append(toinsert);\n      return toinsert\n    }\n\n    /* Handle when an output is cleared or removed */\n    events.on('clear_output.CodeCell', handleClearOutput);\n    events.on('delete.Cell', handleClearOutput);\n\n    /* Handle when a new output is added */\n    events.on('output_added.OutputArea', handleAddOutput);\n\n    /**\n     * Register the mime type and append_mime function with output_area\n     */\n    OutputArea.prototype.register_mime_type(EXEC_MIME_TYPE, append_mime, {\n      /* Is output safe? */\n      safe: true,\n      /* Index of renderer in `output_area.display_order` */\n      index: 0\n    });\n  }\n\n  // register the mime type if in Jupyter Notebook environment and previously unregistered\n  if (root.Jupyter !== undefined) {\n    const events = require('base/js/events');\n    const OutputArea = require('notebook/js/outputarea').OutputArea;\n\n    if (OutputArea.prototype.mime_types().indexOf(EXEC_MIME_TYPE) == -1) {\n      register_renderer(events, OutputArea);\n    }\n  }\n\n  \n  if (typeof (root._bokeh_timeout) === \"undefined\" || force === true) {\n    root._bokeh_timeout = Date.now() + 5000;\n    root._bokeh_failed_load = false;\n  }\n\n  const NB_LOAD_WARNING = {'data': {'text/html':\n     \"<div style='background-color: #fdd'>\\n\"+\n     \"<p>\\n\"+\n     \"BokehJS does not appear to have successfully loaded. If loading BokehJS from CDN, this \\n\"+\n     \"may be due to a slow or bad network connection. Possible fixes:\\n\"+\n     \"</p>\\n\"+\n     \"<ul>\\n\"+\n     \"<li>re-rerun `output_notebook()` to attempt to load from CDN again, or</li>\\n\"+\n     \"<li>use INLINE resources instead, as so:</li>\\n\"+\n     \"</ul>\\n\"+\n     \"<code>\\n\"+\n     \"from bokeh.resources import INLINE\\n\"+\n     \"output_notebook(resources=INLINE)\\n\"+\n     \"</code>\\n\"+\n     \"</div>\"}};\n\n  function display_loaded() {\n    const el = document.getElementById(\"58724\");\n    if (el != null) {\n      el.textContent = \"BokehJS is loading...\";\n    }\n    if (root.Bokeh !== undefined) {\n      if (el != null) {\n        el.textContent = \"BokehJS \" + root.Bokeh.version + \" successfully loaded.\";\n      }\n    } else if (Date.now() < root._bokeh_timeout) {\n      setTimeout(display_loaded, 100)\n    }\n  }\n\n\n  function run_callbacks() {\n    try {\n      root._bokeh_onload_callbacks.forEach(function(callback) {\n        if (callback != null)\n          callback();\n      });\n    } finally {\n      delete root._bokeh_onload_callbacks\n    }\n    console.debug(\"Bokeh: all callbacks have finished\");\n  }\n\n  function load_libs(css_urls, js_urls, callback) {\n    if (css_urls == null) css_urls = [];\n    if (js_urls == null) js_urls = [];\n\n    root._bokeh_onload_callbacks.push(callback);\n    if (root._bokeh_is_loading > 0) {\n      console.debug(\"Bokeh: BokehJS is being loaded, scheduling callback at\", now());\n      return null;\n    }\n    if (js_urls == null || js_urls.length === 0) {\n      run_callbacks();\n      return null;\n    }\n    console.debug(\"Bokeh: BokehJS not loaded, scheduling load and callback at\", now());\n    root._bokeh_is_loading = css_urls.length + js_urls.length;\n\n    function on_load() {\n      root._bokeh_is_loading--;\n      if (root._bokeh_is_loading === 0) {\n        console.debug(\"Bokeh: all BokehJS libraries/stylesheets loaded\");\n        run_callbacks()\n      }\n    }\n\n    function on_error(url) {\n      console.error(\"failed to load \" + url);\n    }\n\n    for (let i = 0; i < css_urls.length; i++) {\n      const url = css_urls[i];\n      const element = document.createElement(\"link\");\n      element.onload = on_load;\n      element.onerror = on_error.bind(null, url);\n      element.rel = \"stylesheet\";\n      element.type = \"text/css\";\n      element.href = url;\n      console.debug(\"Bokeh: injecting link tag for BokehJS stylesheet: \", url);\n      document.body.appendChild(element);\n    }\n\n    for (let i = 0; i < js_urls.length; i++) {\n      const url = js_urls[i];\n      const element = document.createElement('script');\n      element.onload = on_load;\n      element.onerror = on_error.bind(null, url);\n      element.async = false;\n      element.src = url;\n      console.debug(\"Bokeh: injecting script tag for BokehJS library: \", url);\n      document.head.appendChild(element);\n    }\n  };\n\n  function inject_raw_css(css) {\n    const element = document.createElement(\"style\");\n    element.appendChild(document.createTextNode(css));\n    document.body.appendChild(element);\n  }\n\n  \n  const js_urls = [\"https://cdn.bokeh.org/bokeh/release/bokeh-2.4.2.min.js\", \"https://cdn.bokeh.org/bokeh/release/bokeh-gl-2.4.2.min.js\", \"https://cdn.bokeh.org/bokeh/release/bokeh-widgets-2.4.2.min.js\", \"https://cdn.bokeh.org/bokeh/release/bokeh-tables-2.4.2.min.js\", \"https://cdn.bokeh.org/bokeh/release/bokeh-mathjax-2.4.2.min.js\"];\n  const css_urls = [];\n  \n\n  const inline_js = [\n    function(Bokeh) {\n      Bokeh.set_log_level(\"info\");\n    },\n    function(Bokeh) {\n    \n    \n    }\n  ];\n\n  function run_inline_js() {\n    \n    if (root.Bokeh !== undefined || force === true) {\n      \n    for (let i = 0; i < inline_js.length; i++) {\n      inline_js[i].call(root, root.Bokeh);\n    }\n    if (force === true) {\n        display_loaded();\n      }} else if (Date.now() < root._bokeh_timeout) {\n      setTimeout(run_inline_js, 100);\n    } else if (!root._bokeh_failed_load) {\n      console.log(\"Bokeh: BokehJS failed to load within specified timeout.\");\n      root._bokeh_failed_load = true;\n    } else if (force !== true) {\n      const cell = $(document.getElementById(\"58724\")).parents('.cell').data().cell;\n      cell.output_area.append_execute_result(NB_LOAD_WARNING)\n    }\n\n  }\n\n  if (root._bokeh_is_loading === 0) {\n    console.debug(\"Bokeh: BokehJS loaded, going straight to plotting\");\n    run_inline_js();\n  } else {\n    load_libs(css_urls, js_urls, function() {\n      console.debug(\"Bokeh: BokehJS plotting callback run at\", now());\n      run_inline_js();\n    });\n  }\n}(window));",
      "application/vnd.bokehjs_load.v0+json": "\n(function(root) {\n  function now() {\n    return new Date();\n  }\n\n  const force = true;\n\n  if (typeof root._bokeh_onload_callbacks === \"undefined\" || force === true) {\n    root._bokeh_onload_callbacks = [];\n    root._bokeh_is_loading = undefined;\n  }\n\n  \n\n  \n  if (typeof (root._bokeh_timeout) === \"undefined\" || force === true) {\n    root._bokeh_timeout = Date.now() + 5000;\n    root._bokeh_failed_load = false;\n  }\n\n  const NB_LOAD_WARNING = {'data': {'text/html':\n     \"<div style='background-color: #fdd'>\\n\"+\n     \"<p>\\n\"+\n     \"BokehJS does not appear to have successfully loaded. If loading BokehJS from CDN, this \\n\"+\n     \"may be due to a slow or bad network connection. Possible fixes:\\n\"+\n     \"</p>\\n\"+\n     \"<ul>\\n\"+\n     \"<li>re-rerun `output_notebook()` to attempt to load from CDN again, or</li>\\n\"+\n     \"<li>use INLINE resources instead, as so:</li>\\n\"+\n     \"</ul>\\n\"+\n     \"<code>\\n\"+\n     \"from bokeh.resources import INLINE\\n\"+\n     \"output_notebook(resources=INLINE)\\n\"+\n     \"</code>\\n\"+\n     \"</div>\"}};\n\n  function display_loaded() {\n    const el = document.getElementById(\"58724\");\n    if (el != null) {\n      el.textContent = \"BokehJS is loading...\";\n    }\n    if (root.Bokeh !== undefined) {\n      if (el != null) {\n        el.textContent = \"BokehJS \" + root.Bokeh.version + \" successfully loaded.\";\n      }\n    } else if (Date.now() < root._bokeh_timeout) {\n      setTimeout(display_loaded, 100)\n    }\n  }\n\n\n  function run_callbacks() {\n    try {\n      root._bokeh_onload_callbacks.forEach(function(callback) {\n        if (callback != null)\n          callback();\n      });\n    } finally {\n      delete root._bokeh_onload_callbacks\n    }\n    console.debug(\"Bokeh: all callbacks have finished\");\n  }\n\n  function load_libs(css_urls, js_urls, callback) {\n    if (css_urls == null) css_urls = [];\n    if (js_urls == null) js_urls = [];\n\n    root._bokeh_onload_callbacks.push(callback);\n    if (root._bokeh_is_loading > 0) {\n      console.debug(\"Bokeh: BokehJS is being loaded, scheduling callback at\", now());\n      return null;\n    }\n    if (js_urls == null || js_urls.length === 0) {\n      run_callbacks();\n      return null;\n    }\n    console.debug(\"Bokeh: BokehJS not loaded, scheduling load and callback at\", now());\n    root._bokeh_is_loading = css_urls.length + js_urls.length;\n\n    function on_load() {\n      root._bokeh_is_loading--;\n      if (root._bokeh_is_loading === 0) {\n        console.debug(\"Bokeh: all BokehJS libraries/stylesheets loaded\");\n        run_callbacks()\n      }\n    }\n\n    function on_error(url) {\n      console.error(\"failed to load \" + url);\n    }\n\n    for (let i = 0; i < css_urls.length; i++) {\n      const url = css_urls[i];\n      const element = document.createElement(\"link\");\n      element.onload = on_load;\n      element.onerror = on_error.bind(null, url);\n      element.rel = \"stylesheet\";\n      element.type = \"text/css\";\n      element.href = url;\n      console.debug(\"Bokeh: injecting link tag for BokehJS stylesheet: \", url);\n      document.body.appendChild(element);\n    }\n\n    for (let i = 0; i < js_urls.length; i++) {\n      const url = js_urls[i];\n      const element = document.createElement('script');\n      element.onload = on_load;\n      element.onerror = on_error.bind(null, url);\n      element.async = false;\n      element.src = url;\n      console.debug(\"Bokeh: injecting script tag for BokehJS library: \", url);\n      document.head.appendChild(element);\n    }\n  };\n\n  function inject_raw_css(css) {\n    const element = document.createElement(\"style\");\n    element.appendChild(document.createTextNode(css));\n    document.body.appendChild(element);\n  }\n\n  \n  const js_urls = [\"https://cdn.bokeh.org/bokeh/release/bokeh-2.4.2.min.js\", \"https://cdn.bokeh.org/bokeh/release/bokeh-gl-2.4.2.min.js\", \"https://cdn.bokeh.org/bokeh/release/bokeh-widgets-2.4.2.min.js\", \"https://cdn.bokeh.org/bokeh/release/bokeh-tables-2.4.2.min.js\", \"https://cdn.bokeh.org/bokeh/release/bokeh-mathjax-2.4.2.min.js\"];\n  const css_urls = [];\n  \n\n  const inline_js = [\n    function(Bokeh) {\n      Bokeh.set_log_level(\"info\");\n    },\n    function(Bokeh) {\n    \n    \n    }\n  ];\n\n  function run_inline_js() {\n    \n    if (root.Bokeh !== undefined || force === true) {\n      \n    for (let i = 0; i < inline_js.length; i++) {\n      inline_js[i].call(root, root.Bokeh);\n    }\n    if (force === true) {\n        display_loaded();\n      }} else if (Date.now() < root._bokeh_timeout) {\n      setTimeout(run_inline_js, 100);\n    } else if (!root._bokeh_failed_load) {\n      console.log(\"Bokeh: BokehJS failed to load within specified timeout.\");\n      root._bokeh_failed_load = true;\n    } else if (force !== true) {\n      const cell = $(document.getElementById(\"58724\")).parents('.cell').data().cell;\n      cell.output_area.append_execute_result(NB_LOAD_WARNING)\n    }\n\n  }\n\n  if (root._bokeh_is_loading === 0) {\n    console.debug(\"Bokeh: BokehJS loaded, going straight to plotting\");\n    run_inline_js();\n  } else {\n    load_libs(css_urls, js_urls, function() {\n      console.debug(\"Bokeh: BokehJS plotting callback run at\", now());\n      run_inline_js();\n    });\n  }\n}(window));"
     },
     "metadata": {},
     "output_type": "display_data"
    },
    {
     "name": "stderr",
     "output_type": "stream",
     "text": [
      "/usr/local/lib/python3.9/site-packages/pandas_bokeh/geoplot.py:118: ShapelyDeprecationWarning:\n",
      "\n",
      "Iteration over multi-part geometries is deprecated and will be removed in Shapely 2.0. Use the `geoms` property to access the constituent parts of a multi-part geometry.\n",
      "\n"
     ]
    },
    {
     "data": {
      "text/html": "\n\n\n\n\n\n  <div class=\"bk-root\" id=\"38397240-266d-4b2a-aa1f-43f3203458b0\" data-root-id=\"58798\"></div>\n"
     },
     "metadata": {},
     "output_type": "display_data"
    },
    {
     "data": {
      "application/javascript": "(function(root) {\n  function embed_document(root) {\n    \n  const docs_json = {\"95deba70-3243-40c2-bd93-7978f6b03d8a\":{\"defs\":[],\"roots\":{\"references\":[{\"attributes\":{\"children\":[{\"id\":\"58796\"},{\"id\":\"58725\"}]},\"id\":\"58798\",\"type\":\"Column\"},{\"attributes\":{\"attribution\":\"&copy; <a href=\\\"https://www.openstreetmap.org/copyright\\\">OpenStreetMap</a> contributors,&copy; <a href=\\\"https://cartodb.com/attributions\\\">CartoDB</a>\",\"url\":\"https://tiles.basemaps.cartocdn.com/light_all/{z}/{x}/{y}@2x.png\"},\"id\":\"58767\",\"type\":\"WMTSTileSource\"},{\"attributes\":{},\"id\":\"58755\",\"type\":\"SaveTool\"},{\"attributes\":{\"fill_alpha\":{\"value\":0.1},\"fill_color\":{\"field\":\"Colormap\",\"transform\":{\"id\":\"58771\"}},\"hatch_alpha\":{\"value\":0.1},\"line_alpha\":{\"value\":0.1},\"xs\":{\"field\":\"__x__\"},\"ys\":{\"field\":\"__y__\"}},\"id\":\"58776\",\"type\":\"MultiPolygons\"},{\"attributes\":{\"match_aspect\":true,\"overlay\":{\"id\":\"58758\"}},\"id\":\"58754\",\"type\":\"BoxZoomTool\"},{\"attributes\":{\"bottom_units\":\"screen\",\"coordinates\":null,\"fill_alpha\":0.5,\"fill_color\":\"lightgrey\",\"group\":null,\"left_units\":\"screen\",\"level\":\"overlay\",\"line_alpha\":1.0,\"line_color\":\"black\",\"line_dash\":[4,4],\"line_width\":2,\"right_units\":\"screen\",\"syncable\":false,\"top_units\":\"screen\"},\"id\":\"58758\",\"type\":\"BoxAnnotation\"},{\"attributes\":{\"args\":{\"geo_source\":{\"id\":\"58773\"},\"slider_widget\":{\"id\":\"58796\"},\"value2name\":{\"id\":\"58795\"}},\"code\":\"\\n\\n                //Change selection of field for Colormapper for choropleth plot:\\n                var slider_value = slider_widget.value;\\n                var i;\\n                for(i=0; i<value2name.data[\\\"Names\\\"].length; i++)\\n                    {\\n                    if (value2name.data[\\\"Values\\\"][i] == slider_value)\\n                        {\\n                         var name = value2name.data[\\\"Names\\\"][i];\\n                         }\\n\\n                    }\\n                geo_source.data[\\\"Colormap\\\"] = geo_source.data[name];\\n                geo_source.change.emit();\\n\\n                            \"},\"id\":\"58797\",\"type\":\"CustomJS\"},{\"attributes\":{\"data\":{\"Names\":[\"sentiment_2015\",\"sentiment_2016\",\"sentiment_2017\",\"sentiment_2018\",\"sentiment_2019\",\"sentiment_2020\"],\"Values\":[2015,2016,2017,2018,2019,2020]},\"selected\":{\"id\":\"58810\"},\"selection_policy\":{\"id\":\"58809\"}},\"id\":\"58795\",\"type\":\"ColumnDataSource\"},{\"attributes\":{\"coordinates\":null,\"group\":null,\"text\":\"Sentiment regarding LGBT community\"},\"id\":\"58726\",\"type\":\"Title\"},{\"attributes\":{\"axis\":{\"id\":\"58744\"},\"coordinates\":null,\"dimension\":1,\"group\":null,\"ticker\":null},\"id\":\"58751\",\"type\":\"Grid\"},{\"attributes\":{},\"id\":\"58728\",\"type\":\"DataRange1d\"},{\"attributes\":{\"click_policy\":\"hide\",\"coordinates\":null,\"group\":null,\"items\":[{\"id\":\"58791\"}]},\"id\":\"58790\",\"type\":\"Legend\"},{\"attributes\":{},\"id\":\"58786\",\"type\":\"AllLabels\"},{\"attributes\":{\"data\":{\"Colormap\":{\"__ndarray__\":\"u3FlYzixqr+7cWVjOLGqv7txZWM4saq/u3FlYzixqr+7cWVjOLGqv7txZWM4saq/u3FlYzixqr+7cWVjOLGqv7txZWM4saq/u3FlYzixqr+7cWVjOLGqv7txZWM4saq/u3FlYzixqr+7cWVjOLGqv7txZWM4saq/u3FlYzixqr+7cWVjOLGqv7txZWM4saq/u3FlYzixqr+7cWVjOLGqv7txZWM4saq/u3FlYzixqr+7cWVjOLGqv7txZWM4saq/u3FlYzixqr+7cWVjOLGqv7txZWM4saq/u3FlYzixqr+7cWVjOLGqv7txZWM4saq/TbMtZqMyyT9Nsy1mozLJP02zLWajMsk/TbMtZqMyyT9Nsy1mozLJP02zLWajMsk/TbMtZqMyyT9Nsy1mozLJP02zLWajMsk/TbMtZqMyyT9wWPuGtW/UP3BY+4a1b9Q/cFj7hrVv1D9wWPuGtW/UP3BY+4a1b9Q/cFj7hrVv1D9wWPuGtW/UP3BY+4a1b9Q/cFj7hrVv1D9wWPuGtW/UP3BY+4a1b9Q/cFj7hrVv1D9wWPuGtW/UP2+EMnpb1tQ/b4QyelvW1D+uuObPOXxzP6645s85fHM/HsDrrm0rwj+7awn5oGejv7trCfmgZ6O/u2sJ+aBno7+7awn5oGejv7trCfmgZ6O/u2sJ+aBno7+7awn5oGejv7trCfmgZ6O/u2sJ+aBno7+7awn5oGejv7trCfmgZ6O/u2sJ+aBno7+7awn5oGejv7trCfmgZ6O/zojS3uALyz/OiNLe4AvLP86I0t7gC8s/zojS3uALyz9vULDT0QfgP6yL22gAb8E/Ib1LitopxD8AAAAAAAAAAMQgsHJokeU/Nc8kxG8dzj/Y48Pcp1arP9jjw9ynVqs/2OPD3KdWqz9wsudFAEqWv70ta3VM8MC/+k6Q3mQzzj/o1n5Fkcixv/FBz2bV56K/L2VywLW4xz9GZ/hxcc91v3wT0zcxfcU/lLw6x4Dsxb9WzE5qiXfKP9EvVVniV6u/KBI5anIeyz8SA8NVaLmNP5DkrfdcKL2/2or9Zffkzz+CsJpVTrDFP2qN4oym56U/VhwHXi13xj9WHAdeLXfGP1K7F0nYLpw/2oEC1kbl0j8wMzAGjUnEP7eqYQ7kFdU/L/XzpiIVwr8AAAAAAAAAAAAAAAAAAAAAzJf3dH7quj/Ml/d0fuq6P+uJbdBakMs//29qY6tJxz//b2pjq0nHP/9vamOrScc/sJRliGNdyj+wlGWIY13KP181PbUplsA/XzU9tSmWwD/F4cyv5gDBP8XhzK/mAME/xeHMr+YAwT/F4cyv5gDBP8XhzK/mAME/xeHMr+YAwT/F4cyv5gDBP95JMS3XyMO/3kkxLdfIw790JJf/kH6rPwcmuLRshLa/Bya4tGyEtr8HJri0bIS2vwaXcYNto8E/OH2NOgb2wj8juuXm2pWxPw==\",\"dtype\":\"float64\",\"order\":\"little\",\"shape\":[137]},\"__x__\":[[[[-13674486,-13689426,-13904944,-13984467,-14186067,-14248088,-14232232,-14374662,-14394192,-14528860,-14531213,-14469307,-14472399,-14661646,-14845073,-14946991,-15022008,-15081100,-15192852,-15301142,-15400037,-15477750,-15586175,-15695801,-15694489,-15486825,-15311590,-15195509,-15097790,-14962969,-14797616,-14630872,-14448681,-14372206,-14289143,-14264275,-14187348,-13999129,-13850908,-13835863,-13699096,-13657064,-13522230,-13351980,-13091470,-12938267,-12829226,-12679060,-12835681,-12634458,-12333976,-12239153,-12120488,-11999393,-12113006,-12041118,-11905619,-11816563,-11726709,-11614843,-11490525,-11293844,-11121034,-10958646,-10971493,-10872516,-10700019,-10700684,-10629834,-10540285,-10489949,-10609201,-10739137,-10730213,-10598595,-10451783,-10339151,-10187919,-10286691,-10079657,-10080147,-9931385,-9798303,-9831458,-9723776,-9607547,-9526347,-9520262,-9362059,-9197503,-9048096,-9041391,-9124230,-9045741,-9059907,-9277873,-9432703,-9547809,-9581001,-9688294,-9720778,-9849878,-10009229,-10097120,-10104474,-10233981,-10370187,-10490919,-10534086,-10540241,-10376648,-10326510,-10274458,-10118684,-9911835,-9800543,-9720886,-9581403,-9463471,-9279653,-9158571,-9176755,-9142115,-9061490,-8895862,-8810159,-8749924,-8808066,-8886588,-8708383,-8582242,-8520546,-8529654,-8605248,-8740459,-8609088,-8657619,-8694816,-8617316,-8426463,-8312026,-8219817,-8116140,-7979056,-7945282,-7746770,-7750099,-7713093,-7611420,-7530736,-7369548,-7263059,-7189404,-7102712,-6834632,-6879395,-6731325,-6631259,-6453756,-6382302,-6338185,-6251492,-6206765,-6198645,-6359338,-6542783,-6682853,-6871046,-7109142,-7276210,-7391508,-7484711,-7626625,-7787201,-7915325,-7820775,-7642083,-7408582,-7242029,-7143481,-7248618,-7213340,-7177011,-7032418,-6848455,-6736849,-6729107,-6657225,-6794928,-7041482,-7151894,-7276293,-7360823,-7365090,-7171812,-7349986,-7473702,-7546497,-7546399,-7595823,-7670469,-7707451,-7792361,-7826316,-7865835,-7913125,-7948768,-7959906,-8334156,-8384384,-8515941,-8551567,-8763101,-8813350,-8795352,-8787489,-8933105,-9047797,-9177098,-9205018,-9242836,-9255325,-9228385,-9176065,-9143520,-9189526,-9305513,-9291787,-9308105,-9338677,-9361062,-9366657,-9388318,-9418174,-9411367,-9437581,-9448361,-9838206,-9937815,-9974226,-10111149,-10201318,-10309298,-10500671,-10535276,-10555044,-10592727,-10593059,-13674486]]],[[[-9350132,-9267401,-9114504,-9116871,-9247150,-9325748,-9350132]]],[[[-8880605,-9003086,-8998386,-8944861,-8690093,-8498129,-8488267,-8726520,-8848369,-8880605]]],[[[-8940668,-8897698,-8852128,-8823830,-8867434,-8916642,-8945873,-8940668]]],[[[-10420924,-10481499,-10643109,-10778056,-10718796,-10558744,-10461554,-10420924]]],[[[-10446221,-10496939,-10705556,-10735240,-10511073,-10432935,-10446221]]],[[[-10770650,-10637610,-10667779,-10832482,-10923145,-10970855,-10979662,-10835531,-10770650]]],[[[-9812852,-9992563,-10288419,-10326918,-10340457,-10452212,-10682491,-10811502,-10769617,-10540184,-10416601,-10197424,-10101336,-10126696,-9998965,-9928260,-9778112,-9615687,-9438737,-9212071,-9031186,-8911961,-8887072,-8956518,-9122503,-9264998,-9584324,-9812852]]],[[[-12385901,-12228941,-12265953,-12473481,-12638578,-12548443,-12385901]]],[[[-12352418,-12207645,-12343251,-12528128,-12526324,-12412124,-12352418]]],[[[-6189387,-6322488,-6249821,-6175058,-6214121,-6115352,-6063992,-5952982,-5987431,-5909521,-5895329,-5860759,-5907631,-5957981,-6031171,-6007007,-6038022,-6167185,-6233611,-6154990,-6261810,-6381415,-6597462,-6614547,-6545206,-6593634,-6500145,-6385140,-6316117,-6219528,-6167876,-6189387]]],[[[-9337771,-9215870,-9088347,-9078487,-8996547,-8917075,-9015879,-9189109,-9251629,-9362015,-9520421,-9558644,-9709506,-9612745,-9598510,-9560546,-9480113,-9459458,-9402490,-9337771]]],[[[-8768707,-8663397,-8416404,-8263091,-8248678,-8041967,-7925949,-7657228,-7560259,-7454958,-7659351,-7397165,-7220439,-7060431,-6885331,-6919973,-7115368,-7252337,-7427372,-7571396,-7585453,-7468385,-7317261,-7271407,-7198965,-7237303,-7377704,-7656909,-7383632,-7365517,-7667393,-7906292,-8041205,-8002343,-8330529,-8328757,-8650635,-8744808,-8671485,-8462315,-8233166,-8270357,-8231510,-8087490,-8118091,-8161011,-8331518,-8557029,-8485734,-8603590,-8701692,-8789479,-8849059,-9050883,-9456001,-9691475,-9872003,-9964588,-9848181,-10006303,-10041592,-9956034,-9841560,-9554123,-9636057,-9548359,-9445471,-9163329,-8972360,-8988931,-8768707]]],[[[-10520099,-10288148,-10075504,-10241834,-10374564,-10493982,-10620976,-10690427,-10688704,-10630543,-10520099]]],[[[-13676147,-13487195,-13258589,-13087847,-12935167,-12950443,-13036185,-13140198,-13347130,-13525317,-13676147]]],[[[-14773210,-14666341,-14699680,-14602784,-14647176,-14714257,-14755397,-14811571,-14832171,-14825530,-14773210]]],[[[-11743347,-11524826,-11223805,-11138649,-11095318,-11277103,-11460320,-11708153,-11600651,-11735254,-11743347]]],[[[-13749070,-13805051,-13987852,-14021245,-14120877,-14140914,-14255500,-14298385,-14288793,-14103622,-13998983,-13906116,-13794990,-13749070]]],[[[-13529534,-13370559,-13086233,-12978118,-12858604,-12998547,-13271509,-13409545,-13409545,-13702559,-13761315,-14018346,-13893483,-13796937,-13905780,-13529534]]],[[[-12002404,-11903274,-11786619,-11767024,-11834761,-12211748,-12492615,-12661903,-12676100,-12444874,-12947815,-13103461,-12951579,-12846811,-12533523,-12335782,-12141294,-12300498,-12198512,-12083573,-12046039,-12002404]]],[[[-11858040,-11733348,-11663481,-11628963,-11442015,-11241129,-11253208,-11435980,-11364973,-11402482,-11603943,-11795413,-11924826,-12133824,-12613967,-12674276,-12826231,-12925076,-13062229,-12988171,-12816337,-12659409,-12514103,-12729383,-12967255,-13125102,-13183832,-12925652,-13097370,-13291768,-13198336,-13120829,-12822790,-12709031,-12764598,-12516877,-12362072,-12236277,-12134552,-12043472,-11987549,-12066630,-11968676,-11858040]]],[[[-11180747,-11303381,-11171625,-11038871,-10840292,-10811348,-10915275,-10746783,-10766821,-10949347,-11056570,-11133598,-11410247,-11408021,-11180747]]],[[[-11866657,-11717489,-11632886,-11730847,-11904506,-11866657]]],[[[-10964969,-10879875,-10876405,-10927121,-11110658,-11230317,-11228008,-11410480,-11417541,-11297785,-11130111,-10973540,-10964969]]],[[[-10688501,-10611357,-10497253,-10545898,-10287016,-10144866,-9957528,-9774964,-9687022,-9552809,-9705674,-9911369,-10108295,-10338985,-10458595,-10456878,-10368880,-10572457,-10695146,-10765676,-10688501]]],[[[-10195420,-10029886,-9899895,-9681482,-9517816,-9379780,-9259555,-9174952,-9028010,-8828374,-8488111,-8428976,-8107568,-7327867,-7088825,-6885110,-6889995,-7161628,-7430956,-7531604,-7289234,-7551914,-7733331,-7923721,-8153351,-8224283,-8561329,-8407876,-8484822,-8392760,-8498523,-8670509,-8723294,-8878788,-8863218,-8673000,-8670576,-8968037,-9258930,-9585926,-9751587,-9962056,-9976018,-9770221,-9825058,-9757153,-9459522,-9611324,-9791876,-9701714,-9504311,-9472726,-9629953,-9677202,-9372927,-9285013,-9111303,-9361969,-9751470,-9948247,-10041018,-10171023,-10195420]]],[[[-8373003,-8445351,-8570139,-8597916,-8550634,-8448616,-8361707,-8360464,-8373003]]],[[[-10715324,-10647451,-10716674,-10866719,-10957377,-11109395,-11011434,-10933606,-10748720,-10715324]]],[[[-7182235,-7143730,-6997352,-6883505,-6880246,-6934445,-7078724,-7182235]]],[[[-7126101,-7087099,-7006370,-6903153,-6957903,-6999138,-7140343,-7168152,-7126101]]],[[[-13674486,-10593059,-10592727,-10555044,-10535276,-10500671,-10309298,-10201318,-10111149,-9974226,-9937815,-9838206,-9448361,-9437581,-9411367,-9418174,-9388318,-9366657,-9361062,-9338677,-9308105,-9291787,-9305513,-9189526,-9143520,-9176065,-9252876,-9255325,-9242836,-9205018,-9177098,-9047797,-8933105,-8787489,-8795352,-8813350,-8763101,-8551567,-8515941,-8384384,-8334156,-7959906,-7948768,-7913125,-7865835,-7826316,-7792361,-7707451,-7670469,-7595823,-7546399,-7546497,-7473702,-7454471,-7573345,-7805296,-7883077,-7884202,-7847467,-7801269,-7812958,-7779559,-7788471,-7863608,-7917085,-7999418,-8112567,-8205359,-8041860,-8008880,-8164728,-8235638,-8232335,-8266219,-8233461,-8257499,-8338502,-8346781,-8371227,-8407744,-8384584,-8356958,-8355276,-8453627,-8463762,-8429340,-8486204,-8499243,-8520697,-8496942,-8570487,-8493857,-8489084,-8457142,-8429945,-8500710,-8615865,-8689038,-8744630,-8800993,-8816901,-8939102,-9001848,-9054314,-9071472,-9051800,-9014652,-8965180,-8964558,-8911853,-8920204,-8947975,-8981256,-9036040,-9053614,-9095915,-9206695,-9223405,-9200555,-9231725,-9318508,-9361969,-9474270,-9494198,-9548217,-9618004,-9743835,-9842626,-9927526,-9973539,-9953491,-9955302,-9931665,-9952878,-9994183,-10035967,-10116740,-10199847,-10296948,-10377912,-10447158,-10540842,-10642172,-10752799,-10813575,-10839178,-10840292,-10834726,-10813575,-10856989,-11022855,-11054025,-11078515,-11144194,-11238548,-11317006,-11408021,-11478152,-11570547,-11628096,-11692706,-11815773,-11856370,-12049221,-12049437,-12359091,-12781147,-12770726,-13038602,-13057324,-13129466,-13181407,-13193574,-13256036,-13295870,-13399279,-13427675,-13441197,-13549203,-13641921,-13637974,-13687086,-13773248,-13788607,-13847929,-13823527,-13827405,-13862932,-13819439,-13792365,-13812481,-13847662,-13880116,-13866634,-13705655,-13646362,-13618826,-13636637,-13674486]]],[[[-17299287,-17261451,-17233082,-17314868,-17331127,-17358788,-17355605,-17374019,-17349151,-17356831,-17350376,-17299287]]],[[[-17365357,-17374663,-17411976,-17444938,-17434032,-17394461,-17365357]]],[[[-17450247,-17453708,-17513362,-17505019,-17450247]]],[[[-17591284,-17549832,-17555866,-17602580,-17621057,-17591284]]],[[[-17740507,-17738217,-17751420,-17788911,-17766167,-17740507]]],[[[-18531109,-18442793,-18432188,-18500494,-18573471,-18641036,-18531109]]],[[[-17057344,-16983434,-16936275,-17032584,-17143768,-17200687,-17217896,-17116794,-17057344]]],[[[-15694488,-15695801,-15586175,-15477750,-15400037,-15301142,-15192852,-15081100,-15022008,-14946991,-14845073,-14661646,-14472399,-14469307,-14531213,-14592406,-14690522,-14722003,-14865513,-14925501,-15032384,-15209366,-15339826,-15570010,-15871314,-16025429,-16244358,-16376697,-16500254,-16477295,-16538828,-16667628,-16765632,-16888991,-16904914,-16854852,-16736544,-16767065,-16908967,-16984941,-17145335,-17063887,-17169082,-17288750,-17400164,-17427745,-17601528,-17636716,-17766961,-17843369,-18060225,-18152807,-18343845,-18361284,-18239513,-18130605,-18011958,-17873858,-17818973,-17664671,-17639808,-17557618,-17538416,-17481799,-17610156,-17646055,-17706323,-17779021,-17809035,-17850667,-17961956,-18030294,-18039878,-18019750,-18091427,-18236174,-18330114,-18406275,-18406770,-18492547,-18449474,-18358718,-18319014,-18228937,-18152560,-18062762,-17981932,-17897113,-17917799,-17980109,-17897700,-17966067,-18084190,-18118113,-18205901,-18363355,-18526378,-18573100,-18713981,-18557545,-18309240,-18217714,-18232863,-17997887,-18088272,-18225195,-18304374,-18411162,-18564132,-18501823,-18304354,-18163846,-18137347,-18023615,-17915179,-17704160,-17601807,-17430497,-17262067,-17181513,-17132070,-16943940,-16950619,-16780299,-16666754,-16432244,-16218135,-16132421,-15984304,-15815439,-15694488]]],[[[-19117080,-19048371,-18978983,-18888970,-18778422,-18787606,-18871930,-18956658,-18999051,-19097199,-19123698,-19117080]]],[[[15696071,15699816,15600693,15487632,15460215,15319173,15366442,15436520,15407498,15354056,15138254,15046454,14879283,14846424,14803706,14778435,14778084,14693037,14812933,14892324,14882994,14720040,14675941,14576490,14529370,14679427,14736487,14915202,14932771,14963858,15079071,15172102,15299832,15398794,15576567,15696071]]],[[[13911450,13922730,13924790,13852146,13756860,13743503,13753524,13801391,13911450]]],[[[14940203,14929365,14972429,14997741,14997476,14940203]]],[[[13122568,13059249,13141079,13121854,13246657,13114756,13077628,13082449,12975405,12972482,12929545,12913156,12786691,12742592,12663223,12607710,12475366,12434753,12361833,12270062,12253040,12197493,12144051,12128554,12141520,12207658,12226244,12302368,12374178,12445246,12510112,12563496,12668809,12759590,12816662,12859524,12898090,13026074,13122568]]],[[[14401513,14524003,14564467,14470481,14377496,14314649,14237639,14264020,14401513]]],[[[14123651,14046716,14025035,14137647,14165317,14123651]]],[[[14241367,14249357,14315080,14325510,14319688,14262272,14245336,14291196,14260028,14215106,14182046,14204423,14241367]]],[[[13684234,13812246,13922282,13941708,13852267,13768607,13661471,13475972,13378719,13362888,13462523,13522626,13730208,13721062,13672562,13624228,13526239,13631580,13611245,13711328,13710368,13650943,13607293,13661079,13551838,13524145,13538584,13458324,13466584,13392341,13406286,13335690,13287863,13319778,13302549,13255740,13221167,13267165,13283019,13338969,13362313,13456943,13543888,13684234]]],[[[13391179,13243435,13347241,13405733,13444667,13438000,13391179]]],[[[13507692,13581797,13681559,13665244,13497988,13349922,13349536,13437942,13507692]]],[[[13164711,13233489,13261102,13055297,12995453,13033702,13094737,13124570,13164711]]],[[[12076700,12091910,12305170,12329699,12536223,12576738,12743736,12880280,12753263,12630836,12530085,12414579,12310393,12181432,12099722,12053425,11850416,11831104,11729232,11805615,11940686,12030530,12076700]]],[[[11618414,11637282,11676066,11757799,11811954,11783996,11779567,11656306,11562556,11419627,11371973,11287697,11232415,11147754,11049988,11017291,10976252,10875869,10817687,10733872,10617750,10607971,10851967,10950405,11097885,11203353,11316518,11410055,11474461,11559237,11514626,11578428,11618414]]],[[[-7640303,-7597555,-7541895,-7397180,-7241332,-7291426,-7397180,-7453944,-7640229,-7640303]]],[[[-6414800,-6472386,-6471296,-6495449,-6511682,-6370350,-6385548,-6315988,-6321643,-6428606,-6593660,-6816921,-6939206,-6915808,-6938602,-6918060,-6984830,-7098899,-7205943,-7248906,-7233380,-7158222,-7097279,-7064118,-7166615,-7256005,-7272371,-7298692,-7403855,-7491110,-7523032,-7413551,-7307125,-7345426,-7476904,-7549252,-7650848,-7696466,-7660513,-7586422,-7736522,-8005519,-8051672,-8049509,-8123622,-8162841,-8172568,-8087165,-8051867,-8064802,-8005792,-7965133,-7977078,-7928483,-7940397,-7992029,-7955342,-8005588,-8031578,-7986817,-8005622,-7949716,-7883052,-7916889,-7917251,-7832970,-7835561,-7772027,-7771745,-7800646,-7851927,-7783348,-7793872,-7754084,-7681182,-7602624,-7635938,-7612694,-7616218,-7494967,-7456762,-7470280,-7377514,-7231858,-7166417,-7122982,-6996036,-6978068,-6773408,-6682393,-6546379,-6431730,-6415749,-6525345,-6413089,-6288070,-6200033,-6099060,-6080859,-6025729,-5969880,-5972149,-6140637,-6266274,-6414800]]],[[[-7640303,-7640229,-7453944,-7490803,-7586270,-7706882,-7787698,-7904316,-8044380,-8158071,-8311394,-8219619,-8063336,-7915676,-7858241,-7822140,-7719522,-7640303]]],[[[-7746770,-7692204,-7677351,-7618953,-7654012,-7594205,-7550598,-7470280,-7456762,-7494967,-7616218,-7612694,-7635938,-7602624,-7681182,-7754084,-7793872,-7783348,-7851927,-7800646,-7771745,-7772027,-7835561,-7832970,-7917251,-7916889,-7883052,-7949716,-8005622,-7986817,-8031578,-8005588,-7955342,-7992029,-7940397,-7928483,-7977078,-7965133,-8005792,-8064802,-8051867,-8087165,-8172568,-8162841,-8123622,-8049509,-8051672,-8005519,-7736522,-7633349,-7732394,-7785994,-7886440,-7904388,-7951528,-8077113,-8204553,-8343035,-8377907,-8346360,-8402367,-8416645,-8369307,-8251733,-8420695,-8314692,-8276794,-8153079,-8094908,-8169614,-8204395,-8274594,-8201697,-8150545,-8182601,-8191785,-8144881,-8076578,-7999611,-7952491,-7978125,-7944881,-7958218,-7893122,-7873065,-7802521,-7810667,-7833838,-7776606,-7746770]]],[[[4363971,4204192,4196598,3774143,3773014,3859680,3900188,3851216,3838199,3785419,3929356,3987180,3987180,4025210,4102690,4243600,4304851,4329494,4403730,4436631,4538326,4583223,4659286,4561989,4563319,4629235,4551271,4523784,4482061,4466270,4430522,4408796,4363971]]],[[[19895609,20037508,20037508,19915438,19895609]]],[[[5465916,5415182,5307258,5196617,5297799,5286843,5408387,5341919,5322815,5273573,5197069,5165775,5095805,5061728,4957905,4890399,4870894,4719323,4555437,4461347,4447771,4305837,4178835,4082693,4163701,4256072,4193819,4357898,4354952,4255024,4258539,4315920,4423644,4441160,4416561,4461773,4460465,4296374,4231324,4162620,4077206,3935824,3938250,3898651,3809889,3800667,3828469,3757333,3641901,3608093,3579972,3538397,3511018,3484878,3506301,3596122,3639439,3607374,3532309,3539005,3493703,3423913,3447769,3436867,3328040,3269628,3253814,3136616,3100835,3091344,3037706,3085407,3052397,3131606,3114844,3241367,3124738,3466487,3508355,3343578,3389086,3288870,3363813,3234342,3337071,3166587,3182839,3272742,3462156,3576998,3759868,4064715,4485322,4570763,4578119,4454541,4272770,3775813,3694074,3875562,3889938,4033248,4120238,4134625,4067567,4138417,4407522,4501270,4426352,4685781,4788523,4892463,4957308,4864482,4918980,4837145,5148526,5212127,5071178,5071940,5159563,5331553,5358782,5591317,5979796,6063763,5954014,6092101,6171850,6380501,6545808,6672648,6799154,6682509,6740395,7069232,7223311,7626738,7701158,7588030,7584777,7450622,7487322,7427784,7424415,7629844,7702903,7785685,8080407,8103616,7998095,8067335,8103155,8077865,8200669,8152894,7934853,8062092,8106371,8228846,8258404,8354750,8289880,8341819,8220093,8193322,8282147,8137577,8336807,8311030,8366551,8425049,8381130,8500257,8449497,8635793,8866822,9072538,8973543,8962453,9156028,9423780,9665014,9574540,9703366,9831259,10047697,10341645,10378784,10671086,10762169,11012006,11216515,11247200,11353568,11616366,11807284,11655707,11907860,11937902,12039625,12365064,12616005,12705357,12677663,12554520,12261981,12178352,12316388,12481051,12581277,12638055,12686949,12864950,13222120,13249245,13714634,13720992,13957237,14134952,14314713,14365955,14300101,14439917,14614977,14722392,14900966,15090685,15306157,15388148,15570238,15489874,15636845,16642263,16737016,17028420,17477925,17699553,17792228,17778686,17915817,18064823,18262238,18472397,18683381,18877295,19015248,18925226,18974791,19329951,19561509,19881661,20037508,20037508,19893594,19749333,19849712,19915975,19967414,19980330,19951597,19744103,19432964,19333983,19163650,19002070,18961143,18801913,18511872,18461224,18353994,18205110,18169245,18035686,18039654,18166440,18151526,18048182,18000524,18046836,17852169,17813537,17647583,17614214,17453759,17412594,17364929,17302795,17356313,17450237,17456048,17629036,17827887,18019513,18219626,18309111,18173844,18106995,17824641,17733453,17446066,17167475,17259391,17010937,16838824,16846885,16673846,16535932,16195563,15829388,15468787,15042178,15217564,15272301,15380424,15451660,15573764,15734487,15738263,15651233,15641844,15591622,15423840,15386547,15013591,14865256,14795058,14725127,14575714,14558363,14542778,14542095,14598959,14614975,14585657,14681198,14816303,14891168,14929318,14972561,15031060,14847080,14750577,14581435,14536354,14404499,14210756,14169574,14020283,13922529,13755913,13608334,13470001,13378052,13439133,13440514,13378607,13278120,13279130,13122257,12988624,12855808,12797523,12730770,12567718,12421165,12318838,12178624,12075400,12007830,11898807,11787241,11646421,11541220,11383073,11361847,11230965,11129915,11005210,10889911,10935109,10826906,10665967,10554863,10480459,10364313,10267521,10098199,9885790,9724867,9665799,9522410,9475020,9397188,9343614,9282153,9122185,8968838,8909517,8660758,8518744,8559478,8280480,8173709,8182930,8039955,7923735,7888685,7688633,7588549,7310002,7255641,6839091,6788047,6868411,6761545,6782392,6675555,6855945,6828050,6671689,6639348,6496975,6320495,6202381,5825206,5651317,5421524,5407660,5293183,5204363,5236877,5172621,5267108,5349708,5420672,5409375,5465916]]],[[[10439281,10680091,10896380,11152727,11125243,10882364,10572300,10387542,10302106,10150230,10439281]]],[[[11447853,11730005,11696947,11069403,11272757,11364200,11447853]]],[[[15454604,15748548,16150931,16063402,15653057,15468448,15247919,15307739,15454604]]],[[[16500023,16779372,16650715,16472776,16265913,16292552,16500023]]],[[[15569491,15675087,15814277,15972435,15985907,15817122,15588976,15569491]]],[[[4992340,5209656,5378788,5401534,5465474,5570401,5735506,5692454,5442900,5427374,5297262,5176670,5240081,4992340]]],[[[2530414,2325714,2188612,2213975,2367592,2484174,2533382,2521503,2530414]]],[[[5956515,6223033,6192918,6441907,6809418,7179925,7370572,7587209,7664593,7589826,7195394,6855444,6509639,6343739,6169252,6191905,6404844,6339086,5975338,5945798,5744296,5728028,5841854,5838058,6058854,5956515]]],[[[15909182,15947724,15944877,15990823,16102826,15938048,15869558,15978075,15974934,15890601,15817612,15797006,15809420,15796730,15822484,15827403,15762180,15772028,15874931,15830716,15880258,15909182]]],[[[-19472923,-19482497,-19407421,-19433246,-19131068,-18913134,-19023506,-19205979,-19208734,-19253299,-19357551,-19442385,-19590396,-19615291,-19728336,-19854936,-19915426,-19891246,-20024569,-19974354,-20037508,-20037508,-19764775,-19472923]]],[[[-19892100,-20037508,-20037508,-20023245,-19928897,-19767886,-19777418,-19892100]]],[[[3722077,3751406,3830548,3866350,3880796,3897591,3898496,3952956,4066500,4044761,3922898,3771783,3709880,3734426,3612782,3632444,3739017,3722077]]],[[[1685691,1727962,1891412,2031784,2398248,2118117,2056262,1958600,1905589,1771443,1532044,1633007,1466144,1249261,1162679,1466163,1527138,1685691]]],[[[3462152,3272742,3182839,3229998,3087144,2914302,2859710,2753563,2634047,2488685,2364975,2298256,2229202,2212871,2003068,1973603,1866703,1681860,1509012,1549556,1510818,1400391,1328104,1334950,1406092,1369270,1276642,1227561,1152886,933080,784663,630717,590909,555715,658221,952161,1171939,1375724,1643203,1829639,2135556,2379834,2562991,2732508,2935500,3135374,3483567,3340189,3462152]]],[[[3050989,2885918,2563071,2234759,2214953,2055209,1933398,2277150,2438781,2551359,2832816,3050989]]],[[[2752276,2503610,2307208,2384030,2316770,2547464,2591666,2752276]]],[[[1819514,1872841,1916802,1935567,2055503,2115307,2214671,2214786,2244838,2310837,2300580,2325420,2405157,2460825,2513541,2540786,2595090,2642008,2695185,2785789,2856977,2887811,2948380,2981849,3018918,3118864,3276376,3321666,3375527,3413040,3472211,3554496,3534661,3544165,3487991,3455811,3445301,3414904,3415945,3482382,3547536,3570201,3654632,3626818,3613668,3584864,3487145,3439968,3408915,3345787,3141408,3057346,2940999,2884250,2869886,2802230,2747126,2626476,2559033,2512943,2398133,2303094,2234322,2183688,2136585,2098964,2051021,2045764,2030968,2031589,1995423,2031348,2028437,1955540,1819514],[3225845,3177247,3125221,3064905,3005544,3089048,3128879,3149347,3211389,3264462,3225845]]],[[[-13038602,-12770726,-12781147,-12359091,-12049437,-12049221,-11856370,-11815773,-11692706,-11628096,-11570547,-11478152,-11408021,-11317006,-11238548,-11144194,-11078515,-11054025,-11022855,-10856989,-10813576,-10856775,-10876242,-10884379,-10895102,-10875807,-10841289,-10819067,-10745177,-10719190,-10675637,-10557436,-10511424,-10413788,-10328902,-10175481,-10104678,-10078153,-10069012,-10049769,-9974373,-9856658,-9758090,-9690572,-9663865,-9667642,-9727463,-9753931,-9733414,-9777991,-9806207,-9850675,-9890552,-9910758,-9924233,-9923362,-10130242,-10130326,-10180603,-10097993,-10085640,-10067608,-10070459,-10213336,-10266912,-10251101,-10264016,-10266746,-10392727,-10450135,-10541026,-10603206,-10692613,-10748724,-10910760,-11014804,-11098263,-11224288,-11317417,-11345518,-11407813,-11521677,-11568046,-11687657,-11743431,-11769965,-11732826,-11744279,-11718686,-11718137,-11755690,-11765737,-11803062,-11901164,-12013092,-12067244,-12162789,-12183260,-12166290,-12223042,-12288751,-12316501,-12376380,-12493189,-12498042,-12557906,-12597337,-12595652,-12676159,-12713324,-12776856,-12794694,-12776275,-12765440,-12626307,-12609377,-12594691,-12574905,-12552562,-12518757,-12495050,-12425090,-12388153,-12324181,-12318063,-12264386,-12179365,-12182069,-12228915,-12248638,-12277991,-12350841,-12431110,-12488047,-12484368,-12501257,-12630829,-12645530,-12673605,-12742268,-12807879,-12799765,-12753914,-12712611,-12708457,-12794154,-12859477,-12993380,-13038602]]],[[[-5941528,-5972351,-5923264,-5987647,-6189531,-6230913,-6342542,-6414800,-6266274,-6140637,-5972149,-5969880,-6025729,-6080859,-6043922,-6043864,-6083925,-6125678,-6167182,-6180195,-6190552,-6211400,-6286580,-6332020,-6449534,-6442133,-6475053,-6440255,-6450964,-6420463,-6400689,-6426981,-6487789,-6499728,-6483382,-6696801,-6739612,-6707127,-6708594,-6730287,-6735196,-6799853,-6869882,-6915955,-6991204,-7035002,-7159663,-7280548,-7271600,-7285285,-7273441,-7419099,-7477753,-7575090,-7599921,-7657240,-7740008,-7802800,-7853443,-7846008,-7937348,-8035585,-8077679,-8151560,-8128035,-8189892,-8236221,-8206851,-8206972,-8139684,-8150780,-8122371,-8114292,-7986995,-7895762,-7880837,-7780523,-7727853,-7745283,-7794663,-7794097,-7731405,-7709145,-7705383,-7770612,-7771989,-7555094,-7518274,-7487348,-7465647,-7444638,-7383350,-7296799,-7275253,-7146634,-7133696,-7054181,-7060201,-7154503,-7169957,-7165468,-7215291,-7194429,-7112017,-7023502,-6991368,-6911318,-6786803,-6746092,-6760830,-6702956,-6677049,-6691526,-6653277,-6627744,-6658621,-6676333,-6647838,-6639767,-6571285,-6516644,-6504339,-6418789,-6382594,-6233412,-6223382,-6242055,-6230921,-6185996,-6133435,-6021055,-5986597,-5961697,-5946516,-5893215,-5850554,-5816369,-5750519,-5712598,-5685060,-5622622,-5563088,-5560085,-5643814,-5609189,-5412416,-5408401,-5323849,-5183768,-4998880,-4944546,-4962799,-4833357,-4616715,-4450404,-4285843,-4143673,-4057922,-3962728,-3922385,-3866125,-3910454,-3967088,-4123999,-4194920,-4277326,-4305157,-4336258,-4328357,-4371220,-4406417,-4426154,-4539023,-4557949,-4648052,-4674114,-4795054,-4970171,-5048576,-5173249,-5304259,-5398489,-5414691,-5396182,-5416975,-5442238,-5520036,-5643550,-5741439,-5817120,-5867884,-5941528]]],[[[-7444638,-7465647,-7487348,-7518274,-7555094,-7771989,-7770612,-7705383,-7709145,-7731405,-7794097,-7794663,-7745283,-7727853,-7780523,-7836229,-7869473,-7797675,-7882920,-7949730,-7989929,-8051269,-8134158,-8199738,-8251267,-8286801,-8360831,-8390508,-8492821,-8524443,-8618909,-8646030,-8666785,-8778127,-8793230,-8751696,-8756626,-8730521,-8675299,-8585815,-8626845,-8605842,-8630958,-8607091,-8624662,-8669736,-8655470,-8619591,-8598603,-8624446,-8610936,-8553419,-8469897,-8424057,-8402442,-8338597,-8268450,-8259597,-8172494,-8041519,-7987628,-7948191,-7918985,-7940595,-8012100,-8040336,-8083426,-8115779,-8129395,-8160269,-8102804,-8088529,-8063968,-8055178,-8068400,-8064483,-8037083,-8010570,-7867419,-7802751,-7724401,-7679410,-7599230,-7535782,-7496414,-7516462,-7541305,-7550023,-7527628,-7495983,-7492154,-7548567,-7508175,-7478587,-7444638]]],[[[-9189000,-9232047,-9231408,-9208257,-9224896,-9220567,-9235708,-9296116,-9318718,-9305898,-9309943,-9340805,-9422932,-9430247,-9459447,-9452291,-9474504,-9499948,-9535715,-9550927,-9550289,-9535551,-9566989,-9524701,-9451359,-9425762,-9390459,-9372007,-9339154,-9312500,-9284303,-9189000]]],[[[-9946766,-9913948,-9856364,-9852219,-9803389,-9765335,-9785440,-9849916,-9889982,-9936015,-9997869,-10029391,-10025954,-9966903,-9972817,-9946766]]],[[[-5750519,-5816369,-5850554,-5893215,-5946516,-5961697,-5986597,-6021055,-6069667,-6041275,-6031482,-6012024,-6055729,-6064533,-6006582,-5886813,-5768948,-5750519]]],[[[688658,741190,901607,845324,831195,800632,749911,753489,672079,670433,723587,761825,757234,789995,751401,780078,840417,827680,726832,507278,345136,332399,203357,78100,37631,-167287,-211657,-154091,-132892,-247766,-329870,-499997,-511218,-366888,-179949,-215235,-110147,149030,182452,279809,295934,347678,399434,477117,534246,656535,688658]]],[[[973601,1045290,1064216,1027451,976909,951137,973601]]],[[[-7378526,-7321627,-7301557,-7330072,-7478906,-7485392,-7469613,-7378526]]],[[[-8635008,-8560092,-8500952,-8482507,-8560753,-8594570,-8656874,-8720515,-8707157,-8660363,-8635008]]],[[[-9158048,-8974440,-8869884,-8825574,-8721596,-8518593,-8481946,-8415555,-8423663,-8341603,-8257459,-8270665,-8344686,-8419614,-8496310,-8655700,-8581075,-8626442,-8698203,-8736668,-8763055,-8825965,-8929768,-8963170,-9108265,-9147121,-9105377,-9214570,-9294560,-9340684,-9356642,-9411732,-9459363,-9400603,-9376480,-9326151,-9269300,-9185019,-9158048]]],[[[3472211,3413040,3375527,3321666,3276376,3205406,3119324,3086580,3086304,3038633,2912651,2877652,2855251,2812400,2936823,2972984,3010571,3072222,3169032,3208881,3222416,3285798,3370114,3377316,3470169,3521758,3545752,3598763,3656582,3656829,3635125,3630350,3648241,3635665,3618851,3589495,3472211]]],[[[299638,303211,324196,412487,400757,422692,397657,409726,441635,457294,486281,605918,717501,759248,816054,868812,1003537,1060310,1125975,1191233,1223355,1283269,1369460,1456502,1482631,1557955,1578659,1622724,1610591,1604712,1510933,1465810,1442196,1419732,1360198,1342952,1317945,1307533,1231058,1168562,1126361,1060062,1027830,974884,946247,830678,788431,745625,656581,596984,560334,481524,299638]]],[[[2649,-5542,40918,40731,51339,79262,54653,63494,118012,-56509,-118402,-218710,-317942,-312885,-361161,-332131,-285221,-329939,-327324,-133957,-84778,-48836,2649]]],[[[3976323,3956925,3916657,3893359,3921328,3892898,3888101,3940438,3943038,3887566,3814410,3846797,3839198,3868640,3891219,3907142,3947468,3957719,3987586,3989289,3976323]]],[[[14045709,14052676,14102367,14145736,14271798,14287825,14383916,14411471,14412345,14370386,14269583,14180602,14080329,14067880,14088509,14039324,14122006,14045709]]],[[[10834404,10842803,10803777,10812907,10733354,10589240,10592623,10531185,10525553,10475914,10388912,10384586,10359424,10371205,10316280,10257649,10226913,10208718,10147769,10182141,10231941,10283271,10219084,10115848,10009925,10000106,9946963,9858793,9819468,9899815,9830220,9805513,9874032,9855088,9893665,9910992,9895052,9819325,9682091,9688488,9629063,9468865,9344270,9260581,9149659,9149487,8993724,8941726,8908349,8931527,8937429,8890258,8889751,8832145,8781476,8815359,8713860,8676370,8631701,8526291,8432058,8393055,8333913,8287052,8185789,8106386,8106783,8085194,7923195,7844735,7699315,7752837,7719961,7589389,7663523,7908497,7886395,7823853,7811169,7738306,7860992,7990253,8106702,8176487,8284550,8282830,8377753,8287909,8209806,8264381,8433237,8557320,8664825,8784473,8773210,8817493,8813846,8733954,8765173,8874541,9029263,8958627,8915402,9023246,9128196,9273386,9425979,9490184,9710117,9802820,9815574,9800916,9809522,9877414,9889138,9990315,10060306,10154287,10245120,10252938,10207625,10297400,10398726,10527037,10620414,10699771,10751970,10714371,10834404]]],[[[9809522,9800916,9815574,9802820,9710117,9490184,9425979,9273386,9128196,9023246,8915402,8958627,9075411,9164656,9277045,9339593,9376950,9463452,9553808,9679732,9809522]]],[[[8664825,8557320,8433237,8264381,8209806,8287909,8377753,8282830,8284550,8176487,8106702,7990253,7860992,7738306,7811169,7823853,7886395,7908497,7663523,7589389,7507794,7474596,7388589,7183492,7002630,6845855,6887803,7048375,7039165,6985902,6982830,6876412,6831600,6776490,6963018,7074382,7140922,7163455,7240983,7385655,7389550,7451603,7534480,7546647,7631722,7672882,7716418,7710268,7757537,7828386,7784632,7890526,7921135,7916487,7971931,7959206,7932888,7997892,8117420,8245162,8301750,8366553,8448803,8481749,8664825]]],[[[5406561,5344957,5343858,5308301,5326548,5269270,5132870,5055762,5081563,5137593,5129194,5056200,4984070,4923188,4944967,4910216,4986444,5004110,5060330,5136684,5176993,5308278,5350025,5382912,5344531,5413953,5441658,5476875,5582424,5659744,5818004,5991859,6002524,6100341,6179520,6253970,6302839,6381994,6505082,6593983,6721207,6804189,6813956,6737993,6786448,6738845,6775311,6784026,6868336,6877454,6776490,6831600,6876412,6982830,6985902,7039165,7048375,6887803,6845855,6515057,6389432,6341956,6288676,6203135,6090855,5954824,5842447,5735265,5660924,5578777,5518869,5448124,5406561]]],[[[1227561,1276642,1369270,1406092,1334950,1328104,1400391,1510818,1549556,1509012,1681860,1866703,1973603,2003068,2212871,2229202,2298256,2446639,2620402,2623341,2660911,2469419,2361477,2378856,2201774,1986805,1905740,1984976,2091439,1989193,1873416,1830950,1767729,1632687,1569685,1440798,1405419,1312227,1227561]]],[[[2614241,2619073,2649953,2649314,2582555,2616898,2619021,2675005,2663069,2607826,2506742,2535459,2405370,2325236,2272680,2206911,2150771,2105004,2047489,1964727,1954165,1877822,1861203,1800732,1807675,1724447,1671684,1626054,1634729,1607186,1566768,1597803,1571796,1647851,1961764,2072864,2081257,2188612,2325714,2530414,2587508,2614241]]],[[[1890167,1881717,1819025,1840586,1803631,1782410,1685053,1628879,1536929,1377744,1352875,1242862,1229919,1162476,1105675,1055305,1072333,1068024,1101625,1157954,1173808,1271982,1351569,1404936,1439653,1450031,1434251,1474243,1513493,1596198,1658821,1698002,1784412,1836691,1888010,1879071,1890167]]],[[[2458558,2520364,2528124,2460134,2407452,2340153,2250901,2181421,2054519,1962570,1879352,1843986,1822356,1803631,1840586,1819025,1881717,1890167,1946807,1987846,2081286,2090248,2134480,2188692,2200727,2253001,2279106,2315589,2434806,2458558]]],[[[1571796,1597803,1566768,1607186,1634729,1626054,1671684,1622004,1592649,1564732,1484794,1443461,1362562,1382052,1393834,1450640,1513493,1474243,1434251,1450031,1439653,1404936,1351569,1271982,1173808,1157954,1101625,1068024,948732,925877,831195,845324,901607,741190,688658,694939,672711,685356,666654,733528,761744,789483,768676,790415,883458,904104,979693,954243,949135,1033272,1104501,1106468,1218960,1217775,1330963,1393546,1519229,1571796]]],[[[4984071,4930724,4891629,4762150,4714334,4587708,4527726,4399633,4308052,4248811,4126252,4089821,4083798,4024173,3983243,4025404,3957512,3864406,3787856,3618902,3528782,3408783,3383121,3306186,3198532,3077002,3011055,2929730,2983885,2913318,3036797,3208225,3254982,3467149,3600960,3730681,3914850,4109150,4268842,4398523,4494349,4625779,4744386,4851609,4870523,4859812,4942586,4986444,4910216,4944967,4923188,4984071]]],[[[2907335,3020736,3116580,3129805,3226978,3206718,3074534,2934160,2899132,2900645,2927101,2961565,2907335]]],[[[1068024,1072333,1055305,1105675,1162476,1153645,1104605,1022233,998124,945097,925802,863393,809721,761825,723587,670433,672079,753489,749911,800632,831195,925877,948732,1068024]]],[[[672711,694939,688658,656535,631632,643695,672711]]],[[[685356,672711,643695,631632,534246,477117,399434,347678,295934,279809,369020,450517,553702,624165,685356]]],[[[-829744,-839026,-797772,-782496,-820880,-790149,-834743,-786649,-782176,-764099,-762663,-711229,-742345,-807212,-826270,-892022,-919928,-965356,-1005751,-1000142,-1045611,-888128,-751906,-602448,-483999,-391569,-211657,-167287,37631,78100,203357,332399,338353,232862,90227,80298,11876,-31026,12388,-51999,-76074,-160119,-238942,-486343,-556065,-598582,-653048,-694265,-725824,-829744]]],[[[-689945,-671588,-755732,-953074,-1110644,-1020385,-1078521,-842929,-819982,-842929,-774085,-689945]]],[[[19690839,19593615,19507579,19488469,19442057,19506250,19469796,19350004,19353145,19433578,19452354,19447182,19402099,19405102,19351891,19264302,19217752,19259055,19319642,19406258,19437719,19518382,19520718,19570955,19587609,19677188,19752398,19816022,19872431,19845452,19811581,19726592,19696868,19707217,19690839]]],[[[18887334,18982747,19049557,19099053,19141242,19157775,19235849,19285793,19364961,19397152,19397256,19283067,19226128,19267190,19181303,19086052,19056242,18992963,18849988,18747466,18675374,18554386,18535713,18595522,18735489,18807362,18887334]]],[[[16440693,16507463,16515344,16477210,16465716,16426812,16349531,16258031,16189408,16174175,16109942,16112801,16185628,16293179,16440693]]],[[[14042810,13924801,13828290,13806839,13765731,13671262,13601356,13502964,13346505,13280292,13247836,13138479,12982647,12864564,12804725,12807153,12862424,12881298,12877369,12890980,12878508,12819653,12801412,12806198,12761886,12759050,12709744,12695863,12632257,12616834,12665748,12628190,12683397,12716342,12714484,12659392,12648715,12622909,12634989,12657804,12672991,12661095,12707092,12715503,12762530,12852967,12907202,12992277,13042894,13073532,13161254,13228772,13245662,13275126,13336656,13453652,13514170,13542588,13607879,13615795,13693697,13740586,13787959,13748318,13783253,13832369,13845887,13906715,13933557,13989530,13991278,14040187,14042154,14144907,14227146,14288935,14429396,14405810,14459137,14509322,14491961,14540306,14607732,14664683,14758214,14756201,14674658,14733938,14807669,14866812,14960567,14992356,15061359,15126392,15168213,15194272,15245384,15215718,15173448,15135193,15148091,15075849,15083811,15172309,15258046,15395843,15427229,15485492,15502416,15608689,15682184,15726560,15740378,15774214,15758763,15766794,15753919,15768508,15789856,15772523,15820557,15823365,15864726,15896123,15903855,15931594,15936345,15976809,15985162,15981227,16021334,16092759,16129627,16183040,16171604,16195345,16212240,16240278,16270491,16259733,16295779,16416405,16569729,16555152,16618822,16662116,16706537,16751684,16778882,16798061,16928748,17015762,17047039,17049910,17042224,17095275,17088889,17039589,17041856,17019812,16970656,16888181,16847533,16810418,16777421,16734460,16706296,16691926,16697621,16633790,16509195,16406459,16288036,16195833,16127631,16144912,16084072,15986589,15827219,15763572,15655814,15583855,15563198,15537323,15482627,15375531,15412123,15385195,15330827,15231779,15289996,15306862,15349857,15340975,15250418,15180869,15138231,15051309,15054760,14985097,14926374,14947302,14804465,14726241,14619180,14419858,14149026,14042810]]],[[[13556244,13489209,13441503,13382838,13370159,13435670,13524766,13575550,13556244]]],[[[1162476,1229919,1242862,1352875,1377744,1536929,1524866,1551529,1462916,1372411,1378566,1364938,1401427,1505808,1561792,1685663,1772895,1800024,1768793,1950224,2045683,2057211,2036410,1974627,1877914,1831065,1911521,1898313,1851809,1792350,1745944,1746376,1769087,1793282,1715835,1669624,1636760,1565226,1517060,1434694,1347709,1245877,1170184,1135462,1080076,989512,938263,873943,827680,840417,780078,751401,789995,757234,761825,809721,863393,925802,945097,998124,1022233,1104605,1153645,1162476]]],[[[1643214,1727720,1687630,1704290,1680923,1595790,1539184,1383813,1399391,1529658,1643214]]],[[[969591,1025253,1092041,1076405,1025788,980383,938234,933776,908366,969591]]],[[[1104501,1033272,949135,903948,900572,951051,1049127,1088210,1177760,1173987,1141024,1154382,1214738,1187534,1154382,1074231,1104501]]],[[[1377122,1412645,1345851,1229361,1213818,1377122]]],[[[-689945,-774085,-842929,-819982,-842929,-749608,-630285,-689945]]],[[[-344403,-327836,-404090,-539250,-565784,-525329,-561938,-621874,-628398,-684612,-644186,-557710,-468821,-334515,-453496,-340081,-218106,-247127,-347205,-232102,-124120,-47921,20592,52317,187187,173657,116947,161398,61262,-87666,-277185,-329090,-402692,-505669,-583873,-643044,-479785,-380139,-554857,-586352,-470029,-530995,-509843,-344403]]],[[[13451167,13394343,13489710,13528367,13498845,13451167]]],[[[13646220,13674161,13686443,13747829,13729898,13812292,13801661,13761669,13726797,13691839,13623285,13646220]]],[[[14068202,14086081,14048160,14007489,13955440,13990985,13959075,13828083,13796795,13830741,13760225,13725255,13672872,13590495,13572064,13615749,13685885,13746586,13785934,13870572,13888733,13967411,13960813,14051048,14068202]]],[[[13191869,13043780,13098349,13178770,13245610,13303958,13323793,13250298,13191869]]],[[[13618487,13600378,13638380,13609064,13543439,13525882,13550791,13609801,13659043,13798083,13787487,13823797,13812235,13725474,13684354,13655712,13584835,13483727,13428318,13433967,13468747,13435520,13421139,13366178,13349536,13345400,13390230,13401758,13438028,13505426,13574031,13608363,13618487]]],[[[13585249,13568014,13634836,13705679,13703522,13651967,13581268,13577345,13585249]]],[[[13970880,14002151,13916259,13918583,13945821,13892874,13888238,13854723,13837293,13902803,13901354,13833312,13940218,13970880]]],[[[11141495,11160847,11251674,11260436,11333914,11370304,11395903,11461644,11508344,11514729,11502879,11521839,11561049,11604826,11602698,11523761,11418442,11286754,11273718,11209364,11193999,11153846,11166041,11141495]]],[[[13122568,13026074,12898090,12859524,12816662,12759590,12668809,12563496,12510112,12445246,12374178,12302368,12226244,12207658,12289241,12375260,12397660,12445177,12578614,12713132,12763847,12787220,12840420,12851914,12937633,12993779,13038810,13096002,13101087,13267268,13259341,13184650,13204531,13122568]]],[[[3182839,3166587,3337071,3234342,3363813,3288870,3389086,3343578,3508355,3466487,3124737,2922712,2726951,2545842,2481396,2373581,2398363,2344300,2397379,2498314,2752987,2827299,2815719,2660911,2623341,2620402,2446639,2298256,2364975,2488685,2634047,2753563,2859710,2914302,3087144,3229998,3182839]]],[[[15794521,15691538,15693419,15651494,15670898,15612923,15470684,15274993,15116405,15041598,15036973,14843376,14711624,14581310,14694176,14619899,14547934,14494067,14521368,14450905,14405684,14510933,14569322,14681285,14762931,14984527,15103554,15220027,15294252,15520876,15590827,15571746,15618768,15737122,15797823,15794521]]],[[[16098293,16177040,16201787,16036648,15939153,15764119,15703538,15579731,15564417,15619470,15738410,15770849,15803765,15934591,16020005,16098293]]],[[[14735491,14797073,14860369,14906136,14987881,15002124,14939455,14893763,14836691,14807146,14734594,14735491]]],[[[3891288,4015176,4063296,4089936,4174879,4193195,4230012,4119062,4342004,4363219,4497306,4663171,4977038,5283203,5310924,5389654,5433236,5488001,5507076,5582942,5589678,5578587,5592675,5624682,5656155,5689808,5720664,5788695,6123329,6145764,6196784,6122569,5788614,5467642,5363745,5283968,5232016,5204185,5161512,5053904,5033494,4905027,4874849,4829127,4799628,4811047,4762173,4747728,4714156,4705573,4648076,4588744,4557346,4480348,4430703,4356978,4344097,4348843,4284995,4232796,4172659,4136055,4142141,4111209,4078702,4035235,3910674,3855254,3891288]]],[[[3774143,3425285,3319716,3292771,3293703,3319491,3325756,3349175,3391738,3434503,3470290,3425673,3432408,3478239,3549026,3638635,3716957,3785419,3838199,3851216,3900188,3859680,3773014,3774143]]],[[[-6866186,-6802177,-6778800,-6783253,-6876204,-6896242,-6863959,-6866186]]]],\"__y__\":[[[[6274861,6275292,6443602,6518731,6591385,6748906,6859944,6937877,7087560,7224807,7323683,7417376,7541678,7669121,8054002,8150427,8239096,8352640,8281334,8159882,8302885,8399737,8461628,8468270,10975619,10898690,10747687,10719187,10849380,10948522,10909593,11050678,11132051,10997250,11072902,11228051,11192613,10901725,11120467,10876084,10928180,11021856,11003214,10869181,10754291,10701731,10721621,10566570,10418117,10354945,10389623,10441365,10265593,10413605,10540234,10644120,10658227,10688941,10615829,10452348,10476106,10342857,10389487,10382415,10568094,10621136,10518505,10240151,10474003,10465991,10772262,10967184,11097993,11469216,11724617,11667333,11512130,11131263,10971758,10907151,10589617,10831632,10632252,10409472,10212906,10423697,10684190,11030453,11005668,10958388,10801301,10647714,10486493,10328316,10187692,9990399,9947623,10031354,9892257,9664693,9549518,9374941,9358080,9251454,9090500,9059925,8864999,8602588,8424315,8169333,8133442,7934975,7777939,7818528,7729871,7652880,7558244,7503633,7420817,7409540,7390705,7223797,7034406,6828722,6658243,6716288,6902401,7196990,7297642,7388393,7526116,7665509,7801647,7978267,8138268,8366995,8570439,8935335,8990878,8925459,8902215,8965150,8884099,8747461,8657387,8639937,8449162,8171176,8137511,8011997,8130262,8371008,8474833,8276670,7753468,7626289,7513849,7401573,7351294,7289712,7128660,7103675,7033164,6826683,6695875,6632675,6488425,6460221,6496823,6498079,6486024,6362112,6286468,6064516,5913021,5939799,6156910,6297475,6314451,6231278,6118649,5940926,5818650,5738625,5761742,5943368,5825758,5767602,5663376,5569740,5506625,5395333,5406618,5537704,5667614,5662437,5643198,5732851,5952912,6000189,5972323,6015472,5892118,5766738,5694232,5669703,5661755,5622812,5621597,5592671,5468299,5408174,5407606,5383224,5353159,5291235,5215993,5192342,5112435,5112435,5135965,5157337,5225610,5308928,5399305,5676397,5751054,5779497,5799106,5799106,5824595,5862817,5846098,5851077,5867097,5883039,5925780,6157398,6110150,6108518,6151891,6130177,6182047,6219176,6247756,6341134,6340313,6274861,6274861]]],[[[8967316,9079216,9076891,9029687,8896995,8902501,8967316]]],[[[12048852,12251558,12392776,12419207,12376441,12162689,12057700,12076679,12026037,12048852]]],[[[8879460,8951159,8945904,8896865,8772659,8792606,8863053,8879460]]],[[[12923645,12759195,12790491,12901186,13096783,13216659,13061012,12923645]]],[[[14116615,14101870,14134728,14280737,14273016,14175779,14116615]]],[[[14792185,14596596,14399243,14289178,14413198,14618696,14853105,14830106,14792185]]],[[[12675906,12727098,12862827,13100749,13323244,13525585,13583325,13732053,13934446,13902706,13744313,13745395,13587228,13411165,13307343,13200041,13180372,13143067,13240046,13278514,13246709,13078737,12899262,12786467,12696689,12747340,12683244,12675906]]],[[[14451098,14366716,14208445,14059802,14226856,14396074,14451098]]],[[[14814295,14699235,14590281,14590825,14670336,14840465,14814295]]],[[[6677573,6413834,6472314,6435167,6375078,6328140,6369853,6317241,6193263,6222053,6133041,6029931,5886022,5879990,5910638,6044727,6065741,5923322,5928980,6005894,6045939,6036077,6041117,6090143,6148802,6194340,6296196,6571610,6672296,6733874,6726019,6677573]]],[[[9637304,9547184,9466293,9344588,9364377,9280518,9201807,9261868,9375681,9241328,9113105,9258240,9234211,9358869,9561880,9805715,9783672,9665901,9706986,9637304]]],[[[11881266,12028819,11841546,11669821,11516354,11595440,11374977,11241788,11108523,10808836,10664419,10466984,10401839,10135710,10116887,9920843,9608020,9721495,9983865,9949124,9792456,9636997,9516363,9447628,9197252,9020802,9086801,9285471,8925860,8842775,8937854,9078389,9198472,9268962,9524341,9449265,9408294,9496761,9690289,9695028,9729190,9825518,9962369,10237612,10366324,10467662,10613821,10718166,10796842,10994117,11012475,11123249,11027119,10985638,11057864,11153872,11203737,11321393,11477290,11478800,11838406,12172954,12331490,12436783,12183696,11948413,12254313,12415718,12016416,11775522,11881266]]],[[[12570253,12556065,12457935,12110637,12037224,11762050,11775513,12100777,12292144,12460211,12570253]]],[[[13430866,13787381,14112610,14105457,14181476,13793485,13625555,13602246,13401551,13331173,13430866]]],[[[7177737,7192916,6980153,6832816,6833167,6916629,7001519,7059474,7142002,7202413,7177737]]],[[[15105775,15024585,14812014,14544924,14319369,14378857,14555095,14575569,14741873,14879926,15105775]]],[[[6192125,6168773,6245220,6305458,6365274,6414297,6445402,6540173,6580823,6515996,6497525,6355893,6285470,6192125]]],[[[12699376,12613740,12590998,12473704,12306906,12208898,11943176,11688653,11534727,11368724,11519540,11706047,12132073,12387551,12634842,12699376]]],[[[13306317,13382921,13362954,13141774,12934510,12868040,12686114,12676718,12813020,13002507,12950949,13028511,13469246,13601150,13442380,13172784,13138978,13577838,13753017,13696807,13470483,13306317]]],[[[12152481,11999967,11645407,11399868,11232691,11076635,10934799,10909173,10788045,10674433,10722886,10806929,10787920,10682787,10608012,10753098,10838321,10803238,11055709,11090410,11146394,11131618,11189024,11266869,11240261,11246978,11371296,11508825,11503971,11596026,11865011,12012444,12244346,12169880,11992563,12106518,11917432,12108694,11985317,11628586,11776814,12157653,12213937,12152481]]],[[[12012422,12261975,12452795,12369112,12419319,12304875,12119869,11958017,11631808,11496217,11525245,11659555,11939471,12059062,12012422]]],[[[12355934,12371723,12285341,12032718,12300963,12355934]]],[[[13716975,13496148,13260011,12932243,12888278,12956960,13213755,13179305,13533759,13519058,13681375,13653600,13716975]]],[[[15936840,16148162,16197646,16362416,16399609,16019945,15873741,15747171,15324335,15126981,14950364,14524315,14485007,14555151,14783721,14994088,15153023,15148422,15352317,15640649,15936840]]],[[[16883793,17036146,17062481,17195423,17511885,17466545,17228979,17695287,17840206,17942290,17981030,17880676,18038573,17847548,17731211,17491312,17263766,16910264,16751715,16580847,16584735,16143029,15946732,15411750,15308323,15183333,15118678,15043748,14938531,14656474,14467387,14315313,14110741,13958684,13845861,13865008,13745120,13459496,13589334,13516069,13573181,13598066,13830444,13942939,14315361,14352760,14126272,14465778,14570861,14788105,14925587,15132115,15371793,15701946,15673679,15603136,15843497,15921634,15878433,16111917,16401521,16619901,16883793]]],[[[10283797,10198599,10184244,10325667,10491286,10532879,10450076,10323895,10283797]]],[[[10904727,10784320,10675729,10769459,10735489,10876192,10974987,11115596,10965363,10904727]]],[[[6424317,6438863,6395585,6323964,6292706,6289665,6343125,6424317]]],[[[5947953,5868931,5847244,5851649,5785701,5775251,5843496,5897703,5947953]]],[[[6274861,6274861,6340313,6341134,6247756,6219176,6182047,6130177,6151891,6108518,6110150,6157398,5925780,5883039,5867097,5851077,5846098,5862817,5824595,5799106,5799106,5779497,5751054,5676397,5399305,5308928,5172970,5157337,5135965,5112435,5112435,5192342,5215993,5291235,5353159,5383224,5407606,5408174,5468299,5592671,5621597,5622812,5661755,5669703,5694232,5766738,5892118,6015472,5972323,6000189,5952912,5732851,5643198,5591612,5515906,5416677,5291491,5211293,5131813,5128081,5182724,5149426,5106783,5082658,5085548,5059656,5044942,5002184,5029980,5002022,4957918,4957625,4975646,4934991,4928280,4823782,4713014,4749843,4757322,4793331,4715943,4690497,4636672,4469381,4474934,4570536,4624618,4743180,4681302,4591194,4613384,4567840,4434424,4424795,4238978,4137892,4097761,4018798,4010197,3961052,3916346,3830358,3767682,3690088,3597732,3508116,3398576,3308630,3254017,3108487,2976405,2901088,2885574,2900485,2954561,2982988,3185457,3234638,3318494,3388379,3495397,3515123,3456865,3463266,3523181,3555070,3538861,3553121,3544231,3524132,3489956,3437987,3412746,3395976,3414796,3390600,3394564,3462098,3446131,3475783,3466792,3436882,3342421,3287795,3227557,3171028,3084794,3025113,2982988,2979277,3044979,3103496,3191101,3262849,3424191,3475212,3472737,3371828,3410056,3448647,3586604,3684799,3731130,3731174,3677273,3676295,3832461,3858307,3833789,3901441,3978056,3994065,4032533,4039280,4075690,4088997,4110811,4185218,4322870,4516296,4548871,4595501,4714749,4832139,4911560,5033312,5160925,5276420,5420423,5704301,5920025,6060426,6137592,6170259,6113511,5957757,6001034,6136852,6274861]]],[[[2282480,2256346,2214920,2164766,2145071,2161929,2194874,2237873,2270340,2293649,2304712,2282480]]],[[[2363765,2349476,2340965,2383147,2393367,2382038,2363765]]],[[[2412977,2400075,2403540,2418080,2412977]]],[[[2477576,2430335,2423435,2429172,2461067,2477576]]],[[[2537350,2509364,2497482,2519370,2539905,2537350]]],[[[8485770,8465398,8379724,8345268,8386704,8447328,8485770]]],[[[7960801,7946638,7881897,7783832,7706081,7758636,7854973,7928883,7960801]]],[[[10975618,8468270,8461628,8399737,8302885,8159882,8281334,8352640,8239096,8150427,8054002,7669121,7541678,7417376,7323678,7396665,7459079,7632426,7796769,7993214,8006854,8012028,8073092,8297536,8418563,8399555,8502557,8599386,8551120,8394914,8380654,8334495,8260400,8214142,8343178,8563133,8633539,8691425,8563451,8413478,8256483,8151206,7998129,7910351,7847025,7756028,7651265,7557251,7472634,7487787,7366561,7301881,7247076,7279282,7369522,7429709,7537538,7560019,7642092,7763527,7804585,7877525,8036607,8162875,8097806,8134659,8056958,8165572,8088566,8195775,8109579,8109756,8238304,8318615,8397450,8354913,8459532,8513603,8642810,8741549,8876947,9010840,9136233,9154263,9114845,9234385,9212901,9290616,9406568,9452792,9552907,9549937,9493272,9436274,9493198,9464179,9526319,9631826,9787106,9901059,10036485,10036485,9898008,9908699,10081127,10189299,10333920,10459719,10554478,10714548,10724599,10867050,11022674,11178083,11216016,11365323,11342604,11525723,11452990,11299257,11364761,11344391,11266871,11210140,11243454,11138739,11107888,11065458,11118537,11020695,10975618]]],[[[9294750,9246953,9272725,9206750,9173574,9146645,9094596,9148087,9193002,9178601,9200464,9294750]]],[[[-289546,-1019310,-926881,-904261,-936306,-939766,-848282,-817109,-695210,-601275,-506650,-497314,-394194,-448409,-458248,-417331,-368871,-314109,-273976,-276141,-246583,-246358,-180045,-159484,-104391,-77420,-41137,-86855,-128233,-308384,-375112,-256888,-189662,-189570,-268253,-289546]]],[[[-993939,-1016164,-1050358,-1134718,-1159604,-1146028,-1107589,-1038722,-993939]]],[[[-769433,-685089,-607053,-639774,-693144,-769433]]],[[[460990,360246,254732,203486,100438,87304,11407,-89472,-165624,-276550,-447060,-407376,-457579,-389381,-383076,-347352,-387450,-333491,-339620,-326757,-177340,-146387,-51152,46239,149397,223404,148974,86067,108706,100686,156989,166752,135547,159280,314212,352978,479856,479804,460990]]],[[[-312058,-344563,-429848,-383872,-374542,-381906,-377976,-316683,-312058]]],[[[-422318,-401836,-353873,-348527,-385295,-422318]]],[[[242133,181311,171542,126064,28774,39675,-28061,-86832,-100191,-29677,112630,201598,242133]]],[[[97429,102095,182951,158071,47631,26226,47994,42437,26410,-57848,-156854,-106422,-68537,-119810,-103637,-168875,-212045,-354853,-393150,-521967,-595376,-628253,-588928,-497452,-540694,-509778,-466675,-401248,-292610,-326487,-616358,-632594,-599767,-496922,-389237,-388413,-312041,-239070,-150645,17171,63060,145754,112877,97429]]],[[[-1148138,-1068957,-1046767,-1081145,-1115462,-1145981,-1148138]]],[[[-953841,-945273,-904058,-966570,-998545,-984659,-943499,-920109,-953841]]],[[[-934218,-925027,-972878,-1010630,-1009733,-944883,-943999,-904220,-934218]]],[[[-716393,-756252,-767429,-721233,-775130,-847870,-868349,-935166,-978058,-932707,-935771,-927439,-907248,-864320,-853192,-867240,-821001,-772760,-764520,-657492,-664102,-707855,-716393]]],[[[-120771,-198444,-260607,-270458,-340997,-479740,-652617,-654959,-561475,-470222,-402591,-311793,-228282,-72397,20387,116099,203026,273170,368537,431007,554040,610942,584835,475592,353545,233754,232007,155718,62491,11637,-79255,-117917,-120771]]],[[[-6916017,-7001516,-7141799,-7255845,-7303858,-7400779,-7410537,-7341864,-7336579,-6916017]]],[[[-3531382,-3769153,-3900689,-3930290,-4086888,-4203092,-4297510,-4357616,-4425395,-4605433,-4681674,-4711424,-4697022,-4782604,-4891053,-4964800,-5016584,-5036974,-4983280,-5021832,-5169671,-5214910,-5167525,-5245711,-5292745,-5387680,-5543360,-5627314,-5627762,-5708828,-5828841,-5947613,-5980702,-6129058,-6223661,-6423735,-6492160,-6574113,-6758843,-6863656,-6825979,-6801756,-6696989,-6564358,-6575686,-6512135,-6329067,-6254290,-6147584,-6063465,-5923296,-5710233,-5617380,-5587618,-5528725,-5497558,-5432633,-5374367,-5199237,-5168679,-4987643,-4709649,-4657842,-4519817,-4391560,-4301321,-4186964,-4054823,-3931714,-3907416,-3680243,-3546856,-3422558,-3306985,-3188742,-3110901,-3062000,-3022014,-2816724,-2756491,-2630367,-2600114,-2491403,-2520635,-2607619,-2510762,-2515726,-2541450,-2738879,-2757404,-2847699,-2895697,-2950074,-3138937,-3173021,-3192168,-3172010,-3076297,-2966822,-2943161,-3014554,-3113913,-3234094,-3356919,-3531382]]],[[[-6916017,-7336579,-7341864,-7420551,-7481526,-7459332,-7400472,-7372320,-7264493,-7162115,-6952994,-6991776,-7116439,-7184246,-7097732,-6970287,-6894388,-6916017]]],[[[-1988447,-2068018,-2152779,-2202684,-2317230,-2450922,-2616657,-2600114,-2630367,-2756491,-2816724,-3022014,-3062000,-3110901,-3188742,-3306985,-3422558,-3546856,-3680243,-3907416,-3931714,-4054823,-4186964,-4301321,-4391560,-4519817,-4657842,-4709649,-4987643,-5168679,-5199237,-5374367,-5432633,-5497558,-5528725,-5587618,-5617380,-5710233,-5923296,-6063465,-6147584,-6254290,-6329067,-6512135,-6575686,-6564358,-6696989,-6801756,-6825979,-6854450,-6853087,-6897980,-6964374,-7138639,-7143017,-7081905,-6952548,-6847774,-6733383,-6628973,-6512062,-6219687,-6059061,-5932164,-5884748,-5742606,-5481402,-5536120,-5218578,-5178601,-5367813,-5346275,-4857548,-4758794,-4619465,-4460913,-4456374,-4233247,-4016601,-3818424,-3622447,-3515854,-3358022,-3203709,-2962703,-2438839,-2244203,-2078318,-2048401,-1988447]]],[[[-521194,-409616,-344923,-105758,12224,131025,212196,340101,396061,473529,613870,595110,532386,495632,495632,400858,402806,389943,381168,427652,474325,436611,436591,310093,-95547,-187405,-231879,-278363,-286531,-365068,-410067,-484318,-521194]]],[[[11436139,11580955,11345139,11327850,11436139]]],[[[5844574,5749361,5723082,5560206,5413000,5309929,5132393,5072385,5034701,5044806,5135120,5140132,5174836,5236593,5268236,5244475,5272606,5345564,5370321,5396542,5378419,5508875,5567716,5660125,5685429,5819033,5882953,5949381,5985167,5958770,6031721,6077893,6090058,6145607,6238259,6327187,6377469,6433550,6431682,6513037,6485436,6546842,6581403,6658093,6666701,6722103,6758443,6860939,6843358,6852494,6811207,6818531,6935426,6996696,7014028,7007586,7048267,7098147,7131244,7165354,7199957,7325420,7377708,7469542,7516617,7493018,7542177,7592158,7711085,7810207,7857733,7923728,8121092,8245692,8283849,8405985,8512704,8944460,9067880,9237104,9401873,9594864,9823945,10140203,10357920,10556210,10770937,10799705,10926392,11038173,10845064,10770515,10426938,10287536,10096932,9950079,9876717,10087907,10052148,9849571,9455777,9377612,9311732,9435273,9546600,9646197,9483262,9546600,9740469,10008418,9992358,9895778,10086985,10257207,10432306,10618744,10521692,10355478,10319372,10158922,10062018,10123244,10306508,10446602,10706627,10691450,10507081,10475888,10578603,10586974,10713865,10530241,10732387,10914256,11020068,10922976,10824125,10474489,10632420,10795776,10862430,10893483,11045558,11303461,11412184,11729630,12064102,12138725,12038840,11832930,11543583,11433180,11197232,10757266,10569292,10370282,9964980,9924264,10024177,10096333,10237530,10376183,10545463,10747426,10773020,10948586,11277518,11556931,11796984,12059919,12068485,11862341,11517995,11454745,11707951,11850126,11869503,11663724,11966509,12374965,12455240,12437618,12490102,12703837,12982511,12994440,13213418,13273536,13398774,13441758,13338242,13585941,13578056,13786099,13997952,14208918,14041780,13917441,13841330,13601688,13718598,13712130,13480086,13307283,13074755,12945960,12710929,12588641,12531719,12430370,12506234,12252283,12353915,12416473,12351094,12169324,12112529,12409387,12340182,12342341,12138232,11898380,11745983,11468602,11329829,11694471,11535710,11630127,11522195,11620507,11571171,11904814,12066386,11825622,11612882,11348537,11413020,11356853,11217862,10978824,10887988,10953196,10961581,10898998,10934231,10656327,10755021,10956627,11100370,11009551,11028880,10876182,10739500,9603028,9486922,9505920,9369072,9162302,9095990,8995325,8931612,8983967,8804610,8777236,8614351,8474968,8373462,8528554,8352810,8435446,8340222,8370565,8226134,8018597,7933597,7886878,7590181,7582778,7417509,7333802,7235639,7020556,6975358,6789769,6623248,6746062,7012453,7436170,7712830,7835028,7932116,7979037,8248734,8476502,8658247,8990897,8970559,8774866,8521914,8805742,8726261,8346095,8211782,8155324,8133178,8290118,8323485,8216022,8253447,8189033,7778136,7309560,7285300,7165862,7123893,7218513,7206161,6999583,6843413,6663798,6454164,6181495,5942016,5829836,5372781,5283319,5281350,5355385,5244140,5193991,5220333,5297221,5301321,5482716,5616478,5672224,5644234,5799106,5976825,6037008,6186787,6137427,6071816,6072010,6229118,6349955,6404861,6575395,6944762,7012842,7068318,7063258,7029636,6937602,6894009,6793638,6735929,6547846,6471057,6362013,6426993,6412604,6470599,6489389,6367601,6339239,6296970,6324717,6322940,6410625,6493915,6516890,6494093,6461870,6535169,6667398,6713233,6734217,6808694,6623238,6519752,6398967,6442373,6448602,6529915,6532497,6586374,6503939,6355079,6311418,6416312,6393253,6466615,6500380,6601725,6633540,6588140,6690275,6597404,7058156,7203750,7263608,7084797,7074118,7176904,7241815,7195439,7394877,7436997,7356121,7284858,7237530,7171340,7106963,6979298,6931370,6881456,6792972,6669666,6585828,6593427,6541278,6632558,6629000,6554649,6749413,6744762,6551740,6424614,6525397,6335485,6300698,6172680,6059711,6064332,5954427,5870716,5844574]]],[[[16231330,16394491,16036211,15399275,14858304,14786695,14953553,15181111,15631551,15761394,16231330]]],[[[15093611,14762271,14535105,14326522,15065362,15132705,15093611]]],[[[13440252,13419902,13178780,12855274,12867052,12767216,13045759,13353672,13440252]]],[[[13082694,12968497,12799782,12837593,13007065,13149464,13082694]]],[[[12265798,12421333,12458274,12306929,12204858,12202160,12245249,12265798]]],[[[15928310,16053502,16061901,15877284,16041066,16156335,16003582,15899418,15760138,15652185,15545241,15699184,15907655,15928310]]],[[[7232433,7229568,7251268,7335933,7398922,7364835,7334079,7281302,7232433]]],[[[12415265,12773934,12967352,13199694,13493957,13582221,13760629,13824316,13632622,13485418,13257442,13045415,12641550,12251504,11888281,11589696,11307362,11277852,11321603,11473307,11566590,11758547,11836351,12038254,12366804,12415265]]],[[[7114404,6935188,6756245,6576768,6270856,6327037,6083856,5915464,5802476,5899862,5775023,5910454,6070354,6251002,6379893,6612867,6788459,7039050,7125237,7212974,7239756,7114404]]],[[[10214966,10038639,9969295,10173799,10131339,9870619,9752442,9724675,9467753,9414224,9421892,9511904,9588087,9702953,9746758,9711996,9806165,9907596,9842598,9715629,9603028,10739500,10506688,10214966]]],[[[11365791,11345139,11580955,11595685,11594949,11495049,11447822,11365791]]],[[[5775850,5815606,5781176,5774848,5743277,5738418,5724631,5686299,5695817,5639362,5612080,5521553,5553278,5626997,5673222,5703630,5756594,5775850]]],[[[15333216,15549027,15571397,15350280,14901840,14677094,14276545,14177665,13760447,13741469,14045071,14228660,14382045,14851588,15319617,15545420,15324577,15333216]]],[[[10926389,10799705,10770937,10993136,11122368,11012091,10779459,10642786,10717088,10701802,10866837,10783870,10771050,10569078,10617708,10450133,10451140,9930107,9552495,9463786,9362247,9366599,9131784,8811959,8693545,8426041,8274436,8149359,8282630,8033419,7983906,8091898,8325138,8852269,9006336,9212450,9474275,9844005,10390955,10616433,11009556,11152279,11134806,11412707,11397576,11465990,11218045,11129610,10926389]]],[[[15574972,15236758,15165062,15266803,15438435,15449502,15746440,15933994,15772165,15974317,15805254,15574972]]],[[[14290898,14078059,14198018,14333996,14506463,14616935,14411411,14290898]]],[[[-3321879,-3259336,-3293924,-3348120,-3381433,-3372139,-3307233,-2847249,-2865671,-2982758,-3058336,-3102066,-3089347,-3033833,-2996535,-2937341,-2908783,-2923739,-2958292,-2964402,-2935658,-2838496,-2828692,-2782764,-2701622,-2611201,-2522491,-2523801,-2544166,-2529732,-2541748,-2798488,-2935346,-2979689,-2957054,-2965858,-3001886,-3048468,-3091504,-3159234,-3145719,-3090255,-3091298,-3182335,-3286977,-3344170,-3426908,-3491980,-3558139,-3650979,-3865073,-3925468,-3977215,-3984180,-4021371,-4001556,-4027080,-4001238,-4017586,-4010566,-4063610,-4084956,-4136075,-4139333,-4091088,-4088618,-4028516,-4047148,-4011058,-3932719,-3843822,-3819773,-3718976,-3597179,-3321879],[-3369995,-3330856,-3356754,-3406574,-3487614,-3586744,-3573893,-3532661,-3512557,-3408446,-3369995]]],[[[3833789,3858307,3832461,3676295,3677273,3731174,3731130,3684799,3586604,3448647,3410056,3371828,3472737,3475212,3424191,3262849,3191101,3103496,3044979,2979277,2982988,2874779,2786629,2623867,2564942,2499366,2440956,2348460,2260114,2192691,2134698,2103520,2054453,2087218,2099072,2140352,2188415,2257331,2357037,2391861,2423114,2450842,2446675,2456809,2431452,2373985,2303311,2231206,2210633,2067982,2098110,2094610,2023881,2037725,2032336,2015124,2016209,1950488,1950199,1884476,1859306,1852264,1812779,1812432,1718195,1696644,1669627,1636108,1760229,1797794,1828008,1819587,1776030,1764632,1817153,1870367,1886647,1940747,1996508,2027729,2034710,2071789,2125356,2192191,2266725,2324527,2336127,2370058,2400977,2442281,2496061,2543862,2604680,2725135,2820439,2896924,2947229,2977408,3054044,3083072,3143740,3231318,3241567,3369844,3409653,3506264,3605102,3654972,3706685,3700995,3737024,3683956,3621535,3524478,3353540,3344472,3300927,3302687,3221292,3189320,3144943,3081408,2965998,2854388,2789835,2785799,2676179,2654477,2610056,2610636,2684221,2753525,2812549,2843648,2933600,3000567,3094539,3078498,3110991,3141235,3214060,3223555,3216419,3263480,3320536,3411265,3446650,3715590,3833789]]],[[[-3997743,-3922147,-3859211,-3769513,-3613787,-3617573,-3517656,-3531382,-3356919,-3234094,-3113913,-3014554,-2943161,-2966822,-2823118,-2755968,-2733872,-2753563,-2748161,-2701340,-2590424,-2554433,-2521889,-2545435,-2522355,-2360032,-2293975,-2269476,-2202087,-2150443,-2057946,-1985231,-1952476,-1906524,-1839441,-1834652,-1700025,-1698100,-1648433,-1614862,-1548524,-1514554,-1515678,-1482451,-1459806,-1417153,-1398330,-1296386,-1220300,-1176749,-1091995,-1111128,-1153587,-1199469,-1233753,-1236232,-1226633,-1246168,-1233144,-1061298,-1127870,-1124949,-1064693,-1058149,-1009721,-941202,-839966,-819441,-772053,-739693,-679125,-640185,-587992,-511948,-490465,-473683,-478921,-124977,-61225,-20611,60270,78611,67088,109730,121243,190919,188430,226823,191498,125811,139534,80647,87862,121933,166202,213369,245063,268478,278053,348245,423013,451939,462210,447931,420041,446417,463733,505525,548153,579688,584630,558876,509824,492912,441042,401738,306829,250492,198948,146698,141174,162983,187331,216952,202375,225134,247279,279541,269641,281033,234442,264649,259991,228631,236592,278911,360989,463075,468350,406635,211719,193334,116467,24822,-8732,-26214,-137802,-64746,-104759,-172759,-238028,-299705,-265363,-324304,-319961,-412241,-537299,-569531,-574013,-609278,-819690,-1005615,-1079267,-1236725,-1365197,-1464087,-1466319,-1550520,-1766197,-2022074,-2068272,-2225600,-2380496,-2504001,-2556087,-2628399,-2628112,-2674638,-2728671,-2764253,-2861650,-2983857,-3076535,-3145466,-3272461,-3334233,-3404247,-3630731,-3734165,-3795562,-3921425,-3997743]]],[[[139534,125811,191498,226823,188430,190919,121243,109730,67088,78611,60270,-20611,-61225,-124977,-478921,-419597,-416951,-303477,-251298,-260872,-241597,-271057,-257101,-140328,-111640,-59091,-6368,-16924,46314,28602,44047,91941,90163,153738,188309,196666,252466,292823,300295,428862,455416,520213,622461,651833,746550,806285,860857,852794,886188,952439,968901,965325,1044001,1056009,1188926,1241525,1243679,1267334,1257861,1340650,1395517,1388534,1358569,1320258,1301204,1244436,1211924,1169831,1089147,1023156,1015605,963809,939045,893760,852170,828734,819377,780241,791028,776738,680319,692293,686299,699070,679827,619560,582019,501893,427729,394583,369615,314120,289561,250604,139534]]],[[[1069879,1059797,1014399,997648,984304,963923,918766,943732,967362,986915,1011813,1038809,1075456,1108497,1128694,1095836,1068852,1100191,1111356,1134140,1168585,1204258,1220233,1256737,1226698,1241481,1232018,1208691,1201143,1225163,1163616,1069879]]],[[[1622921,1613256,1571939,1556495,1570158,1549567,1476762,1478469,1489421,1512167,1519275,1543869,1560678,1602318,1615848,1622921]]],[[[463075,360989,278911,236592,228631,259991,264649,234442,257423,304283,355268,403249,469368,545769,641896,603118,508797,463075]]],[[[6353928,6309199,6277879,6162437,6043963,6015798,6030962,5989162,5897428,5824204,5849473,5778930,5733771,5674114,5626012,5504952,5485256,5418185,5331611,5373001,5323425,5232100,5212556,5280932,5248191,5317150,5376549,5468941,5782740,5952586,6035667,6099364,6221438,6258197,6214741,6407631,6334010,6468329,6611854,6647604,6585436,6582534,6512171,6430271,6443743,6350309,6353928]]],[[[5255538,5313491,5183849,5068555,5098809,5199482,5255538]]],[[[2097889,2087551,2064256,2034728,2031293,2081425,2098574,2097889]]],[[[2095044,2084523,2056366,2024310,2022131,2002594,2021355,2064014,2090820,2098999,2095044]]],[[[2654843,2644840,2603660,2559522,2573129,2416556,2418198,2393860,2360318,2355417,2306779,2278999,2263962,2258083,2267451,2255918,2322063,2352942,2360897,2395290,2463341,2458680,2490806,2515977,2534599,2558066,2588174,2594349,2531769,2530092,2500792,2487676,2499046,2536149,2579587,2606415,2629967,2641544,2654843]]],[[[-2541748,-2529732,-2544166,-2523801,-2522491,-2468292,-2449921,-2374216,-2332245,-2319469,-2189472,-2121341,-2100385,-2006733,-2019535,-2033010,-2030295,-1954705,-1859030,-1849902,-1809708,-1763610,-1747791,-1790927,-1788624,-1813061,-1841742,-1850172,-1887488,-2035097,-2116367,-2204374,-2239369,-2309113,-2319917,-2405774,-2541748]]],[[[698118,950476,1021533,1126035,1156458,1202039,1269317,1408697,1454718,1520488,1545261,1558838,1516086,1472884,1470935,1499006,1439935,1442726,1491425,1487956,1504017,1497342,1463981,1527923,1523367,1398283,1400801,1355424,1334870,1297079,1209271,1078289,1053134,974223,927855,870964,825732,779094,741317,787391,785530,719922,718914,610925,531829,491639,497510,472492,474932,544787,625704,699443,698118]]],[[[1234225,1198886,1140510,1058464,969657,928602,827382,771577,661176,595696,557366,524957,556687,600792,697183,823785,918159,1163604,1227876,1233220,1224955,1243260,1234225]]],[[[3856767,3815140,3833415,3745810,3731107,3713111,3678735,3696430,3645751,3439609,3661270,3704231,3711642,3772887,3872413,3905999,3907128,3930434,3932185,3877812,3856767]]],[[[4544124,4556901,4551883,4615669,4631883,4666279,4499549,4409068,4250121,4175096,4148993,4092853,4081296,4154991,4257301,4400911,4424331,4544124]]],[[[3281993,3234172,3211084,3133942,3156567,3070295,2999242,2895716,2835907,2735230,2762983,2637299,2596154,2544990,2516477,2708082,2707699,2630236,2693026,2762262,2769307,2872882,2893864,2892040,2908913,2994756,3000865,3054490,2970383,2905091,2859304,2814657,2781913,2708525,2617409,2518214,2474416,2475924,2451068,2361296,2291003,2211362,2072928,1999101,1922761,1869278,1799161,1793050,1704926,1555381,1460447,1352106,1159297,1153818,1067621,1030434,998475,921908,889589,994670,1267081,1320822,1430264,1645125,1803640,2179467,2322793,2434379,2362979,2377257,2522249,2565732,2613064,2715917,2797231,2796912,2902188,2964718,3060130,3116098,3247611,3238032,3370758,3500518,3630127,3723032,3798950,3864139,4071541,4129808,4096803,4116898,4231219,4072112,3962687,3894559,3826983,3844730,3699932,3617526,3527156,3468873,3349512,3301535,3239581,3169086,3152850,3089305,3048446,3050524,3099804,3179282,3233417,3259929,3135841,3088458,3107953,3099585,3103285,3180134,3220226,3235978,3329985,3411005,3379683,3433404,3354151,3300894,3281993]]],[[[3233417,3179282,3099804,3050524,3048446,3089305,3152850,3169086,3239581,3301535,3349512,3468873,3558002,3518375,3434802,3416467,3355283,3330257,3274664,3245729,3233417]]],[[[4231219,4116898,4096803,4129808,4071541,3864139,3798950,3723032,3630127,3500518,3370758,3238032,3247611,3116098,3060130,2964718,2902188,2796912,2797231,2715917,2746688,2834483,2928054,2904887,2902595,2885357,3028833,3093086,3150615,3170893,3281748,3337433,3414303,3481618,3416255,3435390,3419096,3447120,3435882,3489154,3598886,3672411,3672182,3708687,3725736,3713557,3750376,3829380,3909315,3942990,4031503,4027305,4075749,4127672,4184720,4252645,4310861,4371017,4400150,4416296,4442012,4457665,4392765,4286650,4231219]]],[[[3494141,3561842,3630819,3630782,3725195,3825053,3897598,4024478,4129706,4176561,4256320,4297532,4462892,4575412,4619237,4783185,4824323,4769881,4703659,4684668,4688865,4794754,4805418,4763119,4692208,4617691,4624765,4520666,4491445,4421393,4397431,4434233,4466869,4493947,4574358,4570265,4596588,4583555,4512162,4496829,4373433,4368476,4252578,3985438,3965709,3892817,3787345,3704133,3682133,3598491,3481618,3414303,3337433,3281748,3170893,3150615,3093086,3028833,2885357,2950852,2966902,3119237,3141387,3119053,3058735,3100049,3196230,3232050,3352059,3522558,3501713,3544374,3494141]]],[[[8149359,8274436,8426041,8693545,8811959,9131784,9366599,9362247,9463786,9552495,9930107,10451140,10450133,10617708,10569078,10771050,10783870,10632791,10428007,9986091,9878742,9801642,9615224,9455576,9251300,9039065,8704584,8542850,8417997,8170400,8120075,7768527,7579207,7598510,7441413,7432390,7619791,7850963,8149359]]],[[[7153601,7070435,6999613,6926062,6888660,6804402,6724260,6569348,6520185,6499876,6356150,6279511,6355008,6330832,6348389,6311783,6372407,6349141,6444306,6454772,6509230,6528767,6483723,6519788,6567999,6583302,6640184,6754182,6816405,6913904,6979532,7029035,7124274,7179765,7333105,7300508,7253686,7251268,7229568,7232433,7212040,7153601]]],[[[6127424,6059549,6059224,6023441,5918012,5890583,5886542,5849820,5862344,5904215,5960929,5932543,5901583,5924715,5929144,5958871,5998997,6028202,6037296,5991588,6035019,6027989,6057599,6052523,6018742,6046772,6155093,6176362,6254045,6199740,6268823,6281494,6229829,6238595,6206752,6185407,6127424]]],[[[6177394,6131885,6087278,6052532,5941133,5831148,5800799,5807911,5741889,5772623,5841556,5861446,5916212,5918012,6023441,6059224,6059549,6127424,6084834,6066759,6087072,6120468,6125404,6151325,6140641,6161524,6201009,6211276,6160252,6177394]]],[[[7124274,7029035,6979532,6913904,6816405,6754182,6640184,6621707,6642063,6608376,6574240,6530535,6492529,6440929,6368261,6327125,6254045,6176362,6155093,6046772,6018742,6052523,6057599,6027989,6035019,5991588,6037296,6028202,6078756,6042807,6043963,6162437,6277879,6309199,6353928,6429360,6468481,6586647,6773340,6773414,6841536,7009686,7072687,7112402,7122629,7081228,7174093,7245445,7354638,7329109,7358587,7283972,7239322,7171802,7207456,7259746,7184470,7124274]]],[[[4462890,4439317,4474882,4492944,4471196,4449475,4451837,4399601,4399167,4425345,4386692,4413701,4336414,4276092,4338526,4390516,4378706,4410644,4330929,4315432,4389638,4394299,4336867,4320502,4394156,4391657,4530572,4608869,4719632,4788299,4927166,4933016,5044844,5025274,5121554,5163819,5167006,5061933,5004761,5027510,5014358,5091674,5098743,5025942,4974096,4902858,4866668,4824323,4783185,4619237,4575412,4462890]]],[[[5135085,5182196,5162081,5104655,5056683,5020451,5012315,4888054,4956122,4986434,5002944,5095610,5135085]]],[[[6028202,5998997,5958871,5929144,5924715,5858183,5830956,5851176,5786269,5781174,5806611,5752268,5744676,5778930,5849473,5824204,5897428,5989162,6030962,6015798,6043963,6042807,6078756,6028202]]],[[[6468481,6429360,6353928,6350309,6365185,6461933,6468481]]],[[[6586647,6468481,6461933,6365185,6443743,6430271,6512171,6582534,6585436,6647604,6682687,6668705,6705753,6627894,6586647]]],[[[4452745,4499060,4551759,4590134,4632261,4725980,4812257,4824163,4892793,4914140,5028740,5068823,5143527,5148755,5129883,5129706,5203085,5181176,5143106,5250192,5316025,5426579,5398816,5399789,5373583,5381624,5376549,5317150,5248191,5280932,5212556,5232100,5144833,5045747,5014514,4965008,4883968,4766171,4684284,4620810,4529024,4501045,4393783,4394296,4345393,4293310,4304724,4351331,4431152,4452745]]],[[[7145114,7011379,6847295,6740550,6767726,6957997,7147719,7387453,7283818,7181519,7184127,7145114]]],[[[-4875534,-5055155,-5114403,-5075365,-5053999,-4932903,-4852717,-4794824,-4742692,-4692732,-4583354,-4492365,-4398912,-4374464,-4317418,-4196152,-4100071,-4089476,-4164721,-4200019,-4322162,-4468292,-4373268,-4411118,-4516805,-4562664,-4573952,-4520238,-4536481,-4662088,-4745526,-4742574,-4786298,-4848511,-4875534]]],[[[-5396883,-5316796,-5238099,-5126204,-5088516,-5005869,-4937985,-5061435,-5001536,-5063979,-5126589,-5307412,-5368810,-5442774,-5444681,-5503049,-5605337,-5765766,-5883709,-5880258,-5826976,-5815661,-5756776,-5639003,-5484647,-5455515,-5396883]]],[[[-4984100,-4993986,-5170338,-5222145,-5344223,-5302492,-5409068,-5396026,-5265476,-5166015,-5036347,-4968775,-4981790,-5032672,-4984100]]],[[[-3791693,-3859355,-3889927,-3959704,-4014065,-4017322,-4029258,-4004796,-4025588,-4097404,-4091297,-4172681,-4167292,-4080808,-4055220,-3978348,-3960159,-3929808,-3882087,-3790258,-3712543,-3581115,-3507499,-3434465,-3351514,-3314237,-3263868,-3165358,-3066507,-3013522,-3067240,-2952249,-2988091,-3036091,-2972634,-2875614,-2836977,-2800363,-2729828,-2699909,-2639274,-2568708,-2482240,-2573770,-2491069,-2451021,-2400070,-2356342,-2347052,-2361724,-2317414,-2304249,-2278268,-2267457,-2270248,-2235599,-2183183,-2120272,-2060695,-1950525,-1851695,-1952109,-1928862,-1873906,-1817617,-1842731,-1754639,-1697856,-1652394,-1632801,-1600692,-1614096,-1585231,-1553340,-1606004,-1674127,-1685718,-1622523,-1530507,-1500591,-1472018,-1406814,-1366615,-1380148,-1358689,-1300561,-1263169,-1246684,-1274820,-1321422,-1350530,-1339015,-1374014,-1341414,-1351324,-1329462,-1385790,-1446850,-1493024,-1496831,-1542602,-1656426,-1688939,-1752698,-1789761,-1898440,-1898326,-1928122,-1964124,-2003726,-1963829,-1849800,-1786262,-1694377,-1638696,-1605256,-1539600,-1453413,-1430219,-1392133,-1269328,-1236953,-1194499,-1249956,-1321216,-1334970,-1382792,-1440814,-1505516,-1547115,-1637198,-1593862,-1642506,-1687468,-1738599,-1837829,-1895802,-1909993,-2009669,-2070356,-2150023,-2211615,-2319433,-2348226,-2422968,-2552697,-2526273,-2578429,-2559907,-2688014,-2809303,-2908637,-3007898,-3078730,-3156030,-3262857,-3375019,-3548649,-3622836,-3716205,-3835725,-3900792,-4004125,-4070552,-4187478,-4255565,-4358596,-4454318,-4498549,-4547362,-4552487,-4610440,-4726794,-4663648,-4638566,-4564770,-4591486,-4694415,-4633251,-4623100,-4582157,-4495420,-4389545,-4319676,-4263910,-4247404,-4181188,-4080578,-4174326,-4199343,-4124180,-4046307,-3980628,-3882039,-3995653,-4041533,-4148958,-4093258,-4021815,-3924911,-3875155,-3844607,-3764784,-3761032,-3697307,-3709666,-3800419,-3791693]]],[[[2801526,2606745,2507992,2609644,2699429,2819159,2912078,2875449,2801526]]],[[[5924715,5901583,5932543,5960929,5904215,5862344,5783038,5715049,5738253,5681826,5603494,5558843,5479592,5401862,5275665,5154261,5155186,5122155,5092481,4994237,4917756,4890511,4838482,4906375,4930416,4836254,4782690,4707768,4699289,4577433,4566557,4609785,4686058,4716594,4872971,4891106,4954186,4980878,5040153,5049744,5116822,5214370,5301545,5453071,5471058,5522309,5501295,5429478,5418185,5485256,5504952,5626012,5674114,5733771,5778930,5744676,5752268,5806611,5781174,5786269,5851176,5830956,5858183,5924715]]],[[[4599770,4612131,4501183,4457831,4386269,4438637,4453687,4524891,4597294,4584366,4599770]]],[[[4997600,5043364,4938870,4747111,4756176,4708304,4746317,4921070,5004970,4997600]]],[[[7358587,7329109,7354638,7463000,7666676,7782635,7795369,7852230,7910815,7804340,7737672,7680816,7650261,7574633,7596334,7453622,7358587]]],[[[7580625,7481164,7323149,7433003,7514734,7580625]]],[[[7145114,7184127,7181519,7283818,7387453,7395487,7275899,7145114]]],[[[7058181,7167315,7287503,7321403,7373830,7461182,7515532,7422488,7613359,7716302,7929359,8100844,8083934,8101911,7874002,7902480,7901393,7733597,7553200,7540519,7289421,7258598,7043344,6970060,6934960,6818226,6765260,6672650,6579959,6581587,6533324,6567849,6485917,6505687,6439351,6473975,6658524,6696998,6726950,6798570,6854798,6953457,7075090,7058181]]],[[[1425991,1513069,1508867,1467683,1369111,1425991]]],[[[1116747,1148422,1218712,1225374,1149126,1258509,1150415,1113248,1041908,1008521,1086503,1116747]]],[[[940106,802426,699851,814134,757240,674699,622259,687204,768301,821642,874753,828182,832504,769903,802733,897394,929027,971435,920487,951299,1001559,1004555,1091808,1038276,940106]]],[[[1041695,934794,1013560,1083243,1161449,1274054,1181599,1119302,1041695]]],[[[2063887,2015354,1931712,1835135,1796735,1703588,1611917,1599262,1612855,1549232,1486910,1459449,1406847,1462877,1522973,1480971,1549502,1532567,1557890,1605327,1634563,1661173,1619720,1685843,1736075,1846880,1808733,1990674,2096770,2096633,2063145,2093685,2063887]]],[[[1279298,1333391,1298195,1298362,1250929,1202783,1168775,1221413,1279298]]],[[[1364229,1237337,1267445,1229364,1159461,1134116,1213739,1219626,1288331,1279268,1322294,1409251,1406738,1364229]]],[[[721155,741138,692076,634606,647967,693954,683493,615939,541104,465907,415146,310817,280109,181602,143953,136525,219021,307451,364245,438848,531304,592233,673681,721155]]],[[[460990,479804,479856,352978,314212,159280,135547,166752,156989,100686,108706,86067,148974,223404,185236,206047,300373,321392,345525,504342,446492,484517,480980,607354,685170,772745,773113,716414,667740,602893,559107,553564,499019,460990]]],[[[10770937,10556210,10357920,10140203,9823945,9594864,9401873,9237104,9067880,8944460,8512703,8494739,8412509,8365613,8487516,8561851,8789606,9004623,9146926,9303649,9582695,9637783,9750549,9878742,9986091,10428007,10632791,10783870,10866837,10701802,10717088,10642786,10779459,11012091,11122368,10993136,10770937]]],[[[4747612,4604035,4458928,4348056,4279022,4182666,4118800,4110504,3957162,4008553,4109187,4079393,4016044,4013472,3915229,3691375,3636591,3687185,3805320,3843692,3934666,3975772,4060096,4129920,4222934,4263754,4235749,4481703,4415074,4609979,4784723,4948142,5041147,5068340,4864724,4747612]]],[[[5459390,5525174,5351949,5310200,5160262,5263207,5098955,5096717,5245805,5362837,5371343,5585718,5708763,5544764,5492424,5459390]]],[[[3957007,4036901,4021368,4077909,4048858,4002827,3922037,3964795,3933802,3856155,3893894,3957007]]],[[[3421106,3400806,3440112,3486244,3504035,3547156,3569081,3698953,3764651,3784464,3748878,3657450,3398434,3375966,3315461,3318748,3209899,3181213,3137221,3084752,3033432,2992143,2950616,2916062,2845650,2821347,2830046,2632158,2571295,2596783,2511525,2273030,2154936,2109856,2057066,1934411,1915005,1953832,1948001,1959661,1971325,1968645,1958104,1988444,1931122,1882083,1845045,1894606,1929651,1976156,2018016,2116309,2212296,2293730,2313217,2426719,2509949,2581263,2715490,2762999,2788235,2858372,2886132,2949988,2977574,3069867,3256963,3256357,3421106]]],[[[-105758,-112945,-160686,-149327,-65390,-22855,66501,118262,176330,205909,245460,260547,390883,421305,396359,422467,422208,473529,396061,340101,212196,131025,12224,-105758]]],[[[1204901,1219634,1215667,1131326,1118889,1129064,1160171,1204901]]]],\"index\":[3,3,3,3,3,3,3,3,3,3,3,3,3,3,3,3,3,3,3,3,3,3,3,3,3,3,3,3,3,3,4,4,4,4,4,4,4,4,4,4,8,8,8,8,8,8,8,8,8,8,8,8,8,9,9,10,10,13,18,18,18,18,18,18,18,18,18,18,18,18,18,18,21,21,21,21,25,27,29,32,34,37,43,43,43,45,46,47,48,56,59,76,96,98,101,102,107,110,113,114,115,121,124,124,127,128,129,132,133,136,136,137,137,140,141,141,141,142,142,143,143,147,147,147,147,147,147,147,148,148,151,155,155,155,158,168,175],\"name\":[\"Canada\",\"Canada\",\"Canada\",\"Canada\",\"Canada\",\"Canada\",\"Canada\",\"Canada\",\"Canada\",\"Canada\",\"Canada\",\"Canada\",\"Canada\",\"Canada\",\"Canada\",\"Canada\",\"Canada\",\"Canada\",\"Canada\",\"Canada\",\"Canada\",\"Canada\",\"Canada\",\"Canada\",\"Canada\",\"Canada\",\"Canada\",\"Canada\",\"Canada\",\"Canada\",\"United States of America\",\"United States of America\",\"United States of America\",\"United States of America\",\"United States of America\",\"United States of America\",\"United States of America\",\"United States of America\",\"United States of America\",\"United States of America\",\"Indonesia\",\"Indonesia\",\"Indonesia\",\"Indonesia\",\"Indonesia\",\"Indonesia\",\"Indonesia\",\"Indonesia\",\"Indonesia\",\"Indonesia\",\"Indonesia\",\"Indonesia\",\"Indonesia\",\"Argentina\",\"Argentina\",\"Chile\",\"Chile\",\"Kenya\",\"Russia\",\"Russia\",\"Russia\",\"Russia\",\"Russia\",\"Russia\",\"Russia\",\"Russia\",\"Russia\",\"Russia\",\"Russia\",\"Russia\",\"Russia\",\"Russia\",\"Norway\",\"Norway\",\"Norway\",\"Norway\",\"South Africa\",\"Mexico\",\"Brazil\",\"Colombia\",\"Costa Rica\",\"El Salvador\",\"France\",\"France\",\"France\",\"Puerto Rico\",\"Jamaica\",\"Cuba\",\"Zimbabwe\",\"Nigeria\",\"Ghana\",\"Israel\",\"South Korea\",\"India\",\"Nepal\",\"Pakistan\",\"Iran\",\"Sweden\",\"Poland\",\"Austria\",\"Hungary\",\"Germany\",\"Turkey\",\"Turkey\",\"Switzerland\",\"Luxembourg\",\"Belgium\",\"Spain\",\"Ireland\",\"New Zealand\",\"New Zealand\",\"Australia\",\"Australia\",\"Taiwan\",\"Italy\",\"Italy\",\"Italy\",\"Denmark\",\"Denmark\",\"United Kingdom\",\"United Kingdom\",\"Philippines\",\"Philippines\",\"Philippines\",\"Philippines\",\"Philippines\",\"Philippines\",\"Philippines\",\"Malaysia\",\"Malaysia\",\"Finland\",\"Japan\",\"Japan\",\"Japan\",\"Saudi Arabia\",\"Uganda\",\"Trinidad and Tobago\"],\"sentiment_2015\":{\"__ndarray__\":\"u3FlYzixqr+7cWVjOLGqv7txZWM4saq/u3FlYzixqr+7cWVjOLGqv7txZWM4saq/u3FlYzixqr+7cWVjOLGqv7txZWM4saq/u3FlYzixqr+7cWVjOLGqv7txZWM4saq/u3FlYzixqr+7cWVjOLGqv7txZWM4saq/u3FlYzixqr+7cWVjOLGqv7txZWM4saq/u3FlYzixqr+7cWVjOLGqv7txZWM4saq/u3FlYzixqr+7cWVjOLGqv7txZWM4saq/u3FlYzixqr+7cWVjOLGqv7txZWM4saq/u3FlYzixqr+7cWVjOLGqv7txZWM4saq/TbMtZqMyyT9Nsy1mozLJP02zLWajMsk/TbMtZqMyyT9Nsy1mozLJP02zLWajMsk/TbMtZqMyyT9Nsy1mozLJP02zLWajMsk/TbMtZqMyyT9wWPuGtW/UP3BY+4a1b9Q/cFj7hrVv1D9wWPuGtW/UP3BY+4a1b9Q/cFj7hrVv1D9wWPuGtW/UP3BY+4a1b9Q/cFj7hrVv1D9wWPuGtW/UP3BY+4a1b9Q/cFj7hrVv1D9wWPuGtW/UP2+EMnpb1tQ/b4QyelvW1D+uuObPOXxzP6645s85fHM/HsDrrm0rwj+7awn5oGejv7trCfmgZ6O/u2sJ+aBno7+7awn5oGejv7trCfmgZ6O/u2sJ+aBno7+7awn5oGejv7trCfmgZ6O/u2sJ+aBno7+7awn5oGejv7trCfmgZ6O/u2sJ+aBno7+7awn5oGejv7trCfmgZ6O/zojS3uALyz/OiNLe4AvLP86I0t7gC8s/zojS3uALyz9vULDT0QfgP6yL22gAb8E/Ib1LitopxD8AAAAAAAAAAMQgsHJokeU/Nc8kxG8dzj/Y48Pcp1arP9jjw9ynVqs/2OPD3KdWqz9wsudFAEqWv70ta3VM8MC/+k6Q3mQzzj/o1n5Fkcixv/FBz2bV56K/L2VywLW4xz9GZ/hxcc91v3wT0zcxfcU/lLw6x4Dsxb9WzE5qiXfKP9EvVVniV6u/KBI5anIeyz8SA8NVaLmNP5DkrfdcKL2/2or9Zffkzz+CsJpVTrDFP2qN4oym56U/VhwHXi13xj9WHAdeLXfGP1K7F0nYLpw/2oEC1kbl0j8wMzAGjUnEP7eqYQ7kFdU/L/XzpiIVwr8AAAAAAAAAAAAAAAAAAAAAzJf3dH7quj/Ml/d0fuq6P+uJbdBakMs//29qY6tJxz//b2pjq0nHP/9vamOrScc/sJRliGNdyj+wlGWIY13KP181PbUplsA/XzU9tSmWwD/F4cyv5gDBP8XhzK/mAME/xeHMr+YAwT/F4cyv5gDBP8XhzK/mAME/xeHMr+YAwT/F4cyv5gDBP95JMS3XyMO/3kkxLdfIw790JJf/kH6rPwcmuLRshLa/Bya4tGyEtr8HJri0bIS2vwaXcYNto8E/OH2NOgb2wj8juuXm2pWxPw==\",\"dtype\":\"float64\",\"order\":\"little\",\"shape\":[137]},\"sentiment_2016\":{\"__ndarray__\":\"sDnKgDEetL+wOcqAMR60v7A5yoAxHrS/sDnKgDEetL+wOcqAMR60v7A5yoAxHrS/sDnKgDEetL+wOcqAMR60v7A5yoAxHrS/sDnKgDEetL+wOcqAMR60v7A5yoAxHrS/sDnKgDEetL+wOcqAMR60v7A5yoAxHrS/sDnKgDEetL+wOcqAMR60v7A5yoAxHrS/sDnKgDEetL+wOcqAMR60v7A5yoAxHrS/sDnKgDEetL+wOcqAMR60v7A5yoAxHrS/sDnKgDEetL+wOcqAMR60v7A5yoAxHrS/sDnKgDEetL+wOcqAMR60v7A5yoAxHrS/PRaXZPS/wz89Fpdk9L/DPz0Wl2T0v8M/PRaXZPS/wz89Fpdk9L/DPz0Wl2T0v8M/PRaXZPS/wz89Fpdk9L/DPz0Wl2T0v8M/PRaXZPS/wz9fukkMAiuvP1+6SQwCK68/X7pJDAIrrz9fukkMAiuvP1+6SQwCK68/X7pJDAIrrz9fukkMAiuvP1+6SQwCK68/X7pJDAIrrz9fukkMAiuvP1+6SQwCK68/X7pJDAIrrz9fukkMAiuvPzMzMzMzM8M/MzMzMzMzwz/21+7dZBfDP/bX7t1kF8M/L4W2HzXIwT9m1edqK/aXP2bV52or9pc/ZtXnaiv2lz9m1edqK/aXP2bV52or9pc/ZtXnaiv2lz9m1edqK/aXP2bV52or9pc/ZtXnaiv2lz9m1edqK/aXP2bV52or9pc/ZtXnaiv2lz9m1edqK/aXP2bV52or9pc/Njy9UpYh0j82PL1SliHSPzY8vVKWIdI/Njy9UpYh0j8QnDOitDeIvyPb+X5qvNA/vlwJoNcdvj9a9bnaiv3ZP6qCUUmdgNM/bYl3ipQ+r79DJctmK0ysP0Mly2YrTKw/QyXLZitMrD8f9GxWfa7qP9qs+lxtxcY/ipUjnWjsxj88PkfR8FOyP95pXGaANbU/ENKkkYokuD+YqfXpYRSzP/Zu88ZJYb4/V2XBx1pP1T97IiPcsxCZv4o3Mo/8wcQ/VOi8xi5R0T8MJ1YzWF6/P777471qZdQ/R4maKS824D/KCQEAQ9uGv2c2UeEnw8E/q/pcbcX+kr+r+lxtxf6Sv+JE96b1n7w/WOwvuycvxz+V+TQUZPHAP8nPh+l/+qE/G9YT26C1sL/9h/Tb14GzP/2H9NvXgbM/h10LjNFJkb+HXQuM0UmRv8b+snvysKC/R+F6FK5H0T9H4XoUrkfRP0fhehSuR9E/F/nTzknE2L8X+dPOScTYv25dk6o8498/bl2Tqjzj3z9u8W4oO3veP27xbig7e94/bvFuKDt73j9u8W4oO3veP27xbig7e94/bvFuKDt73j9u8W4oO3vePzoBTYQNT92/OgFNhA1P3b8+6Nms+lzNP7pPaGzC0K2/uk9obMLQrb+6T2hswtCtvz5YIcZGUL4/Q9tFSvMvtD+Bf4vQDCPHvw==\",\"dtype\":\"float64\",\"order\":\"little\",\"shape\":[137]},\"sentiment_2017\":{\"__ndarray__\":\"OiNKe4Mvw786I0p7gy/DvzojSnuDL8O/OiNKe4Mvw786I0p7gy/DvzojSnuDL8O/OiNKe4Mvw786I0p7gy/DvzojSnuDL8O/OiNKe4Mvw786I0p7gy/DvzojSnuDL8O/OiNKe4Mvw786I0p7gy/DvzojSnuDL8O/OiNKe4Mvw786I0p7gy/DvzojSnuDL8O/OiNKe4Mvw786I0p7gy/DvzojSnuDL8O/OiNKe4Mvw786I0p7gy/DvzojSnuDL8O/OiNKe4Mvw786I0p7gy/DvzojSnuDL8O/OiNKe4Mvw786I0p7gy/DvzojSnuDL8O/zlao+mLGwj/OVqj6YsbCP85WqPpixsI/zlao+mLGwj/OVqj6YsbCP85WqPpixsI/zlao+mLGwj/OVqj6YsbCP85WqPpixsI/zlao+mLGwj9TrcKnu++pP1Otwqe776k/U63Cp7vvqT9TrcKnu++pP1Otwqe776k/U63Cp7vvqT9TrcKnu++pP1Otwqe776k/U63Cp7vvqT9TrcKnu++pP1Otwqe776k/U63Cp7vvqT9TrcKnu++pPy0ne14EoKQ/LSd7XgSgpD+XnWuF1rC0P5eda4XWsLQ/udEPT/c3vT/Fyf0ORYHSP8XJ/Q5FgdI/xcn9DkWB0j/Fyf0ORYHSP8XJ/Q5FgdI/xcn9DkWB0j/Fyf0ORYHSP8XJ/Q5FgdI/xcn9DkWB0j/Fyf0ORYHSP8XJ/Q5FgdI/xcn9DkWB0j/Fyf0ORYHSP8XJ/Q5FgdI/rXMMyF7vxr+tcwzIXu/Gv61zDMhe78a/rXMMyF7vxr+SRC+jWG7ZPzxO0ZFc/rM/CXsrzHBUsD+uR+F6FK6zv5ykUG3HK8c/7AiOecuDtj/pNCDfpKShP+k0IN+kpKE/6TQg36SkoT+fFwEoWWHJP4G2VyP8Dcc/hZZRl0cAyD8/u4DYVBrCv46R5/Ui1ca/pqVtZCeVwz8ezVnSH/+1P1iwpAzqH78/Z8l4MsP3jL/y3Q6EPTvNP5waL90kBpG/EojX9Qt20T+MJtYnfHWzP3cSMG/ibbs/6MSPMXctgT/dkp8XWze8P2fIuDtJ7aW/Aj6QdtGo0j8CPpB20ajSP0z+6Zy+U8k/UjJMqTfsyj/y29eBc0asv9zdCJCmf74/2tElCa/K1L+lBxhwqV3GP6UHGHCpXcY/6jiZLEBgmr/qOJksQGCav8NkqmBUUse/otY07zhFtL+i1jTvOEW0v6LWNO84RbS/Ln5eStAwvT8ufl5K0DC9PwbS5i8G68o/BtLmLwbryj+5G6knKHm2P7kbqScoebY/uRupJyh5tj+5G6knKHm2P7kbqScoebY/uRupJyh5tj+5G6knKHm2P5qxaDo7Gcw/mrFoOjsZzD+KVxigMOfhv3CudFEHjNC/cK50UQeM0L9wrnRRB4zQv4sacqkg87Y/bHHlfqlevD90stR6v9HGvw==\",\"dtype\":\"float64\",\"order\":\"little\",\"shape\":[137]},\"sentiment_2018\":{\"__ndarray__\":\"D/rCS2kLvD8P+sJLaQu8Pw/6wktpC7w/D/rCS2kLvD8P+sJLaQu8Pw/6wktpC7w/D/rCS2kLvD8P+sJLaQu8Pw/6wktpC7w/D/rCS2kLvD8P+sJLaQu8Pw/6wktpC7w/D/rCS2kLvD8P+sJLaQu8Pw/6wktpC7w/D/rCS2kLvD8P+sJLaQu8Pw/6wktpC7w/D/rCS2kLvD8P+sJLaQu8Pw/6wktpC7w/D/rCS2kLvD8P+sJLaQu8Pw/6wktpC7w/D/rCS2kLvD8P+sJLaQu8Pw/6wktpC7w/D/rCS2kLvD8P+sJLaQu8Pw/6wktpC7w/OA6Tt7BywD84DpO3sHLAPzgOk7ewcsA/OA6Tt7BywD84DpO3sHLAPzgOk7ewcsA/OA6Tt7BywD84DpO3sHLAPzgOk7ewcsA/OA6Tt7BywD+QPFb7I1LNP5A8VvsjUs0/kDxW+yNSzT+QPFb7I1LNP5A8VvsjUs0/kDxW+yNSzT+QPFb7I1LNP5A8VvsjUs0/kDxW+yNSzT+QPFb7I1LNP5A8VvsjUs0/kDxW+yNSzT+QPFb7I1LNP3/oMRDWrtM/f+gxENau0z/AJGA/jxykP8AkYD+PHKQ/J1lHCOfWvz800GXHFP/OPzTQZccU/84/NNBlxxT/zj800GXHFP/OPzTQZccU/84/NNBlxxT/zj800GXHFP/OPzTQZccU/84/NNBlxxT/zj800GXHFP/OPzTQZccU/84/NNBlxxT/zj800GXHFP/OPzTQZccU/84/r7y+6XCH2D+vvL7pcIfYP6+8vulwh9g/r7y+6XCH2D++8bVnlgSov6vDxx0sWcs/YP5D+u3rsL/RbDFSAnXNP+gYkL3e/bG/jRiFbGgStD8AXr6qh/HAPwBevqqH8cA/AF6+qofxwD8GpEzM74PRP/8h/fZ14Lw/D0BUr3zYxj+PKmvmvD2qP81vqsrNUqW/z5VPKE9Xwz9zNyJ3I3LBPxpGhaBZyHK/ytCeuAnkvz/aPXlYqLXJP63HhlyUyrm/z2OnMp+G3j/q2IZyFjA+P/33L3KLSMc/0//0oyLQxT8DDM50IMbBP5n2NYfZNsQ/f03WqIdo0T9/Tdaoh2jRP7SIQEigU7A/HdO7l9xHyz/3TeMbS9qhP1UEIXvfGqq/0LJAbIdKlD80/GS4eOJ6vzT8ZLh44nq/CYDQchI1rj8JgNByEjWuP1O4HoXrUai/VOv0lRyG0T9U6/SVHIbRP1Tr9JUchtE/ZSPyYIVnwD9lI/JghWfAP4vbaABvQcs/i9toAG9Byz8ewZZFTHq9Px7BlkVMer0/HsGWRUx6vT8ewZZFTHq9Px7BlkVMer0/HsGWRUx6vT8ewZZFTHq9PznulA7W/9I/Oe6UDtb/0j8xmSoYldTjv0O/7o2FeLK/Q7/ujYV4sr9Dv+6NhXiyv36rnxROfsE/GOhAz6RzwT+9UpYhjnWhPw==\",\"dtype\":\"float64\",\"order\":\"little\",\"shape\":[137]},\"sentiment_2019\":{\"__ndarray__\":\"xvg0Jdqxwz/G+DQl2rHDP8b4NCXascM/xvg0Jdqxwz/G+DQl2rHDP8b4NCXascM/xvg0Jdqxwz/G+DQl2rHDP8b4NCXascM/xvg0Jdqxwz/G+DQl2rHDP8b4NCXascM/xvg0Jdqxwz/G+DQl2rHDP8b4NCXascM/xvg0Jdqxwz/G+DQl2rHDP8b4NCXascM/xvg0Jdqxwz/G+DQl2rHDP8b4NCXascM/xvg0Jdqxwz/G+DQl2rHDP8b4NCXascM/xvg0Jdqxwz/G+DQl2rHDP8b4NCXascM/xvg0Jdqxwz/G+DQl2rHDP8b4NCXascM/3COqERdeuD/cI6oRF164P9wjqhEXXrg/3COqERdeuD/cI6oRF164P9wjqhEXXrg/3COqERdeuD/cI6oRF164P9wjqhEXXrg/3COqERdeuD+AlUOLbOfPP4CVQ4ts588/gJVDi2znzz+AlUOLbOfPP4CVQ4ts588/gJVDi2znzz+AlUOLbOfPP4CVQ4ts588/gJVDi2znzz+AlUOLbOfPP4CVQ4ts588/gJVDi2znzz+AlUOLbOfPPzgawFsgQdA/OBrAWyBB0D/0KocW2c6LP/QqhxbZzos/TZakfFI3wD/riKoueM+bP+uIqi54z5s/64iqLnjPmz/riKoueM+bP+uIqi54z5s/64iqLnjPmz/riKoueM+bP+uIqi54z5s/64iqLnjPmz/riKoueM+bP+uIqi54z5s/64iqLnjPmz/riKoueM+bP+uIqi54z5s/iVQG4v65zz+JVAbi/rnPP4lUBuL+uc8/iVQG4v65zz/ZzvdT46XDvxAUP8bctbS/6JeEyj0gxz+Iz7ArQO69v+5x41cuWLu/EbB2hZJcwT8IM5tvbnqfPwgzm29uep8/CDObb256nz/ydtW9Q6LCP6CJsOHplco/XytOgsGJyz/HxRRrNlK9v9rtPw9M+sC/AKWya7kvzT+aU5ZItXe1PzvolqRGKpM/UtURkrRhj79eowPpudy3PzI69PT7bbQ/11bsL7snnz9qvHSTGASjvy//If32dbg/gsXhzK/m1j+PEQEPIdvCP+/mqQ65Ga6/tTomeDBP3L+1OiZ4ME/cv/qTjpGhN7a/YjrEG6+Gzj+CmraWHXe5v51MGLnw07s/nXXK5FZFwb+kqgmi7gPAv6SqCaLuA8C/UOjP/2jKtD9Q6M//aMq0P8hKTipbpts/ORrAWyBBkT85GsBbIEGRPzkawFsgQZE/Z50xJXAenj9nnTElcB6ePyUGgZVDi9Q/JQaBlUOL1D9mn8coz7zYP2afxyjPvNg/Zp/HKM+82D9mn8coz7zYP2afxyjPvNg/Zp/HKM+82D9mn8coz7zYP9GwZpwtvNo/0bBmnC282j9jodY07zjdv5scO646iqy/mxw7rjqKrL+bHDuuOoqsv3Ps/fis9r4/hNYuVGUjvj9lRjstvfnQvw==\",\"dtype\":\"float64\",\"order\":\"little\",\"shape\":[137]},\"sentiment_2020\":{\"__ndarray__\":\"SCBe1y/Y2T9IIF7XL9jZP0ggXtcv2Nk/SCBe1y/Y2T9IIF7XL9jZP0ggXtcv2Nk/SCBe1y/Y2T9IIF7XL9jZP0ggXtcv2Nk/SCBe1y/Y2T9IIF7XL9jZP0ggXtcv2Nk/SCBe1y/Y2T9IIF7XL9jZP0ggXtcv2Nk/SCBe1y/Y2T9IIF7XL9jZP0ggXtcv2Nk/SCBe1y/Y2T9IIF7XL9jZP0ggXtcv2Nk/SCBe1y/Y2T9IIF7XL9jZP0ggXtcv2Nk/SCBe1y/Y2T9IIF7XL9jZP0ggXtcv2Nk/SCBe1y/Y2T9IIF7XL9jZP0ggXtcv2Nk/ZkUjAd+8uj9mRSMB37y6P2ZFIwHfvLo/ZkUjAd+8uj9mRSMB37y6P2ZFIwHfvLo/ZkUjAd+8uj9mRSMB37y6P2ZFIwHfvLo/ZkUjAd+8uj9CDkqYafu3v0IOSphp+7e/Qg5KmGn7t79CDkqYafu3v0IOSphp+7e/Qg5KmGn7t79CDkqYafu3v0IOSphp+7e/Qg5KmGn7t79CDkqYafu3v0IOSphp+7e/Qg5KmGn7t79CDkqYafu3v/VKWYY41uE/9UpZhjjW4T+Bc0aU9gbYv4FzRpT2Bti/8DibVAvGxj85RUdy+Q/VPzlFR3L5D9U/OUVHcvkP1T85RUdy+Q/VPzlFR3L5D9U/OUVHcvkP1T85RUdy+Q/VPzlFR3L5D9U/OUVHcvkP1T85RUdy+Q/VPzlFR3L5D9U/OUVHcvkP1T85RUdy+Q/VPzlFR3L5D9U/s3vysFBrmj+ze/KwUGuaP7N78rBQa5o/s3vysFBrmj84Z0Rpb/DdP3A9CtejcNI/6Ugu/yH92r9g5dAi2/navwAAAAAAAAAAxnygx4uGkb/imcqunLTCP+KZyq6ctMI/4pnKrpy0wj+IY13cRgPIv+viNhrAW7A/aKvEga8a2D/+1HjpJjHUv8oxz5D8cJY/mVEyimKtyz8VJlMFo5KqP26fjscMVKY/TPBgnqh/sz9NFYxK6gToPxniWBe30cC/cjs4Gdf85T9NFYxK6gToPwokKH6MuaO/YOXQItv52j97FK5H4XrEP/37jAsHQtA/097gC5Op7L/T3uALk6nsv0/9AdK9zMe/revpe+M9zz/NO07RkdzjP4nS3uALk9O/UENBFo944z+cM6K0N3jgP5wzorQ3eOA/BXE6Ppz7lz8FcTo+nPuXP8vrmw53COI/HqfoSC7/478ep+hILv/jvx6n6Egu/+O/dWeojpaFoz91Z6iOloWjPyNHTc5jp9i/I0dNzmOn2L+TqYJRSZ2wP5OpglFJnbA/k6mCUUmdsD+TqYJRSZ2wP5OpglFJnbA/k6mCUUmdsD+TqYJRSZ2wP0TVwj9/tLK/RNXCP3+0sr/VeOkmMQjSv7Uz4/np1tO/tTPj+enW07+1M+P56dbTvwmOVHr5s8E/M0Da994Ewj+iRbbz/dTrPw==\",\"dtype\":\"float64\",\"order\":\"little\",\"shape\":[137]}},\"selected\":{\"id\":\"58788\"},\"selection_policy\":{\"id\":\"58787\"}},\"id\":\"58773\",\"type\":\"ColumnDataSource\"},{\"attributes\":{},\"id\":\"58730\",\"type\":\"DataRange1d\"},{\"attributes\":{\"fill_color\":{\"field\":\"Colormap\",\"transform\":{\"id\":\"58771\"}},\"xs\":{\"field\":\"__x__\"},\"ys\":{\"field\":\"__y__\"}},\"id\":\"58775\",\"type\":\"MultiPolygons\"},{\"attributes\":{\"below\":[{\"id\":\"58736\"}],\"center\":[{\"id\":\"58743\"},{\"id\":\"58751\"},{\"id\":\"58790\"}],\"height\":400,\"left\":[{\"id\":\"58744\"}],\"match_aspect\":true,\"output_backend\":\"webgl\",\"renderers\":[{\"id\":\"58768\"},{\"id\":\"58778\"}],\"right\":[{\"id\":\"58794\"}],\"title\":{\"id\":\"58726\"},\"toolbar\":{\"id\":\"58759\"},\"width\":700,\"x_range\":{\"id\":\"58728\"},\"x_scale\":{\"id\":\"58732\"},\"y_range\":{\"id\":\"58730\"},\"y_scale\":{\"id\":\"58734\"}},\"id\":\"58725\",\"subtype\":\"Figure\",\"type\":\"Plot\"},{\"attributes\":{},\"id\":\"58783\",\"type\":\"AllLabels\"},{\"attributes\":{},\"id\":\"58810\",\"type\":\"Selection\"},{\"attributes\":{\"active_scroll\":{\"id\":\"58753\"},\"tools\":[{\"id\":\"58752\"},{\"id\":\"58753\"},{\"id\":\"58754\"},{\"id\":\"58755\"},{\"id\":\"58756\"},{\"id\":\"58757\"},{\"id\":\"58792\"}]},\"id\":\"58759\",\"type\":\"Toolbar\"},{\"attributes\":{\"dimension\":\"lon\"},\"id\":\"58737\",\"type\":\"MercatorTicker\"},{\"attributes\":{\"axis_label\":\"Latitude\",\"coordinates\":null,\"formatter\":{\"id\":\"58747\"},\"group\":null,\"major_label_policy\":{\"id\":\"58783\"},\"ticker\":{\"id\":\"58745\"}},\"id\":\"58744\",\"type\":\"MercatorAxis\"},{\"attributes\":{},\"id\":\"58803\",\"type\":\"NoOverlap\"},{\"attributes\":{\"label\":{\"value\":\"Per year\"},\"renderers\":[{\"id\":\"58778\"}]},\"id\":\"58791\",\"type\":\"LegendItem\"},{\"attributes\":{\"zoom_on_axis\":false},\"id\":\"58753\",\"type\":\"WheelZoomTool\"},{\"attributes\":{},\"id\":\"58788\",\"type\":\"Selection\"},{\"attributes\":{},\"id\":\"58732\",\"type\":\"LinearScale\"},{\"attributes\":{},\"id\":\"58752\",\"type\":\"PanTool\"},{\"attributes\":{},\"id\":\"58756\",\"type\":\"ResetTool\"},{\"attributes\":{},\"id\":\"58809\",\"type\":\"UnionRenderers\"},{\"attributes\":{\"axis_label\":\"Longitude\",\"coordinates\":null,\"formatter\":{\"id\":\"58739\"},\"group\":null,\"major_label_policy\":{\"id\":\"58786\"},\"ticker\":{\"id\":\"58737\"}},\"id\":\"58736\",\"type\":\"MercatorAxis\"},{\"attributes\":{\"axis\":{\"id\":\"58736\"},\"coordinates\":null,\"group\":null,\"ticker\":null},\"id\":\"58743\",\"type\":\"Grid\"},{\"attributes\":{},\"id\":\"58787\",\"type\":\"UnionRenderers\"},{\"attributes\":{\"end\":2020,\"js_property_callbacks\":{\"change:value\":[{\"id\":\"58797\"}]},\"start\":2015,\"title\":\"Year\",\"value\":2015},\"id\":\"58796\",\"type\":\"Slider\"},{\"attributes\":{},\"id\":\"58757\",\"type\":\"HelpTool\"},{\"attributes\":{\"coordinates\":null,\"group\":null,\"tile_source\":{\"id\":\"58767\"}},\"id\":\"58768\",\"type\":\"TileRenderer\"},{\"attributes\":{\"coordinates\":null,\"data_source\":{\"id\":\"58773\"},\"glyph\":{\"id\":\"58775\"},\"group\":null,\"hover_glyph\":null,\"muted_glyph\":{\"id\":\"58777\"},\"nonselection_glyph\":{\"id\":\"58776\"},\"view\":{\"id\":\"58779\"}},\"id\":\"58778\",\"type\":\"GlyphRenderer\"},{\"attributes\":{\"high\":0.86975,\"low\":-0.8957,\"palette\":[\"#0072B2\",\"#E69F00\",\"#F0E442\",\"#009E73\",\"#56B4E9\",\"#D55E00\",\"#CC79A7\",\"#000000\"]},\"id\":\"58771\",\"type\":\"LinearColorMapper\"},{\"attributes\":{},\"id\":\"58734\",\"type\":\"LinearScale\"},{\"attributes\":{\"callback\":null,\"renderers\":[{\"id\":\"58778\"}],\"tooltips\":[[\"name\",\"@{name}\"],[\"sentiment_2015\",\"@{sentiment_2015}\"],[\"sentiment_2016\",\"@{sentiment_2016}\"],[\"sentiment_2017\",\"@{sentiment_2017}\"],[\"sentiment_2018\",\"@{sentiment_2018}\"],[\"sentiment_2019\",\"@{sentiment_2019}\"],[\"sentiment_2020\",\"@{sentiment_2020}\"]]},\"id\":\"58792\",\"type\":\"HoverTool\"},{\"attributes\":{\"dimension\":\"lat\"},\"id\":\"58745\",\"type\":\"MercatorTicker\"},{\"attributes\":{\"color_mapper\":{\"id\":\"58771\"},\"coordinates\":null,\"group\":null,\"label_standoff\":12,\"location\":[0,0],\"major_label_policy\":{\"id\":\"58803\"}},\"id\":\"58794\",\"type\":\"ColorBar\"},{\"attributes\":{\"dimension\":\"lon\"},\"id\":\"58739\",\"type\":\"MercatorTickFormatter\"},{\"attributes\":{\"dimension\":\"lat\"},\"id\":\"58747\",\"type\":\"MercatorTickFormatter\"},{\"attributes\":{\"source\":{\"id\":\"58773\"}},\"id\":\"58779\",\"type\":\"CDSView\"},{\"attributes\":{\"fill_alpha\":{\"value\":0.2},\"fill_color\":{\"field\":\"Colormap\",\"transform\":{\"id\":\"58771\"}},\"hatch_alpha\":{\"value\":0.2},\"line_alpha\":{\"value\":0.2},\"xs\":{\"field\":\"__x__\"},\"ys\":{\"field\":\"__y__\"}},\"id\":\"58777\",\"type\":\"MultiPolygons\"}],\"root_ids\":[\"58798\"]},\"title\":\"Bokeh Application\",\"version\":\"2.4.2\"}};\n  const render_items = [{\"docid\":\"95deba70-3243-40c2-bd93-7978f6b03d8a\",\"root_ids\":[\"58798\"],\"roots\":{\"58798\":\"38397240-266d-4b2a-aa1f-43f3203458b0\"}}];\n  root.Bokeh.embed.embed_items_notebook(docs_json, render_items);\n\n  }\n  if (root.Bokeh !== undefined) {\n    embed_document(root);\n  } else {\n    let attempts = 0;\n    const timer = setInterval(function(root) {\n      if (root.Bokeh !== undefined) {\n        clearInterval(timer);\n        embed_document(root);\n      } else {\n        attempts++;\n        if (attempts > 100) {\n          clearInterval(timer);\n          console.log(\"Bokeh: ERROR: Unable to run BokehJS code because BokehJS library is missing\");\n        }\n      }\n    }, 10, root)\n  }\n})(window);",
      "application/vnd.bokehjs_exec.v0+json": ""
     },
     "metadata": {
      "application/vnd.bokehjs_exec.v0+json": {
       "id": "58798"
      }
     },
     "output_type": "display_data"
    },
    {
     "name": "stderr",
     "output_type": "stream",
     "text": [
      "/usr/local/lib/python3.9/site-packages/pandas_bokeh/geoplot.py:118: ShapelyDeprecationWarning:\n",
      "\n",
      "Iteration over multi-part geometries is deprecated and will be removed in Shapely 2.0. Use the `geoms` property to access the constituent parts of a multi-part geometry.\n",
      "\n"
     ]
    },
    {
     "data": {
      "text/html": "\n\n\n\n\n\n  <div class=\"bk-root\" id=\"545af007-fcc0-41d2-9b1f-eb4dabc8ea67\" data-root-id=\"58798\"></div>\n"
     },
     "metadata": {},
     "output_type": "display_data"
    },
    {
     "data": {
      "application/javascript": "(function(root) {\n  function embed_document(root) {\n    \n  const docs_json = {\"49bbdb3e-1231-4c5a-851c-948cd3de0475\":{\"defs\":[],\"roots\":{\"references\":[{\"attributes\":{\"children\":[{\"id\":\"58796\"},{\"id\":\"58725\"}]},\"id\":\"58798\",\"type\":\"Column\"},{\"attributes\":{\"attribution\":\"&copy; <a href=\\\"https://www.openstreetmap.org/copyright\\\">OpenStreetMap</a> contributors,&copy; <a href=\\\"https://cartodb.com/attributions\\\">CartoDB</a>\",\"url\":\"https://tiles.basemaps.cartocdn.com/light_all/{z}/{x}/{y}@2x.png\"},\"id\":\"58767\",\"type\":\"WMTSTileSource\"},{\"attributes\":{},\"id\":\"58755\",\"type\":\"SaveTool\"},{\"attributes\":{\"fill_alpha\":{\"value\":0.1},\"fill_color\":{\"field\":\"Colormap\",\"transform\":{\"id\":\"58771\"}},\"hatch_alpha\":{\"value\":0.1},\"line_alpha\":{\"value\":0.1},\"xs\":{\"field\":\"__x__\"},\"ys\":{\"field\":\"__y__\"}},\"id\":\"58776\",\"type\":\"MultiPolygons\"},{\"attributes\":{\"match_aspect\":true,\"overlay\":{\"id\":\"58758\"}},\"id\":\"58754\",\"type\":\"BoxZoomTool\"},{\"attributes\":{},\"id\":\"58994\",\"type\":\"UnionRenderers\"},{\"attributes\":{\"bottom_units\":\"screen\",\"coordinates\":null,\"fill_alpha\":0.5,\"fill_color\":\"lightgrey\",\"group\":null,\"left_units\":\"screen\",\"level\":\"overlay\",\"line_alpha\":1.0,\"line_color\":\"black\",\"line_dash\":[4,4],\"line_width\":2,\"right_units\":\"screen\",\"syncable\":false,\"top_units\":\"screen\"},\"id\":\"58758\",\"type\":\"BoxAnnotation\"},{\"attributes\":{\"args\":{\"geo_source\":{\"id\":\"58773\"},\"slider_widget\":{\"id\":\"58796\"},\"value2name\":{\"id\":\"58795\"}},\"code\":\"\\n\\n                //Change selection of field for Colormapper for choropleth plot:\\n                var slider_value = slider_widget.value;\\n                var i;\\n                for(i=0; i<value2name.data[\\\"Names\\\"].length; i++)\\n                    {\\n                    if (value2name.data[\\\"Values\\\"][i] == slider_value)\\n                        {\\n                         var name = value2name.data[\\\"Names\\\"][i];\\n                         }\\n\\n                    }\\n                geo_source.data[\\\"Colormap\\\"] = geo_source.data[name];\\n                geo_source.change.emit();\\n\\n                            \"},\"id\":\"58797\",\"type\":\"CustomJS\"},{\"attributes\":{\"data\":{\"Names\":[\"sentiment_2015\",\"sentiment_2016\",\"sentiment_2017\",\"sentiment_2018\",\"sentiment_2019\",\"sentiment_2020\"],\"Values\":[2015,2016,2017,2018,2019,2020]},\"selected\":{\"id\":\"58810\"},\"selection_policy\":{\"id\":\"58809\"}},\"id\":\"58795\",\"type\":\"ColumnDataSource\"},{\"attributes\":{\"coordinates\":null,\"group\":null,\"text\":\"Sentiment regarding LGBT community\"},\"id\":\"58726\",\"type\":\"Title\"},{\"attributes\":{\"axis\":{\"id\":\"58744\"},\"coordinates\":null,\"dimension\":1,\"group\":null,\"ticker\":null},\"id\":\"58751\",\"type\":\"Grid\"},{\"attributes\":{},\"id\":\"58728\",\"type\":\"DataRange1d\"},{\"attributes\":{\"click_policy\":\"hide\",\"coordinates\":null,\"group\":null,\"items\":[{\"id\":\"58791\"},{\"id\":\"59010\"}]},\"id\":\"58790\",\"type\":\"Legend\"},{\"attributes\":{},\"id\":\"58786\",\"type\":\"AllLabels\"},{\"attributes\":{},\"id\":\"58730\",\"type\":\"DataRange1d\"},{\"attributes\":{\"data\":{\"Colormap\":{\"__ndarray__\":\"u3FlYzixqr+7cWVjOLGqv7txZWM4saq/u3FlYzixqr+7cWVjOLGqv7txZWM4saq/u3FlYzixqr+7cWVjOLGqv7txZWM4saq/u3FlYzixqr+7cWVjOLGqv7txZWM4saq/u3FlYzixqr+7cWVjOLGqv7txZWM4saq/u3FlYzixqr+7cWVjOLGqv7txZWM4saq/u3FlYzixqr+7cWVjOLGqv7txZWM4saq/u3FlYzixqr+7cWVjOLGqv7txZWM4saq/u3FlYzixqr+7cWVjOLGqv7txZWM4saq/u3FlYzixqr+7cWVjOLGqv7txZWM4saq/TbMtZqMyyT9Nsy1mozLJP02zLWajMsk/TbMtZqMyyT9Nsy1mozLJP02zLWajMsk/TbMtZqMyyT9Nsy1mozLJP02zLWajMsk/TbMtZqMyyT9wWPuGtW/UP3BY+4a1b9Q/cFj7hrVv1D9wWPuGtW/UP3BY+4a1b9Q/cFj7hrVv1D9wWPuGtW/UP3BY+4a1b9Q/cFj7hrVv1D9wWPuGtW/UP3BY+4a1b9Q/cFj7hrVv1D9wWPuGtW/UP2+EMnpb1tQ/b4QyelvW1D+uuObPOXxzP6645s85fHM/HsDrrm0rwj+7awn5oGejv7trCfmgZ6O/u2sJ+aBno7+7awn5oGejv7trCfmgZ6O/u2sJ+aBno7+7awn5oGejv7trCfmgZ6O/u2sJ+aBno7+7awn5oGejv7trCfmgZ6O/u2sJ+aBno7+7awn5oGejv7trCfmgZ6O/zojS3uALyz/OiNLe4AvLP86I0t7gC8s/zojS3uALyz9vULDT0QfgP6yL22gAb8E/Ib1LitopxD8AAAAAAAAAAMQgsHJokeU/Nc8kxG8dzj/Y48Pcp1arP9jjw9ynVqs/2OPD3KdWqz9wsudFAEqWv70ta3VM8MC/+k6Q3mQzzj/o1n5Fkcixv/FBz2bV56K/L2VywLW4xz9GZ/hxcc91v3wT0zcxfcU/lLw6x4Dsxb9WzE5qiXfKP9EvVVniV6u/KBI5anIeyz8SA8NVaLmNP5DkrfdcKL2/2or9Zffkzz+CsJpVTrDFP2qN4oym56U/VhwHXi13xj9WHAdeLXfGP1K7F0nYLpw/2oEC1kbl0j8wMzAGjUnEP7eqYQ7kFdU/L/XzpiIVwr8AAAAAAAAAAAAAAAAAAAAAzJf3dH7quj/Ml/d0fuq6P+uJbdBakMs//29qY6tJxz//b2pjq0nHP/9vamOrScc/sJRliGNdyj+wlGWIY13KP181PbUplsA/XzU9tSmWwD/F4cyv5gDBP8XhzK/mAME/xeHMr+YAwT/F4cyv5gDBP8XhzK/mAME/xeHMr+YAwT/F4cyv5gDBP95JMS3XyMO/3kkxLdfIw790JJf/kH6rPwcmuLRshLa/Bya4tGyEtr8HJri0bIS2vwaXcYNto8E/OH2NOgb2wj8juuXm2pWxPw==\",\"dtype\":\"float64\",\"order\":\"little\",\"shape\":[137]},\"__x__\":[[[[-13674486,-13689426,-13904944,-13984467,-14186067,-14248088,-14232232,-14374662,-14394192,-14528860,-14531213,-14469307,-14472399,-14661646,-14845073,-14946991,-15022008,-15081100,-15192852,-15301142,-15400037,-15477750,-15586175,-15695801,-15694489,-15486825,-15311590,-15195509,-15097790,-14962969,-14797616,-14630872,-14448681,-14372206,-14289143,-14264275,-14187348,-13999129,-13850908,-13835863,-13699096,-13657064,-13522230,-13351980,-13091470,-12938267,-12829226,-12679060,-12835681,-12634458,-12333976,-12239153,-12120488,-11999393,-12113006,-12041118,-11905619,-11816563,-11726709,-11614843,-11490525,-11293844,-11121034,-10958646,-10971493,-10872516,-10700019,-10700684,-10629834,-10540285,-10489949,-10609201,-10739137,-10730213,-10598595,-10451783,-10339151,-10187919,-10286691,-10079657,-10080147,-9931385,-9798303,-9831458,-9723776,-9607547,-9526347,-9520262,-9362059,-9197503,-9048096,-9041391,-9124230,-9045741,-9059907,-9277873,-9432703,-9547809,-9581001,-9688294,-9720778,-9849878,-10009229,-10097120,-10104474,-10233981,-10370187,-10490919,-10534086,-10540241,-10376648,-10326510,-10274458,-10118684,-9911835,-9800543,-9720886,-9581403,-9463471,-9279653,-9158571,-9176755,-9142115,-9061490,-8895862,-8810159,-8749924,-8808066,-8886588,-8708383,-8582242,-8520546,-8529654,-8605248,-8740459,-8609088,-8657619,-8694816,-8617316,-8426463,-8312026,-8219817,-8116140,-7979056,-7945282,-7746770,-7750099,-7713093,-7611420,-7530736,-7369548,-7263059,-7189404,-7102712,-6834632,-6879395,-6731325,-6631259,-6453756,-6382302,-6338185,-6251492,-6206765,-6198645,-6359338,-6542783,-6682853,-6871046,-7109142,-7276210,-7391508,-7484711,-7626625,-7787201,-7915325,-7820775,-7642083,-7408582,-7242029,-7143481,-7248618,-7213340,-7177011,-7032418,-6848455,-6736849,-6729107,-6657225,-6794928,-7041482,-7151894,-7276293,-7360823,-7365090,-7171812,-7349986,-7473702,-7546497,-7546399,-7595823,-7670469,-7707451,-7792361,-7826316,-7865835,-7913125,-7948768,-7959906,-8334156,-8384384,-8515941,-8551567,-8763101,-8813350,-8795352,-8787489,-8933105,-9047797,-9177098,-9205018,-9242836,-9255325,-9228385,-9176065,-9143520,-9189526,-9305513,-9291787,-9308105,-9338677,-9361062,-9366657,-9388318,-9418174,-9411367,-9437581,-9448361,-9838206,-9937815,-9974226,-10111149,-10201318,-10309298,-10500671,-10535276,-10555044,-10592727,-10593059,-13674486]]],[[[-9350132,-9267401,-9114504,-9116871,-9247150,-9325748,-9350132]]],[[[-8880605,-9003086,-8998386,-8944861,-8690093,-8498129,-8488267,-8726520,-8848369,-8880605]]],[[[-8940668,-8897698,-8852128,-8823830,-8867434,-8916642,-8945873,-8940668]]],[[[-10420924,-10481499,-10643109,-10778056,-10718796,-10558744,-10461554,-10420924]]],[[[-10446221,-10496939,-10705556,-10735240,-10511073,-10432935,-10446221]]],[[[-10770650,-10637610,-10667779,-10832482,-10923145,-10970855,-10979662,-10835531,-10770650]]],[[[-9812852,-9992563,-10288419,-10326918,-10340457,-10452212,-10682491,-10811502,-10769617,-10540184,-10416601,-10197424,-10101336,-10126696,-9998965,-9928260,-9778112,-9615687,-9438737,-9212071,-9031186,-8911961,-8887072,-8956518,-9122503,-9264998,-9584324,-9812852]]],[[[-12385901,-12228941,-12265953,-12473481,-12638578,-12548443,-12385901]]],[[[-12352418,-12207645,-12343251,-12528128,-12526324,-12412124,-12352418]]],[[[-6189387,-6322488,-6249821,-6175058,-6214121,-6115352,-6063992,-5952982,-5987431,-5909521,-5895329,-5860759,-5907631,-5957981,-6031171,-6007007,-6038022,-6167185,-6233611,-6154990,-6261810,-6381415,-6597462,-6614547,-6545206,-6593634,-6500145,-6385140,-6316117,-6219528,-6167876,-6189387]]],[[[-9337771,-9215870,-9088347,-9078487,-8996547,-8917075,-9015879,-9189109,-9251629,-9362015,-9520421,-9558644,-9709506,-9612745,-9598510,-9560546,-9480113,-9459458,-9402490,-9337771]]],[[[-8768707,-8663397,-8416404,-8263091,-8248678,-8041967,-7925949,-7657228,-7560259,-7454958,-7659351,-7397165,-7220439,-7060431,-6885331,-6919973,-7115368,-7252337,-7427372,-7571396,-7585453,-7468385,-7317261,-7271407,-7198965,-7237303,-7377704,-7656909,-7383632,-7365517,-7667393,-7906292,-8041205,-8002343,-8330529,-8328757,-8650635,-8744808,-8671485,-8462315,-8233166,-8270357,-8231510,-8087490,-8118091,-8161011,-8331518,-8557029,-8485734,-8603590,-8701692,-8789479,-8849059,-9050883,-9456001,-9691475,-9872003,-9964588,-9848181,-10006303,-10041592,-9956034,-9841560,-9554123,-9636057,-9548359,-9445471,-9163329,-8972360,-8988931,-8768707]]],[[[-10520099,-10288148,-10075504,-10241834,-10374564,-10493982,-10620976,-10690427,-10688704,-10630543,-10520099]]],[[[-13676147,-13487195,-13258589,-13087847,-12935167,-12950443,-13036185,-13140198,-13347130,-13525317,-13676147]]],[[[-14773210,-14666341,-14699680,-14602784,-14647176,-14714257,-14755397,-14811571,-14832171,-14825530,-14773210]]],[[[-11743347,-11524826,-11223805,-11138649,-11095318,-11277103,-11460320,-11708153,-11600651,-11735254,-11743347]]],[[[-13749070,-13805051,-13987852,-14021245,-14120877,-14140914,-14255500,-14298385,-14288793,-14103622,-13998983,-13906116,-13794990,-13749070]]],[[[-13529534,-13370559,-13086233,-12978118,-12858604,-12998547,-13271509,-13409545,-13409545,-13702559,-13761315,-14018346,-13893483,-13796937,-13905780,-13529534]]],[[[-12002404,-11903274,-11786619,-11767024,-11834761,-12211748,-12492615,-12661903,-12676100,-12444874,-12947815,-13103461,-12951579,-12846811,-12533523,-12335782,-12141294,-12300498,-12198512,-12083573,-12046039,-12002404]]],[[[-11858040,-11733348,-11663481,-11628963,-11442015,-11241129,-11253208,-11435980,-11364973,-11402482,-11603943,-11795413,-11924826,-12133824,-12613967,-12674276,-12826231,-12925076,-13062229,-12988171,-12816337,-12659409,-12514103,-12729383,-12967255,-13125102,-13183832,-12925652,-13097370,-13291768,-13198336,-13120829,-12822790,-12709031,-12764598,-12516877,-12362072,-12236277,-12134552,-12043472,-11987549,-12066630,-11968676,-11858040]]],[[[-11180747,-11303381,-11171625,-11038871,-10840292,-10811348,-10915275,-10746783,-10766821,-10949347,-11056570,-11133598,-11410247,-11408021,-11180747]]],[[[-11866657,-11717489,-11632886,-11730847,-11904506,-11866657]]],[[[-10964969,-10879875,-10876405,-10927121,-11110658,-11230317,-11228008,-11410480,-11417541,-11297785,-11130111,-10973540,-10964969]]],[[[-10688501,-10611357,-10497253,-10545898,-10287016,-10144866,-9957528,-9774964,-9687022,-9552809,-9705674,-9911369,-10108295,-10338985,-10458595,-10456878,-10368880,-10572457,-10695146,-10765676,-10688501]]],[[[-10195420,-10029886,-9899895,-9681482,-9517816,-9379780,-9259555,-9174952,-9028010,-8828374,-8488111,-8428976,-8107568,-7327867,-7088825,-6885110,-6889995,-7161628,-7430956,-7531604,-7289234,-7551914,-7733331,-7923721,-8153351,-8224283,-8561329,-8407876,-8484822,-8392760,-8498523,-8670509,-8723294,-8878788,-8863218,-8673000,-8670576,-8968037,-9258930,-9585926,-9751587,-9962056,-9976018,-9770221,-9825058,-9757153,-9459522,-9611324,-9791876,-9701714,-9504311,-9472726,-9629953,-9677202,-9372927,-9285013,-9111303,-9361969,-9751470,-9948247,-10041018,-10171023,-10195420]]],[[[-8373003,-8445351,-8570139,-8597916,-8550634,-8448616,-8361707,-8360464,-8373003]]],[[[-10715324,-10647451,-10716674,-10866719,-10957377,-11109395,-11011434,-10933606,-10748720,-10715324]]],[[[-7182235,-7143730,-6997352,-6883505,-6880246,-6934445,-7078724,-7182235]]],[[[-7126101,-7087099,-7006370,-6903153,-6957903,-6999138,-7140343,-7168152,-7126101]]],[[[-13674486,-10593059,-10592727,-10555044,-10535276,-10500671,-10309298,-10201318,-10111149,-9974226,-9937815,-9838206,-9448361,-9437581,-9411367,-9418174,-9388318,-9366657,-9361062,-9338677,-9308105,-9291787,-9305513,-9189526,-9143520,-9176065,-9252876,-9255325,-9242836,-9205018,-9177098,-9047797,-8933105,-8787489,-8795352,-8813350,-8763101,-8551567,-8515941,-8384384,-8334156,-7959906,-7948768,-7913125,-7865835,-7826316,-7792361,-7707451,-7670469,-7595823,-7546399,-7546497,-7473702,-7454471,-7573345,-7805296,-7883077,-7884202,-7847467,-7801269,-7812958,-7779559,-7788471,-7863608,-7917085,-7999418,-8112567,-8205359,-8041860,-8008880,-8164728,-8235638,-8232335,-8266219,-8233461,-8257499,-8338502,-8346781,-8371227,-8407744,-8384584,-8356958,-8355276,-8453627,-8463762,-8429340,-8486204,-8499243,-8520697,-8496942,-8570487,-8493857,-8489084,-8457142,-8429945,-8500710,-8615865,-8689038,-8744630,-8800993,-8816901,-8939102,-9001848,-9054314,-9071472,-9051800,-9014652,-8965180,-8964558,-8911853,-8920204,-8947975,-8981256,-9036040,-9053614,-9095915,-9206695,-9223405,-9200555,-9231725,-9318508,-9361969,-9474270,-9494198,-9548217,-9618004,-9743835,-9842626,-9927526,-9973539,-9953491,-9955302,-9931665,-9952878,-9994183,-10035967,-10116740,-10199847,-10296948,-10377912,-10447158,-10540842,-10642172,-10752799,-10813575,-10839178,-10840292,-10834726,-10813575,-10856989,-11022855,-11054025,-11078515,-11144194,-11238548,-11317006,-11408021,-11478152,-11570547,-11628096,-11692706,-11815773,-11856370,-12049221,-12049437,-12359091,-12781147,-12770726,-13038602,-13057324,-13129466,-13181407,-13193574,-13256036,-13295870,-13399279,-13427675,-13441197,-13549203,-13641921,-13637974,-13687086,-13773248,-13788607,-13847929,-13823527,-13827405,-13862932,-13819439,-13792365,-13812481,-13847662,-13880116,-13866634,-13705655,-13646362,-13618826,-13636637,-13674486]]],[[[-17299287,-17261451,-17233082,-17314868,-17331127,-17358788,-17355605,-17374019,-17349151,-17356831,-17350376,-17299287]]],[[[-17365357,-17374663,-17411976,-17444938,-17434032,-17394461,-17365357]]],[[[-17450247,-17453708,-17513362,-17505019,-17450247]]],[[[-17591284,-17549832,-17555866,-17602580,-17621057,-17591284]]],[[[-17740507,-17738217,-17751420,-17788911,-17766167,-17740507]]],[[[-18531109,-18442793,-18432188,-18500494,-18573471,-18641036,-18531109]]],[[[-17057344,-16983434,-16936275,-17032584,-17143768,-17200687,-17217896,-17116794,-17057344]]],[[[-15694488,-15695801,-15586175,-15477750,-15400037,-15301142,-15192852,-15081100,-15022008,-14946991,-14845073,-14661646,-14472399,-14469307,-14531213,-14592406,-14690522,-14722003,-14865513,-14925501,-15032384,-15209366,-15339826,-15570010,-15871314,-16025429,-16244358,-16376697,-16500254,-16477295,-16538828,-16667628,-16765632,-16888991,-16904914,-16854852,-16736544,-16767065,-16908967,-16984941,-17145335,-17063887,-17169082,-17288750,-17400164,-17427745,-17601528,-17636716,-17766961,-17843369,-18060225,-18152807,-18343845,-18361284,-18239513,-18130605,-18011958,-17873858,-17818973,-17664671,-17639808,-17557618,-17538416,-17481799,-17610156,-17646055,-17706323,-17779021,-17809035,-17850667,-17961956,-18030294,-18039878,-18019750,-18091427,-18236174,-18330114,-18406275,-18406770,-18492547,-18449474,-18358718,-18319014,-18228937,-18152560,-18062762,-17981932,-17897113,-17917799,-17980109,-17897700,-17966067,-18084190,-18118113,-18205901,-18363355,-18526378,-18573100,-18713981,-18557545,-18309240,-18217714,-18232863,-17997887,-18088272,-18225195,-18304374,-18411162,-18564132,-18501823,-18304354,-18163846,-18137347,-18023615,-17915179,-17704160,-17601807,-17430497,-17262067,-17181513,-17132070,-16943940,-16950619,-16780299,-16666754,-16432244,-16218135,-16132421,-15984304,-15815439,-15694488]]],[[[-19117080,-19048371,-18978983,-18888970,-18778422,-18787606,-18871930,-18956658,-18999051,-19097199,-19123698,-19117080]]],[[[15696071,15699816,15600693,15487632,15460215,15319173,15366442,15436520,15407498,15354056,15138254,15046454,14879283,14846424,14803706,14778435,14778084,14693037,14812933,14892324,14882994,14720040,14675941,14576490,14529370,14679427,14736487,14915202,14932771,14963858,15079071,15172102,15299832,15398794,15576567,15696071]]],[[[13911450,13922730,13924790,13852146,13756860,13743503,13753524,13801391,13911450]]],[[[14940203,14929365,14972429,14997741,14997476,14940203]]],[[[13122568,13059249,13141079,13121854,13246657,13114756,13077628,13082449,12975405,12972482,12929545,12913156,12786691,12742592,12663223,12607710,12475366,12434753,12361833,12270062,12253040,12197493,12144051,12128554,12141520,12207658,12226244,12302368,12374178,12445246,12510112,12563496,12668809,12759590,12816662,12859524,12898090,13026074,13122568]]],[[[14401513,14524003,14564467,14470481,14377496,14314649,14237639,14264020,14401513]]],[[[14123651,14046716,14025035,14137647,14165317,14123651]]],[[[14241367,14249357,14315080,14325510,14319688,14262272,14245336,14291196,14260028,14215106,14182046,14204423,14241367]]],[[[13684234,13812246,13922282,13941708,13852267,13768607,13661471,13475972,13378719,13362888,13462523,13522626,13730208,13721062,13672562,13624228,13526239,13631580,13611245,13711328,13710368,13650943,13607293,13661079,13551838,13524145,13538584,13458324,13466584,13392341,13406286,13335690,13287863,13319778,13302549,13255740,13221167,13267165,13283019,13338969,13362313,13456943,13543888,13684234]]],[[[13391179,13243435,13347241,13405733,13444667,13438000,13391179]]],[[[13507692,13581797,13681559,13665244,13497988,13349922,13349536,13437942,13507692]]],[[[13164711,13233489,13261102,13055297,12995453,13033702,13094737,13124570,13164711]]],[[[12076700,12091910,12305170,12329699,12536223,12576738,12743736,12880280,12753263,12630836,12530085,12414579,12310393,12181432,12099722,12053425,11850416,11831104,11729232,11805615,11940686,12030530,12076700]]],[[[11618414,11637282,11676066,11757799,11811954,11783996,11779567,11656306,11562556,11419627,11371973,11287697,11232415,11147754,11049988,11017291,10976252,10875869,10817687,10733872,10617750,10607971,10851967,10950405,11097885,11203353,11316518,11410055,11474461,11559237,11514626,11578428,11618414]]],[[[-7640303,-7597555,-7541895,-7397180,-7241332,-7291426,-7397180,-7453944,-7640229,-7640303]]],[[[-6414800,-6472386,-6471296,-6495449,-6511682,-6370350,-6385548,-6315988,-6321643,-6428606,-6593660,-6816921,-6939206,-6915808,-6938602,-6918060,-6984830,-7098899,-7205943,-7248906,-7233380,-7158222,-7097279,-7064118,-7166615,-7256005,-7272371,-7298692,-7403855,-7491110,-7523032,-7413551,-7307125,-7345426,-7476904,-7549252,-7650848,-7696466,-7660513,-7586422,-7736522,-8005519,-8051672,-8049509,-8123622,-8162841,-8172568,-8087165,-8051867,-8064802,-8005792,-7965133,-7977078,-7928483,-7940397,-7992029,-7955342,-8005588,-8031578,-7986817,-8005622,-7949716,-7883052,-7916889,-7917251,-7832970,-7835561,-7772027,-7771745,-7800646,-7851927,-7783348,-7793872,-7754084,-7681182,-7602624,-7635938,-7612694,-7616218,-7494967,-7456762,-7470280,-7377514,-7231858,-7166417,-7122982,-6996036,-6978068,-6773408,-6682393,-6546379,-6431730,-6415749,-6525345,-6413089,-6288070,-6200033,-6099060,-6080859,-6025729,-5969880,-5972149,-6140637,-6266274,-6414800]]],[[[-7640303,-7640229,-7453944,-7490803,-7586270,-7706882,-7787698,-7904316,-8044380,-8158071,-8311394,-8219619,-8063336,-7915676,-7858241,-7822140,-7719522,-7640303]]],[[[-7746770,-7692204,-7677351,-7618953,-7654012,-7594205,-7550598,-7470280,-7456762,-7494967,-7616218,-7612694,-7635938,-7602624,-7681182,-7754084,-7793872,-7783348,-7851927,-7800646,-7771745,-7772027,-7835561,-7832970,-7917251,-7916889,-7883052,-7949716,-8005622,-7986817,-8031578,-8005588,-7955342,-7992029,-7940397,-7928483,-7977078,-7965133,-8005792,-8064802,-8051867,-8087165,-8172568,-8162841,-8123622,-8049509,-8051672,-8005519,-7736522,-7633349,-7732394,-7785994,-7886440,-7904388,-7951528,-8077113,-8204553,-8343035,-8377907,-8346360,-8402367,-8416645,-8369307,-8251733,-8420695,-8314692,-8276794,-8153079,-8094908,-8169614,-8204395,-8274594,-8201697,-8150545,-8182601,-8191785,-8144881,-8076578,-7999611,-7952491,-7978125,-7944881,-7958218,-7893122,-7873065,-7802521,-7810667,-7833838,-7776606,-7746770]]],[[[4363971,4204192,4196598,3774143,3773014,3859680,3900188,3851216,3838199,3785419,3929356,3987180,3987180,4025210,4102690,4243600,4304851,4329494,4403730,4436631,4538326,4583223,4659286,4561989,4563319,4629235,4551271,4523784,4482061,4466270,4430522,4408796,4363971]]],[[[19895609,20037508,20037508,19915438,19895609]]],[[[5465916,5415182,5307258,5196617,5297799,5286843,5408387,5341919,5322815,5273573,5197069,5165775,5095805,5061728,4957905,4890399,4870894,4719323,4555437,4461347,4447771,4305837,4178835,4082693,4163701,4256072,4193819,4357898,4354952,4255024,4258539,4315920,4423644,4441160,4416561,4461773,4460465,4296374,4231324,4162620,4077206,3935824,3938250,3898651,3809889,3800667,3828469,3757333,3641901,3608093,3579972,3538397,3511018,3484878,3506301,3596122,3639439,3607374,3532309,3539005,3493703,3423913,3447769,3436867,3328040,3269628,3253814,3136616,3100835,3091344,3037706,3085407,3052397,3131606,3114844,3241367,3124738,3466487,3508355,3343578,3389086,3288870,3363813,3234342,3337071,3166587,3182839,3272742,3462156,3576998,3759868,4064715,4485322,4570763,4578119,4454541,4272770,3775813,3694074,3875562,3889938,4033248,4120238,4134625,4067567,4138417,4407522,4501270,4426352,4685781,4788523,4892463,4957308,4864482,4918980,4837145,5148526,5212127,5071178,5071940,5159563,5331553,5358782,5591317,5979796,6063763,5954014,6092101,6171850,6380501,6545808,6672648,6799154,6682509,6740395,7069232,7223311,7626738,7701158,7588030,7584777,7450622,7487322,7427784,7424415,7629844,7702903,7785685,8080407,8103616,7998095,8067335,8103155,8077865,8200669,8152894,7934853,8062092,8106371,8228846,8258404,8354750,8289880,8341819,8220093,8193322,8282147,8137577,8336807,8311030,8366551,8425049,8381130,8500257,8449497,8635793,8866822,9072538,8973543,8962453,9156028,9423780,9665014,9574540,9703366,9831259,10047697,10341645,10378784,10671086,10762169,11012006,11216515,11247200,11353568,11616366,11807284,11655707,11907860,11937902,12039625,12365064,12616005,12705357,12677663,12554520,12261981,12178352,12316388,12481051,12581277,12638055,12686949,12864950,13222120,13249245,13714634,13720992,13957237,14134952,14314713,14365955,14300101,14439917,14614977,14722392,14900966,15090685,15306157,15388148,15570238,15489874,15636845,16642263,16737016,17028420,17477925,17699553,17792228,17778686,17915817,18064823,18262238,18472397,18683381,18877295,19015248,18925226,18974791,19329951,19561509,19881661,20037508,20037508,19893594,19749333,19849712,19915975,19967414,19980330,19951597,19744103,19432964,19333983,19163650,19002070,18961143,18801913,18511872,18461224,18353994,18205110,18169245,18035686,18039654,18166440,18151526,18048182,18000524,18046836,17852169,17813537,17647583,17614214,17453759,17412594,17364929,17302795,17356313,17450237,17456048,17629036,17827887,18019513,18219626,18309111,18173844,18106995,17824641,17733453,17446066,17167475,17259391,17010937,16838824,16846885,16673846,16535932,16195563,15829388,15468787,15042178,15217564,15272301,15380424,15451660,15573764,15734487,15738263,15651233,15641844,15591622,15423840,15386547,15013591,14865256,14795058,14725127,14575714,14558363,14542778,14542095,14598959,14614975,14585657,14681198,14816303,14891168,14929318,14972561,15031060,14847080,14750577,14581435,14536354,14404499,14210756,14169574,14020283,13922529,13755913,13608334,13470001,13378052,13439133,13440514,13378607,13278120,13279130,13122257,12988624,12855808,12797523,12730770,12567718,12421165,12318838,12178624,12075400,12007830,11898807,11787241,11646421,11541220,11383073,11361847,11230965,11129915,11005210,10889911,10935109,10826906,10665967,10554863,10480459,10364313,10267521,10098199,9885790,9724867,9665799,9522410,9475020,9397188,9343614,9282153,9122185,8968838,8909517,8660758,8518744,8559478,8280480,8173709,8182930,8039955,7923735,7888685,7688633,7588549,7310002,7255641,6839091,6788047,6868411,6761545,6782392,6675555,6855945,6828050,6671689,6639348,6496975,6320495,6202381,5825206,5651317,5421524,5407660,5293183,5204363,5236877,5172621,5267108,5349708,5420672,5409375,5465916]]],[[[10439281,10680091,10896380,11152727,11125243,10882364,10572300,10387542,10302106,10150230,10439281]]],[[[11447853,11730005,11696947,11069403,11272757,11364200,11447853]]],[[[15454604,15748548,16150931,16063402,15653057,15468448,15247919,15307739,15454604]]],[[[16500023,16779372,16650715,16472776,16265913,16292552,16500023]]],[[[15569491,15675087,15814277,15972435,15985907,15817122,15588976,15569491]]],[[[4992340,5209656,5378788,5401534,5465474,5570401,5735506,5692454,5442900,5427374,5297262,5176670,5240081,4992340]]],[[[2530414,2325714,2188612,2213975,2367592,2484174,2533382,2521503,2530414]]],[[[5956515,6223033,6192918,6441907,6809418,7179925,7370572,7587209,7664593,7589826,7195394,6855444,6509639,6343739,6169252,6191905,6404844,6339086,5975338,5945798,5744296,5728028,5841854,5838058,6058854,5956515]]],[[[15909182,15947724,15944877,15990823,16102826,15938048,15869558,15978075,15974934,15890601,15817612,15797006,15809420,15796730,15822484,15827403,15762180,15772028,15874931,15830716,15880258,15909182]]],[[[-19472923,-19482497,-19407421,-19433246,-19131068,-18913134,-19023506,-19205979,-19208734,-19253299,-19357551,-19442385,-19590396,-19615291,-19728336,-19854936,-19915426,-19891246,-20024569,-19974354,-20037508,-20037508,-19764775,-19472923]]],[[[-19892100,-20037508,-20037508,-20023245,-19928897,-19767886,-19777418,-19892100]]],[[[3722077,3751406,3830548,3866350,3880796,3897591,3898496,3952956,4066500,4044761,3922898,3771783,3709880,3734426,3612782,3632444,3739017,3722077]]],[[[1685691,1727962,1891412,2031784,2398248,2118117,2056262,1958600,1905589,1771443,1532044,1633007,1466144,1249261,1162679,1466163,1527138,1685691]]],[[[3462152,3272742,3182839,3229998,3087144,2914302,2859710,2753563,2634047,2488685,2364975,2298256,2229202,2212871,2003068,1973603,1866703,1681860,1509012,1549556,1510818,1400391,1328104,1334950,1406092,1369270,1276642,1227561,1152886,933080,784663,630717,590909,555715,658221,952161,1171939,1375724,1643203,1829639,2135556,2379834,2562991,2732508,2935500,3135374,3483567,3340189,3462152]]],[[[3050989,2885918,2563071,2234759,2214953,2055209,1933398,2277150,2438781,2551359,2832816,3050989]]],[[[2752276,2503610,2307208,2384030,2316770,2547464,2591666,2752276]]],[[[1819514,1872841,1916802,1935567,2055503,2115307,2214671,2214786,2244838,2310837,2300580,2325420,2405157,2460825,2513541,2540786,2595090,2642008,2695185,2785789,2856977,2887811,2948380,2981849,3018918,3118864,3276376,3321666,3375527,3413040,3472211,3554496,3534661,3544165,3487991,3455811,3445301,3414904,3415945,3482382,3547536,3570201,3654632,3626818,3613668,3584864,3487145,3439968,3408915,3345787,3141408,3057346,2940999,2884250,2869886,2802230,2747126,2626476,2559033,2512943,2398133,2303094,2234322,2183688,2136585,2098964,2051021,2045764,2030968,2031589,1995423,2031348,2028437,1955540,1819514],[3225845,3177247,3125221,3064905,3005544,3089048,3128879,3149347,3211389,3264462,3225845]]],[[[-13038602,-12770726,-12781147,-12359091,-12049437,-12049221,-11856370,-11815773,-11692706,-11628096,-11570547,-11478152,-11408021,-11317006,-11238548,-11144194,-11078515,-11054025,-11022855,-10856989,-10813576,-10856775,-10876242,-10884379,-10895102,-10875807,-10841289,-10819067,-10745177,-10719190,-10675637,-10557436,-10511424,-10413788,-10328902,-10175481,-10104678,-10078153,-10069012,-10049769,-9974373,-9856658,-9758090,-9690572,-9663865,-9667642,-9727463,-9753931,-9733414,-9777991,-9806207,-9850675,-9890552,-9910758,-9924233,-9923362,-10130242,-10130326,-10180603,-10097993,-10085640,-10067608,-10070459,-10213336,-10266912,-10251101,-10264016,-10266746,-10392727,-10450135,-10541026,-10603206,-10692613,-10748724,-10910760,-11014804,-11098263,-11224288,-11317417,-11345518,-11407813,-11521677,-11568046,-11687657,-11743431,-11769965,-11732826,-11744279,-11718686,-11718137,-11755690,-11765737,-11803062,-11901164,-12013092,-12067244,-12162789,-12183260,-12166290,-12223042,-12288751,-12316501,-12376380,-12493189,-12498042,-12557906,-12597337,-12595652,-12676159,-12713324,-12776856,-12794694,-12776275,-12765440,-12626307,-12609377,-12594691,-12574905,-12552562,-12518757,-12495050,-12425090,-12388153,-12324181,-12318063,-12264386,-12179365,-12182069,-12228915,-12248638,-12277991,-12350841,-12431110,-12488047,-12484368,-12501257,-12630829,-12645530,-12673605,-12742268,-12807879,-12799765,-12753914,-12712611,-12708457,-12794154,-12859477,-12993380,-13038602]]],[[[-5941528,-5972351,-5923264,-5987647,-6189531,-6230913,-6342542,-6414800,-6266274,-6140637,-5972149,-5969880,-6025729,-6080859,-6043922,-6043864,-6083925,-6125678,-6167182,-6180195,-6190552,-6211400,-6286580,-6332020,-6449534,-6442133,-6475053,-6440255,-6450964,-6420463,-6400689,-6426981,-6487789,-6499728,-6483382,-6696801,-6739612,-6707127,-6708594,-6730287,-6735196,-6799853,-6869882,-6915955,-6991204,-7035002,-7159663,-7280548,-7271600,-7285285,-7273441,-7419099,-7477753,-7575090,-7599921,-7657240,-7740008,-7802800,-7853443,-7846008,-7937348,-8035585,-8077679,-8151560,-8128035,-8189892,-8236221,-8206851,-8206972,-8139684,-8150780,-8122371,-8114292,-7986995,-7895762,-7880837,-7780523,-7727853,-7745283,-7794663,-7794097,-7731405,-7709145,-7705383,-7770612,-7771989,-7555094,-7518274,-7487348,-7465647,-7444638,-7383350,-7296799,-7275253,-7146634,-7133696,-7054181,-7060201,-7154503,-7169957,-7165468,-7215291,-7194429,-7112017,-7023502,-6991368,-6911318,-6786803,-6746092,-6760830,-6702956,-6677049,-6691526,-6653277,-6627744,-6658621,-6676333,-6647838,-6639767,-6571285,-6516644,-6504339,-6418789,-6382594,-6233412,-6223382,-6242055,-6230921,-6185996,-6133435,-6021055,-5986597,-5961697,-5946516,-5893215,-5850554,-5816369,-5750519,-5712598,-5685060,-5622622,-5563088,-5560085,-5643814,-5609189,-5412416,-5408401,-5323849,-5183768,-4998880,-4944546,-4962799,-4833357,-4616715,-4450404,-4285843,-4143673,-4057922,-3962728,-3922385,-3866125,-3910454,-3967088,-4123999,-4194920,-4277326,-4305157,-4336258,-4328357,-4371220,-4406417,-4426154,-4539023,-4557949,-4648052,-4674114,-4795054,-4970171,-5048576,-5173249,-5304259,-5398489,-5414691,-5396182,-5416975,-5442238,-5520036,-5643550,-5741439,-5817120,-5867884,-5941528]]],[[[-7444638,-7465647,-7487348,-7518274,-7555094,-7771989,-7770612,-7705383,-7709145,-7731405,-7794097,-7794663,-7745283,-7727853,-7780523,-7836229,-7869473,-7797675,-7882920,-7949730,-7989929,-8051269,-8134158,-8199738,-8251267,-8286801,-8360831,-8390508,-8492821,-8524443,-8618909,-8646030,-8666785,-8778127,-8793230,-8751696,-8756626,-8730521,-8675299,-8585815,-8626845,-8605842,-8630958,-8607091,-8624662,-8669736,-8655470,-8619591,-8598603,-8624446,-8610936,-8553419,-8469897,-8424057,-8402442,-8338597,-8268450,-8259597,-8172494,-8041519,-7987628,-7948191,-7918985,-7940595,-8012100,-8040336,-8083426,-8115779,-8129395,-8160269,-8102804,-8088529,-8063968,-8055178,-8068400,-8064483,-8037083,-8010570,-7867419,-7802751,-7724401,-7679410,-7599230,-7535782,-7496414,-7516462,-7541305,-7550023,-7527628,-7495983,-7492154,-7548567,-7508175,-7478587,-7444638]]],[[[-9189000,-9232047,-9231408,-9208257,-9224896,-9220567,-9235708,-9296116,-9318718,-9305898,-9309943,-9340805,-9422932,-9430247,-9459447,-9452291,-9474504,-9499948,-9535715,-9550927,-9550289,-9535551,-9566989,-9524701,-9451359,-9425762,-9390459,-9372007,-9339154,-9312500,-9284303,-9189000]]],[[[-9946766,-9913948,-9856364,-9852219,-9803389,-9765335,-9785440,-9849916,-9889982,-9936015,-9997869,-10029391,-10025954,-9966903,-9972817,-9946766]]],[[[-5750519,-5816369,-5850554,-5893215,-5946516,-5961697,-5986597,-6021055,-6069667,-6041275,-6031482,-6012024,-6055729,-6064533,-6006582,-5886813,-5768948,-5750519]]],[[[688658,741190,901607,845324,831195,800632,749911,753489,672079,670433,723587,761825,757234,789995,751401,780078,840417,827680,726832,507278,345136,332399,203357,78100,37631,-167287,-211657,-154091,-132892,-247766,-329870,-499997,-511218,-366888,-179949,-215235,-110147,149030,182452,279809,295934,347678,399434,477117,534246,656535,688658]]],[[[973601,1045290,1064216,1027451,976909,951137,973601]]],[[[-7378526,-7321627,-7301557,-7330072,-7478906,-7485392,-7469613,-7378526]]],[[[-8635008,-8560092,-8500952,-8482507,-8560753,-8594570,-8656874,-8720515,-8707157,-8660363,-8635008]]],[[[-9158048,-8974440,-8869884,-8825574,-8721596,-8518593,-8481946,-8415555,-8423663,-8341603,-8257459,-8270665,-8344686,-8419614,-8496310,-8655700,-8581075,-8626442,-8698203,-8736668,-8763055,-8825965,-8929768,-8963170,-9108265,-9147121,-9105377,-9214570,-9294560,-9340684,-9356642,-9411732,-9459363,-9400603,-9376480,-9326151,-9269300,-9185019,-9158048]]],[[[3472211,3413040,3375527,3321666,3276376,3205406,3119324,3086580,3086304,3038633,2912651,2877652,2855251,2812400,2936823,2972984,3010571,3072222,3169032,3208881,3222416,3285798,3370114,3377316,3470169,3521758,3545752,3598763,3656582,3656829,3635125,3630350,3648241,3635665,3618851,3589495,3472211]]],[[[299638,303211,324196,412487,400757,422692,397657,409726,441635,457294,486281,605918,717501,759248,816054,868812,1003537,1060310,1125975,1191233,1223355,1283269,1369460,1456502,1482631,1557955,1578659,1622724,1610591,1604712,1510933,1465810,1442196,1419732,1360198,1342952,1317945,1307533,1231058,1168562,1126361,1060062,1027830,974884,946247,830678,788431,745625,656581,596984,560334,481524,299638]]],[[[2649,-5542,40918,40731,51339,79262,54653,63494,118012,-56509,-118402,-218710,-317942,-312885,-361161,-332131,-285221,-329939,-327324,-133957,-84778,-48836,2649]]],[[[3976323,3956925,3916657,3893359,3921328,3892898,3888101,3940438,3943038,3887566,3814410,3846797,3839198,3868640,3891219,3907142,3947468,3957719,3987586,3989289,3976323]]],[[[14045709,14052676,14102367,14145736,14271798,14287825,14383916,14411471,14412345,14370386,14269583,14180602,14080329,14067880,14088509,14039324,14122006,14045709]]],[[[10834404,10842803,10803777,10812907,10733354,10589240,10592623,10531185,10525553,10475914,10388912,10384586,10359424,10371205,10316280,10257649,10226913,10208718,10147769,10182141,10231941,10283271,10219084,10115848,10009925,10000106,9946963,9858793,9819468,9899815,9830220,9805513,9874032,9855088,9893665,9910992,9895052,9819325,9682091,9688488,9629063,9468865,9344270,9260581,9149659,9149487,8993724,8941726,8908349,8931527,8937429,8890258,8889751,8832145,8781476,8815359,8713860,8676370,8631701,8526291,8432058,8393055,8333913,8287052,8185789,8106386,8106783,8085194,7923195,7844735,7699315,7752837,7719961,7589389,7663523,7908497,7886395,7823853,7811169,7738306,7860992,7990253,8106702,8176487,8284550,8282830,8377753,8287909,8209806,8264381,8433237,8557320,8664825,8784473,8773210,8817493,8813846,8733954,8765173,8874541,9029263,8958627,8915402,9023246,9128196,9273386,9425979,9490184,9710117,9802820,9815574,9800916,9809522,9877414,9889138,9990315,10060306,10154287,10245120,10252938,10207625,10297400,10398726,10527037,10620414,10699771,10751970,10714371,10834404]]],[[[9809522,9800916,9815574,9802820,9710117,9490184,9425979,9273386,9128196,9023246,8915402,8958627,9075411,9164656,9277045,9339593,9376950,9463452,9553808,9679732,9809522]]],[[[8664825,8557320,8433237,8264381,8209806,8287909,8377753,8282830,8284550,8176487,8106702,7990253,7860992,7738306,7811169,7823853,7886395,7908497,7663523,7589389,7507794,7474596,7388589,7183492,7002630,6845855,6887803,7048375,7039165,6985902,6982830,6876412,6831600,6776490,6963018,7074382,7140922,7163455,7240983,7385655,7389550,7451603,7534480,7546647,7631722,7672882,7716418,7710268,7757537,7828386,7784632,7890526,7921135,7916487,7971931,7959206,7932888,7997892,8117420,8245162,8301750,8366553,8448803,8481749,8664825]]],[[[5406561,5344957,5343858,5308301,5326548,5269270,5132870,5055762,5081563,5137593,5129194,5056200,4984070,4923188,4944967,4910216,4986444,5004110,5060330,5136684,5176993,5308278,5350025,5382912,5344531,5413953,5441658,5476875,5582424,5659744,5818004,5991859,6002524,6100341,6179520,6253970,6302839,6381994,6505082,6593983,6721207,6804189,6813956,6737993,6786448,6738845,6775311,6784026,6868336,6877454,6776490,6831600,6876412,6982830,6985902,7039165,7048375,6887803,6845855,6515057,6389432,6341956,6288676,6203135,6090855,5954824,5842447,5735265,5660924,5578777,5518869,5448124,5406561]]],[[[1227561,1276642,1369270,1406092,1334950,1328104,1400391,1510818,1549556,1509012,1681860,1866703,1973603,2003068,2212871,2229202,2298256,2446639,2620402,2623341,2660911,2469419,2361477,2378856,2201774,1986805,1905740,1984976,2091439,1989193,1873416,1830950,1767729,1632687,1569685,1440798,1405419,1312227,1227561]]],[[[2614241,2619073,2649953,2649314,2582555,2616898,2619021,2675005,2663069,2607826,2506742,2535459,2405370,2325236,2272680,2206911,2150771,2105004,2047489,1964727,1954165,1877822,1861203,1800732,1807675,1724447,1671684,1626054,1634729,1607186,1566768,1597803,1571796,1647851,1961764,2072864,2081257,2188612,2325714,2530414,2587508,2614241]]],[[[1890167,1881717,1819025,1840586,1803631,1782410,1685053,1628879,1536929,1377744,1352875,1242862,1229919,1162476,1105675,1055305,1072333,1068024,1101625,1157954,1173808,1271982,1351569,1404936,1439653,1450031,1434251,1474243,1513493,1596198,1658821,1698002,1784412,1836691,1888010,1879071,1890167]]],[[[2458558,2520364,2528124,2460134,2407452,2340153,2250901,2181421,2054519,1962570,1879352,1843986,1822356,1803631,1840586,1819025,1881717,1890167,1946807,1987846,2081286,2090248,2134480,2188692,2200727,2253001,2279106,2315589,2434806,2458558]]],[[[1571796,1597803,1566768,1607186,1634729,1626054,1671684,1622004,1592649,1564732,1484794,1443461,1362562,1382052,1393834,1450640,1513493,1474243,1434251,1450031,1439653,1404936,1351569,1271982,1173808,1157954,1101625,1068024,948732,925877,831195,845324,901607,741190,688658,694939,672711,685356,666654,733528,761744,789483,768676,790415,883458,904104,979693,954243,949135,1033272,1104501,1106468,1218960,1217775,1330963,1393546,1519229,1571796]]],[[[4984071,4930724,4891629,4762150,4714334,4587708,4527726,4399633,4308052,4248811,4126252,4089821,4083798,4024173,3983243,4025404,3957512,3864406,3787856,3618902,3528782,3408783,3383121,3306186,3198532,3077002,3011055,2929730,2983885,2913318,3036797,3208225,3254982,3467149,3600960,3730681,3914850,4109150,4268842,4398523,4494349,4625779,4744386,4851609,4870523,4859812,4942586,4986444,4910216,4944967,4923188,4984071]]],[[[2907335,3020736,3116580,3129805,3226978,3206718,3074534,2934160,2899132,2900645,2927101,2961565,2907335]]],[[[1068024,1072333,1055305,1105675,1162476,1153645,1104605,1022233,998124,945097,925802,863393,809721,761825,723587,670433,672079,753489,749911,800632,831195,925877,948732,1068024]]],[[[672711,694939,688658,656535,631632,643695,672711]]],[[[685356,672711,643695,631632,534246,477117,399434,347678,295934,279809,369020,450517,553702,624165,685356]]],[[[-829744,-839026,-797772,-782496,-820880,-790149,-834743,-786649,-782176,-764099,-762663,-711229,-742345,-807212,-826270,-892022,-919928,-965356,-1005751,-1000142,-1045611,-888128,-751906,-602448,-483999,-391569,-211657,-167287,37631,78100,203357,332399,338353,232862,90227,80298,11876,-31026,12388,-51999,-76074,-160119,-238942,-486343,-556065,-598582,-653048,-694265,-725824,-829744]]],[[[-689945,-671588,-755732,-953074,-1110644,-1020385,-1078521,-842929,-819982,-842929,-774085,-689945]]],[[[19690839,19593615,19507579,19488469,19442057,19506250,19469796,19350004,19353145,19433578,19452354,19447182,19402099,19405102,19351891,19264302,19217752,19259055,19319642,19406258,19437719,19518382,19520718,19570955,19587609,19677188,19752398,19816022,19872431,19845452,19811581,19726592,19696868,19707217,19690839]]],[[[18887334,18982747,19049557,19099053,19141242,19157775,19235849,19285793,19364961,19397152,19397256,19283067,19226128,19267190,19181303,19086052,19056242,18992963,18849988,18747466,18675374,18554386,18535713,18595522,18735489,18807362,18887334]]],[[[16440693,16507463,16515344,16477210,16465716,16426812,16349531,16258031,16189408,16174175,16109942,16112801,16185628,16293179,16440693]]],[[[14042810,13924801,13828290,13806839,13765731,13671262,13601356,13502964,13346505,13280292,13247836,13138479,12982647,12864564,12804725,12807153,12862424,12881298,12877369,12890980,12878508,12819653,12801412,12806198,12761886,12759050,12709744,12695863,12632257,12616834,12665748,12628190,12683397,12716342,12714484,12659392,12648715,12622909,12634989,12657804,12672991,12661095,12707092,12715503,12762530,12852967,12907202,12992277,13042894,13073532,13161254,13228772,13245662,13275126,13336656,13453652,13514170,13542588,13607879,13615795,13693697,13740586,13787959,13748318,13783253,13832369,13845887,13906715,13933557,13989530,13991278,14040187,14042154,14144907,14227146,14288935,14429396,14405810,14459137,14509322,14491961,14540306,14607732,14664683,14758214,14756201,14674658,14733938,14807669,14866812,14960567,14992356,15061359,15126392,15168213,15194272,15245384,15215718,15173448,15135193,15148091,15075849,15083811,15172309,15258046,15395843,15427229,15485492,15502416,15608689,15682184,15726560,15740378,15774214,15758763,15766794,15753919,15768508,15789856,15772523,15820557,15823365,15864726,15896123,15903855,15931594,15936345,15976809,15985162,15981227,16021334,16092759,16129627,16183040,16171604,16195345,16212240,16240278,16270491,16259733,16295779,16416405,16569729,16555152,16618822,16662116,16706537,16751684,16778882,16798061,16928748,17015762,17047039,17049910,17042224,17095275,17088889,17039589,17041856,17019812,16970656,16888181,16847533,16810418,16777421,16734460,16706296,16691926,16697621,16633790,16509195,16406459,16288036,16195833,16127631,16144912,16084072,15986589,15827219,15763572,15655814,15583855,15563198,15537323,15482627,15375531,15412123,15385195,15330827,15231779,15289996,15306862,15349857,15340975,15250418,15180869,15138231,15051309,15054760,14985097,14926374,14947302,14804465,14726241,14619180,14419858,14149026,14042810]]],[[[13556244,13489209,13441503,13382838,13370159,13435670,13524766,13575550,13556244]]],[[[1162476,1229919,1242862,1352875,1377744,1536929,1524866,1551529,1462916,1372411,1378566,1364938,1401427,1505808,1561792,1685663,1772895,1800024,1768793,1950224,2045683,2057211,2036410,1974627,1877914,1831065,1911521,1898313,1851809,1792350,1745944,1746376,1769087,1793282,1715835,1669624,1636760,1565226,1517060,1434694,1347709,1245877,1170184,1135462,1080076,989512,938263,873943,827680,840417,780078,751401,789995,757234,761825,809721,863393,925802,945097,998124,1022233,1104605,1153645,1162476]]],[[[1643214,1727720,1687630,1704290,1680923,1595790,1539184,1383813,1399391,1529658,1643214]]],[[[969591,1025253,1092041,1076405,1025788,980383,938234,933776,908366,969591]]],[[[1104501,1033272,949135,903948,900572,951051,1049127,1088210,1177760,1173987,1141024,1154382,1214738,1187534,1154382,1074231,1104501]]],[[[1377122,1412645,1345851,1229361,1213818,1377122]]],[[[-689945,-774085,-842929,-819982,-842929,-749608,-630285,-689945]]],[[[-344403,-327836,-404090,-539250,-565784,-525329,-561938,-621874,-628398,-684612,-644186,-557710,-468821,-334515,-453496,-340081,-218106,-247127,-347205,-232102,-124120,-47921,20592,52317,187187,173657,116947,161398,61262,-87666,-277185,-329090,-402692,-505669,-583873,-643044,-479785,-380139,-554857,-586352,-470029,-530995,-509843,-344403]]],[[[13451167,13394343,13489710,13528367,13498845,13451167]]],[[[13646220,13674161,13686443,13747829,13729898,13812292,13801661,13761669,13726797,13691839,13623285,13646220]]],[[[14068202,14086081,14048160,14007489,13955440,13990985,13959075,13828083,13796795,13830741,13760225,13725255,13672872,13590495,13572064,13615749,13685885,13746586,13785934,13870572,13888733,13967411,13960813,14051048,14068202]]],[[[13191869,13043780,13098349,13178770,13245610,13303958,13323793,13250298,13191869]]],[[[13618487,13600378,13638380,13609064,13543439,13525882,13550791,13609801,13659043,13798083,13787487,13823797,13812235,13725474,13684354,13655712,13584835,13483727,13428318,13433967,13468747,13435520,13421139,13366178,13349536,13345400,13390230,13401758,13438028,13505426,13574031,13608363,13618487]]],[[[13585249,13568014,13634836,13705679,13703522,13651967,13581268,13577345,13585249]]],[[[13970880,14002151,13916259,13918583,13945821,13892874,13888238,13854723,13837293,13902803,13901354,13833312,13940218,13970880]]],[[[11141495,11160847,11251674,11260436,11333914,11370304,11395903,11461644,11508344,11514729,11502879,11521839,11561049,11604826,11602698,11523761,11418442,11286754,11273718,11209364,11193999,11153846,11166041,11141495]]],[[[13122568,13026074,12898090,12859524,12816662,12759590,12668809,12563496,12510112,12445246,12374178,12302368,12226244,12207658,12289241,12375260,12397660,12445177,12578614,12713132,12763847,12787220,12840420,12851914,12937633,12993779,13038810,13096002,13101087,13267268,13259341,13184650,13204531,13122568]]],[[[3182839,3166587,3337071,3234342,3363813,3288870,3389086,3343578,3508355,3466487,3124737,2922712,2726951,2545842,2481396,2373581,2398363,2344300,2397379,2498314,2752987,2827299,2815719,2660911,2623341,2620402,2446639,2298256,2364975,2488685,2634047,2753563,2859710,2914302,3087144,3229998,3182839]]],[[[15794521,15691538,15693419,15651494,15670898,15612923,15470684,15274993,15116405,15041598,15036973,14843376,14711624,14581310,14694176,14619899,14547934,14494067,14521368,14450905,14405684,14510933,14569322,14681285,14762931,14984527,15103554,15220027,15294252,15520876,15590827,15571746,15618768,15737122,15797823,15794521]]],[[[16098293,16177040,16201787,16036648,15939153,15764119,15703538,15579731,15564417,15619470,15738410,15770849,15803765,15934591,16020005,16098293]]],[[[14735491,14797073,14860369,14906136,14987881,15002124,14939455,14893763,14836691,14807146,14734594,14735491]]],[[[3891288,4015176,4063296,4089936,4174879,4193195,4230012,4119062,4342004,4363219,4497306,4663171,4977038,5283203,5310924,5389654,5433236,5488001,5507076,5582942,5589678,5578587,5592675,5624682,5656155,5689808,5720664,5788695,6123329,6145764,6196784,6122569,5788614,5467642,5363745,5283968,5232016,5204185,5161512,5053904,5033494,4905027,4874849,4829127,4799628,4811047,4762173,4747728,4714156,4705573,4648076,4588744,4557346,4480348,4430703,4356978,4344097,4348843,4284995,4232796,4172659,4136055,4142141,4111209,4078702,4035235,3910674,3855254,3891288]]],[[[3774143,3425285,3319716,3292771,3293703,3319491,3325756,3349175,3391738,3434503,3470290,3425673,3432408,3478239,3549026,3638635,3716957,3785419,3838199,3851216,3900188,3859680,3773014,3774143]]],[[[-6866186,-6802177,-6778800,-6783253,-6876204,-6896242,-6863959,-6866186]]]],\"__y__\":[[[[6274861,6275292,6443602,6518731,6591385,6748906,6859944,6937877,7087560,7224807,7323683,7417376,7541678,7669121,8054002,8150427,8239096,8352640,8281334,8159882,8302885,8399737,8461628,8468270,10975619,10898690,10747687,10719187,10849380,10948522,10909593,11050678,11132051,10997250,11072902,11228051,11192613,10901725,11120467,10876084,10928180,11021856,11003214,10869181,10754291,10701731,10721621,10566570,10418117,10354945,10389623,10441365,10265593,10413605,10540234,10644120,10658227,10688941,10615829,10452348,10476106,10342857,10389487,10382415,10568094,10621136,10518505,10240151,10474003,10465991,10772262,10967184,11097993,11469216,11724617,11667333,11512130,11131263,10971758,10907151,10589617,10831632,10632252,10409472,10212906,10423697,10684190,11030453,11005668,10958388,10801301,10647714,10486493,10328316,10187692,9990399,9947623,10031354,9892257,9664693,9549518,9374941,9358080,9251454,9090500,9059925,8864999,8602588,8424315,8169333,8133442,7934975,7777939,7818528,7729871,7652880,7558244,7503633,7420817,7409540,7390705,7223797,7034406,6828722,6658243,6716288,6902401,7196990,7297642,7388393,7526116,7665509,7801647,7978267,8138268,8366995,8570439,8935335,8990878,8925459,8902215,8965150,8884099,8747461,8657387,8639937,8449162,8171176,8137511,8011997,8130262,8371008,8474833,8276670,7753468,7626289,7513849,7401573,7351294,7289712,7128660,7103675,7033164,6826683,6695875,6632675,6488425,6460221,6496823,6498079,6486024,6362112,6286468,6064516,5913021,5939799,6156910,6297475,6314451,6231278,6118649,5940926,5818650,5738625,5761742,5943368,5825758,5767602,5663376,5569740,5506625,5395333,5406618,5537704,5667614,5662437,5643198,5732851,5952912,6000189,5972323,6015472,5892118,5766738,5694232,5669703,5661755,5622812,5621597,5592671,5468299,5408174,5407606,5383224,5353159,5291235,5215993,5192342,5112435,5112435,5135965,5157337,5225610,5308928,5399305,5676397,5751054,5779497,5799106,5799106,5824595,5862817,5846098,5851077,5867097,5883039,5925780,6157398,6110150,6108518,6151891,6130177,6182047,6219176,6247756,6341134,6340313,6274861,6274861]]],[[[8967316,9079216,9076891,9029687,8896995,8902501,8967316]]],[[[12048852,12251558,12392776,12419207,12376441,12162689,12057700,12076679,12026037,12048852]]],[[[8879460,8951159,8945904,8896865,8772659,8792606,8863053,8879460]]],[[[12923645,12759195,12790491,12901186,13096783,13216659,13061012,12923645]]],[[[14116615,14101870,14134728,14280737,14273016,14175779,14116615]]],[[[14792185,14596596,14399243,14289178,14413198,14618696,14853105,14830106,14792185]]],[[[12675906,12727098,12862827,13100749,13323244,13525585,13583325,13732053,13934446,13902706,13744313,13745395,13587228,13411165,13307343,13200041,13180372,13143067,13240046,13278514,13246709,13078737,12899262,12786467,12696689,12747340,12683244,12675906]]],[[[14451098,14366716,14208445,14059802,14226856,14396074,14451098]]],[[[14814295,14699235,14590281,14590825,14670336,14840465,14814295]]],[[[6677573,6413834,6472314,6435167,6375078,6328140,6369853,6317241,6193263,6222053,6133041,6029931,5886022,5879990,5910638,6044727,6065741,5923322,5928980,6005894,6045939,6036077,6041117,6090143,6148802,6194340,6296196,6571610,6672296,6733874,6726019,6677573]]],[[[9637304,9547184,9466293,9344588,9364377,9280518,9201807,9261868,9375681,9241328,9113105,9258240,9234211,9358869,9561880,9805715,9783672,9665901,9706986,9637304]]],[[[11881266,12028819,11841546,11669821,11516354,11595440,11374977,11241788,11108523,10808836,10664419,10466984,10401839,10135710,10116887,9920843,9608020,9721495,9983865,9949124,9792456,9636997,9516363,9447628,9197252,9020802,9086801,9285471,8925860,8842775,8937854,9078389,9198472,9268962,9524341,9449265,9408294,9496761,9690289,9695028,9729190,9825518,9962369,10237612,10366324,10467662,10613821,10718166,10796842,10994117,11012475,11123249,11027119,10985638,11057864,11153872,11203737,11321393,11477290,11478800,11838406,12172954,12331490,12436783,12183696,11948413,12254313,12415718,12016416,11775522,11881266]]],[[[12570253,12556065,12457935,12110637,12037224,11762050,11775513,12100777,12292144,12460211,12570253]]],[[[13430866,13787381,14112610,14105457,14181476,13793485,13625555,13602246,13401551,13331173,13430866]]],[[[7177737,7192916,6980153,6832816,6833167,6916629,7001519,7059474,7142002,7202413,7177737]]],[[[15105775,15024585,14812014,14544924,14319369,14378857,14555095,14575569,14741873,14879926,15105775]]],[[[6192125,6168773,6245220,6305458,6365274,6414297,6445402,6540173,6580823,6515996,6497525,6355893,6285470,6192125]]],[[[12699376,12613740,12590998,12473704,12306906,12208898,11943176,11688653,11534727,11368724,11519540,11706047,12132073,12387551,12634842,12699376]]],[[[13306317,13382921,13362954,13141774,12934510,12868040,12686114,12676718,12813020,13002507,12950949,13028511,13469246,13601150,13442380,13172784,13138978,13577838,13753017,13696807,13470483,13306317]]],[[[12152481,11999967,11645407,11399868,11232691,11076635,10934799,10909173,10788045,10674433,10722886,10806929,10787920,10682787,10608012,10753098,10838321,10803238,11055709,11090410,11146394,11131618,11189024,11266869,11240261,11246978,11371296,11508825,11503971,11596026,11865011,12012444,12244346,12169880,11992563,12106518,11917432,12108694,11985317,11628586,11776814,12157653,12213937,12152481]]],[[[12012422,12261975,12452795,12369112,12419319,12304875,12119869,11958017,11631808,11496217,11525245,11659555,11939471,12059062,12012422]]],[[[12355934,12371723,12285341,12032718,12300963,12355934]]],[[[13716975,13496148,13260011,12932243,12888278,12956960,13213755,13179305,13533759,13519058,13681375,13653600,13716975]]],[[[15936840,16148162,16197646,16362416,16399609,16019945,15873741,15747171,15324335,15126981,14950364,14524315,14485007,14555151,14783721,14994088,15153023,15148422,15352317,15640649,15936840]]],[[[16883793,17036146,17062481,17195423,17511885,17466545,17228979,17695287,17840206,17942290,17981030,17880676,18038573,17847548,17731211,17491312,17263766,16910264,16751715,16580847,16584735,16143029,15946732,15411750,15308323,15183333,15118678,15043748,14938531,14656474,14467387,14315313,14110741,13958684,13845861,13865008,13745120,13459496,13589334,13516069,13573181,13598066,13830444,13942939,14315361,14352760,14126272,14465778,14570861,14788105,14925587,15132115,15371793,15701946,15673679,15603136,15843497,15921634,15878433,16111917,16401521,16619901,16883793]]],[[[10283797,10198599,10184244,10325667,10491286,10532879,10450076,10323895,10283797]]],[[[10904727,10784320,10675729,10769459,10735489,10876192,10974987,11115596,10965363,10904727]]],[[[6424317,6438863,6395585,6323964,6292706,6289665,6343125,6424317]]],[[[5947953,5868931,5847244,5851649,5785701,5775251,5843496,5897703,5947953]]],[[[6274861,6274861,6340313,6341134,6247756,6219176,6182047,6130177,6151891,6108518,6110150,6157398,5925780,5883039,5867097,5851077,5846098,5862817,5824595,5799106,5799106,5779497,5751054,5676397,5399305,5308928,5172970,5157337,5135965,5112435,5112435,5192342,5215993,5291235,5353159,5383224,5407606,5408174,5468299,5592671,5621597,5622812,5661755,5669703,5694232,5766738,5892118,6015472,5972323,6000189,5952912,5732851,5643198,5591612,5515906,5416677,5291491,5211293,5131813,5128081,5182724,5149426,5106783,5082658,5085548,5059656,5044942,5002184,5029980,5002022,4957918,4957625,4975646,4934991,4928280,4823782,4713014,4749843,4757322,4793331,4715943,4690497,4636672,4469381,4474934,4570536,4624618,4743180,4681302,4591194,4613384,4567840,4434424,4424795,4238978,4137892,4097761,4018798,4010197,3961052,3916346,3830358,3767682,3690088,3597732,3508116,3398576,3308630,3254017,3108487,2976405,2901088,2885574,2900485,2954561,2982988,3185457,3234638,3318494,3388379,3495397,3515123,3456865,3463266,3523181,3555070,3538861,3553121,3544231,3524132,3489956,3437987,3412746,3395976,3414796,3390600,3394564,3462098,3446131,3475783,3466792,3436882,3342421,3287795,3227557,3171028,3084794,3025113,2982988,2979277,3044979,3103496,3191101,3262849,3424191,3475212,3472737,3371828,3410056,3448647,3586604,3684799,3731130,3731174,3677273,3676295,3832461,3858307,3833789,3901441,3978056,3994065,4032533,4039280,4075690,4088997,4110811,4185218,4322870,4516296,4548871,4595501,4714749,4832139,4911560,5033312,5160925,5276420,5420423,5704301,5920025,6060426,6137592,6170259,6113511,5957757,6001034,6136852,6274861]]],[[[2282480,2256346,2214920,2164766,2145071,2161929,2194874,2237873,2270340,2293649,2304712,2282480]]],[[[2363765,2349476,2340965,2383147,2393367,2382038,2363765]]],[[[2412977,2400075,2403540,2418080,2412977]]],[[[2477576,2430335,2423435,2429172,2461067,2477576]]],[[[2537350,2509364,2497482,2519370,2539905,2537350]]],[[[8485770,8465398,8379724,8345268,8386704,8447328,8485770]]],[[[7960801,7946638,7881897,7783832,7706081,7758636,7854973,7928883,7960801]]],[[[10975618,8468270,8461628,8399737,8302885,8159882,8281334,8352640,8239096,8150427,8054002,7669121,7541678,7417376,7323678,7396665,7459079,7632426,7796769,7993214,8006854,8012028,8073092,8297536,8418563,8399555,8502557,8599386,8551120,8394914,8380654,8334495,8260400,8214142,8343178,8563133,8633539,8691425,8563451,8413478,8256483,8151206,7998129,7910351,7847025,7756028,7651265,7557251,7472634,7487787,7366561,7301881,7247076,7279282,7369522,7429709,7537538,7560019,7642092,7763527,7804585,7877525,8036607,8162875,8097806,8134659,8056958,8165572,8088566,8195775,8109579,8109756,8238304,8318615,8397450,8354913,8459532,8513603,8642810,8741549,8876947,9010840,9136233,9154263,9114845,9234385,9212901,9290616,9406568,9452792,9552907,9549937,9493272,9436274,9493198,9464179,9526319,9631826,9787106,9901059,10036485,10036485,9898008,9908699,10081127,10189299,10333920,10459719,10554478,10714548,10724599,10867050,11022674,11178083,11216016,11365323,11342604,11525723,11452990,11299257,11364761,11344391,11266871,11210140,11243454,11138739,11107888,11065458,11118537,11020695,10975618]]],[[[9294750,9246953,9272725,9206750,9173574,9146645,9094596,9148087,9193002,9178601,9200464,9294750]]],[[[-289546,-1019310,-926881,-904261,-936306,-939766,-848282,-817109,-695210,-601275,-506650,-497314,-394194,-448409,-458248,-417331,-368871,-314109,-273976,-276141,-246583,-246358,-180045,-159484,-104391,-77420,-41137,-86855,-128233,-308384,-375112,-256888,-189662,-189570,-268253,-289546]]],[[[-993939,-1016164,-1050358,-1134718,-1159604,-1146028,-1107589,-1038722,-993939]]],[[[-769433,-685089,-607053,-639774,-693144,-769433]]],[[[460990,360246,254732,203486,100438,87304,11407,-89472,-165624,-276550,-447060,-407376,-457579,-389381,-383076,-347352,-387450,-333491,-339620,-326757,-177340,-146387,-51152,46239,149397,223404,148974,86067,108706,100686,156989,166752,135547,159280,314212,352978,479856,479804,460990]]],[[[-312058,-344563,-429848,-383872,-374542,-381906,-377976,-316683,-312058]]],[[[-422318,-401836,-353873,-348527,-385295,-422318]]],[[[242133,181311,171542,126064,28774,39675,-28061,-86832,-100191,-29677,112630,201598,242133]]],[[[97429,102095,182951,158071,47631,26226,47994,42437,26410,-57848,-156854,-106422,-68537,-119810,-103637,-168875,-212045,-354853,-393150,-521967,-595376,-628253,-588928,-497452,-540694,-509778,-466675,-401248,-292610,-326487,-616358,-632594,-599767,-496922,-389237,-388413,-312041,-239070,-150645,17171,63060,145754,112877,97429]]],[[[-1148138,-1068957,-1046767,-1081145,-1115462,-1145981,-1148138]]],[[[-953841,-945273,-904058,-966570,-998545,-984659,-943499,-920109,-953841]]],[[[-934218,-925027,-972878,-1010630,-1009733,-944883,-943999,-904220,-934218]]],[[[-716393,-756252,-767429,-721233,-775130,-847870,-868349,-935166,-978058,-932707,-935771,-927439,-907248,-864320,-853192,-867240,-821001,-772760,-764520,-657492,-664102,-707855,-716393]]],[[[-120771,-198444,-260607,-270458,-340997,-479740,-652617,-654959,-561475,-470222,-402591,-311793,-228282,-72397,20387,116099,203026,273170,368537,431007,554040,610942,584835,475592,353545,233754,232007,155718,62491,11637,-79255,-117917,-120771]]],[[[-6916017,-7001516,-7141799,-7255845,-7303858,-7400779,-7410537,-7341864,-7336579,-6916017]]],[[[-3531382,-3769153,-3900689,-3930290,-4086888,-4203092,-4297510,-4357616,-4425395,-4605433,-4681674,-4711424,-4697022,-4782604,-4891053,-4964800,-5016584,-5036974,-4983280,-5021832,-5169671,-5214910,-5167525,-5245711,-5292745,-5387680,-5543360,-5627314,-5627762,-5708828,-5828841,-5947613,-5980702,-6129058,-6223661,-6423735,-6492160,-6574113,-6758843,-6863656,-6825979,-6801756,-6696989,-6564358,-6575686,-6512135,-6329067,-6254290,-6147584,-6063465,-5923296,-5710233,-5617380,-5587618,-5528725,-5497558,-5432633,-5374367,-5199237,-5168679,-4987643,-4709649,-4657842,-4519817,-4391560,-4301321,-4186964,-4054823,-3931714,-3907416,-3680243,-3546856,-3422558,-3306985,-3188742,-3110901,-3062000,-3022014,-2816724,-2756491,-2630367,-2600114,-2491403,-2520635,-2607619,-2510762,-2515726,-2541450,-2738879,-2757404,-2847699,-2895697,-2950074,-3138937,-3173021,-3192168,-3172010,-3076297,-2966822,-2943161,-3014554,-3113913,-3234094,-3356919,-3531382]]],[[[-6916017,-7336579,-7341864,-7420551,-7481526,-7459332,-7400472,-7372320,-7264493,-7162115,-6952994,-6991776,-7116439,-7184246,-7097732,-6970287,-6894388,-6916017]]],[[[-1988447,-2068018,-2152779,-2202684,-2317230,-2450922,-2616657,-2600114,-2630367,-2756491,-2816724,-3022014,-3062000,-3110901,-3188742,-3306985,-3422558,-3546856,-3680243,-3907416,-3931714,-4054823,-4186964,-4301321,-4391560,-4519817,-4657842,-4709649,-4987643,-5168679,-5199237,-5374367,-5432633,-5497558,-5528725,-5587618,-5617380,-5710233,-5923296,-6063465,-6147584,-6254290,-6329067,-6512135,-6575686,-6564358,-6696989,-6801756,-6825979,-6854450,-6853087,-6897980,-6964374,-7138639,-7143017,-7081905,-6952548,-6847774,-6733383,-6628973,-6512062,-6219687,-6059061,-5932164,-5884748,-5742606,-5481402,-5536120,-5218578,-5178601,-5367813,-5346275,-4857548,-4758794,-4619465,-4460913,-4456374,-4233247,-4016601,-3818424,-3622447,-3515854,-3358022,-3203709,-2962703,-2438839,-2244203,-2078318,-2048401,-1988447]]],[[[-521194,-409616,-344923,-105758,12224,131025,212196,340101,396061,473529,613870,595110,532386,495632,495632,400858,402806,389943,381168,427652,474325,436611,436591,310093,-95547,-187405,-231879,-278363,-286531,-365068,-410067,-484318,-521194]]],[[[11436139,11580955,11345139,11327850,11436139]]],[[[5844574,5749361,5723082,5560206,5413000,5309929,5132393,5072385,5034701,5044806,5135120,5140132,5174836,5236593,5268236,5244475,5272606,5345564,5370321,5396542,5378419,5508875,5567716,5660125,5685429,5819033,5882953,5949381,5985167,5958770,6031721,6077893,6090058,6145607,6238259,6327187,6377469,6433550,6431682,6513037,6485436,6546842,6581403,6658093,6666701,6722103,6758443,6860939,6843358,6852494,6811207,6818531,6935426,6996696,7014028,7007586,7048267,7098147,7131244,7165354,7199957,7325420,7377708,7469542,7516617,7493018,7542177,7592158,7711085,7810207,7857733,7923728,8121092,8245692,8283849,8405985,8512704,8944460,9067880,9237104,9401873,9594864,9823945,10140203,10357920,10556210,10770937,10799705,10926392,11038173,10845064,10770515,10426938,10287536,10096932,9950079,9876717,10087907,10052148,9849571,9455777,9377612,9311732,9435273,9546600,9646197,9483262,9546600,9740469,10008418,9992358,9895778,10086985,10257207,10432306,10618744,10521692,10355478,10319372,10158922,10062018,10123244,10306508,10446602,10706627,10691450,10507081,10475888,10578603,10586974,10713865,10530241,10732387,10914256,11020068,10922976,10824125,10474489,10632420,10795776,10862430,10893483,11045558,11303461,11412184,11729630,12064102,12138725,12038840,11832930,11543583,11433180,11197232,10757266,10569292,10370282,9964980,9924264,10024177,10096333,10237530,10376183,10545463,10747426,10773020,10948586,11277518,11556931,11796984,12059919,12068485,11862341,11517995,11454745,11707951,11850126,11869503,11663724,11966509,12374965,12455240,12437618,12490102,12703837,12982511,12994440,13213418,13273536,13398774,13441758,13338242,13585941,13578056,13786099,13997952,14208918,14041780,13917441,13841330,13601688,13718598,13712130,13480086,13307283,13074755,12945960,12710929,12588641,12531719,12430370,12506234,12252283,12353915,12416473,12351094,12169324,12112529,12409387,12340182,12342341,12138232,11898380,11745983,11468602,11329829,11694471,11535710,11630127,11522195,11620507,11571171,11904814,12066386,11825622,11612882,11348537,11413020,11356853,11217862,10978824,10887988,10953196,10961581,10898998,10934231,10656327,10755021,10956627,11100370,11009551,11028880,10876182,10739500,9603028,9486922,9505920,9369072,9162302,9095990,8995325,8931612,8983967,8804610,8777236,8614351,8474968,8373462,8528554,8352810,8435446,8340222,8370565,8226134,8018597,7933597,7886878,7590181,7582778,7417509,7333802,7235639,7020556,6975358,6789769,6623248,6746062,7012453,7436170,7712830,7835028,7932116,7979037,8248734,8476502,8658247,8990897,8970559,8774866,8521914,8805742,8726261,8346095,8211782,8155324,8133178,8290118,8323485,8216022,8253447,8189033,7778136,7309560,7285300,7165862,7123893,7218513,7206161,6999583,6843413,6663798,6454164,6181495,5942016,5829836,5372781,5283319,5281350,5355385,5244140,5193991,5220333,5297221,5301321,5482716,5616478,5672224,5644234,5799106,5976825,6037008,6186787,6137427,6071816,6072010,6229118,6349955,6404861,6575395,6944762,7012842,7068318,7063258,7029636,6937602,6894009,6793638,6735929,6547846,6471057,6362013,6426993,6412604,6470599,6489389,6367601,6339239,6296970,6324717,6322940,6410625,6493915,6516890,6494093,6461870,6535169,6667398,6713233,6734217,6808694,6623238,6519752,6398967,6442373,6448602,6529915,6532497,6586374,6503939,6355079,6311418,6416312,6393253,6466615,6500380,6601725,6633540,6588140,6690275,6597404,7058156,7203750,7263608,7084797,7074118,7176904,7241815,7195439,7394877,7436997,7356121,7284858,7237530,7171340,7106963,6979298,6931370,6881456,6792972,6669666,6585828,6593427,6541278,6632558,6629000,6554649,6749413,6744762,6551740,6424614,6525397,6335485,6300698,6172680,6059711,6064332,5954427,5870716,5844574]]],[[[16231330,16394491,16036211,15399275,14858304,14786695,14953553,15181111,15631551,15761394,16231330]]],[[[15093611,14762271,14535105,14326522,15065362,15132705,15093611]]],[[[13440252,13419902,13178780,12855274,12867052,12767216,13045759,13353672,13440252]]],[[[13082694,12968497,12799782,12837593,13007065,13149464,13082694]]],[[[12265798,12421333,12458274,12306929,12204858,12202160,12245249,12265798]]],[[[15928310,16053502,16061901,15877284,16041066,16156335,16003582,15899418,15760138,15652185,15545241,15699184,15907655,15928310]]],[[[7232433,7229568,7251268,7335933,7398922,7364835,7334079,7281302,7232433]]],[[[12415265,12773934,12967352,13199694,13493957,13582221,13760629,13824316,13632622,13485418,13257442,13045415,12641550,12251504,11888281,11589696,11307362,11277852,11321603,11473307,11566590,11758547,11836351,12038254,12366804,12415265]]],[[[7114404,6935188,6756245,6576768,6270856,6327037,6083856,5915464,5802476,5899862,5775023,5910454,6070354,6251002,6379893,6612867,6788459,7039050,7125237,7212974,7239756,7114404]]],[[[10214966,10038639,9969295,10173799,10131339,9870619,9752442,9724675,9467753,9414224,9421892,9511904,9588087,9702953,9746758,9711996,9806165,9907596,9842598,9715629,9603028,10739500,10506688,10214966]]],[[[11365791,11345139,11580955,11595685,11594949,11495049,11447822,11365791]]],[[[5775850,5815606,5781176,5774848,5743277,5738418,5724631,5686299,5695817,5639362,5612080,5521553,5553278,5626997,5673222,5703630,5756594,5775850]]],[[[15333216,15549027,15571397,15350280,14901840,14677094,14276545,14177665,13760447,13741469,14045071,14228660,14382045,14851588,15319617,15545420,15324577,15333216]]],[[[10926389,10799705,10770937,10993136,11122368,11012091,10779459,10642786,10717088,10701802,10866837,10783870,10771050,10569078,10617708,10450133,10451140,9930107,9552495,9463786,9362247,9366599,9131784,8811959,8693545,8426041,8274436,8149359,8282630,8033419,7983906,8091898,8325138,8852269,9006336,9212450,9474275,9844005,10390955,10616433,11009556,11152279,11134806,11412707,11397576,11465990,11218045,11129610,10926389]]],[[[15574972,15236758,15165062,15266803,15438435,15449502,15746440,15933994,15772165,15974317,15805254,15574972]]],[[[14290898,14078059,14198018,14333996,14506463,14616935,14411411,14290898]]],[[[-3321879,-3259336,-3293924,-3348120,-3381433,-3372139,-3307233,-2847249,-2865671,-2982758,-3058336,-3102066,-3089347,-3033833,-2996535,-2937341,-2908783,-2923739,-2958292,-2964402,-2935658,-2838496,-2828692,-2782764,-2701622,-2611201,-2522491,-2523801,-2544166,-2529732,-2541748,-2798488,-2935346,-2979689,-2957054,-2965858,-3001886,-3048468,-3091504,-3159234,-3145719,-3090255,-3091298,-3182335,-3286977,-3344170,-3426908,-3491980,-3558139,-3650979,-3865073,-3925468,-3977215,-3984180,-4021371,-4001556,-4027080,-4001238,-4017586,-4010566,-4063610,-4084956,-4136075,-4139333,-4091088,-4088618,-4028516,-4047148,-4011058,-3932719,-3843822,-3819773,-3718976,-3597179,-3321879],[-3369995,-3330856,-3356754,-3406574,-3487614,-3586744,-3573893,-3532661,-3512557,-3408446,-3369995]]],[[[3833789,3858307,3832461,3676295,3677273,3731174,3731130,3684799,3586604,3448647,3410056,3371828,3472737,3475212,3424191,3262849,3191101,3103496,3044979,2979277,2982988,2874779,2786629,2623867,2564942,2499366,2440956,2348460,2260114,2192691,2134698,2103520,2054453,2087218,2099072,2140352,2188415,2257331,2357037,2391861,2423114,2450842,2446675,2456809,2431452,2373985,2303311,2231206,2210633,2067982,2098110,2094610,2023881,2037725,2032336,2015124,2016209,1950488,1950199,1884476,1859306,1852264,1812779,1812432,1718195,1696644,1669627,1636108,1760229,1797794,1828008,1819587,1776030,1764632,1817153,1870367,1886647,1940747,1996508,2027729,2034710,2071789,2125356,2192191,2266725,2324527,2336127,2370058,2400977,2442281,2496061,2543862,2604680,2725135,2820439,2896924,2947229,2977408,3054044,3083072,3143740,3231318,3241567,3369844,3409653,3506264,3605102,3654972,3706685,3700995,3737024,3683956,3621535,3524478,3353540,3344472,3300927,3302687,3221292,3189320,3144943,3081408,2965998,2854388,2789835,2785799,2676179,2654477,2610056,2610636,2684221,2753525,2812549,2843648,2933600,3000567,3094539,3078498,3110991,3141235,3214060,3223555,3216419,3263480,3320536,3411265,3446650,3715590,3833789]]],[[[-3997743,-3922147,-3859211,-3769513,-3613787,-3617573,-3517656,-3531382,-3356919,-3234094,-3113913,-3014554,-2943161,-2966822,-2823118,-2755968,-2733872,-2753563,-2748161,-2701340,-2590424,-2554433,-2521889,-2545435,-2522355,-2360032,-2293975,-2269476,-2202087,-2150443,-2057946,-1985231,-1952476,-1906524,-1839441,-1834652,-1700025,-1698100,-1648433,-1614862,-1548524,-1514554,-1515678,-1482451,-1459806,-1417153,-1398330,-1296386,-1220300,-1176749,-1091995,-1111128,-1153587,-1199469,-1233753,-1236232,-1226633,-1246168,-1233144,-1061298,-1127870,-1124949,-1064693,-1058149,-1009721,-941202,-839966,-819441,-772053,-739693,-679125,-640185,-587992,-511948,-490465,-473683,-478921,-124977,-61225,-20611,60270,78611,67088,109730,121243,190919,188430,226823,191498,125811,139534,80647,87862,121933,166202,213369,245063,268478,278053,348245,423013,451939,462210,447931,420041,446417,463733,505525,548153,579688,584630,558876,509824,492912,441042,401738,306829,250492,198948,146698,141174,162983,187331,216952,202375,225134,247279,279541,269641,281033,234442,264649,259991,228631,236592,278911,360989,463075,468350,406635,211719,193334,116467,24822,-8732,-26214,-137802,-64746,-104759,-172759,-238028,-299705,-265363,-324304,-319961,-412241,-537299,-569531,-574013,-609278,-819690,-1005615,-1079267,-1236725,-1365197,-1464087,-1466319,-1550520,-1766197,-2022074,-2068272,-2225600,-2380496,-2504001,-2556087,-2628399,-2628112,-2674638,-2728671,-2764253,-2861650,-2983857,-3076535,-3145466,-3272461,-3334233,-3404247,-3630731,-3734165,-3795562,-3921425,-3997743]]],[[[139534,125811,191498,226823,188430,190919,121243,109730,67088,78611,60270,-20611,-61225,-124977,-478921,-419597,-416951,-303477,-251298,-260872,-241597,-271057,-257101,-140328,-111640,-59091,-6368,-16924,46314,28602,44047,91941,90163,153738,188309,196666,252466,292823,300295,428862,455416,520213,622461,651833,746550,806285,860857,852794,886188,952439,968901,965325,1044001,1056009,1188926,1241525,1243679,1267334,1257861,1340650,1395517,1388534,1358569,1320258,1301204,1244436,1211924,1169831,1089147,1023156,1015605,963809,939045,893760,852170,828734,819377,780241,791028,776738,680319,692293,686299,699070,679827,619560,582019,501893,427729,394583,369615,314120,289561,250604,139534]]],[[[1069879,1059797,1014399,997648,984304,963923,918766,943732,967362,986915,1011813,1038809,1075456,1108497,1128694,1095836,1068852,1100191,1111356,1134140,1168585,1204258,1220233,1256737,1226698,1241481,1232018,1208691,1201143,1225163,1163616,1069879]]],[[[1622921,1613256,1571939,1556495,1570158,1549567,1476762,1478469,1489421,1512167,1519275,1543869,1560678,1602318,1615848,1622921]]],[[[463075,360989,278911,236592,228631,259991,264649,234442,257423,304283,355268,403249,469368,545769,641896,603118,508797,463075]]],[[[6353928,6309199,6277879,6162437,6043963,6015798,6030962,5989162,5897428,5824204,5849473,5778930,5733771,5674114,5626012,5504952,5485256,5418185,5331611,5373001,5323425,5232100,5212556,5280932,5248191,5317150,5376549,5468941,5782740,5952586,6035667,6099364,6221438,6258197,6214741,6407631,6334010,6468329,6611854,6647604,6585436,6582534,6512171,6430271,6443743,6350309,6353928]]],[[[5255538,5313491,5183849,5068555,5098809,5199482,5255538]]],[[[2097889,2087551,2064256,2034728,2031293,2081425,2098574,2097889]]],[[[2095044,2084523,2056366,2024310,2022131,2002594,2021355,2064014,2090820,2098999,2095044]]],[[[2654843,2644840,2603660,2559522,2573129,2416556,2418198,2393860,2360318,2355417,2306779,2278999,2263962,2258083,2267451,2255918,2322063,2352942,2360897,2395290,2463341,2458680,2490806,2515977,2534599,2558066,2588174,2594349,2531769,2530092,2500792,2487676,2499046,2536149,2579587,2606415,2629967,2641544,2654843]]],[[[-2541748,-2529732,-2544166,-2523801,-2522491,-2468292,-2449921,-2374216,-2332245,-2319469,-2189472,-2121341,-2100385,-2006733,-2019535,-2033010,-2030295,-1954705,-1859030,-1849902,-1809708,-1763610,-1747791,-1790927,-1788624,-1813061,-1841742,-1850172,-1887488,-2035097,-2116367,-2204374,-2239369,-2309113,-2319917,-2405774,-2541748]]],[[[698118,950476,1021533,1126035,1156458,1202039,1269317,1408697,1454718,1520488,1545261,1558838,1516086,1472884,1470935,1499006,1439935,1442726,1491425,1487956,1504017,1497342,1463981,1527923,1523367,1398283,1400801,1355424,1334870,1297079,1209271,1078289,1053134,974223,927855,870964,825732,779094,741317,787391,785530,719922,718914,610925,531829,491639,497510,472492,474932,544787,625704,699443,698118]]],[[[1234225,1198886,1140510,1058464,969657,928602,827382,771577,661176,595696,557366,524957,556687,600792,697183,823785,918159,1163604,1227876,1233220,1224955,1243260,1234225]]],[[[3856767,3815140,3833415,3745810,3731107,3713111,3678735,3696430,3645751,3439609,3661270,3704231,3711642,3772887,3872413,3905999,3907128,3930434,3932185,3877812,3856767]]],[[[4544124,4556901,4551883,4615669,4631883,4666279,4499549,4409068,4250121,4175096,4148993,4092853,4081296,4154991,4257301,4400911,4424331,4544124]]],[[[3281993,3234172,3211084,3133942,3156567,3070295,2999242,2895716,2835907,2735230,2762983,2637299,2596154,2544990,2516477,2708082,2707699,2630236,2693026,2762262,2769307,2872882,2893864,2892040,2908913,2994756,3000865,3054490,2970383,2905091,2859304,2814657,2781913,2708525,2617409,2518214,2474416,2475924,2451068,2361296,2291003,2211362,2072928,1999101,1922761,1869278,1799161,1793050,1704926,1555381,1460447,1352106,1159297,1153818,1067621,1030434,998475,921908,889589,994670,1267081,1320822,1430264,1645125,1803640,2179467,2322793,2434379,2362979,2377257,2522249,2565732,2613064,2715917,2797231,2796912,2902188,2964718,3060130,3116098,3247611,3238032,3370758,3500518,3630127,3723032,3798950,3864139,4071541,4129808,4096803,4116898,4231219,4072112,3962687,3894559,3826983,3844730,3699932,3617526,3527156,3468873,3349512,3301535,3239581,3169086,3152850,3089305,3048446,3050524,3099804,3179282,3233417,3259929,3135841,3088458,3107953,3099585,3103285,3180134,3220226,3235978,3329985,3411005,3379683,3433404,3354151,3300894,3281993]]],[[[3233417,3179282,3099804,3050524,3048446,3089305,3152850,3169086,3239581,3301535,3349512,3468873,3558002,3518375,3434802,3416467,3355283,3330257,3274664,3245729,3233417]]],[[[4231219,4116898,4096803,4129808,4071541,3864139,3798950,3723032,3630127,3500518,3370758,3238032,3247611,3116098,3060130,2964718,2902188,2796912,2797231,2715917,2746688,2834483,2928054,2904887,2902595,2885357,3028833,3093086,3150615,3170893,3281748,3337433,3414303,3481618,3416255,3435390,3419096,3447120,3435882,3489154,3598886,3672411,3672182,3708687,3725736,3713557,3750376,3829380,3909315,3942990,4031503,4027305,4075749,4127672,4184720,4252645,4310861,4371017,4400150,4416296,4442012,4457665,4392765,4286650,4231219]]],[[[3494141,3561842,3630819,3630782,3725195,3825053,3897598,4024478,4129706,4176561,4256320,4297532,4462892,4575412,4619237,4783185,4824323,4769881,4703659,4684668,4688865,4794754,4805418,4763119,4692208,4617691,4624765,4520666,4491445,4421393,4397431,4434233,4466869,4493947,4574358,4570265,4596588,4583555,4512162,4496829,4373433,4368476,4252578,3985438,3965709,3892817,3787345,3704133,3682133,3598491,3481618,3414303,3337433,3281748,3170893,3150615,3093086,3028833,2885357,2950852,2966902,3119237,3141387,3119053,3058735,3100049,3196230,3232050,3352059,3522558,3501713,3544374,3494141]]],[[[8149359,8274436,8426041,8693545,8811959,9131784,9366599,9362247,9463786,9552495,9930107,10451140,10450133,10617708,10569078,10771050,10783870,10632791,10428007,9986091,9878742,9801642,9615224,9455576,9251300,9039065,8704584,8542850,8417997,8170400,8120075,7768527,7579207,7598510,7441413,7432390,7619791,7850963,8149359]]],[[[7153601,7070435,6999613,6926062,6888660,6804402,6724260,6569348,6520185,6499876,6356150,6279511,6355008,6330832,6348389,6311783,6372407,6349141,6444306,6454772,6509230,6528767,6483723,6519788,6567999,6583302,6640184,6754182,6816405,6913904,6979532,7029035,7124274,7179765,7333105,7300508,7253686,7251268,7229568,7232433,7212040,7153601]]],[[[6127424,6059549,6059224,6023441,5918012,5890583,5886542,5849820,5862344,5904215,5960929,5932543,5901583,5924715,5929144,5958871,5998997,6028202,6037296,5991588,6035019,6027989,6057599,6052523,6018742,6046772,6155093,6176362,6254045,6199740,6268823,6281494,6229829,6238595,6206752,6185407,6127424]]],[[[6177394,6131885,6087278,6052532,5941133,5831148,5800799,5807911,5741889,5772623,5841556,5861446,5916212,5918012,6023441,6059224,6059549,6127424,6084834,6066759,6087072,6120468,6125404,6151325,6140641,6161524,6201009,6211276,6160252,6177394]]],[[[7124274,7029035,6979532,6913904,6816405,6754182,6640184,6621707,6642063,6608376,6574240,6530535,6492529,6440929,6368261,6327125,6254045,6176362,6155093,6046772,6018742,6052523,6057599,6027989,6035019,5991588,6037296,6028202,6078756,6042807,6043963,6162437,6277879,6309199,6353928,6429360,6468481,6586647,6773340,6773414,6841536,7009686,7072687,7112402,7122629,7081228,7174093,7245445,7354638,7329109,7358587,7283972,7239322,7171802,7207456,7259746,7184470,7124274]]],[[[4462890,4439317,4474882,4492944,4471196,4449475,4451837,4399601,4399167,4425345,4386692,4413701,4336414,4276092,4338526,4390516,4378706,4410644,4330929,4315432,4389638,4394299,4336867,4320502,4394156,4391657,4530572,4608869,4719632,4788299,4927166,4933016,5044844,5025274,5121554,5163819,5167006,5061933,5004761,5027510,5014358,5091674,5098743,5025942,4974096,4902858,4866668,4824323,4783185,4619237,4575412,4462890]]],[[[5135085,5182196,5162081,5104655,5056683,5020451,5012315,4888054,4956122,4986434,5002944,5095610,5135085]]],[[[6028202,5998997,5958871,5929144,5924715,5858183,5830956,5851176,5786269,5781174,5806611,5752268,5744676,5778930,5849473,5824204,5897428,5989162,6030962,6015798,6043963,6042807,6078756,6028202]]],[[[6468481,6429360,6353928,6350309,6365185,6461933,6468481]]],[[[6586647,6468481,6461933,6365185,6443743,6430271,6512171,6582534,6585436,6647604,6682687,6668705,6705753,6627894,6586647]]],[[[4452745,4499060,4551759,4590134,4632261,4725980,4812257,4824163,4892793,4914140,5028740,5068823,5143527,5148755,5129883,5129706,5203085,5181176,5143106,5250192,5316025,5426579,5398816,5399789,5373583,5381624,5376549,5317150,5248191,5280932,5212556,5232100,5144833,5045747,5014514,4965008,4883968,4766171,4684284,4620810,4529024,4501045,4393783,4394296,4345393,4293310,4304724,4351331,4431152,4452745]]],[[[7145114,7011379,6847295,6740550,6767726,6957997,7147719,7387453,7283818,7181519,7184127,7145114]]],[[[-4875534,-5055155,-5114403,-5075365,-5053999,-4932903,-4852717,-4794824,-4742692,-4692732,-4583354,-4492365,-4398912,-4374464,-4317418,-4196152,-4100071,-4089476,-4164721,-4200019,-4322162,-4468292,-4373268,-4411118,-4516805,-4562664,-4573952,-4520238,-4536481,-4662088,-4745526,-4742574,-4786298,-4848511,-4875534]]],[[[-5396883,-5316796,-5238099,-5126204,-5088516,-5005869,-4937985,-5061435,-5001536,-5063979,-5126589,-5307412,-5368810,-5442774,-5444681,-5503049,-5605337,-5765766,-5883709,-5880258,-5826976,-5815661,-5756776,-5639003,-5484647,-5455515,-5396883]]],[[[-4984100,-4993986,-5170338,-5222145,-5344223,-5302492,-5409068,-5396026,-5265476,-5166015,-5036347,-4968775,-4981790,-5032672,-4984100]]],[[[-3791693,-3859355,-3889927,-3959704,-4014065,-4017322,-4029258,-4004796,-4025588,-4097404,-4091297,-4172681,-4167292,-4080808,-4055220,-3978348,-3960159,-3929808,-3882087,-3790258,-3712543,-3581115,-3507499,-3434465,-3351514,-3314237,-3263868,-3165358,-3066507,-3013522,-3067240,-2952249,-2988091,-3036091,-2972634,-2875614,-2836977,-2800363,-2729828,-2699909,-2639274,-2568708,-2482240,-2573770,-2491069,-2451021,-2400070,-2356342,-2347052,-2361724,-2317414,-2304249,-2278268,-2267457,-2270248,-2235599,-2183183,-2120272,-2060695,-1950525,-1851695,-1952109,-1928862,-1873906,-1817617,-1842731,-1754639,-1697856,-1652394,-1632801,-1600692,-1614096,-1585231,-1553340,-1606004,-1674127,-1685718,-1622523,-1530507,-1500591,-1472018,-1406814,-1366615,-1380148,-1358689,-1300561,-1263169,-1246684,-1274820,-1321422,-1350530,-1339015,-1374014,-1341414,-1351324,-1329462,-1385790,-1446850,-1493024,-1496831,-1542602,-1656426,-1688939,-1752698,-1789761,-1898440,-1898326,-1928122,-1964124,-2003726,-1963829,-1849800,-1786262,-1694377,-1638696,-1605256,-1539600,-1453413,-1430219,-1392133,-1269328,-1236953,-1194499,-1249956,-1321216,-1334970,-1382792,-1440814,-1505516,-1547115,-1637198,-1593862,-1642506,-1687468,-1738599,-1837829,-1895802,-1909993,-2009669,-2070356,-2150023,-2211615,-2319433,-2348226,-2422968,-2552697,-2526273,-2578429,-2559907,-2688014,-2809303,-2908637,-3007898,-3078730,-3156030,-3262857,-3375019,-3548649,-3622836,-3716205,-3835725,-3900792,-4004125,-4070552,-4187478,-4255565,-4358596,-4454318,-4498549,-4547362,-4552487,-4610440,-4726794,-4663648,-4638566,-4564770,-4591486,-4694415,-4633251,-4623100,-4582157,-4495420,-4389545,-4319676,-4263910,-4247404,-4181188,-4080578,-4174326,-4199343,-4124180,-4046307,-3980628,-3882039,-3995653,-4041533,-4148958,-4093258,-4021815,-3924911,-3875155,-3844607,-3764784,-3761032,-3697307,-3709666,-3800419,-3791693]]],[[[2801526,2606745,2507992,2609644,2699429,2819159,2912078,2875449,2801526]]],[[[5924715,5901583,5932543,5960929,5904215,5862344,5783038,5715049,5738253,5681826,5603494,5558843,5479592,5401862,5275665,5154261,5155186,5122155,5092481,4994237,4917756,4890511,4838482,4906375,4930416,4836254,4782690,4707768,4699289,4577433,4566557,4609785,4686058,4716594,4872971,4891106,4954186,4980878,5040153,5049744,5116822,5214370,5301545,5453071,5471058,5522309,5501295,5429478,5418185,5485256,5504952,5626012,5674114,5733771,5778930,5744676,5752268,5806611,5781174,5786269,5851176,5830956,5858183,5924715]]],[[[4599770,4612131,4501183,4457831,4386269,4438637,4453687,4524891,4597294,4584366,4599770]]],[[[4997600,5043364,4938870,4747111,4756176,4708304,4746317,4921070,5004970,4997600]]],[[[7358587,7329109,7354638,7463000,7666676,7782635,7795369,7852230,7910815,7804340,7737672,7680816,7650261,7574633,7596334,7453622,7358587]]],[[[7580625,7481164,7323149,7433003,7514734,7580625]]],[[[7145114,7184127,7181519,7283818,7387453,7395487,7275899,7145114]]],[[[7058181,7167315,7287503,7321403,7373830,7461182,7515532,7422488,7613359,7716302,7929359,8100844,8083934,8101911,7874002,7902480,7901393,7733597,7553200,7540519,7289421,7258598,7043344,6970060,6934960,6818226,6765260,6672650,6579959,6581587,6533324,6567849,6485917,6505687,6439351,6473975,6658524,6696998,6726950,6798570,6854798,6953457,7075090,7058181]]],[[[1425991,1513069,1508867,1467683,1369111,1425991]]],[[[1116747,1148422,1218712,1225374,1149126,1258509,1150415,1113248,1041908,1008521,1086503,1116747]]],[[[940106,802426,699851,814134,757240,674699,622259,687204,768301,821642,874753,828182,832504,769903,802733,897394,929027,971435,920487,951299,1001559,1004555,1091808,1038276,940106]]],[[[1041695,934794,1013560,1083243,1161449,1274054,1181599,1119302,1041695]]],[[[2063887,2015354,1931712,1835135,1796735,1703588,1611917,1599262,1612855,1549232,1486910,1459449,1406847,1462877,1522973,1480971,1549502,1532567,1557890,1605327,1634563,1661173,1619720,1685843,1736075,1846880,1808733,1990674,2096770,2096633,2063145,2093685,2063887]]],[[[1279298,1333391,1298195,1298362,1250929,1202783,1168775,1221413,1279298]]],[[[1364229,1237337,1267445,1229364,1159461,1134116,1213739,1219626,1288331,1279268,1322294,1409251,1406738,1364229]]],[[[721155,741138,692076,634606,647967,693954,683493,615939,541104,465907,415146,310817,280109,181602,143953,136525,219021,307451,364245,438848,531304,592233,673681,721155]]],[[[460990,479804,479856,352978,314212,159280,135547,166752,156989,100686,108706,86067,148974,223404,185236,206047,300373,321392,345525,504342,446492,484517,480980,607354,685170,772745,773113,716414,667740,602893,559107,553564,499019,460990]]],[[[10770937,10556210,10357920,10140203,9823945,9594864,9401873,9237104,9067880,8944460,8512703,8494739,8412509,8365613,8487516,8561851,8789606,9004623,9146926,9303649,9582695,9637783,9750549,9878742,9986091,10428007,10632791,10783870,10866837,10701802,10717088,10642786,10779459,11012091,11122368,10993136,10770937]]],[[[4747612,4604035,4458928,4348056,4279022,4182666,4118800,4110504,3957162,4008553,4109187,4079393,4016044,4013472,3915229,3691375,3636591,3687185,3805320,3843692,3934666,3975772,4060096,4129920,4222934,4263754,4235749,4481703,4415074,4609979,4784723,4948142,5041147,5068340,4864724,4747612]]],[[[5459390,5525174,5351949,5310200,5160262,5263207,5098955,5096717,5245805,5362837,5371343,5585718,5708763,5544764,5492424,5459390]]],[[[3957007,4036901,4021368,4077909,4048858,4002827,3922037,3964795,3933802,3856155,3893894,3957007]]],[[[3421106,3400806,3440112,3486244,3504035,3547156,3569081,3698953,3764651,3784464,3748878,3657450,3398434,3375966,3315461,3318748,3209899,3181213,3137221,3084752,3033432,2992143,2950616,2916062,2845650,2821347,2830046,2632158,2571295,2596783,2511525,2273030,2154936,2109856,2057066,1934411,1915005,1953832,1948001,1959661,1971325,1968645,1958104,1988444,1931122,1882083,1845045,1894606,1929651,1976156,2018016,2116309,2212296,2293730,2313217,2426719,2509949,2581263,2715490,2762999,2788235,2858372,2886132,2949988,2977574,3069867,3256963,3256357,3421106]]],[[[-105758,-112945,-160686,-149327,-65390,-22855,66501,118262,176330,205909,245460,260547,390883,421305,396359,422467,422208,473529,396061,340101,212196,131025,12224,-105758]]],[[[1204901,1219634,1215667,1131326,1118889,1129064,1160171,1204901]]]],\"index\":[3,3,3,3,3,3,3,3,3,3,3,3,3,3,3,3,3,3,3,3,3,3,3,3,3,3,3,3,3,3,4,4,4,4,4,4,4,4,4,4,8,8,8,8,8,8,8,8,8,8,8,8,8,9,9,10,10,13,18,18,18,18,18,18,18,18,18,18,18,18,18,18,21,21,21,21,25,27,29,32,34,37,43,43,43,45,46,47,48,56,59,76,96,98,101,102,107,110,113,114,115,121,124,124,127,128,129,132,133,136,136,137,137,140,141,141,141,142,142,143,143,147,147,147,147,147,147,147,148,148,151,155,155,155,158,168,175],\"name\":[\"Canada\",\"Canada\",\"Canada\",\"Canada\",\"Canada\",\"Canada\",\"Canada\",\"Canada\",\"Canada\",\"Canada\",\"Canada\",\"Canada\",\"Canada\",\"Canada\",\"Canada\",\"Canada\",\"Canada\",\"Canada\",\"Canada\",\"Canada\",\"Canada\",\"Canada\",\"Canada\",\"Canada\",\"Canada\",\"Canada\",\"Canada\",\"Canada\",\"Canada\",\"Canada\",\"United States of America\",\"United States of America\",\"United States of America\",\"United States of America\",\"United States of America\",\"United States of America\",\"United States of America\",\"United States of America\",\"United States of America\",\"United States of America\",\"Indonesia\",\"Indonesia\",\"Indonesia\",\"Indonesia\",\"Indonesia\",\"Indonesia\",\"Indonesia\",\"Indonesia\",\"Indonesia\",\"Indonesia\",\"Indonesia\",\"Indonesia\",\"Indonesia\",\"Argentina\",\"Argentina\",\"Chile\",\"Chile\",\"Kenya\",\"Russia\",\"Russia\",\"Russia\",\"Russia\",\"Russia\",\"Russia\",\"Russia\",\"Russia\",\"Russia\",\"Russia\",\"Russia\",\"Russia\",\"Russia\",\"Russia\",\"Norway\",\"Norway\",\"Norway\",\"Norway\",\"South Africa\",\"Mexico\",\"Brazil\",\"Colombia\",\"Costa Rica\",\"El Salvador\",\"France\",\"France\",\"France\",\"Puerto Rico\",\"Jamaica\",\"Cuba\",\"Zimbabwe\",\"Nigeria\",\"Ghana\",\"Israel\",\"South Korea\",\"India\",\"Nepal\",\"Pakistan\",\"Iran\",\"Sweden\",\"Poland\",\"Austria\",\"Hungary\",\"Germany\",\"Turkey\",\"Turkey\",\"Switzerland\",\"Luxembourg\",\"Belgium\",\"Spain\",\"Ireland\",\"New Zealand\",\"New Zealand\",\"Australia\",\"Australia\",\"Taiwan\",\"Italy\",\"Italy\",\"Italy\",\"Denmark\",\"Denmark\",\"United Kingdom\",\"United Kingdom\",\"Philippines\",\"Philippines\",\"Philippines\",\"Philippines\",\"Philippines\",\"Philippines\",\"Philippines\",\"Malaysia\",\"Malaysia\",\"Finland\",\"Japan\",\"Japan\",\"Japan\",\"Saudi Arabia\",\"Uganda\",\"Trinidad and Tobago\"],\"sentiment_2015\":{\"__ndarray__\":\"u3FlYzixqr+7cWVjOLGqv7txZWM4saq/u3FlYzixqr+7cWVjOLGqv7txZWM4saq/u3FlYzixqr+7cWVjOLGqv7txZWM4saq/u3FlYzixqr+7cWVjOLGqv7txZWM4saq/u3FlYzixqr+7cWVjOLGqv7txZWM4saq/u3FlYzixqr+7cWVjOLGqv7txZWM4saq/u3FlYzixqr+7cWVjOLGqv7txZWM4saq/u3FlYzixqr+7cWVjOLGqv7txZWM4saq/u3FlYzixqr+7cWVjOLGqv7txZWM4saq/u3FlYzixqr+7cWVjOLGqv7txZWM4saq/TbMtZqMyyT9Nsy1mozLJP02zLWajMsk/TbMtZqMyyT9Nsy1mozLJP02zLWajMsk/TbMtZqMyyT9Nsy1mozLJP02zLWajMsk/TbMtZqMyyT9wWPuGtW/UP3BY+4a1b9Q/cFj7hrVv1D9wWPuGtW/UP3BY+4a1b9Q/cFj7hrVv1D9wWPuGtW/UP3BY+4a1b9Q/cFj7hrVv1D9wWPuGtW/UP3BY+4a1b9Q/cFj7hrVv1D9wWPuGtW/UP2+EMnpb1tQ/b4QyelvW1D+uuObPOXxzP6645s85fHM/HsDrrm0rwj+7awn5oGejv7trCfmgZ6O/u2sJ+aBno7+7awn5oGejv7trCfmgZ6O/u2sJ+aBno7+7awn5oGejv7trCfmgZ6O/u2sJ+aBno7+7awn5oGejv7trCfmgZ6O/u2sJ+aBno7+7awn5oGejv7trCfmgZ6O/zojS3uALyz/OiNLe4AvLP86I0t7gC8s/zojS3uALyz9vULDT0QfgP6yL22gAb8E/Ib1LitopxD8AAAAAAAAAAMQgsHJokeU/Nc8kxG8dzj/Y48Pcp1arP9jjw9ynVqs/2OPD3KdWqz9wsudFAEqWv70ta3VM8MC/+k6Q3mQzzj/o1n5Fkcixv/FBz2bV56K/L2VywLW4xz9GZ/hxcc91v3wT0zcxfcU/lLw6x4Dsxb9WzE5qiXfKP9EvVVniV6u/KBI5anIeyz8SA8NVaLmNP5DkrfdcKL2/2or9Zffkzz+CsJpVTrDFP2qN4oym56U/VhwHXi13xj9WHAdeLXfGP1K7F0nYLpw/2oEC1kbl0j8wMzAGjUnEP7eqYQ7kFdU/L/XzpiIVwr8AAAAAAAAAAAAAAAAAAAAAzJf3dH7quj/Ml/d0fuq6P+uJbdBakMs//29qY6tJxz//b2pjq0nHP/9vamOrScc/sJRliGNdyj+wlGWIY13KP181PbUplsA/XzU9tSmWwD/F4cyv5gDBP8XhzK/mAME/xeHMr+YAwT/F4cyv5gDBP8XhzK/mAME/xeHMr+YAwT/F4cyv5gDBP95JMS3XyMO/3kkxLdfIw790JJf/kH6rPwcmuLRshLa/Bya4tGyEtr8HJri0bIS2vwaXcYNto8E/OH2NOgb2wj8juuXm2pWxPw==\",\"dtype\":\"float64\",\"order\":\"little\",\"shape\":[137]},\"sentiment_2016\":{\"__ndarray__\":\"sDnKgDEetL+wOcqAMR60v7A5yoAxHrS/sDnKgDEetL+wOcqAMR60v7A5yoAxHrS/sDnKgDEetL+wOcqAMR60v7A5yoAxHrS/sDnKgDEetL+wOcqAMR60v7A5yoAxHrS/sDnKgDEetL+wOcqAMR60v7A5yoAxHrS/sDnKgDEetL+wOcqAMR60v7A5yoAxHrS/sDnKgDEetL+wOcqAMR60v7A5yoAxHrS/sDnKgDEetL+wOcqAMR60v7A5yoAxHrS/sDnKgDEetL+wOcqAMR60v7A5yoAxHrS/sDnKgDEetL+wOcqAMR60v7A5yoAxHrS/PRaXZPS/wz89Fpdk9L/DPz0Wl2T0v8M/PRaXZPS/wz89Fpdk9L/DPz0Wl2T0v8M/PRaXZPS/wz89Fpdk9L/DPz0Wl2T0v8M/PRaXZPS/wz9fukkMAiuvP1+6SQwCK68/X7pJDAIrrz9fukkMAiuvP1+6SQwCK68/X7pJDAIrrz9fukkMAiuvP1+6SQwCK68/X7pJDAIrrz9fukkMAiuvP1+6SQwCK68/X7pJDAIrrz9fukkMAiuvPzMzMzMzM8M/MzMzMzMzwz/21+7dZBfDP/bX7t1kF8M/L4W2HzXIwT9m1edqK/aXP2bV52or9pc/ZtXnaiv2lz9m1edqK/aXP2bV52or9pc/ZtXnaiv2lz9m1edqK/aXP2bV52or9pc/ZtXnaiv2lz9m1edqK/aXP2bV52or9pc/ZtXnaiv2lz9m1edqK/aXP2bV52or9pc/Njy9UpYh0j82PL1SliHSPzY8vVKWIdI/Njy9UpYh0j8QnDOitDeIvyPb+X5qvNA/vlwJoNcdvj9a9bnaiv3ZP6qCUUmdgNM/bYl3ipQ+r79DJctmK0ysP0Mly2YrTKw/QyXLZitMrD8f9GxWfa7qP9qs+lxtxcY/ipUjnWjsxj88PkfR8FOyP95pXGaANbU/ENKkkYokuD+YqfXpYRSzP/Zu88ZJYb4/V2XBx1pP1T97IiPcsxCZv4o3Mo/8wcQ/VOi8xi5R0T8MJ1YzWF6/P777471qZdQ/R4maKS824D/KCQEAQ9uGv2c2UeEnw8E/q/pcbcX+kr+r+lxtxf6Sv+JE96b1n7w/WOwvuycvxz+V+TQUZPHAP8nPh+l/+qE/G9YT26C1sL/9h/Tb14GzP/2H9NvXgbM/h10LjNFJkb+HXQuM0UmRv8b+snvysKC/R+F6FK5H0T9H4XoUrkfRP0fhehSuR9E/F/nTzknE2L8X+dPOScTYv25dk6o8498/bl2Tqjzj3z9u8W4oO3veP27xbig7e94/bvFuKDt73j9u8W4oO3veP27xbig7e94/bvFuKDt73j9u8W4oO3vePzoBTYQNT92/OgFNhA1P3b8+6Nms+lzNP7pPaGzC0K2/uk9obMLQrb+6T2hswtCtvz5YIcZGUL4/Q9tFSvMvtD+Bf4vQDCPHvw==\",\"dtype\":\"float64\",\"order\":\"little\",\"shape\":[137]},\"sentiment_2017\":{\"__ndarray__\":\"OiNKe4Mvw786I0p7gy/DvzojSnuDL8O/OiNKe4Mvw786I0p7gy/DvzojSnuDL8O/OiNKe4Mvw786I0p7gy/DvzojSnuDL8O/OiNKe4Mvw786I0p7gy/DvzojSnuDL8O/OiNKe4Mvw786I0p7gy/DvzojSnuDL8O/OiNKe4Mvw786I0p7gy/DvzojSnuDL8O/OiNKe4Mvw786I0p7gy/DvzojSnuDL8O/OiNKe4Mvw786I0p7gy/DvzojSnuDL8O/OiNKe4Mvw786I0p7gy/DvzojSnuDL8O/OiNKe4Mvw786I0p7gy/DvzojSnuDL8O/zlao+mLGwj/OVqj6YsbCP85WqPpixsI/zlao+mLGwj/OVqj6YsbCP85WqPpixsI/zlao+mLGwj/OVqj6YsbCP85WqPpixsI/zlao+mLGwj9TrcKnu++pP1Otwqe776k/U63Cp7vvqT9TrcKnu++pP1Otwqe776k/U63Cp7vvqT9TrcKnu++pP1Otwqe776k/U63Cp7vvqT9TrcKnu++pP1Otwqe776k/U63Cp7vvqT9TrcKnu++pPy0ne14EoKQ/LSd7XgSgpD+XnWuF1rC0P5eda4XWsLQ/udEPT/c3vT/Fyf0ORYHSP8XJ/Q5FgdI/xcn9DkWB0j/Fyf0ORYHSP8XJ/Q5FgdI/xcn9DkWB0j/Fyf0ORYHSP8XJ/Q5FgdI/xcn9DkWB0j/Fyf0ORYHSP8XJ/Q5FgdI/xcn9DkWB0j/Fyf0ORYHSP8XJ/Q5FgdI/rXMMyF7vxr+tcwzIXu/Gv61zDMhe78a/rXMMyF7vxr+SRC+jWG7ZPzxO0ZFc/rM/CXsrzHBUsD+uR+F6FK6zv5ykUG3HK8c/7AiOecuDtj/pNCDfpKShP+k0IN+kpKE/6TQg36SkoT+fFwEoWWHJP4G2VyP8Dcc/hZZRl0cAyD8/u4DYVBrCv46R5/Ui1ca/pqVtZCeVwz8ezVnSH/+1P1iwpAzqH78/Z8l4MsP3jL/y3Q6EPTvNP5waL90kBpG/EojX9Qt20T+MJtYnfHWzP3cSMG/ibbs/6MSPMXctgT/dkp8XWze8P2fIuDtJ7aW/Aj6QdtGo0j8CPpB20ajSP0z+6Zy+U8k/UjJMqTfsyj/y29eBc0asv9zdCJCmf74/2tElCa/K1L+lBxhwqV3GP6UHGHCpXcY/6jiZLEBgmr/qOJksQGCav8NkqmBUUse/otY07zhFtL+i1jTvOEW0v6LWNO84RbS/Ln5eStAwvT8ufl5K0DC9PwbS5i8G68o/BtLmLwbryj+5G6knKHm2P7kbqScoebY/uRupJyh5tj+5G6knKHm2P7kbqScoebY/uRupJyh5tj+5G6knKHm2P5qxaDo7Gcw/mrFoOjsZzD+KVxigMOfhv3CudFEHjNC/cK50UQeM0L9wrnRRB4zQv4sacqkg87Y/bHHlfqlevD90stR6v9HGvw==\",\"dtype\":\"float64\",\"order\":\"little\",\"shape\":[137]},\"sentiment_2018\":{\"__ndarray__\":\"D/rCS2kLvD8P+sJLaQu8Pw/6wktpC7w/D/rCS2kLvD8P+sJLaQu8Pw/6wktpC7w/D/rCS2kLvD8P+sJLaQu8Pw/6wktpC7w/D/rCS2kLvD8P+sJLaQu8Pw/6wktpC7w/D/rCS2kLvD8P+sJLaQu8Pw/6wktpC7w/D/rCS2kLvD8P+sJLaQu8Pw/6wktpC7w/D/rCS2kLvD8P+sJLaQu8Pw/6wktpC7w/D/rCS2kLvD8P+sJLaQu8Pw/6wktpC7w/D/rCS2kLvD8P+sJLaQu8Pw/6wktpC7w/D/rCS2kLvD8P+sJLaQu8Pw/6wktpC7w/OA6Tt7BywD84DpO3sHLAPzgOk7ewcsA/OA6Tt7BywD84DpO3sHLAPzgOk7ewcsA/OA6Tt7BywD84DpO3sHLAPzgOk7ewcsA/OA6Tt7BywD+QPFb7I1LNP5A8VvsjUs0/kDxW+yNSzT+QPFb7I1LNP5A8VvsjUs0/kDxW+yNSzT+QPFb7I1LNP5A8VvsjUs0/kDxW+yNSzT+QPFb7I1LNP5A8VvsjUs0/kDxW+yNSzT+QPFb7I1LNP3/oMRDWrtM/f+gxENau0z/AJGA/jxykP8AkYD+PHKQ/J1lHCOfWvz800GXHFP/OPzTQZccU/84/NNBlxxT/zj800GXHFP/OPzTQZccU/84/NNBlxxT/zj800GXHFP/OPzTQZccU/84/NNBlxxT/zj800GXHFP/OPzTQZccU/84/NNBlxxT/zj800GXHFP/OPzTQZccU/84/r7y+6XCH2D+vvL7pcIfYP6+8vulwh9g/r7y+6XCH2D++8bVnlgSov6vDxx0sWcs/YP5D+u3rsL/RbDFSAnXNP+gYkL3e/bG/jRiFbGgStD8AXr6qh/HAPwBevqqH8cA/AF6+qofxwD8GpEzM74PRP/8h/fZ14Lw/D0BUr3zYxj+PKmvmvD2qP81vqsrNUqW/z5VPKE9Xwz9zNyJ3I3LBPxpGhaBZyHK/ytCeuAnkvz/aPXlYqLXJP63HhlyUyrm/z2OnMp+G3j/q2IZyFjA+P/33L3KLSMc/0//0oyLQxT8DDM50IMbBP5n2NYfZNsQ/f03WqIdo0T9/Tdaoh2jRP7SIQEigU7A/HdO7l9xHyz/3TeMbS9qhP1UEIXvfGqq/0LJAbIdKlD80/GS4eOJ6vzT8ZLh44nq/CYDQchI1rj8JgNByEjWuP1O4HoXrUai/VOv0lRyG0T9U6/SVHIbRP1Tr9JUchtE/ZSPyYIVnwD9lI/JghWfAP4vbaABvQcs/i9toAG9Byz8ewZZFTHq9Px7BlkVMer0/HsGWRUx6vT8ewZZFTHq9Px7BlkVMer0/HsGWRUx6vT8ewZZFTHq9PznulA7W/9I/Oe6UDtb/0j8xmSoYldTjv0O/7o2FeLK/Q7/ujYV4sr9Dv+6NhXiyv36rnxROfsE/GOhAz6RzwT+9UpYhjnWhPw==\",\"dtype\":\"float64\",\"order\":\"little\",\"shape\":[137]},\"sentiment_2019\":{\"__ndarray__\":\"xvg0Jdqxwz/G+DQl2rHDP8b4NCXascM/xvg0Jdqxwz/G+DQl2rHDP8b4NCXascM/xvg0Jdqxwz/G+DQl2rHDP8b4NCXascM/xvg0Jdqxwz/G+DQl2rHDP8b4NCXascM/xvg0Jdqxwz/G+DQl2rHDP8b4NCXascM/xvg0Jdqxwz/G+DQl2rHDP8b4NCXascM/xvg0Jdqxwz/G+DQl2rHDP8b4NCXascM/xvg0Jdqxwz/G+DQl2rHDP8b4NCXascM/xvg0Jdqxwz/G+DQl2rHDP8b4NCXascM/xvg0Jdqxwz/G+DQl2rHDP8b4NCXascM/3COqERdeuD/cI6oRF164P9wjqhEXXrg/3COqERdeuD/cI6oRF164P9wjqhEXXrg/3COqERdeuD/cI6oRF164P9wjqhEXXrg/3COqERdeuD+AlUOLbOfPP4CVQ4ts588/gJVDi2znzz+AlUOLbOfPP4CVQ4ts588/gJVDi2znzz+AlUOLbOfPP4CVQ4ts588/gJVDi2znzz+AlUOLbOfPP4CVQ4ts588/gJVDi2znzz+AlUOLbOfPPzgawFsgQdA/OBrAWyBB0D/0KocW2c6LP/QqhxbZzos/TZakfFI3wD/riKoueM+bP+uIqi54z5s/64iqLnjPmz/riKoueM+bP+uIqi54z5s/64iqLnjPmz/riKoueM+bP+uIqi54z5s/64iqLnjPmz/riKoueM+bP+uIqi54z5s/64iqLnjPmz/riKoueM+bP+uIqi54z5s/iVQG4v65zz+JVAbi/rnPP4lUBuL+uc8/iVQG4v65zz/ZzvdT46XDvxAUP8bctbS/6JeEyj0gxz+Iz7ArQO69v+5x41cuWLu/EbB2hZJcwT8IM5tvbnqfPwgzm29uep8/CDObb256nz/ydtW9Q6LCP6CJsOHplco/XytOgsGJyz/HxRRrNlK9v9rtPw9M+sC/AKWya7kvzT+aU5ZItXe1PzvolqRGKpM/UtURkrRhj79eowPpudy3PzI69PT7bbQ/11bsL7snnz9qvHSTGASjvy//If32dbg/gsXhzK/m1j+PEQEPIdvCP+/mqQ65Ga6/tTomeDBP3L+1OiZ4ME/cv/qTjpGhN7a/YjrEG6+Gzj+CmraWHXe5v51MGLnw07s/nXXK5FZFwb+kqgmi7gPAv6SqCaLuA8C/UOjP/2jKtD9Q6M//aMq0P8hKTipbpts/ORrAWyBBkT85GsBbIEGRPzkawFsgQZE/Z50xJXAenj9nnTElcB6ePyUGgZVDi9Q/JQaBlUOL1D9mn8coz7zYP2afxyjPvNg/Zp/HKM+82D9mn8coz7zYP2afxyjPvNg/Zp/HKM+82D9mn8coz7zYP9GwZpwtvNo/0bBmnC282j9jodY07zjdv5scO646iqy/mxw7rjqKrL+bHDuuOoqsv3Ps/fis9r4/hNYuVGUjvj9lRjstvfnQvw==\",\"dtype\":\"float64\",\"order\":\"little\",\"shape\":[137]},\"sentiment_2020\":{\"__ndarray__\":\"SCBe1y/Y2T9IIF7XL9jZP0ggXtcv2Nk/SCBe1y/Y2T9IIF7XL9jZP0ggXtcv2Nk/SCBe1y/Y2T9IIF7XL9jZP0ggXtcv2Nk/SCBe1y/Y2T9IIF7XL9jZP0ggXtcv2Nk/SCBe1y/Y2T9IIF7XL9jZP0ggXtcv2Nk/SCBe1y/Y2T9IIF7XL9jZP0ggXtcv2Nk/SCBe1y/Y2T9IIF7XL9jZP0ggXtcv2Nk/SCBe1y/Y2T9IIF7XL9jZP0ggXtcv2Nk/SCBe1y/Y2T9IIF7XL9jZP0ggXtcv2Nk/SCBe1y/Y2T9IIF7XL9jZP0ggXtcv2Nk/ZkUjAd+8uj9mRSMB37y6P2ZFIwHfvLo/ZkUjAd+8uj9mRSMB37y6P2ZFIwHfvLo/ZkUjAd+8uj9mRSMB37y6P2ZFIwHfvLo/ZkUjAd+8uj9CDkqYafu3v0IOSphp+7e/Qg5KmGn7t79CDkqYafu3v0IOSphp+7e/Qg5KmGn7t79CDkqYafu3v0IOSphp+7e/Qg5KmGn7t79CDkqYafu3v0IOSphp+7e/Qg5KmGn7t79CDkqYafu3v/VKWYY41uE/9UpZhjjW4T+Bc0aU9gbYv4FzRpT2Bti/8DibVAvGxj85RUdy+Q/VPzlFR3L5D9U/OUVHcvkP1T85RUdy+Q/VPzlFR3L5D9U/OUVHcvkP1T85RUdy+Q/VPzlFR3L5D9U/OUVHcvkP1T85RUdy+Q/VPzlFR3L5D9U/OUVHcvkP1T85RUdy+Q/VPzlFR3L5D9U/s3vysFBrmj+ze/KwUGuaP7N78rBQa5o/s3vysFBrmj84Z0Rpb/DdP3A9CtejcNI/6Ugu/yH92r9g5dAi2/navwAAAAAAAAAAxnygx4uGkb/imcqunLTCP+KZyq6ctMI/4pnKrpy0wj+IY13cRgPIv+viNhrAW7A/aKvEga8a2D/+1HjpJjHUv8oxz5D8cJY/mVEyimKtyz8VJlMFo5KqP26fjscMVKY/TPBgnqh/sz9NFYxK6gToPxniWBe30cC/cjs4Gdf85T9NFYxK6gToPwokKH6MuaO/YOXQItv52j97FK5H4XrEP/37jAsHQtA/097gC5Op7L/T3uALk6nsv0/9AdK9zMe/revpe+M9zz/NO07RkdzjP4nS3uALk9O/UENBFo944z+cM6K0N3jgP5wzorQ3eOA/BXE6Ppz7lz8FcTo+nPuXP8vrmw53COI/HqfoSC7/478ep+hILv/jvx6n6Egu/+O/dWeojpaFoz91Z6iOloWjPyNHTc5jp9i/I0dNzmOn2L+TqYJRSZ2wP5OpglFJnbA/k6mCUUmdsD+TqYJRSZ2wP5OpglFJnbA/k6mCUUmdsD+TqYJRSZ2wP0TVwj9/tLK/RNXCP3+0sr/VeOkmMQjSv7Uz4/np1tO/tTPj+enW07+1M+P56dbTvwmOVHr5s8E/M0Da994Ewj+iRbbz/dTrPw==\",\"dtype\":\"float64\",\"order\":\"little\",\"shape\":[137]}},\"selected\":{\"id\":\"58788\"},\"selection_policy\":{\"id\":\"58787\"}},\"id\":\"58773\",\"type\":\"ColumnDataSource\"},{\"attributes\":{\"fill_color\":{\"field\":\"Colormap\",\"transform\":{\"id\":\"58771\"}},\"xs\":{\"field\":\"__x__\"},\"ys\":{\"field\":\"__y__\"}},\"id\":\"58775\",\"type\":\"MultiPolygons\"},{\"attributes\":{\"below\":[{\"id\":\"58736\"}],\"center\":[{\"id\":\"58743\"},{\"id\":\"58751\"},{\"id\":\"58790\"}],\"height\":400,\"left\":[{\"id\":\"58744\"}],\"match_aspect\":true,\"output_backend\":\"webgl\",\"renderers\":[{\"id\":\"58768\"},{\"id\":\"58778\"},{\"id\":\"58980\"}],\"right\":[{\"id\":\"58794\"}],\"title\":{\"id\":\"58726\"},\"toolbar\":{\"id\":\"58759\"},\"width\":700,\"x_range\":{\"id\":\"58728\"},\"x_scale\":{\"id\":\"58732\"},\"y_range\":{\"id\":\"58730\"},\"y_scale\":{\"id\":\"58734\"}},\"id\":\"58725\",\"subtype\":\"Figure\",\"type\":\"Plot\"},{\"attributes\":{},\"id\":\"58783\",\"type\":\"AllLabels\"},{\"attributes\":{},\"id\":\"58810\",\"type\":\"Selection\"},{\"attributes\":{\"high\":0.3249637698412698,\"low\":-0.27240357142857147,\"palette\":[\"#0072B2\",\"#E69F00\",\"#F0E442\",\"#009E73\",\"#56B4E9\",\"#D55E00\",\"#CC79A7\",\"#000000\"]},\"id\":\"58973\",\"type\":\"LinearColorMapper\"},{\"attributes\":{\"active_scroll\":{\"id\":\"58753\"},\"tools\":[{\"id\":\"58752\"},{\"id\":\"58753\"},{\"id\":\"58754\"},{\"id\":\"58755\"},{\"id\":\"58756\"},{\"id\":\"58757\"},{\"id\":\"58792\"},{\"id\":\"59026\"}]},\"id\":\"58759\",\"type\":\"Toolbar\"},{\"attributes\":{\"dimension\":\"lon\"},\"id\":\"58737\",\"type\":\"MercatorTicker\"},{\"attributes\":{\"axis_label\":\"Latitude\",\"coordinates\":null,\"formatter\":{\"id\":\"58747\"},\"group\":null,\"major_label_policy\":{\"id\":\"58783\"},\"ticker\":{\"id\":\"58745\"}},\"id\":\"58744\",\"type\":\"MercatorAxis\"},{\"attributes\":{},\"id\":\"58803\",\"type\":\"NoOverlap\"},{\"attributes\":{\"fill_alpha\":{\"value\":0.2},\"fill_color\":{\"field\":\"Colormap\",\"transform\":{\"id\":\"58973\"}},\"hatch_alpha\":{\"value\":0.2},\"line_alpha\":{\"value\":0.2},\"xs\":{\"field\":\"__x__\"},\"ys\":{\"field\":\"__y__\"}},\"id\":\"58979\",\"type\":\"MultiPolygons\"},{\"attributes\":{\"label\":{\"value\":\"Per year\"},\"renderers\":[{\"id\":\"58778\"}]},\"id\":\"58791\",\"type\":\"LegendItem\"},{\"attributes\":{\"zoom_on_axis\":false},\"id\":\"58753\",\"type\":\"WheelZoomTool\"},{\"attributes\":{},\"id\":\"58788\",\"type\":\"Selection\"},{\"attributes\":{},\"id\":\"58732\",\"type\":\"LinearScale\"},{\"attributes\":{},\"id\":\"58752\",\"type\":\"PanTool\"},{\"attributes\":{},\"id\":\"58756\",\"type\":\"ResetTool\"},{\"attributes\":{},\"id\":\"58809\",\"type\":\"UnionRenderers\"},{\"attributes\":{\"axis_label\":\"Longitude\",\"coordinates\":null,\"formatter\":{\"id\":\"58739\"},\"group\":null,\"major_label_policy\":{\"id\":\"58786\"},\"ticker\":{\"id\":\"58737\"}},\"id\":\"58736\",\"type\":\"MercatorAxis\"},{\"attributes\":{\"axis\":{\"id\":\"58736\"},\"coordinates\":null,\"group\":null,\"ticker\":null},\"id\":\"58743\",\"type\":\"Grid\"},{\"attributes\":{},\"id\":\"58787\",\"type\":\"UnionRenderers\"},{\"attributes\":{\"label\":{\"value\":\"Mean\"},\"renderers\":[{\"id\":\"58980\"}]},\"id\":\"59010\",\"type\":\"LegendItem\"},{\"attributes\":{\"source\":{\"id\":\"58975\"}},\"id\":\"58981\",\"type\":\"CDSView\"},{\"attributes\":{\"end\":2020,\"js_property_callbacks\":{\"change:value\":[{\"id\":\"58797\"}]},\"start\":2015,\"title\":\"Year\",\"value\":2015},\"id\":\"58796\",\"type\":\"Slider\"},{\"attributes\":{\"fill_color\":{\"field\":\"Colormap\",\"transform\":{\"id\":\"58973\"}},\"xs\":{\"field\":\"__x__\"},\"ys\":{\"field\":\"__y__\"}},\"id\":\"58977\",\"type\":\"MultiPolygons\"},{\"attributes\":{},\"id\":\"58757\",\"type\":\"HelpTool\"},{\"attributes\":{\"coordinates\":null,\"group\":null,\"tile_source\":{\"id\":\"58767\"}},\"id\":\"58768\",\"type\":\"TileRenderer\"},{\"attributes\":{\"coordinates\":null,\"data_source\":{\"id\":\"58773\"},\"glyph\":{\"id\":\"58775\"},\"group\":null,\"hover_glyph\":null,\"muted_glyph\":{\"id\":\"58777\"},\"nonselection_glyph\":{\"id\":\"58776\"},\"view\":{\"id\":\"58779\"}},\"id\":\"58778\",\"type\":\"GlyphRenderer\"},{\"attributes\":{\"fill_alpha\":{\"value\":0.1},\"fill_color\":{\"field\":\"Colormap\",\"transform\":{\"id\":\"58973\"}},\"hatch_alpha\":{\"value\":0.1},\"line_alpha\":{\"value\":0.1},\"xs\":{\"field\":\"__x__\"},\"ys\":{\"field\":\"__y__\"}},\"id\":\"58978\",\"type\":\"MultiPolygons\"},{\"attributes\":{\"high\":0.86975,\"low\":-0.8957,\"palette\":[\"#0072B2\",\"#E69F00\",\"#F0E442\",\"#009E73\",\"#56B4E9\",\"#D55E00\",\"#CC79A7\",\"#000000\"]},\"id\":\"58771\",\"type\":\"LinearColorMapper\"},{\"attributes\":{},\"id\":\"58734\",\"type\":\"LinearScale\"},{\"attributes\":{\"data\":{\"Colormap\":{\"__ndarray__\":\"9V3DYQF/sD/1XcNhAX+wP/Vdw2EBf7A/9V3DYQF/sD/1XcNhAX+wP/Vdw2EBf7A/9V3DYQF/sD/1XcNhAX+wP/Vdw2EBf7A/9V3DYQF/sD/1XcNhAX+wP/Vdw2EBf7A/9V3DYQF/sD/1XcNhAX+wP/Vdw2EBf7A/9V3DYQF/sD/1XcNhAX+wP/Vdw2EBf7A/9V3DYQF/sD/1XcNhAX+wP/Vdw2EBf7A/9V3DYQF/sD/1XcNhAX+wP/Vdw2EBf7A/9V3DYQF/sD/1XcNhAX+wP/Vdw2EBf7A/9V3DYQF/sD/1XcNhAX+wP/Vdw2EBf7A/3iURwduewT/eJRHB257BP94lEcHbnsE/3iURwduewT/eJRHB257BP94lEcHbnsE/3iURwduewT/eJRHB257BP94lEcHbnsE/3iURwduewT+fw+cIqWXBP5/D5wipZcE/n8PnCKllwT+fw+cIqWXBP5/D5wipZcE/n8PnCKllwT+fw+cIqWXBP5/D5wipZcE/n8PnCKllwT+fw+cIqWXBP5/D5wipZcE/n8PnCKllwT+fw+cIqWXBP0OvCoQPcNE/Q68KhA9w0T/1JmxAGvuNv/UmbEAa+42/qfHsoRKUwT8spXqqD6DCPyyleqoPoMI/LKV6qg+gwj8spXqqD6DCPyyleqoPoMI/LKV6qg+gwj8spXqqD6DCPyyleqoPoMI/LKV6qg+gwj8spXqqD6DCPyyleqoPoMI/LKV6qg+gwj8spXqqD6DCPyyleqoPoMI/0XFQQVS+xD/RcVBBVL7EP9FxUEFUvsQ/0XFQQVS+xD9hA/CHuJ3IP+7EaNkWIcM/Narr/LK6dT8AtxqdpJdsP5lmVDWa9sQ/sLRb4OGWsz9BD7i6Gk2zP0EPuLoaTbM/QQ+4uhpNsz+MNyzT0X7KPzzrZfy1B7o/N4pdYUhJzT9FQ3+g3xq2vx+Lfl0lTqi/typRlxfuxT+iCx5l+TmyP/MpWx6c4LM/0C2qT6RprD/IcavRDwzPPzWsHSW1jIS/mZn21jTM1D9rder1icbDPwD/P1jpgLc/fZXnqiVI0j933vd+I36+P38Ja4W9/LQ/k8k3EOJYur+TyTcQ4li6v/HG1API45U/Qy+nCrp9zT/f8SA/xePAP6SlyrxCGqQ/FXUkcDn7eb/bF5rtJQy7P9sXmu0lDLs/QhKHGvFLoz9CEoca8UujP7DUGZWlPMQ/a27FgvtKej9rbsWC+0p6P2tuxYL7Sno/C26UIez3lT8LbpQh7PeVP0wvL0x5DcU/TC8vTHkNxT9wNu+yOfTKP3A277I59Mo/cDbvsjn0yj9wNu+yOfTKP3A277I59Mo/cDbvsjn0yj9wNu+yOfTKPyh7d3xgNaU/KHt3fGA1pT8rW6ZjD2/Rv6ytHNXZ+cG/rK0c1dn5wb+srRzV2fnBv7gqOsI/pr8/X5IcsINCvz8FMedtAbitPw==\",\"dtype\":\"float64\",\"order\":\"little\",\"shape\":[137]},\"__x__\":[[[[-13674486,-13689426,-13904944,-13984467,-14186067,-14248088,-14232232,-14374662,-14394192,-14528860,-14531213,-14469307,-14472399,-14661646,-14845073,-14946991,-15022008,-15081100,-15192852,-15301142,-15400037,-15477750,-15586175,-15695801,-15694489,-15486825,-15311590,-15195509,-15097790,-14962969,-14797616,-14630872,-14448681,-14372206,-14289143,-14264275,-14187348,-13999129,-13850908,-13835863,-13699096,-13657064,-13522230,-13351980,-13091470,-12938267,-12829226,-12679060,-12835681,-12634458,-12333976,-12239153,-12120488,-11999393,-12113006,-12041118,-11905619,-11816563,-11726709,-11614843,-11490525,-11293844,-11121034,-10958646,-10971493,-10872516,-10700019,-10700684,-10629834,-10540285,-10489949,-10609201,-10739137,-10730213,-10598595,-10451783,-10339151,-10187919,-10286691,-10079657,-10080147,-9931385,-9798303,-9831458,-9723776,-9607547,-9526347,-9520262,-9362059,-9197503,-9048096,-9041391,-9124230,-9045741,-9059907,-9277873,-9432703,-9547809,-9581001,-9688294,-9720778,-9849878,-10009229,-10097120,-10104474,-10233981,-10370187,-10490919,-10534086,-10540241,-10376648,-10326510,-10274458,-10118684,-9911835,-9800543,-9720886,-9581403,-9463471,-9279653,-9158571,-9176755,-9142115,-9061490,-8895862,-8810159,-8749924,-8808066,-8886588,-8708383,-8582242,-8520546,-8529654,-8605248,-8740459,-8609088,-8657619,-8694816,-8617316,-8426463,-8312026,-8219817,-8116140,-7979056,-7945282,-7746770,-7750099,-7713093,-7611420,-7530736,-7369548,-7263059,-7189404,-7102712,-6834632,-6879395,-6731325,-6631259,-6453756,-6382302,-6338185,-6251492,-6206765,-6198645,-6359338,-6542783,-6682853,-6871046,-7109142,-7276210,-7391508,-7484711,-7626625,-7787201,-7915325,-7820775,-7642083,-7408582,-7242029,-7143481,-7248618,-7213340,-7177011,-7032418,-6848455,-6736849,-6729107,-6657225,-6794928,-7041482,-7151894,-7276293,-7360823,-7365090,-7171812,-7349986,-7473702,-7546497,-7546399,-7595823,-7670469,-7707451,-7792361,-7826316,-7865835,-7913125,-7948768,-7959906,-8334156,-8384384,-8515941,-8551567,-8763101,-8813350,-8795352,-8787489,-8933105,-9047797,-9177098,-9205018,-9242836,-9255325,-9228385,-9176065,-9143520,-9189526,-9305513,-9291787,-9308105,-9338677,-9361062,-9366657,-9388318,-9418174,-9411367,-9437581,-9448361,-9838206,-9937815,-9974226,-10111149,-10201318,-10309298,-10500671,-10535276,-10555044,-10592727,-10593059,-13674486]]],[[[-9350132,-9267401,-9114504,-9116871,-9247150,-9325748,-9350132]]],[[[-8880605,-9003086,-8998386,-8944861,-8690093,-8498129,-8488267,-8726520,-8848369,-8880605]]],[[[-8940668,-8897698,-8852128,-8823830,-8867434,-8916642,-8945873,-8940668]]],[[[-10420924,-10481499,-10643109,-10778056,-10718796,-10558744,-10461554,-10420924]]],[[[-10446221,-10496939,-10705556,-10735240,-10511073,-10432935,-10446221]]],[[[-10770650,-10637610,-10667779,-10832482,-10923145,-10970855,-10979662,-10835531,-10770650]]],[[[-9812852,-9992563,-10288419,-10326918,-10340457,-10452212,-10682491,-10811502,-10769617,-10540184,-10416601,-10197424,-10101336,-10126696,-9998965,-9928260,-9778112,-9615687,-9438737,-9212071,-9031186,-8911961,-8887072,-8956518,-9122503,-9264998,-9584324,-9812852]]],[[[-12385901,-12228941,-12265953,-12473481,-12638578,-12548443,-12385901]]],[[[-12352418,-12207645,-12343251,-12528128,-12526324,-12412124,-12352418]]],[[[-6189387,-6322488,-6249821,-6175058,-6214121,-6115352,-6063992,-5952982,-5987431,-5909521,-5895329,-5860759,-5907631,-5957981,-6031171,-6007007,-6038022,-6167185,-6233611,-6154990,-6261810,-6381415,-6597462,-6614547,-6545206,-6593634,-6500145,-6385140,-6316117,-6219528,-6167876,-6189387]]],[[[-9337771,-9215870,-9088347,-9078487,-8996547,-8917075,-9015879,-9189109,-9251629,-9362015,-9520421,-9558644,-9709506,-9612745,-9598510,-9560546,-9480113,-9459458,-9402490,-9337771]]],[[[-8768707,-8663397,-8416404,-8263091,-8248678,-8041967,-7925949,-7657228,-7560259,-7454958,-7659351,-7397165,-7220439,-7060431,-6885331,-6919973,-7115368,-7252337,-7427372,-7571396,-7585453,-7468385,-7317261,-7271407,-7198965,-7237303,-7377704,-7656909,-7383632,-7365517,-7667393,-7906292,-8041205,-8002343,-8330529,-8328757,-8650635,-8744808,-8671485,-8462315,-8233166,-8270357,-8231510,-8087490,-8118091,-8161011,-8331518,-8557029,-8485734,-8603590,-8701692,-8789479,-8849059,-9050883,-9456001,-9691475,-9872003,-9964588,-9848181,-10006303,-10041592,-9956034,-9841560,-9554123,-9636057,-9548359,-9445471,-9163329,-8972360,-8988931,-8768707]]],[[[-10520099,-10288148,-10075504,-10241834,-10374564,-10493982,-10620976,-10690427,-10688704,-10630543,-10520099]]],[[[-13676147,-13487195,-13258589,-13087847,-12935167,-12950443,-13036185,-13140198,-13347130,-13525317,-13676147]]],[[[-14773210,-14666341,-14699680,-14602784,-14647176,-14714257,-14755397,-14811571,-14832171,-14825530,-14773210]]],[[[-11743347,-11524826,-11223805,-11138649,-11095318,-11277103,-11460320,-11708153,-11600651,-11735254,-11743347]]],[[[-13749070,-13805051,-13987852,-14021245,-14120877,-14140914,-14255500,-14298385,-14288793,-14103622,-13998983,-13906116,-13794990,-13749070]]],[[[-13529534,-13370559,-13086233,-12978118,-12858604,-12998547,-13271509,-13409545,-13409545,-13702559,-13761315,-14018346,-13893483,-13796937,-13905780,-13529534]]],[[[-12002404,-11903274,-11786619,-11767024,-11834761,-12211748,-12492615,-12661903,-12676100,-12444874,-12947815,-13103461,-12951579,-12846811,-12533523,-12335782,-12141294,-12300498,-12198512,-12083573,-12046039,-12002404]]],[[[-11858040,-11733348,-11663481,-11628963,-11442015,-11241129,-11253208,-11435980,-11364973,-11402482,-11603943,-11795413,-11924826,-12133824,-12613967,-12674276,-12826231,-12925076,-13062229,-12988171,-12816337,-12659409,-12514103,-12729383,-12967255,-13125102,-13183832,-12925652,-13097370,-13291768,-13198336,-13120829,-12822790,-12709031,-12764598,-12516877,-12362072,-12236277,-12134552,-12043472,-11987549,-12066630,-11968676,-11858040]]],[[[-11180747,-11303381,-11171625,-11038871,-10840292,-10811348,-10915275,-10746783,-10766821,-10949347,-11056570,-11133598,-11410247,-11408021,-11180747]]],[[[-11866657,-11717489,-11632886,-11730847,-11904506,-11866657]]],[[[-10964969,-10879875,-10876405,-10927121,-11110658,-11230317,-11228008,-11410480,-11417541,-11297785,-11130111,-10973540,-10964969]]],[[[-10688501,-10611357,-10497253,-10545898,-10287016,-10144866,-9957528,-9774964,-9687022,-9552809,-9705674,-9911369,-10108295,-10338985,-10458595,-10456878,-10368880,-10572457,-10695146,-10765676,-10688501]]],[[[-10195420,-10029886,-9899895,-9681482,-9517816,-9379780,-9259555,-9174952,-9028010,-8828374,-8488111,-8428976,-8107568,-7327867,-7088825,-6885110,-6889995,-7161628,-7430956,-7531604,-7289234,-7551914,-7733331,-7923721,-8153351,-8224283,-8561329,-8407876,-8484822,-8392760,-8498523,-8670509,-8723294,-8878788,-8863218,-8673000,-8670576,-8968037,-9258930,-9585926,-9751587,-9962056,-9976018,-9770221,-9825058,-9757153,-9459522,-9611324,-9791876,-9701714,-9504311,-9472726,-9629953,-9677202,-9372927,-9285013,-9111303,-9361969,-9751470,-9948247,-10041018,-10171023,-10195420]]],[[[-8373003,-8445351,-8570139,-8597916,-8550634,-8448616,-8361707,-8360464,-8373003]]],[[[-10715324,-10647451,-10716674,-10866719,-10957377,-11109395,-11011434,-10933606,-10748720,-10715324]]],[[[-7182235,-7143730,-6997352,-6883505,-6880246,-6934445,-7078724,-7182235]]],[[[-7126101,-7087099,-7006370,-6903153,-6957903,-6999138,-7140343,-7168152,-7126101]]],[[[-13674486,-10593059,-10592727,-10555044,-10535276,-10500671,-10309298,-10201318,-10111149,-9974226,-9937815,-9838206,-9448361,-9437581,-9411367,-9418174,-9388318,-9366657,-9361062,-9338677,-9308105,-9291787,-9305513,-9189526,-9143520,-9176065,-9252876,-9255325,-9242836,-9205018,-9177098,-9047797,-8933105,-8787489,-8795352,-8813350,-8763101,-8551567,-8515941,-8384384,-8334156,-7959906,-7948768,-7913125,-7865835,-7826316,-7792361,-7707451,-7670469,-7595823,-7546399,-7546497,-7473702,-7454471,-7573345,-7805296,-7883077,-7884202,-7847467,-7801269,-7812958,-7779559,-7788471,-7863608,-7917085,-7999418,-8112567,-8205359,-8041860,-8008880,-8164728,-8235638,-8232335,-8266219,-8233461,-8257499,-8338502,-8346781,-8371227,-8407744,-8384584,-8356958,-8355276,-8453627,-8463762,-8429340,-8486204,-8499243,-8520697,-8496942,-8570487,-8493857,-8489084,-8457142,-8429945,-8500710,-8615865,-8689038,-8744630,-8800993,-8816901,-8939102,-9001848,-9054314,-9071472,-9051800,-9014652,-8965180,-8964558,-8911853,-8920204,-8947975,-8981256,-9036040,-9053614,-9095915,-9206695,-9223405,-9200555,-9231725,-9318508,-9361969,-9474270,-9494198,-9548217,-9618004,-9743835,-9842626,-9927526,-9973539,-9953491,-9955302,-9931665,-9952878,-9994183,-10035967,-10116740,-10199847,-10296948,-10377912,-10447158,-10540842,-10642172,-10752799,-10813575,-10839178,-10840292,-10834726,-10813575,-10856989,-11022855,-11054025,-11078515,-11144194,-11238548,-11317006,-11408021,-11478152,-11570547,-11628096,-11692706,-11815773,-11856370,-12049221,-12049437,-12359091,-12781147,-12770726,-13038602,-13057324,-13129466,-13181407,-13193574,-13256036,-13295870,-13399279,-13427675,-13441197,-13549203,-13641921,-13637974,-13687086,-13773248,-13788607,-13847929,-13823527,-13827405,-13862932,-13819439,-13792365,-13812481,-13847662,-13880116,-13866634,-13705655,-13646362,-13618826,-13636637,-13674486]]],[[[-17299287,-17261451,-17233082,-17314868,-17331127,-17358788,-17355605,-17374019,-17349151,-17356831,-17350376,-17299287]]],[[[-17365357,-17374663,-17411976,-17444938,-17434032,-17394461,-17365357]]],[[[-17450247,-17453708,-17513362,-17505019,-17450247]]],[[[-17591284,-17549832,-17555866,-17602580,-17621057,-17591284]]],[[[-17740507,-17738217,-17751420,-17788911,-17766167,-17740507]]],[[[-18531109,-18442793,-18432188,-18500494,-18573471,-18641036,-18531109]]],[[[-17057344,-16983434,-16936275,-17032584,-17143768,-17200687,-17217896,-17116794,-17057344]]],[[[-15694488,-15695801,-15586175,-15477750,-15400037,-15301142,-15192852,-15081100,-15022008,-14946991,-14845073,-14661646,-14472399,-14469307,-14531213,-14592406,-14690522,-14722003,-14865513,-14925501,-15032384,-15209366,-15339826,-15570010,-15871314,-16025429,-16244358,-16376697,-16500254,-16477295,-16538828,-16667628,-16765632,-16888991,-16904914,-16854852,-16736544,-16767065,-16908967,-16984941,-17145335,-17063887,-17169082,-17288750,-17400164,-17427745,-17601528,-17636716,-17766961,-17843369,-18060225,-18152807,-18343845,-18361284,-18239513,-18130605,-18011958,-17873858,-17818973,-17664671,-17639808,-17557618,-17538416,-17481799,-17610156,-17646055,-17706323,-17779021,-17809035,-17850667,-17961956,-18030294,-18039878,-18019750,-18091427,-18236174,-18330114,-18406275,-18406770,-18492547,-18449474,-18358718,-18319014,-18228937,-18152560,-18062762,-17981932,-17897113,-17917799,-17980109,-17897700,-17966067,-18084190,-18118113,-18205901,-18363355,-18526378,-18573100,-18713981,-18557545,-18309240,-18217714,-18232863,-17997887,-18088272,-18225195,-18304374,-18411162,-18564132,-18501823,-18304354,-18163846,-18137347,-18023615,-17915179,-17704160,-17601807,-17430497,-17262067,-17181513,-17132070,-16943940,-16950619,-16780299,-16666754,-16432244,-16218135,-16132421,-15984304,-15815439,-15694488]]],[[[-19117080,-19048371,-18978983,-18888970,-18778422,-18787606,-18871930,-18956658,-18999051,-19097199,-19123698,-19117080]]],[[[15696071,15699816,15600693,15487632,15460215,15319173,15366442,15436520,15407498,15354056,15138254,15046454,14879283,14846424,14803706,14778435,14778084,14693037,14812933,14892324,14882994,14720040,14675941,14576490,14529370,14679427,14736487,14915202,14932771,14963858,15079071,15172102,15299832,15398794,15576567,15696071]]],[[[13911450,13922730,13924790,13852146,13756860,13743503,13753524,13801391,13911450]]],[[[14940203,14929365,14972429,14997741,14997476,14940203]]],[[[13122568,13059249,13141079,13121854,13246657,13114756,13077628,13082449,12975405,12972482,12929545,12913156,12786691,12742592,12663223,12607710,12475366,12434753,12361833,12270062,12253040,12197493,12144051,12128554,12141520,12207658,12226244,12302368,12374178,12445246,12510112,12563496,12668809,12759590,12816662,12859524,12898090,13026074,13122568]]],[[[14401513,14524003,14564467,14470481,14377496,14314649,14237639,14264020,14401513]]],[[[14123651,14046716,14025035,14137647,14165317,14123651]]],[[[14241367,14249357,14315080,14325510,14319688,14262272,14245336,14291196,14260028,14215106,14182046,14204423,14241367]]],[[[13684234,13812246,13922282,13941708,13852267,13768607,13661471,13475972,13378719,13362888,13462523,13522626,13730208,13721062,13672562,13624228,13526239,13631580,13611245,13711328,13710368,13650943,13607293,13661079,13551838,13524145,13538584,13458324,13466584,13392341,13406286,13335690,13287863,13319778,13302549,13255740,13221167,13267165,13283019,13338969,13362313,13456943,13543888,13684234]]],[[[13391179,13243435,13347241,13405733,13444667,13438000,13391179]]],[[[13507692,13581797,13681559,13665244,13497988,13349922,13349536,13437942,13507692]]],[[[13164711,13233489,13261102,13055297,12995453,13033702,13094737,13124570,13164711]]],[[[12076700,12091910,12305170,12329699,12536223,12576738,12743736,12880280,12753263,12630836,12530085,12414579,12310393,12181432,12099722,12053425,11850416,11831104,11729232,11805615,11940686,12030530,12076700]]],[[[11618414,11637282,11676066,11757799,11811954,11783996,11779567,11656306,11562556,11419627,11371973,11287697,11232415,11147754,11049988,11017291,10976252,10875869,10817687,10733872,10617750,10607971,10851967,10950405,11097885,11203353,11316518,11410055,11474461,11559237,11514626,11578428,11618414]]],[[[-7640303,-7597555,-7541895,-7397180,-7241332,-7291426,-7397180,-7453944,-7640229,-7640303]]],[[[-6414800,-6472386,-6471296,-6495449,-6511682,-6370350,-6385548,-6315988,-6321643,-6428606,-6593660,-6816921,-6939206,-6915808,-6938602,-6918060,-6984830,-7098899,-7205943,-7248906,-7233380,-7158222,-7097279,-7064118,-7166615,-7256005,-7272371,-7298692,-7403855,-7491110,-7523032,-7413551,-7307125,-7345426,-7476904,-7549252,-7650848,-7696466,-7660513,-7586422,-7736522,-8005519,-8051672,-8049509,-8123622,-8162841,-8172568,-8087165,-8051867,-8064802,-8005792,-7965133,-7977078,-7928483,-7940397,-7992029,-7955342,-8005588,-8031578,-7986817,-8005622,-7949716,-7883052,-7916889,-7917251,-7832970,-7835561,-7772027,-7771745,-7800646,-7851927,-7783348,-7793872,-7754084,-7681182,-7602624,-7635938,-7612694,-7616218,-7494967,-7456762,-7470280,-7377514,-7231858,-7166417,-7122982,-6996036,-6978068,-6773408,-6682393,-6546379,-6431730,-6415749,-6525345,-6413089,-6288070,-6200033,-6099060,-6080859,-6025729,-5969880,-5972149,-6140637,-6266274,-6414800]]],[[[-7640303,-7640229,-7453944,-7490803,-7586270,-7706882,-7787698,-7904316,-8044380,-8158071,-8311394,-8219619,-8063336,-7915676,-7858241,-7822140,-7719522,-7640303]]],[[[-7746770,-7692204,-7677351,-7618953,-7654012,-7594205,-7550598,-7470280,-7456762,-7494967,-7616218,-7612694,-7635938,-7602624,-7681182,-7754084,-7793872,-7783348,-7851927,-7800646,-7771745,-7772027,-7835561,-7832970,-7917251,-7916889,-7883052,-7949716,-8005622,-7986817,-8031578,-8005588,-7955342,-7992029,-7940397,-7928483,-7977078,-7965133,-8005792,-8064802,-8051867,-8087165,-8172568,-8162841,-8123622,-8049509,-8051672,-8005519,-7736522,-7633349,-7732394,-7785994,-7886440,-7904388,-7951528,-8077113,-8204553,-8343035,-8377907,-8346360,-8402367,-8416645,-8369307,-8251733,-8420695,-8314692,-8276794,-8153079,-8094908,-8169614,-8204395,-8274594,-8201697,-8150545,-8182601,-8191785,-8144881,-8076578,-7999611,-7952491,-7978125,-7944881,-7958218,-7893122,-7873065,-7802521,-7810667,-7833838,-7776606,-7746770]]],[[[4363971,4204192,4196598,3774143,3773014,3859680,3900188,3851216,3838199,3785419,3929356,3987180,3987180,4025210,4102690,4243600,4304851,4329494,4403730,4436631,4538326,4583223,4659286,4561989,4563319,4629235,4551271,4523784,4482061,4466270,4430522,4408796,4363971]]],[[[19895609,20037508,20037508,19915438,19895609]]],[[[5465916,5415182,5307258,5196617,5297799,5286843,5408387,5341919,5322815,5273573,5197069,5165775,5095805,5061728,4957905,4890399,4870894,4719323,4555437,4461347,4447771,4305837,4178835,4082693,4163701,4256072,4193819,4357898,4354952,4255024,4258539,4315920,4423644,4441160,4416561,4461773,4460465,4296374,4231324,4162620,4077206,3935824,3938250,3898651,3809889,3800667,3828469,3757333,3641901,3608093,3579972,3538397,3511018,3484878,3506301,3596122,3639439,3607374,3532309,3539005,3493703,3423913,3447769,3436867,3328040,3269628,3253814,3136616,3100835,3091344,3037706,3085407,3052397,3131606,3114844,3241367,3124738,3466487,3508355,3343578,3389086,3288870,3363813,3234342,3337071,3166587,3182839,3272742,3462156,3576998,3759868,4064715,4485322,4570763,4578119,4454541,4272770,3775813,3694074,3875562,3889938,4033248,4120238,4134625,4067567,4138417,4407522,4501270,4426352,4685781,4788523,4892463,4957308,4864482,4918980,4837145,5148526,5212127,5071178,5071940,5159563,5331553,5358782,5591317,5979796,6063763,5954014,6092101,6171850,6380501,6545808,6672648,6799154,6682509,6740395,7069232,7223311,7626738,7701158,7588030,7584777,7450622,7487322,7427784,7424415,7629844,7702903,7785685,8080407,8103616,7998095,8067335,8103155,8077865,8200669,8152894,7934853,8062092,8106371,8228846,8258404,8354750,8289880,8341819,8220093,8193322,8282147,8137577,8336807,8311030,8366551,8425049,8381130,8500257,8449497,8635793,8866822,9072538,8973543,8962453,9156028,9423780,9665014,9574540,9703366,9831259,10047697,10341645,10378784,10671086,10762169,11012006,11216515,11247200,11353568,11616366,11807284,11655707,11907860,11937902,12039625,12365064,12616005,12705357,12677663,12554520,12261981,12178352,12316388,12481051,12581277,12638055,12686949,12864950,13222120,13249245,13714634,13720992,13957237,14134952,14314713,14365955,14300101,14439917,14614977,14722392,14900966,15090685,15306157,15388148,15570238,15489874,15636845,16642263,16737016,17028420,17477925,17699553,17792228,17778686,17915817,18064823,18262238,18472397,18683381,18877295,19015248,18925226,18974791,19329951,19561509,19881661,20037508,20037508,19893594,19749333,19849712,19915975,19967414,19980330,19951597,19744103,19432964,19333983,19163650,19002070,18961143,18801913,18511872,18461224,18353994,18205110,18169245,18035686,18039654,18166440,18151526,18048182,18000524,18046836,17852169,17813537,17647583,17614214,17453759,17412594,17364929,17302795,17356313,17450237,17456048,17629036,17827887,18019513,18219626,18309111,18173844,18106995,17824641,17733453,17446066,17167475,17259391,17010937,16838824,16846885,16673846,16535932,16195563,15829388,15468787,15042178,15217564,15272301,15380424,15451660,15573764,15734487,15738263,15651233,15641844,15591622,15423840,15386547,15013591,14865256,14795058,14725127,14575714,14558363,14542778,14542095,14598959,14614975,14585657,14681198,14816303,14891168,14929318,14972561,15031060,14847080,14750577,14581435,14536354,14404499,14210756,14169574,14020283,13922529,13755913,13608334,13470001,13378052,13439133,13440514,13378607,13278120,13279130,13122257,12988624,12855808,12797523,12730770,12567718,12421165,12318838,12178624,12075400,12007830,11898807,11787241,11646421,11541220,11383073,11361847,11230965,11129915,11005210,10889911,10935109,10826906,10665967,10554863,10480459,10364313,10267521,10098199,9885790,9724867,9665799,9522410,9475020,9397188,9343614,9282153,9122185,8968838,8909517,8660758,8518744,8559478,8280480,8173709,8182930,8039955,7923735,7888685,7688633,7588549,7310002,7255641,6839091,6788047,6868411,6761545,6782392,6675555,6855945,6828050,6671689,6639348,6496975,6320495,6202381,5825206,5651317,5421524,5407660,5293183,5204363,5236877,5172621,5267108,5349708,5420672,5409375,5465916]]],[[[10439281,10680091,10896380,11152727,11125243,10882364,10572300,10387542,10302106,10150230,10439281]]],[[[11447853,11730005,11696947,11069403,11272757,11364200,11447853]]],[[[15454604,15748548,16150931,16063402,15653057,15468448,15247919,15307739,15454604]]],[[[16500023,16779372,16650715,16472776,16265913,16292552,16500023]]],[[[15569491,15675087,15814277,15972435,15985907,15817122,15588976,15569491]]],[[[4992340,5209656,5378788,5401534,5465474,5570401,5735506,5692454,5442900,5427374,5297262,5176670,5240081,4992340]]],[[[2530414,2325714,2188612,2213975,2367592,2484174,2533382,2521503,2530414]]],[[[5956515,6223033,6192918,6441907,6809418,7179925,7370572,7587209,7664593,7589826,7195394,6855444,6509639,6343739,6169252,6191905,6404844,6339086,5975338,5945798,5744296,5728028,5841854,5838058,6058854,5956515]]],[[[15909182,15947724,15944877,15990823,16102826,15938048,15869558,15978075,15974934,15890601,15817612,15797006,15809420,15796730,15822484,15827403,15762180,15772028,15874931,15830716,15880258,15909182]]],[[[-19472923,-19482497,-19407421,-19433246,-19131068,-18913134,-19023506,-19205979,-19208734,-19253299,-19357551,-19442385,-19590396,-19615291,-19728336,-19854936,-19915426,-19891246,-20024569,-19974354,-20037508,-20037508,-19764775,-19472923]]],[[[-19892100,-20037508,-20037508,-20023245,-19928897,-19767886,-19777418,-19892100]]],[[[3722077,3751406,3830548,3866350,3880796,3897591,3898496,3952956,4066500,4044761,3922898,3771783,3709880,3734426,3612782,3632444,3739017,3722077]]],[[[1685691,1727962,1891412,2031784,2398248,2118117,2056262,1958600,1905589,1771443,1532044,1633007,1466144,1249261,1162679,1466163,1527138,1685691]]],[[[3462152,3272742,3182839,3229998,3087144,2914302,2859710,2753563,2634047,2488685,2364975,2298256,2229202,2212871,2003068,1973603,1866703,1681860,1509012,1549556,1510818,1400391,1328104,1334950,1406092,1369270,1276642,1227561,1152886,933080,784663,630717,590909,555715,658221,952161,1171939,1375724,1643203,1829639,2135556,2379834,2562991,2732508,2935500,3135374,3483567,3340189,3462152]]],[[[3050989,2885918,2563071,2234759,2214953,2055209,1933398,2277150,2438781,2551359,2832816,3050989]]],[[[2752276,2503610,2307208,2384030,2316770,2547464,2591666,2752276]]],[[[1819514,1872841,1916802,1935567,2055503,2115307,2214671,2214786,2244838,2310837,2300580,2325420,2405157,2460825,2513541,2540786,2595090,2642008,2695185,2785789,2856977,2887811,2948380,2981849,3018918,3118864,3276376,3321666,3375527,3413040,3472211,3554496,3534661,3544165,3487991,3455811,3445301,3414904,3415945,3482382,3547536,3570201,3654632,3626818,3613668,3584864,3487145,3439968,3408915,3345787,3141408,3057346,2940999,2884250,2869886,2802230,2747126,2626476,2559033,2512943,2398133,2303094,2234322,2183688,2136585,2098964,2051021,2045764,2030968,2031589,1995423,2031348,2028437,1955540,1819514],[3225845,3177247,3125221,3064905,3005544,3089048,3128879,3149347,3211389,3264462,3225845]]],[[[-13038602,-12770726,-12781147,-12359091,-12049437,-12049221,-11856370,-11815773,-11692706,-11628096,-11570547,-11478152,-11408021,-11317006,-11238548,-11144194,-11078515,-11054025,-11022855,-10856989,-10813576,-10856775,-10876242,-10884379,-10895102,-10875807,-10841289,-10819067,-10745177,-10719190,-10675637,-10557436,-10511424,-10413788,-10328902,-10175481,-10104678,-10078153,-10069012,-10049769,-9974373,-9856658,-9758090,-9690572,-9663865,-9667642,-9727463,-9753931,-9733414,-9777991,-9806207,-9850675,-9890552,-9910758,-9924233,-9923362,-10130242,-10130326,-10180603,-10097993,-10085640,-10067608,-10070459,-10213336,-10266912,-10251101,-10264016,-10266746,-10392727,-10450135,-10541026,-10603206,-10692613,-10748724,-10910760,-11014804,-11098263,-11224288,-11317417,-11345518,-11407813,-11521677,-11568046,-11687657,-11743431,-11769965,-11732826,-11744279,-11718686,-11718137,-11755690,-11765737,-11803062,-11901164,-12013092,-12067244,-12162789,-12183260,-12166290,-12223042,-12288751,-12316501,-12376380,-12493189,-12498042,-12557906,-12597337,-12595652,-12676159,-12713324,-12776856,-12794694,-12776275,-12765440,-12626307,-12609377,-12594691,-12574905,-12552562,-12518757,-12495050,-12425090,-12388153,-12324181,-12318063,-12264386,-12179365,-12182069,-12228915,-12248638,-12277991,-12350841,-12431110,-12488047,-12484368,-12501257,-12630829,-12645530,-12673605,-12742268,-12807879,-12799765,-12753914,-12712611,-12708457,-12794154,-12859477,-12993380,-13038602]]],[[[-5941528,-5972351,-5923264,-5987647,-6189531,-6230913,-6342542,-6414800,-6266274,-6140637,-5972149,-5969880,-6025729,-6080859,-6043922,-6043864,-6083925,-6125678,-6167182,-6180195,-6190552,-6211400,-6286580,-6332020,-6449534,-6442133,-6475053,-6440255,-6450964,-6420463,-6400689,-6426981,-6487789,-6499728,-6483382,-6696801,-6739612,-6707127,-6708594,-6730287,-6735196,-6799853,-6869882,-6915955,-6991204,-7035002,-7159663,-7280548,-7271600,-7285285,-7273441,-7419099,-7477753,-7575090,-7599921,-7657240,-7740008,-7802800,-7853443,-7846008,-7937348,-8035585,-8077679,-8151560,-8128035,-8189892,-8236221,-8206851,-8206972,-8139684,-8150780,-8122371,-8114292,-7986995,-7895762,-7880837,-7780523,-7727853,-7745283,-7794663,-7794097,-7731405,-7709145,-7705383,-7770612,-7771989,-7555094,-7518274,-7487348,-7465647,-7444638,-7383350,-7296799,-7275253,-7146634,-7133696,-7054181,-7060201,-7154503,-7169957,-7165468,-7215291,-7194429,-7112017,-7023502,-6991368,-6911318,-6786803,-6746092,-6760830,-6702956,-6677049,-6691526,-6653277,-6627744,-6658621,-6676333,-6647838,-6639767,-6571285,-6516644,-6504339,-6418789,-6382594,-6233412,-6223382,-6242055,-6230921,-6185996,-6133435,-6021055,-5986597,-5961697,-5946516,-5893215,-5850554,-5816369,-5750519,-5712598,-5685060,-5622622,-5563088,-5560085,-5643814,-5609189,-5412416,-5408401,-5323849,-5183768,-4998880,-4944546,-4962799,-4833357,-4616715,-4450404,-4285843,-4143673,-4057922,-3962728,-3922385,-3866125,-3910454,-3967088,-4123999,-4194920,-4277326,-4305157,-4336258,-4328357,-4371220,-4406417,-4426154,-4539023,-4557949,-4648052,-4674114,-4795054,-4970171,-5048576,-5173249,-5304259,-5398489,-5414691,-5396182,-5416975,-5442238,-5520036,-5643550,-5741439,-5817120,-5867884,-5941528]]],[[[-7444638,-7465647,-7487348,-7518274,-7555094,-7771989,-7770612,-7705383,-7709145,-7731405,-7794097,-7794663,-7745283,-7727853,-7780523,-7836229,-7869473,-7797675,-7882920,-7949730,-7989929,-8051269,-8134158,-8199738,-8251267,-8286801,-8360831,-8390508,-8492821,-8524443,-8618909,-8646030,-8666785,-8778127,-8793230,-8751696,-8756626,-8730521,-8675299,-8585815,-8626845,-8605842,-8630958,-8607091,-8624662,-8669736,-8655470,-8619591,-8598603,-8624446,-8610936,-8553419,-8469897,-8424057,-8402442,-8338597,-8268450,-8259597,-8172494,-8041519,-7987628,-7948191,-7918985,-7940595,-8012100,-8040336,-8083426,-8115779,-8129395,-8160269,-8102804,-8088529,-8063968,-8055178,-8068400,-8064483,-8037083,-8010570,-7867419,-7802751,-7724401,-7679410,-7599230,-7535782,-7496414,-7516462,-7541305,-7550023,-7527628,-7495983,-7492154,-7548567,-7508175,-7478587,-7444638]]],[[[-9189000,-9232047,-9231408,-9208257,-9224896,-9220567,-9235708,-9296116,-9318718,-9305898,-9309943,-9340805,-9422932,-9430247,-9459447,-9452291,-9474504,-9499948,-9535715,-9550927,-9550289,-9535551,-9566989,-9524701,-9451359,-9425762,-9390459,-9372007,-9339154,-9312500,-9284303,-9189000]]],[[[-9946766,-9913948,-9856364,-9852219,-9803389,-9765335,-9785440,-9849916,-9889982,-9936015,-9997869,-10029391,-10025954,-9966903,-9972817,-9946766]]],[[[-5750519,-5816369,-5850554,-5893215,-5946516,-5961697,-5986597,-6021055,-6069667,-6041275,-6031482,-6012024,-6055729,-6064533,-6006582,-5886813,-5768948,-5750519]]],[[[688658,741190,901607,845324,831195,800632,749911,753489,672079,670433,723587,761825,757234,789995,751401,780078,840417,827680,726832,507278,345136,332399,203357,78100,37631,-167287,-211657,-154091,-132892,-247766,-329870,-499997,-511218,-366888,-179949,-215235,-110147,149030,182452,279809,295934,347678,399434,477117,534246,656535,688658]]],[[[973601,1045290,1064216,1027451,976909,951137,973601]]],[[[-7378526,-7321627,-7301557,-7330072,-7478906,-7485392,-7469613,-7378526]]],[[[-8635008,-8560092,-8500952,-8482507,-8560753,-8594570,-8656874,-8720515,-8707157,-8660363,-8635008]]],[[[-9158048,-8974440,-8869884,-8825574,-8721596,-8518593,-8481946,-8415555,-8423663,-8341603,-8257459,-8270665,-8344686,-8419614,-8496310,-8655700,-8581075,-8626442,-8698203,-8736668,-8763055,-8825965,-8929768,-8963170,-9108265,-9147121,-9105377,-9214570,-9294560,-9340684,-9356642,-9411732,-9459363,-9400603,-9376480,-9326151,-9269300,-9185019,-9158048]]],[[[3472211,3413040,3375527,3321666,3276376,3205406,3119324,3086580,3086304,3038633,2912651,2877652,2855251,2812400,2936823,2972984,3010571,3072222,3169032,3208881,3222416,3285798,3370114,3377316,3470169,3521758,3545752,3598763,3656582,3656829,3635125,3630350,3648241,3635665,3618851,3589495,3472211]]],[[[299638,303211,324196,412487,400757,422692,397657,409726,441635,457294,486281,605918,717501,759248,816054,868812,1003537,1060310,1125975,1191233,1223355,1283269,1369460,1456502,1482631,1557955,1578659,1622724,1610591,1604712,1510933,1465810,1442196,1419732,1360198,1342952,1317945,1307533,1231058,1168562,1126361,1060062,1027830,974884,946247,830678,788431,745625,656581,596984,560334,481524,299638]]],[[[2649,-5542,40918,40731,51339,79262,54653,63494,118012,-56509,-118402,-218710,-317942,-312885,-361161,-332131,-285221,-329939,-327324,-133957,-84778,-48836,2649]]],[[[3976323,3956925,3916657,3893359,3921328,3892898,3888101,3940438,3943038,3887566,3814410,3846797,3839198,3868640,3891219,3907142,3947468,3957719,3987586,3989289,3976323]]],[[[14045709,14052676,14102367,14145736,14271798,14287825,14383916,14411471,14412345,14370386,14269583,14180602,14080329,14067880,14088509,14039324,14122006,14045709]]],[[[10834404,10842803,10803777,10812907,10733354,10589240,10592623,10531185,10525553,10475914,10388912,10384586,10359424,10371205,10316280,10257649,10226913,10208718,10147769,10182141,10231941,10283271,10219084,10115848,10009925,10000106,9946963,9858793,9819468,9899815,9830220,9805513,9874032,9855088,9893665,9910992,9895052,9819325,9682091,9688488,9629063,9468865,9344270,9260581,9149659,9149487,8993724,8941726,8908349,8931527,8937429,8890258,8889751,8832145,8781476,8815359,8713860,8676370,8631701,8526291,8432058,8393055,8333913,8287052,8185789,8106386,8106783,8085194,7923195,7844735,7699315,7752837,7719961,7589389,7663523,7908497,7886395,7823853,7811169,7738306,7860992,7990253,8106702,8176487,8284550,8282830,8377753,8287909,8209806,8264381,8433237,8557320,8664825,8784473,8773210,8817493,8813846,8733954,8765173,8874541,9029263,8958627,8915402,9023246,9128196,9273386,9425979,9490184,9710117,9802820,9815574,9800916,9809522,9877414,9889138,9990315,10060306,10154287,10245120,10252938,10207625,10297400,10398726,10527037,10620414,10699771,10751970,10714371,10834404]]],[[[9809522,9800916,9815574,9802820,9710117,9490184,9425979,9273386,9128196,9023246,8915402,8958627,9075411,9164656,9277045,9339593,9376950,9463452,9553808,9679732,9809522]]],[[[8664825,8557320,8433237,8264381,8209806,8287909,8377753,8282830,8284550,8176487,8106702,7990253,7860992,7738306,7811169,7823853,7886395,7908497,7663523,7589389,7507794,7474596,7388589,7183492,7002630,6845855,6887803,7048375,7039165,6985902,6982830,6876412,6831600,6776490,6963018,7074382,7140922,7163455,7240983,7385655,7389550,7451603,7534480,7546647,7631722,7672882,7716418,7710268,7757537,7828386,7784632,7890526,7921135,7916487,7971931,7959206,7932888,7997892,8117420,8245162,8301750,8366553,8448803,8481749,8664825]]],[[[5406561,5344957,5343858,5308301,5326548,5269270,5132870,5055762,5081563,5137593,5129194,5056200,4984070,4923188,4944967,4910216,4986444,5004110,5060330,5136684,5176993,5308278,5350025,5382912,5344531,5413953,5441658,5476875,5582424,5659744,5818004,5991859,6002524,6100341,6179520,6253970,6302839,6381994,6505082,6593983,6721207,6804189,6813956,6737993,6786448,6738845,6775311,6784026,6868336,6877454,6776490,6831600,6876412,6982830,6985902,7039165,7048375,6887803,6845855,6515057,6389432,6341956,6288676,6203135,6090855,5954824,5842447,5735265,5660924,5578777,5518869,5448124,5406561]]],[[[1227561,1276642,1369270,1406092,1334950,1328104,1400391,1510818,1549556,1509012,1681860,1866703,1973603,2003068,2212871,2229202,2298256,2446639,2620402,2623341,2660911,2469419,2361477,2378856,2201774,1986805,1905740,1984976,2091439,1989193,1873416,1830950,1767729,1632687,1569685,1440798,1405419,1312227,1227561]]],[[[2614241,2619073,2649953,2649314,2582555,2616898,2619021,2675005,2663069,2607826,2506742,2535459,2405370,2325236,2272680,2206911,2150771,2105004,2047489,1964727,1954165,1877822,1861203,1800732,1807675,1724447,1671684,1626054,1634729,1607186,1566768,1597803,1571796,1647851,1961764,2072864,2081257,2188612,2325714,2530414,2587508,2614241]]],[[[1890167,1881717,1819025,1840586,1803631,1782410,1685053,1628879,1536929,1377744,1352875,1242862,1229919,1162476,1105675,1055305,1072333,1068024,1101625,1157954,1173808,1271982,1351569,1404936,1439653,1450031,1434251,1474243,1513493,1596198,1658821,1698002,1784412,1836691,1888010,1879071,1890167]]],[[[2458558,2520364,2528124,2460134,2407452,2340153,2250901,2181421,2054519,1962570,1879352,1843986,1822356,1803631,1840586,1819025,1881717,1890167,1946807,1987846,2081286,2090248,2134480,2188692,2200727,2253001,2279106,2315589,2434806,2458558]]],[[[1571796,1597803,1566768,1607186,1634729,1626054,1671684,1622004,1592649,1564732,1484794,1443461,1362562,1382052,1393834,1450640,1513493,1474243,1434251,1450031,1439653,1404936,1351569,1271982,1173808,1157954,1101625,1068024,948732,925877,831195,845324,901607,741190,688658,694939,672711,685356,666654,733528,761744,789483,768676,790415,883458,904104,979693,954243,949135,1033272,1104501,1106468,1218960,1217775,1330963,1393546,1519229,1571796]]],[[[4984071,4930724,4891629,4762150,4714334,4587708,4527726,4399633,4308052,4248811,4126252,4089821,4083798,4024173,3983243,4025404,3957512,3864406,3787856,3618902,3528782,3408783,3383121,3306186,3198532,3077002,3011055,2929730,2983885,2913318,3036797,3208225,3254982,3467149,3600960,3730681,3914850,4109150,4268842,4398523,4494349,4625779,4744386,4851609,4870523,4859812,4942586,4986444,4910216,4944967,4923188,4984071]]],[[[2907335,3020736,3116580,3129805,3226978,3206718,3074534,2934160,2899132,2900645,2927101,2961565,2907335]]],[[[1068024,1072333,1055305,1105675,1162476,1153645,1104605,1022233,998124,945097,925802,863393,809721,761825,723587,670433,672079,753489,749911,800632,831195,925877,948732,1068024]]],[[[672711,694939,688658,656535,631632,643695,672711]]],[[[685356,672711,643695,631632,534246,477117,399434,347678,295934,279809,369020,450517,553702,624165,685356]]],[[[-829744,-839026,-797772,-782496,-820880,-790149,-834743,-786649,-782176,-764099,-762663,-711229,-742345,-807212,-826270,-892022,-919928,-965356,-1005751,-1000142,-1045611,-888128,-751906,-602448,-483999,-391569,-211657,-167287,37631,78100,203357,332399,338353,232862,90227,80298,11876,-31026,12388,-51999,-76074,-160119,-238942,-486343,-556065,-598582,-653048,-694265,-725824,-829744]]],[[[-689945,-671588,-755732,-953074,-1110644,-1020385,-1078521,-842929,-819982,-842929,-774085,-689945]]],[[[19690839,19593615,19507579,19488469,19442057,19506250,19469796,19350004,19353145,19433578,19452354,19447182,19402099,19405102,19351891,19264302,19217752,19259055,19319642,19406258,19437719,19518382,19520718,19570955,19587609,19677188,19752398,19816022,19872431,19845452,19811581,19726592,19696868,19707217,19690839]]],[[[18887334,18982747,19049557,19099053,19141242,19157775,19235849,19285793,19364961,19397152,19397256,19283067,19226128,19267190,19181303,19086052,19056242,18992963,18849988,18747466,18675374,18554386,18535713,18595522,18735489,18807362,18887334]]],[[[16440693,16507463,16515344,16477210,16465716,16426812,16349531,16258031,16189408,16174175,16109942,16112801,16185628,16293179,16440693]]],[[[14042810,13924801,13828290,13806839,13765731,13671262,13601356,13502964,13346505,13280292,13247836,13138479,12982647,12864564,12804725,12807153,12862424,12881298,12877369,12890980,12878508,12819653,12801412,12806198,12761886,12759050,12709744,12695863,12632257,12616834,12665748,12628190,12683397,12716342,12714484,12659392,12648715,12622909,12634989,12657804,12672991,12661095,12707092,12715503,12762530,12852967,12907202,12992277,13042894,13073532,13161254,13228772,13245662,13275126,13336656,13453652,13514170,13542588,13607879,13615795,13693697,13740586,13787959,13748318,13783253,13832369,13845887,13906715,13933557,13989530,13991278,14040187,14042154,14144907,14227146,14288935,14429396,14405810,14459137,14509322,14491961,14540306,14607732,14664683,14758214,14756201,14674658,14733938,14807669,14866812,14960567,14992356,15061359,15126392,15168213,15194272,15245384,15215718,15173448,15135193,15148091,15075849,15083811,15172309,15258046,15395843,15427229,15485492,15502416,15608689,15682184,15726560,15740378,15774214,15758763,15766794,15753919,15768508,15789856,15772523,15820557,15823365,15864726,15896123,15903855,15931594,15936345,15976809,15985162,15981227,16021334,16092759,16129627,16183040,16171604,16195345,16212240,16240278,16270491,16259733,16295779,16416405,16569729,16555152,16618822,16662116,16706537,16751684,16778882,16798061,16928748,17015762,17047039,17049910,17042224,17095275,17088889,17039589,17041856,17019812,16970656,16888181,16847533,16810418,16777421,16734460,16706296,16691926,16697621,16633790,16509195,16406459,16288036,16195833,16127631,16144912,16084072,15986589,15827219,15763572,15655814,15583855,15563198,15537323,15482627,15375531,15412123,15385195,15330827,15231779,15289996,15306862,15349857,15340975,15250418,15180869,15138231,15051309,15054760,14985097,14926374,14947302,14804465,14726241,14619180,14419858,14149026,14042810]]],[[[13556244,13489209,13441503,13382838,13370159,13435670,13524766,13575550,13556244]]],[[[1162476,1229919,1242862,1352875,1377744,1536929,1524866,1551529,1462916,1372411,1378566,1364938,1401427,1505808,1561792,1685663,1772895,1800024,1768793,1950224,2045683,2057211,2036410,1974627,1877914,1831065,1911521,1898313,1851809,1792350,1745944,1746376,1769087,1793282,1715835,1669624,1636760,1565226,1517060,1434694,1347709,1245877,1170184,1135462,1080076,989512,938263,873943,827680,840417,780078,751401,789995,757234,761825,809721,863393,925802,945097,998124,1022233,1104605,1153645,1162476]]],[[[1643214,1727720,1687630,1704290,1680923,1595790,1539184,1383813,1399391,1529658,1643214]]],[[[969591,1025253,1092041,1076405,1025788,980383,938234,933776,908366,969591]]],[[[1104501,1033272,949135,903948,900572,951051,1049127,1088210,1177760,1173987,1141024,1154382,1214738,1187534,1154382,1074231,1104501]]],[[[1377122,1412645,1345851,1229361,1213818,1377122]]],[[[-689945,-774085,-842929,-819982,-842929,-749608,-630285,-689945]]],[[[-344403,-327836,-404090,-539250,-565784,-525329,-561938,-621874,-628398,-684612,-644186,-557710,-468821,-334515,-453496,-340081,-218106,-247127,-347205,-232102,-124120,-47921,20592,52317,187187,173657,116947,161398,61262,-87666,-277185,-329090,-402692,-505669,-583873,-643044,-479785,-380139,-554857,-586352,-470029,-530995,-509843,-344403]]],[[[13451167,13394343,13489710,13528367,13498845,13451167]]],[[[13646220,13674161,13686443,13747829,13729898,13812292,13801661,13761669,13726797,13691839,13623285,13646220]]],[[[14068202,14086081,14048160,14007489,13955440,13990985,13959075,13828083,13796795,13830741,13760225,13725255,13672872,13590495,13572064,13615749,13685885,13746586,13785934,13870572,13888733,13967411,13960813,14051048,14068202]]],[[[13191869,13043780,13098349,13178770,13245610,13303958,13323793,13250298,13191869]]],[[[13618487,13600378,13638380,13609064,13543439,13525882,13550791,13609801,13659043,13798083,13787487,13823797,13812235,13725474,13684354,13655712,13584835,13483727,13428318,13433967,13468747,13435520,13421139,13366178,13349536,13345400,13390230,13401758,13438028,13505426,13574031,13608363,13618487]]],[[[13585249,13568014,13634836,13705679,13703522,13651967,13581268,13577345,13585249]]],[[[13970880,14002151,13916259,13918583,13945821,13892874,13888238,13854723,13837293,13902803,13901354,13833312,13940218,13970880]]],[[[11141495,11160847,11251674,11260436,11333914,11370304,11395903,11461644,11508344,11514729,11502879,11521839,11561049,11604826,11602698,11523761,11418442,11286754,11273718,11209364,11193999,11153846,11166041,11141495]]],[[[13122568,13026074,12898090,12859524,12816662,12759590,12668809,12563496,12510112,12445246,12374178,12302368,12226244,12207658,12289241,12375260,12397660,12445177,12578614,12713132,12763847,12787220,12840420,12851914,12937633,12993779,13038810,13096002,13101087,13267268,13259341,13184650,13204531,13122568]]],[[[3182839,3166587,3337071,3234342,3363813,3288870,3389086,3343578,3508355,3466487,3124737,2922712,2726951,2545842,2481396,2373581,2398363,2344300,2397379,2498314,2752987,2827299,2815719,2660911,2623341,2620402,2446639,2298256,2364975,2488685,2634047,2753563,2859710,2914302,3087144,3229998,3182839]]],[[[15794521,15691538,15693419,15651494,15670898,15612923,15470684,15274993,15116405,15041598,15036973,14843376,14711624,14581310,14694176,14619899,14547934,14494067,14521368,14450905,14405684,14510933,14569322,14681285,14762931,14984527,15103554,15220027,15294252,15520876,15590827,15571746,15618768,15737122,15797823,15794521]]],[[[16098293,16177040,16201787,16036648,15939153,15764119,15703538,15579731,15564417,15619470,15738410,15770849,15803765,15934591,16020005,16098293]]],[[[14735491,14797073,14860369,14906136,14987881,15002124,14939455,14893763,14836691,14807146,14734594,14735491]]],[[[3891288,4015176,4063296,4089936,4174879,4193195,4230012,4119062,4342004,4363219,4497306,4663171,4977038,5283203,5310924,5389654,5433236,5488001,5507076,5582942,5589678,5578587,5592675,5624682,5656155,5689808,5720664,5788695,6123329,6145764,6196784,6122569,5788614,5467642,5363745,5283968,5232016,5204185,5161512,5053904,5033494,4905027,4874849,4829127,4799628,4811047,4762173,4747728,4714156,4705573,4648076,4588744,4557346,4480348,4430703,4356978,4344097,4348843,4284995,4232796,4172659,4136055,4142141,4111209,4078702,4035235,3910674,3855254,3891288]]],[[[3774143,3425285,3319716,3292771,3293703,3319491,3325756,3349175,3391738,3434503,3470290,3425673,3432408,3478239,3549026,3638635,3716957,3785419,3838199,3851216,3900188,3859680,3773014,3774143]]],[[[-6866186,-6802177,-6778800,-6783253,-6876204,-6896242,-6863959,-6866186]]]],\"__y__\":[[[[6274861,6275292,6443602,6518731,6591385,6748906,6859944,6937877,7087560,7224807,7323683,7417376,7541678,7669121,8054002,8150427,8239096,8352640,8281334,8159882,8302885,8399737,8461628,8468270,10975619,10898690,10747687,10719187,10849380,10948522,10909593,11050678,11132051,10997250,11072902,11228051,11192613,10901725,11120467,10876084,10928180,11021856,11003214,10869181,10754291,10701731,10721621,10566570,10418117,10354945,10389623,10441365,10265593,10413605,10540234,10644120,10658227,10688941,10615829,10452348,10476106,10342857,10389487,10382415,10568094,10621136,10518505,10240151,10474003,10465991,10772262,10967184,11097993,11469216,11724617,11667333,11512130,11131263,10971758,10907151,10589617,10831632,10632252,10409472,10212906,10423697,10684190,11030453,11005668,10958388,10801301,10647714,10486493,10328316,10187692,9990399,9947623,10031354,9892257,9664693,9549518,9374941,9358080,9251454,9090500,9059925,8864999,8602588,8424315,8169333,8133442,7934975,7777939,7818528,7729871,7652880,7558244,7503633,7420817,7409540,7390705,7223797,7034406,6828722,6658243,6716288,6902401,7196990,7297642,7388393,7526116,7665509,7801647,7978267,8138268,8366995,8570439,8935335,8990878,8925459,8902215,8965150,8884099,8747461,8657387,8639937,8449162,8171176,8137511,8011997,8130262,8371008,8474833,8276670,7753468,7626289,7513849,7401573,7351294,7289712,7128660,7103675,7033164,6826683,6695875,6632675,6488425,6460221,6496823,6498079,6486024,6362112,6286468,6064516,5913021,5939799,6156910,6297475,6314451,6231278,6118649,5940926,5818650,5738625,5761742,5943368,5825758,5767602,5663376,5569740,5506625,5395333,5406618,5537704,5667614,5662437,5643198,5732851,5952912,6000189,5972323,6015472,5892118,5766738,5694232,5669703,5661755,5622812,5621597,5592671,5468299,5408174,5407606,5383224,5353159,5291235,5215993,5192342,5112435,5112435,5135965,5157337,5225610,5308928,5399305,5676397,5751054,5779497,5799106,5799106,5824595,5862817,5846098,5851077,5867097,5883039,5925780,6157398,6110150,6108518,6151891,6130177,6182047,6219176,6247756,6341134,6340313,6274861,6274861]]],[[[8967316,9079216,9076891,9029687,8896995,8902501,8967316]]],[[[12048852,12251558,12392776,12419207,12376441,12162689,12057700,12076679,12026037,12048852]]],[[[8879460,8951159,8945904,8896865,8772659,8792606,8863053,8879460]]],[[[12923645,12759195,12790491,12901186,13096783,13216659,13061012,12923645]]],[[[14116615,14101870,14134728,14280737,14273016,14175779,14116615]]],[[[14792185,14596596,14399243,14289178,14413198,14618696,14853105,14830106,14792185]]],[[[12675906,12727098,12862827,13100749,13323244,13525585,13583325,13732053,13934446,13902706,13744313,13745395,13587228,13411165,13307343,13200041,13180372,13143067,13240046,13278514,13246709,13078737,12899262,12786467,12696689,12747340,12683244,12675906]]],[[[14451098,14366716,14208445,14059802,14226856,14396074,14451098]]],[[[14814295,14699235,14590281,14590825,14670336,14840465,14814295]]],[[[6677573,6413834,6472314,6435167,6375078,6328140,6369853,6317241,6193263,6222053,6133041,6029931,5886022,5879990,5910638,6044727,6065741,5923322,5928980,6005894,6045939,6036077,6041117,6090143,6148802,6194340,6296196,6571610,6672296,6733874,6726019,6677573]]],[[[9637304,9547184,9466293,9344588,9364377,9280518,9201807,9261868,9375681,9241328,9113105,9258240,9234211,9358869,9561880,9805715,9783672,9665901,9706986,9637304]]],[[[11881266,12028819,11841546,11669821,11516354,11595440,11374977,11241788,11108523,10808836,10664419,10466984,10401839,10135710,10116887,9920843,9608020,9721495,9983865,9949124,9792456,9636997,9516363,9447628,9197252,9020802,9086801,9285471,8925860,8842775,8937854,9078389,9198472,9268962,9524341,9449265,9408294,9496761,9690289,9695028,9729190,9825518,9962369,10237612,10366324,10467662,10613821,10718166,10796842,10994117,11012475,11123249,11027119,10985638,11057864,11153872,11203737,11321393,11477290,11478800,11838406,12172954,12331490,12436783,12183696,11948413,12254313,12415718,12016416,11775522,11881266]]],[[[12570253,12556065,12457935,12110637,12037224,11762050,11775513,12100777,12292144,12460211,12570253]]],[[[13430866,13787381,14112610,14105457,14181476,13793485,13625555,13602246,13401551,13331173,13430866]]],[[[7177737,7192916,6980153,6832816,6833167,6916629,7001519,7059474,7142002,7202413,7177737]]],[[[15105775,15024585,14812014,14544924,14319369,14378857,14555095,14575569,14741873,14879926,15105775]]],[[[6192125,6168773,6245220,6305458,6365274,6414297,6445402,6540173,6580823,6515996,6497525,6355893,6285470,6192125]]],[[[12699376,12613740,12590998,12473704,12306906,12208898,11943176,11688653,11534727,11368724,11519540,11706047,12132073,12387551,12634842,12699376]]],[[[13306317,13382921,13362954,13141774,12934510,12868040,12686114,12676718,12813020,13002507,12950949,13028511,13469246,13601150,13442380,13172784,13138978,13577838,13753017,13696807,13470483,13306317]]],[[[12152481,11999967,11645407,11399868,11232691,11076635,10934799,10909173,10788045,10674433,10722886,10806929,10787920,10682787,10608012,10753098,10838321,10803238,11055709,11090410,11146394,11131618,11189024,11266869,11240261,11246978,11371296,11508825,11503971,11596026,11865011,12012444,12244346,12169880,11992563,12106518,11917432,12108694,11985317,11628586,11776814,12157653,12213937,12152481]]],[[[12012422,12261975,12452795,12369112,12419319,12304875,12119869,11958017,11631808,11496217,11525245,11659555,11939471,12059062,12012422]]],[[[12355934,12371723,12285341,12032718,12300963,12355934]]],[[[13716975,13496148,13260011,12932243,12888278,12956960,13213755,13179305,13533759,13519058,13681375,13653600,13716975]]],[[[15936840,16148162,16197646,16362416,16399609,16019945,15873741,15747171,15324335,15126981,14950364,14524315,14485007,14555151,14783721,14994088,15153023,15148422,15352317,15640649,15936840]]],[[[16883793,17036146,17062481,17195423,17511885,17466545,17228979,17695287,17840206,17942290,17981030,17880676,18038573,17847548,17731211,17491312,17263766,16910264,16751715,16580847,16584735,16143029,15946732,15411750,15308323,15183333,15118678,15043748,14938531,14656474,14467387,14315313,14110741,13958684,13845861,13865008,13745120,13459496,13589334,13516069,13573181,13598066,13830444,13942939,14315361,14352760,14126272,14465778,14570861,14788105,14925587,15132115,15371793,15701946,15673679,15603136,15843497,15921634,15878433,16111917,16401521,16619901,16883793]]],[[[10283797,10198599,10184244,10325667,10491286,10532879,10450076,10323895,10283797]]],[[[10904727,10784320,10675729,10769459,10735489,10876192,10974987,11115596,10965363,10904727]]],[[[6424317,6438863,6395585,6323964,6292706,6289665,6343125,6424317]]],[[[5947953,5868931,5847244,5851649,5785701,5775251,5843496,5897703,5947953]]],[[[6274861,6274861,6340313,6341134,6247756,6219176,6182047,6130177,6151891,6108518,6110150,6157398,5925780,5883039,5867097,5851077,5846098,5862817,5824595,5799106,5799106,5779497,5751054,5676397,5399305,5308928,5172970,5157337,5135965,5112435,5112435,5192342,5215993,5291235,5353159,5383224,5407606,5408174,5468299,5592671,5621597,5622812,5661755,5669703,5694232,5766738,5892118,6015472,5972323,6000189,5952912,5732851,5643198,5591612,5515906,5416677,5291491,5211293,5131813,5128081,5182724,5149426,5106783,5082658,5085548,5059656,5044942,5002184,5029980,5002022,4957918,4957625,4975646,4934991,4928280,4823782,4713014,4749843,4757322,4793331,4715943,4690497,4636672,4469381,4474934,4570536,4624618,4743180,4681302,4591194,4613384,4567840,4434424,4424795,4238978,4137892,4097761,4018798,4010197,3961052,3916346,3830358,3767682,3690088,3597732,3508116,3398576,3308630,3254017,3108487,2976405,2901088,2885574,2900485,2954561,2982988,3185457,3234638,3318494,3388379,3495397,3515123,3456865,3463266,3523181,3555070,3538861,3553121,3544231,3524132,3489956,3437987,3412746,3395976,3414796,3390600,3394564,3462098,3446131,3475783,3466792,3436882,3342421,3287795,3227557,3171028,3084794,3025113,2982988,2979277,3044979,3103496,3191101,3262849,3424191,3475212,3472737,3371828,3410056,3448647,3586604,3684799,3731130,3731174,3677273,3676295,3832461,3858307,3833789,3901441,3978056,3994065,4032533,4039280,4075690,4088997,4110811,4185218,4322870,4516296,4548871,4595501,4714749,4832139,4911560,5033312,5160925,5276420,5420423,5704301,5920025,6060426,6137592,6170259,6113511,5957757,6001034,6136852,6274861]]],[[[2282480,2256346,2214920,2164766,2145071,2161929,2194874,2237873,2270340,2293649,2304712,2282480]]],[[[2363765,2349476,2340965,2383147,2393367,2382038,2363765]]],[[[2412977,2400075,2403540,2418080,2412977]]],[[[2477576,2430335,2423435,2429172,2461067,2477576]]],[[[2537350,2509364,2497482,2519370,2539905,2537350]]],[[[8485770,8465398,8379724,8345268,8386704,8447328,8485770]]],[[[7960801,7946638,7881897,7783832,7706081,7758636,7854973,7928883,7960801]]],[[[10975618,8468270,8461628,8399737,8302885,8159882,8281334,8352640,8239096,8150427,8054002,7669121,7541678,7417376,7323678,7396665,7459079,7632426,7796769,7993214,8006854,8012028,8073092,8297536,8418563,8399555,8502557,8599386,8551120,8394914,8380654,8334495,8260400,8214142,8343178,8563133,8633539,8691425,8563451,8413478,8256483,8151206,7998129,7910351,7847025,7756028,7651265,7557251,7472634,7487787,7366561,7301881,7247076,7279282,7369522,7429709,7537538,7560019,7642092,7763527,7804585,7877525,8036607,8162875,8097806,8134659,8056958,8165572,8088566,8195775,8109579,8109756,8238304,8318615,8397450,8354913,8459532,8513603,8642810,8741549,8876947,9010840,9136233,9154263,9114845,9234385,9212901,9290616,9406568,9452792,9552907,9549937,9493272,9436274,9493198,9464179,9526319,9631826,9787106,9901059,10036485,10036485,9898008,9908699,10081127,10189299,10333920,10459719,10554478,10714548,10724599,10867050,11022674,11178083,11216016,11365323,11342604,11525723,11452990,11299257,11364761,11344391,11266871,11210140,11243454,11138739,11107888,11065458,11118537,11020695,10975618]]],[[[9294750,9246953,9272725,9206750,9173574,9146645,9094596,9148087,9193002,9178601,9200464,9294750]]],[[[-289546,-1019310,-926881,-904261,-936306,-939766,-848282,-817109,-695210,-601275,-506650,-497314,-394194,-448409,-458248,-417331,-368871,-314109,-273976,-276141,-246583,-246358,-180045,-159484,-104391,-77420,-41137,-86855,-128233,-308384,-375112,-256888,-189662,-189570,-268253,-289546]]],[[[-993939,-1016164,-1050358,-1134718,-1159604,-1146028,-1107589,-1038722,-993939]]],[[[-769433,-685089,-607053,-639774,-693144,-769433]]],[[[460990,360246,254732,203486,100438,87304,11407,-89472,-165624,-276550,-447060,-407376,-457579,-389381,-383076,-347352,-387450,-333491,-339620,-326757,-177340,-146387,-51152,46239,149397,223404,148974,86067,108706,100686,156989,166752,135547,159280,314212,352978,479856,479804,460990]]],[[[-312058,-344563,-429848,-383872,-374542,-381906,-377976,-316683,-312058]]],[[[-422318,-401836,-353873,-348527,-385295,-422318]]],[[[242133,181311,171542,126064,28774,39675,-28061,-86832,-100191,-29677,112630,201598,242133]]],[[[97429,102095,182951,158071,47631,26226,47994,42437,26410,-57848,-156854,-106422,-68537,-119810,-103637,-168875,-212045,-354853,-393150,-521967,-595376,-628253,-588928,-497452,-540694,-509778,-466675,-401248,-292610,-326487,-616358,-632594,-599767,-496922,-389237,-388413,-312041,-239070,-150645,17171,63060,145754,112877,97429]]],[[[-1148138,-1068957,-1046767,-1081145,-1115462,-1145981,-1148138]]],[[[-953841,-945273,-904058,-966570,-998545,-984659,-943499,-920109,-953841]]],[[[-934218,-925027,-972878,-1010630,-1009733,-944883,-943999,-904220,-934218]]],[[[-716393,-756252,-767429,-721233,-775130,-847870,-868349,-935166,-978058,-932707,-935771,-927439,-907248,-864320,-853192,-867240,-821001,-772760,-764520,-657492,-664102,-707855,-716393]]],[[[-120771,-198444,-260607,-270458,-340997,-479740,-652617,-654959,-561475,-470222,-402591,-311793,-228282,-72397,20387,116099,203026,273170,368537,431007,554040,610942,584835,475592,353545,233754,232007,155718,62491,11637,-79255,-117917,-120771]]],[[[-6916017,-7001516,-7141799,-7255845,-7303858,-7400779,-7410537,-7341864,-7336579,-6916017]]],[[[-3531382,-3769153,-3900689,-3930290,-4086888,-4203092,-4297510,-4357616,-4425395,-4605433,-4681674,-4711424,-4697022,-4782604,-4891053,-4964800,-5016584,-5036974,-4983280,-5021832,-5169671,-5214910,-5167525,-5245711,-5292745,-5387680,-5543360,-5627314,-5627762,-5708828,-5828841,-5947613,-5980702,-6129058,-6223661,-6423735,-6492160,-6574113,-6758843,-6863656,-6825979,-6801756,-6696989,-6564358,-6575686,-6512135,-6329067,-6254290,-6147584,-6063465,-5923296,-5710233,-5617380,-5587618,-5528725,-5497558,-5432633,-5374367,-5199237,-5168679,-4987643,-4709649,-4657842,-4519817,-4391560,-4301321,-4186964,-4054823,-3931714,-3907416,-3680243,-3546856,-3422558,-3306985,-3188742,-3110901,-3062000,-3022014,-2816724,-2756491,-2630367,-2600114,-2491403,-2520635,-2607619,-2510762,-2515726,-2541450,-2738879,-2757404,-2847699,-2895697,-2950074,-3138937,-3173021,-3192168,-3172010,-3076297,-2966822,-2943161,-3014554,-3113913,-3234094,-3356919,-3531382]]],[[[-6916017,-7336579,-7341864,-7420551,-7481526,-7459332,-7400472,-7372320,-7264493,-7162115,-6952994,-6991776,-7116439,-7184246,-7097732,-6970287,-6894388,-6916017]]],[[[-1988447,-2068018,-2152779,-2202684,-2317230,-2450922,-2616657,-2600114,-2630367,-2756491,-2816724,-3022014,-3062000,-3110901,-3188742,-3306985,-3422558,-3546856,-3680243,-3907416,-3931714,-4054823,-4186964,-4301321,-4391560,-4519817,-4657842,-4709649,-4987643,-5168679,-5199237,-5374367,-5432633,-5497558,-5528725,-5587618,-5617380,-5710233,-5923296,-6063465,-6147584,-6254290,-6329067,-6512135,-6575686,-6564358,-6696989,-6801756,-6825979,-6854450,-6853087,-6897980,-6964374,-7138639,-7143017,-7081905,-6952548,-6847774,-6733383,-6628973,-6512062,-6219687,-6059061,-5932164,-5884748,-5742606,-5481402,-5536120,-5218578,-5178601,-5367813,-5346275,-4857548,-4758794,-4619465,-4460913,-4456374,-4233247,-4016601,-3818424,-3622447,-3515854,-3358022,-3203709,-2962703,-2438839,-2244203,-2078318,-2048401,-1988447]]],[[[-521194,-409616,-344923,-105758,12224,131025,212196,340101,396061,473529,613870,595110,532386,495632,495632,400858,402806,389943,381168,427652,474325,436611,436591,310093,-95547,-187405,-231879,-278363,-286531,-365068,-410067,-484318,-521194]]],[[[11436139,11580955,11345139,11327850,11436139]]],[[[5844574,5749361,5723082,5560206,5413000,5309929,5132393,5072385,5034701,5044806,5135120,5140132,5174836,5236593,5268236,5244475,5272606,5345564,5370321,5396542,5378419,5508875,5567716,5660125,5685429,5819033,5882953,5949381,5985167,5958770,6031721,6077893,6090058,6145607,6238259,6327187,6377469,6433550,6431682,6513037,6485436,6546842,6581403,6658093,6666701,6722103,6758443,6860939,6843358,6852494,6811207,6818531,6935426,6996696,7014028,7007586,7048267,7098147,7131244,7165354,7199957,7325420,7377708,7469542,7516617,7493018,7542177,7592158,7711085,7810207,7857733,7923728,8121092,8245692,8283849,8405985,8512704,8944460,9067880,9237104,9401873,9594864,9823945,10140203,10357920,10556210,10770937,10799705,10926392,11038173,10845064,10770515,10426938,10287536,10096932,9950079,9876717,10087907,10052148,9849571,9455777,9377612,9311732,9435273,9546600,9646197,9483262,9546600,9740469,10008418,9992358,9895778,10086985,10257207,10432306,10618744,10521692,10355478,10319372,10158922,10062018,10123244,10306508,10446602,10706627,10691450,10507081,10475888,10578603,10586974,10713865,10530241,10732387,10914256,11020068,10922976,10824125,10474489,10632420,10795776,10862430,10893483,11045558,11303461,11412184,11729630,12064102,12138725,12038840,11832930,11543583,11433180,11197232,10757266,10569292,10370282,9964980,9924264,10024177,10096333,10237530,10376183,10545463,10747426,10773020,10948586,11277518,11556931,11796984,12059919,12068485,11862341,11517995,11454745,11707951,11850126,11869503,11663724,11966509,12374965,12455240,12437618,12490102,12703837,12982511,12994440,13213418,13273536,13398774,13441758,13338242,13585941,13578056,13786099,13997952,14208918,14041780,13917441,13841330,13601688,13718598,13712130,13480086,13307283,13074755,12945960,12710929,12588641,12531719,12430370,12506234,12252283,12353915,12416473,12351094,12169324,12112529,12409387,12340182,12342341,12138232,11898380,11745983,11468602,11329829,11694471,11535710,11630127,11522195,11620507,11571171,11904814,12066386,11825622,11612882,11348537,11413020,11356853,11217862,10978824,10887988,10953196,10961581,10898998,10934231,10656327,10755021,10956627,11100370,11009551,11028880,10876182,10739500,9603028,9486922,9505920,9369072,9162302,9095990,8995325,8931612,8983967,8804610,8777236,8614351,8474968,8373462,8528554,8352810,8435446,8340222,8370565,8226134,8018597,7933597,7886878,7590181,7582778,7417509,7333802,7235639,7020556,6975358,6789769,6623248,6746062,7012453,7436170,7712830,7835028,7932116,7979037,8248734,8476502,8658247,8990897,8970559,8774866,8521914,8805742,8726261,8346095,8211782,8155324,8133178,8290118,8323485,8216022,8253447,8189033,7778136,7309560,7285300,7165862,7123893,7218513,7206161,6999583,6843413,6663798,6454164,6181495,5942016,5829836,5372781,5283319,5281350,5355385,5244140,5193991,5220333,5297221,5301321,5482716,5616478,5672224,5644234,5799106,5976825,6037008,6186787,6137427,6071816,6072010,6229118,6349955,6404861,6575395,6944762,7012842,7068318,7063258,7029636,6937602,6894009,6793638,6735929,6547846,6471057,6362013,6426993,6412604,6470599,6489389,6367601,6339239,6296970,6324717,6322940,6410625,6493915,6516890,6494093,6461870,6535169,6667398,6713233,6734217,6808694,6623238,6519752,6398967,6442373,6448602,6529915,6532497,6586374,6503939,6355079,6311418,6416312,6393253,6466615,6500380,6601725,6633540,6588140,6690275,6597404,7058156,7203750,7263608,7084797,7074118,7176904,7241815,7195439,7394877,7436997,7356121,7284858,7237530,7171340,7106963,6979298,6931370,6881456,6792972,6669666,6585828,6593427,6541278,6632558,6629000,6554649,6749413,6744762,6551740,6424614,6525397,6335485,6300698,6172680,6059711,6064332,5954427,5870716,5844574]]],[[[16231330,16394491,16036211,15399275,14858304,14786695,14953553,15181111,15631551,15761394,16231330]]],[[[15093611,14762271,14535105,14326522,15065362,15132705,15093611]]],[[[13440252,13419902,13178780,12855274,12867052,12767216,13045759,13353672,13440252]]],[[[13082694,12968497,12799782,12837593,13007065,13149464,13082694]]],[[[12265798,12421333,12458274,12306929,12204858,12202160,12245249,12265798]]],[[[15928310,16053502,16061901,15877284,16041066,16156335,16003582,15899418,15760138,15652185,15545241,15699184,15907655,15928310]]],[[[7232433,7229568,7251268,7335933,7398922,7364835,7334079,7281302,7232433]]],[[[12415265,12773934,12967352,13199694,13493957,13582221,13760629,13824316,13632622,13485418,13257442,13045415,12641550,12251504,11888281,11589696,11307362,11277852,11321603,11473307,11566590,11758547,11836351,12038254,12366804,12415265]]],[[[7114404,6935188,6756245,6576768,6270856,6327037,6083856,5915464,5802476,5899862,5775023,5910454,6070354,6251002,6379893,6612867,6788459,7039050,7125237,7212974,7239756,7114404]]],[[[10214966,10038639,9969295,10173799,10131339,9870619,9752442,9724675,9467753,9414224,9421892,9511904,9588087,9702953,9746758,9711996,9806165,9907596,9842598,9715629,9603028,10739500,10506688,10214966]]],[[[11365791,11345139,11580955,11595685,11594949,11495049,11447822,11365791]]],[[[5775850,5815606,5781176,5774848,5743277,5738418,5724631,5686299,5695817,5639362,5612080,5521553,5553278,5626997,5673222,5703630,5756594,5775850]]],[[[15333216,15549027,15571397,15350280,14901840,14677094,14276545,14177665,13760447,13741469,14045071,14228660,14382045,14851588,15319617,15545420,15324577,15333216]]],[[[10926389,10799705,10770937,10993136,11122368,11012091,10779459,10642786,10717088,10701802,10866837,10783870,10771050,10569078,10617708,10450133,10451140,9930107,9552495,9463786,9362247,9366599,9131784,8811959,8693545,8426041,8274436,8149359,8282630,8033419,7983906,8091898,8325138,8852269,9006336,9212450,9474275,9844005,10390955,10616433,11009556,11152279,11134806,11412707,11397576,11465990,11218045,11129610,10926389]]],[[[15574972,15236758,15165062,15266803,15438435,15449502,15746440,15933994,15772165,15974317,15805254,15574972]]],[[[14290898,14078059,14198018,14333996,14506463,14616935,14411411,14290898]]],[[[-3321879,-3259336,-3293924,-3348120,-3381433,-3372139,-3307233,-2847249,-2865671,-2982758,-3058336,-3102066,-3089347,-3033833,-2996535,-2937341,-2908783,-2923739,-2958292,-2964402,-2935658,-2838496,-2828692,-2782764,-2701622,-2611201,-2522491,-2523801,-2544166,-2529732,-2541748,-2798488,-2935346,-2979689,-2957054,-2965858,-3001886,-3048468,-3091504,-3159234,-3145719,-3090255,-3091298,-3182335,-3286977,-3344170,-3426908,-3491980,-3558139,-3650979,-3865073,-3925468,-3977215,-3984180,-4021371,-4001556,-4027080,-4001238,-4017586,-4010566,-4063610,-4084956,-4136075,-4139333,-4091088,-4088618,-4028516,-4047148,-4011058,-3932719,-3843822,-3819773,-3718976,-3597179,-3321879],[-3369995,-3330856,-3356754,-3406574,-3487614,-3586744,-3573893,-3532661,-3512557,-3408446,-3369995]]],[[[3833789,3858307,3832461,3676295,3677273,3731174,3731130,3684799,3586604,3448647,3410056,3371828,3472737,3475212,3424191,3262849,3191101,3103496,3044979,2979277,2982988,2874779,2786629,2623867,2564942,2499366,2440956,2348460,2260114,2192691,2134698,2103520,2054453,2087218,2099072,2140352,2188415,2257331,2357037,2391861,2423114,2450842,2446675,2456809,2431452,2373985,2303311,2231206,2210633,2067982,2098110,2094610,2023881,2037725,2032336,2015124,2016209,1950488,1950199,1884476,1859306,1852264,1812779,1812432,1718195,1696644,1669627,1636108,1760229,1797794,1828008,1819587,1776030,1764632,1817153,1870367,1886647,1940747,1996508,2027729,2034710,2071789,2125356,2192191,2266725,2324527,2336127,2370058,2400977,2442281,2496061,2543862,2604680,2725135,2820439,2896924,2947229,2977408,3054044,3083072,3143740,3231318,3241567,3369844,3409653,3506264,3605102,3654972,3706685,3700995,3737024,3683956,3621535,3524478,3353540,3344472,3300927,3302687,3221292,3189320,3144943,3081408,2965998,2854388,2789835,2785799,2676179,2654477,2610056,2610636,2684221,2753525,2812549,2843648,2933600,3000567,3094539,3078498,3110991,3141235,3214060,3223555,3216419,3263480,3320536,3411265,3446650,3715590,3833789]]],[[[-3997743,-3922147,-3859211,-3769513,-3613787,-3617573,-3517656,-3531382,-3356919,-3234094,-3113913,-3014554,-2943161,-2966822,-2823118,-2755968,-2733872,-2753563,-2748161,-2701340,-2590424,-2554433,-2521889,-2545435,-2522355,-2360032,-2293975,-2269476,-2202087,-2150443,-2057946,-1985231,-1952476,-1906524,-1839441,-1834652,-1700025,-1698100,-1648433,-1614862,-1548524,-1514554,-1515678,-1482451,-1459806,-1417153,-1398330,-1296386,-1220300,-1176749,-1091995,-1111128,-1153587,-1199469,-1233753,-1236232,-1226633,-1246168,-1233144,-1061298,-1127870,-1124949,-1064693,-1058149,-1009721,-941202,-839966,-819441,-772053,-739693,-679125,-640185,-587992,-511948,-490465,-473683,-478921,-124977,-61225,-20611,60270,78611,67088,109730,121243,190919,188430,226823,191498,125811,139534,80647,87862,121933,166202,213369,245063,268478,278053,348245,423013,451939,462210,447931,420041,446417,463733,505525,548153,579688,584630,558876,509824,492912,441042,401738,306829,250492,198948,146698,141174,162983,187331,216952,202375,225134,247279,279541,269641,281033,234442,264649,259991,228631,236592,278911,360989,463075,468350,406635,211719,193334,116467,24822,-8732,-26214,-137802,-64746,-104759,-172759,-238028,-299705,-265363,-324304,-319961,-412241,-537299,-569531,-574013,-609278,-819690,-1005615,-1079267,-1236725,-1365197,-1464087,-1466319,-1550520,-1766197,-2022074,-2068272,-2225600,-2380496,-2504001,-2556087,-2628399,-2628112,-2674638,-2728671,-2764253,-2861650,-2983857,-3076535,-3145466,-3272461,-3334233,-3404247,-3630731,-3734165,-3795562,-3921425,-3997743]]],[[[139534,125811,191498,226823,188430,190919,121243,109730,67088,78611,60270,-20611,-61225,-124977,-478921,-419597,-416951,-303477,-251298,-260872,-241597,-271057,-257101,-140328,-111640,-59091,-6368,-16924,46314,28602,44047,91941,90163,153738,188309,196666,252466,292823,300295,428862,455416,520213,622461,651833,746550,806285,860857,852794,886188,952439,968901,965325,1044001,1056009,1188926,1241525,1243679,1267334,1257861,1340650,1395517,1388534,1358569,1320258,1301204,1244436,1211924,1169831,1089147,1023156,1015605,963809,939045,893760,852170,828734,819377,780241,791028,776738,680319,692293,686299,699070,679827,619560,582019,501893,427729,394583,369615,314120,289561,250604,139534]]],[[[1069879,1059797,1014399,997648,984304,963923,918766,943732,967362,986915,1011813,1038809,1075456,1108497,1128694,1095836,1068852,1100191,1111356,1134140,1168585,1204258,1220233,1256737,1226698,1241481,1232018,1208691,1201143,1225163,1163616,1069879]]],[[[1622921,1613256,1571939,1556495,1570158,1549567,1476762,1478469,1489421,1512167,1519275,1543869,1560678,1602318,1615848,1622921]]],[[[463075,360989,278911,236592,228631,259991,264649,234442,257423,304283,355268,403249,469368,545769,641896,603118,508797,463075]]],[[[6353928,6309199,6277879,6162437,6043963,6015798,6030962,5989162,5897428,5824204,5849473,5778930,5733771,5674114,5626012,5504952,5485256,5418185,5331611,5373001,5323425,5232100,5212556,5280932,5248191,5317150,5376549,5468941,5782740,5952586,6035667,6099364,6221438,6258197,6214741,6407631,6334010,6468329,6611854,6647604,6585436,6582534,6512171,6430271,6443743,6350309,6353928]]],[[[5255538,5313491,5183849,5068555,5098809,5199482,5255538]]],[[[2097889,2087551,2064256,2034728,2031293,2081425,2098574,2097889]]],[[[2095044,2084523,2056366,2024310,2022131,2002594,2021355,2064014,2090820,2098999,2095044]]],[[[2654843,2644840,2603660,2559522,2573129,2416556,2418198,2393860,2360318,2355417,2306779,2278999,2263962,2258083,2267451,2255918,2322063,2352942,2360897,2395290,2463341,2458680,2490806,2515977,2534599,2558066,2588174,2594349,2531769,2530092,2500792,2487676,2499046,2536149,2579587,2606415,2629967,2641544,2654843]]],[[[-2541748,-2529732,-2544166,-2523801,-2522491,-2468292,-2449921,-2374216,-2332245,-2319469,-2189472,-2121341,-2100385,-2006733,-2019535,-2033010,-2030295,-1954705,-1859030,-1849902,-1809708,-1763610,-1747791,-1790927,-1788624,-1813061,-1841742,-1850172,-1887488,-2035097,-2116367,-2204374,-2239369,-2309113,-2319917,-2405774,-2541748]]],[[[698118,950476,1021533,1126035,1156458,1202039,1269317,1408697,1454718,1520488,1545261,1558838,1516086,1472884,1470935,1499006,1439935,1442726,1491425,1487956,1504017,1497342,1463981,1527923,1523367,1398283,1400801,1355424,1334870,1297079,1209271,1078289,1053134,974223,927855,870964,825732,779094,741317,787391,785530,719922,718914,610925,531829,491639,497510,472492,474932,544787,625704,699443,698118]]],[[[1234225,1198886,1140510,1058464,969657,928602,827382,771577,661176,595696,557366,524957,556687,600792,697183,823785,918159,1163604,1227876,1233220,1224955,1243260,1234225]]],[[[3856767,3815140,3833415,3745810,3731107,3713111,3678735,3696430,3645751,3439609,3661270,3704231,3711642,3772887,3872413,3905999,3907128,3930434,3932185,3877812,3856767]]],[[[4544124,4556901,4551883,4615669,4631883,4666279,4499549,4409068,4250121,4175096,4148993,4092853,4081296,4154991,4257301,4400911,4424331,4544124]]],[[[3281993,3234172,3211084,3133942,3156567,3070295,2999242,2895716,2835907,2735230,2762983,2637299,2596154,2544990,2516477,2708082,2707699,2630236,2693026,2762262,2769307,2872882,2893864,2892040,2908913,2994756,3000865,3054490,2970383,2905091,2859304,2814657,2781913,2708525,2617409,2518214,2474416,2475924,2451068,2361296,2291003,2211362,2072928,1999101,1922761,1869278,1799161,1793050,1704926,1555381,1460447,1352106,1159297,1153818,1067621,1030434,998475,921908,889589,994670,1267081,1320822,1430264,1645125,1803640,2179467,2322793,2434379,2362979,2377257,2522249,2565732,2613064,2715917,2797231,2796912,2902188,2964718,3060130,3116098,3247611,3238032,3370758,3500518,3630127,3723032,3798950,3864139,4071541,4129808,4096803,4116898,4231219,4072112,3962687,3894559,3826983,3844730,3699932,3617526,3527156,3468873,3349512,3301535,3239581,3169086,3152850,3089305,3048446,3050524,3099804,3179282,3233417,3259929,3135841,3088458,3107953,3099585,3103285,3180134,3220226,3235978,3329985,3411005,3379683,3433404,3354151,3300894,3281993]]],[[[3233417,3179282,3099804,3050524,3048446,3089305,3152850,3169086,3239581,3301535,3349512,3468873,3558002,3518375,3434802,3416467,3355283,3330257,3274664,3245729,3233417]]],[[[4231219,4116898,4096803,4129808,4071541,3864139,3798950,3723032,3630127,3500518,3370758,3238032,3247611,3116098,3060130,2964718,2902188,2796912,2797231,2715917,2746688,2834483,2928054,2904887,2902595,2885357,3028833,3093086,3150615,3170893,3281748,3337433,3414303,3481618,3416255,3435390,3419096,3447120,3435882,3489154,3598886,3672411,3672182,3708687,3725736,3713557,3750376,3829380,3909315,3942990,4031503,4027305,4075749,4127672,4184720,4252645,4310861,4371017,4400150,4416296,4442012,4457665,4392765,4286650,4231219]]],[[[3494141,3561842,3630819,3630782,3725195,3825053,3897598,4024478,4129706,4176561,4256320,4297532,4462892,4575412,4619237,4783185,4824323,4769881,4703659,4684668,4688865,4794754,4805418,4763119,4692208,4617691,4624765,4520666,4491445,4421393,4397431,4434233,4466869,4493947,4574358,4570265,4596588,4583555,4512162,4496829,4373433,4368476,4252578,3985438,3965709,3892817,3787345,3704133,3682133,3598491,3481618,3414303,3337433,3281748,3170893,3150615,3093086,3028833,2885357,2950852,2966902,3119237,3141387,3119053,3058735,3100049,3196230,3232050,3352059,3522558,3501713,3544374,3494141]]],[[[8149359,8274436,8426041,8693545,8811959,9131784,9366599,9362247,9463786,9552495,9930107,10451140,10450133,10617708,10569078,10771050,10783870,10632791,10428007,9986091,9878742,9801642,9615224,9455576,9251300,9039065,8704584,8542850,8417997,8170400,8120075,7768527,7579207,7598510,7441413,7432390,7619791,7850963,8149359]]],[[[7153601,7070435,6999613,6926062,6888660,6804402,6724260,6569348,6520185,6499876,6356150,6279511,6355008,6330832,6348389,6311783,6372407,6349141,6444306,6454772,6509230,6528767,6483723,6519788,6567999,6583302,6640184,6754182,6816405,6913904,6979532,7029035,7124274,7179765,7333105,7300508,7253686,7251268,7229568,7232433,7212040,7153601]]],[[[6127424,6059549,6059224,6023441,5918012,5890583,5886542,5849820,5862344,5904215,5960929,5932543,5901583,5924715,5929144,5958871,5998997,6028202,6037296,5991588,6035019,6027989,6057599,6052523,6018742,6046772,6155093,6176362,6254045,6199740,6268823,6281494,6229829,6238595,6206752,6185407,6127424]]],[[[6177394,6131885,6087278,6052532,5941133,5831148,5800799,5807911,5741889,5772623,5841556,5861446,5916212,5918012,6023441,6059224,6059549,6127424,6084834,6066759,6087072,6120468,6125404,6151325,6140641,6161524,6201009,6211276,6160252,6177394]]],[[[7124274,7029035,6979532,6913904,6816405,6754182,6640184,6621707,6642063,6608376,6574240,6530535,6492529,6440929,6368261,6327125,6254045,6176362,6155093,6046772,6018742,6052523,6057599,6027989,6035019,5991588,6037296,6028202,6078756,6042807,6043963,6162437,6277879,6309199,6353928,6429360,6468481,6586647,6773340,6773414,6841536,7009686,7072687,7112402,7122629,7081228,7174093,7245445,7354638,7329109,7358587,7283972,7239322,7171802,7207456,7259746,7184470,7124274]]],[[[4462890,4439317,4474882,4492944,4471196,4449475,4451837,4399601,4399167,4425345,4386692,4413701,4336414,4276092,4338526,4390516,4378706,4410644,4330929,4315432,4389638,4394299,4336867,4320502,4394156,4391657,4530572,4608869,4719632,4788299,4927166,4933016,5044844,5025274,5121554,5163819,5167006,5061933,5004761,5027510,5014358,5091674,5098743,5025942,4974096,4902858,4866668,4824323,4783185,4619237,4575412,4462890]]],[[[5135085,5182196,5162081,5104655,5056683,5020451,5012315,4888054,4956122,4986434,5002944,5095610,5135085]]],[[[6028202,5998997,5958871,5929144,5924715,5858183,5830956,5851176,5786269,5781174,5806611,5752268,5744676,5778930,5849473,5824204,5897428,5989162,6030962,6015798,6043963,6042807,6078756,6028202]]],[[[6468481,6429360,6353928,6350309,6365185,6461933,6468481]]],[[[6586647,6468481,6461933,6365185,6443743,6430271,6512171,6582534,6585436,6647604,6682687,6668705,6705753,6627894,6586647]]],[[[4452745,4499060,4551759,4590134,4632261,4725980,4812257,4824163,4892793,4914140,5028740,5068823,5143527,5148755,5129883,5129706,5203085,5181176,5143106,5250192,5316025,5426579,5398816,5399789,5373583,5381624,5376549,5317150,5248191,5280932,5212556,5232100,5144833,5045747,5014514,4965008,4883968,4766171,4684284,4620810,4529024,4501045,4393783,4394296,4345393,4293310,4304724,4351331,4431152,4452745]]],[[[7145114,7011379,6847295,6740550,6767726,6957997,7147719,7387453,7283818,7181519,7184127,7145114]]],[[[-4875534,-5055155,-5114403,-5075365,-5053999,-4932903,-4852717,-4794824,-4742692,-4692732,-4583354,-4492365,-4398912,-4374464,-4317418,-4196152,-4100071,-4089476,-4164721,-4200019,-4322162,-4468292,-4373268,-4411118,-4516805,-4562664,-4573952,-4520238,-4536481,-4662088,-4745526,-4742574,-4786298,-4848511,-4875534]]],[[[-5396883,-5316796,-5238099,-5126204,-5088516,-5005869,-4937985,-5061435,-5001536,-5063979,-5126589,-5307412,-5368810,-5442774,-5444681,-5503049,-5605337,-5765766,-5883709,-5880258,-5826976,-5815661,-5756776,-5639003,-5484647,-5455515,-5396883]]],[[[-4984100,-4993986,-5170338,-5222145,-5344223,-5302492,-5409068,-5396026,-5265476,-5166015,-5036347,-4968775,-4981790,-5032672,-4984100]]],[[[-3791693,-3859355,-3889927,-3959704,-4014065,-4017322,-4029258,-4004796,-4025588,-4097404,-4091297,-4172681,-4167292,-4080808,-4055220,-3978348,-3960159,-3929808,-3882087,-3790258,-3712543,-3581115,-3507499,-3434465,-3351514,-3314237,-3263868,-3165358,-3066507,-3013522,-3067240,-2952249,-2988091,-3036091,-2972634,-2875614,-2836977,-2800363,-2729828,-2699909,-2639274,-2568708,-2482240,-2573770,-2491069,-2451021,-2400070,-2356342,-2347052,-2361724,-2317414,-2304249,-2278268,-2267457,-2270248,-2235599,-2183183,-2120272,-2060695,-1950525,-1851695,-1952109,-1928862,-1873906,-1817617,-1842731,-1754639,-1697856,-1652394,-1632801,-1600692,-1614096,-1585231,-1553340,-1606004,-1674127,-1685718,-1622523,-1530507,-1500591,-1472018,-1406814,-1366615,-1380148,-1358689,-1300561,-1263169,-1246684,-1274820,-1321422,-1350530,-1339015,-1374014,-1341414,-1351324,-1329462,-1385790,-1446850,-1493024,-1496831,-1542602,-1656426,-1688939,-1752698,-1789761,-1898440,-1898326,-1928122,-1964124,-2003726,-1963829,-1849800,-1786262,-1694377,-1638696,-1605256,-1539600,-1453413,-1430219,-1392133,-1269328,-1236953,-1194499,-1249956,-1321216,-1334970,-1382792,-1440814,-1505516,-1547115,-1637198,-1593862,-1642506,-1687468,-1738599,-1837829,-1895802,-1909993,-2009669,-2070356,-2150023,-2211615,-2319433,-2348226,-2422968,-2552697,-2526273,-2578429,-2559907,-2688014,-2809303,-2908637,-3007898,-3078730,-3156030,-3262857,-3375019,-3548649,-3622836,-3716205,-3835725,-3900792,-4004125,-4070552,-4187478,-4255565,-4358596,-4454318,-4498549,-4547362,-4552487,-4610440,-4726794,-4663648,-4638566,-4564770,-4591486,-4694415,-4633251,-4623100,-4582157,-4495420,-4389545,-4319676,-4263910,-4247404,-4181188,-4080578,-4174326,-4199343,-4124180,-4046307,-3980628,-3882039,-3995653,-4041533,-4148958,-4093258,-4021815,-3924911,-3875155,-3844607,-3764784,-3761032,-3697307,-3709666,-3800419,-3791693]]],[[[2801526,2606745,2507992,2609644,2699429,2819159,2912078,2875449,2801526]]],[[[5924715,5901583,5932543,5960929,5904215,5862344,5783038,5715049,5738253,5681826,5603494,5558843,5479592,5401862,5275665,5154261,5155186,5122155,5092481,4994237,4917756,4890511,4838482,4906375,4930416,4836254,4782690,4707768,4699289,4577433,4566557,4609785,4686058,4716594,4872971,4891106,4954186,4980878,5040153,5049744,5116822,5214370,5301545,5453071,5471058,5522309,5501295,5429478,5418185,5485256,5504952,5626012,5674114,5733771,5778930,5744676,5752268,5806611,5781174,5786269,5851176,5830956,5858183,5924715]]],[[[4599770,4612131,4501183,4457831,4386269,4438637,4453687,4524891,4597294,4584366,4599770]]],[[[4997600,5043364,4938870,4747111,4756176,4708304,4746317,4921070,5004970,4997600]]],[[[7358587,7329109,7354638,7463000,7666676,7782635,7795369,7852230,7910815,7804340,7737672,7680816,7650261,7574633,7596334,7453622,7358587]]],[[[7580625,7481164,7323149,7433003,7514734,7580625]]],[[[7145114,7184127,7181519,7283818,7387453,7395487,7275899,7145114]]],[[[7058181,7167315,7287503,7321403,7373830,7461182,7515532,7422488,7613359,7716302,7929359,8100844,8083934,8101911,7874002,7902480,7901393,7733597,7553200,7540519,7289421,7258598,7043344,6970060,6934960,6818226,6765260,6672650,6579959,6581587,6533324,6567849,6485917,6505687,6439351,6473975,6658524,6696998,6726950,6798570,6854798,6953457,7075090,7058181]]],[[[1425991,1513069,1508867,1467683,1369111,1425991]]],[[[1116747,1148422,1218712,1225374,1149126,1258509,1150415,1113248,1041908,1008521,1086503,1116747]]],[[[940106,802426,699851,814134,757240,674699,622259,687204,768301,821642,874753,828182,832504,769903,802733,897394,929027,971435,920487,951299,1001559,1004555,1091808,1038276,940106]]],[[[1041695,934794,1013560,1083243,1161449,1274054,1181599,1119302,1041695]]],[[[2063887,2015354,1931712,1835135,1796735,1703588,1611917,1599262,1612855,1549232,1486910,1459449,1406847,1462877,1522973,1480971,1549502,1532567,1557890,1605327,1634563,1661173,1619720,1685843,1736075,1846880,1808733,1990674,2096770,2096633,2063145,2093685,2063887]]],[[[1279298,1333391,1298195,1298362,1250929,1202783,1168775,1221413,1279298]]],[[[1364229,1237337,1267445,1229364,1159461,1134116,1213739,1219626,1288331,1279268,1322294,1409251,1406738,1364229]]],[[[721155,741138,692076,634606,647967,693954,683493,615939,541104,465907,415146,310817,280109,181602,143953,136525,219021,307451,364245,438848,531304,592233,673681,721155]]],[[[460990,479804,479856,352978,314212,159280,135547,166752,156989,100686,108706,86067,148974,223404,185236,206047,300373,321392,345525,504342,446492,484517,480980,607354,685170,772745,773113,716414,667740,602893,559107,553564,499019,460990]]],[[[10770937,10556210,10357920,10140203,9823945,9594864,9401873,9237104,9067880,8944460,8512703,8494739,8412509,8365613,8487516,8561851,8789606,9004623,9146926,9303649,9582695,9637783,9750549,9878742,9986091,10428007,10632791,10783870,10866837,10701802,10717088,10642786,10779459,11012091,11122368,10993136,10770937]]],[[[4747612,4604035,4458928,4348056,4279022,4182666,4118800,4110504,3957162,4008553,4109187,4079393,4016044,4013472,3915229,3691375,3636591,3687185,3805320,3843692,3934666,3975772,4060096,4129920,4222934,4263754,4235749,4481703,4415074,4609979,4784723,4948142,5041147,5068340,4864724,4747612]]],[[[5459390,5525174,5351949,5310200,5160262,5263207,5098955,5096717,5245805,5362837,5371343,5585718,5708763,5544764,5492424,5459390]]],[[[3957007,4036901,4021368,4077909,4048858,4002827,3922037,3964795,3933802,3856155,3893894,3957007]]],[[[3421106,3400806,3440112,3486244,3504035,3547156,3569081,3698953,3764651,3784464,3748878,3657450,3398434,3375966,3315461,3318748,3209899,3181213,3137221,3084752,3033432,2992143,2950616,2916062,2845650,2821347,2830046,2632158,2571295,2596783,2511525,2273030,2154936,2109856,2057066,1934411,1915005,1953832,1948001,1959661,1971325,1968645,1958104,1988444,1931122,1882083,1845045,1894606,1929651,1976156,2018016,2116309,2212296,2293730,2313217,2426719,2509949,2581263,2715490,2762999,2788235,2858372,2886132,2949988,2977574,3069867,3256963,3256357,3421106]]],[[[-105758,-112945,-160686,-149327,-65390,-22855,66501,118262,176330,205909,245460,260547,390883,421305,396359,422467,422208,473529,396061,340101,212196,131025,12224,-105758]]],[[[1204901,1219634,1215667,1131326,1118889,1129064,1160171,1204901]]]],\"index\":[3,3,3,3,3,3,3,3,3,3,3,3,3,3,3,3,3,3,3,3,3,3,3,3,3,3,3,3,3,3,4,4,4,4,4,4,4,4,4,4,8,8,8,8,8,8,8,8,8,8,8,8,8,9,9,10,10,13,18,18,18,18,18,18,18,18,18,18,18,18,18,18,21,21,21,21,25,27,29,32,34,37,43,43,43,45,46,47,48,56,59,76,96,98,101,102,107,110,113,114,115,121,124,124,127,128,129,132,133,136,136,137,137,140,141,141,141,142,142,143,143,147,147,147,147,147,147,147,148,148,151,155,155,155,158,168,175],\"mean\":{\"__ndarray__\":\"9V3DYQF/sD/1XcNhAX+wP/Vdw2EBf7A/9V3DYQF/sD/1XcNhAX+wP/Vdw2EBf7A/9V3DYQF/sD/1XcNhAX+wP/Vdw2EBf7A/9V3DYQF/sD/1XcNhAX+wP/Vdw2EBf7A/9V3DYQF/sD/1XcNhAX+wP/Vdw2EBf7A/9V3DYQF/sD/1XcNhAX+wP/Vdw2EBf7A/9V3DYQF/sD/1XcNhAX+wP/Vdw2EBf7A/9V3DYQF/sD/1XcNhAX+wP/Vdw2EBf7A/9V3DYQF/sD/1XcNhAX+wP/Vdw2EBf7A/9V3DYQF/sD/1XcNhAX+wP/Vdw2EBf7A/3iURwduewT/eJRHB257BP94lEcHbnsE/3iURwduewT/eJRHB257BP94lEcHbnsE/3iURwduewT/eJRHB257BP94lEcHbnsE/3iURwduewT+fw+cIqWXBP5/D5wipZcE/n8PnCKllwT+fw+cIqWXBP5/D5wipZcE/n8PnCKllwT+fw+cIqWXBP5/D5wipZcE/n8PnCKllwT+fw+cIqWXBP5/D5wipZcE/n8PnCKllwT+fw+cIqWXBP0OvCoQPcNE/Q68KhA9w0T/1JmxAGvuNv/UmbEAa+42/qfHsoRKUwT8spXqqD6DCPyyleqoPoMI/LKV6qg+gwj8spXqqD6DCPyyleqoPoMI/LKV6qg+gwj8spXqqD6DCPyyleqoPoMI/LKV6qg+gwj8spXqqD6DCPyyleqoPoMI/LKV6qg+gwj8spXqqD6DCPyyleqoPoMI/0XFQQVS+xD/RcVBBVL7EP9FxUEFUvsQ/0XFQQVS+xD9hA/CHuJ3IP+7EaNkWIcM/Narr/LK6dT8AtxqdpJdsP5lmVDWa9sQ/sLRb4OGWsz9BD7i6Gk2zP0EPuLoaTbM/QQ+4uhpNsz+MNyzT0X7KPzzrZfy1B7o/N4pdYUhJzT9FQ3+g3xq2vx+Lfl0lTqi/typRlxfuxT+iCx5l+TmyP/MpWx6c4LM/0C2qT6RprD/IcavRDwzPPzWsHSW1jIS/mZn21jTM1D9rder1icbDPwD/P1jpgLc/fZXnqiVI0j933vd+I36+P38Ja4W9/LQ/k8k3EOJYur+TyTcQ4li6v/HG1API45U/Qy+nCrp9zT/f8SA/xePAP6SlyrxCGqQ/FXUkcDn7eb/bF5rtJQy7P9sXmu0lDLs/QhKHGvFLoz9CEoca8UujP7DUGZWlPMQ/a27FgvtKej9rbsWC+0p6P2tuxYL7Sno/C26UIez3lT8LbpQh7PeVP0wvL0x5DcU/TC8vTHkNxT9wNu+yOfTKP3A277I59Mo/cDbvsjn0yj9wNu+yOfTKP3A277I59Mo/cDbvsjn0yj9wNu+yOfTKPyh7d3xgNaU/KHt3fGA1pT8rW6ZjD2/Rv6ytHNXZ+cG/rK0c1dn5wb+srRzV2fnBv7gqOsI/pr8/X5IcsINCvz8FMedtAbitPw==\",\"dtype\":\"float64\",\"order\":\"little\",\"shape\":[137]}},\"selected\":{\"id\":\"58995\"},\"selection_policy\":{\"id\":\"58994\"}},\"id\":\"58975\",\"type\":\"ColumnDataSource\"},{\"attributes\":{\"callback\":null,\"renderers\":[{\"id\":\"58778\"}],\"tooltips\":[[\"name\",\"@{name}\"],[\"sentiment_2015\",\"@{sentiment_2015}\"],[\"sentiment_2016\",\"@{sentiment_2016}\"],[\"sentiment_2017\",\"@{sentiment_2017}\"],[\"sentiment_2018\",\"@{sentiment_2018}\"],[\"sentiment_2019\",\"@{sentiment_2019}\"],[\"sentiment_2020\",\"@{sentiment_2020}\"]]},\"id\":\"58792\",\"type\":\"HoverTool\"},{\"attributes\":{\"callback\":null,\"renderers\":[{\"id\":\"58980\"}],\"tooltips\":[[\"mean\",\"@{mean}\"]]},\"id\":\"59026\",\"type\":\"HoverTool\"},{\"attributes\":{\"color_mapper\":{\"id\":\"58771\"},\"coordinates\":null,\"group\":null,\"label_standoff\":12,\"location\":[0,0],\"major_label_policy\":{\"id\":\"58803\"}},\"id\":\"58794\",\"type\":\"ColorBar\"},{\"attributes\":{\"coordinates\":null,\"data_source\":{\"id\":\"58975\"},\"glyph\":{\"id\":\"58977\"},\"group\":null,\"hover_glyph\":null,\"muted_glyph\":{\"id\":\"58979\"},\"nonselection_glyph\":{\"id\":\"58978\"},\"view\":{\"id\":\"58981\"}},\"id\":\"58980\",\"type\":\"GlyphRenderer\"},{\"attributes\":{\"dimension\":\"lat\"},\"id\":\"58745\",\"type\":\"MercatorTicker\"},{\"attributes\":{\"dimension\":\"lon\"},\"id\":\"58739\",\"type\":\"MercatorTickFormatter\"},{\"attributes\":{},\"id\":\"58995\",\"type\":\"Selection\"},{\"attributes\":{\"dimension\":\"lat\"},\"id\":\"58747\",\"type\":\"MercatorTickFormatter\"},{\"attributes\":{\"source\":{\"id\":\"58773\"}},\"id\":\"58779\",\"type\":\"CDSView\"},{\"attributes\":{\"fill_alpha\":{\"value\":0.2},\"fill_color\":{\"field\":\"Colormap\",\"transform\":{\"id\":\"58771\"}},\"hatch_alpha\":{\"value\":0.2},\"line_alpha\":{\"value\":0.2},\"xs\":{\"field\":\"__x__\"},\"ys\":{\"field\":\"__y__\"}},\"id\":\"58777\",\"type\":\"MultiPolygons\"}],\"root_ids\":[\"58798\"]},\"title\":\"Bokeh Application\",\"version\":\"2.4.2\"}};\n  const render_items = [{\"docid\":\"49bbdb3e-1231-4c5a-851c-948cd3de0475\",\"root_ids\":[\"58798\"],\"roots\":{\"58798\":\"545af007-fcc0-41d2-9b1f-eb4dabc8ea67\"}}];\n  root.Bokeh.embed.embed_items_notebook(docs_json, render_items);\n\n  }\n  if (root.Bokeh !== undefined) {\n    embed_document(root);\n  } else {\n    let attempts = 0;\n    const timer = setInterval(function(root) {\n      if (root.Bokeh !== undefined) {\n        clearInterval(timer);\n        embed_document(root);\n      } else {\n        attempts++;\n        if (attempts > 100) {\n          clearInterval(timer);\n          console.log(\"Bokeh: ERROR: Unable to run BokehJS code because BokehJS library is missing\");\n        }\n      }\n    }, 10, root)\n  }\n})(window);",
      "application/vnd.bokehjs_exec.v0+json": ""
     },
     "metadata": {
      "application/vnd.bokehjs_exec.v0+json": {
       "id": "58798"
      }
     },
     "output_type": "display_data"
    }
   ],
   "source": [
    "\n",
    "import pandas_bokeh\n",
    "from bokeh.io import show\n",
    "from bokeh.models import Panel, Tabs\n",
    "pandas_bokeh.output_notebook()\n",
    "\n",
    "\n",
    "slider_cols = [f'sentiment_{i}' for i in range(2015, 2021)]\n",
    "\n",
    "html1 = world_gpd.plot_bokeh(figsize=(700, 400),\n",
    "    simplify_shapes=5000,\n",
    "    show_colorbar=True,\n",
    "    colormap=\"Colorblind\",\n",
    "    slider=slider_cols,\n",
    "    slider_range=range(2015, 2021),\n",
    "    slider_name=\"Year\",\n",
    "    hovertool_columns=[\"name\"] + slider_cols,\n",
    "    title=\"Sentiment regarding LGBT community\",\n",
    "    legend=\"Per year\")\n",
    "\n",
    "html2 = world_gpd.plot_bokeh(figsize=(700, 400),\n",
    "    simplify_shapes=5000,\n",
    "    figure=html1,\n",
    "    colormap=\"Colorblind\",\n",
    "    category=\"mean\",\n",
    "    legend=\"Mean\",\n",
    "    show_colorbar=False,\n",
    "    return_html=True)\n",
    "\n",
    "#Write some HTML and embed the HTML plot below it. For production use, please use\n",
    "#Templates and the awesome Jinja library."
   ],
   "metadata": {
    "collapsed": false,
    "pycharm": {
     "name": "#%%\n"
    }
   }
  },
  {
   "cell_type": "code",
   "execution_count": 172,
   "outputs": [
    {
     "data": {
      "text/plain": "True"
     },
     "execution_count": 172,
     "metadata": {},
     "output_type": "execute_result"
    }
   ],
   "source": [
    "html = html2\n",
    "\n",
    "#Export the HTML string to an external HTML file and show it:\n",
    "with open(\"sentiment.html\" , \"w\") as f:\n",
    "    f.write(html)\n",
    "\n",
    "import webbrowser\n",
    "webbrowser.open(\"sentiment.html\")"
   ],
   "metadata": {
    "collapsed": false,
    "pycharm": {
     "name": "#%%\n"
    }
   }
  },
  {
   "cell_type": "code",
   "execution_count": null,
   "outputs": [],
   "source": [
    "from bokeh.io import show\n",
    "from bokeh.models import Panel, Tabs\n",
    "from bokeh.plotting import figure\n",
    "\n",
    "tabs = []\n",
    "for elem in [\"United States of America\", \"United Kingdom\", \"Russia\", \"Canada\", \"India\", \"Philippines\", \"South Africa\"]:\n",
    "    p1 = figure(width=300, height=300)\n",
    "    points = data[data.nationality == elem].groupby(\"quote_year\")[\"Sentiment\"].agg([\"min\", \"max\", \"mean\"])\n",
    "    p1.circle(points.index, points[\"max\"].values, color=\"red\")\n",
    "    p1.line(points.index, points[\"mean\"].values, line_width=3, color=\"navy\", alpha=0.5)\n",
    "    p1.circle(points.index, points[\"min\"].values, color=\"navy\")\n",
    "    tabs.append(Panel(child=p1, title=elem))\n",
    "\n",
    "show(Tabs(tabs=tabs))"
   ],
   "metadata": {
    "collapsed": false,
    "pycharm": {
     "name": "#%%\n"
    }
   }
  },
  {
   "cell_type": "code",
   "execution_count": null,
   "outputs": [],
   "source": [
    "# !pip3 install git+https://github.com/PatrikHlobil/Pandas-Bokeh\n",
    "from bokeh.io import show\n",
    "from bokeh.models import Panel, Tabs\n",
    "from bokeh.plotting import figure\n",
    "\n",
    "for elem in [\"United States of America\", \"United Kingdom\", \"Russia\", \"Canada\", \"India\", \"Philippines\", \"South Africa\"]:\n",
    "    p1 = figure(width=300, height=300)\n",
    "    points = data[data.nationality == elem].groupby(\"quote_year\")[\"Sentiment\"].agg([\"min\", \"max\", \"mean\"])\n",
    "    p1.circle(points.index, points[\"max\"].values, color=\"red\")\n",
    "    p1.line(points.index, points[\"mean\"].values, line_width=3, color=\"navy\", alpha=0.5)\n",
    "    p1.circle(points.index, points[\"min\"].values, color=\"navy\")\n",
    "    tabs.append(Panel(child=p1, title=elem))\n",
    "\n",
    "show(Tabs(tabs=tabs))"
   ],
   "metadata": {
    "collapsed": false,
    "pycharm": {
     "name": "#%%\n"
    }
   }
  },
  {
   "cell_type": "code",
   "execution_count": 7,
   "outputs": [],
   "source": [
    "from bokeh.io import show\n",
    "from bokeh.models import Panel, Tabs\n",
    "from bokeh.plotting import figure\n",
    "from bokeh.plotting import figure, output_file, show\n",
    "tabs = []\n",
    "data = {\"Loss\": losses, \"Accuracy\": accs}\n",
    "for elem in [\"Loss\", \"Accuracy\"]:\n",
    "    p1 = figure(width=500, height=300)\n",
    "    # p1.circle(points.index, points[\"max\"].values, color=\"red\")\n",
    "    p1.line(range(3), data[elem][0], line_width=3, color=\"navy\", alpha=0.5, legend_label=\"Train\")\n",
    "    # p1.circle(points.index, points[\"min\"].values, color=\"navy\")\n",
    "    p1.line(range(3), data[elem][1], line_width=3, color=\"orange\", alpha=0.5, legend_label=\"Validation\")\n",
    "    tabs.append(Panel(child=p1, title=elem))\n",
    "    p1.xaxis.axis_label = \"Epoch\"\n",
    "    p1.legend.location = \"top_left\"\n",
    "    p1.add_layout(p1.legend[0], 'right')\n",
    "output_file(\"balanced.html\", title=\"Balanced data\")\n",
    "show(Tabs(tabs=tabs))"
   ],
   "metadata": {
    "collapsed": false,
    "pycharm": {
     "name": "#%%\n"
    }
   }
  },
  {
   "cell_type": "code",
   "execution_count": 5,
   "outputs": [],
   "source": [],
   "metadata": {
    "collapsed": false,
    "pycharm": {
     "name": "#%%\n"
    }
   }
  },
  {
   "cell_type": "code",
   "execution_count": 40,
   "outputs": [
    {
     "data": {
      "application/vnd.plotly.v1+json": {
       "data": [
        {
         "colorscale": [
          [
           0.0,
           "rgb(247,251,255)"
          ],
          [
           0.125,
           "rgb(222,235,247)"
          ],
          [
           0.25,
           "rgb(198,219,239)"
          ],
          [
           0.375,
           "rgb(158,202,225)"
          ],
          [
           0.5,
           "rgb(107,174,214)"
          ],
          [
           0.625,
           "rgb(66,146,198)"
          ],
          [
           0.75,
           "rgb(33,113,181)"
          ],
          [
           0.875,
           "rgb(8,81,156)"
          ],
          [
           1.0,
           "rgb(8,48,107)"
          ]
         ],
         "name": "Unbalanced",
         "reversescale": false,
         "showscale": false,
         "x": [
          "USA",
          "UK",
          "Australia",
          "Canada"
         ],
         "y": [
          "USA",
          "UK",
          "Australia",
          "Canada"
         ],
         "z": [
          [
           0.93,
           0.05,
           0.01,
           0
          ],
          [
           0.72,
           0.24,
           0.04,
           0.01
          ],
          [
           0.63,
           0.14,
           0.22,
           0.01
          ],
          [
           0.81,
           0.09,
           0.03,
           0.07
          ]
         ],
         "type": "heatmap",
         "xaxis": "x",
         "yaxis": "y"
        },
        {
         "colorscale": [
          [
           0.0,
           "rgb(247,251,255)"
          ],
          [
           0.125,
           "rgb(222,235,247)"
          ],
          [
           0.25,
           "rgb(198,219,239)"
          ],
          [
           0.375,
           "rgb(158,202,225)"
          ],
          [
           0.5,
           "rgb(107,174,214)"
          ],
          [
           0.625,
           "rgb(66,146,198)"
          ],
          [
           0.75,
           "rgb(33,113,181)"
          ],
          [
           0.875,
           "rgb(8,81,156)"
          ],
          [
           1.0,
           "rgb(8,48,107)"
          ]
         ],
         "name": "Balanced",
         "reversescale": false,
         "showscale": false,
         "x": [
          "USA",
          "UK",
          "Australia",
          "Canada"
         ],
         "y": [
          "USA",
          "UK",
          "Australia",
          "Canada"
         ],
         "z": [
          [
           0.33,
           0.41,
           0.05,
           0.21
          ],
          [
           0.07,
           0.55,
           0.13,
           0.24
          ],
          [
           0.05,
           0.37,
           0.44,
           0.14
          ],
          [
           0.12,
           0.28,
           0.1,
           0.5
          ]
         ],
         "type": "heatmap",
         "xaxis": "x2",
         "yaxis": "y2"
        }
       ],
       "layout": {
        "template": {
         "data": {
          "bar": [
           {
            "error_x": {
             "color": "#2a3f5f"
            },
            "error_y": {
             "color": "#2a3f5f"
            },
            "marker": {
             "line": {
              "color": "#E5ECF6",
              "width": 0.5
             },
             "pattern": {
              "fillmode": "overlay",
              "size": 10,
              "solidity": 0.2
             }
            },
            "type": "bar"
           }
          ],
          "barpolar": [
           {
            "marker": {
             "line": {
              "color": "#E5ECF6",
              "width": 0.5
             },
             "pattern": {
              "fillmode": "overlay",
              "size": 10,
              "solidity": 0.2
             }
            },
            "type": "barpolar"
           }
          ],
          "carpet": [
           {
            "aaxis": {
             "endlinecolor": "#2a3f5f",
             "gridcolor": "white",
             "linecolor": "white",
             "minorgridcolor": "white",
             "startlinecolor": "#2a3f5f"
            },
            "baxis": {
             "endlinecolor": "#2a3f5f",
             "gridcolor": "white",
             "linecolor": "white",
             "minorgridcolor": "white",
             "startlinecolor": "#2a3f5f"
            },
            "type": "carpet"
           }
          ],
          "choropleth": [
           {
            "colorbar": {
             "outlinewidth": 0,
             "ticks": ""
            },
            "type": "choropleth"
           }
          ],
          "contour": [
           {
            "colorbar": {
             "outlinewidth": 0,
             "ticks": ""
            },
            "colorscale": [
             [
              0.0,
              "#0d0887"
             ],
             [
              0.1111111111111111,
              "#46039f"
             ],
             [
              0.2222222222222222,
              "#7201a8"
             ],
             [
              0.3333333333333333,
              "#9c179e"
             ],
             [
              0.4444444444444444,
              "#bd3786"
             ],
             [
              0.5555555555555556,
              "#d8576b"
             ],
             [
              0.6666666666666666,
              "#ed7953"
             ],
             [
              0.7777777777777778,
              "#fb9f3a"
             ],
             [
              0.8888888888888888,
              "#fdca26"
             ],
             [
              1.0,
              "#f0f921"
             ]
            ],
            "type": "contour"
           }
          ],
          "contourcarpet": [
           {
            "colorbar": {
             "outlinewidth": 0,
             "ticks": ""
            },
            "type": "contourcarpet"
           }
          ],
          "heatmap": [
           {
            "colorbar": {
             "outlinewidth": 0,
             "ticks": ""
            },
            "colorscale": [
             [
              0.0,
              "#0d0887"
             ],
             [
              0.1111111111111111,
              "#46039f"
             ],
             [
              0.2222222222222222,
              "#7201a8"
             ],
             [
              0.3333333333333333,
              "#9c179e"
             ],
             [
              0.4444444444444444,
              "#bd3786"
             ],
             [
              0.5555555555555556,
              "#d8576b"
             ],
             [
              0.6666666666666666,
              "#ed7953"
             ],
             [
              0.7777777777777778,
              "#fb9f3a"
             ],
             [
              0.8888888888888888,
              "#fdca26"
             ],
             [
              1.0,
              "#f0f921"
             ]
            ],
            "type": "heatmap"
           }
          ],
          "heatmapgl": [
           {
            "colorbar": {
             "outlinewidth": 0,
             "ticks": ""
            },
            "colorscale": [
             [
              0.0,
              "#0d0887"
             ],
             [
              0.1111111111111111,
              "#46039f"
             ],
             [
              0.2222222222222222,
              "#7201a8"
             ],
             [
              0.3333333333333333,
              "#9c179e"
             ],
             [
              0.4444444444444444,
              "#bd3786"
             ],
             [
              0.5555555555555556,
              "#d8576b"
             ],
             [
              0.6666666666666666,
              "#ed7953"
             ],
             [
              0.7777777777777778,
              "#fb9f3a"
             ],
             [
              0.8888888888888888,
              "#fdca26"
             ],
             [
              1.0,
              "#f0f921"
             ]
            ],
            "type": "heatmapgl"
           }
          ],
          "histogram": [
           {
            "marker": {
             "pattern": {
              "fillmode": "overlay",
              "size": 10,
              "solidity": 0.2
             }
            },
            "type": "histogram"
           }
          ],
          "histogram2d": [
           {
            "colorbar": {
             "outlinewidth": 0,
             "ticks": ""
            },
            "colorscale": [
             [
              0.0,
              "#0d0887"
             ],
             [
              0.1111111111111111,
              "#46039f"
             ],
             [
              0.2222222222222222,
              "#7201a8"
             ],
             [
              0.3333333333333333,
              "#9c179e"
             ],
             [
              0.4444444444444444,
              "#bd3786"
             ],
             [
              0.5555555555555556,
              "#d8576b"
             ],
             [
              0.6666666666666666,
              "#ed7953"
             ],
             [
              0.7777777777777778,
              "#fb9f3a"
             ],
             [
              0.8888888888888888,
              "#fdca26"
             ],
             [
              1.0,
              "#f0f921"
             ]
            ],
            "type": "histogram2d"
           }
          ],
          "histogram2dcontour": [
           {
            "colorbar": {
             "outlinewidth": 0,
             "ticks": ""
            },
            "colorscale": [
             [
              0.0,
              "#0d0887"
             ],
             [
              0.1111111111111111,
              "#46039f"
             ],
             [
              0.2222222222222222,
              "#7201a8"
             ],
             [
              0.3333333333333333,
              "#9c179e"
             ],
             [
              0.4444444444444444,
              "#bd3786"
             ],
             [
              0.5555555555555556,
              "#d8576b"
             ],
             [
              0.6666666666666666,
              "#ed7953"
             ],
             [
              0.7777777777777778,
              "#fb9f3a"
             ],
             [
              0.8888888888888888,
              "#fdca26"
             ],
             [
              1.0,
              "#f0f921"
             ]
            ],
            "type": "histogram2dcontour"
           }
          ],
          "mesh3d": [
           {
            "colorbar": {
             "outlinewidth": 0,
             "ticks": ""
            },
            "type": "mesh3d"
           }
          ],
          "parcoords": [
           {
            "line": {
             "colorbar": {
              "outlinewidth": 0,
              "ticks": ""
             }
            },
            "type": "parcoords"
           }
          ],
          "pie": [
           {
            "automargin": true,
            "type": "pie"
           }
          ],
          "scatter": [
           {
            "marker": {
             "colorbar": {
              "outlinewidth": 0,
              "ticks": ""
             }
            },
            "type": "scatter"
           }
          ],
          "scatter3d": [
           {
            "line": {
             "colorbar": {
              "outlinewidth": 0,
              "ticks": ""
             }
            },
            "marker": {
             "colorbar": {
              "outlinewidth": 0,
              "ticks": ""
             }
            },
            "type": "scatter3d"
           }
          ],
          "scattercarpet": [
           {
            "marker": {
             "colorbar": {
              "outlinewidth": 0,
              "ticks": ""
             }
            },
            "type": "scattercarpet"
           }
          ],
          "scattergeo": [
           {
            "marker": {
             "colorbar": {
              "outlinewidth": 0,
              "ticks": ""
             }
            },
            "type": "scattergeo"
           }
          ],
          "scattergl": [
           {
            "marker": {
             "colorbar": {
              "outlinewidth": 0,
              "ticks": ""
             }
            },
            "type": "scattergl"
           }
          ],
          "scattermapbox": [
           {
            "marker": {
             "colorbar": {
              "outlinewidth": 0,
              "ticks": ""
             }
            },
            "type": "scattermapbox"
           }
          ],
          "scatterpolar": [
           {
            "marker": {
             "colorbar": {
              "outlinewidth": 0,
              "ticks": ""
             }
            },
            "type": "scatterpolar"
           }
          ],
          "scatterpolargl": [
           {
            "marker": {
             "colorbar": {
              "outlinewidth": 0,
              "ticks": ""
             }
            },
            "type": "scatterpolargl"
           }
          ],
          "scatterternary": [
           {
            "marker": {
             "colorbar": {
              "outlinewidth": 0,
              "ticks": ""
             }
            },
            "type": "scatterternary"
           }
          ],
          "surface": [
           {
            "colorbar": {
             "outlinewidth": 0,
             "ticks": ""
            },
            "colorscale": [
             [
              0.0,
              "#0d0887"
             ],
             [
              0.1111111111111111,
              "#46039f"
             ],
             [
              0.2222222222222222,
              "#7201a8"
             ],
             [
              0.3333333333333333,
              "#9c179e"
             ],
             [
              0.4444444444444444,
              "#bd3786"
             ],
             [
              0.5555555555555556,
              "#d8576b"
             ],
             [
              0.6666666666666666,
              "#ed7953"
             ],
             [
              0.7777777777777778,
              "#fb9f3a"
             ],
             [
              0.8888888888888888,
              "#fdca26"
             ],
             [
              1.0,
              "#f0f921"
             ]
            ],
            "type": "surface"
           }
          ],
          "table": [
           {
            "cells": {
             "fill": {
              "color": "#EBF0F8"
             },
             "line": {
              "color": "white"
             }
            },
            "header": {
             "fill": {
              "color": "#C8D4E3"
             },
             "line": {
              "color": "white"
             }
            },
            "type": "table"
           }
          ]
         },
         "layout": {
          "annotationdefaults": {
           "arrowcolor": "#2a3f5f",
           "arrowhead": 0,
           "arrowwidth": 1
          },
          "autotypenumbers": "strict",
          "coloraxis": {
           "colorbar": {
            "outlinewidth": 0,
            "ticks": ""
           }
          },
          "colorscale": {
           "diverging": [
            [
             0,
             "#8e0152"
            ],
            [
             0.1,
             "#c51b7d"
            ],
            [
             0.2,
             "#de77ae"
            ],
            [
             0.3,
             "#f1b6da"
            ],
            [
             0.4,
             "#fde0ef"
            ],
            [
             0.5,
             "#f7f7f7"
            ],
            [
             0.6,
             "#e6f5d0"
            ],
            [
             0.7,
             "#b8e186"
            ],
            [
             0.8,
             "#7fbc41"
            ],
            [
             0.9,
             "#4d9221"
            ],
            [
             1,
             "#276419"
            ]
           ],
           "sequential": [
            [
             0.0,
             "#0d0887"
            ],
            [
             0.1111111111111111,
             "#46039f"
            ],
            [
             0.2222222222222222,
             "#7201a8"
            ],
            [
             0.3333333333333333,
             "#9c179e"
            ],
            [
             0.4444444444444444,
             "#bd3786"
            ],
            [
             0.5555555555555556,
             "#d8576b"
            ],
            [
             0.6666666666666666,
             "#ed7953"
            ],
            [
             0.7777777777777778,
             "#fb9f3a"
            ],
            [
             0.8888888888888888,
             "#fdca26"
            ],
            [
             1.0,
             "#f0f921"
            ]
           ],
           "sequentialminus": [
            [
             0.0,
             "#0d0887"
            ],
            [
             0.1111111111111111,
             "#46039f"
            ],
            [
             0.2222222222222222,
             "#7201a8"
            ],
            [
             0.3333333333333333,
             "#9c179e"
            ],
            [
             0.4444444444444444,
             "#bd3786"
            ],
            [
             0.5555555555555556,
             "#d8576b"
            ],
            [
             0.6666666666666666,
             "#ed7953"
            ],
            [
             0.7777777777777778,
             "#fb9f3a"
            ],
            [
             0.8888888888888888,
             "#fdca26"
            ],
            [
             1.0,
             "#f0f921"
            ]
           ]
          },
          "colorway": [
           "#636efa",
           "#EF553B",
           "#00cc96",
           "#ab63fa",
           "#FFA15A",
           "#19d3f3",
           "#FF6692",
           "#B6E880",
           "#FF97FF",
           "#FECB52"
          ],
          "font": {
           "color": "#2a3f5f"
          },
          "geo": {
           "bgcolor": "white",
           "lakecolor": "white",
           "landcolor": "#E5ECF6",
           "showlakes": true,
           "showland": true,
           "subunitcolor": "white"
          },
          "hoverlabel": {
           "align": "left"
          },
          "hovermode": "closest",
          "mapbox": {
           "style": "light"
          },
          "paper_bgcolor": "white",
          "plot_bgcolor": "#E5ECF6",
          "polar": {
           "angularaxis": {
            "gridcolor": "white",
            "linecolor": "white",
            "ticks": ""
           },
           "bgcolor": "#E5ECF6",
           "radialaxis": {
            "gridcolor": "white",
            "linecolor": "white",
            "ticks": ""
           }
          },
          "scene": {
           "xaxis": {
            "backgroundcolor": "#E5ECF6",
            "gridcolor": "white",
            "gridwidth": 2,
            "linecolor": "white",
            "showbackground": true,
            "ticks": "",
            "zerolinecolor": "white"
           },
           "yaxis": {
            "backgroundcolor": "#E5ECF6",
            "gridcolor": "white",
            "gridwidth": 2,
            "linecolor": "white",
            "showbackground": true,
            "ticks": "",
            "zerolinecolor": "white"
           },
           "zaxis": {
            "backgroundcolor": "#E5ECF6",
            "gridcolor": "white",
            "gridwidth": 2,
            "linecolor": "white",
            "showbackground": true,
            "ticks": "",
            "zerolinecolor": "white"
           }
          },
          "shapedefaults": {
           "line": {
            "color": "#2a3f5f"
           }
          },
          "ternary": {
           "aaxis": {
            "gridcolor": "white",
            "linecolor": "white",
            "ticks": ""
           },
           "baxis": {
            "gridcolor": "white",
            "linecolor": "white",
            "ticks": ""
           },
           "bgcolor": "#E5ECF6",
           "caxis": {
            "gridcolor": "white",
            "linecolor": "white",
            "ticks": ""
           }
          },
          "title": {
           "x": 0.05
          },
          "xaxis": {
           "automargin": true,
           "gridcolor": "white",
           "linecolor": "white",
           "ticks": "",
           "title": {
            "standoff": 15
           },
           "zerolinecolor": "white",
           "zerolinewidth": 2
          },
          "yaxis": {
           "automargin": true,
           "gridcolor": "white",
           "linecolor": "white",
           "ticks": "",
           "title": {
            "standoff": 15
           },
           "zerolinecolor": "white",
           "zerolinewidth": 2
          }
         }
        },
        "xaxis": {
         "anchor": "y",
         "domain": [
          0.0,
          0.435
         ],
         "title": {
          "text": "Unbalanced classes"
         }
        },
        "yaxis": {
         "anchor": "x",
         "domain": [
          0.0,
          1.0
         ]
        },
        "xaxis2": {
         "anchor": "y2",
         "domain": [
          0.565,
          1.0
         ],
         "title": {
          "text": "Balanced classes"
         }
        },
        "yaxis2": {
         "anchor": "x2",
         "domain": [
          0.0,
          1.0
         ]
        },
        "annotations": [
         {
          "font": {
           "color": "#FFFFFF"
          },
          "showarrow": false,
          "text": "0.93",
          "x": "USA",
          "xref": "x",
          "y": "USA",
          "yref": "y"
         },
         {
          "font": {
           "color": "#000000"
          },
          "showarrow": false,
          "text": "0.05",
          "x": "UK",
          "xref": "x",
          "y": "USA",
          "yref": "y"
         },
         {
          "font": {
           "color": "#000000"
          },
          "showarrow": false,
          "text": "0.01",
          "x": "Australia",
          "xref": "x",
          "y": "USA",
          "yref": "y"
         },
         {
          "font": {
           "color": "#000000"
          },
          "showarrow": false,
          "text": "0",
          "x": "Canada",
          "xref": "x",
          "y": "USA",
          "yref": "y"
         },
         {
          "font": {
           "color": "#FFFFFF"
          },
          "showarrow": false,
          "text": "0.72",
          "x": "USA",
          "xref": "x",
          "y": "UK",
          "yref": "y"
         },
         {
          "font": {
           "color": "#000000"
          },
          "showarrow": false,
          "text": "0.24",
          "x": "UK",
          "xref": "x",
          "y": "UK",
          "yref": "y"
         },
         {
          "font": {
           "color": "#000000"
          },
          "showarrow": false,
          "text": "0.04",
          "x": "Australia",
          "xref": "x",
          "y": "UK",
          "yref": "y"
         },
         {
          "font": {
           "color": "#000000"
          },
          "showarrow": false,
          "text": "0.01",
          "x": "Canada",
          "xref": "x",
          "y": "UK",
          "yref": "y"
         },
         {
          "font": {
           "color": "#FFFFFF"
          },
          "showarrow": false,
          "text": "0.63",
          "x": "USA",
          "xref": "x",
          "y": "Australia",
          "yref": "y"
         },
         {
          "font": {
           "color": "#000000"
          },
          "showarrow": false,
          "text": "0.14",
          "x": "UK",
          "xref": "x",
          "y": "Australia",
          "yref": "y"
         },
         {
          "font": {
           "color": "#000000"
          },
          "showarrow": false,
          "text": "0.22",
          "x": "Australia",
          "xref": "x",
          "y": "Australia",
          "yref": "y"
         },
         {
          "font": {
           "color": "#000000"
          },
          "showarrow": false,
          "text": "0.01",
          "x": "Canada",
          "xref": "x",
          "y": "Australia",
          "yref": "y"
         },
         {
          "font": {
           "color": "#FFFFFF"
          },
          "showarrow": false,
          "text": "0.81",
          "x": "USA",
          "xref": "x",
          "y": "Canada",
          "yref": "y"
         },
         {
          "font": {
           "color": "#000000"
          },
          "showarrow": false,
          "text": "0.09",
          "x": "UK",
          "xref": "x",
          "y": "Canada",
          "yref": "y"
         },
         {
          "font": {
           "color": "#000000"
          },
          "showarrow": false,
          "text": "0.03",
          "x": "Australia",
          "xref": "x",
          "y": "Canada",
          "yref": "y"
         },
         {
          "font": {
           "color": "#000000"
          },
          "showarrow": false,
          "text": "0.07",
          "x": "Canada",
          "xref": "x",
          "y": "Canada",
          "yref": "y"
         },
         {
          "font": {
           "color": "#FFFFFF"
          },
          "showarrow": false,
          "text": "0.33",
          "x": "USA",
          "xref": "x2",
          "y": "USA",
          "yref": "y2"
         },
         {
          "font": {
           "color": "#FFFFFF"
          },
          "showarrow": false,
          "text": "0.41",
          "x": "UK",
          "xref": "x2",
          "y": "USA",
          "yref": "y2"
         },
         {
          "font": {
           "color": "#000000"
          },
          "showarrow": false,
          "text": "0.05",
          "x": "Australia",
          "xref": "x2",
          "y": "USA",
          "yref": "y2"
         },
         {
          "font": {
           "color": "#000000"
          },
          "showarrow": false,
          "text": "0.21",
          "x": "Canada",
          "xref": "x2",
          "y": "USA",
          "yref": "y2"
         },
         {
          "font": {
           "color": "#000000"
          },
          "showarrow": false,
          "text": "0.07",
          "x": "USA",
          "xref": "x2",
          "y": "UK",
          "yref": "y2"
         },
         {
          "font": {
           "color": "#FFFFFF"
          },
          "showarrow": false,
          "text": "0.55",
          "x": "UK",
          "xref": "x2",
          "y": "UK",
          "yref": "y2"
         },
         {
          "font": {
           "color": "#000000"
          },
          "showarrow": false,
          "text": "0.13",
          "x": "Australia",
          "xref": "x2",
          "y": "UK",
          "yref": "y2"
         },
         {
          "font": {
           "color": "#000000"
          },
          "showarrow": false,
          "text": "0.24",
          "x": "Canada",
          "xref": "x2",
          "y": "UK",
          "yref": "y2"
         },
         {
          "font": {
           "color": "#000000"
          },
          "showarrow": false,
          "text": "0.05",
          "x": "USA",
          "xref": "x2",
          "y": "Australia",
          "yref": "y2"
         },
         {
          "font": {
           "color": "#FFFFFF"
          },
          "showarrow": false,
          "text": "0.37",
          "x": "UK",
          "xref": "x2",
          "y": "Australia",
          "yref": "y2"
         },
         {
          "font": {
           "color": "#FFFFFF"
          },
          "showarrow": false,
          "text": "0.44",
          "x": "Australia",
          "xref": "x2",
          "y": "Australia",
          "yref": "y2"
         },
         {
          "font": {
           "color": "#000000"
          },
          "showarrow": false,
          "text": "0.14",
          "x": "Canada",
          "xref": "x2",
          "y": "Australia",
          "yref": "y2"
         },
         {
          "font": {
           "color": "#000000"
          },
          "showarrow": false,
          "text": "0.12",
          "x": "USA",
          "xref": "x2",
          "y": "Canada",
          "yref": "y2"
         },
         {
          "font": {
           "color": "#000000"
          },
          "showarrow": false,
          "text": "0.28",
          "x": "UK",
          "xref": "x2",
          "y": "Canada",
          "yref": "y2"
         },
         {
          "font": {
           "color": "#000000"
          },
          "showarrow": false,
          "text": "0.1",
          "x": "Australia",
          "xref": "x2",
          "y": "Canada",
          "yref": "y2"
         },
         {
          "font": {
           "color": "#FFFFFF"
          },
          "showarrow": false,
          "text": "0.5",
          "x": "Canada",
          "xref": "x2",
          "y": "Canada",
          "yref": "y2"
         }
        ],
        "title": {
         "text": "Confusion matrix"
        }
       },
       "config": {
        "plotlyServerURL": "https://plot.ly"
       }
      },
      "text/html": "<div>                            <div id=\"254bcf39-db10-4ec8-b2d7-c99255c6fe47\" class=\"plotly-graph-div\" style=\"height:525px; width:100%;\"></div>            <script type=\"text/javascript\">                require([\"plotly\"], function(Plotly) {                    window.PLOTLYENV=window.PLOTLYENV || {};                                    if (document.getElementById(\"254bcf39-db10-4ec8-b2d7-c99255c6fe47\")) {                    Plotly.newPlot(                        \"254bcf39-db10-4ec8-b2d7-c99255c6fe47\",                        [{\"colorscale\":[[0.0,\"rgb(247,251,255)\"],[0.125,\"rgb(222,235,247)\"],[0.25,\"rgb(198,219,239)\"],[0.375,\"rgb(158,202,225)\"],[0.5,\"rgb(107,174,214)\"],[0.625,\"rgb(66,146,198)\"],[0.75,\"rgb(33,113,181)\"],[0.875,\"rgb(8,81,156)\"],[1.0,\"rgb(8,48,107)\"]],\"name\":\"Unbalanced\",\"reversescale\":false,\"showscale\":false,\"x\":[\"USA\",\"UK\",\"Australia\",\"Canada\"],\"y\":[\"USA\",\"UK\",\"Australia\",\"Canada\"],\"z\":[[0.93,0.05,0.01,0],[0.72,0.24,0.04,0.01],[0.63,0.14,0.22,0.01],[0.81,0.09,0.03,0.07]],\"type\":\"heatmap\",\"xaxis\":\"x\",\"yaxis\":\"y\"},{\"colorscale\":[[0.0,\"rgb(247,251,255)\"],[0.125,\"rgb(222,235,247)\"],[0.25,\"rgb(198,219,239)\"],[0.375,\"rgb(158,202,225)\"],[0.5,\"rgb(107,174,214)\"],[0.625,\"rgb(66,146,198)\"],[0.75,\"rgb(33,113,181)\"],[0.875,\"rgb(8,81,156)\"],[1.0,\"rgb(8,48,107)\"]],\"name\":\"Balanced\",\"reversescale\":false,\"showscale\":false,\"x\":[\"USA\",\"UK\",\"Australia\",\"Canada\"],\"y\":[\"USA\",\"UK\",\"Australia\",\"Canada\"],\"z\":[[0.33,0.41,0.05,0.21],[0.07,0.55,0.13,0.24],[0.05,0.37,0.44,0.14],[0.12,0.28,0.1,0.5]],\"type\":\"heatmap\",\"xaxis\":\"x2\",\"yaxis\":\"y2\"}],                        {\"template\":{\"data\":{\"bar\":[{\"error_x\":{\"color\":\"#2a3f5f\"},\"error_y\":{\"color\":\"#2a3f5f\"},\"marker\":{\"line\":{\"color\":\"#E5ECF6\",\"width\":0.5},\"pattern\":{\"fillmode\":\"overlay\",\"size\":10,\"solidity\":0.2}},\"type\":\"bar\"}],\"barpolar\":[{\"marker\":{\"line\":{\"color\":\"#E5ECF6\",\"width\":0.5},\"pattern\":{\"fillmode\":\"overlay\",\"size\":10,\"solidity\":0.2}},\"type\":\"barpolar\"}],\"carpet\":[{\"aaxis\":{\"endlinecolor\":\"#2a3f5f\",\"gridcolor\":\"white\",\"linecolor\":\"white\",\"minorgridcolor\":\"white\",\"startlinecolor\":\"#2a3f5f\"},\"baxis\":{\"endlinecolor\":\"#2a3f5f\",\"gridcolor\":\"white\",\"linecolor\":\"white\",\"minorgridcolor\":\"white\",\"startlinecolor\":\"#2a3f5f\"},\"type\":\"carpet\"}],\"choropleth\":[{\"colorbar\":{\"outlinewidth\":0,\"ticks\":\"\"},\"type\":\"choropleth\"}],\"contour\":[{\"colorbar\":{\"outlinewidth\":0,\"ticks\":\"\"},\"colorscale\":[[0.0,\"#0d0887\"],[0.1111111111111111,\"#46039f\"],[0.2222222222222222,\"#7201a8\"],[0.3333333333333333,\"#9c179e\"],[0.4444444444444444,\"#bd3786\"],[0.5555555555555556,\"#d8576b\"],[0.6666666666666666,\"#ed7953\"],[0.7777777777777778,\"#fb9f3a\"],[0.8888888888888888,\"#fdca26\"],[1.0,\"#f0f921\"]],\"type\":\"contour\"}],\"contourcarpet\":[{\"colorbar\":{\"outlinewidth\":0,\"ticks\":\"\"},\"type\":\"contourcarpet\"}],\"heatmap\":[{\"colorbar\":{\"outlinewidth\":0,\"ticks\":\"\"},\"colorscale\":[[0.0,\"#0d0887\"],[0.1111111111111111,\"#46039f\"],[0.2222222222222222,\"#7201a8\"],[0.3333333333333333,\"#9c179e\"],[0.4444444444444444,\"#bd3786\"],[0.5555555555555556,\"#d8576b\"],[0.6666666666666666,\"#ed7953\"],[0.7777777777777778,\"#fb9f3a\"],[0.8888888888888888,\"#fdca26\"],[1.0,\"#f0f921\"]],\"type\":\"heatmap\"}],\"heatmapgl\":[{\"colorbar\":{\"outlinewidth\":0,\"ticks\":\"\"},\"colorscale\":[[0.0,\"#0d0887\"],[0.1111111111111111,\"#46039f\"],[0.2222222222222222,\"#7201a8\"],[0.3333333333333333,\"#9c179e\"],[0.4444444444444444,\"#bd3786\"],[0.5555555555555556,\"#d8576b\"],[0.6666666666666666,\"#ed7953\"],[0.7777777777777778,\"#fb9f3a\"],[0.8888888888888888,\"#fdca26\"],[1.0,\"#f0f921\"]],\"type\":\"heatmapgl\"}],\"histogram\":[{\"marker\":{\"pattern\":{\"fillmode\":\"overlay\",\"size\":10,\"solidity\":0.2}},\"type\":\"histogram\"}],\"histogram2d\":[{\"colorbar\":{\"outlinewidth\":0,\"ticks\":\"\"},\"colorscale\":[[0.0,\"#0d0887\"],[0.1111111111111111,\"#46039f\"],[0.2222222222222222,\"#7201a8\"],[0.3333333333333333,\"#9c179e\"],[0.4444444444444444,\"#bd3786\"],[0.5555555555555556,\"#d8576b\"],[0.6666666666666666,\"#ed7953\"],[0.7777777777777778,\"#fb9f3a\"],[0.8888888888888888,\"#fdca26\"],[1.0,\"#f0f921\"]],\"type\":\"histogram2d\"}],\"histogram2dcontour\":[{\"colorbar\":{\"outlinewidth\":0,\"ticks\":\"\"},\"colorscale\":[[0.0,\"#0d0887\"],[0.1111111111111111,\"#46039f\"],[0.2222222222222222,\"#7201a8\"],[0.3333333333333333,\"#9c179e\"],[0.4444444444444444,\"#bd3786\"],[0.5555555555555556,\"#d8576b\"],[0.6666666666666666,\"#ed7953\"],[0.7777777777777778,\"#fb9f3a\"],[0.8888888888888888,\"#fdca26\"],[1.0,\"#f0f921\"]],\"type\":\"histogram2dcontour\"}],\"mesh3d\":[{\"colorbar\":{\"outlinewidth\":0,\"ticks\":\"\"},\"type\":\"mesh3d\"}],\"parcoords\":[{\"line\":{\"colorbar\":{\"outlinewidth\":0,\"ticks\":\"\"}},\"type\":\"parcoords\"}],\"pie\":[{\"automargin\":true,\"type\":\"pie\"}],\"scatter\":[{\"marker\":{\"colorbar\":{\"outlinewidth\":0,\"ticks\":\"\"}},\"type\":\"scatter\"}],\"scatter3d\":[{\"line\":{\"colorbar\":{\"outlinewidth\":0,\"ticks\":\"\"}},\"marker\":{\"colorbar\":{\"outlinewidth\":0,\"ticks\":\"\"}},\"type\":\"scatter3d\"}],\"scattercarpet\":[{\"marker\":{\"colorbar\":{\"outlinewidth\":0,\"ticks\":\"\"}},\"type\":\"scattercarpet\"}],\"scattergeo\":[{\"marker\":{\"colorbar\":{\"outlinewidth\":0,\"ticks\":\"\"}},\"type\":\"scattergeo\"}],\"scattergl\":[{\"marker\":{\"colorbar\":{\"outlinewidth\":0,\"ticks\":\"\"}},\"type\":\"scattergl\"}],\"scattermapbox\":[{\"marker\":{\"colorbar\":{\"outlinewidth\":0,\"ticks\":\"\"}},\"type\":\"scattermapbox\"}],\"scatterpolar\":[{\"marker\":{\"colorbar\":{\"outlinewidth\":0,\"ticks\":\"\"}},\"type\":\"scatterpolar\"}],\"scatterpolargl\":[{\"marker\":{\"colorbar\":{\"outlinewidth\":0,\"ticks\":\"\"}},\"type\":\"scatterpolargl\"}],\"scatterternary\":[{\"marker\":{\"colorbar\":{\"outlinewidth\":0,\"ticks\":\"\"}},\"type\":\"scatterternary\"}],\"surface\":[{\"colorbar\":{\"outlinewidth\":0,\"ticks\":\"\"},\"colorscale\":[[0.0,\"#0d0887\"],[0.1111111111111111,\"#46039f\"],[0.2222222222222222,\"#7201a8\"],[0.3333333333333333,\"#9c179e\"],[0.4444444444444444,\"#bd3786\"],[0.5555555555555556,\"#d8576b\"],[0.6666666666666666,\"#ed7953\"],[0.7777777777777778,\"#fb9f3a\"],[0.8888888888888888,\"#fdca26\"],[1.0,\"#f0f921\"]],\"type\":\"surface\"}],\"table\":[{\"cells\":{\"fill\":{\"color\":\"#EBF0F8\"},\"line\":{\"color\":\"white\"}},\"header\":{\"fill\":{\"color\":\"#C8D4E3\"},\"line\":{\"color\":\"white\"}},\"type\":\"table\"}]},\"layout\":{\"annotationdefaults\":{\"arrowcolor\":\"#2a3f5f\",\"arrowhead\":0,\"arrowwidth\":1},\"autotypenumbers\":\"strict\",\"coloraxis\":{\"colorbar\":{\"outlinewidth\":0,\"ticks\":\"\"}},\"colorscale\":{\"diverging\":[[0,\"#8e0152\"],[0.1,\"#c51b7d\"],[0.2,\"#de77ae\"],[0.3,\"#f1b6da\"],[0.4,\"#fde0ef\"],[0.5,\"#f7f7f7\"],[0.6,\"#e6f5d0\"],[0.7,\"#b8e186\"],[0.8,\"#7fbc41\"],[0.9,\"#4d9221\"],[1,\"#276419\"]],\"sequential\":[[0.0,\"#0d0887\"],[0.1111111111111111,\"#46039f\"],[0.2222222222222222,\"#7201a8\"],[0.3333333333333333,\"#9c179e\"],[0.4444444444444444,\"#bd3786\"],[0.5555555555555556,\"#d8576b\"],[0.6666666666666666,\"#ed7953\"],[0.7777777777777778,\"#fb9f3a\"],[0.8888888888888888,\"#fdca26\"],[1.0,\"#f0f921\"]],\"sequentialminus\":[[0.0,\"#0d0887\"],[0.1111111111111111,\"#46039f\"],[0.2222222222222222,\"#7201a8\"],[0.3333333333333333,\"#9c179e\"],[0.4444444444444444,\"#bd3786\"],[0.5555555555555556,\"#d8576b\"],[0.6666666666666666,\"#ed7953\"],[0.7777777777777778,\"#fb9f3a\"],[0.8888888888888888,\"#fdca26\"],[1.0,\"#f0f921\"]]},\"colorway\":[\"#636efa\",\"#EF553B\",\"#00cc96\",\"#ab63fa\",\"#FFA15A\",\"#19d3f3\",\"#FF6692\",\"#B6E880\",\"#FF97FF\",\"#FECB52\"],\"font\":{\"color\":\"#2a3f5f\"},\"geo\":{\"bgcolor\":\"white\",\"lakecolor\":\"white\",\"landcolor\":\"#E5ECF6\",\"showlakes\":true,\"showland\":true,\"subunitcolor\":\"white\"},\"hoverlabel\":{\"align\":\"left\"},\"hovermode\":\"closest\",\"mapbox\":{\"style\":\"light\"},\"paper_bgcolor\":\"white\",\"plot_bgcolor\":\"#E5ECF6\",\"polar\":{\"angularaxis\":{\"gridcolor\":\"white\",\"linecolor\":\"white\",\"ticks\":\"\"},\"bgcolor\":\"#E5ECF6\",\"radialaxis\":{\"gridcolor\":\"white\",\"linecolor\":\"white\",\"ticks\":\"\"}},\"scene\":{\"xaxis\":{\"backgroundcolor\":\"#E5ECF6\",\"gridcolor\":\"white\",\"gridwidth\":2,\"linecolor\":\"white\",\"showbackground\":true,\"ticks\":\"\",\"zerolinecolor\":\"white\"},\"yaxis\":{\"backgroundcolor\":\"#E5ECF6\",\"gridcolor\":\"white\",\"gridwidth\":2,\"linecolor\":\"white\",\"showbackground\":true,\"ticks\":\"\",\"zerolinecolor\":\"white\"},\"zaxis\":{\"backgroundcolor\":\"#E5ECF6\",\"gridcolor\":\"white\",\"gridwidth\":2,\"linecolor\":\"white\",\"showbackground\":true,\"ticks\":\"\",\"zerolinecolor\":\"white\"}},\"shapedefaults\":{\"line\":{\"color\":\"#2a3f5f\"}},\"ternary\":{\"aaxis\":{\"gridcolor\":\"white\",\"linecolor\":\"white\",\"ticks\":\"\"},\"baxis\":{\"gridcolor\":\"white\",\"linecolor\":\"white\",\"ticks\":\"\"},\"bgcolor\":\"#E5ECF6\",\"caxis\":{\"gridcolor\":\"white\",\"linecolor\":\"white\",\"ticks\":\"\"}},\"title\":{\"x\":0.05},\"xaxis\":{\"automargin\":true,\"gridcolor\":\"white\",\"linecolor\":\"white\",\"ticks\":\"\",\"title\":{\"standoff\":15},\"zerolinecolor\":\"white\",\"zerolinewidth\":2},\"yaxis\":{\"automargin\":true,\"gridcolor\":\"white\",\"linecolor\":\"white\",\"ticks\":\"\",\"title\":{\"standoff\":15},\"zerolinecolor\":\"white\",\"zerolinewidth\":2}}},\"xaxis\":{\"anchor\":\"y\",\"domain\":[0.0,0.435],\"title\":{\"text\":\"Unbalanced classes\"}},\"yaxis\":{\"anchor\":\"x\",\"domain\":[0.0,1.0]},\"xaxis2\":{\"anchor\":\"y2\",\"domain\":[0.565,1.0],\"title\":{\"text\":\"Balanced classes\"}},\"yaxis2\":{\"anchor\":\"x2\",\"domain\":[0.0,1.0]},\"annotations\":[{\"font\":{\"color\":\"#FFFFFF\"},\"showarrow\":false,\"text\":\"0.93\",\"x\":\"USA\",\"xref\":\"x\",\"y\":\"USA\",\"yref\":\"y\"},{\"font\":{\"color\":\"#000000\"},\"showarrow\":false,\"text\":\"0.05\",\"x\":\"UK\",\"xref\":\"x\",\"y\":\"USA\",\"yref\":\"y\"},{\"font\":{\"color\":\"#000000\"},\"showarrow\":false,\"text\":\"0.01\",\"x\":\"Australia\",\"xref\":\"x\",\"y\":\"USA\",\"yref\":\"y\"},{\"font\":{\"color\":\"#000000\"},\"showarrow\":false,\"text\":\"0\",\"x\":\"Canada\",\"xref\":\"x\",\"y\":\"USA\",\"yref\":\"y\"},{\"font\":{\"color\":\"#FFFFFF\"},\"showarrow\":false,\"text\":\"0.72\",\"x\":\"USA\",\"xref\":\"x\",\"y\":\"UK\",\"yref\":\"y\"},{\"font\":{\"color\":\"#000000\"},\"showarrow\":false,\"text\":\"0.24\",\"x\":\"UK\",\"xref\":\"x\",\"y\":\"UK\",\"yref\":\"y\"},{\"font\":{\"color\":\"#000000\"},\"showarrow\":false,\"text\":\"0.04\",\"x\":\"Australia\",\"xref\":\"x\",\"y\":\"UK\",\"yref\":\"y\"},{\"font\":{\"color\":\"#000000\"},\"showarrow\":false,\"text\":\"0.01\",\"x\":\"Canada\",\"xref\":\"x\",\"y\":\"UK\",\"yref\":\"y\"},{\"font\":{\"color\":\"#FFFFFF\"},\"showarrow\":false,\"text\":\"0.63\",\"x\":\"USA\",\"xref\":\"x\",\"y\":\"Australia\",\"yref\":\"y\"},{\"font\":{\"color\":\"#000000\"},\"showarrow\":false,\"text\":\"0.14\",\"x\":\"UK\",\"xref\":\"x\",\"y\":\"Australia\",\"yref\":\"y\"},{\"font\":{\"color\":\"#000000\"},\"showarrow\":false,\"text\":\"0.22\",\"x\":\"Australia\",\"xref\":\"x\",\"y\":\"Australia\",\"yref\":\"y\"},{\"font\":{\"color\":\"#000000\"},\"showarrow\":false,\"text\":\"0.01\",\"x\":\"Canada\",\"xref\":\"x\",\"y\":\"Australia\",\"yref\":\"y\"},{\"font\":{\"color\":\"#FFFFFF\"},\"showarrow\":false,\"text\":\"0.81\",\"x\":\"USA\",\"xref\":\"x\",\"y\":\"Canada\",\"yref\":\"y\"},{\"font\":{\"color\":\"#000000\"},\"showarrow\":false,\"text\":\"0.09\",\"x\":\"UK\",\"xref\":\"x\",\"y\":\"Canada\",\"yref\":\"y\"},{\"font\":{\"color\":\"#000000\"},\"showarrow\":false,\"text\":\"0.03\",\"x\":\"Australia\",\"xref\":\"x\",\"y\":\"Canada\",\"yref\":\"y\"},{\"font\":{\"color\":\"#000000\"},\"showarrow\":false,\"text\":\"0.07\",\"x\":\"Canada\",\"xref\":\"x\",\"y\":\"Canada\",\"yref\":\"y\"},{\"font\":{\"color\":\"#FFFFFF\"},\"showarrow\":false,\"text\":\"0.33\",\"x\":\"USA\",\"xref\":\"x2\",\"y\":\"USA\",\"yref\":\"y2\"},{\"font\":{\"color\":\"#FFFFFF\"},\"showarrow\":false,\"text\":\"0.41\",\"x\":\"UK\",\"xref\":\"x2\",\"y\":\"USA\",\"yref\":\"y2\"},{\"font\":{\"color\":\"#000000\"},\"showarrow\":false,\"text\":\"0.05\",\"x\":\"Australia\",\"xref\":\"x2\",\"y\":\"USA\",\"yref\":\"y2\"},{\"font\":{\"color\":\"#000000\"},\"showarrow\":false,\"text\":\"0.21\",\"x\":\"Canada\",\"xref\":\"x2\",\"y\":\"USA\",\"yref\":\"y2\"},{\"font\":{\"color\":\"#000000\"},\"showarrow\":false,\"text\":\"0.07\",\"x\":\"USA\",\"xref\":\"x2\",\"y\":\"UK\",\"yref\":\"y2\"},{\"font\":{\"color\":\"#FFFFFF\"},\"showarrow\":false,\"text\":\"0.55\",\"x\":\"UK\",\"xref\":\"x2\",\"y\":\"UK\",\"yref\":\"y2\"},{\"font\":{\"color\":\"#000000\"},\"showarrow\":false,\"text\":\"0.13\",\"x\":\"Australia\",\"xref\":\"x2\",\"y\":\"UK\",\"yref\":\"y2\"},{\"font\":{\"color\":\"#000000\"},\"showarrow\":false,\"text\":\"0.24\",\"x\":\"Canada\",\"xref\":\"x2\",\"y\":\"UK\",\"yref\":\"y2\"},{\"font\":{\"color\":\"#000000\"},\"showarrow\":false,\"text\":\"0.05\",\"x\":\"USA\",\"xref\":\"x2\",\"y\":\"Australia\",\"yref\":\"y2\"},{\"font\":{\"color\":\"#FFFFFF\"},\"showarrow\":false,\"text\":\"0.37\",\"x\":\"UK\",\"xref\":\"x2\",\"y\":\"Australia\",\"yref\":\"y2\"},{\"font\":{\"color\":\"#FFFFFF\"},\"showarrow\":false,\"text\":\"0.44\",\"x\":\"Australia\",\"xref\":\"x2\",\"y\":\"Australia\",\"yref\":\"y2\"},{\"font\":{\"color\":\"#000000\"},\"showarrow\":false,\"text\":\"0.14\",\"x\":\"Canada\",\"xref\":\"x2\",\"y\":\"Australia\",\"yref\":\"y2\"},{\"font\":{\"color\":\"#000000\"},\"showarrow\":false,\"text\":\"0.12\",\"x\":\"USA\",\"xref\":\"x2\",\"y\":\"Canada\",\"yref\":\"y2\"},{\"font\":{\"color\":\"#000000\"},\"showarrow\":false,\"text\":\"0.28\",\"x\":\"UK\",\"xref\":\"x2\",\"y\":\"Canada\",\"yref\":\"y2\"},{\"font\":{\"color\":\"#000000\"},\"showarrow\":false,\"text\":\"0.1\",\"x\":\"Australia\",\"xref\":\"x2\",\"y\":\"Canada\",\"yref\":\"y2\"},{\"font\":{\"color\":\"#FFFFFF\"},\"showarrow\":false,\"text\":\"0.5\",\"x\":\"Canada\",\"xref\":\"x2\",\"y\":\"Canada\",\"yref\":\"y2\"}],\"title\":{\"text\":\"Confusion matrix\"}},                        {\"responsive\": true}                    ).then(function(){\n                            \nvar gd = document.getElementById('254bcf39-db10-4ec8-b2d7-c99255c6fe47');\nvar x = new MutationObserver(function (mutations, observer) {{\n        var display = window.getComputedStyle(gd).display;\n        if (!display || display === 'none') {{\n            console.log([gd, 'removed!']);\n            Plotly.purge(gd);\n            observer.disconnect();\n        }}\n}});\n\n// Listen for the removal of the full notebook cells\nvar notebookContainer = gd.closest('#notebook-container');\nif (notebookContainer) {{\n    x.observe(notebookContainer, {childList: true});\n}}\n\n// Listen for the clearing of the current output cell\nvar outputEl = gd.closest('.output');\nif (outputEl) {{\n    x.observe(outputEl, {childList: true});\n}}\n\n                        })                };                });            </script>        </div>"
     },
     "metadata": {},
     "output_type": "display_data"
    }
   ],
   "source": [
    "import numpy as np\n",
    "import plotly.graph_objs as go\n",
    "import plotly.figure_factory as ff\n",
    "from plotly.subplots import make_subplots\n",
    "import string\n",
    "\n",
    "#Define data for heatmap\n",
    "N=4\n",
    "x = [\"USA\", \"UK\", \"Australia\", \"Canada\"]\n",
    "y = [\"USA\", \"UK\", \"Australia\", \"Canada\"]\n",
    "z2 = unbalanced_data\n",
    "z1 = balanced_data\n",
    "\n",
    "fig1 = ff.create_annotated_heatmap(z1, x, y,  colorscale='blues', name='Unbalanced')\n",
    "fig2 = ff.create_annotated_heatmap(z2, x, y, colorscale='blues', name='Balanced')\n",
    "fig1.layout.update({'title': 'Unbalanced classes'})\n",
    "fig2.layout.update({'title': 'Balanced classes'})\n",
    "fig = make_subplots(\n",
    "    rows=1, cols=2,\n",
    "    horizontal_spacing=0.13,\n",
    ")\n",
    "\n",
    "fig.add_trace(fig1.data[0], 1, 1)\n",
    "fig.add_trace(fig2.data[0], 1, 2)\n",
    "\n",
    "annot1 = list(fig1.layout.annotations)\n",
    "annot2 = list(fig2.layout.annotations)\n",
    "for k  in range(len(annot2)):\n",
    "    annot2[k]['xref'] = 'x2'\n",
    "    annot2[k]['yref'] = 'y2'\n",
    "fig.layout.xaxis1.update({'title': 'Unbalanced classes'})\n",
    "fig.layout.xaxis2.update({'title': 'Balanced classes'})\n",
    "fig.update_layout(annotations=annot1+annot2)\n",
    "fig.layout.update({'title': 'Confusion matrix'})\n",
    "fig.write_html(\"conf.html\")\n",
    "fig.show()"
   ],
   "metadata": {
    "collapsed": false,
    "pycharm": {
     "name": "#%%\n"
    }
   }
  },
  {
   "cell_type": "code",
   "execution_count": 153,
   "outputs": [],
   "source": [
    "data[\"round\"] = data.Sentiment.round(2)\n",
    "median_data = data.groupby([\"occupation\", \"quote_year\"]).median()[\"round\"]\n",
    "max_data = data.groupby([\"occupation\", \"quote_year\"]).max()[\"Sentiment\"]\n",
    "min_data = data.groupby([\"occupation\", \"quote_year\"]).min()[\"Sentiment\"]\n",
    "std_data = data.groupby([\"occupation\", \"quote_year\"]).std()[\"Sentiment\"]\n",
    "mean_data = data.groupby([\"occupation\", \"quote_year\"]).mean()[\"Sentiment\"]\n",
    "counts = data.groupby(\"occupation\").quote_year.value_counts()"
   ],
   "metadata": {
    "collapsed": false,
    "pycharm": {
     "name": "#%%\n"
    }
   }
  },
  {
   "cell_type": "code",
   "execution_count": 159,
   "outputs": [
    {
     "data": {
      "text/html": "\n\n\n\n\n\n  <div class=\"bk-root\" id=\"1244154a-31f7-4ab6-84ac-beacb98ab09e\" data-root-id=\"52324\"></div>\n"
     },
     "metadata": {},
     "output_type": "display_data"
    },
    {
     "data": {
      "application/javascript": "(function(root) {\n  function embed_document(root) {\n    \n  const docs_json = {\"be0e97fa-9596-4270-9cf9-69b48a258461\":{\"defs\":[],\"roots\":{\"references\":[{\"attributes\":{\"above\":[{\"id\":\"52355\"}],\"below\":[{\"id\":\"52333\"}],\"center\":[{\"id\":\"52336\"},{\"id\":\"52340\"},{\"id\":\"52373\"}],\"height\":250,\"left\":[{\"id\":\"52337\"}],\"renderers\":[{\"id\":\"52360\"},{\"id\":\"52379\"},{\"id\":\"52398\"},{\"id\":\"52419\"},{\"id\":\"52443\"},{\"id\":\"52468\"},{\"id\":\"52495\"},{\"id\":\"52525\"},{\"id\":\"52556\"},{\"id\":\"52589\"},{\"id\":\"52625\"},{\"id\":\"52662\"},{\"id\":\"52701\"},{\"id\":\"52743\"},{\"id\":\"52786\"},{\"id\":\"52831\"},{\"id\":\"52879\"},{\"id\":\"52928\"},{\"id\":\"52979\"},{\"id\":\"53033\"},{\"id\":\"53088\"},{\"id\":\"53145\"},{\"id\":\"53205\"},{\"id\":\"53266\"}],\"right\":[{\"id\":\"52373\"}],\"title\":{\"id\":\"52362\"},\"toolbar\":{\"id\":\"52348\"},\"width\":800,\"x_range\":{\"id\":\"52325\"},\"x_scale\":{\"id\":\"52329\"},\"y_range\":{\"id\":\"52327\"},\"y_scale\":{\"id\":\"52331\"}},\"id\":\"52324\",\"subtype\":\"Figure\",\"type\":\"Plot\"},{\"attributes\":{\"coordinates\":null,\"data_source\":{\"id\":\"52552\"},\"glyph\":{\"id\":\"52553\"},\"group\":null,\"hover_glyph\":null,\"muted_glyph\":{\"id\":\"52555\"},\"nonselection_glyph\":{\"id\":\"52554\"},\"view\":{\"id\":\"52557\"},\"visible\":false},\"id\":\"52556\",\"type\":\"GlyphRenderer\"},{\"attributes\":{\"line_alpha\":0.2,\"line_color\":\"#fee08b\",\"line_width\":2,\"x\":{\"field\":\"x\"},\"y\":{\"field\":\"y\"}},\"id\":\"52742\",\"type\":\"Line\"},{\"attributes\":{\"source\":{\"id\":\"53141\"}},\"id\":\"53146\",\"type\":\"CDSView\"},{\"attributes\":{},\"id\":\"52583\",\"type\":\"Selection\"},{\"attributes\":{},\"id\":\"52655\",\"type\":\"UnionRenderers\"},{\"attributes\":{},\"id\":\"52695\",\"type\":\"Selection\"},{\"attributes\":{\"coordinates\":null,\"data_source\":{\"id\":\"52782\"},\"glyph\":{\"id\":\"52783\"},\"group\":null,\"hover_glyph\":null,\"muted_glyph\":{\"id\":\"52785\"},\"nonselection_glyph\":{\"id\":\"52784\"},\"view\":{\"id\":\"52787\"},\"visible\":false},\"id\":\"52786\",\"type\":\"GlyphRenderer\"},{\"attributes\":{\"source\":{\"id\":\"52491\"}},\"id\":\"52496\",\"type\":\"CDSView\"},{\"attributes\":{\"fill_alpha\":{\"value\":0.2},\"fill_color\":{\"value\":\"#abdda4\"},\"hatch_alpha\":{\"value\":0.2},\"hatch_color\":{\"value\":\"#abdda4\"},\"line_alpha\":{\"value\":0.2},\"line_color\":{\"value\":\"#abdda4\"},\"x\":{\"field\":\"x\"},\"y\":{\"field\":\"y\"}},\"id\":\"52555\",\"type\":\"Scatter\"},{\"attributes\":{\"fill_alpha\":{\"value\":0.2},\"fill_color\":{\"value\":\"#e6f598\"},\"hatch_alpha\":{\"value\":0.2},\"hatch_color\":{\"value\":\"#e6f598\"},\"line_alpha\":{\"value\":0.2},\"line_color\":{\"value\":\"#e6f598\"},\"x\":{\"field\":\"x\"},\"y\":{\"field\":\"y\"}},\"id\":\"52661\",\"type\":\"Scatter\"},{\"attributes\":{\"fill_alpha\":{\"value\":0.1},\"fill_color\":{\"value\":\"#fee08b\"},\"hatch_alpha\":{\"value\":0.1},\"hatch_color\":{\"value\":\"#fee08b\"},\"line_alpha\":{\"value\":0.1},\"line_color\":{\"value\":\"#fee08b\"},\"x\":{\"field\":\"x\"},\"y\":{\"field\":\"y\"}},\"id\":\"52784\",\"type\":\"Scatter\"},{\"attributes\":{\"label\":{\"value\":\"film director\"},\"renderers\":[{\"id\":\"53145\"},{\"id\":\"53205\"},{\"id\":\"53266\"}]},\"id\":\"53200\",\"type\":\"LegendItem\"},{\"attributes\":{\"source\":{\"id\":\"52585\"}},\"id\":\"52590\",\"type\":\"CDSView\"},{\"attributes\":{\"fill_alpha\":0.1,\"fill_color\":\"#d53e4f\",\"hatch_alpha\":{\"value\":0.1},\"hatch_color\":{\"value\":\"#d53e4f\"},\"x\":{\"field\":\"x\"},\"y1\":{\"field\":\"y1\"},\"y2\":{\"field\":\"y2\"}},\"id\":\"53143\",\"type\":\"VArea\"},{\"attributes\":{},\"id\":\"52656\",\"type\":\"Selection\"},{\"attributes\":{\"coordinates\":null,\"data_source\":{\"id\":\"53141\"},\"glyph\":{\"id\":\"53142\"},\"group\":null,\"hover_glyph\":null,\"muted_glyph\":{\"id\":\"53144\"},\"nonselection_glyph\":{\"id\":\"53143\"},\"view\":{\"id\":\"53146\"},\"visible\":false},\"id\":\"53145\",\"type\":\"GlyphRenderer\"},{\"attributes\":{\"line_alpha\":0.2,\"line_color\":\"#abdda4\",\"line_width\":2,\"x\":{\"field\":\"x\"},\"y\":{\"field\":\"y\"}},\"id\":\"52524\",\"type\":\"Line\"},{\"attributes\":{\"fill_alpha\":{\"value\":0.1},\"fill_color\":{\"value\":\"#abdda4\"},\"hatch_alpha\":{\"value\":0.1},\"hatch_color\":{\"value\":\"#abdda4\"},\"line_alpha\":{\"value\":0.1},\"line_color\":{\"value\":\"#abdda4\"},\"x\":{\"field\":\"x\"},\"y\":{\"field\":\"y\"}},\"id\":\"52554\",\"type\":\"Scatter\"},{\"attributes\":{\"line_alpha\":0.2,\"line_color\":\"#d53e4f\",\"line_width\":2,\"x\":{\"field\":\"x\"},\"y\":{\"field\":\"y\"}},\"id\":\"53204\",\"type\":\"Line\"},{\"attributes\":{},\"id\":\"52517\",\"type\":\"UnionRenderers\"},{\"attributes\":{\"source\":{\"id\":\"52552\"}},\"id\":\"52557\",\"type\":\"CDSView\"},{\"attributes\":{\"fill_alpha\":{\"value\":0.2},\"fill_color\":{\"value\":\"#fee08b\"},\"hatch_alpha\":{\"value\":0.2},\"hatch_color\":{\"value\":\"#fee08b\"},\"line_alpha\":{\"value\":0.2},\"line_color\":{\"value\":\"#fee08b\"},\"x\":{\"field\":\"x\"},\"y\":{\"field\":\"y\"}},\"id\":\"52785\",\"type\":\"Scatter\"},{\"attributes\":{\"fill_alpha\":0.2,\"fill_color\":\"#d53e4f\",\"hatch_alpha\":{\"value\":0.2},\"hatch_color\":{\"value\":\"#d53e4f\"},\"x\":{\"field\":\"x\"},\"y1\":{\"field\":\"y1\"},\"y2\":{\"field\":\"y2\"}},\"id\":\"53144\",\"type\":\"VArea\"},{\"attributes\":{\"fill_alpha\":0.1,\"fill_color\":\"#abdda4\",\"hatch_alpha\":{\"value\":0.1},\"hatch_color\":{\"value\":\"#abdda4\"},\"x\":{\"field\":\"x\"},\"y1\":{\"field\":\"y1\"},\"y2\":{\"field\":\"y2\"}},\"id\":\"52493\",\"type\":\"VArea\"},{\"attributes\":{\"line_alpha\":0.8,\"line_color\":\"#d53e4f\",\"line_width\":2,\"x\":{\"field\":\"x\"},\"y\":{\"field\":\"y\"}},\"id\":\"53202\",\"type\":\"Line\"},{\"attributes\":{},\"id\":\"52617\",\"type\":\"UnionRenderers\"},{\"attributes\":{\"coordinates\":null,\"data_source\":{\"id\":\"52491\"},\"glyph\":{\"id\":\"52492\"},\"group\":null,\"hover_glyph\":null,\"muted_glyph\":{\"id\":\"52494\"},\"nonselection_glyph\":{\"id\":\"52493\"},\"view\":{\"id\":\"52496\"},\"visible\":false},\"id\":\"52495\",\"type\":\"GlyphRenderer\"},{\"attributes\":{\"fill_alpha\":0.2,\"fill_color\":\"#3288bd\",\"hatch_alpha\":{\"value\":0.2},\"hatch_color\":{\"value\":\"#3288bd\"},\"x\":{\"field\":\"x\"},\"y1\":{\"field\":\"y1\"},\"y2\":{\"field\":\"y2\"}},\"id\":\"52359\",\"type\":\"VArea\"},{\"attributes\":{},\"id\":\"52582\",\"type\":\"UnionRenderers\"},{\"attributes\":{\"data\":{\"x\":[2015,2016,2017,2018,2019,2020],\"y1\":{\"__ndarray__\":\"dIopERPmxz8nDDjpBo+vP7hSZBd0LKg/nHX3M/g4uj9FZ4y90cu1P5zC97ZQ9Kc/\",\"dtype\":\"float64\",\"order\":\"little\",\"shape\":[6]},\"y2\":{\"__ndarray__\":\"ccYQ3eFy0D+VUT7wGsjCP2t/S8Zos8A/Bkn8RSR0yD8Em/538TvLP8C5M2/imdA/\",\"dtype\":\"float64\",\"order\":\"little\",\"shape\":[6]}},\"selected\":{\"id\":\"52872\"},\"selection_policy\":{\"id\":\"52871\"}},\"id\":\"52827\",\"type\":\"ColumnDataSource\"},{\"attributes\":{},\"id\":\"53198\",\"type\":\"Selection\"},{\"attributes\":{\"line_alpha\":0.8,\"line_color\":\"#66c2a5\",\"line_width\":2,\"x\":{\"field\":\"x\"},\"y\":{\"field\":\"y\"}},\"id\":\"52440\",\"type\":\"Line\"},{\"attributes\":{\"fill_alpha\":0.2,\"fill_color\":\"#abdda4\",\"hatch_alpha\":{\"value\":0.2},\"hatch_color\":{\"value\":\"#abdda4\"},\"x\":{\"field\":\"x\"},\"y1\":{\"field\":\"y1\"},\"y2\":{\"field\":\"y2\"}},\"id\":\"52494\",\"type\":\"VArea\"},{\"attributes\":{},\"id\":\"52345\",\"type\":\"ResetTool\"},{\"attributes\":{},\"id\":\"52344\",\"type\":\"SaveTool\"},{\"attributes\":{},\"id\":\"52365\",\"type\":\"BasicTickFormatter\"},{\"attributes\":{},\"id\":\"52518\",\"type\":\"Selection\"},{\"attributes\":{\"line_alpha\":0.2,\"line_color\":\"#66c2a5\",\"line_width\":2,\"x\":{\"field\":\"x\"},\"y\":{\"field\":\"y\"}},\"id\":\"52442\",\"type\":\"Line\"},{\"attributes\":{\"line_alpha\":0.8,\"line_color\":\"#abdda4\",\"line_width\":2,\"x\":{\"field\":\"x\"},\"y\":{\"field\":\"y\"}},\"id\":\"52522\",\"type\":\"Line\"},{\"attributes\":{\"overlay\":{\"id\":\"52347\"}},\"id\":\"52343\",\"type\":\"BoxZoomTool\"},{\"attributes\":{\"data\":{\"x\":[2015,2016,2017,2018,2019,2020],\"y\":{\"__ndarray__\":\"Qsdd9TGGyj8ud2AqhqvGP5LwJZtgvcY/2gn9Ix4zzD8LwSiDdyDQP9ZL1X1m3cY/\",\"dtype\":\"float64\",\"order\":\"little\",\"shape\":[6]}},\"selected\":{\"id\":\"52462\"},\"selection_policy\":{\"id\":\"52461\"}},\"id\":\"52439\",\"type\":\"ColumnDataSource\"},{\"attributes\":{},\"id\":\"52341\",\"type\":\"PanTool\"},{\"attributes\":{\"label\":{\"value\":\"journalist\"},\"renderers\":[{\"id\":\"52495\"},{\"id\":\"52525\"},{\"id\":\"52556\"}]},\"id\":\"52520\",\"type\":\"LegendItem\"},{\"attributes\":{\"coordinates\":null,\"data_source\":{\"id\":\"52439\"},\"glyph\":{\"id\":\"52440\"},\"group\":null,\"hover_glyph\":null,\"muted_glyph\":{\"id\":\"52442\"},\"nonselection_glyph\":{\"id\":\"52441\"},\"view\":{\"id\":\"52444\"},\"visible\":false},\"id\":\"52443\",\"type\":\"GlyphRenderer\"},{\"attributes\":{},\"id\":\"52346\",\"type\":\"HelpTool\"},{\"attributes\":{\"bottom_units\":\"screen\",\"coordinates\":null,\"fill_alpha\":0.5,\"fill_color\":\"lightgrey\",\"group\":null,\"left_units\":\"screen\",\"level\":\"overlay\",\"line_alpha\":1.0,\"line_color\":\"black\",\"line_dash\":[4,4],\"line_width\":2,\"right_units\":\"screen\",\"syncable\":false,\"top_units\":\"screen\"},\"id\":\"52347\",\"type\":\"BoxAnnotation\"},{\"attributes\":{\"source\":{\"id\":\"52439\"}},\"id\":\"52444\",\"type\":\"CDSView\"},{\"attributes\":{\"fill_alpha\":{\"value\":0.2},\"fill_color\":{\"value\":\"violet\"},\"hatch_alpha\":{\"value\":0.2},\"hatch_color\":{\"value\":\"violet\"},\"line_alpha\":{\"value\":0.2},\"line_color\":{\"value\":\"violet\"},\"x\":{\"field\":\"x\"},\"y\":{\"field\":\"y\"}},\"id\":\"52927\",\"type\":\"Scatter\"},{\"attributes\":{\"coordinates\":null,\"data_source\":{\"id\":\"52356\"},\"glyph\":{\"id\":\"52357\"},\"group\":null,\"hover_glyph\":null,\"muted_glyph\":{\"id\":\"52359\"},\"nonselection_glyph\":{\"id\":\"52358\"},\"view\":{\"id\":\"52361\"}},\"id\":\"52360\",\"type\":\"GlyphRenderer\"},{\"attributes\":{\"line_alpha\":0.1,\"line_color\":\"#fee08b\",\"line_width\":2,\"x\":{\"field\":\"x\"},\"y\":{\"field\":\"y\"}},\"id\":\"52741\",\"type\":\"Line\"},{\"attributes\":{},\"id\":\"52370\",\"type\":\"UnionRenderers\"},{\"attributes\":{\"coordinates\":null,\"data_source\":{\"id\":\"52924\"},\"glyph\":{\"id\":\"52925\"},\"group\":null,\"hover_glyph\":null,\"muted_glyph\":{\"id\":\"52927\"},\"nonselection_glyph\":{\"id\":\"52926\"},\"view\":{\"id\":\"52929\"},\"visible\":false},\"id\":\"52928\",\"type\":\"GlyphRenderer\"},{\"attributes\":{},\"id\":\"52338\",\"type\":\"BasicTicker\"},{\"attributes\":{},\"id\":\"52461\",\"type\":\"UnionRenderers\"},{\"attributes\":{\"axis\":{\"id\":\"52337\"},\"coordinates\":null,\"dimension\":1,\"group\":null,\"ticker\":null},\"id\":\"52340\",\"type\":\"Grid\"},{\"attributes\":{\"line_alpha\":0.1,\"line_color\":\"#66c2a5\",\"line_width\":2,\"x\":{\"field\":\"x\"},\"y\":{\"field\":\"y\"}},\"id\":\"52441\",\"type\":\"Line\"},{\"attributes\":{\"source\":{\"id\":\"52975\"}},\"id\":\"52980\",\"type\":\"CDSView\"},{\"attributes\":{\"axis_label\":\"Sentiment\",\"coordinates\":null,\"formatter\":{\"id\":\"52365\"},\"group\":null,\"major_label_policy\":{\"id\":\"52366\"},\"ticker\":{\"id\":\"52338\"}},\"id\":\"52337\",\"type\":\"LinearAxis\"},{\"attributes\":{\"fill_alpha\":{\"value\":0.2},\"fill_color\":{\"value\":\"#66c2a5\"},\"hatch_alpha\":{\"value\":0.2},\"hatch_color\":{\"value\":\"#66c2a5\"},\"line_alpha\":{\"value\":0.2},\"line_color\":{\"value\":\"#66c2a5\"},\"x\":{\"field\":\"x\"},\"y\":{\"field\":\"y\"}},\"id\":\"52467\",\"type\":\"Scatter\"},{\"attributes\":{\"source\":{\"id\":\"52739\"}},\"id\":\"52744\",\"type\":\"CDSView\"},{\"attributes\":{\"fill_alpha\":{\"value\":0.1},\"fill_color\":{\"value\":\"violet\"},\"hatch_alpha\":{\"value\":0.1},\"hatch_color\":{\"value\":\"violet\"},\"line_alpha\":{\"value\":0.1},\"line_color\":{\"value\":\"violet\"},\"x\":{\"field\":\"x\"},\"y\":{\"field\":\"y\"}},\"id\":\"52926\",\"type\":\"Scatter\"},{\"attributes\":{},\"id\":\"52779\",\"type\":\"UnionRenderers\"},{\"attributes\":{\"source\":{\"id\":\"52924\"}},\"id\":\"52929\",\"type\":\"CDSView\"},{\"attributes\":{},\"id\":\"52342\",\"type\":\"WheelZoomTool\"},{\"attributes\":{},\"id\":\"52462\",\"type\":\"Selection\"},{\"attributes\":{\"axis\":{\"id\":\"52333\"},\"coordinates\":null,\"group\":null,\"ticker\":null},\"id\":\"52336\",\"type\":\"Grid\"},{\"attributes\":{},\"id\":\"52825\",\"type\":\"Selection\"},{\"attributes\":{},\"id\":\"53025\",\"type\":\"UnionRenderers\"},{\"attributes\":{\"coordinates\":null,\"data_source\":{\"id\":\"52739\"},\"glyph\":{\"id\":\"52740\"},\"group\":null,\"hover_glyph\":null,\"muted_glyph\":{\"id\":\"52742\"},\"nonselection_glyph\":{\"id\":\"52741\"},\"view\":{\"id\":\"52744\"},\"visible\":false},\"id\":\"52743\",\"type\":\"GlyphRenderer\"},{\"attributes\":{},\"id\":\"52334\",\"type\":\"BasicTicker\"},{\"attributes\":{},\"id\":\"52972\",\"type\":\"UnionRenderers\"},{\"attributes\":{\"data\":{\"x\":[2015,2016,2017,2018,2019,2020],\"y\":{\"__ndarray__\":\"J8qNB2QixD/0NJ6/3gGeP2lg3zOjtLM/2xIMnz8Nqj8ZuEHDDpFzP2uiG3QcUqO/\",\"dtype\":\"float64\",\"order\":\"little\",\"shape\":[6]}},\"selected\":{\"id\":\"52780\"},\"selection_policy\":{\"id\":\"52779\"}},\"id\":\"52739\",\"type\":\"ColumnDataSource\"},{\"attributes\":{},\"id\":\"52366\",\"type\":\"AllLabels\"},{\"attributes\":{},\"id\":\"52331\",\"type\":\"LinearScale\"},{\"attributes\":{},\"id\":\"52327\",\"type\":\"DataRange1d\"},{\"attributes\":{\"line_alpha\":0.8,\"line_color\":\"#fee08b\",\"line_width\":2,\"x\":{\"field\":\"x\"},\"y\":{\"field\":\"y\"}},\"id\":\"52740\",\"type\":\"Line\"},{\"attributes\":{\"axis_label\":\"Year\",\"coordinates\":null,\"formatter\":{\"id\":\"52368\"},\"group\":null,\"major_label_policy\":{\"id\":\"52369\"},\"ticker\":{\"id\":\"52334\"}},\"id\":\"52333\",\"type\":\"LinearAxis\"},{\"attributes\":{},\"id\":\"52329\",\"type\":\"LinearScale\"},{\"attributes\":{\"data\":{\"x\":[2015,2016,2017,2018,2019,2020],\"y\":{\"__ndarray__\":\"pHA9CtejwD8AAAAAAAAAAAAAAAAAAAAAAAAAAAAAAAAAAAAAAAAAAHsUrkfherQ/\",\"dtype\":\"float64\",\"order\":\"little\",\"shape\":[6]}},\"selected\":{\"id\":\"52695\"},\"selection_policy\":{\"id\":\"52694\"}},\"id\":\"52658\",\"type\":\"ColumnDataSource\"},{\"attributes\":{\"fill_alpha\":0.3,\"fill_color\":\"#e6f598\",\"hatch_alpha\":{\"value\":0.3},\"hatch_color\":{\"value\":\"#e6f598\"},\"x\":{\"field\":\"x\"},\"y1\":{\"field\":\"y1\"},\"y2\":{\"field\":\"y2\"}},\"id\":\"52586\",\"type\":\"VArea\"},{\"attributes\":{\"fill_color\":{\"value\":\"#e6f598\"},\"hatch_color\":{\"value\":\"#e6f598\"},\"line_color\":{\"value\":\"#e6f598\"},\"x\":{\"field\":\"x\"},\"y\":{\"field\":\"y\"}},\"id\":\"52659\",\"type\":\"Scatter\"},{\"attributes\":{\"coordinates\":null,\"data_source\":{\"id\":\"52658\"},\"glyph\":{\"id\":\"52659\"},\"group\":null,\"hover_glyph\":null,\"muted_glyph\":{\"id\":\"52661\"},\"nonselection_glyph\":{\"id\":\"52660\"},\"view\":{\"id\":\"52663\"},\"visible\":false},\"id\":\"52662\",\"type\":\"GlyphRenderer\"},{\"attributes\":{\"source\":{\"id\":\"52697\"}},\"id\":\"52702\",\"type\":\"CDSView\"},{\"attributes\":{\"fill_color\":{\"value\":\"#fee08b\"},\"hatch_color\":{\"value\":\"#fee08b\"},\"line_color\":{\"value\":\"#fee08b\"},\"x\":{\"field\":\"x\"},\"y\":{\"field\":\"y\"}},\"id\":\"52783\",\"type\":\"Scatter\"},{\"attributes\":{\"source\":{\"id\":\"52356\"}},\"id\":\"52361\",\"type\":\"CDSView\"},{\"attributes\":{\"fill_alpha\":{\"value\":0.1},\"fill_color\":{\"value\":\"#e6f598\"},\"hatch_alpha\":{\"value\":0.1},\"hatch_color\":{\"value\":\"#e6f598\"},\"line_alpha\":{\"value\":0.1},\"line_color\":{\"value\":\"#e6f598\"},\"x\":{\"field\":\"x\"},\"y\":{\"field\":\"y\"}},\"id\":\"52660\",\"type\":\"Scatter\"},{\"attributes\":{\"label\":{\"value\":\"writer\"},\"renderers\":[{\"id\":\"52589\"},{\"id\":\"52625\"},{\"id\":\"52662\"}]},\"id\":\"52620\",\"type\":\"LegendItem\"},{\"attributes\":{\"data\":{\"x\":[2015,2016,2017,2018,2019,2020],\"y1\":{\"__ndarray__\":\"36EsMR4Jvz/6gRTXvYWKv2AoN43CFKo/AL1E4hzIXD/elD/dYsqpP1qKHYFOLqU/\",\"dtype\":\"float64\",\"order\":\"little\",\"shape\":[6]},\"y2\":{\"__ndarray__\":\"Ol2glDoYxz9GxCAkwiKpP/aVD1M7WL8/Bs3TvciPsj+ehpLDwGXBP1I7EzVTCs0/\",\"dtype\":\"float64\",\"order\":\"little\",\"shape\":[6]}},\"selected\":{\"id\":\"52618\"},\"selection_policy\":{\"id\":\"52617\"}},\"id\":\"52585\",\"type\":\"ColumnDataSource\"},{\"attributes\":{\"source\":{\"id\":\"52658\"}},\"id\":\"52663\",\"type\":\"CDSView\"},{\"attributes\":{\"fill_alpha\":0.1,\"fill_color\":\"#e6f598\",\"hatch_alpha\":{\"value\":0.1},\"hatch_color\":{\"value\":\"#e6f598\"},\"x\":{\"field\":\"x\"},\"y1\":{\"field\":\"y1\"},\"y2\":{\"field\":\"y2\"}},\"id\":\"52587\",\"type\":\"VArea\"},{\"attributes\":{},\"id\":\"52735\",\"type\":\"UnionRenderers\"},{\"attributes\":{\"coordinates\":null,\"data_source\":{\"id\":\"52585\"},\"glyph\":{\"id\":\"52586\"},\"group\":null,\"hover_glyph\":null,\"muted_glyph\":{\"id\":\"52588\"},\"nonselection_glyph\":{\"id\":\"52587\"},\"view\":{\"id\":\"52590\"},\"visible\":false},\"id\":\"52589\",\"type\":\"GlyphRenderer\"},{\"attributes\":{\"source\":{\"id\":\"52782\"}},\"id\":\"52787\",\"type\":\"CDSView\"},{\"attributes\":{},\"id\":\"52694\",\"type\":\"UnionRenderers\"},{\"attributes\":{\"fill_alpha\":0.1,\"fill_color\":\"#3288bd\",\"hatch_alpha\":{\"value\":0.1},\"hatch_color\":{\"value\":\"#3288bd\"},\"x\":{\"field\":\"x\"},\"y1\":{\"field\":\"y1\"},\"y2\":{\"field\":\"y2\"}},\"id\":\"52358\",\"type\":\"VArea\"},{\"attributes\":{\"source\":{\"id\":\"52621\"}},\"id\":\"52626\",\"type\":\"CDSView\"},{\"attributes\":{\"data\":{\"x\":[2015,2016,2017,2018,2019,2020],\"y\":{\"__ndarray__\":\"zKk9QtdewT8Jlz+nGK3NP1TVYDsgl70/3BLbgJs8xT+EZjwt9rjLP6gkb2XlzMk/\",\"dtype\":\"float64\",\"order\":\"little\",\"shape\":[6]}},\"selected\":{\"id\":\"53260\"},\"selection_policy\":{\"id\":\"53259\"}},\"id\":\"53201\",\"type\":\"ColumnDataSource\"},{\"attributes\":{\"coordinates\":null,\"data_source\":{\"id\":\"53201\"},\"glyph\":{\"id\":\"53202\"},\"group\":null,\"hover_glyph\":null,\"muted_glyph\":{\"id\":\"53204\"},\"nonselection_glyph\":{\"id\":\"53203\"},\"view\":{\"id\":\"53206\"},\"visible\":false},\"id\":\"53205\",\"type\":\"GlyphRenderer\"},{\"attributes\":{\"fill_alpha\":0.2,\"fill_color\":\"#e6f598\",\"hatch_alpha\":{\"value\":0.2},\"hatch_color\":{\"value\":\"#e6f598\"},\"x\":{\"field\":\"x\"},\"y1\":{\"field\":\"y1\"},\"y2\":{\"field\":\"y2\"}},\"id\":\"52588\",\"type\":\"VArea\"},{\"attributes\":{\"line_alpha\":0.8,\"line_color\":\"#e6f598\",\"line_width\":2,\"x\":{\"field\":\"x\"},\"y\":{\"field\":\"y\"}},\"id\":\"52622\",\"type\":\"Line\"},{\"attributes\":{\"source\":{\"id\":\"53201\"}},\"id\":\"53206\",\"type\":\"CDSView\"},{\"attributes\":{\"coordinates\":null,\"data_source\":{\"id\":\"53262\"},\"glyph\":{\"id\":\"53263\"},\"group\":null,\"hover_glyph\":null,\"muted_glyph\":{\"id\":\"53265\"},\"nonselection_glyph\":{\"id\":\"53264\"},\"view\":{\"id\":\"53267\"},\"visible\":false},\"id\":\"53266\",\"type\":\"GlyphRenderer\"},{\"attributes\":{\"tools\":[{\"id\":\"52341\"},{\"id\":\"52342\"},{\"id\":\"52343\"},{\"id\":\"52344\"},{\"id\":\"52345\"},{\"id\":\"52346\"}]},\"id\":\"52348\",\"type\":\"Toolbar\"},{\"attributes\":{\"data\":{\"x\":[2015,2016,2017,2018,2019,2020],\"y\":{\"__ndarray__\":\"4mWXUZEyrj8Tv0U5Xe+gP30QKtAgm6c/HjWO3V8QmT+f6UEyJpGCv/ze7IJIiZg/\",\"dtype\":\"float64\",\"order\":\"little\",\"shape\":[6]}},\"selected\":{\"id\":\"52550\"},\"selection_policy\":{\"id\":\"52549\"}},\"id\":\"52521\",\"type\":\"ColumnDataSource\"},{\"attributes\":{},\"id\":\"52618\",\"type\":\"Selection\"},{\"attributes\":{},\"id\":\"53259\",\"type\":\"UnionRenderers\"},{\"attributes\":{\"coordinates\":null,\"data_source\":{\"id\":\"52521\"},\"glyph\":{\"id\":\"52522\"},\"group\":null,\"hover_glyph\":null,\"muted_glyph\":{\"id\":\"52524\"},\"nonselection_glyph\":{\"id\":\"52523\"},\"view\":{\"id\":\"52526\"},\"visible\":false},\"id\":\"52525\",\"type\":\"GlyphRenderer\"},{\"attributes\":{\"data\":{\"x\":[2015,2016,2017,2018,2019,2020],\"y\":{\"__ndarray__\":\"cT0K16NwzT+amZmZmZnJPzMzMzMzM8M/j8L1KFyP0j/D9Shcj8LVP1K4HoXrUcg/\",\"dtype\":\"float64\",\"order\":\"little\",\"shape\":[6]}},\"selected\":{\"id\":\"52489\"},\"selection_policy\":{\"id\":\"52488\"}},\"id\":\"52464\",\"type\":\"ColumnDataSource\"},{\"attributes\":{\"fill_alpha\":0.3,\"fill_color\":\"violet\",\"hatch_alpha\":{\"value\":0.3},\"hatch_color\":{\"value\":\"violet\"},\"x\":{\"field\":\"x\"},\"y1\":{\"field\":\"y1\"},\"y2\":{\"field\":\"y2\"}},\"id\":\"52828\",\"type\":\"VArea\"},{\"attributes\":{\"source\":{\"id\":\"52521\"}},\"id\":\"52526\",\"type\":\"CDSView\"},{\"attributes\":{\"line_alpha\":0.1,\"line_color\":\"#d53e4f\",\"line_width\":2,\"x\":{\"field\":\"x\"},\"y\":{\"field\":\"y\"}},\"id\":\"53203\",\"type\":\"Line\"},{\"attributes\":{\"source\":{\"id\":\"53262\"}},\"id\":\"53267\",\"type\":\"CDSView\"},{\"attributes\":{\"fill_alpha\":0.3,\"fill_color\":\"#3288bd\",\"hatch_alpha\":{\"value\":0.3},\"hatch_color\":{\"value\":\"#3288bd\"},\"x\":{\"field\":\"x\"},\"y1\":{\"field\":\"y1\"},\"y2\":{\"field\":\"y2\"}},\"id\":\"52357\",\"type\":\"VArea\"},{\"attributes\":{\"fill_alpha\":0.3,\"fill_color\":\"#f46d43\",\"hatch_alpha\":{\"value\":0.3},\"hatch_color\":{\"value\":\"#f46d43\"},\"x\":{\"field\":\"x\"},\"y1\":{\"field\":\"y1\"},\"y2\":{\"field\":\"y2\"}},\"id\":\"52976\",\"type\":\"VArea\"},{\"attributes\":{},\"id\":\"52824\",\"type\":\"UnionRenderers\"},{\"attributes\":{},\"id\":\"52549\",\"type\":\"UnionRenderers\"},{\"attributes\":{},\"id\":\"53260\",\"type\":\"Selection\"},{\"attributes\":{\"line_alpha\":0.1,\"line_color\":\"#abdda4\",\"line_width\":2,\"x\":{\"field\":\"x\"},\"y\":{\"field\":\"y\"}},\"id\":\"52523\",\"type\":\"Line\"},{\"attributes\":{\"fill_color\":{\"value\":\"#66c2a5\"},\"hatch_color\":{\"value\":\"#66c2a5\"},\"line_color\":{\"value\":\"#66c2a5\"},\"x\":{\"field\":\"x\"},\"y\":{\"field\":\"y\"}},\"id\":\"52465\",\"type\":\"Scatter\"},{\"attributes\":{\"fill_color\":{\"value\":\"#abdda4\"},\"hatch_color\":{\"value\":\"#abdda4\"},\"line_color\":{\"value\":\"#abdda4\"},\"x\":{\"field\":\"x\"},\"y\":{\"field\":\"y\"}},\"id\":\"52553\",\"type\":\"Scatter\"},{\"attributes\":{\"label\":{\"value\":\"politician\"},\"renderers\":[{\"id\":\"52360\"},{\"id\":\"52379\"},{\"id\":\"52398\"}]},\"id\":\"52374\",\"type\":\"LegendItem\"},{\"attributes\":{\"coordinates\":null,\"data_source\":{\"id\":\"52464\"},\"glyph\":{\"id\":\"52465\"},\"group\":null,\"hover_glyph\":null,\"muted_glyph\":{\"id\":\"52467\"},\"nonselection_glyph\":{\"id\":\"52466\"},\"view\":{\"id\":\"52469\"},\"visible\":false},\"id\":\"52468\",\"type\":\"GlyphRenderer\"},{\"attributes\":{\"label\":{\"value\":\"singer\"},\"renderers\":[{\"id\":\"52979\"},{\"id\":\"53033\"},{\"id\":\"53088\"}]},\"id\":\"53028\",\"type\":\"LegendItem\"},{\"attributes\":{},\"id\":\"52371\",\"type\":\"Selection\"},{\"attributes\":{\"fill_alpha\":0.3,\"fill_color\":\"#abdda4\",\"hatch_alpha\":{\"value\":0.3},\"hatch_color\":{\"value\":\"#abdda4\"},\"x\":{\"field\":\"x\"},\"y1\":{\"field\":\"y1\"},\"y2\":{\"field\":\"y2\"}},\"id\":\"52492\",\"type\":\"VArea\"},{\"attributes\":{\"data\":{\"x\":[2015,2016,2017,2018,2019,2020],\"y1\":{\"__ndarray__\":\"TTQYcgi0yj/UKjc4TIrFP8KlTnDjPMU/OH+SrPdiyj9+VVMs3Vi/P0KLesPeSsU/\",\"dtype\":\"float64\",\"order\":\"little\",\"shape\":[6]},\"y2\":{\"__ndarray__\":\"6Dobpn3B0T9+D4x+1z3QPxBvS8dHe88/AFktBbZ40z/p5dvDa67PP5CR3GyCI9U/\",\"dtype\":\"float64\",\"order\":\"little\",\"shape\":[6]}},\"selected\":{\"id\":\"53026\"},\"selection_policy\":{\"id\":\"53025\"}},\"id\":\"52975\",\"type\":\"ColumnDataSource\"},{\"attributes\":{},\"id\":\"52550\",\"type\":\"Selection\"},{\"attributes\":{\"fill_alpha\":0.1,\"fill_color\":\"#f46d43\",\"hatch_alpha\":{\"value\":0.1},\"hatch_color\":{\"value\":\"#f46d43\"},\"x\":{\"field\":\"x\"},\"y1\":{\"field\":\"y1\"},\"y2\":{\"field\":\"y2\"}},\"id\":\"52977\",\"type\":\"VArea\"},{\"attributes\":{},\"id\":\"52488\",\"type\":\"UnionRenderers\"},{\"attributes\":{},\"id\":\"52780\",\"type\":\"Selection\"},{\"attributes\":{\"coordinates\":null,\"data_source\":{\"id\":\"52975\"},\"glyph\":{\"id\":\"52976\"},\"group\":null,\"hover_glyph\":null,\"muted_glyph\":{\"id\":\"52978\"},\"nonselection_glyph\":{\"id\":\"52977\"},\"view\":{\"id\":\"52980\"},\"visible\":false},\"id\":\"52979\",\"type\":\"GlyphRenderer\"},{\"attributes\":{\"fill_alpha\":{\"value\":0.1},\"fill_color\":{\"value\":\"#66c2a5\"},\"hatch_alpha\":{\"value\":0.1},\"hatch_color\":{\"value\":\"#66c2a5\"},\"line_alpha\":{\"value\":0.1},\"line_color\":{\"value\":\"#66c2a5\"},\"x\":{\"field\":\"x\"},\"y\":{\"field\":\"y\"}},\"id\":\"52466\",\"type\":\"Scatter\"},{\"attributes\":{\"source\":{\"id\":\"52464\"}},\"id\":\"52469\",\"type\":\"CDSView\"},{\"attributes\":{\"fill_alpha\":0.2,\"fill_color\":\"#f46d43\",\"hatch_alpha\":{\"value\":0.2},\"hatch_color\":{\"value\":\"#f46d43\"},\"x\":{\"field\":\"x\"},\"y1\":{\"field\":\"y1\"},\"y2\":{\"field\":\"y2\"}},\"id\":\"52978\",\"type\":\"VArea\"},{\"attributes\":{\"data\":{\"x\":[2015,2016,2017,2018,2019,2020],\"y1\":{\"__ndarray__\":\"B55BED2soD98yEv0QtJ1P+pTbsycZ5E/JDbcyxwRc784k+QhSpenvyDb+K2Xnqi/\",\"dtype\":\"float64\",\"order\":\"little\",\"shape\":[6]},\"y2\":{\"__ndarray__\":\"3pZ2yXLctT8WBQIUciSvP4J7Dp05QbM/4rsJd4Nyqz/QPIcRbp2cPw7dchjwk7g/\",\"dtype\":\"float64\",\"order\":\"little\",\"shape\":[6]}},\"selected\":{\"id\":\"52518\"},\"selection_policy\":{\"id\":\"52517\"}},\"id\":\"52491\",\"type\":\"ColumnDataSource\"},{\"attributes\":{\"click_policy\":\"hide\",\"coordinates\":null,\"group\":null,\"items\":[{\"id\":\"52374\"},{\"id\":\"52438\"},{\"id\":\"52520\"},{\"id\":\"52620\"},{\"id\":\"52738\"},{\"id\":\"52874\"},{\"id\":\"53028\"},{\"id\":\"53200\"}],\"location\":\"top_left\"},\"id\":\"52373\",\"type\":\"Legend\"},{\"attributes\":{},\"id\":\"53026\",\"type\":\"Selection\"},{\"attributes\":{\"coordinates\":null,\"group\":null},\"id\":\"52362\",\"type\":\"Title\"},{\"attributes\":{\"fill_alpha\":0.3,\"fill_color\":\"#fee08b\",\"hatch_alpha\":{\"value\":0.3},\"hatch_color\":{\"value\":\"#fee08b\"},\"x\":{\"field\":\"x\"},\"y1\":{\"field\":\"y1\"},\"y2\":{\"field\":\"y2\"}},\"id\":\"52698\",\"type\":\"VArea\"},{\"attributes\":{\"data\":{\"x\":[2015,2016,2017,2018,2019,2020],\"y\":{\"__ndarray__\":\"Ia6HOVISwz/bzSrcEyG3P65Jt4hcoLc/NbLWm4zHuz/MDfaP0xq0P0tlVLHU0bw/\",\"dtype\":\"float64\",\"order\":\"little\",\"shape\":[6]}},\"selected\":{\"id\":\"52392\"},\"selection_policy\":{\"id\":\"52391\"}},\"id\":\"52375\",\"type\":\"ColumnDataSource\"},{\"attributes\":{\"label\":{\"value\":\"lawyer\"},\"renderers\":[{\"id\":\"52701\"},{\"id\":\"52743\"},{\"id\":\"52786\"}]},\"id\":\"52738\",\"type\":\"LegendItem\"},{\"attributes\":{\"data\":{\"x\":[2015,2016,2017,2018,2019,2020],\"y1\":{\"__ndarray__\":\"8jBwS5Evvz+QPQp2UJJ3v5wq3+v10qM/sDMcoQzmfT/PbtB8eTWnv+9/UheMccG/\",\"dtype\":\"float64\",\"order\":\"little\",\"shape\":[6]},\"y2\":{\"__ndarray__\":\"1Xtjaf+syD9Tvi9nFHqwP4Qrz3HLf70/oE/61N4uuD/V3KAtvRmsP+W6EnX3Ia8/\",\"dtype\":\"float64\",\"order\":\"little\",\"shape\":[6]}},\"selected\":{\"id\":\"52736\"},\"selection_policy\":{\"id\":\"52735\"}},\"id\":\"52697\",\"type\":\"ColumnDataSource\"},{\"attributes\":{\"fill_alpha\":0.1,\"fill_color\":\"#fee08b\",\"hatch_alpha\":{\"value\":0.1},\"hatch_color\":{\"value\":\"#fee08b\"},\"x\":{\"field\":\"x\"},\"y1\":{\"field\":\"y1\"},\"y2\":{\"field\":\"y2\"}},\"id\":\"52699\",\"type\":\"VArea\"},{\"attributes\":{\"coordinates\":null,\"data_source\":{\"id\":\"52697\"},\"glyph\":{\"id\":\"52698\"},\"group\":null,\"hover_glyph\":null,\"muted_glyph\":{\"id\":\"52700\"},\"nonselection_glyph\":{\"id\":\"52699\"},\"view\":{\"id\":\"52702\"},\"visible\":false},\"id\":\"52701\",\"type\":\"GlyphRenderer\"},{\"attributes\":{\"data\":{\"x\":[2015,2016,2017,2018,2019,2020],\"y1\":{\"__ndarray__\":\"Ut/z00lUwT/wNDgDanizP7p/xdRo1bM/bLBsjHTrtz/CUObQCWauPx6+/+qIHLQ/\",\"dtype\":\"float64\",\"order\":\"little\",\"shape\":[6]},\"y2\":{\"__ndarray__\":\"8Hwbn1rQxD/GZh21vcm6P6ITqTxQa7s//rNAq6Sjvz8383g3ogK5PzyG1DuQw8I/\",\"dtype\":\"float64\",\"order\":\"little\",\"shape\":[6]}},\"selected\":{\"id\":\"52371\"},\"selection_policy\":{\"id\":\"52370\"}},\"id\":\"52356\",\"type\":\"ColumnDataSource\"},{\"attributes\":{\"fill_alpha\":0.2,\"fill_color\":\"#fee08b\",\"hatch_alpha\":{\"value\":0.2},\"hatch_color\":{\"value\":\"#fee08b\"},\"x\":{\"field\":\"x\"},\"y1\":{\"field\":\"y1\"},\"y2\":{\"field\":\"y2\"}},\"id\":\"52700\",\"type\":\"VArea\"},{\"attributes\":{\"data\":{\"x\":[2015,2016,2017,2018,2019,2020],\"y\":{\"__ndarray__\":\"exSuR+F6tD8AAAAAAAAAAAAAAAAAAAAAAAAAAAAAAAAAAAAAAAAAAAAAAAAAAAAA\",\"dtype\":\"float64\",\"order\":\"little\",\"shape\":[6]}},\"selected\":{\"id\":\"52825\"},\"selection_policy\":{\"id\":\"52824\"}},\"id\":\"52782\",\"type\":\"ColumnDataSource\"},{\"attributes\":{\"coordinates\":null,\"group\":null,\"text\":\"Occupation sentiment\",\"text_font_size\":\"16pt\"},\"id\":\"52355\",\"type\":\"Title\"},{\"attributes\":{\"data\":{\"x\":[2015,2016,2017,2018,2019,2020],\"y\":{\"__ndarray__\":\"CtejcD0Ktz9I4XoUrkfRPwAAAAAAAAAAexSuR+F6tD+uR+F6FK7HP3E9CtejcM0/\",\"dtype\":\"float64\",\"order\":\"little\",\"shape\":[6]}},\"selected\":{\"id\":\"53323\"},\"selection_policy\":{\"id\":\"53322\"}},\"id\":\"53262\",\"type\":\"ColumnDataSource\"},{\"attributes\":{\"coordinates\":null,\"data_source\":{\"id\":\"52621\"},\"glyph\":{\"id\":\"52622\"},\"group\":null,\"hover_glyph\":null,\"muted_glyph\":{\"id\":\"52624\"},\"nonselection_glyph\":{\"id\":\"52623\"},\"view\":{\"id\":\"52626\"},\"visible\":false},\"id\":\"52625\",\"type\":\"GlyphRenderer\"},{\"attributes\":{},\"id\":\"52369\",\"type\":\"AllLabels\"},{\"attributes\":{},\"id\":\"52325\",\"type\":\"DataRange1d\"},{\"attributes\":{\"line_alpha\":0.8,\"line_color\":\"#3288bd\",\"line_width\":2,\"x\":{\"field\":\"x\"},\"y\":{\"field\":\"y\"}},\"id\":\"52376\",\"type\":\"Line\"},{\"attributes\":{\"data\":{\"x\":[2015,2016,2017,2018,2019,2020],\"y\":{\"__ndarray__\":\"FVeb1mROwz/Io1uuUoGSPxOV1UxOMbY/+t9cMekCoz/Wa+J6Wdi3P/ROrWrzKsE/\",\"dtype\":\"float64\",\"order\":\"little\",\"shape\":[6]}},\"selected\":{\"id\":\"52656\"},\"selection_policy\":{\"id\":\"52655\"}},\"id\":\"52621\",\"type\":\"ColumnDataSource\"},{\"attributes\":{\"data\":{\"x\":[2015,2016,2017,2018,2019,2020],\"y\":{\"__ndarray__\":\"AAAAAAAAAAAAAAAAAAAAAAAAAAAAAAAAAAAAAAAAAAAAAAAAAAAAAAAAAAAAAAAA\",\"dtype\":\"float64\",\"order\":\"little\",\"shape\":[6]}},\"selected\":{\"id\":\"52583\"},\"selection_policy\":{\"id\":\"52582\"}},\"id\":\"52552\",\"type\":\"ColumnDataSource\"},{\"attributes\":{\"line_alpha\":0.1,\"line_color\":\"#e6f598\",\"line_width\":2,\"x\":{\"field\":\"x\"},\"y\":{\"field\":\"y\"}},\"id\":\"52623\",\"type\":\"Line\"},{\"attributes\":{\"fill_alpha\":{\"value\":0.1},\"fill_color\":{\"value\":\"#d53e4f\"},\"hatch_alpha\":{\"value\":0.1},\"hatch_color\":{\"value\":\"#d53e4f\"},\"line_alpha\":{\"value\":0.1},\"line_color\":{\"value\":\"#d53e4f\"},\"x\":{\"field\":\"x\"},\"y\":{\"field\":\"y\"}},\"id\":\"53264\",\"type\":\"Scatter\"},{\"attributes\":{\"fill_color\":{\"value\":\"#d53e4f\"},\"hatch_color\":{\"value\":\"#d53e4f\"},\"line_color\":{\"value\":\"#d53e4f\"},\"x\":{\"field\":\"x\"},\"y\":{\"field\":\"y\"}},\"id\":\"53263\",\"type\":\"Scatter\"},{\"attributes\":{},\"id\":\"52368\",\"type\":\"BasicTickFormatter\"},{\"attributes\":{},\"id\":\"52736\",\"type\":\"Selection\"},{\"attributes\":{\"line_alpha\":0.2,\"line_color\":\"#e6f598\",\"line_width\":2,\"x\":{\"field\":\"x\"},\"y\":{\"field\":\"y\"}},\"id\":\"52624\",\"type\":\"Line\"},{\"attributes\":{\"fill_alpha\":{\"value\":0.2},\"fill_color\":{\"value\":\"#d53e4f\"},\"hatch_alpha\":{\"value\":0.2},\"hatch_color\":{\"value\":\"#d53e4f\"},\"line_alpha\":{\"value\":0.2},\"line_color\":{\"value\":\"#d53e4f\"},\"x\":{\"field\":\"x\"},\"y\":{\"field\":\"y\"}},\"id\":\"53265\",\"type\":\"Scatter\"},{\"attributes\":{},\"id\":\"53197\",\"type\":\"UnionRenderers\"},{\"attributes\":{\"coordinates\":null,\"data_source\":{\"id\":\"53029\"},\"glyph\":{\"id\":\"53030\"},\"group\":null,\"hover_glyph\":null,\"muted_glyph\":{\"id\":\"53032\"},\"nonselection_glyph\":{\"id\":\"53031\"},\"view\":{\"id\":\"53034\"},\"visible\":false},\"id\":\"53033\",\"type\":\"GlyphRenderer\"},{\"attributes\":{},\"id\":\"53323\",\"type\":\"Selection\"},{\"attributes\":{},\"id\":\"52391\",\"type\":\"UnionRenderers\"},{\"attributes\":{},\"id\":\"53322\",\"type\":\"UnionRenderers\"},{\"attributes\":{\"fill_alpha\":{\"value\":0.2},\"fill_color\":{\"value\":\"#3288bd\"},\"hatch_alpha\":{\"value\":0.2},\"hatch_color\":{\"value\":\"#3288bd\"},\"line_alpha\":{\"value\":0.2},\"line_color\":{\"value\":\"#3288bd\"},\"x\":{\"field\":\"x\"},\"y\":{\"field\":\"y\"}},\"id\":\"52397\",\"type\":\"Scatter\"},{\"attributes\":{\"fill_color\":{\"value\":\"#3288bd\"},\"hatch_color\":{\"value\":\"#3288bd\"},\"line_color\":{\"value\":\"#3288bd\"},\"x\":{\"field\":\"x\"},\"y\":{\"field\":\"y\"}},\"id\":\"52395\",\"type\":\"Scatter\"},{\"attributes\":{\"line_alpha\":0.8,\"line_color\":\"#f46d43\",\"line_width\":2,\"x\":{\"field\":\"x\"},\"y\":{\"field\":\"y\"}},\"id\":\"53030\",\"type\":\"Line\"},{\"attributes\":{\"fill_alpha\":0.2,\"fill_color\":\"#66c2a5\",\"hatch_alpha\":{\"value\":0.2},\"hatch_color\":{\"value\":\"#66c2a5\"},\"x\":{\"field\":\"x\"},\"y1\":{\"field\":\"y1\"},\"y2\":{\"field\":\"y2\"}},\"id\":\"52418\",\"type\":\"VArea\"},{\"attributes\":{\"line_alpha\":0.2,\"line_color\":\"#f46d43\",\"line_width\":2,\"x\":{\"field\":\"x\"},\"y\":{\"field\":\"y\"}},\"id\":\"53032\",\"type\":\"Line\"},{\"attributes\":{},\"id\":\"52489\",\"type\":\"Selection\"},{\"attributes\":{\"data\":{\"x\":[2015,2016,2017,2018,2019,2020],\"y\":{\"__ndarray__\":\"DlUn34Ebzz/opKea/QLLP2kKzZsVXMo/Tky77RhV0D9UyAItba3HPzHXmc7xyM8/\",\"dtype\":\"float64\",\"order\":\"little\",\"shape\":[6]}},\"selected\":{\"id\":\"53082\"},\"selection_policy\":{\"id\":\"53081\"}},\"id\":\"53029\",\"type\":\"ColumnDataSource\"},{\"attributes\":{\"source\":{\"id\":\"53029\"}},\"id\":\"53034\",\"type\":\"CDSView\"},{\"attributes\":{\"line_alpha\":0.2,\"line_color\":\"#3288bd\",\"line_width\":2,\"x\":{\"field\":\"x\"},\"y\":{\"field\":\"y\"}},\"id\":\"52378\",\"type\":\"Line\"},{\"attributes\":{},\"id\":\"53139\",\"type\":\"Selection\"},{\"attributes\":{\"coordinates\":null,\"data_source\":{\"id\":\"52375\"},\"glyph\":{\"id\":\"52376\"},\"group\":null,\"hover_glyph\":null,\"muted_glyph\":{\"id\":\"52378\"},\"nonselection_glyph\":{\"id\":\"52377\"},\"view\":{\"id\":\"52380\"}},\"id\":\"52379\",\"type\":\"GlyphRenderer\"},{\"attributes\":{},\"id\":\"53081\",\"type\":\"UnionRenderers\"},{\"attributes\":{\"coordinates\":null,\"data_source\":{\"id\":\"52415\"},\"glyph\":{\"id\":\"52416\"},\"group\":null,\"hover_glyph\":null,\"muted_glyph\":{\"id\":\"52418\"},\"nonselection_glyph\":{\"id\":\"52417\"},\"view\":{\"id\":\"52420\"},\"visible\":false},\"id\":\"52419\",\"type\":\"GlyphRenderer\"},{\"attributes\":{\"line_alpha\":0.1,\"line_color\":\"#f46d43\",\"line_width\":2,\"x\":{\"field\":\"x\"},\"y\":{\"field\":\"y\"}},\"id\":\"53031\",\"type\":\"Line\"},{\"attributes\":{\"source\":{\"id\":\"52827\"}},\"id\":\"52832\",\"type\":\"CDSView\"},{\"attributes\":{\"fill_alpha\":{\"value\":0.2},\"fill_color\":{\"value\":\"#f46d43\"},\"hatch_alpha\":{\"value\":0.2},\"hatch_color\":{\"value\":\"#f46d43\"},\"line_alpha\":{\"value\":0.2},\"line_color\":{\"value\":\"#f46d43\"},\"x\":{\"field\":\"x\"},\"y\":{\"field\":\"y\"}},\"id\":\"53087\",\"type\":\"Scatter\"},{\"attributes\":{\"fill_alpha\":{\"value\":0.1},\"fill_color\":{\"value\":\"#3288bd\"},\"hatch_alpha\":{\"value\":0.1},\"hatch_color\":{\"value\":\"#3288bd\"},\"line_alpha\":{\"value\":0.1},\"line_color\":{\"value\":\"#3288bd\"},\"x\":{\"field\":\"x\"},\"y\":{\"field\":\"y\"}},\"id\":\"52396\",\"type\":\"Scatter\"},{\"attributes\":{},\"id\":\"53082\",\"type\":\"Selection\"},{\"attributes\":{\"label\":{\"value\":\"LGBTIQ+ rights activist\"},\"renderers\":[{\"id\":\"52831\"},{\"id\":\"52879\"},{\"id\":\"52928\"}]},\"id\":\"52874\",\"type\":\"LegendItem\"},{\"attributes\":{},\"id\":\"52871\",\"type\":\"UnionRenderers\"},{\"attributes\":{\"fill_alpha\":0.1,\"fill_color\":\"violet\",\"hatch_alpha\":{\"value\":0.1},\"hatch_color\":{\"value\":\"violet\"},\"x\":{\"field\":\"x\"},\"y1\":{\"field\":\"y1\"},\"y2\":{\"field\":\"y2\"}},\"id\":\"52829\",\"type\":\"VArea\"},{\"attributes\":{\"coordinates\":null,\"data_source\":{\"id\":\"52827\"},\"glyph\":{\"id\":\"52828\"},\"group\":null,\"hover_glyph\":null,\"muted_glyph\":{\"id\":\"52830\"},\"nonselection_glyph\":{\"id\":\"52829\"},\"view\":{\"id\":\"52832\"},\"visible\":false},\"id\":\"52831\",\"type\":\"GlyphRenderer\"},{\"attributes\":{},\"id\":\"52435\",\"type\":\"UnionRenderers\"},{\"attributes\":{\"fill_alpha\":0.2,\"fill_color\":\"violet\",\"hatch_alpha\":{\"value\":0.2},\"hatch_color\":{\"value\":\"violet\"},\"x\":{\"field\":\"x\"},\"y1\":{\"field\":\"y1\"},\"y2\":{\"field\":\"y2\"}},\"id\":\"52830\",\"type\":\"VArea\"},{\"attributes\":{\"line_alpha\":0.8,\"line_color\":\"violet\",\"line_width\":2,\"x\":{\"field\":\"x\"},\"y\":{\"field\":\"y\"}},\"id\":\"52876\",\"type\":\"Line\"},{\"attributes\":{\"coordinates\":null,\"data_source\":{\"id\":\"52394\"},\"glyph\":{\"id\":\"52395\"},\"group\":null,\"hover_glyph\":null,\"muted_glyph\":{\"id\":\"52397\"},\"nonselection_glyph\":{\"id\":\"52396\"},\"view\":{\"id\":\"52399\"}},\"id\":\"52398\",\"type\":\"GlyphRenderer\"},{\"attributes\":{},\"id\":\"52872\",\"type\":\"Selection\"},{\"attributes\":{},\"id\":\"52436\",\"type\":\"Selection\"},{\"attributes\":{\"data\":{\"x\":[2015,2016,2017,2018,2019,2020],\"y1\":{\"__ndarray__\":\"0KDeA/EUyD/NsPGGbvPDP2XZI+vH8cM/aXzP0B9EyT+Ozr+6OMHMP1v5N9v6BMA/\",\"dtype\":\"float64\",\"order\":\"little\",\"shape\":[6]},\"y2\":{\"__ndarray__\":\"tO3c5nL3zD+PPc/NnWPJP78HKEv5iMk/S5cqdxwizz/PmvGoUuDRP1GeciDStc0/\",\"dtype\":\"float64\",\"order\":\"little\",\"shape\":[6]}},\"selected\":{\"id\":\"52436\"},\"selection_policy\":{\"id\":\"52435\"}},\"id\":\"52415\",\"type\":\"ColumnDataSource\"},{\"attributes\":{\"fill_alpha\":0.1,\"fill_color\":\"#66c2a5\",\"hatch_alpha\":{\"value\":0.1},\"hatch_color\":{\"value\":\"#66c2a5\"},\"x\":{\"field\":\"x\"},\"y1\":{\"field\":\"y1\"},\"y2\":{\"field\":\"y2\"}},\"id\":\"52417\",\"type\":\"VArea\"},{\"attributes\":{\"source\":{\"id\":\"52394\"}},\"id\":\"52399\",\"type\":\"CDSView\"},{\"attributes\":{},\"id\":\"52973\",\"type\":\"Selection\"},{\"attributes\":{\"data\":{\"x\":[2015,2016,2017,2018,2019,2020],\"y\":{\"__ndarray__\":\"hetRuB6F0z8AAAAAAADQP3E9CtejcM0/w/UoXI/C1T+amZmZmZnJP7gehetRuM4/\",\"dtype\":\"float64\",\"order\":\"little\",\"shape\":[6]}},\"selected\":{\"id\":\"53139\"},\"selection_policy\":{\"id\":\"53138\"}},\"id\":\"53084\",\"type\":\"ColumnDataSource\"},{\"attributes\":{\"line_alpha\":0.1,\"line_color\":\"#3288bd\",\"line_width\":2,\"x\":{\"field\":\"x\"},\"y\":{\"field\":\"y\"}},\"id\":\"52377\",\"type\":\"Line\"},{\"attributes\":{\"fill_color\":{\"value\":\"#f46d43\"},\"hatch_color\":{\"value\":\"#f46d43\"},\"line_color\":{\"value\":\"#f46d43\"},\"x\":{\"field\":\"x\"},\"y\":{\"field\":\"y\"}},\"id\":\"53085\",\"type\":\"Scatter\"},{\"attributes\":{\"coordinates\":null,\"data_source\":{\"id\":\"53084\"},\"glyph\":{\"id\":\"53085\"},\"group\":null,\"hover_glyph\":null,\"muted_glyph\":{\"id\":\"53087\"},\"nonselection_glyph\":{\"id\":\"53086\"},\"view\":{\"id\":\"53089\"},\"visible\":false},\"id\":\"53088\",\"type\":\"GlyphRenderer\"},{\"attributes\":{\"data\":{\"x\":[2015,2016,2017,2018,2019,2020],\"y1\":{\"__ndarray__\":\"ahGg6S0Stz9cnyai2IHHP0mnxdjQZ7A/cv/QfCT2uz9346FXD3XDP+6pm0C7P7Y/\",\"dtype\":\"float64\",\"order\":\"little\",\"shape\":[6]},\"y2\":{\"__ndarray__\":\"40qrj5c0xz9bRyxWLOzRP7AB/s43Y8U//6VNwyR+zD/IdGuBbv7RPyw6SJX2PNQ/\",\"dtype\":\"float64\",\"order\":\"little\",\"shape\":[6]}},\"selected\":{\"id\":\"53198\"},\"selection_policy\":{\"id\":\"53197\"}},\"id\":\"53141\",\"type\":\"ColumnDataSource\"},{\"attributes\":{\"data\":{\"x\":[2015,2016,2017,2018,2019,2020],\"y\":{\"__ndarray__\":\"mpmZmZmZuT8AAAAAAAAAAAAAAAAAAAAAuB6F61G4nj8AAAAAAAAAAJqZmZmZmak/\",\"dtype\":\"float64\",\"order\":\"little\",\"shape\":[6]}},\"selected\":{\"id\":\"52413\"},\"selection_policy\":{\"id\":\"52412\"}},\"id\":\"52394\",\"type\":\"ColumnDataSource\"},{\"attributes\":{\"fill_alpha\":{\"value\":0.1},\"fill_color\":{\"value\":\"#f46d43\"},\"hatch_alpha\":{\"value\":0.1},\"hatch_color\":{\"value\":\"#f46d43\"},\"line_alpha\":{\"value\":0.1},\"line_color\":{\"value\":\"#f46d43\"},\"x\":{\"field\":\"x\"},\"y\":{\"field\":\"y\"}},\"id\":\"53086\",\"type\":\"Scatter\"},{\"attributes\":{\"coordinates\":null,\"data_source\":{\"id\":\"52875\"},\"glyph\":{\"id\":\"52876\"},\"group\":null,\"hover_glyph\":null,\"muted_glyph\":{\"id\":\"52878\"},\"nonselection_glyph\":{\"id\":\"52877\"},\"view\":{\"id\":\"52880\"},\"visible\":false},\"id\":\"52879\",\"type\":\"GlyphRenderer\"},{\"attributes\":{\"source\":{\"id\":\"53084\"}},\"id\":\"53089\",\"type\":\"CDSView\"},{\"attributes\":{\"fill_alpha\":0.3,\"fill_color\":\"#d53e4f\",\"hatch_alpha\":{\"value\":0.3},\"hatch_color\":{\"value\":\"#d53e4f\"},\"x\":{\"field\":\"x\"},\"y1\":{\"field\":\"y1\"},\"y2\":{\"field\":\"y2\"}},\"id\":\"53142\",\"type\":\"VArea\"},{\"attributes\":{},\"id\":\"52413\",\"type\":\"Selection\"},{\"attributes\":{},\"id\":\"53138\",\"type\":\"UnionRenderers\"},{\"attributes\":{\"line_alpha\":0.2,\"line_color\":\"violet\",\"line_width\":2,\"x\":{\"field\":\"x\"},\"y\":{\"field\":\"y\"}},\"id\":\"52878\",\"type\":\"Line\"},{\"attributes\":{\"data\":{\"x\":[2015,2016,2017,2018,2019,2020],\"y\":{\"__ndarray__\":\"q4ulZetlzD+fVIyq3Ku6PxmUJMyFvrY/6gH8L1DIwj9TZ2Ir7RDDPxSyEoZsmMM/\",\"dtype\":\"float64\",\"order\":\"little\",\"shape\":[6]}},\"selected\":{\"id\":\"52922\"},\"selection_policy\":{\"id\":\"52921\"}},\"id\":\"52875\",\"type\":\"ColumnDataSource\"},{\"attributes\":{\"source\":{\"id\":\"52875\"}},\"id\":\"52880\",\"type\":\"CDSView\"},{\"attributes\":{\"fill_color\":{\"value\":\"violet\"},\"hatch_color\":{\"value\":\"violet\"},\"line_color\":{\"value\":\"violet\"},\"x\":{\"field\":\"x\"},\"y\":{\"field\":\"y\"}},\"id\":\"52925\",\"type\":\"Scatter\"},{\"attributes\":{},\"id\":\"52921\",\"type\":\"UnionRenderers\"},{\"attributes\":{\"line_alpha\":0.1,\"line_color\":\"violet\",\"line_width\":2,\"x\":{\"field\":\"x\"},\"y\":{\"field\":\"y\"}},\"id\":\"52877\",\"type\":\"Line\"},{\"attributes\":{\"data\":{\"x\":[2015,2016,2017,2018,2019,2020],\"y\":{\"__ndarray__\":\"CtejcD0K1z8AAAAAAADAP+xRuB6F67E/CtejcD0Kxz+amZmZmZnJPzMzMzMzM8M/\",\"dtype\":\"float64\",\"order\":\"little\",\"shape\":[6]}},\"selected\":{\"id\":\"52973\"},\"selection_policy\":{\"id\":\"52972\"}},\"id\":\"52924\",\"type\":\"ColumnDataSource\"},{\"attributes\":{},\"id\":\"52922\",\"type\":\"Selection\"},{\"attributes\":{},\"id\":\"52412\",\"type\":\"UnionRenderers\"},{\"attributes\":{},\"id\":\"52392\",\"type\":\"Selection\"},{\"attributes\":{\"label\":{\"value\":\"actor\"},\"renderers\":[{\"id\":\"52419\"},{\"id\":\"52443\"},{\"id\":\"52468\"}]},\"id\":\"52438\",\"type\":\"LegendItem\"},{\"attributes\":{\"fill_alpha\":0.3,\"fill_color\":\"#66c2a5\",\"hatch_alpha\":{\"value\":0.3},\"hatch_color\":{\"value\":\"#66c2a5\"},\"x\":{\"field\":\"x\"},\"y1\":{\"field\":\"y1\"},\"y2\":{\"field\":\"y2\"}},\"id\":\"52416\",\"type\":\"VArea\"},{\"attributes\":{\"source\":{\"id\":\"52415\"}},\"id\":\"52420\",\"type\":\"CDSView\"},{\"attributes\":{\"source\":{\"id\":\"52375\"}},\"id\":\"52380\",\"type\":\"CDSView\"}],\"root_ids\":[\"52324\"]},\"title\":\"Bokeh Application\",\"version\":\"2.4.2\"}};\n  const render_items = [{\"docid\":\"be0e97fa-9596-4270-9cf9-69b48a258461\",\"root_ids\":[\"52324\"],\"roots\":{\"52324\":\"1244154a-31f7-4ab6-84ac-beacb98ab09e\"}}];\n  root.Bokeh.embed.embed_items_notebook(docs_json, render_items);\n\n  }\n  if (root.Bokeh !== undefined) {\n    embed_document(root);\n  } else {\n    let attempts = 0;\n    const timer = setInterval(function(root) {\n      if (root.Bokeh !== undefined) {\n        clearInterval(timer);\n        embed_document(root);\n      } else {\n        attempts++;\n        if (attempts > 100) {\n          clearInterval(timer);\n          console.log(\"Bokeh: ERROR: Unable to run BokehJS code because BokehJS library is missing\");\n        }\n      }\n    }, 10, root)\n  }\n})(window);",
      "application/vnd.bokehjs_exec.v0+json": ""
     },
     "metadata": {
      "application/vnd.bokehjs_exec.v0+json": {
       "id": "52324"
      }
     },
     "output_type": "display_data"
    }
   ],
   "source": [
    "from bokeh.palettes import Spectral8\n",
    "from bokeh.models import Title\n",
    "from bokeh.plotting import figure, output_file, show\n",
    "\n",
    "p = figure(width=800, height=250, x_axis_type=\"linear\", x_axis_label=\"Year\", y_axis_label='Sentiment')\n",
    "p.add_layout(Title(text='Occupation sentiment', text_font_size=\"16pt\"), 'above')\n",
    "\n",
    "for idx, occ in enumerate([\"politician\", \"actor\", \"journalist\", \"writer\", \"lawyer\", \"LGBTIQ+ rights activist\", \"singer\", \"film director\"]):\n",
    "    ar = p.varea(x=median_data[occ].index, y1=mean_data[occ].values - 1.96 * std_data[occ].values / np.sqrt(counts[occ].values),\n",
    "                 y2=mean_data[occ].values + 1.96 * std_data[occ].values / np.sqrt(counts[occ].values), alpha=0.3, color=Spectral8[idx] if idx!= 5 else \"violet\", legend_label=country)\n",
    "    line = p.line(mean_data[occ].index, mean_data[occ].values, line_width=2, color=Spectral8[idx] if idx!= 5 else \"violet\", alpha=0.8, legend_label=occ)\n",
    "    scatter = p.scatter(median_data[occ].index, median_data[occ].values, color=Spectral8[idx] if idx!= 5 else \"violet\", alpha=1, legend_label=occ)\n",
    "    if idx > 0:\n",
    "        line.visible = False\n",
    "        ar.visible = False\n",
    "        scatter.visible = False\n",
    "\n",
    "p.legend.location = \"top_left\"\n",
    "p.add_layout(p.legend[0], 'right')\n",
    "p.legend.click_policy=\"hide\"\n",
    "\n",
    "output_file(\"median_mean_countries.html\")\n",
    "\n",
    "show(p)\n"
   ],
   "metadata": {
    "collapsed": false,
    "pycharm": {
     "name": "#%%\n"
    }
   }
  },
  {
   "cell_type": "code",
   "execution_count": 257,
   "outputs": [
    {
     "data": {
      "application/vnd.plotly.v1+json": {
       "data": [
        {
         "marker": {
          "color": [
           "#9e0142",
           "#d53e4f",
           "#f46d43",
           "#fdae61",
           "#fee08b",
           "#e6f598",
           "#abdda4",
           "#66c2a5",
           "#3288bd",
           "#5e4fa2"
          ]
         },
         "x": [
          "United States of America",
          "United Kingdom",
          "Australia",
          "Canada",
          "India",
          "Philippines",
          "Ireland",
          "New Zealand",
          "Germany",
          "South Africa"
         ],
         "y": [
          70307,
          14561,
          7230,
          4475,
          2585,
          2020,
          1672,
          894,
          689,
          685
         ],
         "type": "bar",
         "xaxis": "x",
         "yaxis": "y"
        },
        {
         "marker": {
          "color": [
           "#9e0142",
           "#d53e4f",
           "#f46d43",
           "#fdae61",
           "#fee08b",
           "#e6f598",
           "#abdda4",
           "#66c2a5",
           "#3288bd",
           "#5e4fa2"
          ]
         },
         "x": [
          "politician",
          "actor",
          "journalist",
          "writer",
          "lawyer",
          "LGBTIQ+ rights activist",
          "singer",
          "association football player",
          "singer-songwriter",
          "film director"
         ],
         "y": [
          24408,
          11572,
          6400,
          4718,
          3579,
          3284,
          3085,
          2841,
          2166,
          2099
         ],
         "type": "bar",
         "xaxis": "x2",
         "yaxis": "y2"
        }
       ],
       "layout": {
        "template": {
         "data": {
          "barpolar": [
           {
            "marker": {
             "line": {
              "color": "white",
              "width": 0.5
             },
             "pattern": {
              "fillmode": "overlay",
              "size": 10,
              "solidity": 0.2
             }
            },
            "type": "barpolar"
           }
          ],
          "bar": [
           {
            "error_x": {
             "color": "#2a3f5f"
            },
            "error_y": {
             "color": "#2a3f5f"
            },
            "marker": {
             "line": {
              "color": "white",
              "width": 0.5
             },
             "pattern": {
              "fillmode": "overlay",
              "size": 10,
              "solidity": 0.2
             }
            },
            "type": "bar"
           }
          ],
          "carpet": [
           {
            "aaxis": {
             "endlinecolor": "#2a3f5f",
             "gridcolor": "#C8D4E3",
             "linecolor": "#C8D4E3",
             "minorgridcolor": "#C8D4E3",
             "startlinecolor": "#2a3f5f"
            },
            "baxis": {
             "endlinecolor": "#2a3f5f",
             "gridcolor": "#C8D4E3",
             "linecolor": "#C8D4E3",
             "minorgridcolor": "#C8D4E3",
             "startlinecolor": "#2a3f5f"
            },
            "type": "carpet"
           }
          ],
          "choropleth": [
           {
            "colorbar": {
             "outlinewidth": 0,
             "ticks": ""
            },
            "type": "choropleth"
           }
          ],
          "contourcarpet": [
           {
            "colorbar": {
             "outlinewidth": 0,
             "ticks": ""
            },
            "type": "contourcarpet"
           }
          ],
          "contour": [
           {
            "colorbar": {
             "outlinewidth": 0,
             "ticks": ""
            },
            "colorscale": [
             [
              0.0,
              "#0d0887"
             ],
             [
              0.1111111111111111,
              "#46039f"
             ],
             [
              0.2222222222222222,
              "#7201a8"
             ],
             [
              0.3333333333333333,
              "#9c179e"
             ],
             [
              0.4444444444444444,
              "#bd3786"
             ],
             [
              0.5555555555555556,
              "#d8576b"
             ],
             [
              0.6666666666666666,
              "#ed7953"
             ],
             [
              0.7777777777777778,
              "#fb9f3a"
             ],
             [
              0.8888888888888888,
              "#fdca26"
             ],
             [
              1.0,
              "#f0f921"
             ]
            ],
            "type": "contour"
           }
          ],
          "heatmapgl": [
           {
            "colorbar": {
             "outlinewidth": 0,
             "ticks": ""
            },
            "colorscale": [
             [
              0.0,
              "#0d0887"
             ],
             [
              0.1111111111111111,
              "#46039f"
             ],
             [
              0.2222222222222222,
              "#7201a8"
             ],
             [
              0.3333333333333333,
              "#9c179e"
             ],
             [
              0.4444444444444444,
              "#bd3786"
             ],
             [
              0.5555555555555556,
              "#d8576b"
             ],
             [
              0.6666666666666666,
              "#ed7953"
             ],
             [
              0.7777777777777778,
              "#fb9f3a"
             ],
             [
              0.8888888888888888,
              "#fdca26"
             ],
             [
              1.0,
              "#f0f921"
             ]
            ],
            "type": "heatmapgl"
           }
          ],
          "heatmap": [
           {
            "colorbar": {
             "outlinewidth": 0,
             "ticks": ""
            },
            "colorscale": [
             [
              0.0,
              "#0d0887"
             ],
             [
              0.1111111111111111,
              "#46039f"
             ],
             [
              0.2222222222222222,
              "#7201a8"
             ],
             [
              0.3333333333333333,
              "#9c179e"
             ],
             [
              0.4444444444444444,
              "#bd3786"
             ],
             [
              0.5555555555555556,
              "#d8576b"
             ],
             [
              0.6666666666666666,
              "#ed7953"
             ],
             [
              0.7777777777777778,
              "#fb9f3a"
             ],
             [
              0.8888888888888888,
              "#fdca26"
             ],
             [
              1.0,
              "#f0f921"
             ]
            ],
            "type": "heatmap"
           }
          ],
          "histogram2dcontour": [
           {
            "colorbar": {
             "outlinewidth": 0,
             "ticks": ""
            },
            "colorscale": [
             [
              0.0,
              "#0d0887"
             ],
             [
              0.1111111111111111,
              "#46039f"
             ],
             [
              0.2222222222222222,
              "#7201a8"
             ],
             [
              0.3333333333333333,
              "#9c179e"
             ],
             [
              0.4444444444444444,
              "#bd3786"
             ],
             [
              0.5555555555555556,
              "#d8576b"
             ],
             [
              0.6666666666666666,
              "#ed7953"
             ],
             [
              0.7777777777777778,
              "#fb9f3a"
             ],
             [
              0.8888888888888888,
              "#fdca26"
             ],
             [
              1.0,
              "#f0f921"
             ]
            ],
            "type": "histogram2dcontour"
           }
          ],
          "histogram2d": [
           {
            "colorbar": {
             "outlinewidth": 0,
             "ticks": ""
            },
            "colorscale": [
             [
              0.0,
              "#0d0887"
             ],
             [
              0.1111111111111111,
              "#46039f"
             ],
             [
              0.2222222222222222,
              "#7201a8"
             ],
             [
              0.3333333333333333,
              "#9c179e"
             ],
             [
              0.4444444444444444,
              "#bd3786"
             ],
             [
              0.5555555555555556,
              "#d8576b"
             ],
             [
              0.6666666666666666,
              "#ed7953"
             ],
             [
              0.7777777777777778,
              "#fb9f3a"
             ],
             [
              0.8888888888888888,
              "#fdca26"
             ],
             [
              1.0,
              "#f0f921"
             ]
            ],
            "type": "histogram2d"
           }
          ],
          "histogram": [
           {
            "marker": {
             "pattern": {
              "fillmode": "overlay",
              "size": 10,
              "solidity": 0.2
             }
            },
            "type": "histogram"
           }
          ],
          "mesh3d": [
           {
            "colorbar": {
             "outlinewidth": 0,
             "ticks": ""
            },
            "type": "mesh3d"
           }
          ],
          "parcoords": [
           {
            "line": {
             "colorbar": {
              "outlinewidth": 0,
              "ticks": ""
             }
            },
            "type": "parcoords"
           }
          ],
          "pie": [
           {
            "automargin": true,
            "type": "pie"
           }
          ],
          "scatter3d": [
           {
            "line": {
             "colorbar": {
              "outlinewidth": 0,
              "ticks": ""
             }
            },
            "marker": {
             "colorbar": {
              "outlinewidth": 0,
              "ticks": ""
             }
            },
            "type": "scatter3d"
           }
          ],
          "scattercarpet": [
           {
            "marker": {
             "colorbar": {
              "outlinewidth": 0,
              "ticks": ""
             }
            },
            "type": "scattercarpet"
           }
          ],
          "scattergeo": [
           {
            "marker": {
             "colorbar": {
              "outlinewidth": 0,
              "ticks": ""
             }
            },
            "type": "scattergeo"
           }
          ],
          "scattergl": [
           {
            "marker": {
             "colorbar": {
              "outlinewidth": 0,
              "ticks": ""
             }
            },
            "type": "scattergl"
           }
          ],
          "scattermapbox": [
           {
            "marker": {
             "colorbar": {
              "outlinewidth": 0,
              "ticks": ""
             }
            },
            "type": "scattermapbox"
           }
          ],
          "scatterpolargl": [
           {
            "marker": {
             "colorbar": {
              "outlinewidth": 0,
              "ticks": ""
             }
            },
            "type": "scatterpolargl"
           }
          ],
          "scatterpolar": [
           {
            "marker": {
             "colorbar": {
              "outlinewidth": 0,
              "ticks": ""
             }
            },
            "type": "scatterpolar"
           }
          ],
          "scatter": [
           {
            "marker": {
             "colorbar": {
              "outlinewidth": 0,
              "ticks": ""
             }
            },
            "type": "scatter"
           }
          ],
          "scatterternary": [
           {
            "marker": {
             "colorbar": {
              "outlinewidth": 0,
              "ticks": ""
             }
            },
            "type": "scatterternary"
           }
          ],
          "surface": [
           {
            "colorbar": {
             "outlinewidth": 0,
             "ticks": ""
            },
            "colorscale": [
             [
              0.0,
              "#0d0887"
             ],
             [
              0.1111111111111111,
              "#46039f"
             ],
             [
              0.2222222222222222,
              "#7201a8"
             ],
             [
              0.3333333333333333,
              "#9c179e"
             ],
             [
              0.4444444444444444,
              "#bd3786"
             ],
             [
              0.5555555555555556,
              "#d8576b"
             ],
             [
              0.6666666666666666,
              "#ed7953"
             ],
             [
              0.7777777777777778,
              "#fb9f3a"
             ],
             [
              0.8888888888888888,
              "#fdca26"
             ],
             [
              1.0,
              "#f0f921"
             ]
            ],
            "type": "surface"
           }
          ],
          "table": [
           {
            "cells": {
             "fill": {
              "color": "#EBF0F8"
             },
             "line": {
              "color": "white"
             }
            },
            "header": {
             "fill": {
              "color": "#C8D4E3"
             },
             "line": {
              "color": "white"
             }
            },
            "type": "table"
           }
          ]
         },
         "layout": {
          "annotationdefaults": {
           "arrowcolor": "#2a3f5f",
           "arrowhead": 0,
           "arrowwidth": 1
          },
          "autotypenumbers": "strict",
          "coloraxis": {
           "colorbar": {
            "outlinewidth": 0,
            "ticks": ""
           }
          },
          "colorscale": {
           "diverging": [
            [
             0,
             "#8e0152"
            ],
            [
             0.1,
             "#c51b7d"
            ],
            [
             0.2,
             "#de77ae"
            ],
            [
             0.3,
             "#f1b6da"
            ],
            [
             0.4,
             "#fde0ef"
            ],
            [
             0.5,
             "#f7f7f7"
            ],
            [
             0.6,
             "#e6f5d0"
            ],
            [
             0.7,
             "#b8e186"
            ],
            [
             0.8,
             "#7fbc41"
            ],
            [
             0.9,
             "#4d9221"
            ],
            [
             1,
             "#276419"
            ]
           ],
           "sequential": [
            [
             0.0,
             "#0d0887"
            ],
            [
             0.1111111111111111,
             "#46039f"
            ],
            [
             0.2222222222222222,
             "#7201a8"
            ],
            [
             0.3333333333333333,
             "#9c179e"
            ],
            [
             0.4444444444444444,
             "#bd3786"
            ],
            [
             0.5555555555555556,
             "#d8576b"
            ],
            [
             0.6666666666666666,
             "#ed7953"
            ],
            [
             0.7777777777777778,
             "#fb9f3a"
            ],
            [
             0.8888888888888888,
             "#fdca26"
            ],
            [
             1.0,
             "#f0f921"
            ]
           ],
           "sequentialminus": [
            [
             0.0,
             "#0d0887"
            ],
            [
             0.1111111111111111,
             "#46039f"
            ],
            [
             0.2222222222222222,
             "#7201a8"
            ],
            [
             0.3333333333333333,
             "#9c179e"
            ],
            [
             0.4444444444444444,
             "#bd3786"
            ],
            [
             0.5555555555555556,
             "#d8576b"
            ],
            [
             0.6666666666666666,
             "#ed7953"
            ],
            [
             0.7777777777777778,
             "#fb9f3a"
            ],
            [
             0.8888888888888888,
             "#fdca26"
            ],
            [
             1.0,
             "#f0f921"
            ]
           ]
          },
          "colorway": [
           "#636efa",
           "#EF553B",
           "#00cc96",
           "#ab63fa",
           "#FFA15A",
           "#19d3f3",
           "#FF6692",
           "#B6E880",
           "#FF97FF",
           "#FECB52"
          ],
          "font": {
           "color": "#2a3f5f"
          },
          "geo": {
           "bgcolor": "white",
           "lakecolor": "white",
           "landcolor": "white",
           "showlakes": true,
           "showland": true,
           "subunitcolor": "#C8D4E3"
          },
          "hoverlabel": {
           "align": "left"
          },
          "hovermode": "closest",
          "mapbox": {
           "style": "light"
          },
          "paper_bgcolor": "white",
          "plot_bgcolor": "white",
          "polar": {
           "angularaxis": {
            "gridcolor": "#EBF0F8",
            "linecolor": "#EBF0F8",
            "ticks": ""
           },
           "bgcolor": "white",
           "radialaxis": {
            "gridcolor": "#EBF0F8",
            "linecolor": "#EBF0F8",
            "ticks": ""
           }
          },
          "scene": {
           "xaxis": {
            "backgroundcolor": "white",
            "gridcolor": "#DFE8F3",
            "gridwidth": 2,
            "linecolor": "#EBF0F8",
            "showbackground": true,
            "ticks": "",
            "zerolinecolor": "#EBF0F8"
           },
           "yaxis": {
            "backgroundcolor": "white",
            "gridcolor": "#DFE8F3",
            "gridwidth": 2,
            "linecolor": "#EBF0F8",
            "showbackground": true,
            "ticks": "",
            "zerolinecolor": "#EBF0F8"
           },
           "zaxis": {
            "backgroundcolor": "white",
            "gridcolor": "#DFE8F3",
            "gridwidth": 2,
            "linecolor": "#EBF0F8",
            "showbackground": true,
            "ticks": "",
            "zerolinecolor": "#EBF0F8"
           }
          },
          "shapedefaults": {
           "line": {
            "color": "#2a3f5f"
           }
          },
          "ternary": {
           "aaxis": {
            "gridcolor": "#DFE8F3",
            "linecolor": "#A2B1C6",
            "ticks": ""
           },
           "baxis": {
            "gridcolor": "#DFE8F3",
            "linecolor": "#A2B1C6",
            "ticks": ""
           },
           "bgcolor": "white",
           "caxis": {
            "gridcolor": "#DFE8F3",
            "linecolor": "#A2B1C6",
            "ticks": ""
           }
          },
          "title": {
           "x": 0.05
          },
          "xaxis": {
           "automargin": true,
           "gridcolor": "#EBF0F8",
           "linecolor": "#EBF0F8",
           "ticks": "",
           "title": {
            "standoff": 15
           },
           "zerolinecolor": "#EBF0F8",
           "zerolinewidth": 2
          },
          "yaxis": {
           "automargin": true,
           "gridcolor": "#EBF0F8",
           "linecolor": "#EBF0F8",
           "ticks": "",
           "title": {
            "standoff": 15
           },
           "zerolinecolor": "#EBF0F8",
           "zerolinewidth": 2
          }
         }
        },
        "xaxis": {
         "anchor": "y",
         "domain": [
          0.0,
          0.45
         ]
        },
        "yaxis": {
         "anchor": "x",
         "domain": [
          0.0,
          1.0
         ],
         "title": {
          "text": "Quotes"
         }
        },
        "xaxis2": {
         "anchor": "y2",
         "domain": [
          0.55,
          1.0
         ]
        },
        "yaxis2": {
         "anchor": "x2",
         "domain": [
          0.0,
          1.0
         ],
         "title": {
          "text": "Quotes"
         }
        },
        "annotations": [
         {
          "font": {
           "size": 16
          },
          "showarrow": false,
          "text": "Nationality",
          "x": 0.225,
          "xanchor": "center",
          "xref": "paper",
          "y": 1.0,
          "yanchor": "bottom",
          "yref": "paper"
         },
         {
          "font": {
           "size": 16
          },
          "showarrow": false,
          "text": "Occupation",
          "x": 0.775,
          "xanchor": "center",
          "xref": "paper",
          "y": 1.0,
          "yanchor": "bottom",
          "yref": "paper"
         }
        ],
        "title": {
         "text": "Who speaks about LGBT issues more?"
        },
        "showlegend": false
       },
       "config": {
        "plotlyServerURL": "https://plot.ly"
       }
      },
      "text/html": "<div>                            <div id=\"133a39da-68e3-41aa-a87c-2f97f7753d04\" class=\"plotly-graph-div\" style=\"height:525px; width:100%;\"></div>            <script type=\"text/javascript\">                require([\"plotly\"], function(Plotly) {                    window.PLOTLYENV=window.PLOTLYENV || {};                                    if (document.getElementById(\"133a39da-68e3-41aa-a87c-2f97f7753d04\")) {                    Plotly.newPlot(                        \"133a39da-68e3-41aa-a87c-2f97f7753d04\",                        [{\"marker\":{\"color\":[\"#9e0142\",\"#d53e4f\",\"#f46d43\",\"#fdae61\",\"#fee08b\",\"#e6f598\",\"#abdda4\",\"#66c2a5\",\"#3288bd\",\"#5e4fa2\"]},\"x\":[\"United States of America\",\"United Kingdom\",\"Australia\",\"Canada\",\"India\",\"Philippines\",\"Ireland\",\"New Zealand\",\"Germany\",\"South Africa\"],\"y\":[70307,14561,7230,4475,2585,2020,1672,894,689,685],\"type\":\"bar\",\"xaxis\":\"x\",\"yaxis\":\"y\"},{\"marker\":{\"color\":[\"#9e0142\",\"#d53e4f\",\"#f46d43\",\"#fdae61\",\"#fee08b\",\"#e6f598\",\"#abdda4\",\"#66c2a5\",\"#3288bd\",\"#5e4fa2\"]},\"x\":[\"politician\",\"actor\",\"journalist\",\"writer\",\"lawyer\",\"LGBTIQ+ rights activist\",\"singer\",\"association football player\",\"singer-songwriter\",\"film director\"],\"y\":[24408,11572,6400,4718,3579,3284,3085,2841,2166,2099],\"type\":\"bar\",\"xaxis\":\"x2\",\"yaxis\":\"y2\"}],                        {\"template\":{\"data\":{\"barpolar\":[{\"marker\":{\"line\":{\"color\":\"white\",\"width\":0.5},\"pattern\":{\"fillmode\":\"overlay\",\"size\":10,\"solidity\":0.2}},\"type\":\"barpolar\"}],\"bar\":[{\"error_x\":{\"color\":\"#2a3f5f\"},\"error_y\":{\"color\":\"#2a3f5f\"},\"marker\":{\"line\":{\"color\":\"white\",\"width\":0.5},\"pattern\":{\"fillmode\":\"overlay\",\"size\":10,\"solidity\":0.2}},\"type\":\"bar\"}],\"carpet\":[{\"aaxis\":{\"endlinecolor\":\"#2a3f5f\",\"gridcolor\":\"#C8D4E3\",\"linecolor\":\"#C8D4E3\",\"minorgridcolor\":\"#C8D4E3\",\"startlinecolor\":\"#2a3f5f\"},\"baxis\":{\"endlinecolor\":\"#2a3f5f\",\"gridcolor\":\"#C8D4E3\",\"linecolor\":\"#C8D4E3\",\"minorgridcolor\":\"#C8D4E3\",\"startlinecolor\":\"#2a3f5f\"},\"type\":\"carpet\"}],\"choropleth\":[{\"colorbar\":{\"outlinewidth\":0,\"ticks\":\"\"},\"type\":\"choropleth\"}],\"contourcarpet\":[{\"colorbar\":{\"outlinewidth\":0,\"ticks\":\"\"},\"type\":\"contourcarpet\"}],\"contour\":[{\"colorbar\":{\"outlinewidth\":0,\"ticks\":\"\"},\"colorscale\":[[0.0,\"#0d0887\"],[0.1111111111111111,\"#46039f\"],[0.2222222222222222,\"#7201a8\"],[0.3333333333333333,\"#9c179e\"],[0.4444444444444444,\"#bd3786\"],[0.5555555555555556,\"#d8576b\"],[0.6666666666666666,\"#ed7953\"],[0.7777777777777778,\"#fb9f3a\"],[0.8888888888888888,\"#fdca26\"],[1.0,\"#f0f921\"]],\"type\":\"contour\"}],\"heatmapgl\":[{\"colorbar\":{\"outlinewidth\":0,\"ticks\":\"\"},\"colorscale\":[[0.0,\"#0d0887\"],[0.1111111111111111,\"#46039f\"],[0.2222222222222222,\"#7201a8\"],[0.3333333333333333,\"#9c179e\"],[0.4444444444444444,\"#bd3786\"],[0.5555555555555556,\"#d8576b\"],[0.6666666666666666,\"#ed7953\"],[0.7777777777777778,\"#fb9f3a\"],[0.8888888888888888,\"#fdca26\"],[1.0,\"#f0f921\"]],\"type\":\"heatmapgl\"}],\"heatmap\":[{\"colorbar\":{\"outlinewidth\":0,\"ticks\":\"\"},\"colorscale\":[[0.0,\"#0d0887\"],[0.1111111111111111,\"#46039f\"],[0.2222222222222222,\"#7201a8\"],[0.3333333333333333,\"#9c179e\"],[0.4444444444444444,\"#bd3786\"],[0.5555555555555556,\"#d8576b\"],[0.6666666666666666,\"#ed7953\"],[0.7777777777777778,\"#fb9f3a\"],[0.8888888888888888,\"#fdca26\"],[1.0,\"#f0f921\"]],\"type\":\"heatmap\"}],\"histogram2dcontour\":[{\"colorbar\":{\"outlinewidth\":0,\"ticks\":\"\"},\"colorscale\":[[0.0,\"#0d0887\"],[0.1111111111111111,\"#46039f\"],[0.2222222222222222,\"#7201a8\"],[0.3333333333333333,\"#9c179e\"],[0.4444444444444444,\"#bd3786\"],[0.5555555555555556,\"#d8576b\"],[0.6666666666666666,\"#ed7953\"],[0.7777777777777778,\"#fb9f3a\"],[0.8888888888888888,\"#fdca26\"],[1.0,\"#f0f921\"]],\"type\":\"histogram2dcontour\"}],\"histogram2d\":[{\"colorbar\":{\"outlinewidth\":0,\"ticks\":\"\"},\"colorscale\":[[0.0,\"#0d0887\"],[0.1111111111111111,\"#46039f\"],[0.2222222222222222,\"#7201a8\"],[0.3333333333333333,\"#9c179e\"],[0.4444444444444444,\"#bd3786\"],[0.5555555555555556,\"#d8576b\"],[0.6666666666666666,\"#ed7953\"],[0.7777777777777778,\"#fb9f3a\"],[0.8888888888888888,\"#fdca26\"],[1.0,\"#f0f921\"]],\"type\":\"histogram2d\"}],\"histogram\":[{\"marker\":{\"pattern\":{\"fillmode\":\"overlay\",\"size\":10,\"solidity\":0.2}},\"type\":\"histogram\"}],\"mesh3d\":[{\"colorbar\":{\"outlinewidth\":0,\"ticks\":\"\"},\"type\":\"mesh3d\"}],\"parcoords\":[{\"line\":{\"colorbar\":{\"outlinewidth\":0,\"ticks\":\"\"}},\"type\":\"parcoords\"}],\"pie\":[{\"automargin\":true,\"type\":\"pie\"}],\"scatter3d\":[{\"line\":{\"colorbar\":{\"outlinewidth\":0,\"ticks\":\"\"}},\"marker\":{\"colorbar\":{\"outlinewidth\":0,\"ticks\":\"\"}},\"type\":\"scatter3d\"}],\"scattercarpet\":[{\"marker\":{\"colorbar\":{\"outlinewidth\":0,\"ticks\":\"\"}},\"type\":\"scattercarpet\"}],\"scattergeo\":[{\"marker\":{\"colorbar\":{\"outlinewidth\":0,\"ticks\":\"\"}},\"type\":\"scattergeo\"}],\"scattergl\":[{\"marker\":{\"colorbar\":{\"outlinewidth\":0,\"ticks\":\"\"}},\"type\":\"scattergl\"}],\"scattermapbox\":[{\"marker\":{\"colorbar\":{\"outlinewidth\":0,\"ticks\":\"\"}},\"type\":\"scattermapbox\"}],\"scatterpolargl\":[{\"marker\":{\"colorbar\":{\"outlinewidth\":0,\"ticks\":\"\"}},\"type\":\"scatterpolargl\"}],\"scatterpolar\":[{\"marker\":{\"colorbar\":{\"outlinewidth\":0,\"ticks\":\"\"}},\"type\":\"scatterpolar\"}],\"scatter\":[{\"marker\":{\"colorbar\":{\"outlinewidth\":0,\"ticks\":\"\"}},\"type\":\"scatter\"}],\"scatterternary\":[{\"marker\":{\"colorbar\":{\"outlinewidth\":0,\"ticks\":\"\"}},\"type\":\"scatterternary\"}],\"surface\":[{\"colorbar\":{\"outlinewidth\":0,\"ticks\":\"\"},\"colorscale\":[[0.0,\"#0d0887\"],[0.1111111111111111,\"#46039f\"],[0.2222222222222222,\"#7201a8\"],[0.3333333333333333,\"#9c179e\"],[0.4444444444444444,\"#bd3786\"],[0.5555555555555556,\"#d8576b\"],[0.6666666666666666,\"#ed7953\"],[0.7777777777777778,\"#fb9f3a\"],[0.8888888888888888,\"#fdca26\"],[1.0,\"#f0f921\"]],\"type\":\"surface\"}],\"table\":[{\"cells\":{\"fill\":{\"color\":\"#EBF0F8\"},\"line\":{\"color\":\"white\"}},\"header\":{\"fill\":{\"color\":\"#C8D4E3\"},\"line\":{\"color\":\"white\"}},\"type\":\"table\"}]},\"layout\":{\"annotationdefaults\":{\"arrowcolor\":\"#2a3f5f\",\"arrowhead\":0,\"arrowwidth\":1},\"autotypenumbers\":\"strict\",\"coloraxis\":{\"colorbar\":{\"outlinewidth\":0,\"ticks\":\"\"}},\"colorscale\":{\"diverging\":[[0,\"#8e0152\"],[0.1,\"#c51b7d\"],[0.2,\"#de77ae\"],[0.3,\"#f1b6da\"],[0.4,\"#fde0ef\"],[0.5,\"#f7f7f7\"],[0.6,\"#e6f5d0\"],[0.7,\"#b8e186\"],[0.8,\"#7fbc41\"],[0.9,\"#4d9221\"],[1,\"#276419\"]],\"sequential\":[[0.0,\"#0d0887\"],[0.1111111111111111,\"#46039f\"],[0.2222222222222222,\"#7201a8\"],[0.3333333333333333,\"#9c179e\"],[0.4444444444444444,\"#bd3786\"],[0.5555555555555556,\"#d8576b\"],[0.6666666666666666,\"#ed7953\"],[0.7777777777777778,\"#fb9f3a\"],[0.8888888888888888,\"#fdca26\"],[1.0,\"#f0f921\"]],\"sequentialminus\":[[0.0,\"#0d0887\"],[0.1111111111111111,\"#46039f\"],[0.2222222222222222,\"#7201a8\"],[0.3333333333333333,\"#9c179e\"],[0.4444444444444444,\"#bd3786\"],[0.5555555555555556,\"#d8576b\"],[0.6666666666666666,\"#ed7953\"],[0.7777777777777778,\"#fb9f3a\"],[0.8888888888888888,\"#fdca26\"],[1.0,\"#f0f921\"]]},\"colorway\":[\"#636efa\",\"#EF553B\",\"#00cc96\",\"#ab63fa\",\"#FFA15A\",\"#19d3f3\",\"#FF6692\",\"#B6E880\",\"#FF97FF\",\"#FECB52\"],\"font\":{\"color\":\"#2a3f5f\"},\"geo\":{\"bgcolor\":\"white\",\"lakecolor\":\"white\",\"landcolor\":\"white\",\"showlakes\":true,\"showland\":true,\"subunitcolor\":\"#C8D4E3\"},\"hoverlabel\":{\"align\":\"left\"},\"hovermode\":\"closest\",\"mapbox\":{\"style\":\"light\"},\"paper_bgcolor\":\"white\",\"plot_bgcolor\":\"white\",\"polar\":{\"angularaxis\":{\"gridcolor\":\"#EBF0F8\",\"linecolor\":\"#EBF0F8\",\"ticks\":\"\"},\"bgcolor\":\"white\",\"radialaxis\":{\"gridcolor\":\"#EBF0F8\",\"linecolor\":\"#EBF0F8\",\"ticks\":\"\"}},\"scene\":{\"xaxis\":{\"backgroundcolor\":\"white\",\"gridcolor\":\"#DFE8F3\",\"gridwidth\":2,\"linecolor\":\"#EBF0F8\",\"showbackground\":true,\"ticks\":\"\",\"zerolinecolor\":\"#EBF0F8\"},\"yaxis\":{\"backgroundcolor\":\"white\",\"gridcolor\":\"#DFE8F3\",\"gridwidth\":2,\"linecolor\":\"#EBF0F8\",\"showbackground\":true,\"ticks\":\"\",\"zerolinecolor\":\"#EBF0F8\"},\"zaxis\":{\"backgroundcolor\":\"white\",\"gridcolor\":\"#DFE8F3\",\"gridwidth\":2,\"linecolor\":\"#EBF0F8\",\"showbackground\":true,\"ticks\":\"\",\"zerolinecolor\":\"#EBF0F8\"}},\"shapedefaults\":{\"line\":{\"color\":\"#2a3f5f\"}},\"ternary\":{\"aaxis\":{\"gridcolor\":\"#DFE8F3\",\"linecolor\":\"#A2B1C6\",\"ticks\":\"\"},\"baxis\":{\"gridcolor\":\"#DFE8F3\",\"linecolor\":\"#A2B1C6\",\"ticks\":\"\"},\"bgcolor\":\"white\",\"caxis\":{\"gridcolor\":\"#DFE8F3\",\"linecolor\":\"#A2B1C6\",\"ticks\":\"\"}},\"title\":{\"x\":0.05},\"xaxis\":{\"automargin\":true,\"gridcolor\":\"#EBF0F8\",\"linecolor\":\"#EBF0F8\",\"ticks\":\"\",\"title\":{\"standoff\":15},\"zerolinecolor\":\"#EBF0F8\",\"zerolinewidth\":2},\"yaxis\":{\"automargin\":true,\"gridcolor\":\"#EBF0F8\",\"linecolor\":\"#EBF0F8\",\"ticks\":\"\",\"title\":{\"standoff\":15},\"zerolinecolor\":\"#EBF0F8\",\"zerolinewidth\":2}}},\"xaxis\":{\"anchor\":\"y\",\"domain\":[0.0,0.45]},\"yaxis\":{\"anchor\":\"x\",\"domain\":[0.0,1.0],\"title\":{\"text\":\"Quotes\"}},\"xaxis2\":{\"anchor\":\"y2\",\"domain\":[0.55,1.0]},\"yaxis2\":{\"anchor\":\"x2\",\"domain\":[0.0,1.0],\"title\":{\"text\":\"Quotes\"}},\"annotations\":[{\"font\":{\"size\":16},\"showarrow\":false,\"text\":\"Nationality\",\"x\":0.225,\"xanchor\":\"center\",\"xref\":\"paper\",\"y\":1.0,\"yanchor\":\"bottom\",\"yref\":\"paper\"},{\"font\":{\"size\":16},\"showarrow\":false,\"text\":\"Occupation\",\"x\":0.775,\"xanchor\":\"center\",\"xref\":\"paper\",\"y\":1.0,\"yanchor\":\"bottom\",\"yref\":\"paper\"}],\"title\":{\"text\":\"Who speaks about LGBT issues more?\"},\"showlegend\":false},                        {\"responsive\": true}                    ).then(function(){\n                            \nvar gd = document.getElementById('133a39da-68e3-41aa-a87c-2f97f7753d04');\nvar x = new MutationObserver(function (mutations, observer) {{\n        var display = window.getComputedStyle(gd).display;\n        if (!display || display === 'none') {{\n            console.log([gd, 'removed!']);\n            Plotly.purge(gd);\n            observer.disconnect();\n        }}\n}});\n\n// Listen for the removal of the full notebook cells\nvar notebookContainer = gd.closest('#notebook-container');\nif (notebookContainer) {{\n    x.observe(notebookContainer, {childList: true});\n}}\n\n// Listen for the clearing of the current output cell\nvar outputEl = gd.closest('.output');\nif (outputEl) {{\n    x.observe(outputEl, {childList: true});\n}}\n\n                        })                };                });            </script>        </div>"
     },
     "metadata": {},
     "output_type": "display_data"
    }
   ],
   "source": [
    "import plotly.graph_objects as go\n",
    "from plotly.subplots import make_subplots\n",
    "from bokeh.palettes import Spectral10\n",
    "\n",
    "nats = data.nationality.value_counts()[:10]\n",
    "occs = data.occupation.value_counts()[:10]\n",
    "# data_ = data.copy()\n",
    "# data_[\"nationality\"][~data_.nationality.isin(nats.index)] = \"Other\"\n",
    "# data_[\"occupation\"][~data_.occupation.isin(occs.index)] = \"Other\"\n",
    "# nats = data_.nationality.value_counts()[:10]\n",
    "# occs = data_.occupation.value_counts()[:10]\n",
    "fig = make_subplots(rows=1, cols=2, subplot_titles=(\"Nationality\", \"Occupation\"))\n",
    "# fig.add_trace(go.Pie(labels=nats.index[:10], values=nats.values[:10], name=\"Nationality\"),\n",
    "#               1, 1)\n",
    "# fig.add_trace(go.Pie(labels=occs.index[:10], values=occs.values[:10], name=\"Occupation\"),\n",
    "#               1, 2)\n",
    "fig.add_trace(go.Bar(x=nats.index, y=nats.values, marker={'color': Spectral10[::-1]}),\n",
    "              1, 1)\n",
    "fig.add_trace(go.Bar(x=occs.index, y=occs.values, marker={'color': Spectral10[::-1]}),\n",
    "              1, 2)\n",
    "fig.update_yaxes(title_text='Quotes')\n",
    "# Use `hole` to create a donut-like pie chart\n",
    "# fig.update_traces(hole=.4, hoverinfo=\"label+percent+name\")\n",
    "\n",
    "fig.update_layout(template=\"plotly_white\",\n",
    "    title_text=\"\"\"Who speaks about LGBT issues more?\"\"\", showlegend=False)\n",
    "    # Add annotations in the center of the donut pies.)\n",
    "fig.write_html(\"occ_nats_dictribution.html\")\n",
    "fig.show()"
   ],
   "metadata": {
    "collapsed": false,
    "pycharm": {
     "name": "#%%\n"
    }
   }
  },
  {
   "cell_type": "code",
   "execution_count": 275,
   "outputs": [],
   "source": [
    "data.drop(data[data.date_of_birth == ''].index, inplace=True)\n",
    "data[\"age\"] = data.quote_year.astype(int) - data.date_of_birth.astype(int)\n",
    "data[\"round_\"] = data.Sentiment.round(1)\n",
    "younger = data[data.age < 30][\"round_\"].value_counts()\n",
    "older = data[data.age > 60][\"round_\"].value_counts()"
   ],
   "metadata": {
    "collapsed": false,
    "pycharm": {
     "name": "#%%\n"
    }
   }
  },
  {
   "cell_type": "code",
   "execution_count": 276,
   "outputs": [
    {
     "data": {
      "application/vnd.plotly.v1+json": {
       "data": [
        {
         "labels": [
          0.0,
          0.9,
          0.8,
          0.6,
          0.4,
          0.7,
          0.5,
          0.3,
          0.2,
          -0.6,
          -0.5,
          -0.3,
          -0.4,
          1.0,
          -0.2,
          -0.8,
          -0.7,
          -0.9,
          0.1,
          -0.1,
          -1.0
         ],
         "name": "<30>",
         "values": [
          2130,
          1009,
          896,
          762,
          743,
          684,
          618,
          421,
          416,
          409,
          380,
          374,
          338,
          337,
          316,
          314,
          308,
          301,
          280,
          243,
          53
         ],
         "type": "pie",
         "domain": {
          "x": [
           0.0,
           0.45
          ],
          "y": [
           0.0,
           1.0
          ]
         },
         "hole": 0.4,
         "hoverinfo": "label+percent+name"
        },
        {
         "labels": [
          0.0,
          0.4,
          0.8,
          0.9,
          0.6,
          0.7,
          0.5,
          -0.6,
          0.3,
          0.2,
          -0.5,
          -0.3,
          -0.8,
          -0.4,
          -0.9,
          -0.2,
          -0.7,
          0.1,
          -0.1,
          1.0,
          -1.0
         ],
         "name": ">60",
         "values": [
          6893,
          2287,
          2141,
          2102,
          1998,
          1840,
          1732,
          1432,
          1388,
          1385,
          1343,
          1339,
          1320,
          1313,
          1116,
          1107,
          1088,
          1045,
          839,
          621,
          284
         ],
         "type": "pie",
         "domain": {
          "x": [
           0.55,
           1.0
          ],
          "y": [
           0.0,
           1.0
          ]
         },
         "hole": 0.4,
         "hoverinfo": "label+percent+name"
        }
       ],
       "layout": {
        "template": {
         "data": {
          "barpolar": [
           {
            "marker": {
             "line": {
              "color": "white",
              "width": 0.5
             },
             "pattern": {
              "fillmode": "overlay",
              "size": 10,
              "solidity": 0.2
             }
            },
            "type": "barpolar"
           }
          ],
          "bar": [
           {
            "error_x": {
             "color": "#2a3f5f"
            },
            "error_y": {
             "color": "#2a3f5f"
            },
            "marker": {
             "line": {
              "color": "white",
              "width": 0.5
             },
             "pattern": {
              "fillmode": "overlay",
              "size": 10,
              "solidity": 0.2
             }
            },
            "type": "bar"
           }
          ],
          "carpet": [
           {
            "aaxis": {
             "endlinecolor": "#2a3f5f",
             "gridcolor": "#C8D4E3",
             "linecolor": "#C8D4E3",
             "minorgridcolor": "#C8D4E3",
             "startlinecolor": "#2a3f5f"
            },
            "baxis": {
             "endlinecolor": "#2a3f5f",
             "gridcolor": "#C8D4E3",
             "linecolor": "#C8D4E3",
             "minorgridcolor": "#C8D4E3",
             "startlinecolor": "#2a3f5f"
            },
            "type": "carpet"
           }
          ],
          "choropleth": [
           {
            "colorbar": {
             "outlinewidth": 0,
             "ticks": ""
            },
            "type": "choropleth"
           }
          ],
          "contourcarpet": [
           {
            "colorbar": {
             "outlinewidth": 0,
             "ticks": ""
            },
            "type": "contourcarpet"
           }
          ],
          "contour": [
           {
            "colorbar": {
             "outlinewidth": 0,
             "ticks": ""
            },
            "colorscale": [
             [
              0.0,
              "#0d0887"
             ],
             [
              0.1111111111111111,
              "#46039f"
             ],
             [
              0.2222222222222222,
              "#7201a8"
             ],
             [
              0.3333333333333333,
              "#9c179e"
             ],
             [
              0.4444444444444444,
              "#bd3786"
             ],
             [
              0.5555555555555556,
              "#d8576b"
             ],
             [
              0.6666666666666666,
              "#ed7953"
             ],
             [
              0.7777777777777778,
              "#fb9f3a"
             ],
             [
              0.8888888888888888,
              "#fdca26"
             ],
             [
              1.0,
              "#f0f921"
             ]
            ],
            "type": "contour"
           }
          ],
          "heatmapgl": [
           {
            "colorbar": {
             "outlinewidth": 0,
             "ticks": ""
            },
            "colorscale": [
             [
              0.0,
              "#0d0887"
             ],
             [
              0.1111111111111111,
              "#46039f"
             ],
             [
              0.2222222222222222,
              "#7201a8"
             ],
             [
              0.3333333333333333,
              "#9c179e"
             ],
             [
              0.4444444444444444,
              "#bd3786"
             ],
             [
              0.5555555555555556,
              "#d8576b"
             ],
             [
              0.6666666666666666,
              "#ed7953"
             ],
             [
              0.7777777777777778,
              "#fb9f3a"
             ],
             [
              0.8888888888888888,
              "#fdca26"
             ],
             [
              1.0,
              "#f0f921"
             ]
            ],
            "type": "heatmapgl"
           }
          ],
          "heatmap": [
           {
            "colorbar": {
             "outlinewidth": 0,
             "ticks": ""
            },
            "colorscale": [
             [
              0.0,
              "#0d0887"
             ],
             [
              0.1111111111111111,
              "#46039f"
             ],
             [
              0.2222222222222222,
              "#7201a8"
             ],
             [
              0.3333333333333333,
              "#9c179e"
             ],
             [
              0.4444444444444444,
              "#bd3786"
             ],
             [
              0.5555555555555556,
              "#d8576b"
             ],
             [
              0.6666666666666666,
              "#ed7953"
             ],
             [
              0.7777777777777778,
              "#fb9f3a"
             ],
             [
              0.8888888888888888,
              "#fdca26"
             ],
             [
              1.0,
              "#f0f921"
             ]
            ],
            "type": "heatmap"
           }
          ],
          "histogram2dcontour": [
           {
            "colorbar": {
             "outlinewidth": 0,
             "ticks": ""
            },
            "colorscale": [
             [
              0.0,
              "#0d0887"
             ],
             [
              0.1111111111111111,
              "#46039f"
             ],
             [
              0.2222222222222222,
              "#7201a8"
             ],
             [
              0.3333333333333333,
              "#9c179e"
             ],
             [
              0.4444444444444444,
              "#bd3786"
             ],
             [
              0.5555555555555556,
              "#d8576b"
             ],
             [
              0.6666666666666666,
              "#ed7953"
             ],
             [
              0.7777777777777778,
              "#fb9f3a"
             ],
             [
              0.8888888888888888,
              "#fdca26"
             ],
             [
              1.0,
              "#f0f921"
             ]
            ],
            "type": "histogram2dcontour"
           }
          ],
          "histogram2d": [
           {
            "colorbar": {
             "outlinewidth": 0,
             "ticks": ""
            },
            "colorscale": [
             [
              0.0,
              "#0d0887"
             ],
             [
              0.1111111111111111,
              "#46039f"
             ],
             [
              0.2222222222222222,
              "#7201a8"
             ],
             [
              0.3333333333333333,
              "#9c179e"
             ],
             [
              0.4444444444444444,
              "#bd3786"
             ],
             [
              0.5555555555555556,
              "#d8576b"
             ],
             [
              0.6666666666666666,
              "#ed7953"
             ],
             [
              0.7777777777777778,
              "#fb9f3a"
             ],
             [
              0.8888888888888888,
              "#fdca26"
             ],
             [
              1.0,
              "#f0f921"
             ]
            ],
            "type": "histogram2d"
           }
          ],
          "histogram": [
           {
            "marker": {
             "pattern": {
              "fillmode": "overlay",
              "size": 10,
              "solidity": 0.2
             }
            },
            "type": "histogram"
           }
          ],
          "mesh3d": [
           {
            "colorbar": {
             "outlinewidth": 0,
             "ticks": ""
            },
            "type": "mesh3d"
           }
          ],
          "parcoords": [
           {
            "line": {
             "colorbar": {
              "outlinewidth": 0,
              "ticks": ""
             }
            },
            "type": "parcoords"
           }
          ],
          "pie": [
           {
            "automargin": true,
            "type": "pie"
           }
          ],
          "scatter3d": [
           {
            "line": {
             "colorbar": {
              "outlinewidth": 0,
              "ticks": ""
             }
            },
            "marker": {
             "colorbar": {
              "outlinewidth": 0,
              "ticks": ""
             }
            },
            "type": "scatter3d"
           }
          ],
          "scattercarpet": [
           {
            "marker": {
             "colorbar": {
              "outlinewidth": 0,
              "ticks": ""
             }
            },
            "type": "scattercarpet"
           }
          ],
          "scattergeo": [
           {
            "marker": {
             "colorbar": {
              "outlinewidth": 0,
              "ticks": ""
             }
            },
            "type": "scattergeo"
           }
          ],
          "scattergl": [
           {
            "marker": {
             "colorbar": {
              "outlinewidth": 0,
              "ticks": ""
             }
            },
            "type": "scattergl"
           }
          ],
          "scattermapbox": [
           {
            "marker": {
             "colorbar": {
              "outlinewidth": 0,
              "ticks": ""
             }
            },
            "type": "scattermapbox"
           }
          ],
          "scatterpolargl": [
           {
            "marker": {
             "colorbar": {
              "outlinewidth": 0,
              "ticks": ""
             }
            },
            "type": "scatterpolargl"
           }
          ],
          "scatterpolar": [
           {
            "marker": {
             "colorbar": {
              "outlinewidth": 0,
              "ticks": ""
             }
            },
            "type": "scatterpolar"
           }
          ],
          "scatter": [
           {
            "marker": {
             "colorbar": {
              "outlinewidth": 0,
              "ticks": ""
             }
            },
            "type": "scatter"
           }
          ],
          "scatterternary": [
           {
            "marker": {
             "colorbar": {
              "outlinewidth": 0,
              "ticks": ""
             }
            },
            "type": "scatterternary"
           }
          ],
          "surface": [
           {
            "colorbar": {
             "outlinewidth": 0,
             "ticks": ""
            },
            "colorscale": [
             [
              0.0,
              "#0d0887"
             ],
             [
              0.1111111111111111,
              "#46039f"
             ],
             [
              0.2222222222222222,
              "#7201a8"
             ],
             [
              0.3333333333333333,
              "#9c179e"
             ],
             [
              0.4444444444444444,
              "#bd3786"
             ],
             [
              0.5555555555555556,
              "#d8576b"
             ],
             [
              0.6666666666666666,
              "#ed7953"
             ],
             [
              0.7777777777777778,
              "#fb9f3a"
             ],
             [
              0.8888888888888888,
              "#fdca26"
             ],
             [
              1.0,
              "#f0f921"
             ]
            ],
            "type": "surface"
           }
          ],
          "table": [
           {
            "cells": {
             "fill": {
              "color": "#EBF0F8"
             },
             "line": {
              "color": "white"
             }
            },
            "header": {
             "fill": {
              "color": "#C8D4E3"
             },
             "line": {
              "color": "white"
             }
            },
            "type": "table"
           }
          ]
         },
         "layout": {
          "annotationdefaults": {
           "arrowcolor": "#2a3f5f",
           "arrowhead": 0,
           "arrowwidth": 1
          },
          "autotypenumbers": "strict",
          "coloraxis": {
           "colorbar": {
            "outlinewidth": 0,
            "ticks": ""
           }
          },
          "colorscale": {
           "diverging": [
            [
             0,
             "#8e0152"
            ],
            [
             0.1,
             "#c51b7d"
            ],
            [
             0.2,
             "#de77ae"
            ],
            [
             0.3,
             "#f1b6da"
            ],
            [
             0.4,
             "#fde0ef"
            ],
            [
             0.5,
             "#f7f7f7"
            ],
            [
             0.6,
             "#e6f5d0"
            ],
            [
             0.7,
             "#b8e186"
            ],
            [
             0.8,
             "#7fbc41"
            ],
            [
             0.9,
             "#4d9221"
            ],
            [
             1,
             "#276419"
            ]
           ],
           "sequential": [
            [
             0.0,
             "#0d0887"
            ],
            [
             0.1111111111111111,
             "#46039f"
            ],
            [
             0.2222222222222222,
             "#7201a8"
            ],
            [
             0.3333333333333333,
             "#9c179e"
            ],
            [
             0.4444444444444444,
             "#bd3786"
            ],
            [
             0.5555555555555556,
             "#d8576b"
            ],
            [
             0.6666666666666666,
             "#ed7953"
            ],
            [
             0.7777777777777778,
             "#fb9f3a"
            ],
            [
             0.8888888888888888,
             "#fdca26"
            ],
            [
             1.0,
             "#f0f921"
            ]
           ],
           "sequentialminus": [
            [
             0.0,
             "#0d0887"
            ],
            [
             0.1111111111111111,
             "#46039f"
            ],
            [
             0.2222222222222222,
             "#7201a8"
            ],
            [
             0.3333333333333333,
             "#9c179e"
            ],
            [
             0.4444444444444444,
             "#bd3786"
            ],
            [
             0.5555555555555556,
             "#d8576b"
            ],
            [
             0.6666666666666666,
             "#ed7953"
            ],
            [
             0.7777777777777778,
             "#fb9f3a"
            ],
            [
             0.8888888888888888,
             "#fdca26"
            ],
            [
             1.0,
             "#f0f921"
            ]
           ]
          },
          "colorway": [
           "#636efa",
           "#EF553B",
           "#00cc96",
           "#ab63fa",
           "#FFA15A",
           "#19d3f3",
           "#FF6692",
           "#B6E880",
           "#FF97FF",
           "#FECB52"
          ],
          "font": {
           "color": "#2a3f5f"
          },
          "geo": {
           "bgcolor": "white",
           "lakecolor": "white",
           "landcolor": "white",
           "showlakes": true,
           "showland": true,
           "subunitcolor": "#C8D4E3"
          },
          "hoverlabel": {
           "align": "left"
          },
          "hovermode": "closest",
          "mapbox": {
           "style": "light"
          },
          "paper_bgcolor": "white",
          "plot_bgcolor": "white",
          "polar": {
           "angularaxis": {
            "gridcolor": "#EBF0F8",
            "linecolor": "#EBF0F8",
            "ticks": ""
           },
           "bgcolor": "white",
           "radialaxis": {
            "gridcolor": "#EBF0F8",
            "linecolor": "#EBF0F8",
            "ticks": ""
           }
          },
          "scene": {
           "xaxis": {
            "backgroundcolor": "white",
            "gridcolor": "#DFE8F3",
            "gridwidth": 2,
            "linecolor": "#EBF0F8",
            "showbackground": true,
            "ticks": "",
            "zerolinecolor": "#EBF0F8"
           },
           "yaxis": {
            "backgroundcolor": "white",
            "gridcolor": "#DFE8F3",
            "gridwidth": 2,
            "linecolor": "#EBF0F8",
            "showbackground": true,
            "ticks": "",
            "zerolinecolor": "#EBF0F8"
           },
           "zaxis": {
            "backgroundcolor": "white",
            "gridcolor": "#DFE8F3",
            "gridwidth": 2,
            "linecolor": "#EBF0F8",
            "showbackground": true,
            "ticks": "",
            "zerolinecolor": "#EBF0F8"
           }
          },
          "shapedefaults": {
           "line": {
            "color": "#2a3f5f"
           }
          },
          "ternary": {
           "aaxis": {
            "gridcolor": "#DFE8F3",
            "linecolor": "#A2B1C6",
            "ticks": ""
           },
           "baxis": {
            "gridcolor": "#DFE8F3",
            "linecolor": "#A2B1C6",
            "ticks": ""
           },
           "bgcolor": "white",
           "caxis": {
            "gridcolor": "#DFE8F3",
            "linecolor": "#A2B1C6",
            "ticks": ""
           }
          },
          "title": {
           "x": 0.05
          },
          "xaxis": {
           "automargin": true,
           "gridcolor": "#EBF0F8",
           "linecolor": "#EBF0F8",
           "ticks": "",
           "title": {
            "standoff": 15
           },
           "zerolinecolor": "#EBF0F8",
           "zerolinewidth": 2
          },
          "yaxis": {
           "automargin": true,
           "gridcolor": "#EBF0F8",
           "linecolor": "#EBF0F8",
           "ticks": "",
           "title": {
            "standoff": 15
           },
           "zerolinecolor": "#EBF0F8",
           "zerolinewidth": 2
          }
         }
        },
        "title": {
         "text": "Sentiment depending on age"
        },
        "showlegend": true
       },
       "config": {
        "plotlyServerURL": "https://plot.ly"
       }
      },
      "text/html": "<div>                            <div id=\"f4a2ea1d-2cf2-432f-8c2f-94c4062ae698\" class=\"plotly-graph-div\" style=\"height:525px; width:100%;\"></div>            <script type=\"text/javascript\">                require([\"plotly\"], function(Plotly) {                    window.PLOTLYENV=window.PLOTLYENV || {};                                    if (document.getElementById(\"f4a2ea1d-2cf2-432f-8c2f-94c4062ae698\")) {                    Plotly.newPlot(                        \"f4a2ea1d-2cf2-432f-8c2f-94c4062ae698\",                        [{\"labels\":[0.0,0.9,0.8,0.6,0.4,0.7,0.5,0.3,0.2,-0.6,-0.5,-0.3,-0.4,1.0,-0.2,-0.8,-0.7,-0.9,0.1,-0.1,-1.0],\"name\":\"<30>\",\"values\":[2130,1009,896,762,743,684,618,421,416,409,380,374,338,337,316,314,308,301,280,243,53],\"type\":\"pie\",\"domain\":{\"x\":[0.0,0.45],\"y\":[0.0,1.0]},\"hole\":0.4,\"hoverinfo\":\"label+percent+name\"},{\"labels\":[0.0,0.4,0.8,0.9,0.6,0.7,0.5,-0.6,0.3,0.2,-0.5,-0.3,-0.8,-0.4,-0.9,-0.2,-0.7,0.1,-0.1,1.0,-1.0],\"name\":\">60\",\"values\":[6893,2287,2141,2102,1998,1840,1732,1432,1388,1385,1343,1339,1320,1313,1116,1107,1088,1045,839,621,284],\"type\":\"pie\",\"domain\":{\"x\":[0.55,1.0],\"y\":[0.0,1.0]},\"hole\":0.4,\"hoverinfo\":\"label+percent+name\"}],                        {\"template\":{\"data\":{\"barpolar\":[{\"marker\":{\"line\":{\"color\":\"white\",\"width\":0.5},\"pattern\":{\"fillmode\":\"overlay\",\"size\":10,\"solidity\":0.2}},\"type\":\"barpolar\"}],\"bar\":[{\"error_x\":{\"color\":\"#2a3f5f\"},\"error_y\":{\"color\":\"#2a3f5f\"},\"marker\":{\"line\":{\"color\":\"white\",\"width\":0.5},\"pattern\":{\"fillmode\":\"overlay\",\"size\":10,\"solidity\":0.2}},\"type\":\"bar\"}],\"carpet\":[{\"aaxis\":{\"endlinecolor\":\"#2a3f5f\",\"gridcolor\":\"#C8D4E3\",\"linecolor\":\"#C8D4E3\",\"minorgridcolor\":\"#C8D4E3\",\"startlinecolor\":\"#2a3f5f\"},\"baxis\":{\"endlinecolor\":\"#2a3f5f\",\"gridcolor\":\"#C8D4E3\",\"linecolor\":\"#C8D4E3\",\"minorgridcolor\":\"#C8D4E3\",\"startlinecolor\":\"#2a3f5f\"},\"type\":\"carpet\"}],\"choropleth\":[{\"colorbar\":{\"outlinewidth\":0,\"ticks\":\"\"},\"type\":\"choropleth\"}],\"contourcarpet\":[{\"colorbar\":{\"outlinewidth\":0,\"ticks\":\"\"},\"type\":\"contourcarpet\"}],\"contour\":[{\"colorbar\":{\"outlinewidth\":0,\"ticks\":\"\"},\"colorscale\":[[0.0,\"#0d0887\"],[0.1111111111111111,\"#46039f\"],[0.2222222222222222,\"#7201a8\"],[0.3333333333333333,\"#9c179e\"],[0.4444444444444444,\"#bd3786\"],[0.5555555555555556,\"#d8576b\"],[0.6666666666666666,\"#ed7953\"],[0.7777777777777778,\"#fb9f3a\"],[0.8888888888888888,\"#fdca26\"],[1.0,\"#f0f921\"]],\"type\":\"contour\"}],\"heatmapgl\":[{\"colorbar\":{\"outlinewidth\":0,\"ticks\":\"\"},\"colorscale\":[[0.0,\"#0d0887\"],[0.1111111111111111,\"#46039f\"],[0.2222222222222222,\"#7201a8\"],[0.3333333333333333,\"#9c179e\"],[0.4444444444444444,\"#bd3786\"],[0.5555555555555556,\"#d8576b\"],[0.6666666666666666,\"#ed7953\"],[0.7777777777777778,\"#fb9f3a\"],[0.8888888888888888,\"#fdca26\"],[1.0,\"#f0f921\"]],\"type\":\"heatmapgl\"}],\"heatmap\":[{\"colorbar\":{\"outlinewidth\":0,\"ticks\":\"\"},\"colorscale\":[[0.0,\"#0d0887\"],[0.1111111111111111,\"#46039f\"],[0.2222222222222222,\"#7201a8\"],[0.3333333333333333,\"#9c179e\"],[0.4444444444444444,\"#bd3786\"],[0.5555555555555556,\"#d8576b\"],[0.6666666666666666,\"#ed7953\"],[0.7777777777777778,\"#fb9f3a\"],[0.8888888888888888,\"#fdca26\"],[1.0,\"#f0f921\"]],\"type\":\"heatmap\"}],\"histogram2dcontour\":[{\"colorbar\":{\"outlinewidth\":0,\"ticks\":\"\"},\"colorscale\":[[0.0,\"#0d0887\"],[0.1111111111111111,\"#46039f\"],[0.2222222222222222,\"#7201a8\"],[0.3333333333333333,\"#9c179e\"],[0.4444444444444444,\"#bd3786\"],[0.5555555555555556,\"#d8576b\"],[0.6666666666666666,\"#ed7953\"],[0.7777777777777778,\"#fb9f3a\"],[0.8888888888888888,\"#fdca26\"],[1.0,\"#f0f921\"]],\"type\":\"histogram2dcontour\"}],\"histogram2d\":[{\"colorbar\":{\"outlinewidth\":0,\"ticks\":\"\"},\"colorscale\":[[0.0,\"#0d0887\"],[0.1111111111111111,\"#46039f\"],[0.2222222222222222,\"#7201a8\"],[0.3333333333333333,\"#9c179e\"],[0.4444444444444444,\"#bd3786\"],[0.5555555555555556,\"#d8576b\"],[0.6666666666666666,\"#ed7953\"],[0.7777777777777778,\"#fb9f3a\"],[0.8888888888888888,\"#fdca26\"],[1.0,\"#f0f921\"]],\"type\":\"histogram2d\"}],\"histogram\":[{\"marker\":{\"pattern\":{\"fillmode\":\"overlay\",\"size\":10,\"solidity\":0.2}},\"type\":\"histogram\"}],\"mesh3d\":[{\"colorbar\":{\"outlinewidth\":0,\"ticks\":\"\"},\"type\":\"mesh3d\"}],\"parcoords\":[{\"line\":{\"colorbar\":{\"outlinewidth\":0,\"ticks\":\"\"}},\"type\":\"parcoords\"}],\"pie\":[{\"automargin\":true,\"type\":\"pie\"}],\"scatter3d\":[{\"line\":{\"colorbar\":{\"outlinewidth\":0,\"ticks\":\"\"}},\"marker\":{\"colorbar\":{\"outlinewidth\":0,\"ticks\":\"\"}},\"type\":\"scatter3d\"}],\"scattercarpet\":[{\"marker\":{\"colorbar\":{\"outlinewidth\":0,\"ticks\":\"\"}},\"type\":\"scattercarpet\"}],\"scattergeo\":[{\"marker\":{\"colorbar\":{\"outlinewidth\":0,\"ticks\":\"\"}},\"type\":\"scattergeo\"}],\"scattergl\":[{\"marker\":{\"colorbar\":{\"outlinewidth\":0,\"ticks\":\"\"}},\"type\":\"scattergl\"}],\"scattermapbox\":[{\"marker\":{\"colorbar\":{\"outlinewidth\":0,\"ticks\":\"\"}},\"type\":\"scattermapbox\"}],\"scatterpolargl\":[{\"marker\":{\"colorbar\":{\"outlinewidth\":0,\"ticks\":\"\"}},\"type\":\"scatterpolargl\"}],\"scatterpolar\":[{\"marker\":{\"colorbar\":{\"outlinewidth\":0,\"ticks\":\"\"}},\"type\":\"scatterpolar\"}],\"scatter\":[{\"marker\":{\"colorbar\":{\"outlinewidth\":0,\"ticks\":\"\"}},\"type\":\"scatter\"}],\"scatterternary\":[{\"marker\":{\"colorbar\":{\"outlinewidth\":0,\"ticks\":\"\"}},\"type\":\"scatterternary\"}],\"surface\":[{\"colorbar\":{\"outlinewidth\":0,\"ticks\":\"\"},\"colorscale\":[[0.0,\"#0d0887\"],[0.1111111111111111,\"#46039f\"],[0.2222222222222222,\"#7201a8\"],[0.3333333333333333,\"#9c179e\"],[0.4444444444444444,\"#bd3786\"],[0.5555555555555556,\"#d8576b\"],[0.6666666666666666,\"#ed7953\"],[0.7777777777777778,\"#fb9f3a\"],[0.8888888888888888,\"#fdca26\"],[1.0,\"#f0f921\"]],\"type\":\"surface\"}],\"table\":[{\"cells\":{\"fill\":{\"color\":\"#EBF0F8\"},\"line\":{\"color\":\"white\"}},\"header\":{\"fill\":{\"color\":\"#C8D4E3\"},\"line\":{\"color\":\"white\"}},\"type\":\"table\"}]},\"layout\":{\"annotationdefaults\":{\"arrowcolor\":\"#2a3f5f\",\"arrowhead\":0,\"arrowwidth\":1},\"autotypenumbers\":\"strict\",\"coloraxis\":{\"colorbar\":{\"outlinewidth\":0,\"ticks\":\"\"}},\"colorscale\":{\"diverging\":[[0,\"#8e0152\"],[0.1,\"#c51b7d\"],[0.2,\"#de77ae\"],[0.3,\"#f1b6da\"],[0.4,\"#fde0ef\"],[0.5,\"#f7f7f7\"],[0.6,\"#e6f5d0\"],[0.7,\"#b8e186\"],[0.8,\"#7fbc41\"],[0.9,\"#4d9221\"],[1,\"#276419\"]],\"sequential\":[[0.0,\"#0d0887\"],[0.1111111111111111,\"#46039f\"],[0.2222222222222222,\"#7201a8\"],[0.3333333333333333,\"#9c179e\"],[0.4444444444444444,\"#bd3786\"],[0.5555555555555556,\"#d8576b\"],[0.6666666666666666,\"#ed7953\"],[0.7777777777777778,\"#fb9f3a\"],[0.8888888888888888,\"#fdca26\"],[1.0,\"#f0f921\"]],\"sequentialminus\":[[0.0,\"#0d0887\"],[0.1111111111111111,\"#46039f\"],[0.2222222222222222,\"#7201a8\"],[0.3333333333333333,\"#9c179e\"],[0.4444444444444444,\"#bd3786\"],[0.5555555555555556,\"#d8576b\"],[0.6666666666666666,\"#ed7953\"],[0.7777777777777778,\"#fb9f3a\"],[0.8888888888888888,\"#fdca26\"],[1.0,\"#f0f921\"]]},\"colorway\":[\"#636efa\",\"#EF553B\",\"#00cc96\",\"#ab63fa\",\"#FFA15A\",\"#19d3f3\",\"#FF6692\",\"#B6E880\",\"#FF97FF\",\"#FECB52\"],\"font\":{\"color\":\"#2a3f5f\"},\"geo\":{\"bgcolor\":\"white\",\"lakecolor\":\"white\",\"landcolor\":\"white\",\"showlakes\":true,\"showland\":true,\"subunitcolor\":\"#C8D4E3\"},\"hoverlabel\":{\"align\":\"left\"},\"hovermode\":\"closest\",\"mapbox\":{\"style\":\"light\"},\"paper_bgcolor\":\"white\",\"plot_bgcolor\":\"white\",\"polar\":{\"angularaxis\":{\"gridcolor\":\"#EBF0F8\",\"linecolor\":\"#EBF0F8\",\"ticks\":\"\"},\"bgcolor\":\"white\",\"radialaxis\":{\"gridcolor\":\"#EBF0F8\",\"linecolor\":\"#EBF0F8\",\"ticks\":\"\"}},\"scene\":{\"xaxis\":{\"backgroundcolor\":\"white\",\"gridcolor\":\"#DFE8F3\",\"gridwidth\":2,\"linecolor\":\"#EBF0F8\",\"showbackground\":true,\"ticks\":\"\",\"zerolinecolor\":\"#EBF0F8\"},\"yaxis\":{\"backgroundcolor\":\"white\",\"gridcolor\":\"#DFE8F3\",\"gridwidth\":2,\"linecolor\":\"#EBF0F8\",\"showbackground\":true,\"ticks\":\"\",\"zerolinecolor\":\"#EBF0F8\"},\"zaxis\":{\"backgroundcolor\":\"white\",\"gridcolor\":\"#DFE8F3\",\"gridwidth\":2,\"linecolor\":\"#EBF0F8\",\"showbackground\":true,\"ticks\":\"\",\"zerolinecolor\":\"#EBF0F8\"}},\"shapedefaults\":{\"line\":{\"color\":\"#2a3f5f\"}},\"ternary\":{\"aaxis\":{\"gridcolor\":\"#DFE8F3\",\"linecolor\":\"#A2B1C6\",\"ticks\":\"\"},\"baxis\":{\"gridcolor\":\"#DFE8F3\",\"linecolor\":\"#A2B1C6\",\"ticks\":\"\"},\"bgcolor\":\"white\",\"caxis\":{\"gridcolor\":\"#DFE8F3\",\"linecolor\":\"#A2B1C6\",\"ticks\":\"\"}},\"title\":{\"x\":0.05},\"xaxis\":{\"automargin\":true,\"gridcolor\":\"#EBF0F8\",\"linecolor\":\"#EBF0F8\",\"ticks\":\"\",\"title\":{\"standoff\":15},\"zerolinecolor\":\"#EBF0F8\",\"zerolinewidth\":2},\"yaxis\":{\"automargin\":true,\"gridcolor\":\"#EBF0F8\",\"linecolor\":\"#EBF0F8\",\"ticks\":\"\",\"title\":{\"standoff\":15},\"zerolinecolor\":\"#EBF0F8\",\"zerolinewidth\":2}}},\"title\":{\"text\":\"Sentiment depending on age\"},\"showlegend\":true},                        {\"responsive\": true}                    ).then(function(){\n                            \nvar gd = document.getElementById('f4a2ea1d-2cf2-432f-8c2f-94c4062ae698');\nvar x = new MutationObserver(function (mutations, observer) {{\n        var display = window.getComputedStyle(gd).display;\n        if (!display || display === 'none') {{\n            console.log([gd, 'removed!']);\n            Plotly.purge(gd);\n            observer.disconnect();\n        }}\n}});\n\n// Listen for the removal of the full notebook cells\nvar notebookContainer = gd.closest('#notebook-container');\nif (notebookContainer) {{\n    x.observe(notebookContainer, {childList: true});\n}}\n\n// Listen for the clearing of the current output cell\nvar outputEl = gd.closest('.output');\nif (outputEl) {{\n    x.observe(outputEl, {childList: true});\n}}\n\n                        })                };                });            </script>        </div>"
     },
     "metadata": {},
     "output_type": "display_data"
    }
   ],
   "source": [
    "import plotly.graph_objects as go\n",
    "from plotly.subplots import make_subplots\n",
    "from bokeh.palettes import Spectral10\n",
    "\n",
    "fig = make_subplots(rows=1, cols=2, specs=[[{'type':'domain'}, {'type':'domain'}]])\n",
    "fig.add_trace(go.Pie(labels=younger.index, values=younger.values, name=\"<30>\"),\n",
    "              1, 1)\n",
    "fig.add_trace(go.Pie(labels=older.index, values=older.values, name=\">60\"),\n",
    "              1, 2)\n",
    "# Use `hole` to create a donut-like pie chart\n",
    "fig.update_traces(hole=.4, hoverinfo=\"label+percent+name\")\n",
    "\n",
    "fig.update_layout(template=\"plotly_white\",\n",
    "    title_text=\"Sentiment depending on age\", showlegend=True)\n",
    "    # Add annotations in the center of the donut pies.)\n",
    "# fig.write_html(\"occ_nats_dictribution.html\")\n",
    "fig.show()"
   ],
   "metadata": {
    "collapsed": false,
    "pycharm": {
     "name": "#%%\n"
    }
   }
  },
  {
   "cell_type": "code",
   "execution_count": 296,
   "outputs": [
    {
     "name": "stderr",
     "output_type": "stream",
     "text": [
      "/usr/local/lib/python3.9/site-packages/pandas_bokeh/plot.py:753: Warning:\n",
      "\n",
      "There are NaN values in column 'male'. For the histogram, these rows have been neglected.\n",
      "\n",
      "/usr/local/lib/python3.9/site-packages/pandas_bokeh/plot.py:753: Warning:\n",
      "\n",
      "There are NaN values in column 'female'. For the histogram, these rows have been neglected.\n",
      "\n",
      "/usr/local/lib/python3.9/site-packages/pandas_bokeh/plot.py:753: Warning:\n",
      "\n",
      "There are NaN values in column 'other'. For the histogram, these rows have been neglected.\n",
      "\n"
     ]
    },
    {
     "data": {
      "text/html": "\n\n\n\n\n\n  <div class=\"bk-root\" id=\"e245be89-c780-4486-86bc-0b16d6c5037e\" data-root-id=\"68070\"></div>\n"
     },
     "metadata": {},
     "output_type": "display_data"
    },
    {
     "data": {
      "application/javascript": "(function(root) {\n  function embed_document(root) {\n    \n  const docs_json = {\"faa0141f-f385-4419-861b-53690f7111c8\":{\"defs\":[],\"roots\":{\"references\":[{\"attributes\":{\"below\":[{\"id\":\"68081\"}],\"center\":[{\"id\":\"68084\"},{\"id\":\"68088\"},{\"id\":\"68120\"}],\"height\":400,\"left\":[{\"id\":\"68085\"}],\"output_backend\":\"webgl\",\"renderers\":[{\"id\":\"68108\"},{\"id\":\"68127\"},{\"id\":\"68147\"}],\"sizing_mode\":\"fixed\",\"title\":{\"id\":\"68071\"},\"toolbar\":{\"id\":\"68096\"},\"x_range\":{\"id\":\"68073\"},\"x_scale\":{\"id\":\"68077\"},\"y_range\":{\"id\":\"68075\"},\"y_scale\":{\"id\":\"68079\"}},\"id\":\"68070\",\"subtype\":\"Figure\",\"type\":\"Plot\"},{\"attributes\":{},\"id\":\"68138\",\"type\":\"UnionRenderers\"},{\"attributes\":{},\"id\":\"68160\",\"type\":\"UnionRenderers\"},{\"attributes\":{},\"id\":\"68075\",\"type\":\"DataRange1d\"},{\"attributes\":{},\"id\":\"68113\",\"type\":\"AllLabels\"},{\"attributes\":{\"bottom\":{\"field\":\"bottom\"},\"fill_alpha\":{\"value\":0.6},\"fill_color\":{\"value\":\"#1f77b4\"},\"hatch_alpha\":{\"value\":0.6},\"hatch_color\":{\"value\":\"#1f77b4\"},\"left\":{\"field\":\"left\"},\"line_alpha\":{\"value\":0.6},\"line_color\":{\"value\":null},\"line_width\":{\"value\":2},\"right\":{\"field\":\"right\"},\"top\":{\"field\":\"top\"}},\"id\":\"68105\",\"type\":\"Quad\"},{\"attributes\":{\"coordinates\":null,\"data_source\":{\"id\":\"68103\"},\"glyph\":{\"id\":\"68105\"},\"group\":null,\"hover_glyph\":null,\"muted_glyph\":{\"id\":\"68107\"},\"nonselection_glyph\":{\"id\":\"68106\"},\"view\":{\"id\":\"68109\"}},\"id\":\"68108\",\"type\":\"GlyphRenderer\"},{\"attributes\":{},\"id\":\"68161\",\"type\":\"Selection\"},{\"attributes\":{\"bottom\":{\"field\":\"bottom\"},\"fill_alpha\":{\"value\":0.1},\"fill_color\":{\"value\":\"#1f77b4\"},\"hatch_alpha\":{\"value\":0.1},\"hatch_color\":{\"value\":\"#1f77b4\"},\"left\":{\"field\":\"left\"},\"line_alpha\":{\"value\":0.1},\"line_color\":{\"value\":null},\"line_width\":{\"value\":2},\"right\":{\"field\":\"right\"},\"top\":{\"field\":\"top\"}},\"id\":\"68106\",\"type\":\"Quad\"},{\"attributes\":{},\"id\":\"68115\",\"type\":\"BasicTickFormatter\"},{\"attributes\":{},\"id\":\"68090\",\"type\":\"WheelZoomTool\"},{\"attributes\":{\"axis\":{\"id\":\"68081\"},\"coordinates\":null,\"group\":null,\"ticker\":null},\"id\":\"68084\",\"type\":\"Grid\"},{\"attributes\":{\"bottom\":{\"field\":\"bottom\"},\"fill_alpha\":{\"value\":0.2},\"fill_color\":{\"value\":\"#1f77b4\"},\"hatch_alpha\":{\"value\":0.2},\"hatch_color\":{\"value\":\"#1f77b4\"},\"left\":{\"field\":\"left\"},\"line_alpha\":{\"value\":0.2},\"line_color\":{\"value\":null},\"line_width\":{\"value\":2},\"right\":{\"field\":\"right\"},\"top\":{\"field\":\"top\"}},\"id\":\"68107\",\"type\":\"Quad\"},{\"attributes\":{},\"id\":\"68073\",\"type\":\"DataRange1d\"},{\"attributes\":{},\"id\":\"68116\",\"type\":\"AllLabels\"},{\"attributes\":{},\"id\":\"68094\",\"type\":\"HelpTool\"},{\"attributes\":{\"source\":{\"id\":\"68103\"}},\"id\":\"68109\",\"type\":\"CDSView\"},{\"attributes\":{\"click_policy\":\"hide\",\"coordinates\":null,\"group\":null,\"items\":[{\"id\":\"68121\"},{\"id\":\"68141\"},{\"id\":\"68163\"}]},\"id\":\"68120\",\"type\":\"Legend\"},{\"attributes\":{},\"id\":\"68077\",\"type\":\"LinearScale\"},{\"attributes\":{\"label\":{\"value\":\"male\"},\"renderers\":[{\"id\":\"68108\"}]},\"id\":\"68121\",\"type\":\"LegendItem\"},{\"attributes\":{},\"id\":\"68093\",\"type\":\"ResetTool\"},{\"attributes\":{\"axis_label\":\"How many people have this sentiment\",\"coordinates\":null,\"formatter\":{\"id\":\"68112\"},\"group\":null,\"major_label_policy\":{\"id\":\"68113\"},\"ticker\":{\"id\":\"68086\"}},\"id\":\"68085\",\"type\":\"LinearAxis\"},{\"attributes\":{\"ticks\":[-1.0,-0.8,-0.6,-0.3999999999999999,-0.19999999999999996,0.0,0.20000000000000018,0.40000000000000013,0.6000000000000001,0.8,1.0]},\"id\":\"68164\",\"type\":\"FixedTicker\"},{\"attributes\":{},\"id\":\"68079\",\"type\":\"LinearScale\"},{\"attributes\":{},\"id\":\"68086\",\"type\":\"BasicTicker\"},{\"attributes\":{\"coordinates\":null,\"formatter\":{\"id\":\"68115\"},\"group\":null,\"major_label_policy\":{\"id\":\"68116\"},\"ticker\":{\"id\":\"68164\"}},\"id\":\"68081\",\"type\":\"LinearAxis\"},{\"attributes\":{},\"id\":\"68117\",\"type\":\"UnionRenderers\"},{\"attributes\":{},\"id\":\"68118\",\"type\":\"Selection\"},{\"attributes\":{\"label\":{\"value\":\"female\"},\"renderers\":[{\"id\":\"68127\"}]},\"id\":\"68141\",\"type\":\"LegendItem\"},{\"attributes\":{\"axis\":{\"id\":\"68085\"},\"coordinates\":null,\"dimension\":1,\"group\":null,\"ticker\":null},\"id\":\"68088\",\"type\":\"Grid\"},{\"attributes\":{\"bottom\":{\"field\":\"bottom\"},\"fill_alpha\":{\"value\":0.6},\"fill_color\":{\"value\":\"#ff7f0e\"},\"hatch_alpha\":{\"value\":0.6},\"hatch_color\":{\"value\":\"#ff7f0e\"},\"left\":{\"field\":\"left\"},\"line_alpha\":{\"value\":0.6},\"line_color\":{\"value\":null},\"line_width\":{\"value\":2},\"right\":{\"field\":\"right\"},\"top\":{\"field\":\"top\"}},\"id\":\"68124\",\"type\":\"Quad\"},{\"attributes\":{\"bottom_units\":\"screen\",\"coordinates\":null,\"fill_alpha\":0.5,\"fill_color\":\"lightgrey\",\"group\":null,\"left_units\":\"screen\",\"level\":\"overlay\",\"line_alpha\":1.0,\"line_color\":\"black\",\"line_dash\":[4,4],\"line_width\":2,\"right_units\":\"screen\",\"syncable\":false,\"top_units\":\"screen\"},\"id\":\"68095\",\"type\":\"BoxAnnotation\"},{\"attributes\":{\"active_scroll\":{\"id\":\"68090\"},\"tools\":[{\"id\":\"68089\"},{\"id\":\"68090\"},{\"id\":\"68091\"},{\"id\":\"68092\"},{\"id\":\"68093\"},{\"id\":\"68094\"}]},\"id\":\"68096\",\"type\":\"Toolbar\"},{\"attributes\":{\"data\":{\"bins\":[\"-1.0\\uff0d-0.8\",\"-0.8\\uff0d-0.6\",\"-0.6\\uff0d-0.3999999999999999\",\"-0.3999999999999999\\uff0d-0.19999999999999996\",\"-0.19999999999999996\\uff0d0.0\",\"0.0\\uff0d0.20000000000000018\",\"0.20000000000000018\\uff0d0.40000000000000013\",\"0.40000000000000013\\uff0d0.6000000000000001\",\"0.6000000000000001\\uff0d0.8\",\"0.8\\uff0d1.0\"],\"bottom\":[0,0,0,0,0,0,0,0,0,0],\"left\":{\"__ndarray__\":\"AAAAAAAA8L+amZmZmZnpvzMzMzMzM+O/mJmZmZmZ2b+YmZmZmZnJvwAAAAAAAAAAoJmZmZmZyT+cmZmZmZnZPzQzMzMzM+M/mpmZmZmZ6T8=\",\"dtype\":\"float64\",\"order\":\"little\",\"shape\":[10]},\"right\":{\"__ndarray__\":\"mpmZmZmZ6b8zMzMzMzPjv5iZmZmZmdm/mJmZmZmZyb8AAAAAAAAAAKCZmZmZmck/nJmZmZmZ2T80MzMzMzPjP5qZmZmZmek/AAAAAAAA8D8=\",\"dtype\":\"float64\",\"order\":\"little\",\"shape\":[10]},\"top\":[2670,4881,8224,4979,1758,18555,7734,7948,3936,11021]},\"selected\":{\"id\":\"68118\"},\"selection_policy\":{\"id\":\"68117\"}},\"id\":\"68103\",\"type\":\"ColumnDataSource\"},{\"attributes\":{\"coordinates\":null,\"group\":null,\"text\":\"Sentiment distribution by genders\"},\"id\":\"68071\",\"type\":\"Title\"},{\"attributes\":{\"bottom\":{\"field\":\"bottom\"},\"fill_alpha\":{\"value\":0.1},\"fill_color\":{\"value\":\"#ff7f0e\"},\"hatch_alpha\":{\"value\":0.1},\"hatch_color\":{\"value\":\"#ff7f0e\"},\"left\":{\"field\":\"left\"},\"line_alpha\":{\"value\":0.1},\"line_color\":{\"value\":null},\"line_width\":{\"value\":2},\"right\":{\"field\":\"right\"},\"top\":{\"field\":\"top\"}},\"id\":\"68125\",\"type\":\"Quad\"},{\"attributes\":{\"coordinates\":null,\"data_source\":{\"id\":\"68122\"},\"glyph\":{\"id\":\"68124\"},\"group\":null,\"hover_glyph\":null,\"muted_glyph\":{\"id\":\"68126\"},\"nonselection_glyph\":{\"id\":\"68125\"},\"view\":{\"id\":\"68128\"}},\"id\":\"68127\",\"type\":\"GlyphRenderer\"},{\"attributes\":{\"data\":{\"bins\":[\"-1.0\\uff0d-0.8\",\"-0.8\\uff0d-0.6\",\"-0.6\\uff0d-0.3999999999999999\",\"-0.3999999999999999\\uff0d-0.19999999999999996\",\"-0.19999999999999996\\uff0d0.0\",\"0.0\\uff0d0.20000000000000018\",\"0.20000000000000018\\uff0d0.40000000000000013\",\"0.40000000000000013\\uff0d0.6000000000000001\",\"0.6000000000000001\\uff0d0.8\",\"0.8\\uff0d1.0\"],\"bottom\":[0,0,0,0,0,0,0,0,0,0],\"left\":{\"__ndarray__\":\"AAAAAAAA8L+amZmZmZnpvzMzMzMzM+O/mJmZmZmZ2b+YmZmZmZnJvwAAAAAAAAAAoJmZmZmZyT+cmZmZmZnZPzQzMzMzM+M/mpmZmZmZ6T8=\",\"dtype\":\"float64\",\"order\":\"little\",\"shape\":[10]},\"right\":{\"__ndarray__\":\"mpmZmZmZ6b8zMzMzMzPjv5iZmZmZmdm/mJmZmZmZyb8AAAAAAAAAAKCZmZmZmck/nJmZmZmZ2T80MzMzMzPjP5qZmZmZmek/AAAAAAAA8D8=\",\"dtype\":\"float64\",\"order\":\"little\",\"shape\":[10]},\"top\":[1468,2345,4176,2364,824,9718,3938,4158,1993,5960]},\"selected\":{\"id\":\"68139\"},\"selection_policy\":{\"id\":\"68138\"}},\"id\":\"68122\",\"type\":\"ColumnDataSource\"},{\"attributes\":{\"bottom\":{\"field\":\"bottom\"},\"fill_alpha\":{\"value\":0.2},\"fill_color\":{\"value\":\"#ff7f0e\"},\"hatch_alpha\":{\"value\":0.2},\"hatch_color\":{\"value\":\"#ff7f0e\"},\"left\":{\"field\":\"left\"},\"line_alpha\":{\"value\":0.2},\"line_color\":{\"value\":null},\"line_width\":{\"value\":2},\"right\":{\"field\":\"right\"},\"top\":{\"field\":\"top\"}},\"id\":\"68126\",\"type\":\"Quad\"},{\"attributes\":{\"bottom\":{\"field\":\"bottom\"},\"fill_alpha\":{\"value\":0.1},\"fill_color\":{\"value\":\"#2ca02c\"},\"hatch_alpha\":{\"value\":0.1},\"hatch_color\":{\"value\":\"#2ca02c\"},\"left\":{\"field\":\"left\"},\"line_alpha\":{\"value\":0.1},\"line_color\":{\"value\":null},\"line_width\":{\"value\":2},\"right\":{\"field\":\"right\"},\"top\":{\"field\":\"top\"}},\"id\":\"68145\",\"type\":\"Quad\"},{\"attributes\":{\"overlay\":{\"id\":\"68095\"}},\"id\":\"68091\",\"type\":\"BoxZoomTool\"},{\"attributes\":{\"coordinates\":null,\"data_source\":{\"id\":\"68142\"},\"glyph\":{\"id\":\"68144\"},\"group\":null,\"hover_glyph\":null,\"muted_glyph\":{\"id\":\"68146\"},\"nonselection_glyph\":{\"id\":\"68145\"},\"view\":{\"id\":\"68148\"}},\"id\":\"68147\",\"type\":\"GlyphRenderer\"},{\"attributes\":{},\"id\":\"68092\",\"type\":\"SaveTool\"},{\"attributes\":{\"data\":{\"bins\":[\"-1.0\\uff0d-0.8\",\"-0.8\\uff0d-0.6\",\"-0.6\\uff0d-0.3999999999999999\",\"-0.3999999999999999\\uff0d-0.19999999999999996\",\"-0.19999999999999996\\uff0d0.0\",\"0.0\\uff0d0.20000000000000018\",\"0.20000000000000018\\uff0d0.40000000000000013\",\"0.40000000000000013\\uff0d0.6000000000000001\",\"0.6000000000000001\\uff0d0.8\",\"0.8\\uff0d1.0\"],\"bottom\":[0,0,0,0,0,0,0,0,0,0],\"left\":{\"__ndarray__\":\"AAAAAAAA8L+amZmZmZnpvzMzMzMzM+O/mJmZmZmZ2b+YmZmZmZnJvwAAAAAAAAAAoJmZmZmZyT+cmZmZmZnZPzQzMzMzM+M/mpmZmZmZ6T8=\",\"dtype\":\"float64\",\"order\":\"little\",\"shape\":[10]},\"right\":{\"__ndarray__\":\"mpmZmZmZ6b8zMzMzMzPjv5iZmZmZmdm/mJmZmZmZyb8AAAAAAAAAAKCZmZmZmck/nJmZmZmZ2T80MzMzMzPjP5qZmZmZmek/AAAAAAAA8D8=\",\"dtype\":\"float64\",\"order\":\"little\",\"shape\":[10]},\"top\":[221,367,666,372,123,1560,703,688,345,989]},\"selected\":{\"id\":\"68161\"},\"selection_policy\":{\"id\":\"68160\"}},\"id\":\"68142\",\"type\":\"ColumnDataSource\"},{\"attributes\":{\"source\":{\"id\":\"68122\"}},\"id\":\"68128\",\"type\":\"CDSView\"},{\"attributes\":{\"bottom\":{\"field\":\"bottom\"},\"fill_alpha\":{\"value\":0.2},\"fill_color\":{\"value\":\"#2ca02c\"},\"hatch_alpha\":{\"value\":0.2},\"hatch_color\":{\"value\":\"#2ca02c\"},\"left\":{\"field\":\"left\"},\"line_alpha\":{\"value\":0.2},\"line_color\":{\"value\":null},\"line_width\":{\"value\":2},\"right\":{\"field\":\"right\"},\"top\":{\"field\":\"top\"}},\"id\":\"68146\",\"type\":\"Quad\"},{\"attributes\":{\"bottom\":{\"field\":\"bottom\"},\"fill_alpha\":{\"value\":0.6},\"fill_color\":{\"value\":\"#2ca02c\"},\"hatch_alpha\":{\"value\":0.6},\"hatch_color\":{\"value\":\"#2ca02c\"},\"left\":{\"field\":\"left\"},\"line_alpha\":{\"value\":0.6},\"line_color\":{\"value\":null},\"line_width\":{\"value\":2},\"right\":{\"field\":\"right\"},\"top\":{\"field\":\"top\"}},\"id\":\"68144\",\"type\":\"Quad\"},{\"attributes\":{\"source\":{\"id\":\"68142\"}},\"id\":\"68148\",\"type\":\"CDSView\"},{\"attributes\":{},\"id\":\"68139\",\"type\":\"Selection\"},{\"attributes\":{\"label\":{\"value\":\"other\"},\"renderers\":[{\"id\":\"68147\"}]},\"id\":\"68163\",\"type\":\"LegendItem\"},{\"attributes\":{},\"id\":\"68089\",\"type\":\"PanTool\"},{\"attributes\":{},\"id\":\"68112\",\"type\":\"BasicTickFormatter\"}],\"root_ids\":[\"68070\"]},\"title\":\"Bokeh Application\",\"version\":\"2.4.2\"}};\n  const render_items = [{\"docid\":\"faa0141f-f385-4419-861b-53690f7111c8\",\"root_ids\":[\"68070\"],\"roots\":{\"68070\":\"e245be89-c780-4486-86bc-0b16d6c5037e\"}}];\n  root.Bokeh.embed.embed_items_notebook(docs_json, render_items);\n\n  }\n  if (root.Bokeh !== undefined) {\n    embed_document(root);\n  } else {\n    let attempts = 0;\n    const timer = setInterval(function(root) {\n      if (root.Bokeh !== undefined) {\n        clearInterval(timer);\n        embed_document(root);\n      } else {\n        attempts++;\n        if (attempts > 100) {\n          clearInterval(timer);\n          console.log(\"Bokeh: ERROR: Unable to run BokehJS code because BokehJS library is missing\");\n        }\n      }\n    }, 10, root)\n  }\n})(window);",
      "application/vnd.bokehjs_exec.v0+json": ""
     },
     "metadata": {
      "application/vnd.bokehjs_exec.v0+json": {
       "id": "68070"
      }
     },
     "output_type": "display_data"
    },
    {
     "name": "stderr",
     "output_type": "stream",
     "text": [
      "/usr/local/lib/python3.9/site-packages/pandas_bokeh/plot.py:753: Warning:\n",
      "\n",
      "There are NaN values in column 'boomers'. For the histogram, these rows have been neglected.\n",
      "\n",
      "/usr/local/lib/python3.9/site-packages/pandas_bokeh/plot.py:753: Warning:\n",
      "\n",
      "There are NaN values in column 'older'. For the histogram, these rows have been neglected.\n",
      "\n",
      "/usr/local/lib/python3.9/site-packages/pandas_bokeh/plot.py:753: Warning:\n",
      "\n",
      "There are NaN values in column 'younger'. For the histogram, these rows have been neglected.\n",
      "\n"
     ]
    },
    {
     "data": {
      "text/html": "\n\n\n\n\n\n  <div class=\"bk-root\" id=\"63bca347-62f1-47d2-b024-76506531851e\" data-root-id=\"68645\"></div>\n"
     },
     "metadata": {},
     "output_type": "display_data"
    },
    {
     "data": {
      "application/javascript": "(function(root) {\n  function embed_document(root) {\n    \n  const docs_json = {\"82d7328a-bf6e-4e92-a741-182e293f2105\":{\"defs\":[],\"roots\":{\"references\":[{\"attributes\":{\"below\":[{\"id\":\"68656\"}],\"center\":[{\"id\":\"68659\"},{\"id\":\"68663\"},{\"id\":\"68695\"}],\"height\":400,\"left\":[{\"id\":\"68660\"}],\"output_backend\":\"webgl\",\"renderers\":[{\"id\":\"68683\"},{\"id\":\"68702\"},{\"id\":\"68722\"}],\"sizing_mode\":\"fixed\",\"title\":{\"id\":\"68646\"},\"toolbar\":{\"id\":\"68671\"},\"x_range\":{\"id\":\"68648\"},\"x_scale\":{\"id\":\"68652\"},\"y_range\":{\"id\":\"68650\"},\"y_scale\":{\"id\":\"68654\"}},\"id\":\"68645\",\"subtype\":\"Figure\",\"type\":\"Plot\"},{\"attributes\":{},\"id\":\"68650\",\"type\":\"DataRange1d\"},{\"attributes\":{\"bottom\":{\"field\":\"bottom\"},\"fill_alpha\":{\"value\":0.1},\"fill_color\":{\"value\":\"#ff7f0e\"},\"hatch_alpha\":{\"value\":0.1},\"hatch_color\":{\"value\":\"#ff7f0e\"},\"left\":{\"field\":\"left\"},\"line_alpha\":{\"value\":0.1},\"line_color\":{\"value\":null},\"line_width\":{\"value\":2},\"right\":{\"field\":\"right\"},\"top\":{\"field\":\"top\"}},\"id\":\"68700\",\"type\":\"Quad\"},{\"attributes\":{\"axis\":{\"id\":\"68660\"},\"coordinates\":null,\"dimension\":1,\"group\":null,\"ticker\":null},\"id\":\"68663\",\"type\":\"Grid\"},{\"attributes\":{\"label\":{\"value\":\"older\"},\"renderers\":[{\"id\":\"68702\"}]},\"id\":\"68716\",\"type\":\"LegendItem\"},{\"attributes\":{\"coordinates\":null,\"data_source\":{\"id\":\"68697\"},\"glyph\":{\"id\":\"68699\"},\"group\":null,\"hover_glyph\":null,\"muted_glyph\":{\"id\":\"68701\"},\"nonselection_glyph\":{\"id\":\"68700\"},\"view\":{\"id\":\"68703\"}},\"id\":\"68702\",\"type\":\"GlyphRenderer\"},{\"attributes\":{\"bottom\":{\"field\":\"bottom\"},\"fill_alpha\":{\"value\":0.2},\"fill_color\":{\"value\":\"#ff7f0e\"},\"hatch_alpha\":{\"value\":0.2},\"hatch_color\":{\"value\":\"#ff7f0e\"},\"left\":{\"field\":\"left\"},\"line_alpha\":{\"value\":0.2},\"line_color\":{\"value\":null},\"line_width\":{\"value\":2},\"right\":{\"field\":\"right\"},\"top\":{\"field\":\"top\"}},\"id\":\"68701\",\"type\":\"Quad\"},{\"attributes\":{},\"id\":\"68665\",\"type\":\"WheelZoomTool\"},{\"attributes\":{\"label\":{\"value\":\"younger\"},\"renderers\":[{\"id\":\"68722\"}]},\"id\":\"68738\",\"type\":\"LegendItem\"},{\"attributes\":{},\"id\":\"68664\",\"type\":\"PanTool\"},{\"attributes\":{\"coordinates\":null,\"data_source\":{\"id\":\"68717\"},\"glyph\":{\"id\":\"68719\"},\"group\":null,\"hover_glyph\":null,\"muted_glyph\":{\"id\":\"68721\"},\"nonselection_glyph\":{\"id\":\"68720\"},\"view\":{\"id\":\"68723\"}},\"id\":\"68722\",\"type\":\"GlyphRenderer\"},{\"attributes\":{},\"id\":\"68669\",\"type\":\"HelpTool\"},{\"attributes\":{\"bottom\":{\"field\":\"bottom\"},\"fill_alpha\":{\"value\":0.6},\"fill_color\":{\"value\":\"#2ca02c\"},\"hatch_alpha\":{\"value\":0.6},\"hatch_color\":{\"value\":\"#2ca02c\"},\"left\":{\"field\":\"left\"},\"line_alpha\":{\"value\":0.6},\"line_color\":{\"value\":null},\"line_width\":{\"value\":2},\"right\":{\"field\":\"right\"},\"top\":{\"field\":\"top\"}},\"id\":\"68719\",\"type\":\"Quad\"},{\"attributes\":{\"bottom\":{\"field\":\"bottom\"},\"fill_alpha\":{\"value\":0.1},\"fill_color\":{\"value\":\"#2ca02c\"},\"hatch_alpha\":{\"value\":0.1},\"hatch_color\":{\"value\":\"#2ca02c\"},\"left\":{\"field\":\"left\"},\"line_alpha\":{\"value\":0.1},\"line_color\":{\"value\":null},\"line_width\":{\"value\":2},\"right\":{\"field\":\"right\"},\"top\":{\"field\":\"top\"}},\"id\":\"68720\",\"type\":\"Quad\"},{\"attributes\":{},\"id\":\"68648\",\"type\":\"DataRange1d\"},{\"attributes\":{\"source\":{\"id\":\"68697\"}},\"id\":\"68703\",\"type\":\"CDSView\"},{\"attributes\":{\"overlay\":{\"id\":\"68670\"}},\"id\":\"68666\",\"type\":\"BoxZoomTool\"},{\"attributes\":{\"data\":{\"bins\":[\"-1.0\\uff0d-0.8\",\"-0.8\\uff0d-0.6\",\"-0.6\\uff0d-0.3999999999999999\",\"-0.3999999999999999\\uff0d-0.19999999999999996\",\"-0.19999999999999996\\uff0d0.0\",\"0.0\\uff0d0.20000000000000018\",\"0.20000000000000018\\uff0d0.40000000000000013\",\"0.40000000000000013\\uff0d0.6000000000000001\",\"0.6000000000000001\\uff0d0.8\",\"0.8\\uff0d1.0\"],\"bottom\":[0,0,0,0,0,0,0,0,0,0],\"left\":{\"__ndarray__\":\"AAAAAAAA8L+amZmZmZnpvzMzMzMzM+O/mJmZmZmZ2b+YmZmZmZnJvwAAAAAAAAAAoJmZmZmZyT+cmZmZmZnZPzQzMzMzM+M/mpmZmZmZ6T8=\",\"dtype\":\"float64\",\"order\":\"little\",\"shape\":[10]},\"right\":{\"__ndarray__\":\"mpmZmZmZ6b8zMzMzMzPjv5iZmZmZmdm/mJmZmZmZyb8AAAAAAAAAAKCZmZmZmck/nJmZmZmZ2T80MzMzMzPjP5qZmZmZmek/AAAAAAAA8D8=\",\"dtype\":\"float64\",\"order\":\"little\",\"shape\":[10]},\"top\":[1028,1900,3282,1968,694,7979,3389,3633,1890,5729]},\"selected\":{\"id\":\"68736\"},\"selection_policy\":{\"id\":\"68735\"}},\"id\":\"68717\",\"type\":\"ColumnDataSource\"},{\"attributes\":{},\"id\":\"68667\",\"type\":\"SaveTool\"},{\"attributes\":{\"coordinates\":null,\"data_source\":{\"id\":\"68678\"},\"glyph\":{\"id\":\"68680\"},\"group\":null,\"hover_glyph\":null,\"muted_glyph\":{\"id\":\"68682\"},\"nonselection_glyph\":{\"id\":\"68681\"},\"view\":{\"id\":\"68684\"}},\"id\":\"68683\",\"type\":\"GlyphRenderer\"},{\"attributes\":{\"bottom\":{\"field\":\"bottom\"},\"fill_alpha\":{\"value\":0.2},\"fill_color\":{\"value\":\"#2ca02c\"},\"hatch_alpha\":{\"value\":0.2},\"hatch_color\":{\"value\":\"#2ca02c\"},\"left\":{\"field\":\"left\"},\"line_alpha\":{\"value\":0.2},\"line_color\":{\"value\":null},\"line_width\":{\"value\":2},\"right\":{\"field\":\"right\"},\"top\":{\"field\":\"top\"}},\"id\":\"68721\",\"type\":\"Quad\"},{\"attributes\":{},\"id\":\"68668\",\"type\":\"ResetTool\"},{\"attributes\":{},\"id\":\"68735\",\"type\":\"UnionRenderers\"},{\"attributes\":{},\"id\":\"68714\",\"type\":\"Selection\"},{\"attributes\":{\"ticks\":[-1.0,-0.8,-0.6,-0.3999999999999999,-0.19999999999999996,0.0,0.20000000000000018,0.40000000000000013,0.6000000000000001,0.8,1.0]},\"id\":\"68739\",\"type\":\"FixedTicker\"},{\"attributes\":{\"bottom_units\":\"screen\",\"coordinates\":null,\"fill_alpha\":0.5,\"fill_color\":\"lightgrey\",\"group\":null,\"left_units\":\"screen\",\"level\":\"overlay\",\"line_alpha\":1.0,\"line_color\":\"black\",\"line_dash\":[4,4],\"line_width\":2,\"right_units\":\"screen\",\"syncable\":false,\"top_units\":\"screen\"},\"id\":\"68670\",\"type\":\"BoxAnnotation\"},{\"attributes\":{\"data\":{\"bins\":[\"-1.0\\uff0d-0.8\",\"-0.8\\uff0d-0.6\",\"-0.6\\uff0d-0.3999999999999999\",\"-0.3999999999999999\\uff0d-0.19999999999999996\",\"-0.19999999999999996\\uff0d0.0\",\"0.0\\uff0d0.20000000000000018\",\"0.20000000000000018\\uff0d0.40000000000000013\",\"0.40000000000000013\\uff0d0.6000000000000001\",\"0.6000000000000001\\uff0d0.8\",\"0.8\\uff0d1.0\"],\"bottom\":[0,0,0,0,0,0,0,0,0,0],\"left\":{\"__ndarray__\":\"AAAAAAAA8L+amZmZmZnpvzMzMzMzM+O/mJmZmZmZ2b+YmZmZmZnJvwAAAAAAAAAAoJmZmZmZyT+cmZmZmZnZPzQzMzMzM+M/mpmZmZmZ6T8=\",\"dtype\":\"float64\",\"order\":\"little\",\"shape\":[10]},\"right\":{\"__ndarray__\":\"mpmZmZmZ6b8zMzMzMzPjv5iZmZmZmdm/mJmZmZmZyb8AAAAAAAAAAKCZmZmZmck/nJmZmZmZ2T80MzMzMzPjP5qZmZmZmek/AAAAAAAA8D8=\",\"dtype\":\"float64\",\"order\":\"little\",\"shape\":[10]},\"top\":[1931,3285,5696,3301,1172,12531,5311,5431,2544,7377]},\"selected\":{\"id\":\"68693\"},\"selection_policy\":{\"id\":\"68692\"}},\"id\":\"68678\",\"type\":\"ColumnDataSource\"},{\"attributes\":{},\"id\":\"68687\",\"type\":\"BasicTickFormatter\"},{\"attributes\":{\"source\":{\"id\":\"68717\"}},\"id\":\"68723\",\"type\":\"CDSView\"},{\"attributes\":{},\"id\":\"68713\",\"type\":\"UnionRenderers\"},{\"attributes\":{\"bottom\":{\"field\":\"bottom\"},\"fill_alpha\":{\"value\":0.1},\"fill_color\":{\"value\":\"#1f77b4\"},\"hatch_alpha\":{\"value\":0.1},\"hatch_color\":{\"value\":\"#1f77b4\"},\"left\":{\"field\":\"left\"},\"line_alpha\":{\"value\":0.1},\"line_color\":{\"value\":null},\"line_width\":{\"value\":2},\"right\":{\"field\":\"right\"},\"top\":{\"field\":\"top\"}},\"id\":\"68681\",\"type\":\"Quad\"},{\"attributes\":{},\"id\":\"68688\",\"type\":\"AllLabels\"},{\"attributes\":{\"bottom\":{\"field\":\"bottom\"},\"fill_alpha\":{\"value\":0.6},\"fill_color\":{\"value\":\"#1f77b4\"},\"hatch_alpha\":{\"value\":0.6},\"hatch_color\":{\"value\":\"#1f77b4\"},\"left\":{\"field\":\"left\"},\"line_alpha\":{\"value\":0.6},\"line_color\":{\"value\":null},\"line_width\":{\"value\":2},\"right\":{\"field\":\"right\"},\"top\":{\"field\":\"top\"}},\"id\":\"68680\",\"type\":\"Quad\"},{\"attributes\":{},\"id\":\"68736\",\"type\":\"Selection\"},{\"attributes\":{},\"id\":\"68690\",\"type\":\"BasicTickFormatter\"},{\"attributes\":{},\"id\":\"68652\",\"type\":\"LinearScale\"},{\"attributes\":{\"data\":{\"bins\":[\"-1.0\\uff0d-0.8\",\"-0.8\\uff0d-0.6\",\"-0.6\\uff0d-0.3999999999999999\",\"-0.3999999999999999\\uff0d-0.19999999999999996\",\"-0.19999999999999996\\uff0d0.0\",\"0.0\\uff0d0.20000000000000018\",\"0.20000000000000018\\uff0d0.40000000000000013\",\"0.40000000000000013\\uff0d0.6000000000000001\",\"0.6000000000000001\\uff0d0.8\",\"0.8\\uff0d1.0\"],\"bottom\":[0,0,0,0,0,0,0,0,0,0],\"left\":{\"__ndarray__\":\"AAAAAAAA8L+amZmZmZnpvzMzMzMzM+O/mJmZmZmZ2b+YmZmZmZnJvwAAAAAAAAAAoJmZmZmZyT+cmZmZmZnZPzQzMzMzM+M/mpmZmZmZ6T8=\",\"dtype\":\"float64\",\"order\":\"little\",\"shape\":[10]},\"right\":{\"__ndarray__\":\"mpmZmZmZ6b8zMzMzMzPjv5iZmZmZmdm/mJmZmZmZyb8AAAAAAAAAAKCZmZmZmck/nJmZmZmZ2T80MzMzMzPjP5qZmZmZmek/AAAAAAAA8D8=\",\"dtype\":\"float64\",\"order\":\"little\",\"shape\":[10]},\"top\":[1400,2408,4088,2446,839,9323,3675,3730,1840,4864]},\"selected\":{\"id\":\"68714\"},\"selection_policy\":{\"id\":\"68713\"}},\"id\":\"68697\",\"type\":\"ColumnDataSource\"},{\"attributes\":{\"bottom\":{\"field\":\"bottom\"},\"fill_alpha\":{\"value\":0.2},\"fill_color\":{\"value\":\"#1f77b4\"},\"hatch_alpha\":{\"value\":0.2},\"hatch_color\":{\"value\":\"#1f77b4\"},\"left\":{\"field\":\"left\"},\"line_alpha\":{\"value\":0.2},\"line_color\":{\"value\":null},\"line_width\":{\"value\":2},\"right\":{\"field\":\"right\"},\"top\":{\"field\":\"top\"}},\"id\":\"68682\",\"type\":\"Quad\"},{\"attributes\":{\"coordinates\":null,\"group\":null,\"text\":\"Sentiment distribution by age\"},\"id\":\"68646\",\"type\":\"Title\"},{\"attributes\":{},\"id\":\"68691\",\"type\":\"AllLabels\"},{\"attributes\":{\"coordinates\":null,\"formatter\":{\"id\":\"68690\"},\"group\":null,\"major_label_policy\":{\"id\":\"68691\"},\"ticker\":{\"id\":\"68739\"}},\"id\":\"68656\",\"type\":\"LinearAxis\"},{\"attributes\":{\"active_scroll\":{\"id\":\"68665\"},\"tools\":[{\"id\":\"68664\"},{\"id\":\"68665\"},{\"id\":\"68666\"},{\"id\":\"68667\"},{\"id\":\"68668\"},{\"id\":\"68669\"}]},\"id\":\"68671\",\"type\":\"Toolbar\"},{\"attributes\":{\"source\":{\"id\":\"68678\"}},\"id\":\"68684\",\"type\":\"CDSView\"},{\"attributes\":{},\"id\":\"68654\",\"type\":\"LinearScale\"},{\"attributes\":{\"click_policy\":\"hide\",\"coordinates\":null,\"group\":null,\"items\":[{\"id\":\"68696\"},{\"id\":\"68716\"},{\"id\":\"68738\"}]},\"id\":\"68695\",\"type\":\"Legend\"},{\"attributes\":{\"bottom\":{\"field\":\"bottom\"},\"fill_alpha\":{\"value\":0.6},\"fill_color\":{\"value\":\"#ff7f0e\"},\"hatch_alpha\":{\"value\":0.6},\"hatch_color\":{\"value\":\"#ff7f0e\"},\"left\":{\"field\":\"left\"},\"line_alpha\":{\"value\":0.6},\"line_color\":{\"value\":null},\"line_width\":{\"value\":2},\"right\":{\"field\":\"right\"},\"top\":{\"field\":\"top\"}},\"id\":\"68699\",\"type\":\"Quad\"},{\"attributes\":{\"label\":{\"value\":\"boomers\"},\"renderers\":[{\"id\":\"68683\"}]},\"id\":\"68696\",\"type\":\"LegendItem\"},{\"attributes\":{},\"id\":\"68661\",\"type\":\"BasicTicker\"},{\"attributes\":{},\"id\":\"68692\",\"type\":\"UnionRenderers\"},{\"attributes\":{},\"id\":\"68693\",\"type\":\"Selection\"},{\"attributes\":{\"axis_label\":\"How many people have this sentiment\",\"coordinates\":null,\"formatter\":{\"id\":\"68687\"},\"group\":null,\"major_label_policy\":{\"id\":\"68688\"},\"ticker\":{\"id\":\"68661\"}},\"id\":\"68660\",\"type\":\"LinearAxis\"},{\"attributes\":{\"axis\":{\"id\":\"68656\"},\"coordinates\":null,\"group\":null,\"ticker\":null},\"id\":\"68659\",\"type\":\"Grid\"}],\"root_ids\":[\"68645\"]},\"title\":\"Bokeh Application\",\"version\":\"2.4.2\"}};\n  const render_items = [{\"docid\":\"82d7328a-bf6e-4e92-a741-182e293f2105\",\"root_ids\":[\"68645\"],\"roots\":{\"68645\":\"63bca347-62f1-47d2-b024-76506531851e\"}}];\n  root.Bokeh.embed.embed_items_notebook(docs_json, render_items);\n\n  }\n  if (root.Bokeh !== undefined) {\n    embed_document(root);\n  } else {\n    let attempts = 0;\n    const timer = setInterval(function(root) {\n      if (root.Bokeh !== undefined) {\n        clearInterval(timer);\n        embed_document(root);\n      } else {\n        attempts++;\n        if (attempts > 100) {\n          clearInterval(timer);\n          console.log(\"Bokeh: ERROR: Unable to run BokehJS code because BokehJS library is missing\");\n        }\n      }\n    }, 10, root)\n  }\n})(window);",
      "application/vnd.bokehjs_exec.v0+json": ""
     },
     "metadata": {
      "application/vnd.bokehjs_exec.v0+json": {
       "id": "68645"
      }
     },
     "output_type": "display_data"
    },
    {
     "name": "stderr",
     "output_type": "stream",
     "text": [
      "/usr/local/lib/python3.9/site-packages/bokeh/util/deprecation.py:75: BokehDeprecationWarning:\n",
      "\n",
      "plot_width and plot_height was deprecated in Bokeh 2.4.0 and will be removed, use width or height instead.\n",
      "\n"
     ]
    },
    {
     "data": {
      "text/html": "\n\n\n\n\n\n  <div class=\"bk-root\" id=\"644c2532-5546-4697-a535-3dccb9a5e600\" data-root-id=\"69264\"></div>\n"
     },
     "metadata": {},
     "output_type": "display_data"
    },
    {
     "data": {
      "application/javascript": "(function(root) {\n  function embed_document(root) {\n    \n  const docs_json = {\"8bcf06e6-c5f0-438e-adbc-2c6d498924e4\":{\"defs\":[],\"roots\":{\"references\":[{\"attributes\":{\"children\":[{\"id\":\"69263\"},{\"id\":\"69261\"}]},\"id\":\"69264\",\"type\":\"Column\"},{\"attributes\":{\"toolbar\":{\"id\":\"69262\"},\"toolbar_location\":\"above\"},\"id\":\"69263\",\"type\":\"ToolbarBox\"},{\"attributes\":{},\"id\":\"68090\",\"type\":\"WheelZoomTool\"},{\"attributes\":{\"coordinates\":null,\"data_source\":{\"id\":\"68678\"},\"glyph\":{\"id\":\"68680\"},\"group\":null,\"hover_glyph\":null,\"muted_glyph\":{\"id\":\"68682\"},\"nonselection_glyph\":{\"id\":\"68681\"},\"view\":{\"id\":\"68684\"}},\"id\":\"68683\",\"type\":\"GlyphRenderer\"},{\"attributes\":{},\"id\":\"68094\",\"type\":\"HelpTool\"},{\"attributes\":{\"toolbars\":[{\"id\":\"68096\"},{\"id\":\"68671\"}],\"tools\":[{\"id\":\"68089\"},{\"id\":\"68090\"},{\"id\":\"68091\"},{\"id\":\"68092\"},{\"id\":\"68093\"},{\"id\":\"68094\"},{\"id\":\"68664\"},{\"id\":\"68665\"},{\"id\":\"68666\"},{\"id\":\"68667\"},{\"id\":\"68668\"},{\"id\":\"68669\"}]},\"id\":\"69262\",\"type\":\"ProxyToolbar\"},{\"attributes\":{\"ticks\":[-1.0,-0.8,-0.6,-0.3999999999999999,-0.19999999999999996,0.0,0.20000000000000018,0.40000000000000013,0.6000000000000001,0.8,1.0]},\"id\":\"68739\",\"type\":\"FixedTicker\"},{\"attributes\":{\"data\":{\"bins\":[\"-1.0\\uff0d-0.8\",\"-0.8\\uff0d-0.6\",\"-0.6\\uff0d-0.3999999999999999\",\"-0.3999999999999999\\uff0d-0.19999999999999996\",\"-0.19999999999999996\\uff0d0.0\",\"0.0\\uff0d0.20000000000000018\",\"0.20000000000000018\\uff0d0.40000000000000013\",\"0.40000000000000013\\uff0d0.6000000000000001\",\"0.6000000000000001\\uff0d0.8\",\"0.8\\uff0d1.0\"],\"bottom\":[0,0,0,0,0,0,0,0,0,0],\"left\":{\"__ndarray__\":\"AAAAAAAA8L+amZmZmZnpvzMzMzMzM+O/mJmZmZmZ2b+YmZmZmZnJvwAAAAAAAAAAoJmZmZmZyT+cmZmZmZnZPzQzMzMzM+M/mpmZmZmZ6T8=\",\"dtype\":\"float64\",\"order\":\"little\",\"shape\":[10]},\"right\":{\"__ndarray__\":\"mpmZmZmZ6b8zMzMzMzPjv5iZmZmZmdm/mJmZmZmZyb8AAAAAAAAAAKCZmZmZmck/nJmZmZmZ2T80MzMzMzPjP5qZmZmZmek/AAAAAAAA8D8=\",\"dtype\":\"float64\",\"order\":\"little\",\"shape\":[10]},\"top\":[1931,3285,5696,3301,1172,12531,5311,5431,2544,7377]},\"selected\":{\"id\":\"68693\"},\"selection_policy\":{\"id\":\"68692\"}},\"id\":\"68678\",\"type\":\"ColumnDataSource\"},{\"attributes\":{},\"id\":\"68093\",\"type\":\"ResetTool\"},{\"attributes\":{\"bottom\":{\"field\":\"bottom\"},\"fill_alpha\":{\"value\":0.1},\"fill_color\":{\"value\":\"#1f77b4\"},\"hatch_alpha\":{\"value\":0.1},\"hatch_color\":{\"value\":\"#1f77b4\"},\"left\":{\"field\":\"left\"},\"line_alpha\":{\"value\":0.1},\"line_color\":{\"value\":null},\"line_width\":{\"value\":2},\"right\":{\"field\":\"right\"},\"top\":{\"field\":\"top\"}},\"id\":\"68681\",\"type\":\"Quad\"},{\"attributes\":{\"bottom\":{\"field\":\"bottom\"},\"fill_alpha\":{\"value\":0.6},\"fill_color\":{\"value\":\"#1f77b4\"},\"hatch_alpha\":{\"value\":0.6},\"hatch_color\":{\"value\":\"#1f77b4\"},\"left\":{\"field\":\"left\"},\"line_alpha\":{\"value\":0.6},\"line_color\":{\"value\":null},\"line_width\":{\"value\":2},\"right\":{\"field\":\"right\"},\"top\":{\"field\":\"top\"}},\"id\":\"68680\",\"type\":\"Quad\"},{\"attributes\":{\"data\":{\"bins\":[\"-1.0\\uff0d-0.8\",\"-0.8\\uff0d-0.6\",\"-0.6\\uff0d-0.3999999999999999\",\"-0.3999999999999999\\uff0d-0.19999999999999996\",\"-0.19999999999999996\\uff0d0.0\",\"0.0\\uff0d0.20000000000000018\",\"0.20000000000000018\\uff0d0.40000000000000013\",\"0.40000000000000013\\uff0d0.6000000000000001\",\"0.6000000000000001\\uff0d0.8\",\"0.8\\uff0d1.0\"],\"bottom\":[0,0,0,0,0,0,0,0,0,0],\"left\":{\"__ndarray__\":\"AAAAAAAA8L+amZmZmZnpvzMzMzMzM+O/mJmZmZmZ2b+YmZmZmZnJvwAAAAAAAAAAoJmZmZmZyT+cmZmZmZnZPzQzMzMzM+M/mpmZmZmZ6T8=\",\"dtype\":\"float64\",\"order\":\"little\",\"shape\":[10]},\"right\":{\"__ndarray__\":\"mpmZmZmZ6b8zMzMzMzPjv5iZmZmZmdm/mJmZmZmZyb8AAAAAAAAAAKCZmZmZmck/nJmZmZmZ2T80MzMzMzPjP5qZmZmZmek/AAAAAAAA8D8=\",\"dtype\":\"float64\",\"order\":\"little\",\"shape\":[10]},\"top\":[1400,2408,4088,2446,839,9323,3675,3730,1840,4864]},\"selected\":{\"id\":\"68714\"},\"selection_policy\":{\"id\":\"68713\"}},\"id\":\"68697\",\"type\":\"ColumnDataSource\"},{\"attributes\":{\"bottom\":{\"field\":\"bottom\"},\"fill_alpha\":{\"value\":0.2},\"fill_color\":{\"value\":\"#1f77b4\"},\"hatch_alpha\":{\"value\":0.2},\"hatch_color\":{\"value\":\"#1f77b4\"},\"left\":{\"field\":\"left\"},\"line_alpha\":{\"value\":0.2},\"line_color\":{\"value\":null},\"line_width\":{\"value\":2},\"right\":{\"field\":\"right\"},\"top\":{\"field\":\"top\"}},\"id\":\"68682\",\"type\":\"Quad\"},{\"attributes\":{\"axis\":{\"id\":\"68085\"},\"coordinates\":null,\"dimension\":1,\"group\":null,\"ticker\":null},\"id\":\"68088\",\"type\":\"Grid\"},{\"attributes\":{\"coordinates\":null,\"formatter\":{\"id\":\"68690\"},\"group\":null,\"major_label_policy\":{\"id\":\"68691\"},\"ticker\":{\"id\":\"68739\"}},\"id\":\"68656\",\"type\":\"LinearAxis\"},{\"attributes\":{\"data\":{\"bins\":[\"-1.0\\uff0d-0.8\",\"-0.8\\uff0d-0.6\",\"-0.6\\uff0d-0.3999999999999999\",\"-0.3999999999999999\\uff0d-0.19999999999999996\",\"-0.19999999999999996\\uff0d0.0\",\"0.0\\uff0d0.20000000000000018\",\"0.20000000000000018\\uff0d0.40000000000000013\",\"0.40000000000000013\\uff0d0.6000000000000001\",\"0.6000000000000001\\uff0d0.8\",\"0.8\\uff0d1.0\"],\"bottom\":[0,0,0,0,0,0,0,0,0,0],\"left\":{\"__ndarray__\":\"AAAAAAAA8L+amZmZmZnpvzMzMzMzM+O/mJmZmZmZ2b+YmZmZmZnJvwAAAAAAAAAAoJmZmZmZyT+cmZmZmZnZPzQzMzMzM+M/mpmZmZmZ6T8=\",\"dtype\":\"float64\",\"order\":\"little\",\"shape\":[10]},\"right\":{\"__ndarray__\":\"mpmZmZmZ6b8zMzMzMzPjv5iZmZmZmdm/mJmZmZmZyb8AAAAAAAAAAKCZmZmZmck/nJmZmZmZ2T80MzMzMzPjP5qZmZmZmek/AAAAAAAA8D8=\",\"dtype\":\"float64\",\"order\":\"little\",\"shape\":[10]},\"top\":[2670,4881,8224,4979,1758,18555,7734,7948,3936,11021]},\"selected\":{\"id\":\"68118\"},\"selection_policy\":{\"id\":\"68117\"}},\"id\":\"68103\",\"type\":\"ColumnDataSource\"},{\"attributes\":{\"source\":{\"id\":\"68678\"}},\"id\":\"68684\",\"type\":\"CDSView\"},{\"attributes\":{\"click_policy\":\"hide\",\"coordinates\":null,\"group\":null,\"items\":[{\"id\":\"68696\"},{\"id\":\"68716\"},{\"id\":\"68738\"}]},\"id\":\"68695\",\"type\":\"Legend\"},{\"attributes\":{\"label\":{\"value\":\"boomers\"},\"renderers\":[{\"id\":\"68683\"}]},\"id\":\"68696\",\"type\":\"LegendItem\"},{\"attributes\":{},\"id\":\"68092\",\"type\":\"SaveTool\"},{\"attributes\":{},\"id\":\"68687\",\"type\":\"BasicTickFormatter\"},{\"attributes\":{\"ticks\":[-1.0,-0.8,-0.6,-0.3999999999999999,-0.19999999999999996,0.0,0.20000000000000018,0.40000000000000013,0.6000000000000001,0.8,1.0]},\"id\":\"68164\",\"type\":\"FixedTicker\"},{\"attributes\":{},\"id\":\"68688\",\"type\":\"AllLabels\"},{\"attributes\":{},\"id\":\"68690\",\"type\":\"BasicTickFormatter\"},{\"attributes\":{},\"id\":\"68652\",\"type\":\"LinearScale\"},{\"attributes\":{\"coordinates\":null,\"group\":null,\"text\":\"Sentiment distribution by age\"},\"id\":\"68646\",\"type\":\"Title\"},{\"attributes\":{},\"id\":\"68691\",\"type\":\"AllLabels\"},{\"attributes\":{},\"id\":\"68654\",\"type\":\"LinearScale\"},{\"attributes\":{\"overlay\":{\"id\":\"68095\"}},\"id\":\"68091\",\"type\":\"BoxZoomTool\"},{\"attributes\":{},\"id\":\"68692\",\"type\":\"UnionRenderers\"},{\"attributes\":{},\"id\":\"68693\",\"type\":\"Selection\"},{\"attributes\":{\"axis\":{\"id\":\"68656\"},\"coordinates\":null,\"group\":null,\"ticker\":null},\"id\":\"68659\",\"type\":\"Grid\"},{\"attributes\":{},\"id\":\"68089\",\"type\":\"PanTool\"},{\"attributes\":{},\"id\":\"68160\",\"type\":\"UnionRenderers\"},{\"attributes\":{\"bottom\":{\"field\":\"bottom\"},\"fill_alpha\":{\"value\":0.6},\"fill_color\":{\"value\":\"#1f77b4\"},\"hatch_alpha\":{\"value\":0.6},\"hatch_color\":{\"value\":\"#1f77b4\"},\"left\":{\"field\":\"left\"},\"line_alpha\":{\"value\":0.6},\"line_color\":{\"value\":null},\"line_width\":{\"value\":2},\"right\":{\"field\":\"right\"},\"top\":{\"field\":\"top\"}},\"id\":\"68105\",\"type\":\"Quad\"},{\"attributes\":{\"coordinates\":null,\"data_source\":{\"id\":\"68103\"},\"glyph\":{\"id\":\"68105\"},\"group\":null,\"hover_glyph\":null,\"muted_glyph\":{\"id\":\"68107\"},\"nonselection_glyph\":{\"id\":\"68106\"},\"view\":{\"id\":\"68109\"}},\"id\":\"68108\",\"type\":\"GlyphRenderer\"},{\"attributes\":{},\"id\":\"68161\",\"type\":\"Selection\"},{\"attributes\":{\"bottom\":{\"field\":\"bottom\"},\"fill_alpha\":{\"value\":0.1},\"fill_color\":{\"value\":\"#1f77b4\"},\"hatch_alpha\":{\"value\":0.1},\"hatch_color\":{\"value\":\"#1f77b4\"},\"left\":{\"field\":\"left\"},\"line_alpha\":{\"value\":0.1},\"line_color\":{\"value\":null},\"line_width\":{\"value\":2},\"right\":{\"field\":\"right\"},\"top\":{\"field\":\"top\"}},\"id\":\"68106\",\"type\":\"Quad\"},{\"attributes\":{\"label\":{\"value\":\"younger\"},\"renderers\":[{\"id\":\"68722\"}]},\"id\":\"68738\",\"type\":\"LegendItem\"},{\"attributes\":{\"coordinates\":null,\"data_source\":{\"id\":\"68717\"},\"glyph\":{\"id\":\"68719\"},\"group\":null,\"hover_glyph\":null,\"muted_glyph\":{\"id\":\"68721\"},\"nonselection_glyph\":{\"id\":\"68720\"},\"view\":{\"id\":\"68723\"}},\"id\":\"68722\",\"type\":\"GlyphRenderer\"},{\"attributes\":{\"bottom\":{\"field\":\"bottom\"},\"fill_alpha\":{\"value\":0.2},\"fill_color\":{\"value\":\"#1f77b4\"},\"hatch_alpha\":{\"value\":0.2},\"hatch_color\":{\"value\":\"#1f77b4\"},\"left\":{\"field\":\"left\"},\"line_alpha\":{\"value\":0.2},\"line_color\":{\"value\":null},\"line_width\":{\"value\":2},\"right\":{\"field\":\"right\"},\"top\":{\"field\":\"top\"}},\"id\":\"68107\",\"type\":\"Quad\"},{\"attributes\":{\"bottom\":{\"field\":\"bottom\"},\"fill_alpha\":{\"value\":0.6},\"fill_color\":{\"value\":\"#2ca02c\"},\"hatch_alpha\":{\"value\":0.6},\"hatch_color\":{\"value\":\"#2ca02c\"},\"left\":{\"field\":\"left\"},\"line_alpha\":{\"value\":0.6},\"line_color\":{\"value\":null},\"line_width\":{\"value\":2},\"right\":{\"field\":\"right\"},\"top\":{\"field\":\"top\"}},\"id\":\"68719\",\"type\":\"Quad\"},{\"attributes\":{\"bottom\":{\"field\":\"bottom\"},\"fill_alpha\":{\"value\":0.1},\"fill_color\":{\"value\":\"#2ca02c\"},\"hatch_alpha\":{\"value\":0.1},\"hatch_color\":{\"value\":\"#2ca02c\"},\"left\":{\"field\":\"left\"},\"line_alpha\":{\"value\":0.1},\"line_color\":{\"value\":null},\"line_width\":{\"value\":2},\"right\":{\"field\":\"right\"},\"top\":{\"field\":\"top\"}},\"id\":\"68720\",\"type\":\"Quad\"},{\"attributes\":{\"bottom\":{\"field\":\"bottom\"},\"fill_alpha\":{\"value\":0.2},\"fill_color\":{\"value\":\"#2ca02c\"},\"hatch_alpha\":{\"value\":0.2},\"hatch_color\":{\"value\":\"#2ca02c\"},\"left\":{\"field\":\"left\"},\"line_alpha\":{\"value\":0.2},\"line_color\":{\"value\":null},\"line_width\":{\"value\":2},\"right\":{\"field\":\"right\"},\"top\":{\"field\":\"top\"}},\"id\":\"68721\",\"type\":\"Quad\"},{\"attributes\":{\"source\":{\"id\":\"68103\"}},\"id\":\"68109\",\"type\":\"CDSView\"},{\"attributes\":{},\"id\":\"68735\",\"type\":\"UnionRenderers\"},{\"attributes\":{\"click_policy\":\"hide\",\"coordinates\":null,\"group\":null,\"items\":[{\"id\":\"68121\"},{\"id\":\"68141\"},{\"id\":\"68163\"}]},\"id\":\"68120\",\"type\":\"Legend\"},{\"attributes\":{\"label\":{\"value\":\"male\"},\"renderers\":[{\"id\":\"68108\"}]},\"id\":\"68121\",\"type\":\"LegendItem\"},{\"attributes\":{\"source\":{\"id\":\"68717\"}},\"id\":\"68723\",\"type\":\"CDSView\"},{\"attributes\":{},\"id\":\"68736\",\"type\":\"Selection\"},{\"attributes\":{\"label\":{\"value\":\"female\"},\"renderers\":[{\"id\":\"68127\"}]},\"id\":\"68141\",\"type\":\"LegendItem\"},{\"attributes\":{\"bottom_units\":\"screen\",\"coordinates\":null,\"fill_alpha\":0.5,\"fill_color\":\"lightgrey\",\"group\":null,\"left_units\":\"screen\",\"level\":\"overlay\",\"line_alpha\":1.0,\"line_color\":\"black\",\"line_dash\":[4,4],\"line_width\":2,\"right_units\":\"screen\",\"syncable\":false,\"top_units\":\"screen\"},\"id\":\"68095\",\"type\":\"BoxAnnotation\"},{\"attributes\":{\"bottom\":{\"field\":\"bottom\"},\"fill_alpha\":{\"value\":0.6},\"fill_color\":{\"value\":\"#ff7f0e\"},\"hatch_alpha\":{\"value\":0.6},\"hatch_color\":{\"value\":\"#ff7f0e\"},\"left\":{\"field\":\"left\"},\"line_alpha\":{\"value\":0.6},\"line_color\":{\"value\":null},\"line_width\":{\"value\":2},\"right\":{\"field\":\"right\"},\"top\":{\"field\":\"top\"}},\"id\":\"68124\",\"type\":\"Quad\"},{\"attributes\":{\"bottom\":{\"field\":\"bottom\"},\"fill_alpha\":{\"value\":0.1},\"fill_color\":{\"value\":\"#ff7f0e\"},\"hatch_alpha\":{\"value\":0.1},\"hatch_color\":{\"value\":\"#ff7f0e\"},\"left\":{\"field\":\"left\"},\"line_alpha\":{\"value\":0.1},\"line_color\":{\"value\":null},\"line_width\":{\"value\":2},\"right\":{\"field\":\"right\"},\"top\":{\"field\":\"top\"}},\"id\":\"68125\",\"type\":\"Quad\"},{\"attributes\":{\"coordinates\":null,\"data_source\":{\"id\":\"68122\"},\"glyph\":{\"id\":\"68124\"},\"group\":null,\"hover_glyph\":null,\"muted_glyph\":{\"id\":\"68126\"},\"nonselection_glyph\":{\"id\":\"68125\"},\"view\":{\"id\":\"68128\"}},\"id\":\"68127\",\"type\":\"GlyphRenderer\"},{\"attributes\":{\"data\":{\"bins\":[\"-1.0\\uff0d-0.8\",\"-0.8\\uff0d-0.6\",\"-0.6\\uff0d-0.3999999999999999\",\"-0.3999999999999999\\uff0d-0.19999999999999996\",\"-0.19999999999999996\\uff0d0.0\",\"0.0\\uff0d0.20000000000000018\",\"0.20000000000000018\\uff0d0.40000000000000013\",\"0.40000000000000013\\uff0d0.6000000000000001\",\"0.6000000000000001\\uff0d0.8\",\"0.8\\uff0d1.0\"],\"bottom\":[0,0,0,0,0,0,0,0,0,0],\"left\":{\"__ndarray__\":\"AAAAAAAA8L+amZmZmZnpvzMzMzMzM+O/mJmZmZmZ2b+YmZmZmZnJvwAAAAAAAAAAoJmZmZmZyT+cmZmZmZnZPzQzMzMzM+M/mpmZmZmZ6T8=\",\"dtype\":\"float64\",\"order\":\"little\",\"shape\":[10]},\"right\":{\"__ndarray__\":\"mpmZmZmZ6b8zMzMzMzPjv5iZmZmZmdm/mJmZmZmZyb8AAAAAAAAAAKCZmZmZmck/nJmZmZmZ2T80MzMzMzPjP5qZmZmZmek/AAAAAAAA8D8=\",\"dtype\":\"float64\",\"order\":\"little\",\"shape\":[10]},\"top\":[1468,2345,4176,2364,824,9718,3938,4158,1993,5960]},\"selected\":{\"id\":\"68139\"},\"selection_policy\":{\"id\":\"68138\"}},\"id\":\"68122\",\"type\":\"ColumnDataSource\"},{\"attributes\":{\"bottom\":{\"field\":\"bottom\"},\"fill_alpha\":{\"value\":0.2},\"fill_color\":{\"value\":\"#ff7f0e\"},\"hatch_alpha\":{\"value\":0.2},\"hatch_color\":{\"value\":\"#ff7f0e\"},\"left\":{\"field\":\"left\"},\"line_alpha\":{\"value\":0.2},\"line_color\":{\"value\":null},\"line_width\":{\"value\":2},\"right\":{\"field\":\"right\"},\"top\":{\"field\":\"top\"}},\"id\":\"68126\",\"type\":\"Quad\"},{\"attributes\":{},\"id\":\"68661\",\"type\":\"BasicTicker\"},{\"attributes\":{\"source\":{\"id\":\"68122\"}},\"id\":\"68128\",\"type\":\"CDSView\"},{\"attributes\":{\"bottom\":{\"field\":\"bottom\"},\"fill_alpha\":{\"value\":0.6},\"fill_color\":{\"value\":\"#2ca02c\"},\"hatch_alpha\":{\"value\":0.6},\"hatch_color\":{\"value\":\"#2ca02c\"},\"left\":{\"field\":\"left\"},\"line_alpha\":{\"value\":0.6},\"line_color\":{\"value\":null},\"line_width\":{\"value\":2},\"right\":{\"field\":\"right\"},\"top\":{\"field\":\"top\"}},\"id\":\"68144\",\"type\":\"Quad\"},{\"attributes\":{\"axis_label\":\"How many people have this sentiment\",\"coordinates\":null,\"formatter\":{\"id\":\"68687\"},\"group\":null,\"major_label_policy\":{\"id\":\"68688\"},\"ticker\":{\"id\":\"68661\"}},\"id\":\"68660\",\"type\":\"LinearAxis\"},{\"attributes\":{},\"id\":\"68139\",\"type\":\"Selection\"},{\"attributes\":{},\"id\":\"68112\",\"type\":\"BasicTickFormatter\"},{\"attributes\":{},\"id\":\"68650\",\"type\":\"DataRange1d\"},{\"attributes\":{\"bottom\":{\"field\":\"bottom\"},\"fill_alpha\":{\"value\":0.1},\"fill_color\":{\"value\":\"#ff7f0e\"},\"hatch_alpha\":{\"value\":0.1},\"hatch_color\":{\"value\":\"#ff7f0e\"},\"left\":{\"field\":\"left\"},\"line_alpha\":{\"value\":0.1},\"line_color\":{\"value\":null},\"line_width\":{\"value\":2},\"right\":{\"field\":\"right\"},\"top\":{\"field\":\"top\"}},\"id\":\"68700\",\"type\":\"Quad\"},{\"attributes\":{},\"id\":\"68138\",\"type\":\"UnionRenderers\"},{\"attributes\":{\"axis\":{\"id\":\"68660\"},\"coordinates\":null,\"dimension\":1,\"group\":null,\"ticker\":null},\"id\":\"68663\",\"type\":\"Grid\"},{\"attributes\":{},\"id\":\"68075\",\"type\":\"DataRange1d\"},{\"attributes\":{},\"id\":\"68113\",\"type\":\"AllLabels\"},{\"attributes\":{\"label\":{\"value\":\"older\"},\"renderers\":[{\"id\":\"68702\"}]},\"id\":\"68716\",\"type\":\"LegendItem\"},{\"attributes\":{\"coordinates\":null,\"data_source\":{\"id\":\"68697\"},\"glyph\":{\"id\":\"68699\"},\"group\":null,\"hover_glyph\":null,\"muted_glyph\":{\"id\":\"68701\"},\"nonselection_glyph\":{\"id\":\"68700\"},\"view\":{\"id\":\"68703\"}},\"id\":\"68702\",\"type\":\"GlyphRenderer\"},{\"attributes\":{},\"id\":\"68665\",\"type\":\"WheelZoomTool\"},{\"attributes\":{\"bottom\":{\"field\":\"bottom\"},\"fill_alpha\":{\"value\":0.2},\"fill_color\":{\"value\":\"#ff7f0e\"},\"hatch_alpha\":{\"value\":0.2},\"hatch_color\":{\"value\":\"#ff7f0e\"},\"left\":{\"field\":\"left\"},\"line_alpha\":{\"value\":0.2},\"line_color\":{\"value\":null},\"line_width\":{\"value\":2},\"right\":{\"field\":\"right\"},\"top\":{\"field\":\"top\"}},\"id\":\"68701\",\"type\":\"Quad\"},{\"attributes\":{},\"id\":\"68115\",\"type\":\"BasicTickFormatter\"},{\"attributes\":{},\"id\":\"68664\",\"type\":\"PanTool\"},{\"attributes\":{\"axis\":{\"id\":\"68081\"},\"coordinates\":null,\"group\":null,\"ticker\":null},\"id\":\"68084\",\"type\":\"Grid\"},{\"attributes\":{},\"id\":\"68669\",\"type\":\"HelpTool\"},{\"attributes\":{},\"id\":\"68073\",\"type\":\"DataRange1d\"},{\"attributes\":{},\"id\":\"68116\",\"type\":\"AllLabels\"},{\"attributes\":{\"overlay\":{\"id\":\"68670\"}},\"id\":\"68666\",\"type\":\"BoxZoomTool\"},{\"attributes\":{},\"id\":\"68648\",\"type\":\"DataRange1d\"},{\"attributes\":{\"source\":{\"id\":\"68697\"}},\"id\":\"68703\",\"type\":\"CDSView\"},{\"attributes\":{},\"id\":\"68667\",\"type\":\"SaveTool\"},{\"attributes\":{\"data\":{\"bins\":[\"-1.0\\uff0d-0.8\",\"-0.8\\uff0d-0.6\",\"-0.6\\uff0d-0.3999999999999999\",\"-0.3999999999999999\\uff0d-0.19999999999999996\",\"-0.19999999999999996\\uff0d0.0\",\"0.0\\uff0d0.20000000000000018\",\"0.20000000000000018\\uff0d0.40000000000000013\",\"0.40000000000000013\\uff0d0.6000000000000001\",\"0.6000000000000001\\uff0d0.8\",\"0.8\\uff0d1.0\"],\"bottom\":[0,0,0,0,0,0,0,0,0,0],\"left\":{\"__ndarray__\":\"AAAAAAAA8L+amZmZmZnpvzMzMzMzM+O/mJmZmZmZ2b+YmZmZmZnJvwAAAAAAAAAAoJmZmZmZyT+cmZmZmZnZPzQzMzMzM+M/mpmZmZmZ6T8=\",\"dtype\":\"float64\",\"order\":\"little\",\"shape\":[10]},\"right\":{\"__ndarray__\":\"mpmZmZmZ6b8zMzMzMzPjv5iZmZmZmdm/mJmZmZmZyb8AAAAAAAAAAKCZmZmZmck/nJmZmZmZ2T80MzMzMzPjP5qZmZmZmek/AAAAAAAA8D8=\",\"dtype\":\"float64\",\"order\":\"little\",\"shape\":[10]},\"top\":[1028,1900,3282,1968,694,7979,3389,3633,1890,5729]},\"selected\":{\"id\":\"68736\"},\"selection_policy\":{\"id\":\"68735\"}},\"id\":\"68717\",\"type\":\"ColumnDataSource\"},{\"attributes\":{},\"id\":\"68668\",\"type\":\"ResetTool\"},{\"attributes\":{},\"id\":\"68714\",\"type\":\"Selection\"},{\"attributes\":{},\"id\":\"68077\",\"type\":\"LinearScale\"},{\"attributes\":{\"bottom_units\":\"screen\",\"coordinates\":null,\"fill_alpha\":0.5,\"fill_color\":\"lightgrey\",\"group\":null,\"left_units\":\"screen\",\"level\":\"overlay\",\"line_alpha\":1.0,\"line_color\":\"black\",\"line_dash\":[4,4],\"line_width\":2,\"right_units\":\"screen\",\"syncable\":false,\"top_units\":\"screen\"},\"id\":\"68670\",\"type\":\"BoxAnnotation\"},{\"attributes\":{\"axis_label\":\"How many people have this sentiment\",\"coordinates\":null,\"formatter\":{\"id\":\"68112\"},\"group\":null,\"major_label_policy\":{\"id\":\"68113\"},\"ticker\":{\"id\":\"68086\"}},\"id\":\"68085\",\"type\":\"LinearAxis\"},{\"attributes\":{},\"id\":\"68713\",\"type\":\"UnionRenderers\"},{\"attributes\":{},\"id\":\"68079\",\"type\":\"LinearScale\"},{\"attributes\":{},\"id\":\"68086\",\"type\":\"BasicTicker\"},{\"attributes\":{\"coordinates\":null,\"formatter\":{\"id\":\"68115\"},\"group\":null,\"major_label_policy\":{\"id\":\"68116\"},\"ticker\":{\"id\":\"68164\"}},\"id\":\"68081\",\"type\":\"LinearAxis\"},{\"attributes\":{},\"id\":\"68117\",\"type\":\"UnionRenderers\"},{\"attributes\":{\"below\":[{\"id\":\"68656\"}],\"center\":[{\"id\":\"68659\"},{\"id\":\"68663\"},{\"id\":\"68695\"}],\"height\":260,\"left\":[{\"id\":\"68660\"}],\"output_backend\":\"webgl\",\"renderers\":[{\"id\":\"68683\"},{\"id\":\"68702\"},{\"id\":\"68722\"}],\"sizing_mode\":\"fixed\",\"title\":{\"id\":\"68646\"},\"toolbar\":{\"id\":\"68671\"},\"toolbar_location\":null,\"width\":400,\"x_range\":{\"id\":\"68648\"},\"x_scale\":{\"id\":\"68652\"},\"y_range\":{\"id\":\"68650\"},\"y_scale\":{\"id\":\"68654\"}},\"id\":\"68645\",\"subtype\":\"Figure\",\"type\":\"Plot\"},{\"attributes\":{\"children\":[[{\"id\":\"68070\"},0,0],[{\"id\":\"68645\"},0,1]]},\"id\":\"69261\",\"type\":\"GridBox\"},{\"attributes\":{},\"id\":\"68118\",\"type\":\"Selection\"},{\"attributes\":{\"below\":[{\"id\":\"68081\"}],\"center\":[{\"id\":\"68084\"},{\"id\":\"68088\"},{\"id\":\"68120\"}],\"height\":260,\"left\":[{\"id\":\"68085\"}],\"output_backend\":\"webgl\",\"renderers\":[{\"id\":\"68108\"},{\"id\":\"68127\"},{\"id\":\"68147\"}],\"sizing_mode\":\"fixed\",\"title\":{\"id\":\"68071\"},\"toolbar\":{\"id\":\"68096\"},\"toolbar_location\":null,\"width\":400,\"x_range\":{\"id\":\"68073\"},\"x_scale\":{\"id\":\"68077\"},\"y_range\":{\"id\":\"68075\"},\"y_scale\":{\"id\":\"68079\"}},\"id\":\"68070\",\"subtype\":\"Figure\",\"type\":\"Plot\"},{\"attributes\":{\"active_scroll\":{\"id\":\"68090\"},\"tools\":[{\"id\":\"68089\"},{\"id\":\"68090\"},{\"id\":\"68091\"},{\"id\":\"68092\"},{\"id\":\"68093\"},{\"id\":\"68094\"}]},\"id\":\"68096\",\"type\":\"Toolbar\"},{\"attributes\":{\"active_scroll\":{\"id\":\"68665\"},\"tools\":[{\"id\":\"68664\"},{\"id\":\"68665\"},{\"id\":\"68666\"},{\"id\":\"68667\"},{\"id\":\"68668\"},{\"id\":\"68669\"}]},\"id\":\"68671\",\"type\":\"Toolbar\"},{\"attributes\":{\"coordinates\":null,\"group\":null,\"text\":\"Sentiment distribution by genders\"},\"id\":\"68071\",\"type\":\"Title\"},{\"attributes\":{\"bottom\":{\"field\":\"bottom\"},\"fill_alpha\":{\"value\":0.6},\"fill_color\":{\"value\":\"#ff7f0e\"},\"hatch_alpha\":{\"value\":0.6},\"hatch_color\":{\"value\":\"#ff7f0e\"},\"left\":{\"field\":\"left\"},\"line_alpha\":{\"value\":0.6},\"line_color\":{\"value\":null},\"line_width\":{\"value\":2},\"right\":{\"field\":\"right\"},\"top\":{\"field\":\"top\"}},\"id\":\"68699\",\"type\":\"Quad\"},{\"attributes\":{\"bottom\":{\"field\":\"bottom\"},\"fill_alpha\":{\"value\":0.1},\"fill_color\":{\"value\":\"#2ca02c\"},\"hatch_alpha\":{\"value\":0.1},\"hatch_color\":{\"value\":\"#2ca02c\"},\"left\":{\"field\":\"left\"},\"line_alpha\":{\"value\":0.1},\"line_color\":{\"value\":null},\"line_width\":{\"value\":2},\"right\":{\"field\":\"right\"},\"top\":{\"field\":\"top\"}},\"id\":\"68145\",\"type\":\"Quad\"},{\"attributes\":{\"coordinates\":null,\"data_source\":{\"id\":\"68142\"},\"glyph\":{\"id\":\"68144\"},\"group\":null,\"hover_glyph\":null,\"muted_glyph\":{\"id\":\"68146\"},\"nonselection_glyph\":{\"id\":\"68145\"},\"view\":{\"id\":\"68148\"}},\"id\":\"68147\",\"type\":\"GlyphRenderer\"},{\"attributes\":{\"data\":{\"bins\":[\"-1.0\\uff0d-0.8\",\"-0.8\\uff0d-0.6\",\"-0.6\\uff0d-0.3999999999999999\",\"-0.3999999999999999\\uff0d-0.19999999999999996\",\"-0.19999999999999996\\uff0d0.0\",\"0.0\\uff0d0.20000000000000018\",\"0.20000000000000018\\uff0d0.40000000000000013\",\"0.40000000000000013\\uff0d0.6000000000000001\",\"0.6000000000000001\\uff0d0.8\",\"0.8\\uff0d1.0\"],\"bottom\":[0,0,0,0,0,0,0,0,0,0],\"left\":{\"__ndarray__\":\"AAAAAAAA8L+amZmZmZnpvzMzMzMzM+O/mJmZmZmZ2b+YmZmZmZnJvwAAAAAAAAAAoJmZmZmZyT+cmZmZmZnZPzQzMzMzM+M/mpmZmZmZ6T8=\",\"dtype\":\"float64\",\"order\":\"little\",\"shape\":[10]},\"right\":{\"__ndarray__\":\"mpmZmZmZ6b8zMzMzMzPjv5iZmZmZmdm/mJmZmZmZyb8AAAAAAAAAAKCZmZmZmck/nJmZmZmZ2T80MzMzMzPjP5qZmZmZmek/AAAAAAAA8D8=\",\"dtype\":\"float64\",\"order\":\"little\",\"shape\":[10]},\"top\":[221,367,666,372,123,1560,703,688,345,989]},\"selected\":{\"id\":\"68161\"},\"selection_policy\":{\"id\":\"68160\"}},\"id\":\"68142\",\"type\":\"ColumnDataSource\"},{\"attributes\":{\"bottom\":{\"field\":\"bottom\"},\"fill_alpha\":{\"value\":0.2},\"fill_color\":{\"value\":\"#2ca02c\"},\"hatch_alpha\":{\"value\":0.2},\"hatch_color\":{\"value\":\"#2ca02c\"},\"left\":{\"field\":\"left\"},\"line_alpha\":{\"value\":0.2},\"line_color\":{\"value\":null},\"line_width\":{\"value\":2},\"right\":{\"field\":\"right\"},\"top\":{\"field\":\"top\"}},\"id\":\"68146\",\"type\":\"Quad\"},{\"attributes\":{\"source\":{\"id\":\"68142\"}},\"id\":\"68148\",\"type\":\"CDSView\"},{\"attributes\":{\"label\":{\"value\":\"other\"},\"renderers\":[{\"id\":\"68147\"}]},\"id\":\"68163\",\"type\":\"LegendItem\"}],\"root_ids\":[\"69264\"]},\"title\":\"Bokeh Application\",\"version\":\"2.4.2\"}};\n  const render_items = [{\"docid\":\"8bcf06e6-c5f0-438e-adbc-2c6d498924e4\",\"root_ids\":[\"69264\"],\"roots\":{\"69264\":\"644c2532-5546-4697-a535-3dccb9a5e600\"}}];\n  root.Bokeh.embed.embed_items_notebook(docs_json, render_items);\n\n  }\n  if (root.Bokeh !== undefined) {\n    embed_document(root);\n  } else {\n    let attempts = 0;\n    const timer = setInterval(function(root) {\n      if (root.Bokeh !== undefined) {\n        clearInterval(timer);\n        embed_document(root);\n      } else {\n        attempts++;\n        if (attempts > 100) {\n          clearInterval(timer);\n          console.log(\"Bokeh: ERROR: Unable to run BokehJS code because BokehJS library is missing\");\n        }\n      }\n    }, 10, root)\n  }\n})(window);",
      "application/vnd.bokehjs_exec.v0+json": ""
     },
     "metadata": {
      "application/vnd.bokehjs_exec.v0+json": {
       "id": "69264"
      }
     },
     "output_type": "display_data"
    }
   ],
   "source": [
    "data.gender[~data.gender.isin([\"male\", \"female\"])] = \"other\"\n",
    "new_data = pd.DataFrame({gender: data[data.gender == gender][\"round_\"] for gender in [\"male\", \"female\", \"other\"]})\n",
    "p_stacked_bar = new_data.plot_bokeh.hist(\n",
    "    ylabel=\"How many people have this sentiment\",\n",
    "    title=\"Sentiment distribution by genders\",\n",
    "    hovertool=False,\n",
    "    alpha=0.6)\n",
    "new_data = pd.DataFrame({\"boomers\": data[(data.age >= 40) & (data.age <= 60)][\"round_\"], \"older\": data[data.age > 60][\"round_\"], \"younger\": data[data.age < 40][\"round_\"]})\n",
    "p_bar = new_data.plot_bokeh.hist(\n",
    "    ylabel=\"How many people have this sentiment\",\n",
    "    title=\"Sentiment distribution by age\",\n",
    "    hovertool=False,\n",
    "    alpha=0.6)\n",
    "html = pandas_bokeh.plot_grid([[p_stacked_bar, p_bar]], plot_width=400, plot_height=260, return_html=True)\n",
    "with open(\"gender_age.html\" , \"w\") as f:\n",
    "    f.write(html)"
   ],
   "metadata": {
    "collapsed": false,
    "pycharm": {
     "name": "#%%\n"
    }
   }
  },
  {
   "cell_type": "markdown",
   "source": [
    "## Average portrait of social groups"
   ],
   "metadata": {
    "collapsed": false,
    "pycharm": {
     "name": "#%% md\n"
    }
   },
   "execution_count": 160
  },
  {
   "cell_type": "code",
   "execution_count": 225,
   "outputs": [
    {
     "data": {
      "text/plain": "nationality               occupation               age\nUnited States of America  politician               37     531\n                                                   57     439\n                                                   59     438\n                                                   62     406\n                                                   69     405\n                                                   68     404\n                                                   45     399\n                                                   60     396\n                                                   58     376\n                          LGBTIQ+ rights activist  46     364\n                          politician               63     362\n                                                   53     345\n                                                   61     339\n                                                   54     339\n                                                   50     326\n                          actor                    31     321\n                          politician               56     318\n                                                   49     317\n                                                   55     316\n                          actor                    34     307\n                          politician               71     306\n                                                   52     286\n                          LGBTIQ+ rights activist  47     283\n                          politician               38     280\n                          actor                    33     278\n                          politician               70     277\n                          LGBTIQ+ rights activist  48     272\n                          actor                    29     266\n                          politician               78     265\n                                                   77     263\n                                                   46     256\n                          actor                    30     252\n                                                   32     252\n                          politician               74     252\n                                                   75     246\nAustralia                 LGBTIQ+ rights activist  51     238\nUnited States of America  politician               51     238\n                                                   65     237\n                                                   44     233\n                          business magnate         70     232\nAustralia                 politician               50     229\nUnited States of America  politician               72     228\n                                                   67     226\n                          journalist               52     225\n                          actor                    35     218\n                          film producer            45     217\n                                                   44     217\n                          politician               48     216\n                          actor                    57     215\n                          politician               64     213\ndtype: int64"
     },
     "execution_count": 225,
     "metadata": {},
     "output_type": "execute_result"
    }
   ],
   "source": [
    "data[data[\"round\"] >= 0.8][[\"nationality\", \"occupation\", \"age\"]].value_counts()[:30]"
   ],
   "metadata": {
    "collapsed": false,
    "pycharm": {
     "name": "#%%\n"
    }
   }
  },
  {
   "cell_type": "code",
   "execution_count": 298,
   "outputs": [
    {
     "data": {
      "text/plain": "politician              24408\nactor                   11572\njournalist               6400\nwriter                   4718\nlawyer                   3579\n                        ...  \nsledge hockey player        1\nagronomist                  1\nkickboxer                   1\ndiscus thrower              1\ncountry singer              1\nName: occupation, Length: 659, dtype: int64"
     },
     "execution_count": 298,
     "metadata": {},
     "output_type": "execute_result"
    }
   ],
   "source": [
    "data.occupation.value_counts()"
   ],
   "metadata": {
    "collapsed": false,
    "pycharm": {
     "name": "#%%\n"
    }
   }
  },
  {
   "cell_type": "code",
   "execution_count": 302,
   "outputs": [
    {
     "data": {
      "text/plain": "KruskalResult(statistic=579.0185026698815, pvalue=5.381330338139509e-124)"
     },
     "execution_count": 302,
     "metadata": {},
     "output_type": "execute_result"
    }
   ],
   "source": [
    "from scipy import stats\n",
    "data_dict = {occ: data[data.occupation == occ][\"round\"] for occ in [\"politician\", \"actor\", \"journalist\", \"lawyer\", \"writer\"]}\n",
    "stats.mstats.kruskalwallis(*[data_dict[col].values for col in data_dict.keys()])"
   ],
   "metadata": {
    "collapsed": false,
    "pycharm": {
     "name": "#%%\n"
    }
   }
  },
  {
   "cell_type": "code",
   "execution_count": null,
   "outputs": [],
   "source": [],
   "metadata": {
    "collapsed": false,
    "pycharm": {
     "name": "#%%\n"
    }
   }
  }
 ],
 "metadata": {
  "kernelspec": {
   "display_name": "Python 3",
   "language": "python",
   "name": "python3"
  },
  "language_info": {
   "codemirror_mode": {
    "name": "ipython",
    "version": 2
   },
   "file_extension": ".py",
   "mimetype": "text/x-python",
   "name": "python",
   "nbconvert_exporter": "python",
   "pygments_lexer": "ipython2",
   "version": "2.7.6"
  }
 },
 "nbformat": 4,
 "nbformat_minor": 0
}